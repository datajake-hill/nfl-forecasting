{
 "cells": [
  {
   "cell_type": "code",
   "execution_count": 69,
   "metadata": {},
   "outputs": [],
   "source": [
    "%matplotlib inline\n",
    "# https://scikit-learn.org/stable/supervised_learning.html\n",
    "import pandas as pd\n",
    "import numpy as np\n",
    "import matplotlib.pyplot as plt\n",
    "import math\n",
    "from datetime import datetime, timedelta, time\n",
    "import calendar\n",
    "\n",
    "pd.set_option('display.max_columns', None)\n",
    "\n",
    "import warnings\n",
    "warnings.filterwarnings('ignore')"
   ]
  },
  {
   "cell_type": "code",
   "execution_count": 72,
   "metadata": {},
   "outputs": [
    {
     "data": {
      "text/html": [
       "<div>\n",
       "<style scoped>\n",
       "    .dataframe tbody tr th:only-of-type {\n",
       "        vertical-align: middle;\n",
       "    }\n",
       "\n",
       "    .dataframe tbody tr th {\n",
       "        vertical-align: top;\n",
       "    }\n",
       "\n",
       "    .dataframe thead th {\n",
       "        text-align: right;\n",
       "    }\n",
       "</style>\n",
       "<table border=\"1\" class=\"dataframe\">\n",
       "  <thead>\n",
       "    <tr style=\"text-align: right;\">\n",
       "      <th></th>\n",
       "      <th>gamenum</th>\n",
       "      <th>Team</th>\n",
       "      <th>Opposing Team</th>\n",
       "      <th>Season</th>\n",
       "      <th>Week</th>\n",
       "      <th>Date</th>\n",
       "      <th>Time</th>\n",
       "      <th>H/A</th>\n",
       "      <th>W/L</th>\n",
       "      <th>PA</th>\n",
       "      <th>PF</th>\n",
       "      <th>OVR</th>\n",
       "      <th>OFF</th>\n",
       "      <th>PASS</th>\n",
       "      <th>PBLK</th>\n",
       "      <th>RECV</th>\n",
       "      <th>RUN</th>\n",
       "      <th>RBLK</th>\n",
       "      <th>DEF</th>\n",
       "      <th>RDEF</th>\n",
       "      <th>TACK</th>\n",
       "      <th>PRSH</th>\n",
       "      <th>COV</th>\n",
       "      <th>SPEC</th>\n",
       "      <th>OVR_opp</th>\n",
       "      <th>OFF_opp</th>\n",
       "      <th>PASS_opp</th>\n",
       "      <th>PBLK_opp</th>\n",
       "      <th>RECV_opp</th>\n",
       "      <th>RUN_opp</th>\n",
       "      <th>RBLK_opp</th>\n",
       "      <th>DEF_opp</th>\n",
       "      <th>RDEF_opp</th>\n",
       "      <th>TACK_opp</th>\n",
       "      <th>PRSH_opp</th>\n",
       "      <th>COV_opp</th>\n",
       "      <th>SPEC_opp</th>\n",
       "    </tr>\n",
       "    <tr>\n",
       "      <th>game_id</th>\n",
       "      <th></th>\n",
       "      <th></th>\n",
       "      <th></th>\n",
       "      <th></th>\n",
       "      <th></th>\n",
       "      <th></th>\n",
       "      <th></th>\n",
       "      <th></th>\n",
       "      <th></th>\n",
       "      <th></th>\n",
       "      <th></th>\n",
       "      <th></th>\n",
       "      <th></th>\n",
       "      <th></th>\n",
       "      <th></th>\n",
       "      <th></th>\n",
       "      <th></th>\n",
       "      <th></th>\n",
       "      <th></th>\n",
       "      <th></th>\n",
       "      <th></th>\n",
       "      <th></th>\n",
       "      <th></th>\n",
       "      <th></th>\n",
       "      <th></th>\n",
       "      <th></th>\n",
       "      <th></th>\n",
       "      <th></th>\n",
       "      <th></th>\n",
       "      <th></th>\n",
       "      <th></th>\n",
       "      <th></th>\n",
       "      <th></th>\n",
       "      <th></th>\n",
       "      <th></th>\n",
       "      <th></th>\n",
       "      <th></th>\n",
       "    </tr>\n",
       "  </thead>\n",
       "  <tbody>\n",
       "    <tr>\n",
       "      <td>7166</td>\n",
       "      <td>3583</td>\n",
       "      <td>San Francisco 49Ers</td>\n",
       "      <td>Seattle Seahawks</td>\n",
       "      <td>2019</td>\n",
       "      <td>17</td>\n",
       "      <td>2019-12-29</td>\n",
       "      <td>8:20pm</td>\n",
       "      <td>A</td>\n",
       "      <td>W</td>\n",
       "      <td>21</td>\n",
       "      <td>26</td>\n",
       "      <td>79.9</td>\n",
       "      <td>88.9</td>\n",
       "      <td>88.3</td>\n",
       "      <td>81.6</td>\n",
       "      <td>84.6</td>\n",
       "      <td>72.2</td>\n",
       "      <td>69.2</td>\n",
       "      <td>64.7</td>\n",
       "      <td>65.6</td>\n",
       "      <td>66.5</td>\n",
       "      <td>58.7</td>\n",
       "      <td>65.5</td>\n",
       "      <td>56.3</td>\n",
       "      <td>60.3</td>\n",
       "      <td>70.3</td>\n",
       "      <td>67.1</td>\n",
       "      <td>76.2</td>\n",
       "      <td>67.5</td>\n",
       "      <td>58.9</td>\n",
       "      <td>68.1</td>\n",
       "      <td>39.7</td>\n",
       "      <td>37.0</td>\n",
       "      <td>26.6</td>\n",
       "      <td>61.1</td>\n",
       "      <td>42.6</td>\n",
       "      <td>66.9</td>\n",
       "    </tr>\n",
       "    <tr>\n",
       "      <td>7167</td>\n",
       "      <td>3583</td>\n",
       "      <td>Seattle Seahawks</td>\n",
       "      <td>San Francisco 49Ers</td>\n",
       "      <td>2019</td>\n",
       "      <td>17</td>\n",
       "      <td>2019-12-29</td>\n",
       "      <td>8:20pm</td>\n",
       "      <td>H</td>\n",
       "      <td>L</td>\n",
       "      <td>26</td>\n",
       "      <td>21</td>\n",
       "      <td>60.3</td>\n",
       "      <td>70.3</td>\n",
       "      <td>67.1</td>\n",
       "      <td>76.2</td>\n",
       "      <td>67.5</td>\n",
       "      <td>58.9</td>\n",
       "      <td>68.1</td>\n",
       "      <td>39.7</td>\n",
       "      <td>37.0</td>\n",
       "      <td>26.6</td>\n",
       "      <td>61.1</td>\n",
       "      <td>42.6</td>\n",
       "      <td>66.9</td>\n",
       "      <td>79.9</td>\n",
       "      <td>88.9</td>\n",
       "      <td>88.3</td>\n",
       "      <td>81.6</td>\n",
       "      <td>84.6</td>\n",
       "      <td>72.2</td>\n",
       "      <td>69.2</td>\n",
       "      <td>64.7</td>\n",
       "      <td>65.6</td>\n",
       "      <td>66.5</td>\n",
       "      <td>58.7</td>\n",
       "      <td>65.5</td>\n",
       "      <td>56.3</td>\n",
       "    </tr>\n",
       "  </tbody>\n",
       "</table>\n",
       "</div>"
      ],
      "text/plain": [
       "         gamenum                 Team        Opposing Team  Season  Week  \\\n",
       "game_id                                                                    \n",
       "7166        3583  San Francisco 49Ers     Seattle Seahawks    2019    17   \n",
       "7167        3583     Seattle Seahawks  San Francisco 49Ers    2019    17   \n",
       "\n",
       "               Date    Time H/A W/L  PA  PF   OVR   OFF  PASS  PBLK  RECV  \\\n",
       "game_id                                                                     \n",
       "7166     2019-12-29  8:20pm   A   W  21  26  79.9  88.9  88.3  81.6  84.6   \n",
       "7167     2019-12-29  8:20pm   H   L  26  21  60.3  70.3  67.1  76.2  67.5   \n",
       "\n",
       "          RUN  RBLK   DEF  RDEF  TACK  PRSH   COV  SPEC  OVR_opp  OFF_opp  \\\n",
       "game_id                                                                     \n",
       "7166     72.2  69.2  64.7  65.6  66.5  58.7  65.5  56.3     60.3     70.3   \n",
       "7167     58.9  68.1  39.7  37.0  26.6  61.1  42.6  66.9     79.9     88.9   \n",
       "\n",
       "         PASS_opp  PBLK_opp  RECV_opp  RUN_opp  RBLK_opp  DEF_opp  RDEF_opp  \\\n",
       "game_id                                                                       \n",
       "7166         67.1      76.2      67.5     58.9      68.1     39.7      37.0   \n",
       "7167         88.3      81.6      84.6     72.2      69.2     64.7      65.6   \n",
       "\n",
       "         TACK_opp  PRSH_opp  COV_opp SPEC_opp  \n",
       "game_id                                        \n",
       "7166         26.6      61.1     42.6     66.9  \n",
       "7167         66.5      58.7     65.5     56.3  "
      ]
     },
     "execution_count": 72,
     "metadata": {},
     "output_type": "execute_result"
    }
   ],
   "source": [
    "pff = pd.read_csv('pff_pi.csv', index_col=0)\n",
    "pff = pff.reset_index().drop(columns='index').reset_index().rename(columns={'index':'game_id'}).set_index('game_id')\n",
    "pff = pff[['gamenum','Team', 'Opposing Team', 'Season', 'Week', 'Date', 'Time', 'H/A', 'W/L',\n",
    "       'PA', 'PF', 'OVR', 'OFF', 'PASS', 'PBLK', 'RECV', 'RUN', 'RBLK', 'DEF',\n",
    "       'RDEF', 'TACK', 'PRSH', 'COV', 'SPEC', 'OVR_opp', 'OFF_opp', 'PASS_opp',\n",
    "       'PBLK_opp', 'RECV_opp', 'RUN_opp', 'RBLK_opp', 'DEF_opp', 'RDEF_opp',\n",
    "       'TACK_opp', 'PRSH_opp', 'COV_opp', 'SPEC_opp']]\n",
    "# pff.iloc[:,9:].drop(columns=['SPEC','SPEC_opp'])\n",
    "pff.tail(2)"
   ]
  },
  {
   "cell_type": "code",
   "execution_count": 90,
   "metadata": {},
   "outputs": [],
   "source": [
    "%timeit \n",
    "s = pff['Date']\n",
    "pff['Date'] = pd.to_datetime(s, infer_datetime_format=True)  "
   ]
  },
  {
   "cell_type": "code",
   "execution_count": 109,
   "metadata": {},
   "outputs": [],
   "source": [
    "# master_df = pff.copy()\n",
    "df = pff.copy()"
   ]
  },
  {
   "cell_type": "code",
   "execution_count": 92,
   "metadata": {},
   "outputs": [],
   "source": [
    "teams = master_df['Team'].unique()"
   ]
  },
  {
   "cell_type": "markdown",
   "metadata": {},
   "source": [
    "Regression loop"
   ]
  },
  {
   "cell_type": "code",
   "execution_count": 136,
   "metadata": {},
   "outputs": [],
   "source": [
    "from sklearn.model_selection import train_test_split\n",
    "from sklearn.linear_model import LinearRegression, LassoLars\n",
    "from sklearn.ensemble import GradientBoostingRegressor\n",
    "from sklearn.model_selection import GridSearchCV"
   ]
  },
  {
   "cell_type": "code",
   "execution_count": 138,
   "metadata": {},
   "outputs": [],
   "source": [
    "lars_params = {'alpha':[int(x) for x in np.linspace(start = 0.01, stop = 1.0, num = 20)]}\n",
    "\n",
    "gbr_params = {'loss': ['ls','huber'],\n",
    "                  'learning_rate': [0.001,0.005, 0.01, 0.05, 0.1, 0.15, 0.2, 0.3, 0.4, 0.5, 0.6],\n",
    "                  'max_depth': [int(x) for x in np.linspace(start = 2, stop = 10, num = 5)],\n",
    "                  'n_estimators': [int(x) for x in np.linspace(start = 2, stop = 10, num = 5)]}"
   ]
  },
  {
   "cell_type": "code",
   "execution_count": 139,
   "metadata": {},
   "outputs": [
    {
     "name": "stdout",
     "output_type": "stream",
     "text": [
      "0 Miami Dolphins: 2012-09-01 00:00:00\n",
      "Fitting 5 folds for each of 550 candidates, totalling 2750 fits\n"
     ]
    },
    {
     "name": "stderr",
     "output_type": "stream",
     "text": [
      "[Parallel(n_jobs=-1)]: Using backend LokyBackend with 8 concurrent workers.\n",
      "[Parallel(n_jobs=-1)]: Done  16 tasks      | elapsed:    4.7s\n",
      "[Parallel(n_jobs=-1)]: Done 1114 tasks      | elapsed:    8.9s\n",
      "[Parallel(n_jobs=-1)]: Done 2750 out of 2750 | elapsed:   15.4s finished\n",
      "[Parallel(n_jobs=-1)]: Using backend LokyBackend with 8 concurrent workers.\n"
     ]
    },
    {
     "name": "stdout",
     "output_type": "stream",
     "text": [
      "alpha: {'learning_rate': 0.15, 'loss': 'ls', 'max_depth': 2, 'n_estimators': 8}\n",
      "0 Miami Dolphins: 2012-10-01 00:00:00\n",
      "Fitting 5 folds for each of 550 candidates, totalling 2750 fits\n"
     ]
    },
    {
     "name": "stderr",
     "output_type": "stream",
     "text": [
      "[Parallel(n_jobs=-1)]: Done  16 tasks      | elapsed:    0.2s\n",
      "[Parallel(n_jobs=-1)]: Done 2750 out of 2750 | elapsed:   12.7s finished\n",
      "[Parallel(n_jobs=-1)]: Using backend LokyBackend with 8 concurrent workers.\n"
     ]
    },
    {
     "name": "stdout",
     "output_type": "stream",
     "text": [
      "alpha: {'learning_rate': 0.5, 'loss': 'ls', 'max_depth': 2, 'n_estimators': 4}\n",
      "0 Miami Dolphins: 2012-11-01 00:00:00\n",
      "Fitting 5 folds for each of 550 candidates, totalling 2750 fits\n"
     ]
    },
    {
     "name": "stderr",
     "output_type": "stream",
     "text": [
      "[Parallel(n_jobs=-1)]: Done  16 tasks      | elapsed:    0.2s\n",
      "[Parallel(n_jobs=-1)]: Done 1745 tasks      | elapsed:    8.6s\n",
      "[Parallel(n_jobs=-1)]: Done 2750 out of 2750 | elapsed:   13.7s finished\n",
      "[Parallel(n_jobs=-1)]: Using backend LokyBackend with 8 concurrent workers.\n"
     ]
    },
    {
     "name": "stdout",
     "output_type": "stream",
     "text": [
      "alpha: {'learning_rate': 0.2, 'loss': 'ls', 'max_depth': 2, 'n_estimators': 6}\n",
      "0 Miami Dolphins: 2012-12-01 00:00:00\n",
      "Fitting 5 folds for each of 550 candidates, totalling 2750 fits\n"
     ]
    },
    {
     "name": "stderr",
     "output_type": "stream",
     "text": [
      "[Parallel(n_jobs=-1)]: Done  16 tasks      | elapsed:    0.2s\n",
      "[Parallel(n_jobs=-1)]: Done 2044 tasks      | elapsed:    9.4s\n",
      "[Parallel(n_jobs=-1)]: Done 2750 out of 2750 | elapsed:   13.0s finished\n",
      "[Parallel(n_jobs=-1)]: Using backend LokyBackend with 8 concurrent workers.\n"
     ]
    },
    {
     "name": "stdout",
     "output_type": "stream",
     "text": [
      "alpha: {'learning_rate': 0.3, 'loss': 'huber', 'max_depth': 2, 'n_estimators': 4}\n",
      "0 Miami Dolphins: 2013-09-01 00:00:00\n",
      "Fitting 5 folds for each of 550 candidates, totalling 2750 fits\n"
     ]
    },
    {
     "name": "stderr",
     "output_type": "stream",
     "text": [
      "[Parallel(n_jobs=-1)]: Done  16 tasks      | elapsed:    0.2s\n",
      "[Parallel(n_jobs=-1)]: Done 1784 tasks      | elapsed:    9.4s\n",
      "[Parallel(n_jobs=-1)]: Done 2750 out of 2750 | elapsed:   14.5s finished\n",
      "[Parallel(n_jobs=-1)]: Using backend LokyBackend with 8 concurrent workers.\n"
     ]
    },
    {
     "name": "stdout",
     "output_type": "stream",
     "text": [
      "alpha: {'learning_rate': 0.4, 'loss': 'huber', 'max_depth': 2, 'n_estimators': 2}\n",
      "0 Miami Dolphins: 2013-10-01 00:00:00\n",
      "Fitting 5 folds for each of 550 candidates, totalling 2750 fits\n"
     ]
    },
    {
     "name": "stderr",
     "output_type": "stream",
     "text": [
      "[Parallel(n_jobs=-1)]: Done  16 tasks      | elapsed:    0.2s\n",
      "[Parallel(n_jobs=-1)]: Done 1616 tasks      | elapsed:   11.5s\n",
      "[Parallel(n_jobs=-1)]: Done 2590 tasks      | elapsed:   17.0s\n",
      "[Parallel(n_jobs=-1)]: Done 2750 out of 2750 | elapsed:   18.1s finished\n",
      "[Parallel(n_jobs=-1)]: Using backend LokyBackend with 8 concurrent workers.\n"
     ]
    },
    {
     "name": "stdout",
     "output_type": "stream",
     "text": [
      "alpha: {'learning_rate': 0.2, 'loss': 'huber', 'max_depth': 2, 'n_estimators': 4}\n",
      "0 Miami Dolphins: 2013-11-01 00:00:00\n",
      "Fitting 5 folds for each of 550 candidates, totalling 2750 fits\n"
     ]
    },
    {
     "name": "stderr",
     "output_type": "stream",
     "text": [
      "[Parallel(n_jobs=-1)]: Done  16 tasks      | elapsed:    0.2s\n",
      "[Parallel(n_jobs=-1)]: Done 2128 tasks      | elapsed:   10.4s\n",
      "[Parallel(n_jobs=-1)]: Done 2750 out of 2750 | elapsed:   13.8s finished\n",
      "[Parallel(n_jobs=-1)]: Using backend LokyBackend with 8 concurrent workers.\n"
     ]
    },
    {
     "name": "stdout",
     "output_type": "stream",
     "text": [
      "alpha: {'learning_rate': 0.4, 'loss': 'huber', 'max_depth': 4, 'n_estimators': 4}\n",
      "0 Miami Dolphins: 2013-12-01 00:00:00\n",
      "Fitting 5 folds for each of 550 candidates, totalling 2750 fits\n"
     ]
    },
    {
     "name": "stderr",
     "output_type": "stream",
     "text": [
      "[Parallel(n_jobs=-1)]: Done  16 tasks      | elapsed:    0.2s\n",
      "[Parallel(n_jobs=-1)]: Done 1745 tasks      | elapsed:    8.9s\n",
      "[Parallel(n_jobs=-1)]: Done 2750 out of 2750 | elapsed:   14.3s finished\n",
      "[Parallel(n_jobs=-1)]: Using backend LokyBackend with 8 concurrent workers.\n"
     ]
    },
    {
     "name": "stdout",
     "output_type": "stream",
     "text": [
      "alpha: {'learning_rate': 0.2, 'loss': 'ls', 'max_depth': 2, 'n_estimators': 8}\n",
      "0 Miami Dolphins: 2014-09-01 00:00:00\n",
      "Fitting 5 folds for each of 550 candidates, totalling 2750 fits\n"
     ]
    },
    {
     "name": "stderr",
     "output_type": "stream",
     "text": [
      "[Parallel(n_jobs=-1)]: Done  16 tasks      | elapsed:    0.1s\n",
      "[Parallel(n_jobs=-1)]: Done 1648 tasks      | elapsed:    8.4s\n",
      "[Parallel(n_jobs=-1)]: Done 2750 out of 2750 | elapsed:   14.7s finished\n",
      "[Parallel(n_jobs=-1)]: Using backend LokyBackend with 8 concurrent workers.\n"
     ]
    },
    {
     "name": "stdout",
     "output_type": "stream",
     "text": [
      "alpha: {'learning_rate': 0.4, 'loss': 'ls', 'max_depth': 2, 'n_estimators': 8}\n",
      "0 Miami Dolphins: 2014-10-01 00:00:00\n",
      "Fitting 5 folds for each of 550 candidates, totalling 2750 fits\n"
     ]
    },
    {
     "name": "stderr",
     "output_type": "stream",
     "text": [
      "[Parallel(n_jobs=-1)]: Done  16 tasks      | elapsed:    0.2s\n",
      "[Parallel(n_jobs=-1)]: Done 1864 tasks      | elapsed:    9.6s\n",
      "[Parallel(n_jobs=-1)]: Done 2750 out of 2750 | elapsed:   14.9s finished\n",
      "[Parallel(n_jobs=-1)]: Using backend LokyBackend with 8 concurrent workers.\n"
     ]
    },
    {
     "name": "stdout",
     "output_type": "stream",
     "text": [
      "alpha: {'learning_rate': 0.4, 'loss': 'huber', 'max_depth': 2, 'n_estimators': 6}\n",
      "0 Miami Dolphins: 2014-11-01 00:00:00\n",
      "Fitting 5 folds for each of 550 candidates, totalling 2750 fits\n"
     ]
    },
    {
     "name": "stderr",
     "output_type": "stream",
     "text": [
      "[Parallel(n_jobs=-1)]: Done  16 tasks      | elapsed:    0.2s\n",
      "[Parallel(n_jobs=-1)]: Done 1660 tasks      | elapsed:    8.7s\n",
      "[Parallel(n_jobs=-1)]: Done 2750 out of 2750 | elapsed:   15.4s finished\n",
      "[Parallel(n_jobs=-1)]: Using backend LokyBackend with 8 concurrent workers.\n"
     ]
    },
    {
     "name": "stdout",
     "output_type": "stream",
     "text": [
      "alpha: {'learning_rate': 0.6, 'loss': 'huber', 'max_depth': 2, 'n_estimators': 4}\n",
      "0 Miami Dolphins: 2014-12-01 00:00:00\n",
      "Fitting 5 folds for each of 550 candidates, totalling 2750 fits\n"
     ]
    },
    {
     "name": "stderr",
     "output_type": "stream",
     "text": [
      "[Parallel(n_jobs=-1)]: Done  16 tasks      | elapsed:    0.2s\n",
      "[Parallel(n_jobs=-1)]: Done 1567 tasks      | elapsed:    7.9s\n",
      "[Parallel(n_jobs=-1)]: Done 2750 out of 2750 | elapsed:   14.1s finished\n",
      "[Parallel(n_jobs=-1)]: Using backend LokyBackend with 8 concurrent workers.\n"
     ]
    },
    {
     "name": "stdout",
     "output_type": "stream",
     "text": [
      "alpha: {'learning_rate': 0.3, 'loss': 'huber', 'max_depth': 2, 'n_estimators': 6}\n",
      "0 Miami Dolphins: 2015-09-01 00:00:00\n",
      "Fitting 5 folds for each of 550 candidates, totalling 2750 fits\n"
     ]
    },
    {
     "name": "stderr",
     "output_type": "stream",
     "text": [
      "[Parallel(n_jobs=-1)]: Done  16 tasks      | elapsed:    0.2s\n",
      "[Parallel(n_jobs=-1)]: Done 1402 tasks      | elapsed:    9.3s\n",
      "[Parallel(n_jobs=-1)]: Done 2750 out of 2750 | elapsed:   19.0s finished\n",
      "[Parallel(n_jobs=-1)]: Using backend LokyBackend with 8 concurrent workers.\n"
     ]
    },
    {
     "name": "stdout",
     "output_type": "stream",
     "text": [
      "alpha: {'learning_rate': 0.2, 'loss': 'huber', 'max_depth': 2, 'n_estimators': 10}\n",
      "0 Miami Dolphins: 2015-10-01 00:00:00\n",
      "Fitting 5 folds for each of 550 candidates, totalling 2750 fits\n"
     ]
    },
    {
     "name": "stderr",
     "output_type": "stream",
     "text": [
      "[Parallel(n_jobs=-1)]: Done  16 tasks      | elapsed:    0.1s\n",
      "[Parallel(n_jobs=-1)]: Done 1578 tasks      | elapsed:    7.9s\n",
      "[Parallel(n_jobs=-1)]: Done 2750 out of 2750 | elapsed:   14.2s finished\n",
      "[Parallel(n_jobs=-1)]: Using backend LokyBackend with 8 concurrent workers.\n"
     ]
    },
    {
     "name": "stdout",
     "output_type": "stream",
     "text": [
      "alpha: {'learning_rate': 0.5, 'loss': 'ls', 'max_depth': 4, 'n_estimators': 2}\n",
      "0 Miami Dolphins: 2015-11-01 00:00:00\n",
      "Fitting 5 folds for each of 550 candidates, totalling 2750 fits\n"
     ]
    },
    {
     "name": "stderr",
     "output_type": "stream",
     "text": [
      "[Parallel(n_jobs=-1)]: Done  16 tasks      | elapsed:    0.2s\n",
      "[Parallel(n_jobs=-1)]: Done 1936 tasks      | elapsed:    9.8s\n",
      "[Parallel(n_jobs=-1)]: Done 2750 out of 2750 | elapsed:   14.5s finished\n",
      "[Parallel(n_jobs=-1)]: Using backend LokyBackend with 8 concurrent workers.\n"
     ]
    },
    {
     "name": "stdout",
     "output_type": "stream",
     "text": [
      "alpha: {'learning_rate': 0.4, 'loss': 'ls', 'max_depth': 2, 'n_estimators': 10}\n",
      "0 Miami Dolphins: 2015-12-01 00:00:00\n",
      "Fitting 5 folds for each of 550 candidates, totalling 2750 fits\n"
     ]
    },
    {
     "name": "stderr",
     "output_type": "stream",
     "text": [
      "[Parallel(n_jobs=-1)]: Done  16 tasks      | elapsed:    0.1s\n",
      "[Parallel(n_jobs=-1)]: Done 1744 tasks      | elapsed:    8.7s\n",
      "[Parallel(n_jobs=-1)]: Done 2750 out of 2750 | elapsed:   14.2s finished\n",
      "[Parallel(n_jobs=-1)]: Using backend LokyBackend with 8 concurrent workers.\n"
     ]
    },
    {
     "name": "stdout",
     "output_type": "stream",
     "text": [
      "alpha: {'learning_rate': 0.2, 'loss': 'huber', 'max_depth': 4, 'n_estimators': 10}\n",
      "0 Miami Dolphins: 2016-09-01 00:00:00\n",
      "Fitting 5 folds for each of 550 candidates, totalling 2750 fits\n"
     ]
    },
    {
     "name": "stderr",
     "output_type": "stream",
     "text": [
      "[Parallel(n_jobs=-1)]: Done  16 tasks      | elapsed:    0.2s\n",
      "[Parallel(n_jobs=-1)]: Done 1648 tasks      | elapsed:    8.2s\n",
      "[Parallel(n_jobs=-1)]: Done 2750 out of 2750 | elapsed:   14.9s finished\n",
      "[Parallel(n_jobs=-1)]: Using backend LokyBackend with 8 concurrent workers.\n"
     ]
    },
    {
     "name": "stdout",
     "output_type": "stream",
     "text": [
      "alpha: {'learning_rate': 0.3, 'loss': 'huber', 'max_depth': 2, 'n_estimators': 6}\n",
      "0 Miami Dolphins: 2016-10-01 00:00:00\n",
      "Fitting 5 folds for each of 550 candidates, totalling 2750 fits\n"
     ]
    },
    {
     "name": "stderr",
     "output_type": "stream",
     "text": [
      "[Parallel(n_jobs=-1)]: Done  16 tasks      | elapsed:    0.2s\n",
      "[Parallel(n_jobs=-1)]: Done 1744 tasks      | elapsed:    9.8s\n",
      "[Parallel(n_jobs=-1)]: Done 2735 out of 2750 | elapsed:   16.8s remaining:    0.0s\n",
      "[Parallel(n_jobs=-1)]: Done 2750 out of 2750 | elapsed:   17.2s finished\n",
      "[Parallel(n_jobs=-1)]: Using backend LokyBackend with 8 concurrent workers.\n"
     ]
    },
    {
     "name": "stdout",
     "output_type": "stream",
     "text": [
      "alpha: {'learning_rate': 0.2, 'loss': 'huber', 'max_depth': 2, 'n_estimators': 10}\n",
      "0 Miami Dolphins: 2016-11-01 00:00:00\n",
      "Fitting 5 folds for each of 550 candidates, totalling 2750 fits\n"
     ]
    },
    {
     "name": "stderr",
     "output_type": "stream",
     "text": [
      "[Parallel(n_jobs=-1)]: Done  16 tasks      | elapsed:    0.2s\n",
      "[Parallel(n_jobs=-1)]: Done 1030 tasks      | elapsed:    9.2s\n",
      "[Parallel(n_jobs=-1)]: Done 1990 tasks      | elapsed:   15.7s\n",
      "[Parallel(n_jobs=-1)]: Done 2750 out of 2750 | elapsed:   20.3s finished\n",
      "[Parallel(n_jobs=-1)]: Using backend LokyBackend with 8 concurrent workers.\n"
     ]
    },
    {
     "name": "stdout",
     "output_type": "stream",
     "text": [
      "alpha: {'learning_rate': 0.2, 'loss': 'huber', 'max_depth': 2, 'n_estimators': 10}\n",
      "0 Miami Dolphins: 2016-12-01 00:00:00\n",
      "Fitting 5 folds for each of 550 candidates, totalling 2750 fits\n"
     ]
    },
    {
     "name": "stderr",
     "output_type": "stream",
     "text": [
      "[Parallel(n_jobs=-1)]: Done  16 tasks      | elapsed:    0.1s\n",
      "[Parallel(n_jobs=-1)]: Done 1567 tasks      | elapsed:    9.3s\n",
      "[Parallel(n_jobs=-1)]: Done 2750 out of 2750 | elapsed:   16.5s finished\n",
      "[Parallel(n_jobs=-1)]: Using backend LokyBackend with 8 concurrent workers.\n"
     ]
    },
    {
     "name": "stdout",
     "output_type": "stream",
     "text": [
      "alpha: {'learning_rate': 0.4, 'loss': 'ls', 'max_depth': 2, 'n_estimators': 4}\n",
      "0 Miami Dolphins: 2017-09-01 00:00:00\n",
      "Fitting 5 folds for each of 550 candidates, totalling 2750 fits\n"
     ]
    },
    {
     "name": "stderr",
     "output_type": "stream",
     "text": [
      "[Parallel(n_jobs=-1)]: Done  16 tasks      | elapsed:    0.2s\n",
      "[Parallel(n_jobs=-1)]: Done 1552 tasks      | elapsed:    9.1s\n",
      "[Parallel(n_jobs=-1)]: Done 2750 out of 2750 | elapsed:   16.5s finished\n",
      "[Parallel(n_jobs=-1)]: Using backend LokyBackend with 8 concurrent workers.\n"
     ]
    },
    {
     "name": "stdout",
     "output_type": "stream",
     "text": [
      "alpha: {'learning_rate': 0.15, 'loss': 'huber', 'max_depth': 2, 'n_estimators': 10}\n",
      "0 Miami Dolphins: 2017-10-01 00:00:00\n",
      "Fitting 5 folds for each of 550 candidates, totalling 2750 fits\n"
     ]
    },
    {
     "name": "stderr",
     "output_type": "stream",
     "text": [
      "[Parallel(n_jobs=-1)]: Done  16 tasks      | elapsed:    0.2s\n",
      "[Parallel(n_jobs=-1)]: Done 1339 tasks      | elapsed:    7.6s\n",
      "[Parallel(n_jobs=-1)]: Done 2750 out of 2750 | elapsed:   16.6s finished\n",
      "[Parallel(n_jobs=-1)]: Using backend LokyBackend with 8 concurrent workers.\n"
     ]
    },
    {
     "name": "stdout",
     "output_type": "stream",
     "text": [
      "alpha: {'learning_rate': 0.4, 'loss': 'huber', 'max_depth': 2, 'n_estimators': 8}\n",
      "0 Miami Dolphins: 2017-11-01 00:00:00\n",
      "Fitting 5 folds for each of 550 candidates, totalling 2750 fits\n"
     ]
    },
    {
     "name": "stderr",
     "output_type": "stream",
     "text": [
      "[Parallel(n_jobs=-1)]: Done  16 tasks      | elapsed:    0.1s\n",
      "[Parallel(n_jobs=-1)]: Done 1168 tasks      | elapsed:    6.6s\n",
      "[Parallel(n_jobs=-1)]: Done 2750 out of 2750 | elapsed:   15.6s finished\n",
      "[Parallel(n_jobs=-1)]: Using backend LokyBackend with 8 concurrent workers.\n"
     ]
    },
    {
     "name": "stdout",
     "output_type": "stream",
     "text": [
      "alpha: {'learning_rate': 0.4, 'loss': 'huber', 'max_depth': 2, 'n_estimators': 8}\n",
      "0 Miami Dolphins: 2017-12-01 00:00:00\n",
      "Fitting 5 folds for each of 550 candidates, totalling 2750 fits\n"
     ]
    },
    {
     "name": "stderr",
     "output_type": "stream",
     "text": [
      "[Parallel(n_jobs=-1)]: Done  16 tasks      | elapsed:    1.7s\n",
      "[Parallel(n_jobs=-1)]: Done 2750 out of 2750 | elapsed:   15.6s finished\n",
      "[Parallel(n_jobs=-1)]: Using backend LokyBackend with 8 concurrent workers.\n"
     ]
    },
    {
     "name": "stdout",
     "output_type": "stream",
     "text": [
      "alpha: {'learning_rate': 0.3, 'loss': 'huber', 'max_depth': 2, 'n_estimators': 10}\n",
      "0 Miami Dolphins: 2018-09-01 00:00:00\n",
      "Fitting 5 folds for each of 550 candidates, totalling 2750 fits\n"
     ]
    },
    {
     "name": "stderr",
     "output_type": "stream",
     "text": [
      "[Parallel(n_jobs=-1)]: Done  16 tasks      | elapsed:    0.1s\n",
      "[Parallel(n_jobs=-1)]: Done 1917 tasks      | elapsed:    9.9s\n",
      "[Parallel(n_jobs=-1)]: Done 2750 out of 2750 | elapsed:   14.5s finished\n",
      "[Parallel(n_jobs=-1)]: Using backend LokyBackend with 8 concurrent workers.\n"
     ]
    },
    {
     "name": "stdout",
     "output_type": "stream",
     "text": [
      "alpha: {'learning_rate': 0.4, 'loss': 'huber', 'max_depth': 2, 'n_estimators': 10}\n",
      "0 Miami Dolphins: 2018-10-01 00:00:00\n",
      "Fitting 5 folds for each of 550 candidates, totalling 2750 fits\n"
     ]
    },
    {
     "name": "stderr",
     "output_type": "stream",
     "text": [
      "[Parallel(n_jobs=-1)]: Done  16 tasks      | elapsed:    0.1s\n",
      "[Parallel(n_jobs=-1)]: Done 1831 tasks      | elapsed:    9.1s\n",
      "[Parallel(n_jobs=-1)]: Done 2750 out of 2750 | elapsed:   15.1s finished\n",
      "[Parallel(n_jobs=-1)]: Using backend LokyBackend with 8 concurrent workers.\n"
     ]
    },
    {
     "name": "stdout",
     "output_type": "stream",
     "text": [
      "alpha: {'learning_rate': 0.5, 'loss': 'ls', 'max_depth': 2, 'n_estimators': 6}\n",
      "0 Miami Dolphins: 2018-11-01 00:00:00\n",
      "Fitting 5 folds for each of 550 candidates, totalling 2750 fits\n"
     ]
    },
    {
     "name": "stderr",
     "output_type": "stream",
     "text": [
      "[Parallel(n_jobs=-1)]: Done  16 tasks      | elapsed:    0.3s\n",
      "[Parallel(n_jobs=-1)]: Done 1296 tasks      | elapsed:    8.6s\n",
      "[Parallel(n_jobs=-1)]: Done 2750 out of 2750 | elapsed:   16.4s finished\n",
      "[Parallel(n_jobs=-1)]: Using backend LokyBackend with 8 concurrent workers.\n"
     ]
    },
    {
     "name": "stdout",
     "output_type": "stream",
     "text": [
      "alpha: {'learning_rate': 0.4, 'loss': 'ls', 'max_depth': 2, 'n_estimators': 8}\n",
      "0 Miami Dolphins: 2018-12-01 00:00:00\n",
      "Fitting 5 folds for each of 550 candidates, totalling 2750 fits\n"
     ]
    },
    {
     "name": "stderr",
     "output_type": "stream",
     "text": [
      "[Parallel(n_jobs=-1)]: Done  16 tasks      | elapsed:    0.1s\n",
      "[Parallel(n_jobs=-1)]: Done 1294 tasks      | elapsed:    7.7s\n",
      "[Parallel(n_jobs=-1)]: Done 2750 out of 2750 | elapsed:   15.8s finished\n",
      "[Parallel(n_jobs=-1)]: Using backend LokyBackend with 8 concurrent workers.\n"
     ]
    },
    {
     "name": "stdout",
     "output_type": "stream",
     "text": [
      "alpha: {'learning_rate': 0.15, 'loss': 'ls', 'max_depth': 2, 'n_estimators': 10}\n",
      "0 Miami Dolphins: 2019-09-01 00:00:00\n",
      "Fitting 5 folds for each of 550 candidates, totalling 2750 fits\n"
     ]
    },
    {
     "name": "stderr",
     "output_type": "stream",
     "text": [
      "[Parallel(n_jobs=-1)]: Done  16 tasks      | elapsed:    0.1s\n",
      "[Parallel(n_jobs=-1)]: Done 1552 tasks      | elapsed:    9.2s\n",
      "[Parallel(n_jobs=-1)]: Done 2750 out of 2750 | elapsed:   15.5s finished\n",
      "[Parallel(n_jobs=-1)]: Using backend LokyBackend with 8 concurrent workers.\n"
     ]
    },
    {
     "name": "stdout",
     "output_type": "stream",
     "text": [
      "alpha: {'learning_rate': 0.2, 'loss': 'ls', 'max_depth': 2, 'n_estimators': 10}\n",
      "0 Miami Dolphins: 2019-10-01 00:00:00\n",
      "Fitting 5 folds for each of 550 candidates, totalling 2750 fits\n"
     ]
    },
    {
     "name": "stderr",
     "output_type": "stream",
     "text": [
      "[Parallel(n_jobs=-1)]: Done  16 tasks      | elapsed:    0.1s\n",
      "[Parallel(n_jobs=-1)]: Done 1464 tasks      | elapsed:    9.0s\n",
      "[Parallel(n_jobs=-1)]: Done 2750 out of 2750 | elapsed:   18.0s finished\n",
      "[Parallel(n_jobs=-1)]: Using backend LokyBackend with 8 concurrent workers.\n"
     ]
    },
    {
     "name": "stdout",
     "output_type": "stream",
     "text": [
      "alpha: {'learning_rate': 0.4, 'loss': 'ls', 'max_depth': 2, 'n_estimators': 10}\n",
      "0 Miami Dolphins: 2019-11-01 00:00:00\n",
      "Fitting 5 folds for each of 550 candidates, totalling 2750 fits\n"
     ]
    },
    {
     "name": "stderr",
     "output_type": "stream",
     "text": [
      "[Parallel(n_jobs=-1)]: Done  16 tasks      | elapsed:    0.2s\n",
      "[Parallel(n_jobs=-1)]: Done 1545 tasks      | elapsed:   10.2s\n",
      "[Parallel(n_jobs=-1)]: Done 2750 out of 2750 | elapsed:   17.5s finished\n",
      "[Parallel(n_jobs=-1)]: Using backend LokyBackend with 8 concurrent workers.\n"
     ]
    },
    {
     "name": "stdout",
     "output_type": "stream",
     "text": [
      "alpha: {'learning_rate': 0.4, 'loss': 'huber', 'max_depth': 2, 'n_estimators': 6}\n",
      "0 Miami Dolphins: 2019-12-01 00:00:00\n",
      "Fitting 5 folds for each of 550 candidates, totalling 2750 fits\n"
     ]
    },
    {
     "name": "stderr",
     "output_type": "stream",
     "text": [
      "[Parallel(n_jobs=-1)]: Done  16 tasks      | elapsed:    0.2s\n",
      "[Parallel(n_jobs=-1)]: Done 1261 tasks      | elapsed:    8.5s\n",
      "[Parallel(n_jobs=-1)]: Done 2061 tasks      | elapsed:   14.7s\n",
      "[Parallel(n_jobs=-1)]: Done 2750 out of 2750 | elapsed:   19.1s finished\n",
      "[Parallel(n_jobs=-1)]: Using backend LokyBackend with 8 concurrent workers.\n"
     ]
    },
    {
     "name": "stdout",
     "output_type": "stream",
     "text": [
      "alpha: {'learning_rate': 0.4, 'loss': 'ls', 'max_depth': 4, 'n_estimators': 6}\n",
      "1 Pittsburgh Steelers: 2012-09-01 00:00:00\n",
      "Fitting 5 folds for each of 550 candidates, totalling 2750 fits\n"
     ]
    },
    {
     "name": "stderr",
     "output_type": "stream",
     "text": [
      "[Parallel(n_jobs=-1)]: Done  16 tasks      | elapsed:    0.2s\n",
      "[Parallel(n_jobs=-1)]: Done 1360 tasks      | elapsed:    7.3s\n",
      "[Parallel(n_jobs=-1)]: Done 2750 out of 2750 | elapsed:   19.1s finished\n",
      "[Parallel(n_jobs=-1)]: Using backend LokyBackend with 8 concurrent workers.\n"
     ]
    },
    {
     "name": "stdout",
     "output_type": "stream",
     "text": [
      "alpha: {'learning_rate': 0.3, 'loss': 'ls', 'max_depth': 2, 'n_estimators': 8}\n",
      "1 Pittsburgh Steelers: 2012-10-01 00:00:00\n",
      "Fitting 5 folds for each of 550 candidates, totalling 2750 fits\n"
     ]
    },
    {
     "name": "stderr",
     "output_type": "stream",
     "text": [
      "[Parallel(n_jobs=-1)]: Done  16 tasks      | elapsed:    0.2s\n",
      "[Parallel(n_jobs=-1)]: Done 1612 tasks      | elapsed:    8.9s\n",
      "[Parallel(n_jobs=-1)]: Done 2750 out of 2750 | elapsed:   16.7s finished\n",
      "[Parallel(n_jobs=-1)]: Using backend LokyBackend with 8 concurrent workers.\n"
     ]
    },
    {
     "name": "stdout",
     "output_type": "stream",
     "text": [
      "alpha: {'learning_rate': 0.3, 'loss': 'ls', 'max_depth': 2, 'n_estimators': 4}\n",
      "1 Pittsburgh Steelers: 2012-11-01 00:00:00\n",
      "Fitting 5 folds for each of 550 candidates, totalling 2750 fits\n"
     ]
    },
    {
     "name": "stderr",
     "output_type": "stream",
     "text": [
      "[Parallel(n_jobs=-1)]: Done  16 tasks      | elapsed:    0.1s\n",
      "[Parallel(n_jobs=-1)]: Done 1436 tasks      | elapsed:    8.6s\n",
      "[Parallel(n_jobs=-1)]: Done 2750 out of 2750 | elapsed:   16.2s finished\n",
      "[Parallel(n_jobs=-1)]: Using backend LokyBackend with 8 concurrent workers.\n"
     ]
    },
    {
     "name": "stdout",
     "output_type": "stream",
     "text": [
      "alpha: {'learning_rate': 0.1, 'loss': 'huber', 'max_depth': 2, 'n_estimators': 10}\n",
      "1 Pittsburgh Steelers: 2012-12-01 00:00:00\n",
      "Fitting 5 folds for each of 550 candidates, totalling 2750 fits\n"
     ]
    },
    {
     "name": "stderr",
     "output_type": "stream",
     "text": [
      "[Parallel(n_jobs=-1)]: Done  16 tasks      | elapsed:    0.1s\n",
      "[Parallel(n_jobs=-1)]: Done 1523 tasks      | elapsed:    9.7s\n",
      "[Parallel(n_jobs=-1)]: Done 2750 out of 2750 | elapsed:   16.4s finished\n",
      "[Parallel(n_jobs=-1)]: Using backend LokyBackend with 8 concurrent workers.\n"
     ]
    },
    {
     "name": "stdout",
     "output_type": "stream",
     "text": [
      "alpha: {'learning_rate': 0.15, 'loss': 'huber', 'max_depth': 10, 'n_estimators': 2}\n",
      "1 Pittsburgh Steelers: 2013-09-01 00:00:00\n",
      "Fitting 5 folds for each of 550 candidates, totalling 2750 fits\n"
     ]
    },
    {
     "name": "stderr",
     "output_type": "stream",
     "text": [
      "[Parallel(n_jobs=-1)]: Done  16 tasks      | elapsed:    0.1s\n",
      "[Parallel(n_jobs=-1)]: Done 1696 tasks      | elapsed:    9.3s\n",
      "[Parallel(n_jobs=-1)]: Done 2750 out of 2750 | elapsed:   15.7s finished\n",
      "[Parallel(n_jobs=-1)]: Using backend LokyBackend with 8 concurrent workers.\n"
     ]
    },
    {
     "name": "stdout",
     "output_type": "stream",
     "text": [
      "alpha: {'learning_rate': 0.4, 'loss': 'ls', 'max_depth': 2, 'n_estimators': 6}\n",
      "1 Pittsburgh Steelers: 2013-10-01 00:00:00\n",
      "Fitting 5 folds for each of 550 candidates, totalling 2750 fits\n"
     ]
    },
    {
     "name": "stderr",
     "output_type": "stream",
     "text": [
      "[Parallel(n_jobs=-1)]: Done  16 tasks      | elapsed:    0.1s\n",
      "[Parallel(n_jobs=-1)]: Done 1660 tasks      | elapsed:    8.3s\n",
      "[Parallel(n_jobs=-1)]: Done 2750 out of 2750 | elapsed:   14.3s finished\n",
      "[Parallel(n_jobs=-1)]: Using backend LokyBackend with 8 concurrent workers.\n"
     ]
    },
    {
     "name": "stdout",
     "output_type": "stream",
     "text": [
      "alpha: {'learning_rate': 0.3, 'loss': 'huber', 'max_depth': 2, 'n_estimators': 4}\n",
      "1 Pittsburgh Steelers: 2013-11-01 00:00:00\n",
      "Fitting 5 folds for each of 550 candidates, totalling 2750 fits\n"
     ]
    },
    {
     "name": "stderr",
     "output_type": "stream",
     "text": [
      "[Parallel(n_jobs=-1)]: Done  16 tasks      | elapsed:    0.1s\n",
      "[Parallel(n_jobs=-1)]: Done 1578 tasks      | elapsed:    8.2s\n",
      "[Parallel(n_jobs=-1)]: Done 2750 out of 2750 | elapsed:   15.5s finished\n",
      "[Parallel(n_jobs=-1)]: Using backend LokyBackend with 8 concurrent workers.\n"
     ]
    },
    {
     "name": "stdout",
     "output_type": "stream",
     "text": [
      "alpha: {'learning_rate': 0.2, 'loss': 'ls', 'max_depth': 10, 'n_estimators': 2}\n",
      "1 Pittsburgh Steelers: 2013-12-01 00:00:00\n",
      "Fitting 5 folds for each of 550 candidates, totalling 2750 fits\n"
     ]
    },
    {
     "name": "stderr",
     "output_type": "stream",
     "text": [
      "[Parallel(n_jobs=-1)]: Done  16 tasks      | elapsed:    0.1s\n",
      "[Parallel(n_jobs=-1)]: Done 1556 tasks      | elapsed:    7.5s\n",
      "[Parallel(n_jobs=-1)]: Done 2750 out of 2750 | elapsed:   14.6s finished\n",
      "[Parallel(n_jobs=-1)]: Using backend LokyBackend with 8 concurrent workers.\n"
     ]
    },
    {
     "name": "stdout",
     "output_type": "stream",
     "text": [
      "alpha: {'learning_rate': 0.2, 'loss': 'huber', 'max_depth': 2, 'n_estimators': 10}\n",
      "1 Pittsburgh Steelers: 2014-09-01 00:00:00\n",
      "Fitting 5 folds for each of 550 candidates, totalling 2750 fits\n"
     ]
    },
    {
     "name": "stderr",
     "output_type": "stream",
     "text": [
      "[Parallel(n_jobs=-1)]: Done  16 tasks      | elapsed:    0.1s\n",
      "[Parallel(n_jobs=-1)]: Done 1246 tasks      | elapsed:    7.9s\n",
      "[Parallel(n_jobs=-1)]: Done 2046 tasks      | elapsed:   12.6s\n",
      "[Parallel(n_jobs=-1)]: Done 2750 out of 2750 | elapsed:   17.3s finished\n",
      "[Parallel(n_jobs=-1)]: Using backend LokyBackend with 8 concurrent workers.\n"
     ]
    },
    {
     "name": "stdout",
     "output_type": "stream",
     "text": [
      "alpha: {'learning_rate': 0.4, 'loss': 'huber', 'max_depth': 4, 'n_estimators': 2}\n",
      "1 Pittsburgh Steelers: 2014-10-01 00:00:00\n",
      "Fitting 5 folds for each of 550 candidates, totalling 2750 fits\n"
     ]
    },
    {
     "name": "stderr",
     "output_type": "stream",
     "text": [
      "[Parallel(n_jobs=-1)]: Done  16 tasks      | elapsed:    0.2s\n",
      "[Parallel(n_jobs=-1)]: Done 1446 tasks      | elapsed:    7.9s\n",
      "[Parallel(n_jobs=-1)]: Done 2750 out of 2750 | elapsed:   14.9s finished\n",
      "[Parallel(n_jobs=-1)]: Using backend LokyBackend with 8 concurrent workers.\n"
     ]
    },
    {
     "name": "stdout",
     "output_type": "stream",
     "text": [
      "alpha: {'learning_rate': 0.2, 'loss': 'huber', 'max_depth': 2, 'n_estimators': 6}\n",
      "1 Pittsburgh Steelers: 2014-11-01 00:00:00\n",
      "Fitting 5 folds for each of 550 candidates, totalling 2750 fits\n"
     ]
    },
    {
     "name": "stderr",
     "output_type": "stream",
     "text": [
      "[Parallel(n_jobs=-1)]: Done  16 tasks      | elapsed:    0.1s\n",
      "[Parallel(n_jobs=-1)]: Done 1672 tasks      | elapsed:    8.3s\n",
      "[Parallel(n_jobs=-1)]: Done 2750 out of 2750 | elapsed:   14.7s finished\n",
      "[Parallel(n_jobs=-1)]: Using backend LokyBackend with 8 concurrent workers.\n"
     ]
    },
    {
     "name": "stdout",
     "output_type": "stream",
     "text": [
      "alpha: {'learning_rate': 0.2, 'loss': 'huber', 'max_depth': 4, 'n_estimators': 10}\n",
      "1 Pittsburgh Steelers: 2014-12-01 00:00:00\n",
      "Fitting 5 folds for each of 550 candidates, totalling 2750 fits\n"
     ]
    },
    {
     "name": "stderr",
     "output_type": "stream",
     "text": [
      "[Parallel(n_jobs=-1)]: Done  16 tasks      | elapsed:    0.2s\n",
      "[Parallel(n_jobs=-1)]: Done 1660 tasks      | elapsed:    8.2s\n",
      "[Parallel(n_jobs=-1)]: Done 2750 out of 2750 | elapsed:   14.8s finished\n",
      "[Parallel(n_jobs=-1)]: Using backend LokyBackend with 8 concurrent workers.\n"
     ]
    },
    {
     "name": "stdout",
     "output_type": "stream",
     "text": [
      "alpha: {'learning_rate': 0.2, 'loss': 'huber', 'max_depth': 2, 'n_estimators': 8}\n",
      "1 Pittsburgh Steelers: 2015-09-01 00:00:00\n",
      "Fitting 5 folds for each of 550 candidates, totalling 2750 fits\n"
     ]
    },
    {
     "name": "stderr",
     "output_type": "stream",
     "text": [
      "[Parallel(n_jobs=-1)]: Done  16 tasks      | elapsed:    0.1s\n",
      "[Parallel(n_jobs=-1)]: Done 1552 tasks      | elapsed:    8.1s\n",
      "[Parallel(n_jobs=-1)]: Done 2750 out of 2750 | elapsed:   14.7s finished\n",
      "[Parallel(n_jobs=-1)]: Using backend LokyBackend with 8 concurrent workers.\n"
     ]
    },
    {
     "name": "stdout",
     "output_type": "stream",
     "text": [
      "alpha: {'learning_rate': 0.5, 'loss': 'huber', 'max_depth': 2, 'n_estimators': 4}\n",
      "1 Pittsburgh Steelers: 2015-10-01 00:00:00\n",
      "Fitting 5 folds for each of 550 candidates, totalling 2750 fits\n"
     ]
    },
    {
     "name": "stderr",
     "output_type": "stream",
     "text": [
      "[Parallel(n_jobs=-1)]: Done  16 tasks      | elapsed:    0.1s\n",
      "[Parallel(n_jobs=-1)]: Done 1809 tasks      | elapsed:    9.2s\n",
      "[Parallel(n_jobs=-1)]: Done 2750 out of 2750 | elapsed:   14.5s finished\n",
      "[Parallel(n_jobs=-1)]: Using backend LokyBackend with 8 concurrent workers.\n"
     ]
    },
    {
     "name": "stdout",
     "output_type": "stream",
     "text": [
      "alpha: {'learning_rate': 0.4, 'loss': 'ls', 'max_depth': 2, 'n_estimators': 4}\n",
      "1 Pittsburgh Steelers: 2015-11-01 00:00:00\n",
      "Fitting 5 folds for each of 550 candidates, totalling 2750 fits\n"
     ]
    },
    {
     "name": "stderr",
     "output_type": "stream",
     "text": [
      "[Parallel(n_jobs=-1)]: Done  16 tasks      | elapsed:    0.1s\n",
      "[Parallel(n_jobs=-1)]: Done 1684 tasks      | elapsed:    8.7s\n",
      "[Parallel(n_jobs=-1)]: Done 2750 out of 2750 | elapsed:   15.2s finished\n",
      "[Parallel(n_jobs=-1)]: Using backend LokyBackend with 8 concurrent workers.\n"
     ]
    },
    {
     "name": "stdout",
     "output_type": "stream",
     "text": [
      "alpha: {'learning_rate': 0.3, 'loss': 'ls', 'max_depth': 4, 'n_estimators': 8}\n",
      "1 Pittsburgh Steelers: 2015-12-01 00:00:00\n",
      "Fitting 5 folds for each of 550 candidates, totalling 2750 fits\n"
     ]
    },
    {
     "name": "stderr",
     "output_type": "stream",
     "text": [
      "[Parallel(n_jobs=-1)]: Done  16 tasks      | elapsed:    0.2s\n",
      "[Parallel(n_jobs=-1)]: Done 1612 tasks      | elapsed:    8.9s\n",
      "[Parallel(n_jobs=-1)]: Done 2750 out of 2750 | elapsed:   15.4s finished\n",
      "[Parallel(n_jobs=-1)]: Using backend LokyBackend with 8 concurrent workers.\n"
     ]
    },
    {
     "name": "stdout",
     "output_type": "stream",
     "text": [
      "alpha: {'learning_rate': 0.3, 'loss': 'huber', 'max_depth': 2, 'n_estimators': 8}\n",
      "1 Pittsburgh Steelers: 2016-09-01 00:00:00\n",
      "Fitting 5 folds for each of 550 candidates, totalling 2750 fits\n"
     ]
    },
    {
     "name": "stderr",
     "output_type": "stream",
     "text": [
      "[Parallel(n_jobs=-1)]: Done  16 tasks      | elapsed:    0.1s\n",
      "[Parallel(n_jobs=-1)]: Done 1564 tasks      | elapsed:    8.7s\n",
      "[Parallel(n_jobs=-1)]: Done 2750 out of 2750 | elapsed:   14.9s finished\n",
      "[Parallel(n_jobs=-1)]: Using backend LokyBackend with 8 concurrent workers.\n"
     ]
    },
    {
     "name": "stdout",
     "output_type": "stream",
     "text": [
      "alpha: {'learning_rate': 0.5, 'loss': 'ls', 'max_depth': 2, 'n_estimators': 6}\n",
      "1 Pittsburgh Steelers: 2016-10-01 00:00:00\n",
      "Fitting 5 folds for each of 550 candidates, totalling 2750 fits\n"
     ]
    },
    {
     "name": "stderr",
     "output_type": "stream",
     "text": [
      "[Parallel(n_jobs=-1)]: Done  16 tasks      | elapsed:    0.1s\n",
      "[Parallel(n_jobs=-1)]: Done 1816 tasks      | elapsed:    8.7s\n",
      "[Parallel(n_jobs=-1)]: Done 2750 out of 2750 | elapsed:   14.0s finished\n",
      "[Parallel(n_jobs=-1)]: Using backend LokyBackend with 8 concurrent workers.\n"
     ]
    },
    {
     "name": "stdout",
     "output_type": "stream",
     "text": [
      "alpha: {'learning_rate': 0.2, 'loss': 'huber', 'max_depth': 2, 'n_estimators': 6}\n",
      "1 Pittsburgh Steelers: 2016-11-01 00:00:00\n",
      "Fitting 5 folds for each of 550 candidates, totalling 2750 fits\n"
     ]
    },
    {
     "name": "stderr",
     "output_type": "stream",
     "text": [
      "[Parallel(n_jobs=-1)]: Done  16 tasks      | elapsed:    0.1s\n",
      "[Parallel(n_jobs=-1)]: Done 1576 tasks      | elapsed:    9.4s\n",
      "[Parallel(n_jobs=-1)]: Done 2750 out of 2750 | elapsed:   15.7s finished\n",
      "[Parallel(n_jobs=-1)]: Using backend LokyBackend with 8 concurrent workers.\n"
     ]
    },
    {
     "name": "stdout",
     "output_type": "stream",
     "text": [
      "alpha: {'learning_rate': 0.3, 'loss': 'ls', 'max_depth': 4, 'n_estimators': 2}\n",
      "1 Pittsburgh Steelers: 2016-12-01 00:00:00\n",
      "Fitting 5 folds for each of 550 candidates, totalling 2750 fits\n"
     ]
    },
    {
     "name": "stderr",
     "output_type": "stream",
     "text": [
      "[Parallel(n_jobs=-1)]: Done  16 tasks      | elapsed:    0.1s\n",
      "[Parallel(n_jobs=-1)]: Done 1567 tasks      | elapsed:    7.7s\n",
      "[Parallel(n_jobs=-1)]: Done 2750 out of 2750 | elapsed:   14.3s finished\n",
      "[Parallel(n_jobs=-1)]: Using backend LokyBackend with 8 concurrent workers.\n"
     ]
    },
    {
     "name": "stdout",
     "output_type": "stream",
     "text": [
      "alpha: {'learning_rate': 0.3, 'loss': 'ls', 'max_depth': 2, 'n_estimators': 10}\n",
      "1 Pittsburgh Steelers: 2017-09-01 00:00:00\n",
      "Fitting 5 folds for each of 550 candidates, totalling 2750 fits\n"
     ]
    },
    {
     "name": "stderr",
     "output_type": "stream",
     "text": [
      "[Parallel(n_jobs=-1)]: Done  16 tasks      | elapsed:    0.2s\n",
      "[Parallel(n_jobs=-1)]: Done 1402 tasks      | elapsed:    9.7s\n",
      "[Parallel(n_jobs=-1)]: Done 2750 out of 2750 | elapsed:   18.9s finished\n",
      "[Parallel(n_jobs=-1)]: Using backend LokyBackend with 8 concurrent workers.\n"
     ]
    },
    {
     "name": "stdout",
     "output_type": "stream",
     "text": [
      "alpha: {'learning_rate': 0.4, 'loss': 'ls', 'max_depth': 2, 'n_estimators': 6}\n",
      "1 Pittsburgh Steelers: 2017-10-01 00:00:00\n",
      "Fitting 5 folds for each of 550 candidates, totalling 2750 fits\n"
     ]
    },
    {
     "name": "stderr",
     "output_type": "stream",
     "text": [
      "[Parallel(n_jobs=-1)]: Done  16 tasks      | elapsed:    0.2s\n",
      "[Parallel(n_jobs=-1)]: Done 1168 tasks      | elapsed:    6.9s\n",
      "[Parallel(n_jobs=-1)]: Done 2750 out of 2750 | elapsed:   16.9s finished\n",
      "[Parallel(n_jobs=-1)]: Using backend LokyBackend with 8 concurrent workers.\n"
     ]
    },
    {
     "name": "stdout",
     "output_type": "stream",
     "text": [
      "alpha: {'learning_rate': 0.15, 'loss': 'ls', 'max_depth': 2, 'n_estimators': 10}\n",
      "1 Pittsburgh Steelers: 2017-11-01 00:00:00\n",
      "Fitting 5 folds for each of 550 candidates, totalling 2750 fits\n"
     ]
    },
    {
     "name": "stderr",
     "output_type": "stream",
     "text": [
      "[Parallel(n_jobs=-1)]: Done  16 tasks      | elapsed:    0.1s\n",
      "[Parallel(n_jobs=-1)]: Done 1545 tasks      | elapsed:    8.4s\n",
      "[Parallel(n_jobs=-1)]: Done 2750 out of 2750 | elapsed:   16.5s finished\n",
      "[Parallel(n_jobs=-1)]: Using backend LokyBackend with 8 concurrent workers.\n"
     ]
    },
    {
     "name": "stdout",
     "output_type": "stream",
     "text": [
      "alpha: {'learning_rate': 0.4, 'loss': 'ls', 'max_depth': 2, 'n_estimators': 4}\n",
      "1 Pittsburgh Steelers: 2017-12-01 00:00:00\n",
      "Fitting 5 folds for each of 550 candidates, totalling 2750 fits\n"
     ]
    },
    {
     "name": "stderr",
     "output_type": "stream",
     "text": [
      "[Parallel(n_jobs=-1)]: Done  16 tasks      | elapsed:    0.2s\n",
      "[Parallel(n_jobs=-1)]: Done 1264 tasks      | elapsed:    9.7s\n",
      "[Parallel(n_jobs=-1)]: Done 2224 tasks      | elapsed:   15.9s\n",
      "[Parallel(n_jobs=-1)]: Done 2750 out of 2750 | elapsed:   19.0s finished\n",
      "[Parallel(n_jobs=-1)]: Using backend LokyBackend with 8 concurrent workers.\n"
     ]
    },
    {
     "name": "stdout",
     "output_type": "stream",
     "text": [
      "alpha: {'learning_rate': 0.2, 'loss': 'ls', 'max_depth': 2, 'n_estimators': 10}\n",
      "1 Pittsburgh Steelers: 2018-09-01 00:00:00\n",
      "Fitting 5 folds for each of 550 candidates, totalling 2750 fits\n"
     ]
    },
    {
     "name": "stderr",
     "output_type": "stream",
     "text": [
      "[Parallel(n_jobs=-1)]: Done  16 tasks      | elapsed:    0.1s\n",
      "[Parallel(n_jobs=-1)]: Done 1168 tasks      | elapsed:    5.9s\n",
      "[Parallel(n_jobs=-1)]: Done 2476 tasks      | elapsed:   15.5s\n",
      "[Parallel(n_jobs=-1)]: Done 2750 out of 2750 | elapsed:   17.6s finished\n",
      "[Parallel(n_jobs=-1)]: Using backend LokyBackend with 8 concurrent workers.\n"
     ]
    },
    {
     "name": "stdout",
     "output_type": "stream",
     "text": [
      "alpha: {'learning_rate': 0.15, 'loss': 'ls', 'max_depth': 2, 'n_estimators': 10}\n",
      "1 Pittsburgh Steelers: 2018-10-01 00:00:00\n",
      "Fitting 5 folds for each of 550 candidates, totalling 2750 fits\n"
     ]
    },
    {
     "name": "stderr",
     "output_type": "stream",
     "text": [
      "[Parallel(n_jobs=-1)]: Done  16 tasks      | elapsed:    0.2s\n",
      "[Parallel(n_jobs=-1)]: Done 976 tasks      | elapsed:    6.3s\n",
      "[Parallel(n_jobs=-1)]: Done 2576 tasks      | elapsed:   16.6s\n",
      "[Parallel(n_jobs=-1)]: Done 2750 out of 2750 | elapsed:   18.1s finished\n",
      "[Parallel(n_jobs=-1)]: Using backend LokyBackend with 8 concurrent workers.\n"
     ]
    },
    {
     "name": "stdout",
     "output_type": "stream",
     "text": [
      "alpha: {'learning_rate': 0.2, 'loss': 'huber', 'max_depth': 4, 'n_estimators': 8}\n",
      "1 Pittsburgh Steelers: 2018-11-01 00:00:00\n",
      "Fitting 5 folds for each of 550 candidates, totalling 2750 fits\n"
     ]
    },
    {
     "name": "stderr",
     "output_type": "stream",
     "text": [
      "[Parallel(n_jobs=-1)]: Done  16 tasks      | elapsed:    0.1s\n",
      "[Parallel(n_jobs=-1)]: Done 1360 tasks      | elapsed:    8.2s\n",
      "[Parallel(n_jobs=-1)]: Done 2750 out of 2750 | elapsed:   17.4s finished\n",
      "[Parallel(n_jobs=-1)]: Using backend LokyBackend with 8 concurrent workers.\n"
     ]
    },
    {
     "name": "stdout",
     "output_type": "stream",
     "text": [
      "alpha: {'learning_rate': 0.3, 'loss': 'ls', 'max_depth': 2, 'n_estimators': 4}\n",
      "1 Pittsburgh Steelers: 2018-12-01 00:00:00\n",
      "Fitting 5 folds for each of 550 candidates, totalling 2750 fits\n"
     ]
    },
    {
     "name": "stderr",
     "output_type": "stream",
     "text": [
      "[Parallel(n_jobs=-1)]: Done  16 tasks      | elapsed:    0.1s\n",
      "[Parallel(n_jobs=-1)]: Done 1456 tasks      | elapsed:    8.0s\n",
      "[Parallel(n_jobs=-1)]: Done 2750 out of 2750 | elapsed:   15.3s finished\n",
      "[Parallel(n_jobs=-1)]: Using backend LokyBackend with 8 concurrent workers.\n"
     ]
    },
    {
     "name": "stdout",
     "output_type": "stream",
     "text": [
      "alpha: {'learning_rate': 0.15, 'loss': 'ls', 'max_depth': 2, 'n_estimators': 10}\n",
      "1 Pittsburgh Steelers: 2019-09-01 00:00:00\n",
      "Fitting 5 folds for each of 550 candidates, totalling 2750 fits\n"
     ]
    },
    {
     "name": "stderr",
     "output_type": "stream",
     "text": [
      "[Parallel(n_jobs=-1)]: Done  16 tasks      | elapsed:    0.1s\n",
      "[Parallel(n_jobs=-1)]: Done 1504 tasks      | elapsed:   11.3s\n",
      "[Parallel(n_jobs=-1)]: Done 2464 tasks      | elapsed:   18.2s\n",
      "[Parallel(n_jobs=-1)]: Done 2750 out of 2750 | elapsed:   20.1s finished\n",
      "[Parallel(n_jobs=-1)]: Using backend LokyBackend with 8 concurrent workers.\n"
     ]
    },
    {
     "name": "stdout",
     "output_type": "stream",
     "text": [
      "alpha: {'learning_rate': 0.2, 'loss': 'ls', 'max_depth': 2, 'n_estimators': 10}\n",
      "1 Pittsburgh Steelers: 2019-10-01 00:00:00\n",
      "Fitting 5 folds for each of 550 candidates, totalling 2750 fits\n"
     ]
    },
    {
     "name": "stderr",
     "output_type": "stream",
     "text": [
      "[Parallel(n_jobs=-1)]: Done  16 tasks      | elapsed:    0.1s\n",
      "[Parallel(n_jobs=-1)]: Done 1578 tasks      | elapsed:    8.2s\n",
      "[Parallel(n_jobs=-1)]: Done 2750 out of 2750 | elapsed:   16.0s finished\n",
      "[Parallel(n_jobs=-1)]: Using backend LokyBackend with 8 concurrent workers.\n"
     ]
    },
    {
     "name": "stdout",
     "output_type": "stream",
     "text": [
      "alpha: {'learning_rate': 0.5, 'loss': 'ls', 'max_depth': 4, 'n_estimators': 2}\n",
      "1 Pittsburgh Steelers: 2019-11-01 00:00:00\n",
      "Fitting 5 folds for each of 550 candidates, totalling 2750 fits\n"
     ]
    },
    {
     "name": "stderr",
     "output_type": "stream",
     "text": [
      "[Parallel(n_jobs=-1)]: Done  16 tasks      | elapsed:    0.1s\n",
      "[Parallel(n_jobs=-1)]: Done 1138 tasks      | elapsed:    7.5s\n",
      "[Parallel(n_jobs=-1)]: Done 2104 tasks      | elapsed:   14.2s\n",
      "[Parallel(n_jobs=-1)]: Done 2750 out of 2750 | elapsed:   18.6s finished\n",
      "[Parallel(n_jobs=-1)]: Using backend LokyBackend with 8 concurrent workers.\n"
     ]
    },
    {
     "name": "stdout",
     "output_type": "stream",
     "text": [
      "alpha: {'learning_rate': 0.4, 'loss': 'ls', 'max_depth': 4, 'n_estimators': 10}\n",
      "1 Pittsburgh Steelers: 2019-12-01 00:00:00\n",
      "Fitting 5 folds for each of 550 candidates, totalling 2750 fits\n"
     ]
    },
    {
     "name": "stderr",
     "output_type": "stream",
     "text": [
      "[Parallel(n_jobs=-1)]: Done  16 tasks      | elapsed:    0.1s\n",
      "[Parallel(n_jobs=-1)]: Done 1624 tasks      | elapsed:    8.7s\n",
      "[Parallel(n_jobs=-1)]: Done 2750 out of 2750 | elapsed:   15.4s finished\n",
      "[Parallel(n_jobs=-1)]: Using backend LokyBackend with 8 concurrent workers.\n"
     ]
    },
    {
     "name": "stdout",
     "output_type": "stream",
     "text": [
      "alpha: {'learning_rate': 0.4, 'loss': 'huber', 'max_depth': 4, 'n_estimators': 10}\n",
      "2 Atlanta Falcons: 2012-09-01 00:00:00\n",
      "Fitting 5 folds for each of 550 candidates, totalling 2750 fits\n"
     ]
    },
    {
     "name": "stderr",
     "output_type": "stream",
     "text": [
      "[Parallel(n_jobs=-1)]: Done  16 tasks      | elapsed:    0.2s\n",
      "[Parallel(n_jobs=-1)]: Done 1578 tasks      | elapsed:    7.7s\n",
      "[Parallel(n_jobs=-1)]: Done 2750 out of 2750 | elapsed:   16.0s finished\n",
      "[Parallel(n_jobs=-1)]: Using backend LokyBackend with 8 concurrent workers.\n"
     ]
    },
    {
     "name": "stdout",
     "output_type": "stream",
     "text": [
      "alpha: {'learning_rate': 0.3, 'loss': 'huber', 'max_depth': 2, 'n_estimators': 10}\n",
      "2 Atlanta Falcons: 2012-10-01 00:00:00\n",
      "Fitting 5 folds for each of 550 candidates, totalling 2750 fits\n"
     ]
    },
    {
     "name": "stderr",
     "output_type": "stream",
     "text": [
      "[Parallel(n_jobs=-1)]: Done  16 tasks      | elapsed:    0.2s\n",
      "[Parallel(n_jobs=-1)]: Done 1446 tasks      | elapsed:    9.2s\n",
      "[Parallel(n_jobs=-1)]: Done 2750 out of 2750 | elapsed:   18.9s finished\n",
      "[Parallel(n_jobs=-1)]: Using backend LokyBackend with 8 concurrent workers.\n"
     ]
    },
    {
     "name": "stdout",
     "output_type": "stream",
     "text": [
      "alpha: {'learning_rate': 0.2, 'loss': 'ls', 'max_depth': 2, 'n_estimators': 10}\n",
      "2 Atlanta Falcons: 2012-11-01 00:00:00\n",
      "Fitting 5 folds for each of 550 candidates, totalling 2750 fits\n"
     ]
    },
    {
     "name": "stderr",
     "output_type": "stream",
     "text": [
      "[Parallel(n_jobs=-1)]: Done  16 tasks      | elapsed:    0.1s\n",
      "[Parallel(n_jobs=-1)]: Done 1390 tasks      | elapsed:    9.3s\n",
      "[Parallel(n_jobs=-1)]: Done 2350 tasks      | elapsed:   14.6s\n",
      "[Parallel(n_jobs=-1)]: Done 2750 out of 2750 | elapsed:   17.1s finished\n",
      "[Parallel(n_jobs=-1)]: Using backend LokyBackend with 8 concurrent workers.\n"
     ]
    },
    {
     "name": "stdout",
     "output_type": "stream",
     "text": [
      "alpha: {'learning_rate': 0.2, 'loss': 'ls', 'max_depth': 2, 'n_estimators': 6}\n",
      "2 Atlanta Falcons: 2012-12-01 00:00:00\n",
      "Fitting 5 folds for each of 550 candidates, totalling 2750 fits\n"
     ]
    },
    {
     "name": "stderr",
     "output_type": "stream",
     "text": [
      "[Parallel(n_jobs=-1)]: Done  16 tasks      | elapsed:    0.1s\n",
      "[Parallel(n_jobs=-1)]: Done 1648 tasks      | elapsed:    8.7s\n",
      "[Parallel(n_jobs=-1)]: Done 2750 out of 2750 | elapsed:   15.2s finished\n",
      "[Parallel(n_jobs=-1)]: Using backend LokyBackend with 8 concurrent workers.\n"
     ]
    },
    {
     "name": "stdout",
     "output_type": "stream",
     "text": [
      "alpha: {'learning_rate': 0.6, 'loss': 'ls', 'max_depth': 2, 'n_estimators': 4}\n",
      "2 Atlanta Falcons: 2013-09-01 00:00:00\n",
      "Fitting 5 folds for each of 550 candidates, totalling 2750 fits\n"
     ]
    },
    {
     "name": "stderr",
     "output_type": "stream",
     "text": [
      "[Parallel(n_jobs=-1)]: Done  16 tasks      | elapsed:    0.2s\n",
      "[Parallel(n_jobs=-1)]: Done 1648 tasks      | elapsed:    8.5s\n",
      "[Parallel(n_jobs=-1)]: Done 2750 out of 2750 | elapsed:   14.6s finished\n",
      "[Parallel(n_jobs=-1)]: Using backend LokyBackend with 8 concurrent workers.\n"
     ]
    },
    {
     "name": "stdout",
     "output_type": "stream",
     "text": [
      "alpha: {'learning_rate': 0.4, 'loss': 'ls', 'max_depth': 2, 'n_estimators': 8}\n",
      "2 Atlanta Falcons: 2013-10-01 00:00:00\n",
      "Fitting 5 folds for each of 550 candidates, totalling 2750 fits\n"
     ]
    },
    {
     "name": "stderr",
     "output_type": "stream",
     "text": [
      "[Parallel(n_jobs=-1)]: Done  16 tasks      | elapsed:    0.1s\n",
      "[Parallel(n_jobs=-1)]: Done 1660 tasks      | elapsed:    8.8s\n",
      "[Parallel(n_jobs=-1)]: Done 2750 out of 2750 | elapsed:   14.8s finished\n",
      "[Parallel(n_jobs=-1)]: Using backend LokyBackend with 8 concurrent workers.\n"
     ]
    },
    {
     "name": "stdout",
     "output_type": "stream",
     "text": [
      "alpha: {'learning_rate': 0.5, 'loss': 'ls', 'max_depth': 2, 'n_estimators': 2}\n",
      "2 Atlanta Falcons: 2013-11-01 00:00:00\n",
      "Fitting 5 folds for each of 550 candidates, totalling 2750 fits\n"
     ]
    },
    {
     "name": "stderr",
     "output_type": "stream",
     "text": [
      "[Parallel(n_jobs=-1)]: Done  16 tasks      | elapsed:    0.1s\n",
      "[Parallel(n_jobs=-1)]: Done 1648 tasks      | elapsed:    8.1s\n",
      "[Parallel(n_jobs=-1)]: Done 2750 out of 2750 | elapsed:   14.4s finished\n",
      "[Parallel(n_jobs=-1)]: Using backend LokyBackend with 8 concurrent workers.\n"
     ]
    },
    {
     "name": "stdout",
     "output_type": "stream",
     "text": [
      "alpha: {'learning_rate': 0.2, 'loss': 'ls', 'max_depth': 2, 'n_estimators': 10}\n",
      "2 Atlanta Falcons: 2013-12-01 00:00:00\n",
      "Fitting 5 folds for each of 550 candidates, totalling 2750 fits\n"
     ]
    },
    {
     "name": "stderr",
     "output_type": "stream",
     "text": [
      "[Parallel(n_jobs=-1)]: Done  16 tasks      | elapsed:    0.1s\n",
      "[Parallel(n_jobs=-1)]: Done 1648 tasks      | elapsed:    8.2s\n",
      "[Parallel(n_jobs=-1)]: Done 2750 out of 2750 | elapsed:   14.6s finished\n",
      "[Parallel(n_jobs=-1)]: Using backend LokyBackend with 8 concurrent workers.\n"
     ]
    },
    {
     "name": "stdout",
     "output_type": "stream",
     "text": [
      "alpha: {'learning_rate': 0.4, 'loss': 'huber', 'max_depth': 2, 'n_estimators': 4}\n",
      "2 Atlanta Falcons: 2014-09-01 00:00:00\n",
      "Fitting 5 folds for each of 550 candidates, totalling 2750 fits\n"
     ]
    },
    {
     "name": "stderr",
     "output_type": "stream",
     "text": [
      "[Parallel(n_jobs=-1)]: Done  16 tasks      | elapsed:    0.1s\n",
      "[Parallel(n_jobs=-1)]: Done 1567 tasks      | elapsed:    8.3s\n",
      "[Parallel(n_jobs=-1)]: Done 2750 out of 2750 | elapsed:   14.7s finished\n",
      "[Parallel(n_jobs=-1)]: Using backend LokyBackend with 8 concurrent workers.\n"
     ]
    },
    {
     "name": "stdout",
     "output_type": "stream",
     "text": [
      "alpha: {'learning_rate': 0.3, 'loss': 'ls', 'max_depth': 2, 'n_estimators': 4}\n",
      "2 Atlanta Falcons: 2014-10-01 00:00:00\n",
      "Fitting 5 folds for each of 550 candidates, totalling 2750 fits\n"
     ]
    },
    {
     "name": "stderr",
     "output_type": "stream",
     "text": [
      "[Parallel(n_jobs=-1)]: Done  16 tasks      | elapsed:    0.1s\n",
      "[Parallel(n_jobs=-1)]: Done 2029 tasks      | elapsed:   10.1s\n",
      "[Parallel(n_jobs=-1)]: Done 2750 out of 2750 | elapsed:   14.0s finished\n",
      "[Parallel(n_jobs=-1)]: Using backend LokyBackend with 8 concurrent workers.\n"
     ]
    },
    {
     "name": "stdout",
     "output_type": "stream",
     "text": [
      "alpha: {'learning_rate': 0.15, 'loss': 'ls', 'max_depth': 2, 'n_estimators': 10}\n",
      "2 Atlanta Falcons: 2014-11-01 00:00:00\n",
      "Fitting 5 folds for each of 550 candidates, totalling 2750 fits\n"
     ]
    },
    {
     "name": "stderr",
     "output_type": "stream",
     "text": [
      "[Parallel(n_jobs=-1)]: Done  16 tasks      | elapsed:    0.1s\n",
      "[Parallel(n_jobs=-1)]: Done 1809 tasks      | elapsed:    9.0s\n",
      "[Parallel(n_jobs=-1)]: Done 2750 out of 2750 | elapsed:   13.9s finished\n",
      "[Parallel(n_jobs=-1)]: Using backend LokyBackend with 8 concurrent workers.\n"
     ]
    },
    {
     "name": "stdout",
     "output_type": "stream",
     "text": [
      "alpha: {'learning_rate': 0.4, 'loss': 'huber', 'max_depth': 2, 'n_estimators': 6}\n",
      "2 Atlanta Falcons: 2014-12-01 00:00:00\n",
      "Fitting 5 folds for each of 550 candidates, totalling 2750 fits\n"
     ]
    },
    {
     "name": "stderr",
     "output_type": "stream",
     "text": [
      "[Parallel(n_jobs=-1)]: Done  16 tasks      | elapsed:    0.1s\n",
      "[Parallel(n_jobs=-1)]: Done 1804 tasks      | elapsed:    9.1s\n",
      "[Parallel(n_jobs=-1)]: Done 2750 out of 2750 | elapsed:   14.6s finished\n",
      "[Parallel(n_jobs=-1)]: Using backend LokyBackend with 8 concurrent workers.\n"
     ]
    },
    {
     "name": "stdout",
     "output_type": "stream",
     "text": [
      "alpha: {'learning_rate': 0.2, 'loss': 'huber', 'max_depth': 2, 'n_estimators': 10}\n",
      "2 Atlanta Falcons: 2015-09-01 00:00:00\n",
      "Fitting 5 folds for each of 550 candidates, totalling 2750 fits\n"
     ]
    },
    {
     "name": "stderr",
     "output_type": "stream",
     "text": [
      "[Parallel(n_jobs=-1)]: Done  16 tasks      | elapsed:    0.2s\n",
      "[Parallel(n_jobs=-1)]: Done 1648 tasks      | elapsed:    8.9s\n",
      "[Parallel(n_jobs=-1)]: Done 2750 out of 2750 | elapsed:   15.6s finished\n",
      "[Parallel(n_jobs=-1)]: Using backend LokyBackend with 8 concurrent workers.\n"
     ]
    },
    {
     "name": "stdout",
     "output_type": "stream",
     "text": [
      "alpha: {'learning_rate': 0.3, 'loss': 'huber', 'max_depth': 2, 'n_estimators': 8}\n",
      "2 Atlanta Falcons: 2015-10-01 00:00:00\n",
      "Fitting 5 folds for each of 550 candidates, totalling 2750 fits\n"
     ]
    },
    {
     "name": "stderr",
     "output_type": "stream",
     "text": [
      "[Parallel(n_jobs=-1)]: Done  16 tasks      | elapsed:    0.3s\n",
      "[Parallel(n_jobs=-1)]: Done 1372 tasks      | elapsed:    7.6s\n",
      "[Parallel(n_jobs=-1)]: Done 2332 tasks      | elapsed:   13.4s\n",
      "[Parallel(n_jobs=-1)]: Done 2750 out of 2750 | elapsed:   15.9s finished\n",
      "[Parallel(n_jobs=-1)]: Using backend LokyBackend with 8 concurrent workers.\n"
     ]
    },
    {
     "name": "stdout",
     "output_type": "stream",
     "text": [
      "alpha: {'learning_rate': 0.3, 'loss': 'huber', 'max_depth': 2, 'n_estimators': 10}\n",
      "2 Atlanta Falcons: 2015-11-01 00:00:00\n",
      "Fitting 5 folds for each of 550 candidates, totalling 2750 fits\n"
     ]
    },
    {
     "name": "stderr",
     "output_type": "stream",
     "text": [
      "[Parallel(n_jobs=-1)]: Done  16 tasks      | elapsed:    0.1s\n",
      "[Parallel(n_jobs=-1)]: Done 1648 tasks      | elapsed:    8.2s\n",
      "[Parallel(n_jobs=-1)]: Done 2750 out of 2750 | elapsed:   14.3s finished\n",
      "[Parallel(n_jobs=-1)]: Using backend LokyBackend with 8 concurrent workers.\n"
     ]
    },
    {
     "name": "stdout",
     "output_type": "stream",
     "text": [
      "alpha: {'learning_rate': 0.2, 'loss': 'ls', 'max_depth': 2, 'n_estimators': 8}\n",
      "2 Atlanta Falcons: 2015-12-01 00:00:00\n",
      "Fitting 5 folds for each of 550 candidates, totalling 2750 fits\n"
     ]
    },
    {
     "name": "stderr",
     "output_type": "stream",
     "text": [
      "[Parallel(n_jobs=-1)]: Done  16 tasks      | elapsed:    0.2s\n",
      "[Parallel(n_jobs=-1)]: Done 1684 tasks      | elapsed:    8.4s\n",
      "[Parallel(n_jobs=-1)]: Done 2750 out of 2750 | elapsed:   14.1s finished\n",
      "[Parallel(n_jobs=-1)]: Using backend LokyBackend with 8 concurrent workers.\n"
     ]
    },
    {
     "name": "stdout",
     "output_type": "stream",
     "text": [
      "alpha: {'learning_rate': 0.5, 'loss': 'ls', 'max_depth': 2, 'n_estimators': 6}\n",
      "2 Atlanta Falcons: 2016-09-01 00:00:00\n",
      "Fitting 5 folds for each of 550 candidates, totalling 2750 fits\n"
     ]
    },
    {
     "name": "stderr",
     "output_type": "stream",
     "text": [
      "[Parallel(n_jobs=-1)]: Done  16 tasks      | elapsed:    0.1s\n",
      "[Parallel(n_jobs=-1)]: Done 1578 tasks      | elapsed:    7.8s\n",
      "[Parallel(n_jobs=-1)]: Done 2750 out of 2750 | elapsed:   14.1s finished\n",
      "[Parallel(n_jobs=-1)]: Using backend LokyBackend with 8 concurrent workers.\n"
     ]
    },
    {
     "name": "stdout",
     "output_type": "stream",
     "text": [
      "alpha: {'learning_rate': 0.15, 'loss': 'ls', 'max_depth': 2, 'n_estimators': 10}\n",
      "2 Atlanta Falcons: 2016-10-01 00:00:00\n",
      "Fitting 5 folds for each of 550 candidates, totalling 2750 fits\n"
     ]
    },
    {
     "name": "stderr",
     "output_type": "stream",
     "text": [
      "[Parallel(n_jobs=-1)]: Done  16 tasks      | elapsed:    0.1s\n",
      "[Parallel(n_jobs=-1)]: Done 1576 tasks      | elapsed:    8.6s\n",
      "[Parallel(n_jobs=-1)]: Done 2750 out of 2750 | elapsed:   16.6s finished\n",
      "[Parallel(n_jobs=-1)]: Using backend LokyBackend with 8 concurrent workers.\n"
     ]
    },
    {
     "name": "stdout",
     "output_type": "stream",
     "text": [
      "alpha: {'learning_rate': 0.3, 'loss': 'ls', 'max_depth': 2, 'n_estimators': 10}\n",
      "2 Atlanta Falcons: 2016-11-01 00:00:00\n",
      "Fitting 5 folds for each of 550 candidates, totalling 2750 fits\n"
     ]
    },
    {
     "name": "stderr",
     "output_type": "stream",
     "text": [
      "[Parallel(n_jobs=-1)]: Done  16 tasks      | elapsed:    0.1s\n",
      "[Parallel(n_jobs=-1)]: Done 1552 tasks      | elapsed:    9.4s\n",
      "[Parallel(n_jobs=-1)]: Done 2750 out of 2750 | elapsed:   17.6s finished\n",
      "[Parallel(n_jobs=-1)]: Using backend LokyBackend with 8 concurrent workers.\n"
     ]
    },
    {
     "name": "stdout",
     "output_type": "stream",
     "text": [
      "alpha: {'learning_rate': 0.5, 'loss': 'ls', 'max_depth': 2, 'n_estimators': 10}\n",
      "2 Atlanta Falcons: 2016-12-01 00:00:00\n",
      "Fitting 5 folds for each of 550 candidates, totalling 2750 fits\n"
     ]
    },
    {
     "name": "stderr",
     "output_type": "stream",
     "text": [
      "[Parallel(n_jobs=-1)]: Done  16 tasks      | elapsed:    0.1s\n",
      "[Parallel(n_jobs=-1)]: Done 1456 tasks      | elapsed:    8.5s\n",
      "[Parallel(n_jobs=-1)]: Done 2750 out of 2750 | elapsed:   16.5s finished\n",
      "[Parallel(n_jobs=-1)]: Using backend LokyBackend with 8 concurrent workers.\n"
     ]
    },
    {
     "name": "stdout",
     "output_type": "stream",
     "text": [
      "alpha: {'learning_rate': 0.5, 'loss': 'huber', 'max_depth': 2, 'n_estimators': 2}\n",
      "2 Atlanta Falcons: 2017-09-01 00:00:00\n",
      "Fitting 5 folds for each of 550 candidates, totalling 2750 fits\n"
     ]
    },
    {
     "name": "stderr",
     "output_type": "stream",
     "text": [
      "[Parallel(n_jobs=-1)]: Done  16 tasks      | elapsed:    0.2s\n",
      "[Parallel(n_jobs=-1)]: Done 1556 tasks      | elapsed:    9.0s\n",
      "[Parallel(n_jobs=-1)]: Done 2750 out of 2750 | elapsed:   15.7s finished\n",
      "[Parallel(n_jobs=-1)]: Using backend LokyBackend with 8 concurrent workers.\n"
     ]
    },
    {
     "name": "stdout",
     "output_type": "stream",
     "text": [
      "alpha: {'learning_rate': 0.3, 'loss': 'ls', 'max_depth': 2, 'n_estimators': 10}\n",
      "2 Atlanta Falcons: 2017-10-01 00:00:00\n",
      "Fitting 5 folds for each of 550 candidates, totalling 2750 fits\n"
     ]
    },
    {
     "name": "stderr",
     "output_type": "stream",
     "text": [
      "[Parallel(n_jobs=-1)]: Done  16 tasks      | elapsed:    0.1s\n",
      "[Parallel(n_jobs=-1)]: Done 1360 tasks      | elapsed:    7.3s\n",
      "[Parallel(n_jobs=-1)]: Done 2750 out of 2750 | elapsed:   15.2s finished\n",
      "[Parallel(n_jobs=-1)]: Using backend LokyBackend with 8 concurrent workers.\n"
     ]
    },
    {
     "name": "stdout",
     "output_type": "stream",
     "text": [
      "alpha: {'learning_rate': 0.4, 'loss': 'ls', 'max_depth': 2, 'n_estimators': 6}\n",
      "2 Atlanta Falcons: 2017-11-01 00:00:00\n",
      "Fitting 5 folds for each of 550 candidates, totalling 2750 fits\n"
     ]
    },
    {
     "name": "stderr",
     "output_type": "stream",
     "text": [
      "[Parallel(n_jobs=-1)]: Done  16 tasks      | elapsed:    0.1s\n",
      "[Parallel(n_jobs=-1)]: Done 1552 tasks      | elapsed:    7.6s\n",
      "[Parallel(n_jobs=-1)]: Done 2750 out of 2750 | elapsed:   14.0s finished\n",
      "[Parallel(n_jobs=-1)]: Using backend LokyBackend with 8 concurrent workers.\n"
     ]
    },
    {
     "name": "stdout",
     "output_type": "stream",
     "text": [
      "alpha: {'learning_rate': 0.4, 'loss': 'ls', 'max_depth': 2, 'n_estimators': 6}\n",
      "2 Atlanta Falcons: 2017-12-01 00:00:00\n",
      "Fitting 5 folds for each of 550 candidates, totalling 2750 fits\n"
     ]
    },
    {
     "name": "stderr",
     "output_type": "stream",
     "text": [
      "[Parallel(n_jobs=-1)]: Done  16 tasks      | elapsed:    1.5s\n",
      "[Parallel(n_jobs=-1)]: Done 2750 out of 2750 | elapsed:   17.0s finished\n",
      "[Parallel(n_jobs=-1)]: Using backend LokyBackend with 8 concurrent workers.\n"
     ]
    },
    {
     "name": "stdout",
     "output_type": "stream",
     "text": [
      "alpha: {'learning_rate': 0.6, 'loss': 'ls', 'max_depth': 2, 'n_estimators': 8}\n",
      "2 Atlanta Falcons: 2018-09-01 00:00:00\n",
      "Fitting 5 folds for each of 550 candidates, totalling 2750 fits\n"
     ]
    },
    {
     "name": "stderr",
     "output_type": "stream",
     "text": [
      "[Parallel(n_jobs=-1)]: Done  16 tasks      | elapsed:    0.1s\n",
      "[Parallel(n_jobs=-1)]: Done 1456 tasks      | elapsed:    8.1s\n",
      "[Parallel(n_jobs=-1)]: Done 2750 out of 2750 | elapsed:   15.5s finished\n",
      "[Parallel(n_jobs=-1)]: Using backend LokyBackend with 8 concurrent workers.\n"
     ]
    },
    {
     "name": "stdout",
     "output_type": "stream",
     "text": [
      "alpha: {'learning_rate': 0.5, 'loss': 'huber', 'max_depth': 2, 'n_estimators': 10}\n",
      "2 Atlanta Falcons: 2018-10-01 00:00:00\n",
      "Fitting 5 folds for each of 550 candidates, totalling 2750 fits\n"
     ]
    },
    {
     "name": "stderr",
     "output_type": "stream",
     "text": [
      "[Parallel(n_jobs=-1)]: Done  16 tasks      | elapsed:    0.2s\n",
      "[Parallel(n_jobs=-1)]: Done 1552 tasks      | elapsed:    8.2s\n",
      "[Parallel(n_jobs=-1)]: Done 2750 out of 2750 | elapsed:   15.0s finished\n",
      "[Parallel(n_jobs=-1)]: Using backend LokyBackend with 8 concurrent workers.\n"
     ]
    },
    {
     "name": "stdout",
     "output_type": "stream",
     "text": [
      "alpha: {'learning_rate': 0.4, 'loss': 'ls', 'max_depth': 2, 'n_estimators': 10}\n",
      "2 Atlanta Falcons: 2018-11-01 00:00:00\n",
      "Fitting 5 folds for each of 550 candidates, totalling 2750 fits\n"
     ]
    },
    {
     "name": "stderr",
     "output_type": "stream",
     "text": [
      "[Parallel(n_jobs=-1)]: Done  16 tasks      | elapsed:    0.1s\n",
      "[Parallel(n_jobs=-1)]: Done 1745 tasks      | elapsed:    9.1s\n",
      "[Parallel(n_jobs=-1)]: Done 2750 out of 2750 | elapsed:   14.6s finished\n",
      "[Parallel(n_jobs=-1)]: Using backend LokyBackend with 8 concurrent workers.\n"
     ]
    },
    {
     "name": "stdout",
     "output_type": "stream",
     "text": [
      "alpha: {'learning_rate': 0.4, 'loss': 'huber', 'max_depth': 2, 'n_estimators': 6}\n",
      "2 Atlanta Falcons: 2018-12-01 00:00:00\n",
      "Fitting 5 folds for each of 550 candidates, totalling 2750 fits\n"
     ]
    },
    {
     "name": "stderr",
     "output_type": "stream",
     "text": [
      "[Parallel(n_jobs=-1)]: Done  16 tasks      | elapsed:    0.1s\n",
      "[Parallel(n_jobs=-1)]: Done 1552 tasks      | elapsed:    8.1s\n",
      "[Parallel(n_jobs=-1)]: Done 2750 out of 2750 | elapsed:   14.9s finished\n",
      "[Parallel(n_jobs=-1)]: Using backend LokyBackend with 8 concurrent workers.\n"
     ]
    },
    {
     "name": "stdout",
     "output_type": "stream",
     "text": [
      "alpha: {'learning_rate': 0.2, 'loss': 'ls', 'max_depth': 4, 'n_estimators': 8}\n",
      "2 Atlanta Falcons: 2019-09-01 00:00:00\n",
      "Fitting 5 folds for each of 550 candidates, totalling 2750 fits\n"
     ]
    },
    {
     "name": "stderr",
     "output_type": "stream",
     "text": [
      "[Parallel(n_jobs=-1)]: Done  16 tasks      | elapsed:    0.5s\n",
      "[Parallel(n_jobs=-1)]: Done 2750 out of 2750 | elapsed:   15.1s finished\n",
      "[Parallel(n_jobs=-1)]: Using backend LokyBackend with 8 concurrent workers.\n"
     ]
    },
    {
     "name": "stdout",
     "output_type": "stream",
     "text": [
      "alpha: {'learning_rate': 0.4, 'loss': 'ls', 'max_depth': 2, 'n_estimators': 10}\n",
      "2 Atlanta Falcons: 2019-10-01 00:00:00\n",
      "Fitting 5 folds for each of 550 candidates, totalling 2750 fits\n"
     ]
    },
    {
     "name": "stderr",
     "output_type": "stream",
     "text": [
      "[Parallel(n_jobs=-1)]: Done  16 tasks      | elapsed:    0.2s\n",
      "[Parallel(n_jobs=-1)]: Done 976 tasks      | elapsed:    5.7s\n",
      "[Parallel(n_jobs=-1)]: Done 2576 tasks      | elapsed:   14.5s\n",
      "[Parallel(n_jobs=-1)]: Done 2750 out of 2750 | elapsed:   15.7s finished\n",
      "[Parallel(n_jobs=-1)]: Using backend LokyBackend with 8 concurrent workers.\n"
     ]
    },
    {
     "name": "stdout",
     "output_type": "stream",
     "text": [
      "alpha: {'learning_rate': 0.3, 'loss': 'huber', 'max_depth': 2, 'n_estimators': 8}\n",
      "2 Atlanta Falcons: 2019-11-01 00:00:00\n",
      "Fitting 5 folds for each of 550 candidates, totalling 2750 fits\n"
     ]
    },
    {
     "name": "stderr",
     "output_type": "stream",
     "text": [
      "[Parallel(n_jobs=-1)]: Done  16 tasks      | elapsed:    0.2s\n",
      "[Parallel(n_jobs=-1)]: Done 1636 tasks      | elapsed:    8.7s\n",
      "[Parallel(n_jobs=-1)]: Done 2750 out of 2750 | elapsed:   15.3s finished\n",
      "[Parallel(n_jobs=-1)]: Using backend LokyBackend with 8 concurrent workers.\n"
     ]
    },
    {
     "name": "stdout",
     "output_type": "stream",
     "text": [
      "alpha: {'learning_rate': 0.5, 'loss': 'huber', 'max_depth': 2, 'n_estimators': 4}\n",
      "2 Atlanta Falcons: 2019-12-01 00:00:00\n",
      "Fitting 5 folds for each of 550 candidates, totalling 2750 fits\n"
     ]
    },
    {
     "name": "stderr",
     "output_type": "stream",
     "text": [
      "[Parallel(n_jobs=-1)]: Done  16 tasks      | elapsed:    0.1s\n",
      "[Parallel(n_jobs=-1)]: Done 1567 tasks      | elapsed:    8.5s\n",
      "[Parallel(n_jobs=-1)]: Done 2750 out of 2750 | elapsed:   15.3s finished\n",
      "[Parallel(n_jobs=-1)]: Using backend LokyBackend with 8 concurrent workers.\n"
     ]
    },
    {
     "name": "stdout",
     "output_type": "stream",
     "text": [
      "alpha: {'learning_rate': 0.2, 'loss': 'ls', 'max_depth': 2, 'n_estimators': 10}\n",
      "3 Carolina Panthers: 2012-09-01 00:00:00\n",
      "Fitting 5 folds for each of 550 candidates, totalling 2750 fits\n"
     ]
    },
    {
     "name": "stderr",
     "output_type": "stream",
     "text": [
      "[Parallel(n_jobs=-1)]: Done  16 tasks      | elapsed:    0.1s\n",
      "[Parallel(n_jobs=-1)]: Done 1660 tasks      | elapsed:    8.1s\n",
      "[Parallel(n_jobs=-1)]: Done 2750 out of 2750 | elapsed:   14.5s finished\n",
      "[Parallel(n_jobs=-1)]: Using backend LokyBackend with 8 concurrent workers.\n"
     ]
    },
    {
     "name": "stdout",
     "output_type": "stream",
     "text": [
      "alpha: {'learning_rate': 0.5, 'loss': 'ls', 'max_depth': 2, 'n_estimators': 4}\n",
      "3 Carolina Panthers: 2012-10-01 00:00:00\n",
      "Fitting 5 folds for each of 550 candidates, totalling 2750 fits\n"
     ]
    },
    {
     "name": "stderr",
     "output_type": "stream",
     "text": [
      "[Parallel(n_jobs=-1)]: Done  16 tasks      | elapsed:    0.1s\n",
      "[Parallel(n_jobs=-1)]: Done 1504 tasks      | elapsed:    7.5s\n",
      "[Parallel(n_jobs=-1)]: Done 2750 out of 2750 | elapsed:   14.1s finished\n",
      "[Parallel(n_jobs=-1)]: Using backend LokyBackend with 8 concurrent workers.\n"
     ]
    },
    {
     "name": "stdout",
     "output_type": "stream",
     "text": [
      "alpha: {'learning_rate': 0.5, 'loss': 'ls', 'max_depth': 2, 'n_estimators': 8}\n",
      "3 Carolina Panthers: 2012-11-01 00:00:00\n",
      "Fitting 5 folds for each of 550 candidates, totalling 2750 fits\n"
     ]
    },
    {
     "name": "stderr",
     "output_type": "stream",
     "text": [
      "[Parallel(n_jobs=-1)]: Done  16 tasks      | elapsed:    0.2s\n",
      "[Parallel(n_jobs=-1)]: Done 1745 tasks      | elapsed:    9.2s\n",
      "[Parallel(n_jobs=-1)]: Done 2750 out of 2750 | elapsed:   14.7s finished\n",
      "[Parallel(n_jobs=-1)]: Using backend LokyBackend with 8 concurrent workers.\n"
     ]
    },
    {
     "name": "stdout",
     "output_type": "stream",
     "text": [
      "alpha: {'learning_rate': 0.5, 'loss': 'ls', 'max_depth': 2, 'n_estimators': 6}\n",
      "3 Carolina Panthers: 2012-12-01 00:00:00\n",
      "Fitting 5 folds for each of 550 candidates, totalling 2750 fits\n"
     ]
    },
    {
     "name": "stderr",
     "output_type": "stream",
     "text": [
      "[Parallel(n_jobs=-1)]: Done  16 tasks      | elapsed:    0.1s\n",
      "[Parallel(n_jobs=-1)]: Done 1745 tasks      | elapsed:    9.2s\n",
      "[Parallel(n_jobs=-1)]: Done 2750 out of 2750 | elapsed:   14.8s finished\n",
      "[Parallel(n_jobs=-1)]: Using backend LokyBackend with 8 concurrent workers.\n"
     ]
    },
    {
     "name": "stdout",
     "output_type": "stream",
     "text": [
      "alpha: {'learning_rate': 0.2, 'loss': 'ls', 'max_depth': 2, 'n_estimators': 10}\n",
      "3 Carolina Panthers: 2013-09-01 00:00:00\n",
      "Fitting 5 folds for each of 550 candidates, totalling 2750 fits\n"
     ]
    },
    {
     "name": "stderr",
     "output_type": "stream",
     "text": [
      "[Parallel(n_jobs=-1)]: Done  16 tasks      | elapsed:    0.2s\n",
      "[Parallel(n_jobs=-1)]: Done 1556 tasks      | elapsed:    8.2s\n",
      "[Parallel(n_jobs=-1)]: Done 2750 out of 2750 | elapsed:   15.1s finished\n",
      "[Parallel(n_jobs=-1)]: Using backend LokyBackend with 8 concurrent workers.\n"
     ]
    },
    {
     "name": "stdout",
     "output_type": "stream",
     "text": [
      "alpha: {'learning_rate': 0.4, 'loss': 'ls', 'max_depth': 2, 'n_estimators': 8}\n",
      "3 Carolina Panthers: 2013-10-01 00:00:00\n",
      "Fitting 5 folds for each of 550 candidates, totalling 2750 fits\n"
     ]
    },
    {
     "name": "stderr",
     "output_type": "stream",
     "text": [
      "[Parallel(n_jobs=-1)]: Done  16 tasks      | elapsed:    0.1s\n",
      "[Parallel(n_jobs=-1)]: Done 1168 tasks      | elapsed:    6.3s\n",
      "[Parallel(n_jobs=-1)]: Done 2750 out of 2750 | elapsed:   15.1s finished\n",
      "[Parallel(n_jobs=-1)]: Using backend LokyBackend with 8 concurrent workers.\n"
     ]
    },
    {
     "name": "stdout",
     "output_type": "stream",
     "text": [
      "alpha: {'learning_rate': 0.5, 'loss': 'ls', 'max_depth': 2, 'n_estimators': 10}\n",
      "3 Carolina Panthers: 2013-11-01 00:00:00\n",
      "Fitting 5 folds for each of 550 candidates, totalling 2750 fits\n"
     ]
    },
    {
     "name": "stderr",
     "output_type": "stream",
     "text": [
      "[Parallel(n_jobs=-1)]: Done  16 tasks      | elapsed:    0.1s\n",
      "[Parallel(n_jobs=-1)]: Done 1648 tasks      | elapsed:    8.2s\n",
      "[Parallel(n_jobs=-1)]: Done 2750 out of 2750 | elapsed:   14.4s finished\n",
      "[Parallel(n_jobs=-1)]: Using backend LokyBackend with 8 concurrent workers.\n"
     ]
    },
    {
     "name": "stdout",
     "output_type": "stream",
     "text": [
      "alpha: {'learning_rate': 0.4, 'loss': 'ls', 'max_depth': 2, 'n_estimators': 6}\n",
      "3 Carolina Panthers: 2013-12-01 00:00:00\n",
      "Fitting 5 folds for each of 550 candidates, totalling 2750 fits\n"
     ]
    },
    {
     "name": "stderr",
     "output_type": "stream",
     "text": [
      "[Parallel(n_jobs=-1)]: Done  16 tasks      | elapsed:    0.1s\n",
      "[Parallel(n_jobs=-1)]: Done 1684 tasks      | elapsed:    9.0s\n",
      "[Parallel(n_jobs=-1)]: Done 2750 out of 2750 | elapsed:   15.1s finished\n",
      "[Parallel(n_jobs=-1)]: Using backend LokyBackend with 8 concurrent workers.\n"
     ]
    },
    {
     "name": "stdout",
     "output_type": "stream",
     "text": [
      "alpha: {'learning_rate': 0.4, 'loss': 'ls', 'max_depth': 2, 'n_estimators': 8}\n",
      "3 Carolina Panthers: 2014-09-01 00:00:00\n",
      "Fitting 5 folds for each of 550 candidates, totalling 2750 fits\n"
     ]
    },
    {
     "name": "stderr",
     "output_type": "stream",
     "text": [
      "[Parallel(n_jobs=-1)]: Done  16 tasks      | elapsed:    0.1s\n",
      "[Parallel(n_jobs=-1)]: Done 1545 tasks      | elapsed:    7.9s\n",
      "[Parallel(n_jobs=-1)]: Done 2750 out of 2750 | elapsed:   16.3s finished\n",
      "[Parallel(n_jobs=-1)]: Using backend LokyBackend with 8 concurrent workers.\n"
     ]
    },
    {
     "name": "stdout",
     "output_type": "stream",
     "text": [
      "alpha: {'learning_rate': 0.4, 'loss': 'ls', 'max_depth': 2, 'n_estimators': 8}\n",
      "3 Carolina Panthers: 2014-10-01 00:00:00\n",
      "Fitting 5 folds for each of 550 candidates, totalling 2750 fits\n"
     ]
    },
    {
     "name": "stderr",
     "output_type": "stream",
     "text": [
      "[Parallel(n_jobs=-1)]: Done  16 tasks      | elapsed:    0.1s\n",
      "[Parallel(n_jobs=-1)]: Done 1936 tasks      | elapsed:   10.2s\n",
      "[Parallel(n_jobs=-1)]: Done 2750 out of 2750 | elapsed:   14.6s finished\n",
      "[Parallel(n_jobs=-1)]: Using backend LokyBackend with 8 concurrent workers.\n"
     ]
    },
    {
     "name": "stdout",
     "output_type": "stream",
     "text": [
      "alpha: {'learning_rate': 0.5, 'loss': 'ls', 'max_depth': 2, 'n_estimators': 6}\n",
      "3 Carolina Panthers: 2014-11-01 00:00:00\n",
      "Fitting 5 folds for each of 550 candidates, totalling 2750 fits\n"
     ]
    },
    {
     "name": "stderr",
     "output_type": "stream",
     "text": [
      "[Parallel(n_jobs=-1)]: Done  16 tasks      | elapsed:    0.1s\n",
      "[Parallel(n_jobs=-1)]: Done 1168 tasks      | elapsed:    6.0s\n",
      "[Parallel(n_jobs=-1)]: Done 2750 out of 2750 | elapsed:   14.8s finished\n",
      "[Parallel(n_jobs=-1)]: Using backend LokyBackend with 8 concurrent workers.\n"
     ]
    },
    {
     "name": "stdout",
     "output_type": "stream",
     "text": [
      "alpha: {'learning_rate': 0.2, 'loss': 'ls', 'max_depth': 2, 'n_estimators': 10}\n",
      "3 Carolina Panthers: 2014-12-01 00:00:00\n",
      "Fitting 5 folds for each of 550 candidates, totalling 2750 fits\n"
     ]
    },
    {
     "name": "stderr",
     "output_type": "stream",
     "text": [
      "[Parallel(n_jobs=-1)]: Done  16 tasks      | elapsed:    0.2s\n",
      "[Parallel(n_jobs=-1)]: Done 1672 tasks      | elapsed:    9.1s\n",
      "[Parallel(n_jobs=-1)]: Done 2750 out of 2750 | elapsed:   15.1s finished\n",
      "[Parallel(n_jobs=-1)]: Using backend LokyBackend with 8 concurrent workers.\n"
     ]
    },
    {
     "name": "stdout",
     "output_type": "stream",
     "text": [
      "alpha: {'learning_rate': 0.3, 'loss': 'huber', 'max_depth': 2, 'n_estimators': 8}\n",
      "3 Carolina Panthers: 2015-09-01 00:00:00\n",
      "Fitting 5 folds for each of 550 candidates, totalling 2750 fits\n"
     ]
    },
    {
     "name": "stderr",
     "output_type": "stream",
     "text": [
      "[Parallel(n_jobs=-1)]: Done  16 tasks      | elapsed:    0.2s\n",
      "[Parallel(n_jobs=-1)]: Done 1648 tasks      | elapsed:    8.3s\n",
      "[Parallel(n_jobs=-1)]: Done 2750 out of 2750 | elapsed:   15.0s finished\n",
      "[Parallel(n_jobs=-1)]: Using backend LokyBackend with 8 concurrent workers.\n"
     ]
    },
    {
     "name": "stdout",
     "output_type": "stream",
     "text": [
      "alpha: {'learning_rate': 0.3, 'loss': 'ls', 'max_depth': 2, 'n_estimators': 8}\n",
      "3 Carolina Panthers: 2015-10-01 00:00:00\n",
      "Fitting 5 folds for each of 550 candidates, totalling 2750 fits\n"
     ]
    },
    {
     "name": "stderr",
     "output_type": "stream",
     "text": [
      "[Parallel(n_jobs=-1)]: Done  16 tasks      | elapsed:    0.1s\n",
      "[Parallel(n_jobs=-1)]: Done 1684 tasks      | elapsed:    8.3s\n",
      "[Parallel(n_jobs=-1)]: Done 2750 out of 2750 | elapsed:   14.0s finished\n",
      "[Parallel(n_jobs=-1)]: Using backend LokyBackend with 8 concurrent workers.\n"
     ]
    },
    {
     "name": "stdout",
     "output_type": "stream",
     "text": [
      "alpha: {'learning_rate': 0.4, 'loss': 'huber', 'max_depth': 2, 'n_estimators': 10}\n",
      "3 Carolina Panthers: 2015-11-01 00:00:00\n",
      "Fitting 5 folds for each of 550 candidates, totalling 2750 fits\n"
     ]
    },
    {
     "name": "stderr",
     "output_type": "stream",
     "text": [
      "[Parallel(n_jobs=-1)]: Done  16 tasks      | elapsed:    0.1s\n",
      "[Parallel(n_jobs=-1)]: Done 1578 tasks      | elapsed:    7.8s\n",
      "[Parallel(n_jobs=-1)]: Done 2750 out of 2750 | elapsed:   14.6s finished\n",
      "[Parallel(n_jobs=-1)]: Using backend LokyBackend with 8 concurrent workers.\n"
     ]
    },
    {
     "name": "stdout",
     "output_type": "stream",
     "text": [
      "alpha: {'learning_rate': 0.4, 'loss': 'huber', 'max_depth': 2, 'n_estimators': 6}\n",
      "3 Carolina Panthers: 2015-12-01 00:00:00\n",
      "Fitting 5 folds for each of 550 candidates, totalling 2750 fits\n"
     ]
    },
    {
     "name": "stderr",
     "output_type": "stream",
     "text": [
      "[Parallel(n_jobs=-1)]: Done  16 tasks      | elapsed:    0.1s\n",
      "[Parallel(n_jobs=-1)]: Done 1936 tasks      | elapsed:   10.0s\n",
      "[Parallel(n_jobs=-1)]: Done 2750 out of 2750 | elapsed:   14.4s finished\n",
      "[Parallel(n_jobs=-1)]: Using backend LokyBackend with 8 concurrent workers.\n"
     ]
    },
    {
     "name": "stdout",
     "output_type": "stream",
     "text": [
      "alpha: {'learning_rate': 0.2, 'loss': 'huber', 'max_depth': 2, 'n_estimators': 10}\n",
      "3 Carolina Panthers: 2016-09-01 00:00:00\n",
      "Fitting 5 folds for each of 550 candidates, totalling 2750 fits\n"
     ]
    },
    {
     "name": "stderr",
     "output_type": "stream",
     "text": [
      "[Parallel(n_jobs=-1)]: Done  16 tasks      | elapsed:    0.1s\n",
      "[Parallel(n_jobs=-1)]: Done 1672 tasks      | elapsed:    8.2s\n",
      "[Parallel(n_jobs=-1)]: Done 2750 out of 2750 | elapsed:   14.4s finished\n",
      "[Parallel(n_jobs=-1)]: Using backend LokyBackend with 8 concurrent workers.\n"
     ]
    },
    {
     "name": "stdout",
     "output_type": "stream",
     "text": [
      "alpha: {'learning_rate': 0.3, 'loss': 'ls', 'max_depth': 4, 'n_estimators': 8}\n",
      "3 Carolina Panthers: 2016-10-01 00:00:00\n",
      "Fitting 5 folds for each of 550 candidates, totalling 2750 fits\n"
     ]
    },
    {
     "name": "stderr",
     "output_type": "stream",
     "text": [
      "[Parallel(n_jobs=-1)]: Done  16 tasks      | elapsed:    0.2s\n",
      "[Parallel(n_jobs=-1)]: Done 1168 tasks      | elapsed:    6.6s\n",
      "[Parallel(n_jobs=-1)]: Done 2750 out of 2750 | elapsed:   15.3s finished\n",
      "[Parallel(n_jobs=-1)]: Using backend LokyBackend with 8 concurrent workers.\n"
     ]
    },
    {
     "name": "stdout",
     "output_type": "stream",
     "text": [
      "alpha: {'learning_rate': 0.4, 'loss': 'ls', 'max_depth': 2, 'n_estimators': 8}\n",
      "3 Carolina Panthers: 2016-11-01 00:00:00\n",
      "Fitting 5 folds for each of 550 candidates, totalling 2750 fits\n"
     ]
    },
    {
     "name": "stderr",
     "output_type": "stream",
     "text": [
      "[Parallel(n_jobs=-1)]: Done  16 tasks      | elapsed:    0.1s\n",
      "[Parallel(n_jobs=-1)]: Done 1578 tasks      | elapsed:    7.6s\n",
      "[Parallel(n_jobs=-1)]: Done 2750 out of 2750 | elapsed:   13.7s finished\n",
      "[Parallel(n_jobs=-1)]: Using backend LokyBackend with 8 concurrent workers.\n"
     ]
    },
    {
     "name": "stdout",
     "output_type": "stream",
     "text": [
      "alpha: {'learning_rate': 0.3, 'loss': 'huber', 'max_depth': 2, 'n_estimators': 10}\n",
      "3 Carolina Panthers: 2016-12-01 00:00:00\n",
      "Fitting 5 folds for each of 550 candidates, totalling 2750 fits\n"
     ]
    },
    {
     "name": "stderr",
     "output_type": "stream",
     "text": [
      "[Parallel(n_jobs=-1)]: Done  16 tasks      | elapsed:    0.2s\n",
      "[Parallel(n_jobs=-1)]: Done 1816 tasks      | elapsed:    8.9s\n",
      "[Parallel(n_jobs=-1)]: Done 2750 out of 2750 | elapsed:   14.0s finished\n",
      "[Parallel(n_jobs=-1)]: Using backend LokyBackend with 8 concurrent workers.\n"
     ]
    },
    {
     "name": "stdout",
     "output_type": "stream",
     "text": [
      "alpha: {'learning_rate': 0.3, 'loss': 'ls', 'max_depth': 2, 'n_estimators': 10}\n",
      "3 Carolina Panthers: 2017-09-01 00:00:00\n",
      "Fitting 5 folds for each of 550 candidates, totalling 2750 fits\n"
     ]
    },
    {
     "name": "stderr",
     "output_type": "stream",
     "text": [
      "[Parallel(n_jobs=-1)]: Done  16 tasks      | elapsed:    0.1s\n",
      "[Parallel(n_jobs=-1)]: Done 1936 tasks      | elapsed:    9.5s\n",
      "[Parallel(n_jobs=-1)]: Done 2750 out of 2750 | elapsed:   13.8s finished\n",
      "[Parallel(n_jobs=-1)]: Using backend LokyBackend with 8 concurrent workers.\n"
     ]
    },
    {
     "name": "stdout",
     "output_type": "stream",
     "text": [
      "alpha: {'learning_rate': 0.15, 'loss': 'ls', 'max_depth': 2, 'n_estimators': 10}\n",
      "3 Carolina Panthers: 2017-10-01 00:00:00\n",
      "Fitting 5 folds for each of 550 candidates, totalling 2750 fits\n"
     ]
    },
    {
     "name": "stderr",
     "output_type": "stream",
     "text": [
      "[Parallel(n_jobs=-1)]: Done  16 tasks      | elapsed:    0.1s\n",
      "[Parallel(n_jobs=-1)]: Done 1523 tasks      | elapsed:    8.2s\n",
      "[Parallel(n_jobs=-1)]: Done 2750 out of 2750 | elapsed:   14.8s finished\n",
      "[Parallel(n_jobs=-1)]: Using backend LokyBackend with 8 concurrent workers.\n"
     ]
    },
    {
     "name": "stdout",
     "output_type": "stream",
     "text": [
      "alpha: {'learning_rate': 0.6, 'loss': 'huber', 'max_depth': 2, 'n_estimators': 6}\n",
      "3 Carolina Panthers: 2017-11-01 00:00:00\n",
      "Fitting 5 folds for each of 550 candidates, totalling 2750 fits\n"
     ]
    },
    {
     "name": "stderr",
     "output_type": "stream",
     "text": [
      "[Parallel(n_jobs=-1)]: Done  16 tasks      | elapsed:    0.2s\n",
      "[Parallel(n_jobs=-1)]: Done 1578 tasks      | elapsed:    8.0s\n",
      "[Parallel(n_jobs=-1)]: Done 2750 out of 2750 | elapsed:   14.6s finished\n",
      "[Parallel(n_jobs=-1)]: Using backend LokyBackend with 8 concurrent workers.\n"
     ]
    },
    {
     "name": "stdout",
     "output_type": "stream",
     "text": [
      "alpha: {'learning_rate': 0.5, 'loss': 'ls', 'max_depth': 2, 'n_estimators': 6}\n",
      "3 Carolina Panthers: 2017-12-01 00:00:00\n",
      "Fitting 5 folds for each of 550 candidates, totalling 2750 fits\n"
     ]
    },
    {
     "name": "stderr",
     "output_type": "stream",
     "text": [
      "[Parallel(n_jobs=-1)]: Done  16 tasks      | elapsed:    0.1s\n",
      "[Parallel(n_jobs=-1)]: Done 1936 tasks      | elapsed:    9.8s\n",
      "[Parallel(n_jobs=-1)]: Done 2750 out of 2750 | elapsed:   14.2s finished\n",
      "[Parallel(n_jobs=-1)]: Using backend LokyBackend with 8 concurrent workers.\n"
     ]
    },
    {
     "name": "stdout",
     "output_type": "stream",
     "text": [
      "alpha: {'learning_rate': 0.6, 'loss': 'huber', 'max_depth': 2, 'n_estimators': 6}\n",
      "3 Carolina Panthers: 2018-09-01 00:00:00\n",
      "Fitting 5 folds for each of 550 candidates, totalling 2750 fits\n"
     ]
    },
    {
     "name": "stderr",
     "output_type": "stream",
     "text": [
      "[Parallel(n_jobs=-1)]: Done  16 tasks      | elapsed:    0.2s\n",
      "[Parallel(n_jobs=-1)]: Done 1648 tasks      | elapsed:    8.3s\n",
      "[Parallel(n_jobs=-1)]: Done 2750 out of 2750 | elapsed:   14.5s finished\n",
      "[Parallel(n_jobs=-1)]: Using backend LokyBackend with 8 concurrent workers.\n"
     ]
    },
    {
     "name": "stdout",
     "output_type": "stream",
     "text": [
      "alpha: {'learning_rate': 0.3, 'loss': 'huber', 'max_depth': 2, 'n_estimators': 4}\n",
      "3 Carolina Panthers: 2018-10-01 00:00:00\n",
      "Fitting 5 folds for each of 550 candidates, totalling 2750 fits\n"
     ]
    },
    {
     "name": "stderr",
     "output_type": "stream",
     "text": [
      "[Parallel(n_jobs=-1)]: Done  16 tasks      | elapsed:    0.1s\n",
      "[Parallel(n_jobs=-1)]: Done 1648 tasks      | elapsed:    9.2s\n",
      "[Parallel(n_jobs=-1)]: Done 2750 out of 2750 | elapsed:   16.3s finished\n",
      "[Parallel(n_jobs=-1)]: Using backend LokyBackend with 8 concurrent workers.\n"
     ]
    },
    {
     "name": "stdout",
     "output_type": "stream",
     "text": [
      "alpha: {'learning_rate': 0.4, 'loss': 'ls', 'max_depth': 2, 'n_estimators': 4}\n",
      "3 Carolina Panthers: 2018-11-01 00:00:00\n",
      "Fitting 5 folds for each of 550 candidates, totalling 2750 fits\n"
     ]
    },
    {
     "name": "stderr",
     "output_type": "stream",
     "text": [
      "[Parallel(n_jobs=-1)]: Done  16 tasks      | elapsed:    0.1s\n",
      "[Parallel(n_jobs=-1)]: Done 1360 tasks      | elapsed:    8.1s\n",
      "[Parallel(n_jobs=-1)]: Done 2750 out of 2750 | elapsed:   17.3s finished\n",
      "[Parallel(n_jobs=-1)]: Using backend LokyBackend with 8 concurrent workers.\n"
     ]
    },
    {
     "name": "stdout",
     "output_type": "stream",
     "text": [
      "alpha: {'learning_rate': 0.1, 'loss': 'ls', 'max_depth': 2, 'n_estimators': 10}\n",
      "3 Carolina Panthers: 2018-12-01 00:00:00\n",
      "Fitting 5 folds for each of 550 candidates, totalling 2750 fits\n"
     ]
    },
    {
     "name": "stderr",
     "output_type": "stream",
     "text": [
      "[Parallel(n_jobs=-1)]: Done  16 tasks      | elapsed:    0.1s\n",
      "[Parallel(n_jobs=-1)]: Done 1360 tasks      | elapsed:    8.3s\n",
      "[Parallel(n_jobs=-1)]: Done 2750 out of 2750 | elapsed:   17.5s finished\n",
      "[Parallel(n_jobs=-1)]: Using backend LokyBackend with 8 concurrent workers.\n"
     ]
    },
    {
     "name": "stdout",
     "output_type": "stream",
     "text": [
      "alpha: {'learning_rate': 0.2, 'loss': 'ls', 'max_depth': 10, 'n_estimators': 2}\n",
      "3 Carolina Panthers: 2019-09-01 00:00:00\n",
      "Fitting 5 folds for each of 550 candidates, totalling 2750 fits\n"
     ]
    },
    {
     "name": "stderr",
     "output_type": "stream",
     "text": [
      "[Parallel(n_jobs=-1)]: Done  16 tasks      | elapsed:    0.1s\n",
      "[Parallel(n_jobs=-1)]: Done 1168 tasks      | elapsed:    6.8s\n",
      "[Parallel(n_jobs=-1)]: Done 2750 out of 2750 | elapsed:   17.1s finished\n",
      "[Parallel(n_jobs=-1)]: Using backend LokyBackend with 8 concurrent workers.\n"
     ]
    },
    {
     "name": "stdout",
     "output_type": "stream",
     "text": [
      "alpha: {'learning_rate': 0.1, 'loss': 'ls', 'max_depth': 2, 'n_estimators': 10}\n",
      "3 Carolina Panthers: 2019-10-01 00:00:00\n",
      "Fitting 5 folds for each of 550 candidates, totalling 2750 fits\n"
     ]
    },
    {
     "name": "stderr",
     "output_type": "stream",
     "text": [
      "[Parallel(n_jobs=-1)]: Done  16 tasks      | elapsed:    0.2s\n",
      "[Parallel(n_jobs=-1)]: Done 1576 tasks      | elapsed:    9.2s\n",
      "[Parallel(n_jobs=-1)]: Done 2750 out of 2750 | elapsed:   16.6s finished\n",
      "[Parallel(n_jobs=-1)]: Using backend LokyBackend with 8 concurrent workers.\n"
     ]
    },
    {
     "name": "stdout",
     "output_type": "stream",
     "text": [
      "alpha: {'learning_rate': 0.3, 'loss': 'huber', 'max_depth': 2, 'n_estimators': 4}\n",
      "3 Carolina Panthers: 2019-11-01 00:00:00\n",
      "Fitting 5 folds for each of 550 candidates, totalling 2750 fits\n"
     ]
    },
    {
     "name": "stderr",
     "output_type": "stream",
     "text": [
      "[Parallel(n_jobs=-1)]: Done  16 tasks      | elapsed:    0.2s\n",
      "[Parallel(n_jobs=-1)]: Done 1465 tasks      | elapsed:    8.8s\n",
      "[Parallel(n_jobs=-1)]: Done 2750 out of 2750 | elapsed:   16.9s finished\n",
      "[Parallel(n_jobs=-1)]: Using backend LokyBackend with 8 concurrent workers.\n"
     ]
    },
    {
     "name": "stdout",
     "output_type": "stream",
     "text": [
      "alpha: {'learning_rate': 0.15, 'loss': 'ls', 'max_depth': 2, 'n_estimators': 8}\n",
      "3 Carolina Panthers: 2019-12-01 00:00:00\n",
      "Fitting 5 folds for each of 550 candidates, totalling 2750 fits\n"
     ]
    },
    {
     "name": "stderr",
     "output_type": "stream",
     "text": [
      "[Parallel(n_jobs=-1)]: Done  16 tasks      | elapsed:    0.1s\n",
      "[Parallel(n_jobs=-1)]: Done 1356 tasks      | elapsed:    8.2s\n",
      "[Parallel(n_jobs=-1)]: Done 2750 out of 2750 | elapsed:   17.4s finished\n",
      "[Parallel(n_jobs=-1)]: Using backend LokyBackend with 8 concurrent workers.\n"
     ]
    },
    {
     "name": "stdout",
     "output_type": "stream",
     "text": [
      "alpha: {'learning_rate': 0.15, 'loss': 'ls', 'max_depth': 2, 'n_estimators': 8}\n",
      "4 New Orleans Saints: 2012-09-01 00:00:00\n",
      "Fitting 5 folds for each of 550 candidates, totalling 2750 fits\n"
     ]
    },
    {
     "name": "stderr",
     "output_type": "stream",
     "text": [
      "[Parallel(n_jobs=-1)]: Done  16 tasks      | elapsed:    0.2s\n",
      "[Parallel(n_jobs=-1)]: Done 1552 tasks      | elapsed:   10.1s\n",
      "[Parallel(n_jobs=-1)]: Done 2750 out of 2750 | elapsed:   18.7s finished\n",
      "[Parallel(n_jobs=-1)]: Using backend LokyBackend with 8 concurrent workers.\n"
     ]
    },
    {
     "name": "stdout",
     "output_type": "stream",
     "text": [
      "alpha: {'learning_rate': 0.5, 'loss': 'huber', 'max_depth': 2, 'n_estimators': 2}\n",
      "4 New Orleans Saints: 2012-10-01 00:00:00\n",
      "Fitting 5 folds for each of 550 candidates, totalling 2750 fits\n"
     ]
    },
    {
     "name": "stderr",
     "output_type": "stream",
     "text": [
      "[Parallel(n_jobs=-1)]: Done  16 tasks      | elapsed:    0.2s\n",
      "[Parallel(n_jobs=-1)]: Done 1168 tasks      | elapsed:    7.1s\n",
      "[Parallel(n_jobs=-1)]: Done 2750 out of 2750 | elapsed:   17.3s finished\n",
      "[Parallel(n_jobs=-1)]: Using backend LokyBackend with 8 concurrent workers.\n"
     ]
    },
    {
     "name": "stdout",
     "output_type": "stream",
     "text": [
      "alpha: {'learning_rate': 0.3, 'loss': 'huber', 'max_depth': 2, 'n_estimators': 6}\n",
      "4 New Orleans Saints: 2012-11-01 00:00:00\n",
      "Fitting 5 folds for each of 550 candidates, totalling 2750 fits\n"
     ]
    },
    {
     "name": "stderr",
     "output_type": "stream",
     "text": [
      "[Parallel(n_jobs=-1)]: Done  16 tasks      | elapsed:    0.2s\n",
      "[Parallel(n_jobs=-1)]: Done 1038 tasks      | elapsed:    8.7s\n",
      "[Parallel(n_jobs=-1)]: Done 2158 tasks      | elapsed:   16.0s\n",
      "[Parallel(n_jobs=-1)]: Done 2750 out of 2750 | elapsed:   20.4s finished\n",
      "[Parallel(n_jobs=-1)]: Using backend LokyBackend with 8 concurrent workers.\n"
     ]
    },
    {
     "name": "stdout",
     "output_type": "stream",
     "text": [
      "alpha: {'learning_rate': 0.2, 'loss': 'huber', 'max_depth': 2, 'n_estimators': 8}\n",
      "4 New Orleans Saints: 2012-12-01 00:00:00\n",
      "Fitting 5 folds for each of 550 candidates, totalling 2750 fits\n"
     ]
    },
    {
     "name": "stderr",
     "output_type": "stream",
     "text": [
      "[Parallel(n_jobs=-1)]: Done  16 tasks      | elapsed:    0.2s\n",
      "[Parallel(n_jobs=-1)]: Done 1294 tasks      | elapsed:    8.9s\n",
      "[Parallel(n_jobs=-1)]: Done 2750 out of 2750 | elapsed:   19.1s finished\n",
      "[Parallel(n_jobs=-1)]: Using backend LokyBackend with 8 concurrent workers.\n"
     ]
    },
    {
     "name": "stdout",
     "output_type": "stream",
     "text": [
      "alpha: {'learning_rate': 0.4, 'loss': 'ls', 'max_depth': 2, 'n_estimators': 6}\n",
      "4 New Orleans Saints: 2013-09-01 00:00:00\n",
      "Fitting 5 folds for each of 550 candidates, totalling 2750 fits\n"
     ]
    },
    {
     "name": "stderr",
     "output_type": "stream",
     "text": [
      "[Parallel(n_jobs=-1)]: Done  16 tasks      | elapsed:    0.2s\n",
      "[Parallel(n_jobs=-1)]: Done 1321 tasks      | elapsed:    8.6s\n",
      "[Parallel(n_jobs=-1)]: Done 2386 tasks      | elapsed:   19.0s\n",
      "[Parallel(n_jobs=-1)]: Done 2750 out of 2750 | elapsed:   22.7s finished\n",
      "[Parallel(n_jobs=-1)]: Using backend LokyBackend with 8 concurrent workers.\n"
     ]
    },
    {
     "name": "stdout",
     "output_type": "stream",
     "text": [
      "alpha: {'learning_rate': 0.3, 'loss': 'ls', 'max_depth': 2, 'n_estimators': 8}\n",
      "4 New Orleans Saints: 2013-10-01 00:00:00\n",
      "Fitting 5 folds for each of 550 candidates, totalling 2750 fits\n"
     ]
    },
    {
     "name": "stderr",
     "output_type": "stream",
     "text": [
      "[Parallel(n_jobs=-1)]: Done  16 tasks      | elapsed:    0.2s\n",
      "[Parallel(n_jobs=-1)]: Done 1360 tasks      | elapsed:   10.1s\n",
      "[Parallel(n_jobs=-1)]: Done 2750 out of 2750 | elapsed:   19.6s finished\n",
      "[Parallel(n_jobs=-1)]: Using backend LokyBackend with 8 concurrent workers.\n"
     ]
    },
    {
     "name": "stdout",
     "output_type": "stream",
     "text": [
      "alpha: {'learning_rate': 0.6, 'loss': 'ls', 'max_depth': 2, 'n_estimators': 10}\n",
      "4 New Orleans Saints: 2013-11-01 00:00:00\n",
      "Fitting 5 folds for each of 550 candidates, totalling 2750 fits\n"
     ]
    },
    {
     "name": "stderr",
     "output_type": "stream",
     "text": [
      "[Parallel(n_jobs=-1)]: Done  16 tasks      | elapsed:    0.2s\n",
      "[Parallel(n_jobs=-1)]: Done 1552 tasks      | elapsed:    9.5s\n",
      "[Parallel(n_jobs=-1)]: Done 2750 out of 2750 | elapsed:   17.3s finished\n",
      "[Parallel(n_jobs=-1)]: Using backend LokyBackend with 8 concurrent workers.\n"
     ]
    },
    {
     "name": "stdout",
     "output_type": "stream",
     "text": [
      "alpha: {'learning_rate': 0.2, 'loss': 'ls', 'max_depth': 2, 'n_estimators': 10}\n",
      "4 New Orleans Saints: 2013-12-01 00:00:00\n",
      "Fitting 5 folds for each of 550 candidates, totalling 2750 fits\n"
     ]
    },
    {
     "name": "stderr",
     "output_type": "stream",
     "text": [
      "[Parallel(n_jobs=-1)]: Done  16 tasks      | elapsed:    0.2s\n",
      "[Parallel(n_jobs=-1)]: Done 1360 tasks      | elapsed:    7.4s\n",
      "[Parallel(n_jobs=-1)]: Done 2750 out of 2750 | elapsed:   15.7s finished\n",
      "[Parallel(n_jobs=-1)]: Using backend LokyBackend with 8 concurrent workers.\n"
     ]
    },
    {
     "name": "stdout",
     "output_type": "stream",
     "text": [
      "alpha: {'learning_rate': 0.3, 'loss': 'ls', 'max_depth': 2, 'n_estimators': 8}\n",
      "4 New Orleans Saints: 2014-09-01 00:00:00\n",
      "Fitting 5 folds for each of 550 candidates, totalling 2750 fits\n"
     ]
    },
    {
     "name": "stderr",
     "output_type": "stream",
     "text": [
      "[Parallel(n_jobs=-1)]: Done  16 tasks      | elapsed:    0.2s\n",
      "[Parallel(n_jobs=-1)]: Done 1556 tasks      | elapsed:    8.7s\n",
      "[Parallel(n_jobs=-1)]: Done 2750 out of 2750 | elapsed:   15.5s finished\n",
      "[Parallel(n_jobs=-1)]: Using backend LokyBackend with 8 concurrent workers.\n"
     ]
    },
    {
     "name": "stdout",
     "output_type": "stream",
     "text": [
      "alpha: {'learning_rate': 0.3, 'loss': 'huber', 'max_depth': 6, 'n_estimators': 10}\n",
      "4 New Orleans Saints: 2014-10-01 00:00:00\n",
      "Fitting 5 folds for each of 550 candidates, totalling 2750 fits\n"
     ]
    },
    {
     "name": "stderr",
     "output_type": "stream",
     "text": [
      "[Parallel(n_jobs=-1)]: Done  16 tasks      | elapsed:    0.2s\n",
      "[Parallel(n_jobs=-1)]: Done 1648 tasks      | elapsed:    8.4s\n",
      "[Parallel(n_jobs=-1)]: Done 2750 out of 2750 | elapsed:   14.9s finished\n",
      "[Parallel(n_jobs=-1)]: Using backend LokyBackend with 8 concurrent workers.\n"
     ]
    },
    {
     "name": "stdout",
     "output_type": "stream",
     "text": [
      "alpha: {'learning_rate': 0.15, 'loss': 'ls', 'max_depth': 2, 'n_estimators': 10}\n",
      "4 New Orleans Saints: 2014-11-01 00:00:00\n",
      "Fitting 5 folds for each of 550 candidates, totalling 2750 fits\n"
     ]
    },
    {
     "name": "stderr",
     "output_type": "stream",
     "text": [
      "[Parallel(n_jobs=-1)]: Done  16 tasks      | elapsed:    0.2s\n",
      "[Parallel(n_jobs=-1)]: Done 1578 tasks      | elapsed:    8.4s\n",
      "[Parallel(n_jobs=-1)]: Done 2750 out of 2750 | elapsed:   15.0s finished\n",
      "[Parallel(n_jobs=-1)]: Using backend LokyBackend with 8 concurrent workers.\n"
     ]
    },
    {
     "name": "stdout",
     "output_type": "stream",
     "text": [
      "alpha: {'learning_rate': 0.3, 'loss': 'huber', 'max_depth': 2, 'n_estimators': 10}\n",
      "4 New Orleans Saints: 2014-12-01 00:00:00\n",
      "Fitting 5 folds for each of 550 candidates, totalling 2750 fits\n"
     ]
    },
    {
     "name": "stderr",
     "output_type": "stream",
     "text": [
      "[Parallel(n_jobs=-1)]: Done  16 tasks      | elapsed:    0.2s\n",
      "[Parallel(n_jobs=-1)]: Done 1660 tasks      | elapsed:    8.4s\n",
      "[Parallel(n_jobs=-1)]: Done 2750 out of 2750 | elapsed:   14.5s finished\n",
      "[Parallel(n_jobs=-1)]: Using backend LokyBackend with 8 concurrent workers.\n"
     ]
    },
    {
     "name": "stdout",
     "output_type": "stream",
     "text": [
      "alpha: {'learning_rate': 0.4, 'loss': 'ls', 'max_depth': 2, 'n_estimators': 10}\n",
      "4 New Orleans Saints: 2015-09-01 00:00:00\n",
      "Fitting 5 folds for each of 550 candidates, totalling 2750 fits\n"
     ]
    },
    {
     "name": "stderr",
     "output_type": "stream",
     "text": [
      "[Parallel(n_jobs=-1)]: Done  16 tasks      | elapsed:    0.1s\n",
      "[Parallel(n_jobs=-1)]: Done 1636 tasks      | elapsed:    8.5s\n",
      "[Parallel(n_jobs=-1)]: Done 2750 out of 2750 | elapsed:   15.1s finished\n",
      "[Parallel(n_jobs=-1)]: Using backend LokyBackend with 8 concurrent workers.\n"
     ]
    },
    {
     "name": "stdout",
     "output_type": "stream",
     "text": [
      "alpha: {'learning_rate': 0.2, 'loss': 'huber', 'max_depth': 6, 'n_estimators': 10}\n",
      "4 New Orleans Saints: 2015-10-01 00:00:00\n",
      "Fitting 5 folds for each of 550 candidates, totalling 2750 fits\n"
     ]
    },
    {
     "name": "stderr",
     "output_type": "stream",
     "text": [
      "[Parallel(n_jobs=-1)]: Done  16 tasks      | elapsed:    0.1s\n",
      "[Parallel(n_jobs=-1)]: Done 1456 tasks      | elapsed:    8.1s\n",
      "[Parallel(n_jobs=-1)]: Done 2750 out of 2750 | elapsed:   15.6s finished\n",
      "[Parallel(n_jobs=-1)]: Using backend LokyBackend with 8 concurrent workers.\n"
     ]
    },
    {
     "name": "stdout",
     "output_type": "stream",
     "text": [
      "alpha: {'learning_rate': 0.6, 'loss': 'huber', 'max_depth': 2, 'n_estimators': 10}\n",
      "4 New Orleans Saints: 2015-11-01 00:00:00\n",
      "Fitting 5 folds for each of 550 candidates, totalling 2750 fits\n"
     ]
    },
    {
     "name": "stderr",
     "output_type": "stream",
     "text": [
      "[Parallel(n_jobs=-1)]: Done  16 tasks      | elapsed:    0.2s\n",
      "[Parallel(n_jobs=-1)]: Done 1612 tasks      | elapsed:    8.7s\n",
      "[Parallel(n_jobs=-1)]: Done 2750 out of 2750 | elapsed:   15.4s finished\n",
      "[Parallel(n_jobs=-1)]: Using backend LokyBackend with 8 concurrent workers.\n"
     ]
    },
    {
     "name": "stdout",
     "output_type": "stream",
     "text": [
      "alpha: {'learning_rate': 0.2, 'loss': 'huber', 'max_depth': 2, 'n_estimators': 10}\n",
      "4 New Orleans Saints: 2015-12-01 00:00:00\n",
      "Fitting 5 folds for each of 550 candidates, totalling 2750 fits\n"
     ]
    },
    {
     "name": "stderr",
     "output_type": "stream",
     "text": [
      "[Parallel(n_jobs=-1)]: Done  16 tasks      | elapsed:    0.1s\n",
      "[Parallel(n_jobs=-1)]: Done 1545 tasks      | elapsed:    8.1s\n",
      "[Parallel(n_jobs=-1)]: Done 2750 out of 2750 | elapsed:   15.2s finished\n",
      "[Parallel(n_jobs=-1)]: Using backend LokyBackend with 8 concurrent workers.\n"
     ]
    },
    {
     "name": "stdout",
     "output_type": "stream",
     "text": [
      "alpha: {'learning_rate': 0.6, 'loss': 'ls', 'max_depth': 2, 'n_estimators': 4}\n",
      "4 New Orleans Saints: 2016-09-01 00:00:00\n",
      "Fitting 5 folds for each of 550 candidates, totalling 2750 fits\n"
     ]
    },
    {
     "name": "stderr",
     "output_type": "stream",
     "text": [
      "[Parallel(n_jobs=-1)]: Done  16 tasks      | elapsed:    0.3s\n",
      "[Parallel(n_jobs=-1)]: Done 1636 tasks      | elapsed:    9.3s\n",
      "[Parallel(n_jobs=-1)]: Done 2750 out of 2750 | elapsed:   16.2s finished\n",
      "[Parallel(n_jobs=-1)]: Using backend LokyBackend with 8 concurrent workers.\n"
     ]
    },
    {
     "name": "stdout",
     "output_type": "stream",
     "text": [
      "alpha: {'learning_rate': 0.2, 'loss': 'ls', 'max_depth': 2, 'n_estimators': 8}\n",
      "4 New Orleans Saints: 2016-10-01 00:00:00\n",
      "Fitting 5 folds for each of 550 candidates, totalling 2750 fits\n"
     ]
    },
    {
     "name": "stderr",
     "output_type": "stream",
     "text": [
      "[Parallel(n_jobs=-1)]: Done  16 tasks      | elapsed:    0.2s\n",
      "[Parallel(n_jobs=-1)]: Done 1556 tasks      | elapsed:    9.3s\n",
      "[Parallel(n_jobs=-1)]: Done 2750 out of 2750 | elapsed:   17.4s finished\n",
      "[Parallel(n_jobs=-1)]: Using backend LokyBackend with 8 concurrent workers.\n"
     ]
    },
    {
     "name": "stdout",
     "output_type": "stream",
     "text": [
      "alpha: {'learning_rate': 0.5, 'loss': 'ls', 'max_depth': 2, 'n_estimators': 6}\n",
      "4 New Orleans Saints: 2016-11-01 00:00:00\n",
      "Fitting 5 folds for each of 550 candidates, totalling 2750 fits\n"
     ]
    },
    {
     "name": "stderr",
     "output_type": "stream",
     "text": [
      "[Parallel(n_jobs=-1)]: Done  16 tasks      | elapsed:    0.2s\n",
      "[Parallel(n_jobs=-1)]: Done 1636 tasks      | elapsed:    8.9s\n",
      "[Parallel(n_jobs=-1)]: Done 2750 out of 2750 | elapsed:   15.8s finished\n",
      "[Parallel(n_jobs=-1)]: Using backend LokyBackend with 8 concurrent workers.\n"
     ]
    },
    {
     "name": "stdout",
     "output_type": "stream",
     "text": [
      "alpha: {'learning_rate': 0.4, 'loss': 'ls', 'max_depth': 2, 'n_estimators': 10}\n",
      "4 New Orleans Saints: 2016-12-01 00:00:00\n",
      "Fitting 5 folds for each of 550 candidates, totalling 2750 fits\n"
     ]
    },
    {
     "name": "stderr",
     "output_type": "stream",
     "text": [
      "[Parallel(n_jobs=-1)]: Done  16 tasks      | elapsed:    0.2s\n",
      "[Parallel(n_jobs=-1)]: Done 1636 tasks      | elapsed:    8.9s\n",
      "[Parallel(n_jobs=-1)]: Done 2750 out of 2750 | elapsed:   15.5s finished\n",
      "[Parallel(n_jobs=-1)]: Using backend LokyBackend with 8 concurrent workers.\n"
     ]
    },
    {
     "name": "stdout",
     "output_type": "stream",
     "text": [
      "alpha: {'learning_rate': 0.5, 'loss': 'ls', 'max_depth': 2, 'n_estimators': 6}\n",
      "4 New Orleans Saints: 2017-09-01 00:00:00\n",
      "Fitting 5 folds for each of 550 candidates, totalling 2750 fits\n"
     ]
    },
    {
     "name": "stderr",
     "output_type": "stream",
     "text": [
      "[Parallel(n_jobs=-1)]: Done  16 tasks      | elapsed:    0.1s\n",
      "[Parallel(n_jobs=-1)]: Done 1556 tasks      | elapsed:    8.2s\n",
      "[Parallel(n_jobs=-1)]: Done 2750 out of 2750 | elapsed:   14.9s finished\n",
      "[Parallel(n_jobs=-1)]: Using backend LokyBackend with 8 concurrent workers.\n"
     ]
    },
    {
     "name": "stdout",
     "output_type": "stream",
     "text": [
      "alpha: {'learning_rate': 0.1, 'loss': 'huber', 'max_depth': 2, 'n_estimators': 10}\n",
      "4 New Orleans Saints: 2017-10-01 00:00:00\n",
      "Fitting 5 folds for each of 550 candidates, totalling 2750 fits\n"
     ]
    },
    {
     "name": "stderr",
     "output_type": "stream",
     "text": [
      "[Parallel(n_jobs=-1)]: Done  16 tasks      | elapsed:    0.2s\n",
      "[Parallel(n_jobs=-1)]: Done 1567 tasks      | elapsed:    8.3s\n",
      "[Parallel(n_jobs=-1)]: Done 2750 out of 2750 | elapsed:   15.4s finished\n",
      "[Parallel(n_jobs=-1)]: Using backend LokyBackend with 8 concurrent workers.\n"
     ]
    },
    {
     "name": "stdout",
     "output_type": "stream",
     "text": [
      "alpha: {'learning_rate': 0.2, 'loss': 'ls', 'max_depth': 2, 'n_estimators': 6}\n",
      "4 New Orleans Saints: 2017-11-01 00:00:00\n",
      "Fitting 5 folds for each of 550 candidates, totalling 2750 fits\n"
     ]
    },
    {
     "name": "stderr",
     "output_type": "stream",
     "text": [
      "[Parallel(n_jobs=-1)]: Done  16 tasks      | elapsed:    0.1s\n",
      "[Parallel(n_jobs=-1)]: Done 1520 tasks      | elapsed:    8.1s\n",
      "[Parallel(n_jobs=-1)]: Done 2750 out of 2750 | elapsed:   14.9s finished\n",
      "[Parallel(n_jobs=-1)]: Using backend LokyBackend with 8 concurrent workers.\n"
     ]
    },
    {
     "name": "stdout",
     "output_type": "stream",
     "text": [
      "alpha: {'learning_rate': 0.15, 'loss': 'ls', 'max_depth': 2, 'n_estimators': 10}\n",
      "4 New Orleans Saints: 2017-12-01 00:00:00\n",
      "Fitting 5 folds for each of 550 candidates, totalling 2750 fits\n"
     ]
    },
    {
     "name": "stderr",
     "output_type": "stream",
     "text": [
      "[Parallel(n_jobs=-1)]: Done  16 tasks      | elapsed:    0.2s\n",
      "[Parallel(n_jobs=-1)]: Done 1567 tasks      | elapsed:    8.2s\n",
      "[Parallel(n_jobs=-1)]: Done 2750 out of 2750 | elapsed:   15.4s finished\n",
      "[Parallel(n_jobs=-1)]: Using backend LokyBackend with 8 concurrent workers.\n"
     ]
    },
    {
     "name": "stdout",
     "output_type": "stream",
     "text": [
      "alpha: {'learning_rate': 0.6, 'loss': 'ls', 'max_depth': 2, 'n_estimators': 6}\n",
      "4 New Orleans Saints: 2018-09-01 00:00:00\n",
      "Fitting 5 folds for each of 550 candidates, totalling 2750 fits\n"
     ]
    },
    {
     "name": "stderr",
     "output_type": "stream",
     "text": [
      "[Parallel(n_jobs=-1)]: Done  16 tasks      | elapsed:    0.2s\n",
      "[Parallel(n_jobs=-1)]: Done 1636 tasks      | elapsed:    8.6s\n"
     ]
    },
    {
     "name": "stdout",
     "output_type": "stream",
     "text": [
      "alpha: {'learning_rate': 0.3, 'loss': 'ls', 'max_depth': 4, 'n_estimators': 8}\n",
      "4 New Orleans Saints: 2018-10-01 00:00:00\n",
      "Fitting 5 folds for each of 550 candidates, totalling 2750 fits\n"
     ]
    },
    {
     "name": "stderr",
     "output_type": "stream",
     "text": [
      "[Parallel(n_jobs=-1)]: Done 2750 out of 2750 | elapsed:   15.1s finished\n",
      "[Parallel(n_jobs=-1)]: Using backend LokyBackend with 8 concurrent workers.\n",
      "[Parallel(n_jobs=-1)]: Done  16 tasks      | elapsed:    0.1s\n",
      "[Parallel(n_jobs=-1)]: Done 1589 tasks      | elapsed:    8.6s\n",
      "[Parallel(n_jobs=-1)]: Done 2750 out of 2750 | elapsed:   15.5s finished\n",
      "[Parallel(n_jobs=-1)]: Using backend LokyBackend with 8 concurrent workers.\n"
     ]
    },
    {
     "name": "stdout",
     "output_type": "stream",
     "text": [
      "alpha: {'learning_rate': 0.2, 'loss': 'ls', 'max_depth': 2, 'n_estimators': 8}\n",
      "4 New Orleans Saints: 2018-11-01 00:00:00\n",
      "Fitting 5 folds for each of 550 candidates, totalling 2750 fits\n"
     ]
    },
    {
     "name": "stderr",
     "output_type": "stream",
     "text": [
      "[Parallel(n_jobs=-1)]: Done  16 tasks      | elapsed:    0.2s\n",
      "[Parallel(n_jobs=-1)]: Done 1567 tasks      | elapsed:    8.4s\n",
      "[Parallel(n_jobs=-1)]: Done 2750 out of 2750 | elapsed:   15.5s finished\n",
      "[Parallel(n_jobs=-1)]: Using backend LokyBackend with 8 concurrent workers.\n"
     ]
    },
    {
     "name": "stdout",
     "output_type": "stream",
     "text": [
      "alpha: {'learning_rate': 0.5, 'loss': 'huber', 'max_depth': 4, 'n_estimators': 8}\n",
      "4 New Orleans Saints: 2018-12-01 00:00:00\n",
      "Fitting 5 folds for each of 550 candidates, totalling 2750 fits\n"
     ]
    },
    {
     "name": "stderr",
     "output_type": "stream",
     "text": [
      "[Parallel(n_jobs=-1)]: Done  16 tasks      | elapsed:    0.1s\n",
      "[Parallel(n_jobs=-1)]: Done 1446 tasks      | elapsed:    7.8s\n",
      "[Parallel(n_jobs=-1)]: Done 2750 out of 2750 | elapsed:   15.1s finished\n",
      "[Parallel(n_jobs=-1)]: Using backend LokyBackend with 8 concurrent workers.\n"
     ]
    },
    {
     "name": "stdout",
     "output_type": "stream",
     "text": [
      "alpha: {'learning_rate': 0.5, 'loss': 'huber', 'max_depth': 2, 'n_estimators': 2}\n",
      "4 New Orleans Saints: 2019-09-01 00:00:00\n",
      "Fitting 5 folds for each of 550 candidates, totalling 2750 fits\n"
     ]
    },
    {
     "name": "stderr",
     "output_type": "stream",
     "text": [
      "[Parallel(n_jobs=-1)]: Done  16 tasks      | elapsed:    0.2s\n",
      "[Parallel(n_jobs=-1)]: Done 1578 tasks      | elapsed:    7.8s\n",
      "[Parallel(n_jobs=-1)]: Done 2750 out of 2750 | elapsed:   14.2s finished\n",
      "[Parallel(n_jobs=-1)]: Using backend LokyBackend with 8 concurrent workers.\n"
     ]
    },
    {
     "name": "stdout",
     "output_type": "stream",
     "text": [
      "alpha: {'learning_rate': 0.2, 'loss': 'huber', 'max_depth': 6, 'n_estimators': 4}\n",
      "4 New Orleans Saints: 2019-10-01 00:00:00\n",
      "Fitting 5 folds for each of 550 candidates, totalling 2750 fits\n"
     ]
    },
    {
     "name": "stderr",
     "output_type": "stream",
     "text": [
      "[Parallel(n_jobs=-1)]: Done  16 tasks      | elapsed:    0.2s\n",
      "[Parallel(n_jobs=-1)]: Done 1578 tasks      | elapsed:    8.6s\n",
      "[Parallel(n_jobs=-1)]: Done 2750 out of 2750 | elapsed:   15.5s finished\n",
      "[Parallel(n_jobs=-1)]: Using backend LokyBackend with 8 concurrent workers.\n"
     ]
    },
    {
     "name": "stdout",
     "output_type": "stream",
     "text": [
      "alpha: {'learning_rate': 0.3, 'loss': 'ls', 'max_depth': 2, 'n_estimators': 10}\n",
      "4 New Orleans Saints: 2019-11-01 00:00:00\n",
      "Fitting 5 folds for each of 550 candidates, totalling 2750 fits\n"
     ]
    },
    {
     "name": "stderr",
     "output_type": "stream",
     "text": [
      "[Parallel(n_jobs=-1)]: Done  16 tasks      | elapsed:    0.3s\n",
      "[Parallel(n_jobs=-1)]: Done 2142 tasks      | elapsed:   11.5s\n",
      "[Parallel(n_jobs=-1)]: Done 2750 out of 2750 | elapsed:   15.5s finished\n",
      "[Parallel(n_jobs=-1)]: Using backend LokyBackend with 8 concurrent workers.\n"
     ]
    },
    {
     "name": "stdout",
     "output_type": "stream",
     "text": [
      "alpha: {'learning_rate': 0.3, 'loss': 'ls', 'max_depth': 2, 'n_estimators': 6}\n",
      "4 New Orleans Saints: 2019-12-01 00:00:00\n",
      "Fitting 5 folds for each of 550 candidates, totalling 2750 fits\n"
     ]
    },
    {
     "name": "stderr",
     "output_type": "stream",
     "text": [
      "[Parallel(n_jobs=-1)]: Done  16 tasks      | elapsed:    0.1s\n",
      "[Parallel(n_jobs=-1)]: Done 1466 tasks      | elapsed:    8.4s\n",
      "[Parallel(n_jobs=-1)]: Done 2750 out of 2750 | elapsed:   15.8s finished\n",
      "[Parallel(n_jobs=-1)]: Using backend LokyBackend with 8 concurrent workers.\n"
     ]
    },
    {
     "name": "stdout",
     "output_type": "stream",
     "text": [
      "alpha: {'learning_rate': 0.2, 'loss': 'huber', 'max_depth': 2, 'n_estimators': 10}\n",
      "5 Cleveland Browns: 2012-09-01 00:00:00\n",
      "Fitting 5 folds for each of 550 candidates, totalling 2750 fits\n"
     ]
    },
    {
     "name": "stderr",
     "output_type": "stream",
     "text": [
      "[Parallel(n_jobs=-1)]: Done  16 tasks      | elapsed:    0.1s\n",
      "[Parallel(n_jobs=-1)]: Done 1648 tasks      | elapsed:    8.6s\n",
      "[Parallel(n_jobs=-1)]: Done 2750 out of 2750 | elapsed:   14.5s finished\n",
      "[Parallel(n_jobs=-1)]: Using backend LokyBackend with 8 concurrent workers.\n"
     ]
    },
    {
     "name": "stdout",
     "output_type": "stream",
     "text": [
      "alpha: {'learning_rate': 0.6, 'loss': 'huber', 'max_depth': 2, 'n_estimators': 2}\n",
      "5 Cleveland Browns: 2012-10-01 00:00:00\n",
      "Fitting 5 folds for each of 550 candidates, totalling 2750 fits\n"
     ]
    },
    {
     "name": "stderr",
     "output_type": "stream",
     "text": [
      "[Parallel(n_jobs=-1)]: Done  16 tasks      | elapsed:    0.2s\n",
      "[Parallel(n_jobs=-1)]: Done 1624 tasks      | elapsed:    8.4s\n",
      "[Parallel(n_jobs=-1)]: Done 2750 out of 2750 | elapsed:   14.7s finished\n",
      "[Parallel(n_jobs=-1)]: Using backend LokyBackend with 8 concurrent workers.\n"
     ]
    },
    {
     "name": "stdout",
     "output_type": "stream",
     "text": [
      "alpha: {'learning_rate': 0.3, 'loss': 'huber', 'max_depth': 2, 'n_estimators': 8}\n",
      "5 Cleveland Browns: 2012-11-01 00:00:00\n",
      "Fitting 5 folds for each of 550 candidates, totalling 2750 fits\n"
     ]
    },
    {
     "name": "stderr",
     "output_type": "stream",
     "text": [
      "[Parallel(n_jobs=-1)]: Done  16 tasks      | elapsed:    0.1s\n",
      "[Parallel(n_jobs=-1)]: Done 1168 tasks      | elapsed:    5.6s\n",
      "[Parallel(n_jobs=-1)]: Done 2750 out of 2750 | elapsed:   13.8s finished\n",
      "[Parallel(n_jobs=-1)]: Using backend LokyBackend with 8 concurrent workers.\n"
     ]
    },
    {
     "name": "stdout",
     "output_type": "stream",
     "text": [
      "alpha: {'learning_rate': 0.15, 'loss': 'ls', 'max_depth': 2, 'n_estimators': 10}\n",
      "5 Cleveland Browns: 2012-12-01 00:00:00\n",
      "Fitting 5 folds for each of 550 candidates, totalling 2750 fits\n"
     ]
    },
    {
     "name": "stderr",
     "output_type": "stream",
     "text": [
      "[Parallel(n_jobs=-1)]: Done  16 tasks      | elapsed:    0.1s\n",
      "[Parallel(n_jobs=-1)]: Done 1936 tasks      | elapsed:    9.5s\n",
      "[Parallel(n_jobs=-1)]: Done 2750 out of 2750 | elapsed:   13.7s finished\n",
      "[Parallel(n_jobs=-1)]: Using backend LokyBackend with 8 concurrent workers.\n"
     ]
    },
    {
     "name": "stdout",
     "output_type": "stream",
     "text": [
      "alpha: {'learning_rate': 0.4, 'loss': 'ls', 'max_depth': 2, 'n_estimators': 6}\n",
      "5 Cleveland Browns: 2013-09-01 00:00:00\n",
      "Fitting 5 folds for each of 550 candidates, totalling 2750 fits\n"
     ]
    },
    {
     "name": "stderr",
     "output_type": "stream",
     "text": [
      "[Parallel(n_jobs=-1)]: Done  16 tasks      | elapsed:    0.2s\n",
      "[Parallel(n_jobs=-1)]: Done 1556 tasks      | elapsed:    7.6s\n",
      "[Parallel(n_jobs=-1)]: Done 2750 out of 2750 | elapsed:   13.8s finished\n",
      "[Parallel(n_jobs=-1)]: Using backend LokyBackend with 8 concurrent workers.\n"
     ]
    },
    {
     "name": "stdout",
     "output_type": "stream",
     "text": [
      "alpha: {'learning_rate': 0.5, 'loss': 'huber', 'max_depth': 2, 'n_estimators': 6}\n",
      "5 Cleveland Browns: 2013-10-01 00:00:00\n",
      "Fitting 5 folds for each of 550 candidates, totalling 2750 fits\n"
     ]
    },
    {
     "name": "stderr",
     "output_type": "stream",
     "text": [
      "[Parallel(n_jobs=-1)]: Done  16 tasks      | elapsed:    0.1s\n",
      "[Parallel(n_jobs=-1)]: Done 1168 tasks      | elapsed:    6.0s\n",
      "[Parallel(n_jobs=-1)]: Done 2750 out of 2750 | elapsed:   14.6s finished\n",
      "[Parallel(n_jobs=-1)]: Using backend LokyBackend with 8 concurrent workers.\n"
     ]
    },
    {
     "name": "stdout",
     "output_type": "stream",
     "text": [
      "alpha: {'learning_rate': 0.15, 'loss': 'ls', 'max_depth': 4, 'n_estimators': 8}\n",
      "5 Cleveland Browns: 2013-11-01 00:00:00\n",
      "Fitting 5 folds for each of 550 candidates, totalling 2750 fits\n"
     ]
    },
    {
     "name": "stderr",
     "output_type": "stream",
     "text": [
      "[Parallel(n_jobs=-1)]: Done  16 tasks      | elapsed:    0.1s\n",
      "[Parallel(n_jobs=-1)]: Done 1556 tasks      | elapsed:    7.6s\n",
      "[Parallel(n_jobs=-1)]: Done 2750 out of 2750 | elapsed:   13.8s finished\n",
      "[Parallel(n_jobs=-1)]: Using backend LokyBackend with 8 concurrent workers.\n"
     ]
    },
    {
     "name": "stdout",
     "output_type": "stream",
     "text": [
      "alpha: {'learning_rate': 0.15, 'loss': 'huber', 'max_depth': 6, 'n_estimators': 4}\n",
      "5 Cleveland Browns: 2013-12-01 00:00:00\n",
      "Fitting 5 folds for each of 550 candidates, totalling 2750 fits\n"
     ]
    },
    {
     "name": "stderr",
     "output_type": "stream",
     "text": [
      "[Parallel(n_jobs=-1)]: Done  16 tasks      | elapsed:    0.2s\n",
      "[Parallel(n_jobs=-1)]: Done 1809 tasks      | elapsed:    9.4s\n",
      "[Parallel(n_jobs=-1)]: Done 2750 out of 2750 | elapsed:   14.3s finished\n",
      "[Parallel(n_jobs=-1)]: Using backend LokyBackend with 8 concurrent workers.\n"
     ]
    },
    {
     "name": "stdout",
     "output_type": "stream",
     "text": [
      "alpha: {'learning_rate': 0.15, 'loss': 'ls', 'max_depth': 4, 'n_estimators': 10}\n",
      "5 Cleveland Browns: 2014-09-01 00:00:00\n",
      "Fitting 5 folds for each of 550 candidates, totalling 2750 fits\n"
     ]
    },
    {
     "name": "stderr",
     "output_type": "stream",
     "text": [
      "[Parallel(n_jobs=-1)]: Done  16 tasks      | elapsed:    0.1s\n",
      "[Parallel(n_jobs=-1)]: Done 1744 tasks      | elapsed:    8.7s\n",
      "[Parallel(n_jobs=-1)]: Done 2750 out of 2750 | elapsed:   14.2s finished\n",
      "[Parallel(n_jobs=-1)]: Using backend LokyBackend with 8 concurrent workers.\n"
     ]
    },
    {
     "name": "stdout",
     "output_type": "stream",
     "text": [
      "alpha: {'learning_rate': 0.4, 'loss': 'huber', 'max_depth': 4, 'n_estimators': 10}\n",
      "5 Cleveland Browns: 2014-10-01 00:00:00\n",
      "Fitting 5 folds for each of 550 candidates, totalling 2750 fits\n"
     ]
    },
    {
     "name": "stderr",
     "output_type": "stream",
     "text": [
      "[Parallel(n_jobs=-1)]: Done  16 tasks      | elapsed:    0.2s\n",
      "[Parallel(n_jobs=-1)]: Done 1648 tasks      | elapsed:    8.7s\n",
      "[Parallel(n_jobs=-1)]: Done 2750 out of 2750 | elapsed:   15.1s finished\n",
      "[Parallel(n_jobs=-1)]: Using backend LokyBackend with 8 concurrent workers.\n"
     ]
    },
    {
     "name": "stdout",
     "output_type": "stream",
     "text": [
      "alpha: {'learning_rate': 0.4, 'loss': 'ls', 'max_depth': 2, 'n_estimators': 8}\n",
      "5 Cleveland Browns: 2014-11-01 00:00:00\n",
      "Fitting 5 folds for each of 550 candidates, totalling 2750 fits\n"
     ]
    },
    {
     "name": "stderr",
     "output_type": "stream",
     "text": [
      "[Parallel(n_jobs=-1)]: Done  16 tasks      | elapsed:    0.2s\n",
      "[Parallel(n_jobs=-1)]: Done 2128 tasks      | elapsed:   10.2s\n",
      "[Parallel(n_jobs=-1)]: Done 2750 out of 2750 | elapsed:   13.4s finished\n",
      "[Parallel(n_jobs=-1)]: Using backend LokyBackend with 8 concurrent workers.\n"
     ]
    },
    {
     "name": "stdout",
     "output_type": "stream",
     "text": [
      "alpha: {'learning_rate': 0.5, 'loss': 'ls', 'max_depth': 2, 'n_estimators': 10}\n",
      "5 Cleveland Browns: 2014-12-01 00:00:00\n",
      "Fitting 5 folds for each of 550 candidates, totalling 2750 fits\n"
     ]
    },
    {
     "name": "stderr",
     "output_type": "stream",
     "text": [
      "[Parallel(n_jobs=-1)]: Done  16 tasks      | elapsed:    0.2s\n",
      "[Parallel(n_jobs=-1)]: Done 1930 tasks      | elapsed:    9.5s\n",
      "[Parallel(n_jobs=-1)]: Done 2750 out of 2750 | elapsed:   13.6s finished\n",
      "[Parallel(n_jobs=-1)]: Using backend LokyBackend with 8 concurrent workers.\n"
     ]
    },
    {
     "name": "stdout",
     "output_type": "stream",
     "text": [
      "alpha: {'learning_rate': 0.4, 'loss': 'ls', 'max_depth': 2, 'n_estimators': 10}\n",
      "5 Cleveland Browns: 2015-09-01 00:00:00\n",
      "Fitting 5 folds for each of 550 candidates, totalling 2750 fits\n"
     ]
    },
    {
     "name": "stderr",
     "output_type": "stream",
     "text": [
      "[Parallel(n_jobs=-1)]: Done  16 tasks      | elapsed:    0.2s\n",
      "[Parallel(n_jobs=-1)]: Done 1828 tasks      | elapsed:    8.9s\n",
      "[Parallel(n_jobs=-1)]: Done 2750 out of 2750 | elapsed:   14.0s finished\n",
      "[Parallel(n_jobs=-1)]: Using backend LokyBackend with 8 concurrent workers.\n"
     ]
    },
    {
     "name": "stdout",
     "output_type": "stream",
     "text": [
      "alpha: {'learning_rate': 0.3, 'loss': 'ls', 'max_depth': 4, 'n_estimators': 8}\n",
      "5 Cleveland Browns: 2015-10-01 00:00:00\n",
      "Fitting 5 folds for each of 550 candidates, totalling 2750 fits\n"
     ]
    },
    {
     "name": "stderr",
     "output_type": "stream",
     "text": [
      "[Parallel(n_jobs=-1)]: Done  16 tasks      | elapsed:    0.2s\n",
      "[Parallel(n_jobs=-1)]: Done 1828 tasks      | elapsed:    9.1s\n",
      "[Parallel(n_jobs=-1)]: Done 2750 out of 2750 | elapsed:   14.9s finished\n",
      "[Parallel(n_jobs=-1)]: Using backend LokyBackend with 8 concurrent workers.\n"
     ]
    },
    {
     "name": "stdout",
     "output_type": "stream",
     "text": [
      "alpha: {'learning_rate': 0.3, 'loss': 'ls', 'max_depth': 2, 'n_estimators': 6}\n",
      "5 Cleveland Browns: 2015-11-01 00:00:00\n",
      "Fitting 5 folds for each of 550 candidates, totalling 2750 fits\n"
     ]
    },
    {
     "name": "stderr",
     "output_type": "stream",
     "text": [
      "[Parallel(n_jobs=-1)]: Done  16 tasks      | elapsed:    0.2s\n",
      "[Parallel(n_jobs=-1)]: Done 1660 tasks      | elapsed:    8.7s\n",
      "[Parallel(n_jobs=-1)]: Done 2750 out of 2750 | elapsed:   15.1s finished\n",
      "[Parallel(n_jobs=-1)]: Using backend LokyBackend with 8 concurrent workers.\n"
     ]
    },
    {
     "name": "stdout",
     "output_type": "stream",
     "text": [
      "alpha: {'learning_rate': 0.3, 'loss': 'huber', 'max_depth': 2, 'n_estimators': 10}\n",
      "5 Cleveland Browns: 2015-12-01 00:00:00\n",
      "Fitting 5 folds for each of 550 candidates, totalling 2750 fits\n"
     ]
    },
    {
     "name": "stderr",
     "output_type": "stream",
     "text": [
      "[Parallel(n_jobs=-1)]: Done  16 tasks      | elapsed:    0.2s\n",
      "[Parallel(n_jobs=-1)]: Done 1660 tasks      | elapsed:    8.2s\n",
      "[Parallel(n_jobs=-1)]: Done 2750 out of 2750 | elapsed:   14.5s finished\n",
      "[Parallel(n_jobs=-1)]: Using backend LokyBackend with 8 concurrent workers.\n"
     ]
    },
    {
     "name": "stdout",
     "output_type": "stream",
     "text": [
      "alpha: {'learning_rate': 0.3, 'loss': 'ls', 'max_depth': 4, 'n_estimators': 6}\n",
      "5 Cleveland Browns: 2016-09-01 00:00:00\n",
      "Fitting 5 folds for each of 550 candidates, totalling 2750 fits\n"
     ]
    },
    {
     "name": "stderr",
     "output_type": "stream",
     "text": [
      "[Parallel(n_jobs=-1)]: Done  16 tasks      | elapsed:    0.2s\n",
      "[Parallel(n_jobs=-1)]: Done 1648 tasks      | elapsed:    8.2s\n",
      "[Parallel(n_jobs=-1)]: Done 2750 out of 2750 | elapsed:   14.3s finished\n",
      "[Parallel(n_jobs=-1)]: Using backend LokyBackend with 8 concurrent workers.\n"
     ]
    },
    {
     "name": "stdout",
     "output_type": "stream",
     "text": [
      "alpha: {'learning_rate': 0.2, 'loss': 'huber', 'max_depth': 2, 'n_estimators': 6}\n",
      "5 Cleveland Browns: 2016-10-01 00:00:00\n",
      "Fitting 5 folds for each of 550 candidates, totalling 2750 fits\n"
     ]
    },
    {
     "name": "stderr",
     "output_type": "stream",
     "text": [
      "[Parallel(n_jobs=-1)]: Done  16 tasks      | elapsed:    0.2s\n",
      "[Parallel(n_jobs=-1)]: Done 1684 tasks      | elapsed:    8.4s\n",
      "[Parallel(n_jobs=-1)]: Done 2750 out of 2750 | elapsed:   14.6s finished\n",
      "[Parallel(n_jobs=-1)]: Using backend LokyBackend with 8 concurrent workers.\n"
     ]
    },
    {
     "name": "stdout",
     "output_type": "stream",
     "text": [
      "alpha: {'learning_rate': 0.15, 'loss': 'ls', 'max_depth': 2, 'n_estimators': 10}\n",
      "5 Cleveland Browns: 2016-11-01 00:00:00\n",
      "Fitting 5 folds for each of 550 candidates, totalling 2750 fits\n"
     ]
    },
    {
     "name": "stderr",
     "output_type": "stream",
     "text": [
      "[Parallel(n_jobs=-1)]: Done  16 tasks      | elapsed:    0.2s\n",
      "[Parallel(n_jobs=-1)]: Done 1576 tasks      | elapsed:    8.5s\n",
      "[Parallel(n_jobs=-1)]: Done 2750 out of 2750 | elapsed:   15.1s finished\n",
      "[Parallel(n_jobs=-1)]: Using backend LokyBackend with 8 concurrent workers.\n"
     ]
    },
    {
     "name": "stdout",
     "output_type": "stream",
     "text": [
      "alpha: {'learning_rate': 0.5, 'loss': 'ls', 'max_depth': 2, 'n_estimators': 2}\n",
      "5 Cleveland Browns: 2016-12-01 00:00:00\n",
      "Fitting 5 folds for each of 550 candidates, totalling 2750 fits\n"
     ]
    },
    {
     "name": "stderr",
     "output_type": "stream",
     "text": [
      "[Parallel(n_jobs=-1)]: Done  16 tasks      | elapsed:    0.1s\n",
      "[Parallel(n_jobs=-1)]: Done 1567 tasks      | elapsed:    8.0s\n",
      "[Parallel(n_jobs=-1)]: Done 2750 out of 2750 | elapsed:   14.6s finished\n",
      "[Parallel(n_jobs=-1)]: Using backend LokyBackend with 8 concurrent workers.\n"
     ]
    },
    {
     "name": "stdout",
     "output_type": "stream",
     "text": [
      "alpha: {'learning_rate': 0.3, 'loss': 'huber', 'max_depth': 2, 'n_estimators': 6}\n",
      "5 Cleveland Browns: 2017-09-01 00:00:00\n",
      "Fitting 5 folds for each of 550 candidates, totalling 2750 fits\n"
     ]
    },
    {
     "name": "stderr",
     "output_type": "stream",
     "text": [
      "[Parallel(n_jobs=-1)]: Done  16 tasks      | elapsed:    0.2s\n",
      "[Parallel(n_jobs=-1)]: Done 1648 tasks      | elapsed:    8.5s\n",
      "[Parallel(n_jobs=-1)]: Done 2750 out of 2750 | elapsed:   14.6s finished\n",
      "[Parallel(n_jobs=-1)]: Using backend LokyBackend with 8 concurrent workers.\n"
     ]
    },
    {
     "name": "stdout",
     "output_type": "stream",
     "text": [
      "alpha: {'learning_rate': 0.2, 'loss': 'ls', 'max_depth': 6, 'n_estimators': 4}\n",
      "5 Cleveland Browns: 2017-10-01 00:00:00\n",
      "Fitting 5 folds for each of 550 candidates, totalling 2750 fits\n"
     ]
    },
    {
     "name": "stderr",
     "output_type": "stream",
     "text": [
      "[Parallel(n_jobs=-1)]: Done  16 tasks      | elapsed:    0.1s\n",
      "[Parallel(n_jobs=-1)]: Done 1816 tasks      | elapsed:    9.0s\n",
      "[Parallel(n_jobs=-1)]: Done 2750 out of 2750 | elapsed:   14.2s finished\n",
      "[Parallel(n_jobs=-1)]: Using backend LokyBackend with 8 concurrent workers.\n"
     ]
    },
    {
     "name": "stdout",
     "output_type": "stream",
     "text": [
      "alpha: {'learning_rate': 0.2, 'loss': 'ls', 'max_depth': 2, 'n_estimators': 6}\n",
      "5 Cleveland Browns: 2017-11-01 00:00:00\n",
      "Fitting 5 folds for each of 550 candidates, totalling 2750 fits\n"
     ]
    },
    {
     "name": "stderr",
     "output_type": "stream",
     "text": [
      "[Parallel(n_jobs=-1)]: Done  16 tasks      | elapsed:    0.1s\n",
      "[Parallel(n_jobs=-1)]: Done 1930 tasks      | elapsed:    9.5s\n",
      "[Parallel(n_jobs=-1)]: Done 2750 out of 2750 | elapsed:   13.7s finished\n",
      "[Parallel(n_jobs=-1)]: Using backend LokyBackend with 8 concurrent workers.\n"
     ]
    },
    {
     "name": "stdout",
     "output_type": "stream",
     "text": [
      "alpha: {'learning_rate': 0.4, 'loss': 'huber', 'max_depth': 2, 'n_estimators': 4}\n",
      "5 Cleveland Browns: 2017-12-01 00:00:00\n",
      "Fitting 5 folds for each of 550 candidates, totalling 2750 fits\n"
     ]
    },
    {
     "name": "stderr",
     "output_type": "stream",
     "text": [
      "[Parallel(n_jobs=-1)]: Done  16 tasks      | elapsed:    0.2s\n",
      "[Parallel(n_jobs=-1)]: Done 1919 tasks      | elapsed:    9.4s\n",
      "[Parallel(n_jobs=-1)]: Done 2750 out of 2750 | elapsed:   13.7s finished\n",
      "[Parallel(n_jobs=-1)]: Using backend LokyBackend with 8 concurrent workers.\n"
     ]
    },
    {
     "name": "stdout",
     "output_type": "stream",
     "text": [
      "alpha: {'learning_rate': 0.4, 'loss': 'ls', 'max_depth': 2, 'n_estimators': 2}\n",
      "5 Cleveland Browns: 2018-09-01 00:00:00\n",
      "Fitting 5 folds for each of 550 candidates, totalling 2750 fits\n"
     ]
    },
    {
     "name": "stderr",
     "output_type": "stream",
     "text": [
      "[Parallel(n_jobs=-1)]: Done  16 tasks      | elapsed:    0.2s\n",
      "[Parallel(n_jobs=-1)]: Done 1578 tasks      | elapsed:    8.0s\n",
      "[Parallel(n_jobs=-1)]: Done 2750 out of 2750 | elapsed:   14.5s finished\n",
      "[Parallel(n_jobs=-1)]: Using backend LokyBackend with 8 concurrent workers.\n"
     ]
    },
    {
     "name": "stdout",
     "output_type": "stream",
     "text": [
      "alpha: {'learning_rate': 0.4, 'loss': 'huber', 'max_depth': 2, 'n_estimators': 4}\n",
      "5 Cleveland Browns: 2018-10-01 00:00:00\n",
      "Fitting 5 folds for each of 550 candidates, totalling 2750 fits\n"
     ]
    },
    {
     "name": "stderr",
     "output_type": "stream",
     "text": [
      "[Parallel(n_jobs=-1)]: Done  16 tasks      | elapsed:    0.2s\n",
      "[Parallel(n_jobs=-1)]: Done 1672 tasks      | elapsed:    8.4s\n",
      "[Parallel(n_jobs=-1)]: Done 2750 out of 2750 | elapsed:   14.2s finished\n",
      "[Parallel(n_jobs=-1)]: Using backend LokyBackend with 8 concurrent workers.\n"
     ]
    },
    {
     "name": "stdout",
     "output_type": "stream",
     "text": [
      "alpha: {'learning_rate': 0.2, 'loss': 'huber', 'max_depth': 2, 'n_estimators': 8}\n",
      "5 Cleveland Browns: 2018-11-01 00:00:00\n",
      "Fitting 5 folds for each of 550 candidates, totalling 2750 fits\n"
     ]
    },
    {
     "name": "stderr",
     "output_type": "stream",
     "text": [
      "[Parallel(n_jobs=-1)]: Done  16 tasks      | elapsed:    0.2s\n",
      "[Parallel(n_jobs=-1)]: Done 1936 tasks      | elapsed:    9.6s\n",
      "[Parallel(n_jobs=-1)]: Done 2750 out of 2750 | elapsed:   13.8s finished\n",
      "[Parallel(n_jobs=-1)]: Using backend LokyBackend with 8 concurrent workers.\n"
     ]
    },
    {
     "name": "stdout",
     "output_type": "stream",
     "text": [
      "alpha: {'learning_rate': 0.4, 'loss': 'huber', 'max_depth': 4, 'n_estimators': 10}\n",
      "5 Cleveland Browns: 2018-12-01 00:00:00\n",
      "Fitting 5 folds for each of 550 candidates, totalling 2750 fits\n"
     ]
    },
    {
     "name": "stderr",
     "output_type": "stream",
     "text": [
      "[Parallel(n_jobs=-1)]: Done  16 tasks      | elapsed:    0.1s\n",
      "[Parallel(n_jobs=-1)]: Done 1780 tasks      | elapsed:    8.7s\n",
      "[Parallel(n_jobs=-1)]: Done 2750 out of 2750 | elapsed:   13.7s finished\n",
      "[Parallel(n_jobs=-1)]: Using backend LokyBackend with 8 concurrent workers.\n"
     ]
    },
    {
     "name": "stdout",
     "output_type": "stream",
     "text": [
      "alpha: {'learning_rate': 0.5, 'loss': 'huber', 'max_depth': 4, 'n_estimators': 4}\n",
      "5 Cleveland Browns: 2019-09-01 00:00:00\n",
      "Fitting 5 folds for each of 550 candidates, totalling 2750 fits\n"
     ]
    },
    {
     "name": "stderr",
     "output_type": "stream",
     "text": [
      "[Parallel(n_jobs=-1)]: Done  16 tasks      | elapsed:    0.1s\n",
      "[Parallel(n_jobs=-1)]: Done 1168 tasks      | elapsed:    5.8s\n",
      "[Parallel(n_jobs=-1)]: Done 2750 out of 2750 | elapsed:   14.0s finished\n",
      "[Parallel(n_jobs=-1)]: Using backend LokyBackend with 8 concurrent workers.\n"
     ]
    },
    {
     "name": "stdout",
     "output_type": "stream",
     "text": [
      "alpha: {'learning_rate': 0.3, 'loss': 'huber', 'max_depth': 2, 'n_estimators': 8}\n",
      "5 Cleveland Browns: 2019-10-01 00:00:00\n",
      "Fitting 5 folds for each of 550 candidates, totalling 2750 fits\n"
     ]
    },
    {
     "name": "stderr",
     "output_type": "stream",
     "text": [
      "[Parallel(n_jobs=-1)]: Done  16 tasks      | elapsed:    0.2s\n",
      "[Parallel(n_jobs=-1)]: Done 1930 tasks      | elapsed:    9.6s\n",
      "[Parallel(n_jobs=-1)]: Done 2750 out of 2750 | elapsed:   13.9s finished\n",
      "[Parallel(n_jobs=-1)]: Using backend LokyBackend with 8 concurrent workers.\n"
     ]
    },
    {
     "name": "stdout",
     "output_type": "stream",
     "text": [
      "alpha: {'learning_rate': 0.3, 'loss': 'huber', 'max_depth': 2, 'n_estimators': 6}\n",
      "5 Cleveland Browns: 2019-11-01 00:00:00\n",
      "Fitting 5 folds for each of 550 candidates, totalling 2750 fits\n"
     ]
    },
    {
     "name": "stderr",
     "output_type": "stream",
     "text": [
      "[Parallel(n_jobs=-1)]: Done  16 tasks      | elapsed:    0.1s\n",
      "[Parallel(n_jobs=-1)]: Done 1806 tasks      | elapsed:    9.5s\n",
      "[Parallel(n_jobs=-1)]: Done 2750 out of 2750 | elapsed:   14.7s finished\n",
      "[Parallel(n_jobs=-1)]: Using backend LokyBackend with 8 concurrent workers.\n"
     ]
    },
    {
     "name": "stdout",
     "output_type": "stream",
     "text": [
      "alpha: {'learning_rate': 0.2, 'loss': 'huber', 'max_depth': 4, 'n_estimators': 6}\n",
      "5 Cleveland Browns: 2019-12-01 00:00:00\n",
      "Fitting 5 folds for each of 550 candidates, totalling 2750 fits\n"
     ]
    },
    {
     "name": "stderr",
     "output_type": "stream",
     "text": [
      "[Parallel(n_jobs=-1)]: Done  16 tasks      | elapsed:    0.2s\n",
      "[Parallel(n_jobs=-1)]: Done 1567 tasks      | elapsed:    8.0s\n",
      "[Parallel(n_jobs=-1)]: Done 2750 out of 2750 | elapsed:   14.5s finished\n",
      "[Parallel(n_jobs=-1)]: Using backend LokyBackend with 8 concurrent workers.\n"
     ]
    },
    {
     "name": "stdout",
     "output_type": "stream",
     "text": [
      "alpha: {'learning_rate': 0.3, 'loss': 'ls', 'max_depth': 2, 'n_estimators': 10}\n",
      "6 Seattle Seahawks: 2012-09-01 00:00:00\n",
      "Fitting 5 folds for each of 550 candidates, totalling 2750 fits\n"
     ]
    },
    {
     "name": "stderr",
     "output_type": "stream",
     "text": [
      "[Parallel(n_jobs=-1)]: Done  16 tasks      | elapsed:    0.2s\n",
      "[Parallel(n_jobs=-1)]: Done 1545 tasks      | elapsed:    8.9s\n",
      "[Parallel(n_jobs=-1)]: Done 2750 out of 2750 | elapsed:   16.2s finished\n",
      "[Parallel(n_jobs=-1)]: Using backend LokyBackend with 8 concurrent workers.\n"
     ]
    },
    {
     "name": "stdout",
     "output_type": "stream",
     "text": [
      "alpha: {'learning_rate': 0.2, 'loss': 'huber', 'max_depth': 2, 'n_estimators': 6}\n",
      "6 Seattle Seahawks: 2012-10-01 00:00:00\n",
      "Fitting 5 folds for each of 550 candidates, totalling 2750 fits\n"
     ]
    },
    {
     "name": "stderr",
     "output_type": "stream",
     "text": [
      "[Parallel(n_jobs=-1)]: Done  16 tasks      | elapsed:    0.2s\n",
      "[Parallel(n_jobs=-1)]: Done 1552 tasks      | elapsed:    8.5s\n",
      "[Parallel(n_jobs=-1)]: Done 2750 out of 2750 | elapsed:   15.8s finished\n",
      "[Parallel(n_jobs=-1)]: Using backend LokyBackend with 8 concurrent workers.\n"
     ]
    },
    {
     "name": "stdout",
     "output_type": "stream",
     "text": [
      "alpha: {'learning_rate': 0.4, 'loss': 'huber', 'max_depth': 4, 'n_estimators': 6}\n",
      "6 Seattle Seahawks: 2012-11-01 00:00:00\n",
      "Fitting 5 folds for each of 550 candidates, totalling 2750 fits\n"
     ]
    },
    {
     "name": "stderr",
     "output_type": "stream",
     "text": [
      "[Parallel(n_jobs=-1)]: Done  16 tasks      | elapsed:    0.2s\n",
      "[Parallel(n_jobs=-1)]: Done 1426 tasks      | elapsed:    8.2s\n",
      "[Parallel(n_jobs=-1)]: Done 2750 out of 2750 | elapsed:   15.6s finished\n",
      "[Parallel(n_jobs=-1)]: Using backend LokyBackend with 8 concurrent workers.\n"
     ]
    },
    {
     "name": "stdout",
     "output_type": "stream",
     "text": [
      "alpha: {'learning_rate': 0.2, 'loss': 'huber', 'max_depth': 4, 'n_estimators': 6}\n",
      "6 Seattle Seahawks: 2012-12-01 00:00:00\n",
      "Fitting 5 folds for each of 550 candidates, totalling 2750 fits\n"
     ]
    },
    {
     "name": "stderr",
     "output_type": "stream",
     "text": [
      "[Parallel(n_jobs=-1)]: Done  16 tasks      | elapsed:    0.1s\n",
      "[Parallel(n_jobs=-1)]: Done 1168 tasks      | elapsed:    6.1s\n",
      "[Parallel(n_jobs=-1)]: Done 2750 out of 2750 | elapsed:   15.1s finished\n",
      "[Parallel(n_jobs=-1)]: Using backend LokyBackend with 8 concurrent workers.\n"
     ]
    },
    {
     "name": "stdout",
     "output_type": "stream",
     "text": [
      "alpha: {'learning_rate': 0.4, 'loss': 'ls', 'max_depth': 2, 'n_estimators': 8}\n",
      "6 Seattle Seahawks: 2013-09-01 00:00:00\n",
      "Fitting 5 folds for each of 550 candidates, totalling 2750 fits\n"
     ]
    },
    {
     "name": "stderr",
     "output_type": "stream",
     "text": [
      "[Parallel(n_jobs=-1)]: Done  16 tasks      | elapsed:    0.1s\n",
      "[Parallel(n_jobs=-1)]: Done 1360 tasks      | elapsed:    7.1s\n",
      "[Parallel(n_jobs=-1)]: Done 2750 out of 2750 | elapsed:   14.8s finished\n",
      "[Parallel(n_jobs=-1)]: Using backend LokyBackend with 8 concurrent workers.\n"
     ]
    },
    {
     "name": "stdout",
     "output_type": "stream",
     "text": [
      "alpha: {'learning_rate': 0.3, 'loss': 'huber', 'max_depth': 2, 'n_estimators': 8}\n",
      "6 Seattle Seahawks: 2013-10-01 00:00:00\n",
      "Fitting 5 folds for each of 550 candidates, totalling 2750 fits\n"
     ]
    },
    {
     "name": "stderr",
     "output_type": "stream",
     "text": [
      "[Parallel(n_jobs=-1)]: Done  16 tasks      | elapsed:    0.1s\n",
      "[Parallel(n_jobs=-1)]: Done 1672 tasks      | elapsed:    8.1s\n",
      "[Parallel(n_jobs=-1)]: Done 2750 out of 2750 | elapsed:   13.8s finished\n",
      "[Parallel(n_jobs=-1)]: Using backend LokyBackend with 8 concurrent workers.\n"
     ]
    },
    {
     "name": "stdout",
     "output_type": "stream",
     "text": [
      "alpha: {'learning_rate': 0.3, 'loss': 'ls', 'max_depth': 2, 'n_estimators': 8}\n",
      "6 Seattle Seahawks: 2013-11-01 00:00:00\n",
      "Fitting 5 folds for each of 550 candidates, totalling 2750 fits\n"
     ]
    },
    {
     "name": "stderr",
     "output_type": "stream",
     "text": [
      "[Parallel(n_jobs=-1)]: Done  16 tasks      | elapsed:    0.2s\n",
      "[Parallel(n_jobs=-1)]: Done 1660 tasks      | elapsed:    8.4s\n",
      "[Parallel(n_jobs=-1)]: Done 2750 out of 2750 | elapsed:   14.5s finished\n",
      "[Parallel(n_jobs=-1)]: Using backend LokyBackend with 8 concurrent workers.\n"
     ]
    },
    {
     "name": "stdout",
     "output_type": "stream",
     "text": [
      "alpha: {'learning_rate': 0.3, 'loss': 'ls', 'max_depth': 4, 'n_estimators': 4}\n",
      "6 Seattle Seahawks: 2013-12-01 00:00:00\n",
      "Fitting 5 folds for each of 550 candidates, totalling 2750 fits\n"
     ]
    },
    {
     "name": "stderr",
     "output_type": "stream",
     "text": [
      "[Parallel(n_jobs=-1)]: Done  16 tasks      | elapsed:    0.2s\n",
      "[Parallel(n_jobs=-1)]: Done 1684 tasks      | elapsed:    8.4s\n",
      "[Parallel(n_jobs=-1)]: Done 2750 out of 2750 | elapsed:   14.1s finished\n",
      "[Parallel(n_jobs=-1)]: Using backend LokyBackend with 8 concurrent workers.\n"
     ]
    },
    {
     "name": "stdout",
     "output_type": "stream",
     "text": [
      "alpha: {'learning_rate': 0.3, 'loss': 'huber', 'max_depth': 2, 'n_estimators': 10}\n",
      "6 Seattle Seahawks: 2014-09-01 00:00:00\n",
      "Fitting 5 folds for each of 550 candidates, totalling 2750 fits\n"
     ]
    },
    {
     "name": "stderr",
     "output_type": "stream",
     "text": [
      "[Parallel(n_jobs=-1)]: Done  16 tasks      | elapsed:    0.1s\n",
      "[Parallel(n_jobs=-1)]: Done 1578 tasks      | elapsed:    7.9s\n",
      "[Parallel(n_jobs=-1)]: Done 2750 out of 2750 | elapsed:   14.4s finished\n",
      "[Parallel(n_jobs=-1)]: Using backend LokyBackend with 8 concurrent workers.\n"
     ]
    },
    {
     "name": "stdout",
     "output_type": "stream",
     "text": [
      "alpha: {'learning_rate': 0.6, 'loss': 'ls', 'max_depth': 2, 'n_estimators': 2}\n",
      "6 Seattle Seahawks: 2014-10-01 00:00:00\n",
      "Fitting 5 folds for each of 550 candidates, totalling 2750 fits\n"
     ]
    },
    {
     "name": "stderr",
     "output_type": "stream",
     "text": [
      "[Parallel(n_jobs=-1)]: Done  16 tasks      | elapsed:    0.2s\n",
      "[Parallel(n_jobs=-1)]: Done 1684 tasks      | elapsed:    8.6s\n",
      "[Parallel(n_jobs=-1)]: Done 2750 out of 2750 | elapsed:   14.7s finished\n",
      "[Parallel(n_jobs=-1)]: Using backend LokyBackend with 8 concurrent workers.\n"
     ]
    },
    {
     "name": "stdout",
     "output_type": "stream",
     "text": [
      "alpha: {'learning_rate': 0.5, 'loss': 'ls', 'max_depth': 2, 'n_estimators': 6}\n",
      "6 Seattle Seahawks: 2014-11-01 00:00:00\n",
      "Fitting 5 folds for each of 550 candidates, totalling 2750 fits\n"
     ]
    },
    {
     "name": "stderr",
     "output_type": "stream",
     "text": [
      "[Parallel(n_jobs=-1)]: Done  16 tasks      | elapsed:    0.1s\n",
      "[Parallel(n_jobs=-1)]: Done 1567 tasks      | elapsed:    8.6s\n",
      "[Parallel(n_jobs=-1)]: Done 2750 out of 2750 | elapsed:   15.5s finished\n",
      "[Parallel(n_jobs=-1)]: Using backend LokyBackend with 8 concurrent workers.\n"
     ]
    },
    {
     "name": "stdout",
     "output_type": "stream",
     "text": [
      "alpha: {'learning_rate': 0.2, 'loss': 'huber', 'max_depth': 6, 'n_estimators': 8}\n",
      "6 Seattle Seahawks: 2014-12-01 00:00:00\n",
      "Fitting 5 folds for each of 550 candidates, totalling 2750 fits\n"
     ]
    },
    {
     "name": "stderr",
     "output_type": "stream",
     "text": [
      "[Parallel(n_jobs=-1)]: Done  16 tasks      | elapsed:    0.2s\n",
      "[Parallel(n_jobs=-1)]: Done 1567 tasks      | elapsed:    7.9s\n",
      "[Parallel(n_jobs=-1)]: Done 2750 out of 2750 | elapsed:   14.5s finished\n",
      "[Parallel(n_jobs=-1)]: Using backend LokyBackend with 8 concurrent workers.\n"
     ]
    },
    {
     "name": "stdout",
     "output_type": "stream",
     "text": [
      "alpha: {'learning_rate': 0.3, 'loss': 'ls', 'max_depth': 2, 'n_estimators': 8}\n",
      "6 Seattle Seahawks: 2015-09-01 00:00:00\n",
      "Fitting 5 folds for each of 550 candidates, totalling 2750 fits\n"
     ]
    },
    {
     "name": "stderr",
     "output_type": "stream",
     "text": [
      "[Parallel(n_jobs=-1)]: Done  16 tasks      | elapsed:    0.1s\n",
      "[Parallel(n_jobs=-1)]: Done 1636 tasks      | elapsed:    8.8s\n",
      "[Parallel(n_jobs=-1)]: Done 2750 out of 2750 | elapsed:   15.5s finished\n",
      "[Parallel(n_jobs=-1)]: Using backend LokyBackend with 8 concurrent workers.\n"
     ]
    },
    {
     "name": "stdout",
     "output_type": "stream",
     "text": [
      "alpha: {'learning_rate': 0.4, 'loss': 'huber', 'max_depth': 2, 'n_estimators': 8}\n",
      "6 Seattle Seahawks: 2015-10-01 00:00:00\n",
      "Fitting 5 folds for each of 550 candidates, totalling 2750 fits\n"
     ]
    },
    {
     "name": "stderr",
     "output_type": "stream",
     "text": [
      "[Parallel(n_jobs=-1)]: Done  16 tasks      | elapsed:    0.1s\n",
      "[Parallel(n_jobs=-1)]: Done 1660 tasks      | elapsed:    8.4s\n",
      "[Parallel(n_jobs=-1)]: Done 2750 out of 2750 | elapsed:   14.7s finished\n",
      "[Parallel(n_jobs=-1)]: Using backend LokyBackend with 8 concurrent workers.\n"
     ]
    },
    {
     "name": "stdout",
     "output_type": "stream",
     "text": [
      "alpha: {'learning_rate': 0.4, 'loss': 'ls', 'max_depth': 2, 'n_estimators': 10}\n",
      "6 Seattle Seahawks: 2015-11-01 00:00:00\n",
      "Fitting 5 folds for each of 550 candidates, totalling 2750 fits\n"
     ]
    },
    {
     "name": "stderr",
     "output_type": "stream",
     "text": [
      "[Parallel(n_jobs=-1)]: Done  16 tasks      | elapsed:    0.2s\n",
      "[Parallel(n_jobs=-1)]: Done 1566 tasks      | elapsed:    8.5s\n",
      "[Parallel(n_jobs=-1)]: Done 2750 out of 2750 | elapsed:   15.5s finished\n",
      "[Parallel(n_jobs=-1)]: Using backend LokyBackend with 8 concurrent workers.\n"
     ]
    },
    {
     "name": "stdout",
     "output_type": "stream",
     "text": [
      "alpha: {'learning_rate': 0.15, 'loss': 'huber', 'max_depth': 2, 'n_estimators': 10}\n",
      "6 Seattle Seahawks: 2015-12-01 00:00:00\n",
      "Fitting 5 folds for each of 550 candidates, totalling 2750 fits\n"
     ]
    },
    {
     "name": "stderr",
     "output_type": "stream",
     "text": [
      "[Parallel(n_jobs=-1)]: Done  16 tasks      | elapsed:    0.2s\n",
      "[Parallel(n_jobs=-1)]: Done 1636 tasks      | elapsed:    8.9s\n",
      "[Parallel(n_jobs=-1)]: Done 2750 out of 2750 | elapsed:   15.7s finished\n",
      "[Parallel(n_jobs=-1)]: Using backend LokyBackend with 8 concurrent workers.\n"
     ]
    },
    {
     "name": "stdout",
     "output_type": "stream",
     "text": [
      "alpha: {'learning_rate': 0.4, 'loss': 'huber', 'max_depth': 2, 'n_estimators': 2}\n",
      "6 Seattle Seahawks: 2016-09-01 00:00:00\n",
      "Fitting 5 folds for each of 550 candidates, totalling 2750 fits\n"
     ]
    },
    {
     "name": "stderr",
     "output_type": "stream",
     "text": [
      "[Parallel(n_jobs=-1)]: Done  16 tasks      | elapsed:    0.2s\n",
      "[Parallel(n_jobs=-1)]: Done 1545 tasks      | elapsed:    8.2s\n",
      "[Parallel(n_jobs=-1)]: Done 2750 out of 2750 | elapsed:   15.0s finished\n",
      "[Parallel(n_jobs=-1)]: Using backend LokyBackend with 8 concurrent workers.\n"
     ]
    },
    {
     "name": "stdout",
     "output_type": "stream",
     "text": [
      "alpha: {'learning_rate': 0.15, 'loss': 'huber', 'max_depth': 2, 'n_estimators': 8}\n",
      "6 Seattle Seahawks: 2016-10-01 00:00:00\n",
      "Fitting 5 folds for each of 550 candidates, totalling 2750 fits\n"
     ]
    },
    {
     "name": "stderr",
     "output_type": "stream",
     "text": [
      "[Parallel(n_jobs=-1)]: Done  16 tasks      | elapsed:    0.1s\n",
      "[Parallel(n_jobs=-1)]: Done 1648 tasks      | elapsed:    8.2s\n",
      "[Parallel(n_jobs=-1)]: Done 2750 out of 2750 | elapsed:   14.5s finished\n",
      "[Parallel(n_jobs=-1)]: Using backend LokyBackend with 8 concurrent workers.\n"
     ]
    },
    {
     "name": "stdout",
     "output_type": "stream",
     "text": [
      "alpha: {'learning_rate': 0.2, 'loss': 'ls', 'max_depth': 2, 'n_estimators': 10}\n",
      "6 Seattle Seahawks: 2016-11-01 00:00:00\n",
      "Fitting 5 folds for each of 550 candidates, totalling 2750 fits\n"
     ]
    },
    {
     "name": "stderr",
     "output_type": "stream",
     "text": [
      "[Parallel(n_jobs=-1)]: Done  16 tasks      | elapsed:    0.2s\n",
      "[Parallel(n_jobs=-1)]: Done 1648 tasks      | elapsed:    8.6s\n",
      "[Parallel(n_jobs=-1)]: Done 2750 out of 2750 | elapsed:   15.1s finished\n",
      "[Parallel(n_jobs=-1)]: Using backend LokyBackend with 8 concurrent workers.\n"
     ]
    },
    {
     "name": "stdout",
     "output_type": "stream",
     "text": [
      "alpha: {'learning_rate': 0.4, 'loss': 'huber', 'max_depth': 4, 'n_estimators': 8}\n",
      "6 Seattle Seahawks: 2016-12-01 00:00:00\n",
      "Fitting 5 folds for each of 550 candidates, totalling 2750 fits\n"
     ]
    },
    {
     "name": "stderr",
     "output_type": "stream",
     "text": [
      "[Parallel(n_jobs=-1)]: Done  16 tasks      | elapsed:    0.1s\n",
      "[Parallel(n_jobs=-1)]: Done 1936 tasks      | elapsed:    9.9s\n",
      "[Parallel(n_jobs=-1)]: Done 2750 out of 2750 | elapsed:   14.4s finished\n",
      "[Parallel(n_jobs=-1)]: Using backend LokyBackend with 8 concurrent workers.\n"
     ]
    },
    {
     "name": "stdout",
     "output_type": "stream",
     "text": [
      "alpha: {'learning_rate': 0.3, 'loss': 'ls', 'max_depth': 6, 'n_estimators': 2}\n",
      "6 Seattle Seahawks: 2017-09-01 00:00:00\n",
      "Fitting 5 folds for each of 550 candidates, totalling 2750 fits\n"
     ]
    },
    {
     "name": "stderr",
     "output_type": "stream",
     "text": [
      "[Parallel(n_jobs=-1)]: Done  16 tasks      | elapsed:    0.1s\n",
      "[Parallel(n_jobs=-1)]: Done 1744 tasks      | elapsed:    9.3s\n",
      "[Parallel(n_jobs=-1)]: Done 2750 out of 2750 | elapsed:   15.5s finished\n",
      "[Parallel(n_jobs=-1)]: Using backend LokyBackend with 8 concurrent workers.\n"
     ]
    },
    {
     "name": "stdout",
     "output_type": "stream",
     "text": [
      "alpha: {'learning_rate': 0.2, 'loss': 'huber', 'max_depth': 2, 'n_estimators': 8}\n",
      "6 Seattle Seahawks: 2017-10-01 00:00:00\n",
      "Fitting 5 folds for each of 550 candidates, totalling 2750 fits\n"
     ]
    },
    {
     "name": "stderr",
     "output_type": "stream",
     "text": [
      "[Parallel(n_jobs=-1)]: Done  16 tasks      | elapsed:    0.1s\n",
      "[Parallel(n_jobs=-1)]: Done 1576 tasks      | elapsed:    8.3s\n",
      "[Parallel(n_jobs=-1)]: Done 2750 out of 2750 | elapsed:   15.3s finished\n",
      "[Parallel(n_jobs=-1)]: Using backend LokyBackend with 8 concurrent workers.\n"
     ]
    },
    {
     "name": "stdout",
     "output_type": "stream",
     "text": [
      "alpha: {'learning_rate': 0.2, 'loss': 'ls', 'max_depth': 2, 'n_estimators': 10}\n",
      "6 Seattle Seahawks: 2017-11-01 00:00:00\n",
      "Fitting 5 folds for each of 550 candidates, totalling 2750 fits\n"
     ]
    },
    {
     "name": "stderr",
     "output_type": "stream",
     "text": [
      "[Parallel(n_jobs=-1)]: Done  16 tasks      | elapsed:    0.1s\n",
      "[Parallel(n_jobs=-1)]: Done 1456 tasks      | elapsed:    7.9s\n",
      "[Parallel(n_jobs=-1)]: Done 2750 out of 2750 | elapsed:   14.8s finished\n",
      "[Parallel(n_jobs=-1)]: Using backend LokyBackend with 8 concurrent workers.\n"
     ]
    },
    {
     "name": "stdout",
     "output_type": "stream",
     "text": [
      "alpha: {'learning_rate': 0.2, 'loss': 'huber', 'max_depth': 2, 'n_estimators': 6}\n",
      "6 Seattle Seahawks: 2017-12-01 00:00:00\n",
      "Fitting 5 folds for each of 550 candidates, totalling 2750 fits\n"
     ]
    },
    {
     "name": "stderr",
     "output_type": "stream",
     "text": [
      "[Parallel(n_jobs=-1)]: Done  16 tasks      | elapsed:    0.2s\n",
      "[Parallel(n_jobs=-1)]: Done 1745 tasks      | elapsed:    9.2s\n",
      "[Parallel(n_jobs=-1)]: Done 2750 out of 2750 | elapsed:   14.6s finished\n",
      "[Parallel(n_jobs=-1)]: Using backend LokyBackend with 8 concurrent workers.\n"
     ]
    },
    {
     "name": "stdout",
     "output_type": "stream",
     "text": [
      "alpha: {'learning_rate': 0.5, 'loss': 'huber', 'max_depth': 4, 'n_estimators': 2}\n",
      "6 Seattle Seahawks: 2018-09-01 00:00:00\n",
      "Fitting 5 folds for each of 550 candidates, totalling 2750 fits\n"
     ]
    },
    {
     "name": "stderr",
     "output_type": "stream",
     "text": [
      "[Parallel(n_jobs=-1)]: Done  16 tasks      | elapsed:    0.1s\n",
      "[Parallel(n_jobs=-1)]: Done 1567 tasks      | elapsed:    8.1s\n",
      "[Parallel(n_jobs=-1)]: Done 2750 out of 2750 | elapsed:   14.6s finished\n",
      "[Parallel(n_jobs=-1)]: Using backend LokyBackend with 8 concurrent workers.\n"
     ]
    },
    {
     "name": "stdout",
     "output_type": "stream",
     "text": [
      "alpha: {'learning_rate': 0.4, 'loss': 'huber', 'max_depth': 4, 'n_estimators': 10}\n",
      "6 Seattle Seahawks: 2018-10-01 00:00:00\n",
      "Fitting 5 folds for each of 550 candidates, totalling 2750 fits\n"
     ]
    },
    {
     "name": "stderr",
     "output_type": "stream",
     "text": [
      "[Parallel(n_jobs=-1)]: Done  16 tasks      | elapsed:    0.1s\n",
      "[Parallel(n_jobs=-1)]: Done 1567 tasks      | elapsed:    8.2s\n",
      "[Parallel(n_jobs=-1)]: Done 2750 out of 2750 | elapsed:   14.9s finished\n",
      "[Parallel(n_jobs=-1)]: Using backend LokyBackend with 8 concurrent workers.\n"
     ]
    },
    {
     "name": "stdout",
     "output_type": "stream",
     "text": [
      "alpha: {'learning_rate': 0.3, 'loss': 'huber', 'max_depth': 2, 'n_estimators': 8}\n",
      "6 Seattle Seahawks: 2018-11-01 00:00:00\n",
      "Fitting 5 folds for each of 550 candidates, totalling 2750 fits\n"
     ]
    },
    {
     "name": "stderr",
     "output_type": "stream",
     "text": [
      "[Parallel(n_jobs=-1)]: Done  16 tasks      | elapsed:    0.2s\n",
      "[Parallel(n_jobs=-1)]: Done 1436 tasks      | elapsed:    7.8s\n",
      "[Parallel(n_jobs=-1)]: Done 2750 out of 2750 | elapsed:   15.4s finished\n",
      "[Parallel(n_jobs=-1)]: Using backend LokyBackend with 8 concurrent workers.\n"
     ]
    },
    {
     "name": "stdout",
     "output_type": "stream",
     "text": [
      "alpha: {'learning_rate': 0.6, 'loss': 'ls', 'max_depth': 2, 'n_estimators': 6}\n",
      "6 Seattle Seahawks: 2018-12-01 00:00:00\n",
      "Fitting 5 folds for each of 550 candidates, totalling 2750 fits\n"
     ]
    },
    {
     "name": "stderr",
     "output_type": "stream",
     "text": [
      "[Parallel(n_jobs=-1)]: Done  16 tasks      | elapsed:    0.2s\n",
      "[Parallel(n_jobs=-1)]: Done 1567 tasks      | elapsed:    8.4s\n",
      "[Parallel(n_jobs=-1)]: Done 2750 out of 2750 | elapsed:   14.9s finished\n",
      "[Parallel(n_jobs=-1)]: Using backend LokyBackend with 8 concurrent workers.\n"
     ]
    },
    {
     "name": "stdout",
     "output_type": "stream",
     "text": [
      "alpha: {'learning_rate': 0.2, 'loss': 'huber', 'max_depth': 2, 'n_estimators': 10}\n",
      "6 Seattle Seahawks: 2019-09-01 00:00:00\n",
      "Fitting 5 folds for each of 550 candidates, totalling 2750 fits\n"
     ]
    },
    {
     "name": "stderr",
     "output_type": "stream",
     "text": [
      "[Parallel(n_jobs=-1)]: Done  16 tasks      | elapsed:    0.2s\n",
      "[Parallel(n_jobs=-1)]: Done 1648 tasks      | elapsed:    8.2s\n",
      "[Parallel(n_jobs=-1)]: Done 2750 out of 2750 | elapsed:   14.6s finished\n",
      "[Parallel(n_jobs=-1)]: Using backend LokyBackend with 8 concurrent workers.\n"
     ]
    },
    {
     "name": "stdout",
     "output_type": "stream",
     "text": [
      "alpha: {'learning_rate': 0.4, 'loss': 'huber', 'max_depth': 2, 'n_estimators': 10}\n",
      "6 Seattle Seahawks: 2019-10-01 00:00:00\n",
      "Fitting 5 folds for each of 550 candidates, totalling 2750 fits\n"
     ]
    },
    {
     "name": "stderr",
     "output_type": "stream",
     "text": [
      "[Parallel(n_jobs=-1)]: Done  16 tasks      | elapsed:    0.1s\n",
      "[Parallel(n_jobs=-1)]: Done 1545 tasks      | elapsed:    8.2s\n",
      "[Parallel(n_jobs=-1)]: Done 2750 out of 2750 | elapsed:   14.8s finished\n",
      "[Parallel(n_jobs=-1)]: Using backend LokyBackend with 8 concurrent workers.\n"
     ]
    },
    {
     "name": "stdout",
     "output_type": "stream",
     "text": [
      "alpha: {'learning_rate': 0.4, 'loss': 'huber', 'max_depth': 2, 'n_estimators': 10}\n",
      "6 Seattle Seahawks: 2019-11-01 00:00:00\n",
      "Fitting 5 folds for each of 550 candidates, totalling 2750 fits\n"
     ]
    },
    {
     "name": "stderr",
     "output_type": "stream",
     "text": [
      "[Parallel(n_jobs=-1)]: Done  16 tasks      | elapsed:    0.1s\n",
      "[Parallel(n_jobs=-1)]: Done 1168 tasks      | elapsed:    6.3s\n",
      "[Parallel(n_jobs=-1)]: Done 2750 out of 2750 | elapsed:   15.1s finished\n",
      "[Parallel(n_jobs=-1)]: Using backend LokyBackend with 8 concurrent workers.\n"
     ]
    },
    {
     "name": "stdout",
     "output_type": "stream",
     "text": [
      "alpha: {'learning_rate': 0.4, 'loss': 'huber', 'max_depth': 2, 'n_estimators': 10}\n",
      "6 Seattle Seahawks: 2019-12-01 00:00:00\n",
      "Fitting 5 folds for each of 550 candidates, totalling 2750 fits\n"
     ]
    },
    {
     "name": "stderr",
     "output_type": "stream",
     "text": [
      "[Parallel(n_jobs=-1)]: Done  16 tasks      | elapsed:    0.2s\n",
      "[Parallel(n_jobs=-1)]: Done 1648 tasks      | elapsed:    8.4s\n",
      "[Parallel(n_jobs=-1)]: Done 2750 out of 2750 | elapsed:   15.1s finished\n",
      "[Parallel(n_jobs=-1)]: Using backend LokyBackend with 8 concurrent workers.\n"
     ]
    },
    {
     "name": "stdout",
     "output_type": "stream",
     "text": [
      "alpha: {'learning_rate': 0.2, 'loss': 'huber', 'max_depth': 2, 'n_estimators': 10}\n",
      "7 Detroit Lions: 2012-09-01 00:00:00\n",
      "Fitting 5 folds for each of 550 candidates, totalling 2750 fits\n"
     ]
    },
    {
     "name": "stderr",
     "output_type": "stream",
     "text": [
      "[Parallel(n_jobs=-1)]: Done  16 tasks      | elapsed:    0.2s\n",
      "[Parallel(n_jobs=-1)]: Done 1552 tasks      | elapsed:    9.0s\n",
      "[Parallel(n_jobs=-1)]: Done 2750 out of 2750 | elapsed:   16.0s finished\n",
      "[Parallel(n_jobs=-1)]: Using backend LokyBackend with 8 concurrent workers.\n"
     ]
    },
    {
     "name": "stdout",
     "output_type": "stream",
     "text": [
      "alpha: {'learning_rate': 0.15, 'loss': 'huber', 'max_depth': 2, 'n_estimators': 4}\n",
      "7 Detroit Lions: 2012-10-01 00:00:00\n",
      "Fitting 5 folds for each of 550 candidates, totalling 2750 fits\n"
     ]
    },
    {
     "name": "stderr",
     "output_type": "stream",
     "text": [
      "[Parallel(n_jobs=-1)]: Done  16 tasks      | elapsed:    0.1s\n",
      "[Parallel(n_jobs=-1)]: Done 1466 tasks      | elapsed:    7.7s\n",
      "[Parallel(n_jobs=-1)]: Done 2750 out of 2750 | elapsed:   14.7s finished\n",
      "[Parallel(n_jobs=-1)]: Using backend LokyBackend with 8 concurrent workers.\n"
     ]
    },
    {
     "name": "stdout",
     "output_type": "stream",
     "text": [
      "alpha: {'learning_rate': 0.3, 'loss': 'ls', 'max_depth': 2, 'n_estimators': 6}\n",
      "7 Detroit Lions: 2012-11-01 00:00:00\n",
      "Fitting 5 folds for each of 550 candidates, totalling 2750 fits\n"
     ]
    },
    {
     "name": "stderr",
     "output_type": "stream",
     "text": [
      "[Parallel(n_jobs=-1)]: Done  16 tasks      | elapsed:    0.2s\n",
      "[Parallel(n_jobs=-1)]: Done 1684 tasks      | elapsed:    8.6s\n",
      "[Parallel(n_jobs=-1)]: Done 2750 out of 2750 | elapsed:   14.5s finished\n",
      "[Parallel(n_jobs=-1)]: Using backend LokyBackend with 8 concurrent workers.\n"
     ]
    },
    {
     "name": "stdout",
     "output_type": "stream",
     "text": [
      "alpha: {'learning_rate': 0.05, 'loss': 'huber', 'max_depth': 6, 'n_estimators': 2}\n",
      "7 Detroit Lions: 2012-12-01 00:00:00\n",
      "Fitting 5 folds for each of 550 candidates, totalling 2750 fits\n"
     ]
    },
    {
     "name": "stderr",
     "output_type": "stream",
     "text": [
      "[Parallel(n_jobs=-1)]: Done  16 tasks      | elapsed:    0.1s\n",
      "[Parallel(n_jobs=-1)]: Done 1578 tasks      | elapsed:    7.8s\n",
      "[Parallel(n_jobs=-1)]: Done 2750 out of 2750 | elapsed:   14.3s finished\n",
      "[Parallel(n_jobs=-1)]: Using backend LokyBackend with 8 concurrent workers.\n"
     ]
    },
    {
     "name": "stdout",
     "output_type": "stream",
     "text": [
      "alpha: {'learning_rate': 0.4, 'loss': 'ls', 'max_depth': 2, 'n_estimators': 10}\n",
      "7 Detroit Lions: 2013-09-01 00:00:00\n",
      "Fitting 5 folds for each of 550 candidates, totalling 2750 fits\n"
     ]
    },
    {
     "name": "stderr",
     "output_type": "stream",
     "text": [
      "[Parallel(n_jobs=-1)]: Done  16 tasks      | elapsed:    0.2s\n",
      "[Parallel(n_jobs=-1)]: Done 1578 tasks      | elapsed:    8.1s\n",
      "[Parallel(n_jobs=-1)]: Done 2750 out of 2750 | elapsed:   14.8s finished\n",
      "[Parallel(n_jobs=-1)]: Using backend LokyBackend with 8 concurrent workers.\n"
     ]
    },
    {
     "name": "stdout",
     "output_type": "stream",
     "text": [
      "alpha: {'learning_rate': 0.2, 'loss': 'huber', 'max_depth': 4, 'n_estimators': 2}\n",
      "7 Detroit Lions: 2013-10-01 00:00:00\n",
      "Fitting 5 folds for each of 550 candidates, totalling 2750 fits\n"
     ]
    },
    {
     "name": "stderr",
     "output_type": "stream",
     "text": [
      "[Parallel(n_jobs=-1)]: Done  16 tasks      | elapsed:    0.1s\n",
      "[Parallel(n_jobs=-1)]: Done 1456 tasks      | elapsed:    7.9s\n",
      "[Parallel(n_jobs=-1)]: Done 2750 out of 2750 | elapsed:   15.2s finished\n",
      "[Parallel(n_jobs=-1)]: Using backend LokyBackend with 8 concurrent workers.\n"
     ]
    },
    {
     "name": "stdout",
     "output_type": "stream",
     "text": [
      "alpha: {'learning_rate': 0.3, 'loss': 'huber', 'max_depth': 2, 'n_estimators': 8}\n",
      "7 Detroit Lions: 2013-11-01 00:00:00\n",
      "Fitting 5 folds for each of 550 candidates, totalling 2750 fits\n"
     ]
    },
    {
     "name": "stderr",
     "output_type": "stream",
     "text": [
      "[Parallel(n_jobs=-1)]: Done  16 tasks      | elapsed:    0.1s\n",
      "[Parallel(n_jobs=-1)]: Done 976 tasks      | elapsed:    5.9s\n",
      "[Parallel(n_jobs=-1)]: Done 2576 tasks      | elapsed:   14.5s\n",
      "[Parallel(n_jobs=-1)]: Done 2750 out of 2750 | elapsed:   15.7s finished\n",
      "[Parallel(n_jobs=-1)]: Using backend LokyBackend with 8 concurrent workers.\n"
     ]
    },
    {
     "name": "stdout",
     "output_type": "stream",
     "text": [
      "alpha: {'learning_rate': 0.4, 'loss': 'ls', 'max_depth': 2, 'n_estimators': 4}\n",
      "7 Detroit Lions: 2013-12-01 00:00:00\n",
      "Fitting 5 folds for each of 550 candidates, totalling 2750 fits\n"
     ]
    },
    {
     "name": "stderr",
     "output_type": "stream",
     "text": [
      "[Parallel(n_jobs=-1)]: Done  16 tasks      | elapsed:    0.1s\n",
      "[Parallel(n_jobs=-1)]: Done 1567 tasks      | elapsed:    8.1s\n",
      "[Parallel(n_jobs=-1)]: Done 2750 out of 2750 | elapsed:   14.7s finished\n",
      "[Parallel(n_jobs=-1)]: Using backend LokyBackend with 8 concurrent workers.\n"
     ]
    },
    {
     "name": "stdout",
     "output_type": "stream",
     "text": [
      "alpha: {'learning_rate': 0.3, 'loss': 'huber', 'max_depth': 4, 'n_estimators': 4}\n",
      "7 Detroit Lions: 2014-09-01 00:00:00\n",
      "Fitting 5 folds for each of 550 candidates, totalling 2750 fits\n"
     ]
    },
    {
     "name": "stderr",
     "output_type": "stream",
     "text": [
      "[Parallel(n_jobs=-1)]: Done  16 tasks      | elapsed:    0.2s\n",
      "[Parallel(n_jobs=-1)]: Done 1758 tasks      | elapsed:    9.1s\n",
      "[Parallel(n_jobs=-1)]: Done 2750 out of 2750 | elapsed:   14.5s finished\n",
      "[Parallel(n_jobs=-1)]: Using backend LokyBackend with 8 concurrent workers.\n"
     ]
    },
    {
     "name": "stdout",
     "output_type": "stream",
     "text": [
      "alpha: {'learning_rate': 0.2, 'loss': 'ls', 'max_depth': 2, 'n_estimators': 10}\n",
      "7 Detroit Lions: 2014-10-01 00:00:00\n",
      "Fitting 5 folds for each of 550 candidates, totalling 2750 fits\n"
     ]
    },
    {
     "name": "stderr",
     "output_type": "stream",
     "text": [
      "[Parallel(n_jobs=-1)]: Done  16 tasks      | elapsed:    0.1s\n",
      "[Parallel(n_jobs=-1)]: Done 1660 tasks      | elapsed:    8.3s\n",
      "[Parallel(n_jobs=-1)]: Done 2750 out of 2750 | elapsed:   14.5s finished\n",
      "[Parallel(n_jobs=-1)]: Using backend LokyBackend with 8 concurrent workers.\n"
     ]
    },
    {
     "name": "stdout",
     "output_type": "stream",
     "text": [
      "alpha: {'learning_rate': 0.5, 'loss': 'huber', 'max_depth': 2, 'n_estimators': 2}\n",
      "7 Detroit Lions: 2014-11-01 00:00:00\n",
      "Fitting 5 folds for each of 550 candidates, totalling 2750 fits\n"
     ]
    },
    {
     "name": "stderr",
     "output_type": "stream",
     "text": [
      "[Parallel(n_jobs=-1)]: Done  16 tasks      | elapsed:    0.1s\n",
      "[Parallel(n_jobs=-1)]: Done 1168 tasks      | elapsed:    6.3s\n",
      "[Parallel(n_jobs=-1)]: Done 2750 out of 2750 | elapsed:   14.9s finished\n",
      "[Parallel(n_jobs=-1)]: Using backend LokyBackend with 8 concurrent workers.\n"
     ]
    },
    {
     "name": "stdout",
     "output_type": "stream",
     "text": [
      "alpha: {'learning_rate': 0.3, 'loss': 'ls', 'max_depth': 2, 'n_estimators': 6}\n",
      "7 Detroit Lions: 2014-12-01 00:00:00\n",
      "Fitting 5 folds for each of 550 candidates, totalling 2750 fits\n"
     ]
    },
    {
     "name": "stderr",
     "output_type": "stream",
     "text": [
      "[Parallel(n_jobs=-1)]: Done  16 tasks      | elapsed:    0.2s\n",
      "[Parallel(n_jobs=-1)]: Done 1648 tasks      | elapsed:    8.5s\n",
      "[Parallel(n_jobs=-1)]: Done 2750 out of 2750 | elapsed:   14.9s finished\n",
      "[Parallel(n_jobs=-1)]: Using backend LokyBackend with 8 concurrent workers.\n"
     ]
    },
    {
     "name": "stdout",
     "output_type": "stream",
     "text": [
      "alpha: {'learning_rate': 0.15, 'loss': 'huber', 'max_depth': 4, 'n_estimators': 4}\n",
      "7 Detroit Lions: 2015-09-01 00:00:00\n",
      "Fitting 5 folds for each of 550 candidates, totalling 2750 fits\n"
     ]
    },
    {
     "name": "stderr",
     "output_type": "stream",
     "text": [
      "[Parallel(n_jobs=-1)]: Done  16 tasks      | elapsed:    0.2s\n",
      "[Parallel(n_jobs=-1)]: Done 1672 tasks      | elapsed:    8.9s\n",
      "[Parallel(n_jobs=-1)]: Done 2750 out of 2750 | elapsed:   15.1s finished\n",
      "[Parallel(n_jobs=-1)]: Using backend LokyBackend with 8 concurrent workers.\n"
     ]
    },
    {
     "name": "stdout",
     "output_type": "stream",
     "text": [
      "alpha: {'learning_rate': 0.6, 'loss': 'huber', 'max_depth': 4, 'n_estimators': 2}\n",
      "7 Detroit Lions: 2015-10-01 00:00:00\n",
      "Fitting 5 folds for each of 550 candidates, totalling 2750 fits\n"
     ]
    },
    {
     "name": "stderr",
     "output_type": "stream",
     "text": [
      "[Parallel(n_jobs=-1)]: Done  16 tasks      | elapsed:    0.2s\n",
      "[Parallel(n_jobs=-1)]: Done 1660 tasks      | elapsed:    8.4s\n",
      "[Parallel(n_jobs=-1)]: Done 2750 out of 2750 | elapsed:   14.7s finished\n",
      "[Parallel(n_jobs=-1)]: Using backend LokyBackend with 8 concurrent workers.\n"
     ]
    },
    {
     "name": "stdout",
     "output_type": "stream",
     "text": [
      "alpha: {'learning_rate': 0.2, 'loss': 'huber', 'max_depth': 2, 'n_estimators': 4}\n",
      "7 Detroit Lions: 2015-11-01 00:00:00\n",
      "Fitting 5 folds for each of 550 candidates, totalling 2750 fits\n"
     ]
    },
    {
     "name": "stderr",
     "output_type": "stream",
     "text": [
      "[Parallel(n_jobs=-1)]: Done  16 tasks      | elapsed:    0.1s\n",
      "[Parallel(n_jobs=-1)]: Done 1040 tasks      | elapsed:    6.3s\n",
      "[Parallel(n_jobs=-1)]: Done 2750 out of 2750 | elapsed:   15.7s finished\n",
      "[Parallel(n_jobs=-1)]: Using backend LokyBackend with 8 concurrent workers.\n"
     ]
    },
    {
     "name": "stdout",
     "output_type": "stream",
     "text": [
      "alpha: {'learning_rate': 0.3, 'loss': 'ls', 'max_depth': 2, 'n_estimators': 8}\n",
      "7 Detroit Lions: 2015-12-01 00:00:00\n",
      "Fitting 5 folds for each of 550 candidates, totalling 2750 fits\n"
     ]
    },
    {
     "name": "stderr",
     "output_type": "stream",
     "text": [
      "[Parallel(n_jobs=-1)]: Done  16 tasks      | elapsed:    0.2s\n",
      "[Parallel(n_jobs=-1)]: Done 1545 tasks      | elapsed:    8.1s\n",
      "[Parallel(n_jobs=-1)]: Done 2750 out of 2750 | elapsed:   15.0s finished\n",
      "[Parallel(n_jobs=-1)]: Using backend LokyBackend with 8 concurrent workers.\n"
     ]
    },
    {
     "name": "stdout",
     "output_type": "stream",
     "text": [
      "alpha: {'learning_rate': 0.3, 'loss': 'ls', 'max_depth': 2, 'n_estimators': 6}\n",
      "7 Detroit Lions: 2016-09-01 00:00:00\n",
      "Fitting 5 folds for each of 550 candidates, totalling 2750 fits\n"
     ]
    },
    {
     "name": "stderr",
     "output_type": "stream",
     "text": [
      "[Parallel(n_jobs=-1)]: Done  16 tasks      | elapsed:    0.2s\n",
      "[Parallel(n_jobs=-1)]: Done 1624 tasks      | elapsed:    8.8s\n",
      "[Parallel(n_jobs=-1)]: Done 2750 out of 2750 | elapsed:   15.4s finished\n",
      "[Parallel(n_jobs=-1)]: Using backend LokyBackend with 8 concurrent workers.\n"
     ]
    },
    {
     "name": "stdout",
     "output_type": "stream",
     "text": [
      "alpha: {'learning_rate': 0.2, 'loss': 'ls', 'max_depth': 2, 'n_estimators': 10}\n",
      "7 Detroit Lions: 2016-10-01 00:00:00\n",
      "Fitting 5 folds for each of 550 candidates, totalling 2750 fits\n"
     ]
    },
    {
     "name": "stderr",
     "output_type": "stream",
     "text": [
      "[Parallel(n_jobs=-1)]: Done  16 tasks      | elapsed:    0.2s\n",
      "[Parallel(n_jobs=-1)]: Done 1567 tasks      | elapsed:    8.4s\n",
      "[Parallel(n_jobs=-1)]: Done 2750 out of 2750 | elapsed:   15.3s finished\n",
      "[Parallel(n_jobs=-1)]: Using backend LokyBackend with 8 concurrent workers.\n"
     ]
    },
    {
     "name": "stdout",
     "output_type": "stream",
     "text": [
      "alpha: {'learning_rate': 0.3, 'loss': 'ls', 'max_depth': 2, 'n_estimators': 4}\n",
      "7 Detroit Lions: 2016-11-01 00:00:00\n",
      "Fitting 5 folds for each of 550 candidates, totalling 2750 fits\n"
     ]
    },
    {
     "name": "stderr",
     "output_type": "stream",
     "text": [
      "[Parallel(n_jobs=-1)]: Done  16 tasks      | elapsed:    0.1s\n",
      "[Parallel(n_jobs=-1)]: Done 1168 tasks      | elapsed:    6.2s\n",
      "[Parallel(n_jobs=-1)]: Done 2750 out of 2750 | elapsed:   15.1s finished\n",
      "[Parallel(n_jobs=-1)]: Using backend LokyBackend with 8 concurrent workers.\n"
     ]
    },
    {
     "name": "stdout",
     "output_type": "stream",
     "text": [
      "alpha: {'learning_rate': 0.2, 'loss': 'huber', 'max_depth': 2, 'n_estimators': 8}\n",
      "7 Detroit Lions: 2016-12-01 00:00:00\n",
      "Fitting 5 folds for each of 550 candidates, totalling 2750 fits\n"
     ]
    },
    {
     "name": "stderr",
     "output_type": "stream",
     "text": [
      "[Parallel(n_jobs=-1)]: Done  16 tasks      | elapsed:    0.1s\n",
      "[Parallel(n_jobs=-1)]: Done 1672 tasks      | elapsed:    8.8s\n",
      "[Parallel(n_jobs=-1)]: Done 2750 out of 2750 | elapsed:   14.8s finished\n",
      "[Parallel(n_jobs=-1)]: Using backend LokyBackend with 8 concurrent workers.\n"
     ]
    },
    {
     "name": "stdout",
     "output_type": "stream",
     "text": [
      "alpha: {'learning_rate': 0.4, 'loss': 'ls', 'max_depth': 2, 'n_estimators': 8}\n",
      "7 Detroit Lions: 2017-09-01 00:00:00\n",
      "Fitting 5 folds for each of 550 candidates, totalling 2750 fits\n"
     ]
    },
    {
     "name": "stderr",
     "output_type": "stream",
     "text": [
      "[Parallel(n_jobs=-1)]: Done  16 tasks      | elapsed:    0.2s\n",
      "[Parallel(n_jobs=-1)]: Done 1624 tasks      | elapsed:    8.7s\n",
      "[Parallel(n_jobs=-1)]: Done 2750 out of 2750 | elapsed:   15.5s finished\n",
      "[Parallel(n_jobs=-1)]: Using backend LokyBackend with 8 concurrent workers.\n"
     ]
    },
    {
     "name": "stdout",
     "output_type": "stream",
     "text": [
      "alpha: {'learning_rate': 0.3, 'loss': 'huber', 'max_depth': 2, 'n_estimators': 10}\n",
      "7 Detroit Lions: 2017-10-01 00:00:00\n",
      "Fitting 5 folds for each of 550 candidates, totalling 2750 fits\n"
     ]
    },
    {
     "name": "stderr",
     "output_type": "stream",
     "text": [
      "[Parallel(n_jobs=-1)]: Done  16 tasks      | elapsed:    0.1s\n",
      "[Parallel(n_jobs=-1)]: Done 1636 tasks      | elapsed:    8.6s\n",
      "[Parallel(n_jobs=-1)]: Done 2750 out of 2750 | elapsed:   15.2s finished\n",
      "[Parallel(n_jobs=-1)]: Using backend LokyBackend with 8 concurrent workers.\n"
     ]
    },
    {
     "name": "stdout",
     "output_type": "stream",
     "text": [
      "alpha: {'learning_rate': 0.3, 'loss': 'ls', 'max_depth': 2, 'n_estimators': 6}\n",
      "7 Detroit Lions: 2017-11-01 00:00:00\n",
      "Fitting 5 folds for each of 550 candidates, totalling 2750 fits\n"
     ]
    },
    {
     "name": "stderr",
     "output_type": "stream",
     "text": [
      "[Parallel(n_jobs=-1)]: Done  16 tasks      | elapsed:    0.1s\n",
      "[Parallel(n_jobs=-1)]: Done 1744 tasks      | elapsed:    8.7s\n",
      "[Parallel(n_jobs=-1)]: Done 2750 out of 2750 | elapsed:   13.9s finished\n",
      "[Parallel(n_jobs=-1)]: Using backend LokyBackend with 8 concurrent workers.\n"
     ]
    },
    {
     "name": "stdout",
     "output_type": "stream",
     "text": [
      "alpha: {'learning_rate': 0.4, 'loss': 'ls', 'max_depth': 4, 'n_estimators': 8}\n",
      "7 Detroit Lions: 2017-12-01 00:00:00\n",
      "Fitting 5 folds for each of 550 candidates, totalling 2750 fits\n"
     ]
    },
    {
     "name": "stderr",
     "output_type": "stream",
     "text": [
      "[Parallel(n_jobs=-1)]: Done  16 tasks      | elapsed:    0.2s\n",
      "[Parallel(n_jobs=-1)]: Done 1660 tasks      | elapsed:    8.0s\n",
      "[Parallel(n_jobs=-1)]: Done 2750 out of 2750 | elapsed:   14.3s finished\n",
      "[Parallel(n_jobs=-1)]: Using backend LokyBackend with 8 concurrent workers.\n"
     ]
    },
    {
     "name": "stdout",
     "output_type": "stream",
     "text": [
      "alpha: {'learning_rate': 0.4, 'loss': 'huber', 'max_depth': 2, 'n_estimators': 8}\n",
      "7 Detroit Lions: 2018-09-01 00:00:00\n",
      "Fitting 5 folds for each of 550 candidates, totalling 2750 fits\n"
     ]
    },
    {
     "name": "stderr",
     "output_type": "stream",
     "text": [
      "[Parallel(n_jobs=-1)]: Done  16 tasks      | elapsed:    0.2s\n",
      "[Parallel(n_jobs=-1)]: Done 1684 tasks      | elapsed:    9.4s\n",
      "[Parallel(n_jobs=-1)]: Done 2750 out of 2750 | elapsed:   15.2s finished\n",
      "[Parallel(n_jobs=-1)]: Using backend LokyBackend with 8 concurrent workers.\n"
     ]
    },
    {
     "name": "stdout",
     "output_type": "stream",
     "text": [
      "alpha: {'learning_rate': 0.2, 'loss': 'ls', 'max_depth': 2, 'n_estimators': 10}\n",
      "7 Detroit Lions: 2018-10-01 00:00:00\n",
      "Fitting 5 folds for each of 550 candidates, totalling 2750 fits\n"
     ]
    },
    {
     "name": "stderr",
     "output_type": "stream",
     "text": [
      "[Parallel(n_jobs=-1)]: Done  16 tasks      | elapsed:    0.1s\n",
      "[Parallel(n_jobs=-1)]: Done 1684 tasks      | elapsed:    8.2s\n",
      "[Parallel(n_jobs=-1)]: Done 2750 out of 2750 | elapsed:   14.2s finished\n",
      "[Parallel(n_jobs=-1)]: Using backend LokyBackend with 8 concurrent workers.\n"
     ]
    },
    {
     "name": "stdout",
     "output_type": "stream",
     "text": [
      "alpha: {'learning_rate': 0.4, 'loss': 'ls', 'max_depth': 2, 'n_estimators': 4}\n",
      "7 Detroit Lions: 2018-11-01 00:00:00\n",
      "Fitting 5 folds for each of 550 candidates, totalling 2750 fits\n"
     ]
    },
    {
     "name": "stderr",
     "output_type": "stream",
     "text": [
      "[Parallel(n_jobs=-1)]: Done  16 tasks      | elapsed:    0.2s\n",
      "[Parallel(n_jobs=-1)]: Done 1780 tasks      | elapsed:    8.7s\n",
      "[Parallel(n_jobs=-1)]: Done 2750 out of 2750 | elapsed:   14.5s finished\n",
      "[Parallel(n_jobs=-1)]: Using backend LokyBackend with 8 concurrent workers.\n"
     ]
    },
    {
     "name": "stdout",
     "output_type": "stream",
     "text": [
      "alpha: {'learning_rate': 0.2, 'loss': 'huber', 'max_depth': 2, 'n_estimators': 6}\n",
      "7 Detroit Lions: 2018-12-01 00:00:00\n",
      "Fitting 5 folds for each of 550 candidates, totalling 2750 fits\n"
     ]
    },
    {
     "name": "stderr",
     "output_type": "stream",
     "text": [
      "[Parallel(n_jobs=-1)]: Done  16 tasks      | elapsed:    0.2s\n",
      "[Parallel(n_jobs=-1)]: Done 1831 tasks      | elapsed:    9.4s\n",
      "[Parallel(n_jobs=-1)]: Done 2750 out of 2750 | elapsed:   14.9s finished\n",
      "[Parallel(n_jobs=-1)]: Using backend LokyBackend with 8 concurrent workers.\n"
     ]
    },
    {
     "name": "stdout",
     "output_type": "stream",
     "text": [
      "alpha: {'learning_rate': 0.4, 'loss': 'huber', 'max_depth': 2, 'n_estimators': 6}\n",
      "7 Detroit Lions: 2019-09-01 00:00:00\n",
      "Fitting 5 folds for each of 550 candidates, totalling 2750 fits\n"
     ]
    },
    {
     "name": "stderr",
     "output_type": "stream",
     "text": [
      "[Parallel(n_jobs=-1)]: Done  16 tasks      | elapsed:    0.2s\n",
      "[Parallel(n_jobs=-1)]: Done 1648 tasks      | elapsed:    8.6s\n",
      "[Parallel(n_jobs=-1)]: Done 2750 out of 2750 | elapsed:   15.5s finished\n",
      "[Parallel(n_jobs=-1)]: Using backend LokyBackend with 8 concurrent workers.\n"
     ]
    },
    {
     "name": "stdout",
     "output_type": "stream",
     "text": [
      "alpha: {'learning_rate': 0.2, 'loss': 'huber', 'max_depth': 2, 'n_estimators': 8}\n",
      "7 Detroit Lions: 2019-10-01 00:00:00\n",
      "Fitting 5 folds for each of 550 candidates, totalling 2750 fits\n"
     ]
    },
    {
     "name": "stderr",
     "output_type": "stream",
     "text": [
      "[Parallel(n_jobs=-1)]: Done  16 tasks      | elapsed:    0.2s\n",
      "[Parallel(n_jobs=-1)]: Done 1168 tasks      | elapsed:    6.4s\n",
      "[Parallel(n_jobs=-1)]: Done 2750 out of 2750 | elapsed:   15.8s finished\n",
      "[Parallel(n_jobs=-1)]: Using backend LokyBackend with 8 concurrent workers.\n"
     ]
    },
    {
     "name": "stdout",
     "output_type": "stream",
     "text": [
      "alpha: {'learning_rate': 0.3, 'loss': 'huber', 'max_depth': 6, 'n_estimators': 2}\n",
      "7 Detroit Lions: 2019-11-01 00:00:00\n",
      "Fitting 5 folds for each of 550 candidates, totalling 2750 fits\n"
     ]
    },
    {
     "name": "stderr",
     "output_type": "stream",
     "text": [
      "[Parallel(n_jobs=-1)]: Done  16 tasks      | elapsed:    0.2s\n",
      "[Parallel(n_jobs=-1)]: Done 1744 tasks      | elapsed:    8.9s\n",
      "[Parallel(n_jobs=-1)]: Done 2750 out of 2750 | elapsed:   14.4s finished\n",
      "[Parallel(n_jobs=-1)]: Using backend LokyBackend with 8 concurrent workers.\n"
     ]
    },
    {
     "name": "stdout",
     "output_type": "stream",
     "text": [
      "alpha: {'learning_rate': 0.4, 'loss': 'huber', 'max_depth': 2, 'n_estimators': 10}\n",
      "7 Detroit Lions: 2019-12-01 00:00:00\n",
      "Fitting 5 folds for each of 550 candidates, totalling 2750 fits\n"
     ]
    },
    {
     "name": "stderr",
     "output_type": "stream",
     "text": [
      "[Parallel(n_jobs=-1)]: Done  16 tasks      | elapsed:    0.1s\n",
      "[Parallel(n_jobs=-1)]: Done 1648 tasks      | elapsed:    8.3s\n",
      "[Parallel(n_jobs=-1)]: Done 2750 out of 2750 | elapsed:   14.7s finished\n",
      "[Parallel(n_jobs=-1)]: Using backend LokyBackend with 8 concurrent workers.\n"
     ]
    },
    {
     "name": "stdout",
     "output_type": "stream",
     "text": [
      "alpha: {'learning_rate': 0.4, 'loss': 'huber', 'max_depth': 2, 'n_estimators': 8}\n",
      "8 Philadelphia Eagles: 2012-09-01 00:00:00\n",
      "Fitting 5 folds for each of 550 candidates, totalling 2750 fits\n"
     ]
    },
    {
     "name": "stderr",
     "output_type": "stream",
     "text": [
      "[Parallel(n_jobs=-1)]: Done  16 tasks      | elapsed:    0.2s\n",
      "[Parallel(n_jobs=-1)]: Done 1600 tasks      | elapsed:    8.9s\n",
      "[Parallel(n_jobs=-1)]: Done 2750 out of 2750 | elapsed:   15.4s finished\n",
      "[Parallel(n_jobs=-1)]: Using backend LokyBackend with 8 concurrent workers.\n"
     ]
    },
    {
     "name": "stdout",
     "output_type": "stream",
     "text": [
      "alpha: {'learning_rate': 0.3, 'loss': 'huber', 'max_depth': 4, 'n_estimators': 10}\n",
      "8 Philadelphia Eagles: 2012-10-01 00:00:00\n",
      "Fitting 5 folds for each of 550 candidates, totalling 2750 fits\n"
     ]
    },
    {
     "name": "stderr",
     "output_type": "stream",
     "text": [
      "[Parallel(n_jobs=-1)]: Done  16 tasks      | elapsed:    0.2s\n",
      "[Parallel(n_jobs=-1)]: Done 1758 tasks      | elapsed:    9.1s\n",
      "[Parallel(n_jobs=-1)]: Done 2750 out of 2750 | elapsed:   14.8s finished\n",
      "[Parallel(n_jobs=-1)]: Using backend LokyBackend with 8 concurrent workers.\n"
     ]
    },
    {
     "name": "stdout",
     "output_type": "stream",
     "text": [
      "alpha: {'learning_rate': 0.3, 'loss': 'huber', 'max_depth': 4, 'n_estimators': 8}\n",
      "8 Philadelphia Eagles: 2012-11-01 00:00:00\n",
      "Fitting 5 folds for each of 550 candidates, totalling 2750 fits\n"
     ]
    },
    {
     "name": "stderr",
     "output_type": "stream",
     "text": [
      "[Parallel(n_jobs=-1)]: Done  16 tasks      | elapsed:    0.1s\n",
      "[Parallel(n_jobs=-1)]: Done 1612 tasks      | elapsed:    8.2s\n",
      "[Parallel(n_jobs=-1)]: Done 2750 out of 2750 | elapsed:   14.8s finished\n",
      "[Parallel(n_jobs=-1)]: Using backend LokyBackend with 8 concurrent workers.\n"
     ]
    },
    {
     "name": "stdout",
     "output_type": "stream",
     "text": [
      "alpha: {'learning_rate': 0.4, 'loss': 'ls', 'max_depth': 2, 'n_estimators': 8}\n",
      "8 Philadelphia Eagles: 2012-12-01 00:00:00\n",
      "Fitting 5 folds for each of 550 candidates, totalling 2750 fits\n"
     ]
    },
    {
     "name": "stderr",
     "output_type": "stream",
     "text": [
      "[Parallel(n_jobs=-1)]: Done  16 tasks      | elapsed:    0.2s\n",
      "[Parallel(n_jobs=-1)]: Done 1567 tasks      | elapsed:    8.3s\n",
      "[Parallel(n_jobs=-1)]: Done 2750 out of 2750 | elapsed:   14.9s finished\n",
      "[Parallel(n_jobs=-1)]: Using backend LokyBackend with 8 concurrent workers.\n"
     ]
    },
    {
     "name": "stdout",
     "output_type": "stream",
     "text": [
      "alpha: {'learning_rate': 0.4, 'loss': 'ls', 'max_depth': 2, 'n_estimators': 8}\n",
      "8 Philadelphia Eagles: 2013-09-01 00:00:00\n",
      "Fitting 5 folds for each of 550 candidates, totalling 2750 fits\n"
     ]
    },
    {
     "name": "stderr",
     "output_type": "stream",
     "text": [
      "[Parallel(n_jobs=-1)]: Done  16 tasks      | elapsed:    0.2s\n",
      "[Parallel(n_jobs=-1)]: Done 1578 tasks      | elapsed:    8.0s\n",
      "[Parallel(n_jobs=-1)]: Done 2750 out of 2750 | elapsed:   14.6s finished\n",
      "[Parallel(n_jobs=-1)]: Using backend LokyBackend with 8 concurrent workers.\n"
     ]
    },
    {
     "name": "stdout",
     "output_type": "stream",
     "text": [
      "alpha: {'learning_rate': 0.2, 'loss': 'huber', 'max_depth': 2, 'n_estimators': 6}\n",
      "8 Philadelphia Eagles: 2013-10-01 00:00:00\n",
      "Fitting 5 folds for each of 550 candidates, totalling 2750 fits\n"
     ]
    },
    {
     "name": "stderr",
     "output_type": "stream",
     "text": [
      "[Parallel(n_jobs=-1)]: Done  16 tasks      | elapsed:    0.2s\n",
      "[Parallel(n_jobs=-1)]: Done 1745 tasks      | elapsed:    9.2s\n",
      "[Parallel(n_jobs=-1)]: Done 2750 out of 2750 | elapsed:   14.9s finished\n",
      "[Parallel(n_jobs=-1)]: Using backend LokyBackend with 8 concurrent workers.\n"
     ]
    },
    {
     "name": "stdout",
     "output_type": "stream",
     "text": [
      "alpha: {'learning_rate': 0.1, 'loss': 'ls', 'max_depth': 2, 'n_estimators': 10}\n",
      "8 Philadelphia Eagles: 2013-11-01 00:00:00\n",
      "Fitting 5 folds for each of 550 candidates, totalling 2750 fits\n"
     ]
    },
    {
     "name": "stderr",
     "output_type": "stream",
     "text": [
      "[Parallel(n_jobs=-1)]: Done  16 tasks      | elapsed:    0.2s\n",
      "[Parallel(n_jobs=-1)]: Done 1744 tasks      | elapsed:    9.1s\n",
      "[Parallel(n_jobs=-1)]: Done 2750 out of 2750 | elapsed:   14.8s finished\n",
      "[Parallel(n_jobs=-1)]: Using backend LokyBackend with 8 concurrent workers.\n"
     ]
    },
    {
     "name": "stdout",
     "output_type": "stream",
     "text": [
      "alpha: {'learning_rate': 0.3, 'loss': 'ls', 'max_depth': 2, 'n_estimators': 6}\n",
      "8 Philadelphia Eagles: 2013-12-01 00:00:00\n",
      "Fitting 5 folds for each of 550 candidates, totalling 2750 fits\n"
     ]
    },
    {
     "name": "stderr",
     "output_type": "stream",
     "text": [
      "[Parallel(n_jobs=-1)]: Done  16 tasks      | elapsed:    0.1s\n",
      "[Parallel(n_jobs=-1)]: Done 1552 tasks      | elapsed:    7.8s\n",
      "[Parallel(n_jobs=-1)]: Done 2750 out of 2750 | elapsed:   14.8s finished\n",
      "[Parallel(n_jobs=-1)]: Using backend LokyBackend with 8 concurrent workers.\n"
     ]
    },
    {
     "name": "stdout",
     "output_type": "stream",
     "text": [
      "alpha: {'learning_rate': 0.4, 'loss': 'huber', 'max_depth': 2, 'n_estimators': 8}\n",
      "8 Philadelphia Eagles: 2014-09-01 00:00:00\n",
      "Fitting 5 folds for each of 550 candidates, totalling 2750 fits\n"
     ]
    },
    {
     "name": "stderr",
     "output_type": "stream",
     "text": [
      "[Parallel(n_jobs=-1)]: Done  16 tasks      | elapsed:    0.2s\n",
      "[Parallel(n_jobs=-1)]: Done 1648 tasks      | elapsed:    8.6s\n",
      "[Parallel(n_jobs=-1)]: Done 2750 out of 2750 | elapsed:   14.9s finished\n",
      "[Parallel(n_jobs=-1)]: Using backend LokyBackend with 8 concurrent workers.\n"
     ]
    },
    {
     "name": "stdout",
     "output_type": "stream",
     "text": [
      "alpha: {'learning_rate': 0.6, 'loss': 'ls', 'max_depth': 2, 'n_estimators': 4}\n",
      "8 Philadelphia Eagles: 2014-10-01 00:00:00\n",
      "Fitting 5 folds for each of 550 candidates, totalling 2750 fits\n"
     ]
    },
    {
     "name": "stderr",
     "output_type": "stream",
     "text": [
      "[Parallel(n_jobs=-1)]: Done  16 tasks      | elapsed:    0.2s\n",
      "[Parallel(n_jobs=-1)]: Done 1648 tasks      | elapsed:    8.2s\n",
      "[Parallel(n_jobs=-1)]: Done 2750 out of 2750 | elapsed:   14.6s finished\n",
      "[Parallel(n_jobs=-1)]: Using backend LokyBackend with 8 concurrent workers.\n"
     ]
    },
    {
     "name": "stdout",
     "output_type": "stream",
     "text": [
      "alpha: {'learning_rate': 0.2, 'loss': 'ls', 'max_depth': 6, 'n_estimators': 6}\n",
      "8 Philadelphia Eagles: 2014-11-01 00:00:00\n",
      "Fitting 5 folds for each of 550 candidates, totalling 2750 fits\n"
     ]
    },
    {
     "name": "stderr",
     "output_type": "stream",
     "text": [
      "[Parallel(n_jobs=-1)]: Done  16 tasks      | elapsed:    0.1s\n",
      "[Parallel(n_jobs=-1)]: Done 1684 tasks      | elapsed:    8.7s\n",
      "[Parallel(n_jobs=-1)]: Done 2750 out of 2750 | elapsed:   14.6s finished\n",
      "[Parallel(n_jobs=-1)]: Using backend LokyBackend with 8 concurrent workers.\n"
     ]
    },
    {
     "name": "stdout",
     "output_type": "stream",
     "text": [
      "alpha: {'learning_rate': 0.5, 'loss': 'ls', 'max_depth': 2, 'n_estimators': 8}\n",
      "8 Philadelphia Eagles: 2014-12-01 00:00:00\n",
      "Fitting 5 folds for each of 550 candidates, totalling 2750 fits\n"
     ]
    },
    {
     "name": "stderr",
     "output_type": "stream",
     "text": [
      "[Parallel(n_jobs=-1)]: Done  16 tasks      | elapsed:    0.2s\n",
      "[Parallel(n_jobs=-1)]: Done 1660 tasks      | elapsed:    8.5s\n",
      "[Parallel(n_jobs=-1)]: Done 2750 out of 2750 | elapsed:   14.6s finished\n",
      "[Parallel(n_jobs=-1)]: Using backend LokyBackend with 8 concurrent workers.\n"
     ]
    },
    {
     "name": "stdout",
     "output_type": "stream",
     "text": [
      "alpha: {'learning_rate': 0.2, 'loss': 'huber', 'max_depth': 4, 'n_estimators': 10}\n",
      "8 Philadelphia Eagles: 2015-09-01 00:00:00\n",
      "Fitting 5 folds for each of 550 candidates, totalling 2750 fits\n"
     ]
    },
    {
     "name": "stderr",
     "output_type": "stream",
     "text": [
      "[Parallel(n_jobs=-1)]: Done  16 tasks      | elapsed:    0.2s\n",
      "[Parallel(n_jobs=-1)]: Done 1684 tasks      | elapsed:    8.5s\n",
      "[Parallel(n_jobs=-1)]: Done 2750 out of 2750 | elapsed:   14.3s finished\n",
      "[Parallel(n_jobs=-1)]: Using backend LokyBackend with 8 concurrent workers.\n"
     ]
    },
    {
     "name": "stdout",
     "output_type": "stream",
     "text": [
      "alpha: {'learning_rate': 0.2, 'loss': 'huber', 'max_depth': 4, 'n_estimators': 8}\n",
      "8 Philadelphia Eagles: 2015-10-01 00:00:00\n",
      "Fitting 5 folds for each of 550 candidates, totalling 2750 fits\n"
     ]
    },
    {
     "name": "stderr",
     "output_type": "stream",
     "text": [
      "[Parallel(n_jobs=-1)]: Done  16 tasks      | elapsed:    0.2s\n",
      "[Parallel(n_jobs=-1)]: Done 1684 tasks      | elapsed:    8.5s\n",
      "[Parallel(n_jobs=-1)]: Done 2750 out of 2750 | elapsed:   14.5s finished\n",
      "[Parallel(n_jobs=-1)]: Using backend LokyBackend with 8 concurrent workers.\n"
     ]
    },
    {
     "name": "stdout",
     "output_type": "stream",
     "text": [
      "alpha: {'learning_rate': 0.4, 'loss': 'huber', 'max_depth': 4, 'n_estimators': 4}\n",
      "8 Philadelphia Eagles: 2015-11-01 00:00:00\n",
      "Fitting 5 folds for each of 550 candidates, totalling 2750 fits\n"
     ]
    },
    {
     "name": "stderr",
     "output_type": "stream",
     "text": [
      "[Parallel(n_jobs=-1)]: Done  16 tasks      | elapsed:    0.2s\n",
      "[Parallel(n_jobs=-1)]: Done 1456 tasks      | elapsed:    7.6s\n",
      "[Parallel(n_jobs=-1)]: Done 2750 out of 2750 | elapsed:   14.5s finished\n",
      "[Parallel(n_jobs=-1)]: Using backend LokyBackend with 8 concurrent workers.\n"
     ]
    },
    {
     "name": "stdout",
     "output_type": "stream",
     "text": [
      "alpha: {'learning_rate': 0.2, 'loss': 'ls', 'max_depth': 2, 'n_estimators': 8}\n",
      "8 Philadelphia Eagles: 2015-12-01 00:00:00\n",
      "Fitting 5 folds for each of 550 candidates, totalling 2750 fits\n"
     ]
    },
    {
     "name": "stderr",
     "output_type": "stream",
     "text": [
      "[Parallel(n_jobs=-1)]: Done  16 tasks      | elapsed:    0.1s\n",
      "[Parallel(n_jobs=-1)]: Done 1744 tasks      | elapsed:    8.5s\n",
      "[Parallel(n_jobs=-1)]: Done 2750 out of 2750 | elapsed:   13.9s finished\n",
      "[Parallel(n_jobs=-1)]: Using backend LokyBackend with 8 concurrent workers.\n"
     ]
    },
    {
     "name": "stdout",
     "output_type": "stream",
     "text": [
      "alpha: {'learning_rate': 0.6, 'loss': 'ls', 'max_depth': 2, 'n_estimators': 6}\n",
      "8 Philadelphia Eagles: 2016-09-01 00:00:00\n",
      "Fitting 5 folds for each of 550 candidates, totalling 2750 fits\n"
     ]
    },
    {
     "name": "stderr",
     "output_type": "stream",
     "text": [
      "[Parallel(n_jobs=-1)]: Done  16 tasks      | elapsed:    0.1s\n",
      "[Parallel(n_jobs=-1)]: Done 1809 tasks      | elapsed:    9.0s\n",
      "[Parallel(n_jobs=-1)]: Done 2750 out of 2750 | elapsed:   14.4s finished\n",
      "[Parallel(n_jobs=-1)]: Using backend LokyBackend with 8 concurrent workers.\n"
     ]
    },
    {
     "name": "stdout",
     "output_type": "stream",
     "text": [
      "alpha: {'learning_rate': 0.15, 'loss': 'huber', 'max_depth': 4, 'n_estimators': 8}\n",
      "8 Philadelphia Eagles: 2016-10-01 00:00:00\n",
      "Fitting 5 folds for each of 550 candidates, totalling 2750 fits\n"
     ]
    },
    {
     "name": "stderr",
     "output_type": "stream",
     "text": [
      "[Parallel(n_jobs=-1)]: Done  16 tasks      | elapsed:    0.2s\n",
      "[Parallel(n_jobs=-1)]: Done 1567 tasks      | elapsed:    7.9s\n",
      "[Parallel(n_jobs=-1)]: Done 2750 out of 2750 | elapsed:   13.9s finished\n",
      "[Parallel(n_jobs=-1)]: Using backend LokyBackend with 8 concurrent workers.\n"
     ]
    },
    {
     "name": "stdout",
     "output_type": "stream",
     "text": [
      "alpha: {'learning_rate': 0.4, 'loss': 'ls', 'max_depth': 4, 'n_estimators': 4}\n",
      "8 Philadelphia Eagles: 2016-11-01 00:00:00\n",
      "Fitting 5 folds for each of 550 candidates, totalling 2750 fits\n"
     ]
    },
    {
     "name": "stderr",
     "output_type": "stream",
     "text": [
      "[Parallel(n_jobs=-1)]: Done  16 tasks      | elapsed:    0.1s\n",
      "[Parallel(n_jobs=-1)]: Done 1567 tasks      | elapsed:    7.8s\n",
      "[Parallel(n_jobs=-1)]: Done 2750 out of 2750 | elapsed:   14.0s finished\n",
      "[Parallel(n_jobs=-1)]: Using backend LokyBackend with 8 concurrent workers.\n"
     ]
    },
    {
     "name": "stdout",
     "output_type": "stream",
     "text": [
      "alpha: {'learning_rate': 0.5, 'loss': 'ls', 'max_depth': 2, 'n_estimators': 2}\n",
      "8 Philadelphia Eagles: 2016-12-01 00:00:00\n",
      "Fitting 5 folds for each of 550 candidates, totalling 2750 fits\n"
     ]
    },
    {
     "name": "stderr",
     "output_type": "stream",
     "text": [
      "[Parallel(n_jobs=-1)]: Done  16 tasks      | elapsed:    0.1s\n",
      "[Parallel(n_jobs=-1)]: Done 1919 tasks      | elapsed:    9.6s\n",
      "[Parallel(n_jobs=-1)]: Done 2750 out of 2750 | elapsed:   13.9s finished\n",
      "[Parallel(n_jobs=-1)]: Using backend LokyBackend with 8 concurrent workers.\n"
     ]
    },
    {
     "name": "stdout",
     "output_type": "stream",
     "text": [
      "alpha: {'learning_rate': 0.3, 'loss': 'huber', 'max_depth': 2, 'n_estimators': 10}\n",
      "8 Philadelphia Eagles: 2017-09-01 00:00:00\n",
      "Fitting 5 folds for each of 550 candidates, totalling 2750 fits\n"
     ]
    },
    {
     "name": "stderr",
     "output_type": "stream",
     "text": [
      "[Parallel(n_jobs=-1)]: Done  16 tasks      | elapsed:    0.2s\n",
      "[Parallel(n_jobs=-1)]: Done 1556 tasks      | elapsed:    7.5s\n",
      "[Parallel(n_jobs=-1)]: Done 2750 out of 2750 | elapsed:   13.8s finished\n",
      "[Parallel(n_jobs=-1)]: Using backend LokyBackend with 8 concurrent workers.\n"
     ]
    },
    {
     "name": "stdout",
     "output_type": "stream",
     "text": [
      "alpha: {'learning_rate': 0.2, 'loss': 'ls', 'max_depth': 2, 'n_estimators': 10}\n",
      "8 Philadelphia Eagles: 2017-10-01 00:00:00\n",
      "Fitting 5 folds for each of 550 candidates, totalling 2750 fits\n"
     ]
    },
    {
     "name": "stderr",
     "output_type": "stream",
     "text": [
      "[Parallel(n_jobs=-1)]: Done  16 tasks      | elapsed:    0.1s\n",
      "[Parallel(n_jobs=-1)]: Done 1744 tasks      | elapsed:    8.7s\n",
      "[Parallel(n_jobs=-1)]: Done 2750 out of 2750 | elapsed:   14.2s finished\n",
      "[Parallel(n_jobs=-1)]: Using backend LokyBackend with 8 concurrent workers.\n"
     ]
    },
    {
     "name": "stdout",
     "output_type": "stream",
     "text": [
      "alpha: {'learning_rate': 0.4, 'loss': 'ls', 'max_depth': 2, 'n_estimators': 10}\n",
      "8 Philadelphia Eagles: 2017-11-01 00:00:00\n",
      "Fitting 5 folds for each of 550 candidates, totalling 2750 fits\n"
     ]
    },
    {
     "name": "stderr",
     "output_type": "stream",
     "text": [
      "[Parallel(n_jobs=-1)]: Done  16 tasks      | elapsed:    0.2s\n",
      "[Parallel(n_jobs=-1)]: Done 1864 tasks      | elapsed:    9.6s\n",
      "[Parallel(n_jobs=-1)]: Done 2750 out of 2750 | elapsed:   14.7s finished\n",
      "[Parallel(n_jobs=-1)]: Using backend LokyBackend with 8 concurrent workers.\n"
     ]
    },
    {
     "name": "stdout",
     "output_type": "stream",
     "text": [
      "alpha: {'learning_rate': 0.5, 'loss': 'huber', 'max_depth': 2, 'n_estimators': 8}\n",
      "8 Philadelphia Eagles: 2017-12-01 00:00:00\n",
      "Fitting 5 folds for each of 550 candidates, totalling 2750 fits\n"
     ]
    },
    {
     "name": "stderr",
     "output_type": "stream",
     "text": [
      "[Parallel(n_jobs=-1)]: Done  16 tasks      | elapsed:    0.2s\n",
      "[Parallel(n_jobs=-1)]: Done 1648 tasks      | elapsed:    8.1s\n",
      "[Parallel(n_jobs=-1)]: Done 2750 out of 2750 | elapsed:   14.1s finished\n",
      "[Parallel(n_jobs=-1)]: Using backend LokyBackend with 8 concurrent workers.\n"
     ]
    },
    {
     "name": "stdout",
     "output_type": "stream",
     "text": [
      "alpha: {'learning_rate': 0.3, 'loss': 'ls', 'max_depth': 2, 'n_estimators': 10}\n",
      "8 Philadelphia Eagles: 2018-09-01 00:00:00\n",
      "Fitting 5 folds for each of 550 candidates, totalling 2750 fits\n"
     ]
    },
    {
     "name": "stderr",
     "output_type": "stream",
     "text": [
      "[Parallel(n_jobs=-1)]: Done  16 tasks      | elapsed:    0.1s\n",
      "[Parallel(n_jobs=-1)]: Done 1816 tasks      | elapsed:    8.9s\n",
      "[Parallel(n_jobs=-1)]: Done 2750 out of 2750 | elapsed:   13.8s finished\n",
      "[Parallel(n_jobs=-1)]: Using backend LokyBackend with 8 concurrent workers.\n"
     ]
    },
    {
     "name": "stdout",
     "output_type": "stream",
     "text": [
      "alpha: {'learning_rate': 0.5, 'loss': 'huber', 'max_depth': 2, 'n_estimators': 8}\n",
      "8 Philadelphia Eagles: 2018-10-01 00:00:00\n",
      "Fitting 5 folds for each of 550 candidates, totalling 2750 fits\n"
     ]
    },
    {
     "name": "stderr",
     "output_type": "stream",
     "text": [
      "[Parallel(n_jobs=-1)]: Done  16 tasks      | elapsed:    0.2s\n",
      "[Parallel(n_jobs=-1)]: Done 1816 tasks      | elapsed:    9.0s\n",
      "[Parallel(n_jobs=-1)]: Done 2750 out of 2750 | elapsed:   13.9s finished\n",
      "[Parallel(n_jobs=-1)]: Using backend LokyBackend with 8 concurrent workers.\n"
     ]
    },
    {
     "name": "stdout",
     "output_type": "stream",
     "text": [
      "alpha: {'learning_rate': 0.5, 'loss': 'huber', 'max_depth': 2, 'n_estimators': 6}\n",
      "8 Philadelphia Eagles: 2018-11-01 00:00:00\n",
      "Fitting 5 folds for each of 550 candidates, totalling 2750 fits\n"
     ]
    },
    {
     "name": "stderr",
     "output_type": "stream",
     "text": [
      "[Parallel(n_jobs=-1)]: Done  16 tasks      | elapsed:    0.2s\n",
      "[Parallel(n_jobs=-1)]: Done 1745 tasks      | elapsed:    9.5s\n",
      "[Parallel(n_jobs=-1)]: Done 2750 out of 2750 | elapsed:   15.0s finished\n",
      "[Parallel(n_jobs=-1)]: Using backend LokyBackend with 8 concurrent workers.\n"
     ]
    },
    {
     "name": "stdout",
     "output_type": "stream",
     "text": [
      "alpha: {'learning_rate': 0.5, 'loss': 'huber', 'max_depth': 2, 'n_estimators': 6}\n",
      "8 Philadelphia Eagles: 2018-12-01 00:00:00\n",
      "Fitting 5 folds for each of 550 candidates, totalling 2750 fits\n"
     ]
    },
    {
     "name": "stderr",
     "output_type": "stream",
     "text": [
      "[Parallel(n_jobs=-1)]: Done  16 tasks      | elapsed:    0.2s\n",
      "[Parallel(n_jobs=-1)]: Done 1648 tasks      | elapsed:    8.4s\n",
      "[Parallel(n_jobs=-1)]: Done 2750 out of 2750 | elapsed:   14.8s finished\n",
      "[Parallel(n_jobs=-1)]: Using backend LokyBackend with 8 concurrent workers.\n"
     ]
    },
    {
     "name": "stdout",
     "output_type": "stream",
     "text": [
      "alpha: {'learning_rate': 0.4, 'loss': 'ls', 'max_depth': 2, 'n_estimators': 8}\n",
      "8 Philadelphia Eagles: 2019-09-01 00:00:00\n",
      "Fitting 5 folds for each of 550 candidates, totalling 2750 fits\n"
     ]
    },
    {
     "name": "stderr",
     "output_type": "stream",
     "text": [
      "[Parallel(n_jobs=-1)]: Done  16 tasks      | elapsed:    0.2s\n",
      "[Parallel(n_jobs=-1)]: Done 1684 tasks      | elapsed:    9.3s\n",
      "[Parallel(n_jobs=-1)]: Done 2750 out of 2750 | elapsed:   15.2s finished\n",
      "[Parallel(n_jobs=-1)]: Using backend LokyBackend with 8 concurrent workers.\n"
     ]
    },
    {
     "name": "stdout",
     "output_type": "stream",
     "text": [
      "alpha: {'learning_rate': 0.4, 'loss': 'huber', 'max_depth': 2, 'n_estimators': 10}\n",
      "8 Philadelphia Eagles: 2019-10-01 00:00:00\n",
      "Fitting 5 folds for each of 550 candidates, totalling 2750 fits\n"
     ]
    },
    {
     "name": "stderr",
     "output_type": "stream",
     "text": [
      "[Parallel(n_jobs=-1)]: Done  16 tasks      | elapsed:    0.1s\n",
      "[Parallel(n_jobs=-1)]: Done 1648 tasks      | elapsed:    8.1s\n",
      "[Parallel(n_jobs=-1)]: Done 2750 out of 2750 | elapsed:   14.2s finished\n",
      "[Parallel(n_jobs=-1)]: Using backend LokyBackend with 8 concurrent workers.\n"
     ]
    },
    {
     "name": "stdout",
     "output_type": "stream",
     "text": [
      "alpha: {'learning_rate': 0.3, 'loss': 'ls', 'max_depth': 4, 'n_estimators': 4}\n",
      "8 Philadelphia Eagles: 2019-11-01 00:00:00\n",
      "Fitting 5 folds for each of 550 candidates, totalling 2750 fits\n"
     ]
    },
    {
     "name": "stderr",
     "output_type": "stream",
     "text": [
      "[Parallel(n_jobs=-1)]: Done  16 tasks      | elapsed:    0.1s\n",
      "[Parallel(n_jobs=-1)]: Done 1926 tasks      | elapsed:   10.2s\n",
      "[Parallel(n_jobs=-1)]: Done 2750 out of 2750 | elapsed:   14.8s finished\n",
      "[Parallel(n_jobs=-1)]: Using backend LokyBackend with 8 concurrent workers.\n"
     ]
    },
    {
     "name": "stdout",
     "output_type": "stream",
     "text": [
      "alpha: {'learning_rate': 0.6, 'loss': 'huber', 'max_depth': 2, 'n_estimators': 8}\n",
      "8 Philadelphia Eagles: 2019-12-01 00:00:00\n",
      "Fitting 5 folds for each of 550 candidates, totalling 2750 fits\n"
     ]
    },
    {
     "name": "stderr",
     "output_type": "stream",
     "text": [
      "[Parallel(n_jobs=-1)]: Done  16 tasks      | elapsed:    0.2s\n",
      "[Parallel(n_jobs=-1)]: Done 1648 tasks      | elapsed:    8.6s\n",
      "[Parallel(n_jobs=-1)]: Done 2750 out of 2750 | elapsed:   14.8s finished\n",
      "[Parallel(n_jobs=-1)]: Using backend LokyBackend with 8 concurrent workers.\n"
     ]
    },
    {
     "name": "stdout",
     "output_type": "stream",
     "text": [
      "alpha: {'learning_rate': 0.4, 'loss': 'huber', 'max_depth': 2, 'n_estimators': 10}\n",
      "9 Houston Texans: 2012-09-01 00:00:00\n",
      "Fitting 5 folds for each of 550 candidates, totalling 2750 fits\n"
     ]
    },
    {
     "name": "stderr",
     "output_type": "stream",
     "text": [
      "[Parallel(n_jobs=-1)]: Done  16 tasks      | elapsed:    0.2s\n",
      "[Parallel(n_jobs=-1)]: Done 1758 tasks      | elapsed:    8.7s\n",
      "[Parallel(n_jobs=-1)]: Done 2750 out of 2750 | elapsed:   13.8s finished\n",
      "[Parallel(n_jobs=-1)]: Using backend LokyBackend with 8 concurrent workers.\n"
     ]
    },
    {
     "name": "stdout",
     "output_type": "stream",
     "text": [
      "alpha: {'learning_rate': 0.1, 'loss': 'huber', 'max_depth': 2, 'n_estimators': 10}\n",
      "9 Houston Texans: 2012-10-01 00:00:00\n",
      "Fitting 5 folds for each of 550 candidates, totalling 2750 fits\n"
     ]
    },
    {
     "name": "stderr",
     "output_type": "stream",
     "text": [
      "[Parallel(n_jobs=-1)]: Done  16 tasks      | elapsed:    0.1s\n",
      "[Parallel(n_jobs=-1)]: Done 1930 tasks      | elapsed:    9.5s\n",
      "[Parallel(n_jobs=-1)]: Done 2750 out of 2750 | elapsed:   14.0s finished\n",
      "[Parallel(n_jobs=-1)]: Using backend LokyBackend with 8 concurrent workers.\n"
     ]
    },
    {
     "name": "stdout",
     "output_type": "stream",
     "text": [
      "alpha: {'learning_rate': 0.15, 'loss': 'huber', 'max_depth': 2, 'n_estimators': 10}\n",
      "9 Houston Texans: 2012-11-01 00:00:00\n",
      "Fitting 5 folds for each of 550 candidates, totalling 2750 fits\n"
     ]
    },
    {
     "name": "stderr",
     "output_type": "stream",
     "text": [
      "[Parallel(n_jobs=-1)]: Done  16 tasks      | elapsed:    0.2s\n",
      "[Parallel(n_jobs=-1)]: Done 1745 tasks      | elapsed:    9.1s\n",
      "[Parallel(n_jobs=-1)]: Done 2750 out of 2750 | elapsed:   14.6s finished\n",
      "[Parallel(n_jobs=-1)]: Using backend LokyBackend with 8 concurrent workers.\n"
     ]
    },
    {
     "name": "stdout",
     "output_type": "stream",
     "text": [
      "alpha: {'learning_rate': 0.2, 'loss': 'huber', 'max_depth': 2, 'n_estimators': 10}\n",
      "9 Houston Texans: 2012-12-01 00:00:00\n",
      "Fitting 5 folds for each of 550 candidates, totalling 2750 fits\n"
     ]
    },
    {
     "name": "stderr",
     "output_type": "stream",
     "text": [
      "[Parallel(n_jobs=-1)]: Done  16 tasks      | elapsed:    0.2s\n",
      "[Parallel(n_jobs=-1)]: Done 1567 tasks      | elapsed:    8.0s\n",
      "[Parallel(n_jobs=-1)]: Done 2750 out of 2750 | elapsed:   14.1s finished\n",
      "[Parallel(n_jobs=-1)]: Using backend LokyBackend with 8 concurrent workers.\n"
     ]
    },
    {
     "name": "stdout",
     "output_type": "stream",
     "text": [
      "alpha: {'learning_rate': 0.3, 'loss': 'huber', 'max_depth': 2, 'n_estimators': 10}\n",
      "9 Houston Texans: 2013-09-01 00:00:00\n",
      "Fitting 5 folds for each of 550 candidates, totalling 2750 fits\n"
     ]
    },
    {
     "name": "stderr",
     "output_type": "stream",
     "text": [
      "[Parallel(n_jobs=-1)]: Done  16 tasks      | elapsed:    0.2s\n",
      "[Parallel(n_jobs=-1)]: Done 1804 tasks      | elapsed:    9.0s\n",
      "[Parallel(n_jobs=-1)]: Done 2750 out of 2750 | elapsed:   14.1s finished\n",
      "[Parallel(n_jobs=-1)]: Using backend LokyBackend with 8 concurrent workers.\n"
     ]
    },
    {
     "name": "stdout",
     "output_type": "stream",
     "text": [
      "alpha: {'learning_rate': 0.2, 'loss': 'ls', 'max_depth': 2, 'n_estimators': 8}\n",
      "9 Houston Texans: 2013-10-01 00:00:00\n",
      "Fitting 5 folds for each of 550 candidates, totalling 2750 fits\n"
     ]
    },
    {
     "name": "stderr",
     "output_type": "stream",
     "text": [
      "[Parallel(n_jobs=-1)]: Done  16 tasks      | elapsed:    0.1s\n",
      "[Parallel(n_jobs=-1)]: Done 1820 tasks      | elapsed:    9.1s\n",
      "[Parallel(n_jobs=-1)]: Done 2750 out of 2750 | elapsed:   14.0s finished\n",
      "[Parallel(n_jobs=-1)]: Using backend LokyBackend with 8 concurrent workers.\n"
     ]
    },
    {
     "name": "stdout",
     "output_type": "stream",
     "text": [
      "alpha: {'learning_rate': 0.2, 'loss': 'ls', 'max_depth': 2, 'n_estimators': 10}\n",
      "9 Houston Texans: 2013-11-01 00:00:00\n",
      "Fitting 5 folds for each of 550 candidates, totalling 2750 fits\n"
     ]
    },
    {
     "name": "stderr",
     "output_type": "stream",
     "text": [
      "[Parallel(n_jobs=-1)]: Done  16 tasks      | elapsed:    0.1s\n",
      "[Parallel(n_jobs=-1)]: Done 1168 tasks      | elapsed:    5.8s\n",
      "[Parallel(n_jobs=-1)]: Done 2750 out of 2750 | elapsed:   14.7s finished\n",
      "[Parallel(n_jobs=-1)]: Using backend LokyBackend with 8 concurrent workers.\n"
     ]
    },
    {
     "name": "stdout",
     "output_type": "stream",
     "text": [
      "alpha: {'learning_rate': 0.2, 'loss': 'ls', 'max_depth': 2, 'n_estimators': 10}\n",
      "9 Houston Texans: 2013-12-01 00:00:00\n",
      "Fitting 5 folds for each of 550 candidates, totalling 2750 fits\n"
     ]
    },
    {
     "name": "stderr",
     "output_type": "stream",
     "text": [
      "[Parallel(n_jobs=-1)]: Done  16 tasks      | elapsed:    0.2s\n",
      "[Parallel(n_jobs=-1)]: Done 1552 tasks      | elapsed:    8.3s\n",
      "[Parallel(n_jobs=-1)]: Done 2750 out of 2750 | elapsed:   15.1s finished\n",
      "[Parallel(n_jobs=-1)]: Using backend LokyBackend with 8 concurrent workers.\n"
     ]
    },
    {
     "name": "stdout",
     "output_type": "stream",
     "text": [
      "alpha: {'learning_rate': 0.15, 'loss': 'ls', 'max_depth': 2, 'n_estimators': 10}\n",
      "9 Houston Texans: 2014-09-01 00:00:00\n",
      "Fitting 5 folds for each of 550 candidates, totalling 2750 fits\n"
     ]
    },
    {
     "name": "stderr",
     "output_type": "stream",
     "text": [
      "[Parallel(n_jobs=-1)]: Done  16 tasks      | elapsed:    0.1s\n",
      "[Parallel(n_jobs=-1)]: Done 1545 tasks      | elapsed:    8.2s\n",
      "[Parallel(n_jobs=-1)]: Done 2750 out of 2750 | elapsed:   14.7s finished\n",
      "[Parallel(n_jobs=-1)]: Using backend LokyBackend with 8 concurrent workers.\n"
     ]
    },
    {
     "name": "stdout",
     "output_type": "stream",
     "text": [
      "alpha: {'learning_rate': 0.3, 'loss': 'ls', 'max_depth': 2, 'n_estimators': 6}\n",
      "9 Houston Texans: 2014-10-01 00:00:00\n",
      "Fitting 5 folds for each of 550 candidates, totalling 2750 fits\n"
     ]
    },
    {
     "name": "stderr",
     "output_type": "stream",
     "text": [
      "[Parallel(n_jobs=-1)]: Done  16 tasks      | elapsed:    0.2s\n",
      "[Parallel(n_jobs=-1)]: Done 1578 tasks      | elapsed:    8.0s\n",
      "[Parallel(n_jobs=-1)]: Done 2750 out of 2750 | elapsed:   14.4s finished\n",
      "[Parallel(n_jobs=-1)]: Using backend LokyBackend with 8 concurrent workers.\n"
     ]
    },
    {
     "name": "stdout",
     "output_type": "stream",
     "text": [
      "alpha: {'learning_rate': 0.2, 'loss': 'huber', 'max_depth': 2, 'n_estimators': 8}\n",
      "9 Houston Texans: 2014-11-01 00:00:00\n",
      "Fitting 5 folds for each of 550 candidates, totalling 2750 fits\n"
     ]
    },
    {
     "name": "stderr",
     "output_type": "stream",
     "text": [
      "[Parallel(n_jobs=-1)]: Done  16 tasks      | elapsed:    0.2s\n",
      "[Parallel(n_jobs=-1)]: Done 1780 tasks      | elapsed:    8.8s\n",
      "[Parallel(n_jobs=-1)]: Done 2750 out of 2750 | elapsed:   14.5s finished\n",
      "[Parallel(n_jobs=-1)]: Using backend LokyBackend with 8 concurrent workers.\n"
     ]
    },
    {
     "name": "stdout",
     "output_type": "stream",
     "text": [
      "alpha: {'learning_rate': 0.15, 'loss': 'ls', 'max_depth': 2, 'n_estimators': 10}\n",
      "9 Houston Texans: 2014-12-01 00:00:00\n",
      "Fitting 5 folds for each of 550 candidates, totalling 2750 fits\n"
     ]
    },
    {
     "name": "stderr",
     "output_type": "stream",
     "text": [
      "[Parallel(n_jobs=-1)]: Done  16 tasks      | elapsed:    0.2s\n",
      "[Parallel(n_jobs=-1)]: Done 1636 tasks      | elapsed:    8.6s\n",
      "[Parallel(n_jobs=-1)]: Done 2750 out of 2750 | elapsed:   15.0s finished\n",
      "[Parallel(n_jobs=-1)]: Using backend LokyBackend with 8 concurrent workers.\n"
     ]
    },
    {
     "name": "stdout",
     "output_type": "stream",
     "text": [
      "alpha: {'learning_rate': 0.2, 'loss': 'ls', 'max_depth': 2, 'n_estimators': 8}\n",
      "9 Houston Texans: 2015-09-01 00:00:00\n",
      "Fitting 5 folds for each of 550 candidates, totalling 2750 fits\n"
     ]
    },
    {
     "name": "stderr",
     "output_type": "stream",
     "text": [
      "[Parallel(n_jobs=-1)]: Done  16 tasks      | elapsed:    0.2s\n",
      "[Parallel(n_jobs=-1)]: Done 1567 tasks      | elapsed:    8.4s\n",
      "[Parallel(n_jobs=-1)]: Done 2750 out of 2750 | elapsed:   15.3s finished\n",
      "[Parallel(n_jobs=-1)]: Using backend LokyBackend with 8 concurrent workers.\n"
     ]
    },
    {
     "name": "stdout",
     "output_type": "stream",
     "text": [
      "alpha: {'learning_rate': 0.3, 'loss': 'huber', 'max_depth': 2, 'n_estimators': 8}\n",
      "9 Houston Texans: 2015-10-01 00:00:00\n",
      "Fitting 5 folds for each of 550 candidates, totalling 2750 fits\n"
     ]
    },
    {
     "name": "stderr",
     "output_type": "stream",
     "text": [
      "[Parallel(n_jobs=-1)]: Done  16 tasks      | elapsed:    0.2s\n",
      "[Parallel(n_jobs=-1)]: Done 1636 tasks      | elapsed:    8.7s\n",
      "[Parallel(n_jobs=-1)]: Done 2750 out of 2750 | elapsed:   15.1s finished\n",
      "[Parallel(n_jobs=-1)]: Using backend LokyBackend with 8 concurrent workers.\n"
     ]
    },
    {
     "name": "stdout",
     "output_type": "stream",
     "text": [
      "alpha: {'learning_rate': 0.5, 'loss': 'huber', 'max_depth': 2, 'n_estimators': 6}\n",
      "9 Houston Texans: 2015-11-01 00:00:00\n",
      "Fitting 5 folds for each of 550 candidates, totalling 2750 fits\n"
     ]
    },
    {
     "name": "stderr",
     "output_type": "stream",
     "text": [
      "[Parallel(n_jobs=-1)]: Done  16 tasks      | elapsed:    0.2s\n",
      "[Parallel(n_jobs=-1)]: Done 1648 tasks      | elapsed:    8.1s\n",
      "[Parallel(n_jobs=-1)]: Done 2750 out of 2750 | elapsed:   14.3s finished\n",
      "[Parallel(n_jobs=-1)]: Using backend LokyBackend with 8 concurrent workers.\n"
     ]
    },
    {
     "name": "stdout",
     "output_type": "stream",
     "text": [
      "alpha: {'learning_rate': 0.3, 'loss': 'huber', 'max_depth': 2, 'n_estimators': 8}\n",
      "9 Houston Texans: 2015-12-01 00:00:00\n",
      "Fitting 5 folds for each of 550 candidates, totalling 2750 fits\n"
     ]
    },
    {
     "name": "stderr",
     "output_type": "stream",
     "text": [
      "[Parallel(n_jobs=-1)]: Done  16 tasks      | elapsed:    0.2s\n",
      "[Parallel(n_jobs=-1)]: Done 1578 tasks      | elapsed:    7.8s\n",
      "[Parallel(n_jobs=-1)]: Done 2750 out of 2750 | elapsed:   14.2s finished\n",
      "[Parallel(n_jobs=-1)]: Using backend LokyBackend with 8 concurrent workers.\n"
     ]
    },
    {
     "name": "stdout",
     "output_type": "stream",
     "text": [
      "alpha: {'learning_rate': 0.2, 'loss': 'huber', 'max_depth': 2, 'n_estimators': 8}\n",
      "9 Houston Texans: 2016-09-01 00:00:00\n",
      "Fitting 5 folds for each of 550 candidates, totalling 2750 fits\n"
     ]
    },
    {
     "name": "stderr",
     "output_type": "stream",
     "text": [
      "[Parallel(n_jobs=-1)]: Done  16 tasks      | elapsed:    0.1s\n",
      "[Parallel(n_jobs=-1)]: Done 1809 tasks      | elapsed:    8.9s\n",
      "[Parallel(n_jobs=-1)]: Done 2750 out of 2750 | elapsed:   14.0s finished\n",
      "[Parallel(n_jobs=-1)]: Using backend LokyBackend with 8 concurrent workers.\n"
     ]
    },
    {
     "name": "stdout",
     "output_type": "stream",
     "text": [
      "alpha: {'learning_rate': 0.3, 'loss': 'huber', 'max_depth': 2, 'n_estimators': 8}\n",
      "9 Houston Texans: 2016-10-01 00:00:00\n",
      "Fitting 5 folds for each of 550 candidates, totalling 2750 fits\n"
     ]
    },
    {
     "name": "stderr",
     "output_type": "stream",
     "text": [
      "[Parallel(n_jobs=-1)]: Done  16 tasks      | elapsed:    0.2s\n",
      "[Parallel(n_jobs=-1)]: Done 1672 tasks      | elapsed:    8.3s\n",
      "[Parallel(n_jobs=-1)]: Done 2750 out of 2750 | elapsed:   14.5s finished\n",
      "[Parallel(n_jobs=-1)]: Using backend LokyBackend with 8 concurrent workers.\n"
     ]
    },
    {
     "name": "stdout",
     "output_type": "stream",
     "text": [
      "alpha: {'learning_rate': 0.3, 'loss': 'huber', 'max_depth': 2, 'n_estimators': 6}\n",
      "9 Houston Texans: 2016-11-01 00:00:00\n",
      "Fitting 5 folds for each of 550 candidates, totalling 2750 fits\n"
     ]
    },
    {
     "name": "stderr",
     "output_type": "stream",
     "text": [
      "[Parallel(n_jobs=-1)]: Done  16 tasks      | elapsed:    0.2s\n",
      "[Parallel(n_jobs=-1)]: Done 1578 tasks      | elapsed:    8.2s\n",
      "[Parallel(n_jobs=-1)]: Done 2750 out of 2750 | elapsed:   14.8s finished\n",
      "[Parallel(n_jobs=-1)]: Using backend LokyBackend with 8 concurrent workers.\n"
     ]
    },
    {
     "name": "stdout",
     "output_type": "stream",
     "text": [
      "alpha: {'learning_rate': 0.5, 'loss': 'ls', 'max_depth': 2, 'n_estimators': 6}\n",
      "9 Houston Texans: 2016-12-01 00:00:00\n",
      "Fitting 5 folds for each of 550 candidates, totalling 2750 fits\n"
     ]
    },
    {
     "name": "stderr",
     "output_type": "stream",
     "text": [
      "[Parallel(n_jobs=-1)]: Done  16 tasks      | elapsed:    0.1s\n",
      "[Parallel(n_jobs=-1)]: Done 1168 tasks      | elapsed:    5.9s\n",
      "[Parallel(n_jobs=-1)]: Done 2750 out of 2750 | elapsed:   14.4s finished\n",
      "[Parallel(n_jobs=-1)]: Using backend LokyBackend with 8 concurrent workers.\n"
     ]
    },
    {
     "name": "stdout",
     "output_type": "stream",
     "text": [
      "alpha: {'learning_rate': 0.5, 'loss': 'huber', 'max_depth': 2, 'n_estimators': 4}\n",
      "9 Houston Texans: 2017-09-01 00:00:00\n",
      "Fitting 5 folds for each of 550 candidates, totalling 2750 fits\n"
     ]
    },
    {
     "name": "stderr",
     "output_type": "stream",
     "text": [
      "[Parallel(n_jobs=-1)]: Done  16 tasks      | elapsed:    0.1s\n",
      "[Parallel(n_jobs=-1)]: Done 1684 tasks      | elapsed:    8.5s\n",
      "[Parallel(n_jobs=-1)]: Done 2750 out of 2750 | elapsed:   14.4s finished\n",
      "[Parallel(n_jobs=-1)]: Using backend LokyBackend with 8 concurrent workers.\n"
     ]
    },
    {
     "name": "stdout",
     "output_type": "stream",
     "text": [
      "alpha: {'learning_rate': 0.5, 'loss': 'huber', 'max_depth': 6, 'n_estimators': 2}\n",
      "9 Houston Texans: 2017-10-01 00:00:00\n",
      "Fitting 5 folds for each of 550 candidates, totalling 2750 fits\n"
     ]
    },
    {
     "name": "stderr",
     "output_type": "stream",
     "text": [
      "[Parallel(n_jobs=-1)]: Done  16 tasks      | elapsed:    0.2s\n",
      "[Parallel(n_jobs=-1)]: Done 1744 tasks      | elapsed:    9.8s\n",
      "[Parallel(n_jobs=-1)]: Done 2750 out of 2750 | elapsed:   15.5s finished\n",
      "[Parallel(n_jobs=-1)]: Using backend LokyBackend with 8 concurrent workers.\n"
     ]
    },
    {
     "name": "stdout",
     "output_type": "stream",
     "text": [
      "alpha: {'learning_rate': 0.4, 'loss': 'ls', 'max_depth': 2, 'n_estimators': 4}\n",
      "9 Houston Texans: 2017-11-01 00:00:00\n",
      "Fitting 5 folds for each of 550 candidates, totalling 2750 fits\n"
     ]
    },
    {
     "name": "stderr",
     "output_type": "stream",
     "text": [
      "[Parallel(n_jobs=-1)]: Done  16 tasks      | elapsed:    0.2s\n",
      "[Parallel(n_jobs=-1)]: Done 1624 tasks      | elapsed:    8.6s\n",
      "[Parallel(n_jobs=-1)]: Done 2750 out of 2750 | elapsed:   15.8s finished\n",
      "[Parallel(n_jobs=-1)]: Using backend LokyBackend with 8 concurrent workers.\n"
     ]
    },
    {
     "name": "stdout",
     "output_type": "stream",
     "text": [
      "alpha: {'learning_rate': 0.2, 'loss': 'ls', 'max_depth': 2, 'n_estimators': 6}\n",
      "9 Houston Texans: 2017-12-01 00:00:00\n",
      "Fitting 5 folds for each of 550 candidates, totalling 2750 fits\n"
     ]
    },
    {
     "name": "stderr",
     "output_type": "stream",
     "text": [
      "[Parallel(n_jobs=-1)]: Done  16 tasks      | elapsed:    0.2s\n",
      "[Parallel(n_jobs=-1)]: Done 1624 tasks      | elapsed:    8.5s\n",
      "[Parallel(n_jobs=-1)]: Done 2750 out of 2750 | elapsed:   14.9s finished\n",
      "[Parallel(n_jobs=-1)]: Using backend LokyBackend with 8 concurrent workers.\n"
     ]
    },
    {
     "name": "stdout",
     "output_type": "stream",
     "text": [
      "alpha: {'learning_rate': 0.15, 'loss': 'ls', 'max_depth': 2, 'n_estimators': 10}\n",
      "9 Houston Texans: 2018-09-01 00:00:00\n",
      "Fitting 5 folds for each of 550 candidates, totalling 2750 fits\n"
     ]
    },
    {
     "name": "stderr",
     "output_type": "stream",
     "text": [
      "[Parallel(n_jobs=-1)]: Done  16 tasks      | elapsed:    0.2s\n",
      "[Parallel(n_jobs=-1)]: Done 1648 tasks      | elapsed:    8.2s\n",
      "[Parallel(n_jobs=-1)]: Done 2750 out of 2750 | elapsed:   14.7s finished\n",
      "[Parallel(n_jobs=-1)]: Using backend LokyBackend with 8 concurrent workers.\n"
     ]
    },
    {
     "name": "stdout",
     "output_type": "stream",
     "text": [
      "alpha: {'learning_rate': 0.4, 'loss': 'ls', 'max_depth': 2, 'n_estimators': 2}\n",
      "9 Houston Texans: 2018-10-01 00:00:00\n",
      "Fitting 5 folds for each of 550 candidates, totalling 2750 fits\n"
     ]
    },
    {
     "name": "stderr",
     "output_type": "stream",
     "text": [
      "[Parallel(n_jobs=-1)]: Done  16 tasks      | elapsed:    0.3s\n",
      "[Parallel(n_jobs=-1)]: Done 1624 tasks      | elapsed:    8.6s\n",
      "[Parallel(n_jobs=-1)]: Done 2750 out of 2750 | elapsed:   15.3s finished\n",
      "[Parallel(n_jobs=-1)]: Using backend LokyBackend with 8 concurrent workers.\n"
     ]
    },
    {
     "name": "stdout",
     "output_type": "stream",
     "text": [
      "alpha: {'learning_rate': 0.2, 'loss': 'huber', 'max_depth': 2, 'n_estimators': 10}\n",
      "9 Houston Texans: 2018-11-01 00:00:00\n",
      "Fitting 5 folds for each of 550 candidates, totalling 2750 fits\n"
     ]
    },
    {
     "name": "stderr",
     "output_type": "stream",
     "text": [
      "[Parallel(n_jobs=-1)]: Done  16 tasks      | elapsed:    0.2s\n",
      "[Parallel(n_jobs=-1)]: Done 1456 tasks      | elapsed:    8.2s\n",
      "[Parallel(n_jobs=-1)]: Done 2750 out of 2750 | elapsed:   15.6s finished\n",
      "[Parallel(n_jobs=-1)]: Using backend LokyBackend with 8 concurrent workers.\n"
     ]
    },
    {
     "name": "stdout",
     "output_type": "stream",
     "text": [
      "alpha: {'learning_rate': 0.4, 'loss': 'ls', 'max_depth': 2, 'n_estimators': 10}\n",
      "9 Houston Texans: 2018-12-01 00:00:00\n",
      "Fitting 5 folds for each of 550 candidates, totalling 2750 fits\n"
     ]
    },
    {
     "name": "stderr",
     "output_type": "stream",
     "text": [
      "[Parallel(n_jobs=-1)]: Done  16 tasks      | elapsed:    0.2s\n",
      "[Parallel(n_jobs=-1)]: Done 1578 tasks      | elapsed:    8.3s\n",
      "[Parallel(n_jobs=-1)]: Done 2750 out of 2750 | elapsed:   15.0s finished\n",
      "[Parallel(n_jobs=-1)]: Using backend LokyBackend with 8 concurrent workers.\n"
     ]
    },
    {
     "name": "stdout",
     "output_type": "stream",
     "text": [
      "alpha: {'learning_rate': 0.4, 'loss': 'ls', 'max_depth': 2, 'n_estimators': 10}\n",
      "9 Houston Texans: 2019-09-01 00:00:00\n",
      "Fitting 5 folds for each of 550 candidates, totalling 2750 fits\n"
     ]
    },
    {
     "name": "stderr",
     "output_type": "stream",
     "text": [
      "[Parallel(n_jobs=-1)]: Done  16 tasks      | elapsed:    0.2s\n",
      "[Parallel(n_jobs=-1)]: Done 1545 tasks      | elapsed:    8.3s\n",
      "[Parallel(n_jobs=-1)]: Done 2750 out of 2750 | elapsed:   14.9s finished\n",
      "[Parallel(n_jobs=-1)]: Using backend LokyBackend with 8 concurrent workers.\n"
     ]
    },
    {
     "name": "stdout",
     "output_type": "stream",
     "text": [
      "alpha: {'learning_rate': 0.2, 'loss': 'ls', 'max_depth': 2, 'n_estimators': 10}\n",
      "9 Houston Texans: 2019-10-01 00:00:00\n",
      "Fitting 5 folds for each of 550 candidates, totalling 2750 fits\n"
     ]
    },
    {
     "name": "stderr",
     "output_type": "stream",
     "text": [
      "[Parallel(n_jobs=-1)]: Done  16 tasks      | elapsed:    0.2s\n",
      "[Parallel(n_jobs=-1)]: Done 1648 tasks      | elapsed:    8.4s\n",
      "[Parallel(n_jobs=-1)]: Done 2750 out of 2750 | elapsed:   14.6s finished\n",
      "[Parallel(n_jobs=-1)]: Using backend LokyBackend with 8 concurrent workers.\n"
     ]
    },
    {
     "name": "stdout",
     "output_type": "stream",
     "text": [
      "alpha: {'learning_rate': 0.3, 'loss': 'huber', 'max_depth': 2, 'n_estimators': 10}\n",
      "9 Houston Texans: 2019-11-01 00:00:00\n",
      "Fitting 5 folds for each of 550 candidates, totalling 2750 fits\n"
     ]
    },
    {
     "name": "stderr",
     "output_type": "stream",
     "text": [
      "[Parallel(n_jobs=-1)]: Done  16 tasks      | elapsed:    0.1s\n",
      "[Parallel(n_jobs=-1)]: Done 1648 tasks      | elapsed:    8.2s\n",
      "[Parallel(n_jobs=-1)]: Done 2750 out of 2750 | elapsed:   14.7s finished\n",
      "[Parallel(n_jobs=-1)]: Using backend LokyBackend with 8 concurrent workers.\n"
     ]
    },
    {
     "name": "stdout",
     "output_type": "stream",
     "text": [
      "alpha: {'learning_rate': 0.3, 'loss': 'ls', 'max_depth': 4, 'n_estimators': 4}\n",
      "9 Houston Texans: 2019-12-01 00:00:00\n",
      "Fitting 5 folds for each of 550 candidates, totalling 2750 fits\n"
     ]
    },
    {
     "name": "stderr",
     "output_type": "stream",
     "text": [
      "[Parallel(n_jobs=-1)]: Done  16 tasks      | elapsed:    0.2s\n",
      "[Parallel(n_jobs=-1)]: Done 1648 tasks      | elapsed:    8.2s\n",
      "[Parallel(n_jobs=-1)]: Done 2750 out of 2750 | elapsed:   14.4s finished\n",
      "[Parallel(n_jobs=-1)]: Using backend LokyBackend with 8 concurrent workers.\n"
     ]
    },
    {
     "name": "stdout",
     "output_type": "stream",
     "text": [
      "alpha: {'learning_rate': 0.6, 'loss': 'ls', 'max_depth': 4, 'n_estimators': 2}\n",
      "10 Cincinnati Bengals: 2012-09-01 00:00:00\n",
      "Fitting 5 folds for each of 550 candidates, totalling 2750 fits\n"
     ]
    },
    {
     "name": "stderr",
     "output_type": "stream",
     "text": [
      "[Parallel(n_jobs=-1)]: Done  16 tasks      | elapsed:    0.1s\n",
      "[Parallel(n_jobs=-1)]: Done 1816 tasks      | elapsed:    9.1s\n",
      "[Parallel(n_jobs=-1)]: Done 2750 out of 2750 | elapsed:   14.5s finished\n",
      "[Parallel(n_jobs=-1)]: Using backend LokyBackend with 8 concurrent workers.\n"
     ]
    },
    {
     "name": "stdout",
     "output_type": "stream",
     "text": [
      "alpha: {'learning_rate': 0.5, 'loss': 'ls', 'max_depth': 2, 'n_estimators': 2}\n",
      "10 Cincinnati Bengals: 2012-10-01 00:00:00\n",
      "Fitting 5 folds for each of 550 candidates, totalling 2750 fits\n"
     ]
    },
    {
     "name": "stderr",
     "output_type": "stream",
     "text": [
      "[Parallel(n_jobs=-1)]: Done  16 tasks      | elapsed:    0.2s\n",
      "[Parallel(n_jobs=-1)]: Done 2128 tasks      | elapsed:   10.2s\n",
      "[Parallel(n_jobs=-1)]: Done 2750 out of 2750 | elapsed:   13.4s finished\n",
      "[Parallel(n_jobs=-1)]: Using backend LokyBackend with 8 concurrent workers.\n"
     ]
    },
    {
     "name": "stdout",
     "output_type": "stream",
     "text": [
      "alpha: {'learning_rate': 0.2, 'loss': 'ls', 'max_depth': 4, 'n_estimators': 8}\n",
      "10 Cincinnati Bengals: 2012-11-01 00:00:00\n",
      "Fitting 5 folds for each of 550 candidates, totalling 2750 fits\n"
     ]
    },
    {
     "name": "stderr",
     "output_type": "stream",
     "text": [
      "[Parallel(n_jobs=-1)]: Done  16 tasks      | elapsed:    0.1s\n",
      "[Parallel(n_jobs=-1)]: Done 1936 tasks      | elapsed:    9.3s\n",
      "[Parallel(n_jobs=-1)]: Done 2750 out of 2750 | elapsed:   13.6s finished\n",
      "[Parallel(n_jobs=-1)]: Using backend LokyBackend with 8 concurrent workers.\n"
     ]
    },
    {
     "name": "stdout",
     "output_type": "stream",
     "text": [
      "alpha: {'learning_rate': 0.6, 'loss': 'ls', 'max_depth': 2, 'n_estimators': 2}\n",
      "10 Cincinnati Bengals: 2012-12-01 00:00:00\n",
      "Fitting 5 folds for each of 550 candidates, totalling 2750 fits\n"
     ]
    },
    {
     "name": "stderr",
     "output_type": "stream",
     "text": [
      "[Parallel(n_jobs=-1)]: Done  16 tasks      | elapsed:    0.2s\n",
      "[Parallel(n_jobs=-1)]: Done 1684 tasks      | elapsed:    8.2s\n",
      "[Parallel(n_jobs=-1)]: Done 2750 out of 2750 | elapsed:   13.8s finished\n",
      "[Parallel(n_jobs=-1)]: Using backend LokyBackend with 8 concurrent workers.\n"
     ]
    },
    {
     "name": "stdout",
     "output_type": "stream",
     "text": [
      "alpha: {'learning_rate': 0.4, 'loss': 'ls', 'max_depth': 2, 'n_estimators': 10}\n",
      "10 Cincinnati Bengals: 2013-09-01 00:00:00\n",
      "Fitting 5 folds for each of 550 candidates, totalling 2750 fits\n"
     ]
    },
    {
     "name": "stderr",
     "output_type": "stream",
     "text": [
      "[Parallel(n_jobs=-1)]: Done  16 tasks      | elapsed:    0.1s\n",
      "[Parallel(n_jobs=-1)]: Done 1648 tasks      | elapsed:    8.2s\n",
      "[Parallel(n_jobs=-1)]: Done 2750 out of 2750 | elapsed:   14.4s finished\n",
      "[Parallel(n_jobs=-1)]: Using backend LokyBackend with 8 concurrent workers.\n"
     ]
    },
    {
     "name": "stdout",
     "output_type": "stream",
     "text": [
      "alpha: {'learning_rate': 0.4, 'loss': 'ls', 'max_depth': 2, 'n_estimators': 4}\n",
      "10 Cincinnati Bengals: 2013-10-01 00:00:00\n",
      "Fitting 5 folds for each of 550 candidates, totalling 2750 fits\n"
     ]
    },
    {
     "name": "stderr",
     "output_type": "stream",
     "text": [
      "[Parallel(n_jobs=-1)]: Done  16 tasks      | elapsed:    0.2s\n",
      "[Parallel(n_jobs=-1)]: Done 1578 tasks      | elapsed:    8.1s\n",
      "[Parallel(n_jobs=-1)]: Done 2750 out of 2750 | elapsed:   15.1s finished\n",
      "[Parallel(n_jobs=-1)]: Using backend LokyBackend with 8 concurrent workers.\n"
     ]
    },
    {
     "name": "stdout",
     "output_type": "stream",
     "text": [
      "alpha: {'learning_rate': 0.2, 'loss': 'ls', 'max_depth': 2, 'n_estimators': 10}\n",
      "10 Cincinnati Bengals: 2013-11-01 00:00:00\n",
      "Fitting 5 folds for each of 550 candidates, totalling 2750 fits\n"
     ]
    },
    {
     "name": "stderr",
     "output_type": "stream",
     "text": [
      "[Parallel(n_jobs=-1)]: Done  16 tasks      | elapsed:    0.2s\n",
      "[Parallel(n_jobs=-1)]: Done 2128 tasks      | elapsed:   10.3s\n",
      "[Parallel(n_jobs=-1)]: Done 2750 out of 2750 | elapsed:   13.5s finished\n",
      "[Parallel(n_jobs=-1)]: Using backend LokyBackend with 8 concurrent workers.\n"
     ]
    },
    {
     "name": "stdout",
     "output_type": "stream",
     "text": [
      "alpha: {'learning_rate': 0.3, 'loss': 'ls', 'max_depth': 2, 'n_estimators': 4}\n",
      "10 Cincinnati Bengals: 2013-12-01 00:00:00\n",
      "Fitting 5 folds for each of 550 candidates, totalling 2750 fits\n"
     ]
    },
    {
     "name": "stderr",
     "output_type": "stream",
     "text": [
      "[Parallel(n_jobs=-1)]: Done  16 tasks      | elapsed:    0.2s\n",
      "[Parallel(n_jobs=-1)]: Done 1660 tasks      | elapsed:    8.4s\n",
      "[Parallel(n_jobs=-1)]: Done 2750 out of 2750 | elapsed:   14.4s finished\n",
      "[Parallel(n_jobs=-1)]: Using backend LokyBackend with 8 concurrent workers.\n"
     ]
    },
    {
     "name": "stdout",
     "output_type": "stream",
     "text": [
      "alpha: {'learning_rate': 0.3, 'loss': 'huber', 'max_depth': 4, 'n_estimators': 8}\n",
      "10 Cincinnati Bengals: 2014-09-01 00:00:00\n",
      "Fitting 5 folds for each of 550 candidates, totalling 2750 fits\n"
     ]
    },
    {
     "name": "stderr",
     "output_type": "stream",
     "text": [
      "[Parallel(n_jobs=-1)]: Done  16 tasks      | elapsed:    0.1s\n",
      "[Parallel(n_jobs=-1)]: Done 1804 tasks      | elapsed:    8.8s\n",
      "[Parallel(n_jobs=-1)]: Done 2750 out of 2750 | elapsed:   13.9s finished\n",
      "[Parallel(n_jobs=-1)]: Using backend LokyBackend with 8 concurrent workers.\n"
     ]
    },
    {
     "name": "stdout",
     "output_type": "stream",
     "text": [
      "alpha: {'learning_rate': 0.6, 'loss': 'ls', 'max_depth': 2, 'n_estimators': 2}\n",
      "10 Cincinnati Bengals: 2014-10-01 00:00:00\n",
      "Fitting 5 folds for each of 550 candidates, totalling 2750 fits\n"
     ]
    },
    {
     "name": "stderr",
     "output_type": "stream",
     "text": [
      "[Parallel(n_jobs=-1)]: Done  16 tasks      | elapsed:    0.1s\n",
      "[Parallel(n_jobs=-1)]: Done 2056 tasks      | elapsed:    9.7s\n",
      "[Parallel(n_jobs=-1)]: Done 2750 out of 2750 | elapsed:   13.6s finished\n",
      "[Parallel(n_jobs=-1)]: Using backend LokyBackend with 8 concurrent workers.\n"
     ]
    },
    {
     "name": "stdout",
     "output_type": "stream",
     "text": [
      "alpha: {'learning_rate': 0.2, 'loss': 'ls', 'max_depth': 2, 'n_estimators': 8}\n",
      "10 Cincinnati Bengals: 2014-11-01 00:00:00\n",
      "Fitting 5 folds for each of 550 candidates, totalling 2750 fits\n"
     ]
    },
    {
     "name": "stderr",
     "output_type": "stream",
     "text": [
      "[Parallel(n_jobs=-1)]: Done  16 tasks      | elapsed:    0.2s\n",
      "[Parallel(n_jobs=-1)]: Done 1552 tasks      | elapsed:    7.8s\n",
      "[Parallel(n_jobs=-1)]: Done 2750 out of 2750 | elapsed:   14.3s finished\n",
      "[Parallel(n_jobs=-1)]: Using backend LokyBackend with 8 concurrent workers.\n"
     ]
    },
    {
     "name": "stdout",
     "output_type": "stream",
     "text": [
      "alpha: {'learning_rate': 0.15, 'loss': 'ls', 'max_depth': 8, 'n_estimators': 2}\n",
      "10 Cincinnati Bengals: 2014-12-01 00:00:00\n",
      "Fitting 5 folds for each of 550 candidates, totalling 2750 fits\n"
     ]
    },
    {
     "name": "stderr",
     "output_type": "stream",
     "text": [
      "[Parallel(n_jobs=-1)]: Done  16 tasks      | elapsed:    0.2s\n",
      "[Parallel(n_jobs=-1)]: Done 1936 tasks      | elapsed:    9.6s\n",
      "[Parallel(n_jobs=-1)]: Done 2750 out of 2750 | elapsed:   14.0s finished\n",
      "[Parallel(n_jobs=-1)]: Using backend LokyBackend with 8 concurrent workers.\n"
     ]
    },
    {
     "name": "stdout",
     "output_type": "stream",
     "text": [
      "alpha: {'learning_rate': 0.3, 'loss': 'ls', 'max_depth': 2, 'n_estimators': 8}\n",
      "10 Cincinnati Bengals: 2015-09-01 00:00:00\n",
      "Fitting 5 folds for each of 550 candidates, totalling 2750 fits\n"
     ]
    },
    {
     "name": "stderr",
     "output_type": "stream",
     "text": [
      "[Parallel(n_jobs=-1)]: Done  16 tasks      | elapsed:    0.2s\n",
      "[Parallel(n_jobs=-1)]: Done 1684 tasks      | elapsed:    8.2s\n",
      "[Parallel(n_jobs=-1)]: Done 2750 out of 2750 | elapsed:   14.0s finished\n",
      "[Parallel(n_jobs=-1)]: Using backend LokyBackend with 8 concurrent workers.\n"
     ]
    },
    {
     "name": "stdout",
     "output_type": "stream",
     "text": [
      "alpha: {'learning_rate': 0.4, 'loss': 'ls', 'max_depth': 2, 'n_estimators': 6}\n",
      "10 Cincinnati Bengals: 2015-10-01 00:00:00\n",
      "Fitting 5 folds for each of 550 candidates, totalling 2750 fits\n"
     ]
    },
    {
     "name": "stderr",
     "output_type": "stream",
     "text": [
      "[Parallel(n_jobs=-1)]: Done  16 tasks      | elapsed:    0.2s\n",
      "[Parallel(n_jobs=-1)]: Done 1936 tasks      | elapsed:    9.4s\n",
      "[Parallel(n_jobs=-1)]: Done 2750 out of 2750 | elapsed:   13.8s finished\n",
      "[Parallel(n_jobs=-1)]: Using backend LokyBackend with 8 concurrent workers.\n"
     ]
    },
    {
     "name": "stdout",
     "output_type": "stream",
     "text": [
      "alpha: {'learning_rate': 0.2, 'loss': 'ls', 'max_depth': 2, 'n_estimators': 8}\n",
      "10 Cincinnati Bengals: 2015-11-01 00:00:00\n",
      "Fitting 5 folds for each of 550 candidates, totalling 2750 fits\n"
     ]
    },
    {
     "name": "stderr",
     "output_type": "stream",
     "text": [
      "[Parallel(n_jobs=-1)]: Done  16 tasks      | elapsed:    0.2s\n",
      "[Parallel(n_jobs=-1)]: Done 1684 tasks      | elapsed:    8.4s\n",
      "[Parallel(n_jobs=-1)]: Done 2750 out of 2750 | elapsed:   14.1s finished\n",
      "[Parallel(n_jobs=-1)]: Using backend LokyBackend with 8 concurrent workers.\n"
     ]
    },
    {
     "name": "stdout",
     "output_type": "stream",
     "text": [
      "alpha: {'learning_rate': 0.6, 'loss': 'ls', 'max_depth': 2, 'n_estimators': 2}\n",
      "10 Cincinnati Bengals: 2015-12-01 00:00:00\n",
      "Fitting 5 folds for each of 550 candidates, totalling 2750 fits\n"
     ]
    },
    {
     "name": "stderr",
     "output_type": "stream",
     "text": [
      "[Parallel(n_jobs=-1)]: Done  16 tasks      | elapsed:    0.2s\n",
      "[Parallel(n_jobs=-1)]: Done 2044 tasks      | elapsed:    9.6s\n",
      "[Parallel(n_jobs=-1)]: Done 2750 out of 2750 | elapsed:   13.7s finished\n",
      "[Parallel(n_jobs=-1)]: Using backend LokyBackend with 8 concurrent workers.\n"
     ]
    },
    {
     "name": "stdout",
     "output_type": "stream",
     "text": [
      "alpha: {'learning_rate': 0.6, 'loss': 'ls', 'max_depth': 2, 'n_estimators': 2}\n",
      "10 Cincinnati Bengals: 2016-09-01 00:00:00\n",
      "Fitting 5 folds for each of 550 candidates, totalling 2750 fits\n"
     ]
    },
    {
     "name": "stderr",
     "output_type": "stream",
     "text": [
      "[Parallel(n_jobs=-1)]: Done  16 tasks      | elapsed:    0.1s\n",
      "[Parallel(n_jobs=-1)]: Done 1919 tasks      | elapsed:    9.4s\n",
      "[Parallel(n_jobs=-1)]: Done 2750 out of 2750 | elapsed:   13.6s finished\n",
      "[Parallel(n_jobs=-1)]: Using backend LokyBackend with 8 concurrent workers.\n"
     ]
    },
    {
     "name": "stdout",
     "output_type": "stream",
     "text": [
      "alpha: {'learning_rate': 0.5, 'loss': 'huber', 'max_depth': 2, 'n_estimators': 10}\n",
      "10 Cincinnati Bengals: 2016-10-01 00:00:00\n",
      "Fitting 5 folds for each of 550 candidates, totalling 2750 fits\n"
     ]
    },
    {
     "name": "stderr",
     "output_type": "stream",
     "text": [
      "[Parallel(n_jobs=-1)]: Done  16 tasks      | elapsed:    0.2s\n",
      "[Parallel(n_jobs=-1)]: Done 1684 tasks      | elapsed:    8.5s\n",
      "[Parallel(n_jobs=-1)]: Done 2750 out of 2750 | elapsed:   14.0s finished\n",
      "[Parallel(n_jobs=-1)]: Using backend LokyBackend with 8 concurrent workers.\n",
      "[Parallel(n_jobs=-1)]: Done  16 tasks      | elapsed:    0.0s\n"
     ]
    },
    {
     "name": "stdout",
     "output_type": "stream",
     "text": [
      "alpha: {'learning_rate': 0.2, 'loss': 'ls', 'max_depth': 2, 'n_estimators': 8}\n",
      "10 Cincinnati Bengals: 2016-11-01 00:00:00\n",
      "Fitting 5 folds for each of 550 candidates, totalling 2750 fits\n"
     ]
    },
    {
     "name": "stderr",
     "output_type": "stream",
     "text": [
      "[Parallel(n_jobs=-1)]: Done 1168 tasks      | elapsed:    5.8s\n",
      "[Parallel(n_jobs=-1)]: Done 2750 out of 2750 | elapsed:   14.3s finished\n",
      "[Parallel(n_jobs=-1)]: Using backend LokyBackend with 8 concurrent workers.\n"
     ]
    },
    {
     "name": "stdout",
     "output_type": "stream",
     "text": [
      "alpha: {'learning_rate': 0.4, 'loss': 'huber', 'max_depth': 2, 'n_estimators': 10}\n",
      "10 Cincinnati Bengals: 2016-12-01 00:00:00\n",
      "Fitting 5 folds for each of 550 candidates, totalling 2750 fits\n"
     ]
    },
    {
     "name": "stderr",
     "output_type": "stream",
     "text": [
      "[Parallel(n_jobs=-1)]: Done  16 tasks      | elapsed:    0.2s\n",
      "[Parallel(n_jobs=-1)]: Done 1771 tasks      | elapsed:    8.9s\n",
      "[Parallel(n_jobs=-1)]: Done 2750 out of 2750 | elapsed:   14.3s finished\n",
      "[Parallel(n_jobs=-1)]: Using backend LokyBackend with 8 concurrent workers.\n"
     ]
    },
    {
     "name": "stdout",
     "output_type": "stream",
     "text": [
      "alpha: {'learning_rate': 0.5, 'loss': 'ls', 'max_depth': 2, 'n_estimators': 10}\n",
      "10 Cincinnati Bengals: 2017-09-01 00:00:00\n",
      "Fitting 5 folds for each of 550 candidates, totalling 2750 fits\n"
     ]
    },
    {
     "name": "stderr",
     "output_type": "stream",
     "text": [
      "[Parallel(n_jobs=-1)]: Done  16 tasks      | elapsed:    0.2s\n",
      "[Parallel(n_jobs=-1)]: Done 1936 tasks      | elapsed:    9.9s\n",
      "[Parallel(n_jobs=-1)]: Done 2750 out of 2750 | elapsed:   14.2s finished\n",
      "[Parallel(n_jobs=-1)]: Using backend LokyBackend with 8 concurrent workers.\n"
     ]
    },
    {
     "name": "stdout",
     "output_type": "stream",
     "text": [
      "alpha: {'learning_rate': 0.3, 'loss': 'huber', 'max_depth': 2, 'n_estimators': 10}\n",
      "10 Cincinnati Bengals: 2017-10-01 00:00:00\n",
      "Fitting 5 folds for each of 550 candidates, totalling 2750 fits\n"
     ]
    },
    {
     "name": "stderr",
     "output_type": "stream",
     "text": [
      "[Parallel(n_jobs=-1)]: Done  16 tasks      | elapsed:    0.1s\n",
      "[Parallel(n_jobs=-1)]: Done 1936 tasks      | elapsed:    9.9s\n",
      "[Parallel(n_jobs=-1)]: Done 2750 out of 2750 | elapsed:   14.2s finished\n",
      "[Parallel(n_jobs=-1)]: Using backend LokyBackend with 8 concurrent workers.\n"
     ]
    },
    {
     "name": "stdout",
     "output_type": "stream",
     "text": [
      "alpha: {'learning_rate': 0.4, 'loss': 'ls', 'max_depth': 4, 'n_estimators': 4}\n",
      "10 Cincinnati Bengals: 2017-11-01 00:00:00\n",
      "Fitting 5 folds for each of 550 candidates, totalling 2750 fits\n"
     ]
    },
    {
     "name": "stderr",
     "output_type": "stream",
     "text": [
      "[Parallel(n_jobs=-1)]: Done  16 tasks      | elapsed:    0.2s\n",
      "[Parallel(n_jobs=-1)]: Done 1936 tasks      | elapsed:    9.9s\n",
      "[Parallel(n_jobs=-1)]: Done 2750 out of 2750 | elapsed:   14.5s finished\n",
      "[Parallel(n_jobs=-1)]: Using backend LokyBackend with 8 concurrent workers.\n"
     ]
    },
    {
     "name": "stdout",
     "output_type": "stream",
     "text": [
      "alpha: {'learning_rate': 0.2, 'loss': 'huber', 'max_depth': 2, 'n_estimators': 10}\n",
      "10 Cincinnati Bengals: 2017-12-01 00:00:00\n",
      "Fitting 5 folds for each of 550 candidates, totalling 2750 fits\n"
     ]
    },
    {
     "name": "stderr",
     "output_type": "stream",
     "text": [
      "[Parallel(n_jobs=-1)]: Done  16 tasks      | elapsed:    0.2s\n",
      "[Parallel(n_jobs=-1)]: Done 1636 tasks      | elapsed:    8.6s\n",
      "[Parallel(n_jobs=-1)]: Done 2750 out of 2750 | elapsed:   14.8s finished\n",
      "[Parallel(n_jobs=-1)]: Using backend LokyBackend with 8 concurrent workers.\n"
     ]
    },
    {
     "name": "stdout",
     "output_type": "stream",
     "text": [
      "alpha: {'learning_rate': 0.6, 'loss': 'huber', 'max_depth': 4, 'n_estimators': 4}\n",
      "10 Cincinnati Bengals: 2018-09-01 00:00:00\n",
      "Fitting 5 folds for each of 550 candidates, totalling 2750 fits\n"
     ]
    },
    {
     "name": "stderr",
     "output_type": "stream",
     "text": [
      "[Parallel(n_jobs=-1)]: Done  16 tasks      | elapsed:    0.2s\n",
      "[Parallel(n_jobs=-1)]: Done 1564 tasks      | elapsed:    9.0s\n",
      "[Parallel(n_jobs=-1)]: Done 2750 out of 2750 | elapsed:   15.7s finished\n",
      "[Parallel(n_jobs=-1)]: Using backend LokyBackend with 8 concurrent workers.\n"
     ]
    },
    {
     "name": "stdout",
     "output_type": "stream",
     "text": [
      "alpha: {'learning_rate': 0.4, 'loss': 'ls', 'max_depth': 4, 'n_estimators': 8}\n",
      "10 Cincinnati Bengals: 2018-10-01 00:00:00\n",
      "Fitting 5 folds for each of 550 candidates, totalling 2750 fits\n"
     ]
    },
    {
     "name": "stderr",
     "output_type": "stream",
     "text": [
      "[Parallel(n_jobs=-1)]: Done  16 tasks      | elapsed:    0.2s\n",
      "[Parallel(n_jobs=-1)]: Done 1168 tasks      | elapsed:    6.0s\n",
      "[Parallel(n_jobs=-1)]: Done 2750 out of 2750 | elapsed:   14.6s finished\n",
      "[Parallel(n_jobs=-1)]: Using backend LokyBackend with 8 concurrent workers.\n"
     ]
    },
    {
     "name": "stdout",
     "output_type": "stream",
     "text": [
      "alpha: {'learning_rate': 0.4, 'loss': 'huber', 'max_depth': 2, 'n_estimators': 8}\n",
      "10 Cincinnati Bengals: 2018-11-01 00:00:00\n",
      "Fitting 5 folds for each of 550 candidates, totalling 2750 fits\n"
     ]
    },
    {
     "name": "stderr",
     "output_type": "stream",
     "text": [
      "[Parallel(n_jobs=-1)]: Done  16 tasks      | elapsed:    0.2s\n",
      "[Parallel(n_jobs=-1)]: Done 1684 tasks      | elapsed:    8.5s\n",
      "[Parallel(n_jobs=-1)]: Done 2750 out of 2750 | elapsed:   14.3s finished\n",
      "[Parallel(n_jobs=-1)]: Using backend LokyBackend with 8 concurrent workers.\n"
     ]
    },
    {
     "name": "stdout",
     "output_type": "stream",
     "text": [
      "alpha: {'learning_rate': 0.2, 'loss': 'huber', 'max_depth': 2, 'n_estimators': 8}\n",
      "10 Cincinnati Bengals: 2018-12-01 00:00:00\n",
      "Fitting 5 folds for each of 550 candidates, totalling 2750 fits\n"
     ]
    },
    {
     "name": "stderr",
     "output_type": "stream",
     "text": [
      "[Parallel(n_jobs=-1)]: Done  16 tasks      | elapsed:    0.1s\n",
      "[Parallel(n_jobs=-1)]: Done 1660 tasks      | elapsed:    8.2s\n",
      "[Parallel(n_jobs=-1)]: Done 2750 out of 2750 | elapsed:   14.3s finished\n",
      "[Parallel(n_jobs=-1)]: Using backend LokyBackend with 8 concurrent workers.\n"
     ]
    },
    {
     "name": "stdout",
     "output_type": "stream",
     "text": [
      "alpha: {'learning_rate': 0.4, 'loss': 'ls', 'max_depth': 2, 'n_estimators': 6}\n",
      "10 Cincinnati Bengals: 2019-09-01 00:00:00\n",
      "Fitting 5 folds for each of 550 candidates, totalling 2750 fits\n"
     ]
    },
    {
     "name": "stderr",
     "output_type": "stream",
     "text": [
      "[Parallel(n_jobs=-1)]: Done  16 tasks      | elapsed:    0.2s\n",
      "[Parallel(n_jobs=-1)]: Done 1545 tasks      | elapsed:    7.9s\n",
      "[Parallel(n_jobs=-1)]: Done 2750 out of 2750 | elapsed:   14.3s finished\n",
      "[Parallel(n_jobs=-1)]: Using backend LokyBackend with 8 concurrent workers.\n"
     ]
    },
    {
     "name": "stdout",
     "output_type": "stream",
     "text": [
      "alpha: {'learning_rate': 0.4, 'loss': 'huber', 'max_depth': 4, 'n_estimators': 4}\n",
      "10 Cincinnati Bengals: 2019-10-01 00:00:00\n",
      "Fitting 5 folds for each of 550 candidates, totalling 2750 fits\n"
     ]
    },
    {
     "name": "stderr",
     "output_type": "stream",
     "text": [
      "[Parallel(n_jobs=-1)]: Done  16 tasks      | elapsed:    0.2s\n",
      "[Parallel(n_jobs=-1)]: Done 1809 tasks      | elapsed:    9.0s\n",
      "[Parallel(n_jobs=-1)]: Done 2750 out of 2750 | elapsed:   14.2s finished\n",
      "[Parallel(n_jobs=-1)]: Using backend LokyBackend with 8 concurrent workers.\n"
     ]
    },
    {
     "name": "stdout",
     "output_type": "stream",
     "text": [
      "alpha: {'learning_rate': 0.4, 'loss': 'ls', 'max_depth': 2, 'n_estimators': 6}\n",
      "10 Cincinnati Bengals: 2019-11-01 00:00:00\n",
      "Fitting 5 folds for each of 550 candidates, totalling 2750 fits\n"
     ]
    },
    {
     "name": "stderr",
     "output_type": "stream",
     "text": [
      "[Parallel(n_jobs=-1)]: Done  16 tasks      | elapsed:    0.2s\n",
      "[Parallel(n_jobs=-1)]: Done 1744 tasks      | elapsed:    9.7s\n",
      "[Parallel(n_jobs=-1)]: Done 2750 out of 2750 | elapsed:   15.4s finished\n",
      "[Parallel(n_jobs=-1)]: Using backend LokyBackend with 8 concurrent workers.\n"
     ]
    },
    {
     "name": "stdout",
     "output_type": "stream",
     "text": [
      "alpha: {'learning_rate': 0.4, 'loss': 'ls', 'max_depth': 2, 'n_estimators': 6}\n",
      "10 Cincinnati Bengals: 2019-12-01 00:00:00\n",
      "Fitting 5 folds for each of 550 candidates, totalling 2750 fits\n"
     ]
    },
    {
     "name": "stderr",
     "output_type": "stream",
     "text": [
      "[Parallel(n_jobs=-1)]: Done  16 tasks      | elapsed:    0.2s\n",
      "[Parallel(n_jobs=-1)]: Done 1578 tasks      | elapsed:    8.0s\n",
      "[Parallel(n_jobs=-1)]: Done 2750 out of 2750 | elapsed:   14.2s finished\n",
      "[Parallel(n_jobs=-1)]: Using backend LokyBackend with 8 concurrent workers.\n"
     ]
    },
    {
     "name": "stdout",
     "output_type": "stream",
     "text": [
      "alpha: {'learning_rate': 0.5, 'loss': 'huber', 'max_depth': 2, 'n_estimators': 2}\n",
      "11 Kansas City Chiefs: 2012-09-01 00:00:00\n",
      "Fitting 5 folds for each of 550 candidates, totalling 2750 fits\n"
     ]
    },
    {
     "name": "stderr",
     "output_type": "stream",
     "text": [
      "[Parallel(n_jobs=-1)]: Done  16 tasks      | elapsed:    0.2s\n",
      "[Parallel(n_jobs=-1)]: Done 1660 tasks      | elapsed:    8.8s\n",
      "[Parallel(n_jobs=-1)]: Done 2750 out of 2750 | elapsed:   14.9s finished\n",
      "[Parallel(n_jobs=-1)]: Using backend LokyBackend with 8 concurrent workers.\n"
     ]
    },
    {
     "name": "stdout",
     "output_type": "stream",
     "text": [
      "alpha: {'learning_rate': 0.3, 'loss': 'huber', 'max_depth': 2, 'n_estimators': 6}\n",
      "11 Kansas City Chiefs: 2012-10-01 00:00:00\n",
      "Fitting 5 folds for each of 550 candidates, totalling 2750 fits\n"
     ]
    },
    {
     "name": "stderr",
     "output_type": "stream",
     "text": [
      "[Parallel(n_jobs=-1)]: Done  16 tasks      | elapsed:    0.1s\n",
      "[Parallel(n_jobs=-1)]: Done 1936 tasks      | elapsed:   10.1s\n",
      "[Parallel(n_jobs=-1)]: Done 2750 out of 2750 | elapsed:   14.6s finished\n",
      "[Parallel(n_jobs=-1)]: Using backend LokyBackend with 8 concurrent workers.\n"
     ]
    },
    {
     "name": "stdout",
     "output_type": "stream",
     "text": [
      "alpha: {'learning_rate': 0.4, 'loss': 'ls', 'max_depth': 2, 'n_estimators': 6}\n",
      "11 Kansas City Chiefs: 2012-11-01 00:00:00\n",
      "Fitting 5 folds for each of 550 candidates, totalling 2750 fits\n"
     ]
    },
    {
     "name": "stderr",
     "output_type": "stream",
     "text": [
      "[Parallel(n_jobs=-1)]: Done  16 tasks      | elapsed:    0.2s\n",
      "[Parallel(n_jobs=-1)]: Done 1578 tasks      | elapsed:    7.8s\n",
      "[Parallel(n_jobs=-1)]: Done 2750 out of 2750 | elapsed:   14.3s finished\n",
      "[Parallel(n_jobs=-1)]: Using backend LokyBackend with 8 concurrent workers.\n"
     ]
    },
    {
     "name": "stdout",
     "output_type": "stream",
     "text": [
      "alpha: {'learning_rate': 0.6, 'loss': 'ls', 'max_depth': 2, 'n_estimators': 10}\n",
      "11 Kansas City Chiefs: 2012-12-01 00:00:00\n",
      "Fitting 5 folds for each of 550 candidates, totalling 2750 fits\n"
     ]
    },
    {
     "name": "stderr",
     "output_type": "stream",
     "text": [
      "[Parallel(n_jobs=-1)]: Done  16 tasks      | elapsed:    0.2s\n",
      "[Parallel(n_jobs=-1)]: Done 1648 tasks      | elapsed:    8.6s\n",
      "[Parallel(n_jobs=-1)]: Done 2750 out of 2750 | elapsed:   14.8s finished\n",
      "[Parallel(n_jobs=-1)]: Using backend LokyBackend with 8 concurrent workers.\n"
     ]
    },
    {
     "name": "stdout",
     "output_type": "stream",
     "text": [
      "alpha: {'learning_rate': 0.2, 'loss': 'ls', 'max_depth': 2, 'n_estimators': 10}\n",
      "11 Kansas City Chiefs: 2013-09-01 00:00:00\n",
      "Fitting 5 folds for each of 550 candidates, totalling 2750 fits\n"
     ]
    },
    {
     "name": "stderr",
     "output_type": "stream",
     "text": [
      "[Parallel(n_jobs=-1)]: Done  16 tasks      | elapsed:    0.2s\n",
      "[Parallel(n_jobs=-1)]: Done 1745 tasks      | elapsed:    9.1s\n",
      "[Parallel(n_jobs=-1)]: Done 2750 out of 2750 | elapsed:   14.5s finished\n",
      "[Parallel(n_jobs=-1)]: Using backend LokyBackend with 8 concurrent workers.\n"
     ]
    },
    {
     "name": "stdout",
     "output_type": "stream",
     "text": [
      "alpha: {'learning_rate': 0.4, 'loss': 'ls', 'max_depth': 2, 'n_estimators': 6}\n",
      "11 Kansas City Chiefs: 2013-10-01 00:00:00\n",
      "Fitting 5 folds for each of 550 candidates, totalling 2750 fits\n"
     ]
    },
    {
     "name": "stderr",
     "output_type": "stream",
     "text": [
      "[Parallel(n_jobs=-1)]: Done  16 tasks      | elapsed:    0.2s\n",
      "[Parallel(n_jobs=-1)]: Done 1660 tasks      | elapsed:    8.3s\n",
      "[Parallel(n_jobs=-1)]: Done 2750 out of 2750 | elapsed:   14.5s finished\n",
      "[Parallel(n_jobs=-1)]: Using backend LokyBackend with 8 concurrent workers.\n"
     ]
    },
    {
     "name": "stdout",
     "output_type": "stream",
     "text": [
      "alpha: {'learning_rate': 0.3, 'loss': 'ls', 'max_depth': 2, 'n_estimators': 10}\n",
      "11 Kansas City Chiefs: 2013-11-01 00:00:00\n",
      "Fitting 5 folds for each of 550 candidates, totalling 2750 fits\n"
     ]
    },
    {
     "name": "stderr",
     "output_type": "stream",
     "text": [
      "[Parallel(n_jobs=-1)]: Done  16 tasks      | elapsed:    0.2s\n",
      "[Parallel(n_jobs=-1)]: Done 1816 tasks      | elapsed:    9.0s\n",
      "[Parallel(n_jobs=-1)]: Done 2750 out of 2750 | elapsed:   14.1s finished\n",
      "[Parallel(n_jobs=-1)]: Using backend LokyBackend with 8 concurrent workers.\n"
     ]
    },
    {
     "name": "stdout",
     "output_type": "stream",
     "text": [
      "alpha: {'learning_rate': 0.5, 'loss': 'huber', 'max_depth': 2, 'n_estimators': 8}\n",
      "11 Kansas City Chiefs: 2013-12-01 00:00:00\n",
      "Fitting 5 folds for each of 550 candidates, totalling 2750 fits\n"
     ]
    },
    {
     "name": "stderr",
     "output_type": "stream",
     "text": [
      "[Parallel(n_jobs=-1)]: Done  16 tasks      | elapsed:    0.1s\n",
      "[Parallel(n_jobs=-1)]: Done 1578 tasks      | elapsed:    7.9s\n",
      "[Parallel(n_jobs=-1)]: Done 2750 out of 2750 | elapsed:   14.3s finished\n",
      "[Parallel(n_jobs=-1)]: Using backend LokyBackend with 8 concurrent workers.\n"
     ]
    },
    {
     "name": "stdout",
     "output_type": "stream",
     "text": [
      "alpha: {'learning_rate': 0.3, 'loss': 'huber', 'max_depth': 2, 'n_estimators': 8}\n",
      "11 Kansas City Chiefs: 2014-09-01 00:00:00\n",
      "Fitting 5 folds for each of 550 candidates, totalling 2750 fits\n"
     ]
    },
    {
     "name": "stderr",
     "output_type": "stream",
     "text": [
      "[Parallel(n_jobs=-1)]: Done  16 tasks      | elapsed:    0.1s\n",
      "[Parallel(n_jobs=-1)]: Done 1696 tasks      | elapsed:    9.7s\n",
      "[Parallel(n_jobs=-1)]: Done 2750 out of 2750 | elapsed:   15.8s finished\n",
      "[Parallel(n_jobs=-1)]: Using backend LokyBackend with 8 concurrent workers.\n"
     ]
    },
    {
     "name": "stdout",
     "output_type": "stream",
     "text": [
      "alpha: {'learning_rate': 0.3, 'loss': 'ls', 'max_depth': 2, 'n_estimators': 10}\n",
      "11 Kansas City Chiefs: 2014-10-01 00:00:00\n",
      "Fitting 5 folds for each of 550 candidates, totalling 2750 fits\n"
     ]
    },
    {
     "name": "stderr",
     "output_type": "stream",
     "text": [
      "[Parallel(n_jobs=-1)]: Done  16 tasks      | elapsed:    0.2s\n",
      "[Parallel(n_jobs=-1)]: Done 1446 tasks      | elapsed:    7.7s\n",
      "[Parallel(n_jobs=-1)]: Done 2750 out of 2750 | elapsed:   15.0s finished\n",
      "[Parallel(n_jobs=-1)]: Using backend LokyBackend with 8 concurrent workers.\n"
     ]
    },
    {
     "name": "stdout",
     "output_type": "stream",
     "text": [
      "alpha: {'learning_rate': 0.6, 'loss': 'ls', 'max_depth': 2, 'n_estimators': 2}\n",
      "11 Kansas City Chiefs: 2014-11-01 00:00:00\n",
      "Fitting 5 folds for each of 550 candidates, totalling 2750 fits\n"
     ]
    },
    {
     "name": "stderr",
     "output_type": "stream",
     "text": [
      "[Parallel(n_jobs=-1)]: Done  16 tasks      | elapsed:    0.2s\n",
      "[Parallel(n_jobs=-1)]: Done 1648 tasks      | elapsed:    8.3s\n",
      "[Parallel(n_jobs=-1)]: Done 2750 out of 2750 | elapsed:   14.3s finished\n",
      "[Parallel(n_jobs=-1)]: Using backend LokyBackend with 8 concurrent workers.\n"
     ]
    },
    {
     "name": "stdout",
     "output_type": "stream",
     "text": [
      "alpha: {'learning_rate': 0.2, 'loss': 'ls', 'max_depth': 2, 'n_estimators': 10}\n",
      "11 Kansas City Chiefs: 2014-12-01 00:00:00\n",
      "Fitting 5 folds for each of 550 candidates, totalling 2750 fits\n"
     ]
    },
    {
     "name": "stderr",
     "output_type": "stream",
     "text": [
      "[Parallel(n_jobs=-1)]: Done  16 tasks      | elapsed:    0.2s\n",
      "[Parallel(n_jobs=-1)]: Done 1780 tasks      | elapsed:    8.8s\n",
      "[Parallel(n_jobs=-1)]: Done 2750 out of 2750 | elapsed:   13.8s finished\n",
      "[Parallel(n_jobs=-1)]: Using backend LokyBackend with 8 concurrent workers.\n"
     ]
    },
    {
     "name": "stdout",
     "output_type": "stream",
     "text": [
      "alpha: {'learning_rate': 0.2, 'loss': 'huber', 'max_depth': 2, 'n_estimators': 10}\n",
      "11 Kansas City Chiefs: 2015-09-01 00:00:00\n",
      "Fitting 5 folds for each of 550 candidates, totalling 2750 fits\n"
     ]
    },
    {
     "name": "stderr",
     "output_type": "stream",
     "text": [
      "[Parallel(n_jobs=-1)]: Done  16 tasks      | elapsed:    0.2s\n",
      "[Parallel(n_jobs=-1)]: Done 1809 tasks      | elapsed:    9.2s\n",
      "[Parallel(n_jobs=-1)]: Done 2750 out of 2750 | elapsed:   14.3s finished\n",
      "[Parallel(n_jobs=-1)]: Using backend LokyBackend with 8 concurrent workers.\n"
     ]
    },
    {
     "name": "stdout",
     "output_type": "stream",
     "text": [
      "alpha: {'learning_rate': 0.6, 'loss': 'ls', 'max_depth': 4, 'n_estimators': 6}\n",
      "11 Kansas City Chiefs: 2015-10-01 00:00:00\n",
      "Fitting 5 folds for each of 550 candidates, totalling 2750 fits\n"
     ]
    },
    {
     "name": "stderr",
     "output_type": "stream",
     "text": [
      "[Parallel(n_jobs=-1)]: Done  16 tasks      | elapsed:    0.2s\n",
      "[Parallel(n_jobs=-1)]: Done 1648 tasks      | elapsed:    8.1s\n",
      "[Parallel(n_jobs=-1)]: Done 2750 out of 2750 | elapsed:   14.2s finished\n",
      "[Parallel(n_jobs=-1)]: Using backend LokyBackend with 8 concurrent workers.\n"
     ]
    },
    {
     "name": "stdout",
     "output_type": "stream",
     "text": [
      "alpha: {'learning_rate': 0.3, 'loss': 'huber', 'max_depth': 2, 'n_estimators': 6}\n",
      "11 Kansas City Chiefs: 2015-11-01 00:00:00\n",
      "Fitting 5 folds for each of 550 candidates, totalling 2750 fits\n"
     ]
    },
    {
     "name": "stderr",
     "output_type": "stream",
     "text": [
      "[Parallel(n_jobs=-1)]: Done  16 tasks      | elapsed:    0.2s\n",
      "[Parallel(n_jobs=-1)]: Done 1771 tasks      | elapsed:    9.1s\n",
      "[Parallel(n_jobs=-1)]: Done 2750 out of 2750 | elapsed:   14.5s finished\n",
      "[Parallel(n_jobs=-1)]: Using backend LokyBackend with 8 concurrent workers.\n"
     ]
    },
    {
     "name": "stdout",
     "output_type": "stream",
     "text": [
      "alpha: {'learning_rate': 0.2, 'loss': 'huber', 'max_depth': 2, 'n_estimators': 10}\n",
      "11 Kansas City Chiefs: 2015-12-01 00:00:00\n",
      "Fitting 5 folds for each of 550 candidates, totalling 2750 fits\n"
     ]
    },
    {
     "name": "stderr",
     "output_type": "stream",
     "text": [
      "[Parallel(n_jobs=-1)]: Done  16 tasks      | elapsed:    0.2s\n",
      "[Parallel(n_jobs=-1)]: Done 1567 tasks      | elapsed:    8.0s\n",
      "[Parallel(n_jobs=-1)]: Done 2750 out of 2750 | elapsed:   14.5s finished\n",
      "[Parallel(n_jobs=-1)]: Using backend LokyBackend with 8 concurrent workers.\n"
     ]
    },
    {
     "name": "stdout",
     "output_type": "stream",
     "text": [
      "alpha: {'learning_rate': 0.6, 'loss': 'huber', 'max_depth': 4, 'n_estimators': 4}\n",
      "11 Kansas City Chiefs: 2016-09-01 00:00:00\n",
      "Fitting 5 folds for each of 550 candidates, totalling 2750 fits\n"
     ]
    },
    {
     "name": "stderr",
     "output_type": "stream",
     "text": [
      "[Parallel(n_jobs=-1)]: Done  16 tasks      | elapsed:    0.1s\n",
      "[Parallel(n_jobs=-1)]: Done 1926 tasks      | elapsed:   10.1s\n",
      "[Parallel(n_jobs=-1)]: Done 2750 out of 2750 | elapsed:   14.6s finished\n",
      "[Parallel(n_jobs=-1)]: Using backend LokyBackend with 8 concurrent workers.\n"
     ]
    },
    {
     "name": "stdout",
     "output_type": "stream",
     "text": [
      "alpha: {'learning_rate': 0.4, 'loss': 'ls', 'max_depth': 2, 'n_estimators': 4}\n",
      "11 Kansas City Chiefs: 2016-10-01 00:00:00\n",
      "Fitting 5 folds for each of 550 candidates, totalling 2750 fits\n"
     ]
    },
    {
     "name": "stderr",
     "output_type": "stream",
     "text": [
      "[Parallel(n_jobs=-1)]: Done  16 tasks      | elapsed:    0.1s\n",
      "[Parallel(n_jobs=-1)]: Done 1936 tasks      | elapsed:   10.0s\n",
      "[Parallel(n_jobs=-1)]: Done 2750 out of 2750 | elapsed:   14.5s finished\n",
      "[Parallel(n_jobs=-1)]: Using backend LokyBackend with 8 concurrent workers.\n"
     ]
    },
    {
     "name": "stdout",
     "output_type": "stream",
     "text": [
      "alpha: {'learning_rate': 0.3, 'loss': 'huber', 'max_depth': 2, 'n_estimators': 6}\n",
      "11 Kansas City Chiefs: 2016-11-01 00:00:00\n",
      "Fitting 5 folds for each of 550 candidates, totalling 2750 fits\n"
     ]
    },
    {
     "name": "stderr",
     "output_type": "stream",
     "text": [
      "[Parallel(n_jobs=-1)]: Done  16 tasks      | elapsed:    0.1s\n",
      "[Parallel(n_jobs=-1)]: Done 1556 tasks      | elapsed:    8.0s\n",
      "[Parallel(n_jobs=-1)]: Done 2750 out of 2750 | elapsed:   14.3s finished\n",
      "[Parallel(n_jobs=-1)]: Using backend LokyBackend with 8 concurrent workers.\n"
     ]
    },
    {
     "name": "stdout",
     "output_type": "stream",
     "text": [
      "alpha: {'learning_rate': 0.3, 'loss': 'huber', 'max_depth': 4, 'n_estimators': 10}\n",
      "11 Kansas City Chiefs: 2016-12-01 00:00:00\n",
      "Fitting 5 folds for each of 550 candidates, totalling 2750 fits\n"
     ]
    },
    {
     "name": "stderr",
     "output_type": "stream",
     "text": [
      "[Parallel(n_jobs=-1)]: Done  16 tasks      | elapsed:    0.1s\n",
      "[Parallel(n_jobs=-1)]: Done 1936 tasks      | elapsed:    9.8s\n",
      "[Parallel(n_jobs=-1)]: Done 2750 out of 2750 | elapsed:   14.1s finished\n",
      "[Parallel(n_jobs=-1)]: Using backend LokyBackend with 8 concurrent workers.\n"
     ]
    },
    {
     "name": "stdout",
     "output_type": "stream",
     "text": [
      "alpha: {'learning_rate': 0.5, 'loss': 'huber', 'max_depth': 4, 'n_estimators': 4}\n",
      "11 Kansas City Chiefs: 2017-09-01 00:00:00\n",
      "Fitting 5 folds for each of 550 candidates, totalling 2750 fits\n"
     ]
    },
    {
     "name": "stderr",
     "output_type": "stream",
     "text": [
      "[Parallel(n_jobs=-1)]: Done  16 tasks      | elapsed:    0.2s\n",
      "[Parallel(n_jobs=-1)]: Done 1578 tasks      | elapsed:    7.8s\n",
      "[Parallel(n_jobs=-1)]: Done 2750 out of 2750 | elapsed:   14.6s finished\n",
      "[Parallel(n_jobs=-1)]: Using backend LokyBackend with 8 concurrent workers.\n"
     ]
    },
    {
     "name": "stdout",
     "output_type": "stream",
     "text": [
      "alpha: {'learning_rate': 0.4, 'loss': 'ls', 'max_depth': 2, 'n_estimators': 2}\n",
      "11 Kansas City Chiefs: 2017-10-01 00:00:00\n",
      "Fitting 5 folds for each of 550 candidates, totalling 2750 fits\n"
     ]
    },
    {
     "name": "stderr",
     "output_type": "stream",
     "text": [
      "[Parallel(n_jobs=-1)]: Done  16 tasks      | elapsed:    0.2s\n",
      "[Parallel(n_jobs=-1)]: Done 1648 tasks      | elapsed:    8.4s\n",
      "[Parallel(n_jobs=-1)]: Done 2750 out of 2750 | elapsed:   14.5s finished\n",
      "[Parallel(n_jobs=-1)]: Using backend LokyBackend with 8 concurrent workers.\n"
     ]
    },
    {
     "name": "stdout",
     "output_type": "stream",
     "text": [
      "alpha: {'learning_rate': 0.2, 'loss': 'huber', 'max_depth': 2, 'n_estimators': 8}\n",
      "11 Kansas City Chiefs: 2017-11-01 00:00:00\n",
      "Fitting 5 folds for each of 550 candidates, totalling 2750 fits\n"
     ]
    },
    {
     "name": "stderr",
     "output_type": "stream",
     "text": [
      "[Parallel(n_jobs=-1)]: Done  16 tasks      | elapsed:    0.2s\n",
      "[Parallel(n_jobs=-1)]: Done 1684 tasks      | elapsed:    8.9s\n",
      "[Parallel(n_jobs=-1)]: Done 2750 out of 2750 | elapsed:   15.2s finished\n",
      "[Parallel(n_jobs=-1)]: Using backend LokyBackend with 8 concurrent workers.\n"
     ]
    },
    {
     "name": "stdout",
     "output_type": "stream",
     "text": [
      "alpha: {'learning_rate': 0.4, 'loss': 'ls', 'max_depth': 4, 'n_estimators': 8}\n",
      "11 Kansas City Chiefs: 2017-12-01 00:00:00\n",
      "Fitting 5 folds for each of 550 candidates, totalling 2750 fits\n"
     ]
    },
    {
     "name": "stderr",
     "output_type": "stream",
     "text": [
      "[Parallel(n_jobs=-1)]: Done  16 tasks      | elapsed:    0.2s\n",
      "[Parallel(n_jobs=-1)]: Done 1446 tasks      | elapsed:    7.9s\n",
      "[Parallel(n_jobs=-1)]: Done 2750 out of 2750 | elapsed:   15.4s finished\n",
      "[Parallel(n_jobs=-1)]: Using backend LokyBackend with 8 concurrent workers.\n"
     ]
    },
    {
     "name": "stdout",
     "output_type": "stream",
     "text": [
      "alpha: {'learning_rate': 0.3, 'loss': 'ls', 'max_depth': 8, 'n_estimators': 2}\n",
      "11 Kansas City Chiefs: 2018-09-01 00:00:00\n",
      "Fitting 5 folds for each of 550 candidates, totalling 2750 fits\n"
     ]
    },
    {
     "name": "stderr",
     "output_type": "stream",
     "text": [
      "[Parallel(n_jobs=-1)]: Done  16 tasks      | elapsed:    0.1s\n",
      "[Parallel(n_jobs=-1)]: Done 1168 tasks      | elapsed:    6.6s\n",
      "[Parallel(n_jobs=-1)]: Done 2750 out of 2750 | elapsed:   16.6s finished\n",
      "[Parallel(n_jobs=-1)]: Using backend LokyBackend with 8 concurrent workers.\n"
     ]
    },
    {
     "name": "stdout",
     "output_type": "stream",
     "text": [
      "alpha: {'learning_rate': 0.15, 'loss': 'huber', 'max_depth': 4, 'n_estimators': 4}\n",
      "11 Kansas City Chiefs: 2018-10-01 00:00:00\n",
      "Fitting 5 folds for each of 550 candidates, totalling 2750 fits\n"
     ]
    },
    {
     "name": "stderr",
     "output_type": "stream",
     "text": [
      "[Parallel(n_jobs=-1)]: Done  16 tasks      | elapsed:    0.2s\n",
      "[Parallel(n_jobs=-1)]: Done 1672 tasks      | elapsed:    8.8s\n",
      "[Parallel(n_jobs=-1)]: Done 2750 out of 2750 | elapsed:   14.6s finished\n",
      "[Parallel(n_jobs=-1)]: Using backend LokyBackend with 8 concurrent workers.\n"
     ]
    },
    {
     "name": "stdout",
     "output_type": "stream",
     "text": [
      "alpha: {'learning_rate': 0.1, 'loss': 'huber', 'max_depth': 4, 'n_estimators': 6}\n",
      "11 Kansas City Chiefs: 2018-11-01 00:00:00\n",
      "Fitting 5 folds for each of 550 candidates, totalling 2750 fits\n"
     ]
    },
    {
     "name": "stderr",
     "output_type": "stream",
     "text": [
      "[Parallel(n_jobs=-1)]: Done  16 tasks      | elapsed:    0.2s\n",
      "[Parallel(n_jobs=-1)]: Done 1684 tasks      | elapsed:    8.7s\n",
      "[Parallel(n_jobs=-1)]: Done 2750 out of 2750 | elapsed:   14.5s finished\n",
      "[Parallel(n_jobs=-1)]: Using backend LokyBackend with 8 concurrent workers.\n"
     ]
    },
    {
     "name": "stdout",
     "output_type": "stream",
     "text": [
      "alpha: {'learning_rate': 0.15, 'loss': 'ls', 'max_depth': 2, 'n_estimators': 4}\n",
      "11 Kansas City Chiefs: 2018-12-01 00:00:00\n",
      "Fitting 5 folds for each of 550 candidates, totalling 2750 fits\n"
     ]
    },
    {
     "name": "stderr",
     "output_type": "stream",
     "text": [
      "[Parallel(n_jobs=-1)]: Done  16 tasks      | elapsed:    0.2s\n",
      "[Parallel(n_jobs=-1)]: Done 1648 tasks      | elapsed:    8.2s\n",
      "[Parallel(n_jobs=-1)]: Done 2750 out of 2750 | elapsed:   14.3s finished\n",
      "[Parallel(n_jobs=-1)]: Using backend LokyBackend with 8 concurrent workers.\n"
     ]
    },
    {
     "name": "stdout",
     "output_type": "stream",
     "text": [
      "alpha: {'learning_rate': 0.15, 'loss': 'ls', 'max_depth': 6, 'n_estimators': 10}\n",
      "11 Kansas City Chiefs: 2019-09-01 00:00:00\n",
      "Fitting 5 folds for each of 550 candidates, totalling 2750 fits\n"
     ]
    },
    {
     "name": "stderr",
     "output_type": "stream",
     "text": [
      "[Parallel(n_jobs=-1)]: Done  16 tasks      | elapsed:    0.1s\n",
      "[Parallel(n_jobs=-1)]: Done 1952 tasks      | elapsed:    9.9s\n",
      "[Parallel(n_jobs=-1)]: Done 2750 out of 2750 | elapsed:   14.2s finished\n",
      "[Parallel(n_jobs=-1)]: Using backend LokyBackend with 8 concurrent workers.\n"
     ]
    },
    {
     "name": "stdout",
     "output_type": "stream",
     "text": [
      "alpha: {'learning_rate': 0.4, 'loss': 'ls', 'max_depth': 2, 'n_estimators': 2}\n",
      "11 Kansas City Chiefs: 2019-10-01 00:00:00\n",
      "Fitting 5 folds for each of 550 candidates, totalling 2750 fits\n"
     ]
    },
    {
     "name": "stderr",
     "output_type": "stream",
     "text": [
      "[Parallel(n_jobs=-1)]: Done  16 tasks      | elapsed:    0.1s\n",
      "[Parallel(n_jobs=-1)]: Done 1936 tasks      | elapsed:   10.1s\n",
      "[Parallel(n_jobs=-1)]: Done 2750 out of 2750 | elapsed:   14.6s finished\n",
      "[Parallel(n_jobs=-1)]: Using backend LokyBackend with 8 concurrent workers.\n"
     ]
    },
    {
     "name": "stdout",
     "output_type": "stream",
     "text": [
      "alpha: {'learning_rate': 0.3, 'loss': 'huber', 'max_depth': 2, 'n_estimators': 4}\n",
      "11 Kansas City Chiefs: 2019-11-01 00:00:00\n",
      "Fitting 5 folds for each of 550 candidates, totalling 2750 fits\n"
     ]
    },
    {
     "name": "stderr",
     "output_type": "stream",
     "text": [
      "[Parallel(n_jobs=-1)]: Done  16 tasks      | elapsed:    0.2s\n",
      "[Parallel(n_jobs=-1)]: Done 1648 tasks      | elapsed:    8.6s\n",
      "[Parallel(n_jobs=-1)]: Done 2750 out of 2750 | elapsed:   15.0s finished\n",
      "[Parallel(n_jobs=-1)]: Using backend LokyBackend with 8 concurrent workers.\n"
     ]
    },
    {
     "name": "stdout",
     "output_type": "stream",
     "text": [
      "alpha: {'learning_rate': 0.2, 'loss': 'ls', 'max_depth': 2, 'n_estimators': 10}\n",
      "11 Kansas City Chiefs: 2019-12-01 00:00:00\n",
      "Fitting 5 folds for each of 550 candidates, totalling 2750 fits\n"
     ]
    },
    {
     "name": "stderr",
     "output_type": "stream",
     "text": [
      "[Parallel(n_jobs=-1)]: Done  16 tasks      | elapsed:    0.2s\n",
      "[Parallel(n_jobs=-1)]: Done 1578 tasks      | elapsed:    8.3s\n",
      "[Parallel(n_jobs=-1)]: Done 2750 out of 2750 | elapsed:   15.0s finished\n",
      "[Parallel(n_jobs=-1)]: Using backend LokyBackend with 8 concurrent workers.\n"
     ]
    },
    {
     "name": "stdout",
     "output_type": "stream",
     "text": [
      "alpha: {'learning_rate': 0.2, 'loss': 'huber', 'max_depth': 10, 'n_estimators': 2}\n",
      "12 Denver Broncos: 2012-09-01 00:00:00\n",
      "Fitting 5 folds for each of 550 candidates, totalling 2750 fits\n"
     ]
    },
    {
     "name": "stderr",
     "output_type": "stream",
     "text": [
      "[Parallel(n_jobs=-1)]: Done  16 tasks      | elapsed:    0.2s\n",
      "[Parallel(n_jobs=-1)]: Done 1660 tasks      | elapsed:    8.2s\n",
      "[Parallel(n_jobs=-1)]: Done 2750 out of 2750 | elapsed:   14.8s finished\n",
      "[Parallel(n_jobs=-1)]: Using backend LokyBackend with 8 concurrent workers.\n"
     ]
    },
    {
     "name": "stdout",
     "output_type": "stream",
     "text": [
      "alpha: {'learning_rate': 0.3, 'loss': 'ls', 'max_depth': 2, 'n_estimators': 10}\n",
      "12 Denver Broncos: 2012-10-01 00:00:00\n",
      "Fitting 5 folds for each of 550 candidates, totalling 2750 fits\n"
     ]
    },
    {
     "name": "stderr",
     "output_type": "stream",
     "text": [
      "[Parallel(n_jobs=-1)]: Done  16 tasks      | elapsed:    0.2s\n",
      "[Parallel(n_jobs=-1)]: Done 1567 tasks      | elapsed:    8.0s\n",
      "[Parallel(n_jobs=-1)]: Done 2750 out of 2750 | elapsed:   14.4s finished\n",
      "[Parallel(n_jobs=-1)]: Using backend LokyBackend with 8 concurrent workers.\n"
     ]
    },
    {
     "name": "stdout",
     "output_type": "stream",
     "text": [
      "alpha: {'learning_rate': 0.3, 'loss': 'ls', 'max_depth': 2, 'n_estimators': 10}\n",
      "12 Denver Broncos: 2012-11-01 00:00:00\n",
      "Fitting 5 folds for each of 550 candidates, totalling 2750 fits\n"
     ]
    },
    {
     "name": "stderr",
     "output_type": "stream",
     "text": [
      "[Parallel(n_jobs=-1)]: Done  16 tasks      | elapsed:    0.1s\n",
      "[Parallel(n_jobs=-1)]: Done 1567 tasks      | elapsed:    8.2s\n",
      "[Parallel(n_jobs=-1)]: Done 2750 out of 2750 | elapsed:   15.5s finished\n",
      "[Parallel(n_jobs=-1)]: Using backend LokyBackend with 8 concurrent workers.\n"
     ]
    },
    {
     "name": "stdout",
     "output_type": "stream",
     "text": [
      "alpha: {'learning_rate': 0.3, 'loss': 'ls', 'max_depth': 2, 'n_estimators': 8}\n",
      "12 Denver Broncos: 2012-12-01 00:00:00\n",
      "Fitting 5 folds for each of 550 candidates, totalling 2750 fits\n"
     ]
    },
    {
     "name": "stderr",
     "output_type": "stream",
     "text": [
      "[Parallel(n_jobs=-1)]: Done  16 tasks      | elapsed:    0.2s\n",
      "[Parallel(n_jobs=-1)]: Done 1684 tasks      | elapsed:    8.7s\n",
      "[Parallel(n_jobs=-1)]: Done 2750 out of 2750 | elapsed:   14.6s finished\n",
      "[Parallel(n_jobs=-1)]: Using backend LokyBackend with 8 concurrent workers.\n"
     ]
    },
    {
     "name": "stdout",
     "output_type": "stream",
     "text": [
      "alpha: {'learning_rate': 0.3, 'loss': 'huber', 'max_depth': 2, 'n_estimators': 10}\n",
      "12 Denver Broncos: 2013-09-01 00:00:00\n",
      "Fitting 5 folds for each of 550 candidates, totalling 2750 fits\n"
     ]
    },
    {
     "name": "stderr",
     "output_type": "stream",
     "text": [
      "[Parallel(n_jobs=-1)]: Done  16 tasks      | elapsed:    0.1s\n",
      "[Parallel(n_jobs=-1)]: Done 1648 tasks      | elapsed:    8.3s\n",
      "[Parallel(n_jobs=-1)]: Done 2750 out of 2750 | elapsed:   14.7s finished\n",
      "[Parallel(n_jobs=-1)]: Using backend LokyBackend with 8 concurrent workers.\n"
     ]
    },
    {
     "name": "stdout",
     "output_type": "stream",
     "text": [
      "alpha: {'learning_rate': 0.1, 'loss': 'huber', 'max_depth': 4, 'n_estimators': 4}\n",
      "12 Denver Broncos: 2013-10-01 00:00:00\n",
      "Fitting 5 folds for each of 550 candidates, totalling 2750 fits\n"
     ]
    },
    {
     "name": "stderr",
     "output_type": "stream",
     "text": [
      "[Parallel(n_jobs=-1)]: Done  16 tasks      | elapsed:    0.1s\n",
      "[Parallel(n_jobs=-1)]: Done 1567 tasks      | elapsed:    7.9s\n",
      "[Parallel(n_jobs=-1)]: Done 2750 out of 2750 | elapsed:   14.7s finished\n",
      "[Parallel(n_jobs=-1)]: Using backend LokyBackend with 8 concurrent workers.\n"
     ]
    },
    {
     "name": "stdout",
     "output_type": "stream",
     "text": [
      "alpha: {'learning_rate': 0.2, 'loss': 'huber', 'max_depth': 2, 'n_estimators': 10}\n",
      "12 Denver Broncos: 2013-11-01 00:00:00\n",
      "Fitting 5 folds for each of 550 candidates, totalling 2750 fits\n"
     ]
    },
    {
     "name": "stderr",
     "output_type": "stream",
     "text": [
      "[Parallel(n_jobs=-1)]: Done  16 tasks      | elapsed:    0.2s\n",
      "[Parallel(n_jobs=-1)]: Done 1648 tasks      | elapsed:    8.8s\n",
      "[Parallel(n_jobs=-1)]: Done 2750 out of 2750 | elapsed:   15.3s finished\n",
      "[Parallel(n_jobs=-1)]: Using backend LokyBackend with 8 concurrent workers.\n"
     ]
    },
    {
     "name": "stdout",
     "output_type": "stream",
     "text": [
      "alpha: {'learning_rate': 0.15, 'loss': 'huber', 'max_depth': 2, 'n_estimators': 10}\n",
      "12 Denver Broncos: 2013-12-01 00:00:00\n",
      "Fitting 5 folds for each of 550 candidates, totalling 2750 fits\n"
     ]
    },
    {
     "name": "stderr",
     "output_type": "stream",
     "text": [
      "[Parallel(n_jobs=-1)]: Done  16 tasks      | elapsed:    0.2s\n",
      "[Parallel(n_jobs=-1)]: Done 1672 tasks      | elapsed:    8.8s\n",
      "[Parallel(n_jobs=-1)]: Done 2750 out of 2750 | elapsed:   14.9s finished\n",
      "[Parallel(n_jobs=-1)]: Using backend LokyBackend with 8 concurrent workers.\n"
     ]
    },
    {
     "name": "stdout",
     "output_type": "stream",
     "text": [
      "alpha: {'learning_rate': 0.3, 'loss': 'huber', 'max_depth': 2, 'n_estimators': 8}\n",
      "12 Denver Broncos: 2014-09-01 00:00:00\n",
      "Fitting 5 folds for each of 550 candidates, totalling 2750 fits\n"
     ]
    },
    {
     "name": "stderr",
     "output_type": "stream",
     "text": [
      "[Parallel(n_jobs=-1)]: Done  16 tasks      | elapsed:    0.1s\n",
      "[Parallel(n_jobs=-1)]: Done 1168 tasks      | elapsed:    5.9s\n",
      "[Parallel(n_jobs=-1)]: Done 2750 out of 2750 | elapsed:   15.1s finished\n",
      "[Parallel(n_jobs=-1)]: Using backend LokyBackend with 8 concurrent workers.\n"
     ]
    },
    {
     "name": "stdout",
     "output_type": "stream",
     "text": [
      "alpha: {'learning_rate': 0.15, 'loss': 'huber', 'max_depth': 2, 'n_estimators': 10}\n",
      "12 Denver Broncos: 2014-10-01 00:00:00\n",
      "Fitting 5 folds for each of 550 candidates, totalling 2750 fits\n"
     ]
    },
    {
     "name": "stderr",
     "output_type": "stream",
     "text": [
      "[Parallel(n_jobs=-1)]: Done  16 tasks      | elapsed:    0.1s\n",
      "[Parallel(n_jobs=-1)]: Done 1648 tasks      | elapsed:    8.4s\n",
      "[Parallel(n_jobs=-1)]: Done 2750 out of 2750 | elapsed:   14.6s finished\n",
      "[Parallel(n_jobs=-1)]: Using backend LokyBackend with 8 concurrent workers.\n"
     ]
    },
    {
     "name": "stdout",
     "output_type": "stream",
     "text": [
      "alpha: {'learning_rate': 0.4, 'loss': 'huber', 'max_depth': 2, 'n_estimators': 6}\n",
      "12 Denver Broncos: 2014-11-01 00:00:00\n",
      "Fitting 5 folds for each of 550 candidates, totalling 2750 fits\n"
     ]
    },
    {
     "name": "stderr",
     "output_type": "stream",
     "text": [
      "[Parallel(n_jobs=-1)]: Done  16 tasks      | elapsed:    0.1s\n",
      "[Parallel(n_jobs=-1)]: Done 1648 tasks      | elapsed:    8.5s\n",
      "[Parallel(n_jobs=-1)]: Done 2750 out of 2750 | elapsed:   14.9s finished\n",
      "[Parallel(n_jobs=-1)]: Using backend LokyBackend with 8 concurrent workers.\n"
     ]
    },
    {
     "name": "stdout",
     "output_type": "stream",
     "text": [
      "alpha: {'learning_rate': 0.3, 'loss': 'ls', 'max_depth': 4, 'n_estimators': 8}\n",
      "12 Denver Broncos: 2014-12-01 00:00:00\n",
      "Fitting 5 folds for each of 550 candidates, totalling 2750 fits\n"
     ]
    },
    {
     "name": "stderr",
     "output_type": "stream",
     "text": [
      "[Parallel(n_jobs=-1)]: Done  16 tasks      | elapsed:    0.1s\n",
      "[Parallel(n_jobs=-1)]: Done 1660 tasks      | elapsed:    8.3s\n",
      "[Parallel(n_jobs=-1)]: Done 2750 out of 2750 | elapsed:   14.6s finished\n",
      "[Parallel(n_jobs=-1)]: Using backend LokyBackend with 8 concurrent workers.\n"
     ]
    },
    {
     "name": "stdout",
     "output_type": "stream",
     "text": [
      "alpha: {'learning_rate': 0.6, 'loss': 'ls', 'max_depth': 10, 'n_estimators': 2}\n",
      "12 Denver Broncos: 2015-09-01 00:00:00\n",
      "Fitting 5 folds for each of 550 candidates, totalling 2750 fits\n"
     ]
    },
    {
     "name": "stderr",
     "output_type": "stream",
     "text": [
      "[Parallel(n_jobs=-1)]: Done  16 tasks      | elapsed:    0.2s\n",
      "[Parallel(n_jobs=-1)]: Done 1648 tasks      | elapsed:    8.5s\n",
      "[Parallel(n_jobs=-1)]: Done 2750 out of 2750 | elapsed:   14.9s finished\n",
      "[Parallel(n_jobs=-1)]: Using backend LokyBackend with 8 concurrent workers.\n"
     ]
    },
    {
     "name": "stdout",
     "output_type": "stream",
     "text": [
      "alpha: {'learning_rate': 0.15, 'loss': 'ls', 'max_depth': 2, 'n_estimators': 10}\n",
      "12 Denver Broncos: 2015-10-01 00:00:00\n",
      "Fitting 5 folds for each of 550 candidates, totalling 2750 fits\n"
     ]
    },
    {
     "name": "stderr",
     "output_type": "stream",
     "text": [
      "[Parallel(n_jobs=-1)]: Done  16 tasks      | elapsed:    0.2s\n",
      "[Parallel(n_jobs=-1)]: Done 1648 tasks      | elapsed:    8.7s\n",
      "[Parallel(n_jobs=-1)]: Done 2750 out of 2750 | elapsed:   15.3s finished\n",
      "[Parallel(n_jobs=-1)]: Using backend LokyBackend with 8 concurrent workers.\n"
     ]
    },
    {
     "name": "stdout",
     "output_type": "stream",
     "text": [
      "alpha: {'learning_rate': 0.15, 'loss': 'ls', 'max_depth': 8, 'n_estimators': 8}\n",
      "12 Denver Broncos: 2015-11-01 00:00:00\n",
      "Fitting 5 folds for each of 550 candidates, totalling 2750 fits\n"
     ]
    },
    {
     "name": "stderr",
     "output_type": "stream",
     "text": [
      "[Parallel(n_jobs=-1)]: Done  16 tasks      | elapsed:    0.1s\n",
      "[Parallel(n_jobs=-1)]: Done 1744 tasks      | elapsed:    9.2s\n",
      "[Parallel(n_jobs=-1)]: Done 2750 out of 2750 | elapsed:   14.9s finished\n",
      "[Parallel(n_jobs=-1)]: Using backend LokyBackend with 8 concurrent workers.\n"
     ]
    },
    {
     "name": "stdout",
     "output_type": "stream",
     "text": [
      "alpha: {'learning_rate': 0.3, 'loss': 'ls', 'max_depth': 2, 'n_estimators': 10}\n",
      "12 Denver Broncos: 2015-12-01 00:00:00\n",
      "Fitting 5 folds for each of 550 candidates, totalling 2750 fits\n"
     ]
    },
    {
     "name": "stderr",
     "output_type": "stream",
     "text": [
      "[Parallel(n_jobs=-1)]: Done  16 tasks      | elapsed:    0.1s\n",
      "[Parallel(n_jobs=-1)]: Done 1589 tasks      | elapsed:    8.0s\n",
      "[Parallel(n_jobs=-1)]: Done 2750 out of 2750 | elapsed:   14.5s finished\n",
      "[Parallel(n_jobs=-1)]: Using backend LokyBackend with 8 concurrent workers.\n"
     ]
    },
    {
     "name": "stdout",
     "output_type": "stream",
     "text": [
      "alpha: {'learning_rate': 0.5, 'loss': 'ls', 'max_depth': 2, 'n_estimators': 8}\n",
      "12 Denver Broncos: 2016-09-01 00:00:00\n",
      "Fitting 5 folds for each of 550 candidates, totalling 2750 fits\n"
     ]
    },
    {
     "name": "stderr",
     "output_type": "stream",
     "text": [
      "[Parallel(n_jobs=-1)]: Done  16 tasks      | elapsed:    0.1s\n",
      "[Parallel(n_jobs=-1)]: Done 1168 tasks      | elapsed:    6.3s\n",
      "[Parallel(n_jobs=-1)]: Done 2750 out of 2750 | elapsed:   15.7s finished\n",
      "[Parallel(n_jobs=-1)]: Using backend LokyBackend with 8 concurrent workers.\n"
     ]
    },
    {
     "name": "stdout",
     "output_type": "stream",
     "text": [
      "alpha: {'learning_rate': 0.4, 'loss': 'ls', 'max_depth': 2, 'n_estimators': 10}\n",
      "12 Denver Broncos: 2016-10-01 00:00:00\n",
      "Fitting 5 folds for each of 550 candidates, totalling 2750 fits\n"
     ]
    },
    {
     "name": "stderr",
     "output_type": "stream",
     "text": [
      "[Parallel(n_jobs=-1)]: Done  16 tasks      | elapsed:    0.1s\n",
      "[Parallel(n_jobs=-1)]: Done 1648 tasks      | elapsed:    8.6s\n",
      "[Parallel(n_jobs=-1)]: Done 2750 out of 2750 | elapsed:   15.0s finished\n",
      "[Parallel(n_jobs=-1)]: Using backend LokyBackend with 8 concurrent workers.\n"
     ]
    },
    {
     "name": "stdout",
     "output_type": "stream",
     "text": [
      "alpha: {'learning_rate': 0.3, 'loss': 'ls', 'max_depth': 2, 'n_estimators': 10}\n",
      "12 Denver Broncos: 2016-11-01 00:00:00\n",
      "Fitting 5 folds for each of 550 candidates, totalling 2750 fits\n"
     ]
    },
    {
     "name": "stderr",
     "output_type": "stream",
     "text": [
      "[Parallel(n_jobs=-1)]: Done  16 tasks      | elapsed:    0.2s\n",
      "[Parallel(n_jobs=-1)]: Done 1624 tasks      | elapsed:    8.3s\n",
      "[Parallel(n_jobs=-1)]: Done 2750 out of 2750 | elapsed:   15.0s finished\n",
      "[Parallel(n_jobs=-1)]: Using backend LokyBackend with 8 concurrent workers.\n"
     ]
    },
    {
     "name": "stdout",
     "output_type": "stream",
     "text": [
      "alpha: {'learning_rate': 0.5, 'loss': 'huber', 'max_depth': 4, 'n_estimators': 2}\n",
      "12 Denver Broncos: 2016-12-01 00:00:00\n",
      "Fitting 5 folds for each of 550 candidates, totalling 2750 fits\n"
     ]
    },
    {
     "name": "stderr",
     "output_type": "stream",
     "text": [
      "[Parallel(n_jobs=-1)]: Done  16 tasks      | elapsed:    0.2s\n",
      "[Parallel(n_jobs=-1)]: Done 1612 tasks      | elapsed:    8.4s\n",
      "[Parallel(n_jobs=-1)]: Done 2750 out of 2750 | elapsed:   15.1s finished\n",
      "[Parallel(n_jobs=-1)]: Using backend LokyBackend with 8 concurrent workers.\n"
     ]
    },
    {
     "name": "stdout",
     "output_type": "stream",
     "text": [
      "alpha: {'learning_rate': 0.3, 'loss': 'ls', 'max_depth': 2, 'n_estimators': 10}\n",
      "12 Denver Broncos: 2017-09-01 00:00:00\n",
      "Fitting 5 folds for each of 550 candidates, totalling 2750 fits\n"
     ]
    },
    {
     "name": "stderr",
     "output_type": "stream",
     "text": [
      "[Parallel(n_jobs=-1)]: Done  16 tasks      | elapsed:    0.2s\n",
      "[Parallel(n_jobs=-1)]: Done 1706 tasks      | elapsed:    9.9s\n",
      "[Parallel(n_jobs=-1)]: Done 2750 out of 2750 | elapsed:   16.3s finished\n",
      "[Parallel(n_jobs=-1)]: Using backend LokyBackend with 8 concurrent workers.\n"
     ]
    },
    {
     "name": "stdout",
     "output_type": "stream",
     "text": [
      "alpha: {'learning_rate': 0.5, 'loss': 'ls', 'max_depth': 4, 'n_estimators': 4}\n",
      "12 Denver Broncos: 2017-10-01 00:00:00\n",
      "Fitting 5 folds for each of 550 candidates, totalling 2750 fits\n"
     ]
    },
    {
     "name": "stderr",
     "output_type": "stream",
     "text": [
      "[Parallel(n_jobs=-1)]: Done  16 tasks      | elapsed:    0.2s\n",
      "[Parallel(n_jobs=-1)]: Done 1636 tasks      | elapsed:    8.7s\n",
      "[Parallel(n_jobs=-1)]: Done 2750 out of 2750 | elapsed:   15.3s finished\n",
      "[Parallel(n_jobs=-1)]: Using backend LokyBackend with 8 concurrent workers.\n"
     ]
    },
    {
     "name": "stdout",
     "output_type": "stream",
     "text": [
      "alpha: {'learning_rate': 0.4, 'loss': 'huber', 'max_depth': 2, 'n_estimators': 2}\n",
      "12 Denver Broncos: 2017-11-01 00:00:00\n",
      "Fitting 5 folds for each of 550 candidates, totalling 2750 fits\n"
     ]
    },
    {
     "name": "stderr",
     "output_type": "stream",
     "text": [
      "[Parallel(n_jobs=-1)]: Done  16 tasks      | elapsed:    0.2s\n",
      "[Parallel(n_jobs=-1)]: Done 1648 tasks      | elapsed:    9.0s\n",
      "[Parallel(n_jobs=-1)]: Done 2750 out of 2750 | elapsed:   15.5s finished\n",
      "[Parallel(n_jobs=-1)]: Using backend LokyBackend with 8 concurrent workers.\n"
     ]
    },
    {
     "name": "stdout",
     "output_type": "stream",
     "text": [
      "alpha: {'learning_rate': 0.3, 'loss': 'ls', 'max_depth': 2, 'n_estimators': 8}\n",
      "12 Denver Broncos: 2017-12-01 00:00:00\n",
      "Fitting 5 folds for each of 550 candidates, totalling 2750 fits\n"
     ]
    },
    {
     "name": "stderr",
     "output_type": "stream",
     "text": [
      "[Parallel(n_jobs=-1)]: Done  16 tasks      | elapsed:    0.2s\n",
      "[Parallel(n_jobs=-1)]: Done 1660 tasks      | elapsed:    8.5s\n",
      "[Parallel(n_jobs=-1)]: Done 2750 out of 2750 | elapsed:   14.9s finished\n",
      "[Parallel(n_jobs=-1)]: Using backend LokyBackend with 8 concurrent workers.\n"
     ]
    },
    {
     "name": "stdout",
     "output_type": "stream",
     "text": [
      "alpha: {'learning_rate': 0.3, 'loss': 'ls', 'max_depth': 2, 'n_estimators': 10}\n",
      "12 Denver Broncos: 2018-09-01 00:00:00\n",
      "Fitting 5 folds for each of 550 candidates, totalling 2750 fits\n"
     ]
    },
    {
     "name": "stderr",
     "output_type": "stream",
     "text": [
      "[Parallel(n_jobs=-1)]: Done  16 tasks      | elapsed:    0.1s\n",
      "[Parallel(n_jobs=-1)]: Done 1578 tasks      | elapsed:    8.6s\n",
      "[Parallel(n_jobs=-1)]: Done 2750 out of 2750 | elapsed:   15.4s finished\n",
      "[Parallel(n_jobs=-1)]: Using backend LokyBackend with 8 concurrent workers.\n"
     ]
    },
    {
     "name": "stdout",
     "output_type": "stream",
     "text": [
      "alpha: {'learning_rate': 0.3, 'loss': 'ls', 'max_depth': 2, 'n_estimators': 6}\n",
      "12 Denver Broncos: 2018-10-01 00:00:00\n",
      "Fitting 5 folds for each of 550 candidates, totalling 2750 fits\n"
     ]
    },
    {
     "name": "stderr",
     "output_type": "stream",
     "text": [
      "[Parallel(n_jobs=-1)]: Done  16 tasks      | elapsed:    0.2s\n",
      "[Parallel(n_jobs=-1)]: Done 1660 tasks      | elapsed:    8.5s\n",
      "[Parallel(n_jobs=-1)]: Done 2750 out of 2750 | elapsed:   14.8s finished\n",
      "[Parallel(n_jobs=-1)]: Using backend LokyBackend with 8 concurrent workers.\n"
     ]
    },
    {
     "name": "stdout",
     "output_type": "stream",
     "text": [
      "alpha: {'learning_rate': 0.4, 'loss': 'huber', 'max_depth': 2, 'n_estimators': 8}\n",
      "12 Denver Broncos: 2018-11-01 00:00:00\n",
      "Fitting 5 folds for each of 550 candidates, totalling 2750 fits\n"
     ]
    },
    {
     "name": "stderr",
     "output_type": "stream",
     "text": [
      "[Parallel(n_jobs=-1)]: Done  16 tasks      | elapsed:    0.2s\n",
      "[Parallel(n_jobs=-1)]: Done 1648 tasks      | elapsed:    8.2s\n",
      "[Parallel(n_jobs=-1)]: Done 2750 out of 2750 | elapsed:   14.4s finished\n",
      "[Parallel(n_jobs=-1)]: Using backend LokyBackend with 8 concurrent workers.\n"
     ]
    },
    {
     "name": "stdout",
     "output_type": "stream",
     "text": [
      "alpha: {'learning_rate': 0.3, 'loss': 'ls', 'max_depth': 2, 'n_estimators': 8}\n",
      "12 Denver Broncos: 2018-12-01 00:00:00\n",
      "Fitting 5 folds for each of 550 candidates, totalling 2750 fits\n"
     ]
    },
    {
     "name": "stderr",
     "output_type": "stream",
     "text": [
      "[Parallel(n_jobs=-1)]: Done  16 tasks      | elapsed:    0.1s\n",
      "[Parallel(n_jobs=-1)]: Done 1648 tasks      | elapsed:    8.3s\n",
      "[Parallel(n_jobs=-1)]: Done 2750 out of 2750 | elapsed:   14.6s finished\n",
      "[Parallel(n_jobs=-1)]: Using backend LokyBackend with 8 concurrent workers.\n"
     ]
    },
    {
     "name": "stdout",
     "output_type": "stream",
     "text": [
      "alpha: {'learning_rate': 0.3, 'loss': 'ls', 'max_depth': 2, 'n_estimators': 6}\n",
      "12 Denver Broncos: 2019-09-01 00:00:00\n",
      "Fitting 5 folds for each of 550 candidates, totalling 2750 fits\n"
     ]
    },
    {
     "name": "stderr",
     "output_type": "stream",
     "text": [
      "[Parallel(n_jobs=-1)]: Done  16 tasks      | elapsed:    0.1s\n",
      "[Parallel(n_jobs=-1)]: Done 1566 tasks      | elapsed:    8.5s\n",
      "[Parallel(n_jobs=-1)]: Done 2750 out of 2750 | elapsed:   15.3s finished\n",
      "[Parallel(n_jobs=-1)]: Using backend LokyBackend with 8 concurrent workers.\n"
     ]
    },
    {
     "name": "stdout",
     "output_type": "stream",
     "text": [
      "alpha: {'learning_rate': 0.2, 'loss': 'ls', 'max_depth': 8, 'n_estimators': 6}\n",
      "12 Denver Broncos: 2019-10-01 00:00:00\n",
      "Fitting 5 folds for each of 550 candidates, totalling 2750 fits\n"
     ]
    },
    {
     "name": "stderr",
     "output_type": "stream",
     "text": [
      "[Parallel(n_jobs=-1)]: Done  16 tasks      | elapsed:    0.1s\n",
      "[Parallel(n_jobs=-1)]: Done 1744 tasks      | elapsed:    8.7s\n",
      "[Parallel(n_jobs=-1)]: Done 2750 out of 2750 | elapsed:   14.2s finished\n",
      "[Parallel(n_jobs=-1)]: Using backend LokyBackend with 8 concurrent workers.\n"
     ]
    },
    {
     "name": "stdout",
     "output_type": "stream",
     "text": [
      "alpha: {'learning_rate': 0.4, 'loss': 'huber', 'max_depth': 2, 'n_estimators': 10}\n",
      "12 Denver Broncos: 2019-11-01 00:00:00\n",
      "Fitting 5 folds for each of 550 candidates, totalling 2750 fits\n"
     ]
    },
    {
     "name": "stderr",
     "output_type": "stream",
     "text": [
      "[Parallel(n_jobs=-1)]: Done  16 tasks      | elapsed:    0.2s\n",
      "[Parallel(n_jobs=-1)]: Done 1624 tasks      | elapsed:    8.4s\n",
      "[Parallel(n_jobs=-1)]: Done 2750 out of 2750 | elapsed:   14.9s finished\n",
      "[Parallel(n_jobs=-1)]: Using backend LokyBackend with 8 concurrent workers.\n"
     ]
    },
    {
     "name": "stdout",
     "output_type": "stream",
     "text": [
      "alpha: {'learning_rate': 0.6, 'loss': 'huber', 'max_depth': 2, 'n_estimators': 2}\n",
      "12 Denver Broncos: 2019-12-01 00:00:00\n",
      "Fitting 5 folds for each of 550 candidates, totalling 2750 fits\n"
     ]
    },
    {
     "name": "stderr",
     "output_type": "stream",
     "text": [
      "[Parallel(n_jobs=-1)]: Done  16 tasks      | elapsed:    0.2s\n",
      "[Parallel(n_jobs=-1)]: Done 1684 tasks      | elapsed:    8.7s\n",
      "[Parallel(n_jobs=-1)]: Done 2750 out of 2750 | elapsed:   14.5s finished\n",
      "[Parallel(n_jobs=-1)]: Using backend LokyBackend with 8 concurrent workers.\n"
     ]
    },
    {
     "name": "stdout",
     "output_type": "stream",
     "text": [
      "alpha: {'learning_rate': 0.3, 'loss': 'huber', 'max_depth': 2, 'n_estimators': 6}\n",
      "13 Los Angeles Rams: 2012-09-01 00:00:00\n",
      "Fitting 5 folds for each of 550 candidates, totalling 2750 fits\n"
     ]
    },
    {
     "name": "stderr",
     "output_type": "stream",
     "text": [
      "[Parallel(n_jobs=-1)]: Done  16 tasks      | elapsed:    0.2s\n",
      "[Parallel(n_jobs=-1)]: Done 1556 tasks      | elapsed:    8.1s\n",
      "[Parallel(n_jobs=-1)]: Done 2750 out of 2750 | elapsed:   14.6s finished\n",
      "[Parallel(n_jobs=-1)]: Using backend LokyBackend with 8 concurrent workers.\n"
     ]
    },
    {
     "name": "stdout",
     "output_type": "stream",
     "text": [
      "alpha: {'learning_rate': 0.3, 'loss': 'ls', 'max_depth': 2, 'n_estimators': 8}\n",
      "13 Los Angeles Rams: 2012-10-01 00:00:00\n",
      "Fitting 5 folds for each of 550 candidates, totalling 2750 fits\n"
     ]
    },
    {
     "name": "stderr",
     "output_type": "stream",
     "text": [
      "[Parallel(n_jobs=-1)]: Done  16 tasks      | elapsed:    0.1s\n",
      "[Parallel(n_jobs=-1)]: Done 1168 tasks      | elapsed:    5.7s\n",
      "[Parallel(n_jobs=-1)]: Done 2750 out of 2750 | elapsed:   13.8s finished\n",
      "[Parallel(n_jobs=-1)]: Using backend LokyBackend with 8 concurrent workers.\n"
     ]
    },
    {
     "name": "stdout",
     "output_type": "stream",
     "text": [
      "alpha: {'learning_rate': 0.3, 'loss': 'ls', 'max_depth': 2, 'n_estimators': 8}\n",
      "13 Los Angeles Rams: 2012-11-01 00:00:00\n",
      "Fitting 5 folds for each of 550 candidates, totalling 2750 fits\n"
     ]
    },
    {
     "name": "stderr",
     "output_type": "stream",
     "text": [
      "[Parallel(n_jobs=-1)]: Done  16 tasks      | elapsed:    0.1s\n",
      "[Parallel(n_jobs=-1)]: Done 1936 tasks      | elapsed:    9.9s\n",
      "[Parallel(n_jobs=-1)]: Done 2750 out of 2750 | elapsed:   14.2s finished\n",
      "[Parallel(n_jobs=-1)]: Using backend LokyBackend with 8 concurrent workers.\n"
     ]
    },
    {
     "name": "stdout",
     "output_type": "stream",
     "text": [
      "alpha: {'learning_rate': 0.3, 'loss': 'ls', 'max_depth': 2, 'n_estimators': 8}\n",
      "13 Los Angeles Rams: 2012-12-01 00:00:00\n",
      "Fitting 5 folds for each of 550 candidates, totalling 2750 fits\n"
     ]
    },
    {
     "name": "stderr",
     "output_type": "stream",
     "text": [
      "[Parallel(n_jobs=-1)]: Done  16 tasks      | elapsed:    0.2s\n",
      "[Parallel(n_jobs=-1)]: Done 1672 tasks      | elapsed:    8.4s\n",
      "[Parallel(n_jobs=-1)]: Done 2750 out of 2750 | elapsed:   14.0s finished\n",
      "[Parallel(n_jobs=-1)]: Using backend LokyBackend with 8 concurrent workers.\n"
     ]
    },
    {
     "name": "stdout",
     "output_type": "stream",
     "text": [
      "alpha: {'learning_rate': 0.4, 'loss': 'ls', 'max_depth': 2, 'n_estimators': 8}\n",
      "13 Los Angeles Rams: 2013-09-01 00:00:00\n",
      "Fitting 5 folds for each of 550 candidates, totalling 2750 fits\n"
     ]
    },
    {
     "name": "stderr",
     "output_type": "stream",
     "text": [
      "[Parallel(n_jobs=-1)]: Done  16 tasks      | elapsed:    0.2s\n",
      "[Parallel(n_jobs=-1)]: Done 1792 tasks      | elapsed:    9.2s\n",
      "[Parallel(n_jobs=-1)]: Done 2750 out of 2750 | elapsed:   14.9s finished\n",
      "[Parallel(n_jobs=-1)]: Using backend LokyBackend with 8 concurrent workers.\n"
     ]
    },
    {
     "name": "stdout",
     "output_type": "stream",
     "text": [
      "alpha: {'learning_rate': 0.4, 'loss': 'ls', 'max_depth': 2, 'n_estimators': 10}\n",
      "13 Los Angeles Rams: 2013-10-01 00:00:00\n",
      "Fitting 5 folds for each of 550 candidates, totalling 2750 fits\n"
     ]
    },
    {
     "name": "stderr",
     "output_type": "stream",
     "text": [
      "[Parallel(n_jobs=-1)]: Done  16 tasks      | elapsed:    0.2s\n",
      "[Parallel(n_jobs=-1)]: Done 1936 tasks      | elapsed:   10.1s\n",
      "[Parallel(n_jobs=-1)]: Done 2750 out of 2750 | elapsed:   14.2s finished\n",
      "[Parallel(n_jobs=-1)]: Using backend LokyBackend with 8 concurrent workers.\n"
     ]
    },
    {
     "name": "stdout",
     "output_type": "stream",
     "text": [
      "alpha: {'learning_rate': 0.5, 'loss': 'huber', 'max_depth': 4, 'n_estimators': 6}\n",
      "13 Los Angeles Rams: 2013-11-01 00:00:00\n",
      "Fitting 5 folds for each of 550 candidates, totalling 2750 fits\n"
     ]
    },
    {
     "name": "stderr",
     "output_type": "stream",
     "text": [
      "[Parallel(n_jobs=-1)]: Done  16 tasks      | elapsed:    0.2s\n",
      "[Parallel(n_jobs=-1)]: Done 1684 tasks      | elapsed:    8.3s\n",
      "[Parallel(n_jobs=-1)]: Done 2750 out of 2750 | elapsed:   13.7s finished\n",
      "[Parallel(n_jobs=-1)]: Using backend LokyBackend with 8 concurrent workers.\n"
     ]
    },
    {
     "name": "stdout",
     "output_type": "stream",
     "text": [
      "alpha: {'learning_rate': 0.4, 'loss': 'ls', 'max_depth': 2, 'n_estimators': 4}\n",
      "13 Los Angeles Rams: 2013-12-01 00:00:00\n",
      "Fitting 5 folds for each of 550 candidates, totalling 2750 fits\n"
     ]
    },
    {
     "name": "stderr",
     "output_type": "stream",
     "text": [
      "[Parallel(n_jobs=-1)]: Done  16 tasks      | elapsed:    0.0s\n",
      "[Parallel(n_jobs=-1)]: Done 1672 tasks      | elapsed:    8.1s\n",
      "[Parallel(n_jobs=-1)]: Done 2750 out of 2750 | elapsed:   13.7s finished\n",
      "[Parallel(n_jobs=-1)]: Using backend LokyBackend with 8 concurrent workers.\n"
     ]
    },
    {
     "name": "stdout",
     "output_type": "stream",
     "text": [
      "alpha: {'learning_rate': 0.3, 'loss': 'ls', 'max_depth': 2, 'n_estimators': 8}\n",
      "13 Los Angeles Rams: 2014-09-01 00:00:00\n",
      "Fitting 5 folds for each of 550 candidates, totalling 2750 fits\n"
     ]
    },
    {
     "name": "stderr",
     "output_type": "stream",
     "text": [
      "[Parallel(n_jobs=-1)]: Done  16 tasks      | elapsed:    0.2s\n",
      "[Parallel(n_jobs=-1)]: Done 1648 tasks      | elapsed:    8.2s\n",
      "[Parallel(n_jobs=-1)]: Done 2750 out of 2750 | elapsed:   14.6s finished\n",
      "[Parallel(n_jobs=-1)]: Using backend LokyBackend with 8 concurrent workers.\n"
     ]
    },
    {
     "name": "stdout",
     "output_type": "stream",
     "text": [
      "alpha: {'learning_rate': 0.3, 'loss': 'huber', 'max_depth': 2, 'n_estimators': 10}\n",
      "13 Los Angeles Rams: 2014-10-01 00:00:00\n",
      "Fitting 5 folds for each of 550 candidates, totalling 2750 fits\n"
     ]
    },
    {
     "name": "stderr",
     "output_type": "stream",
     "text": [
      "[Parallel(n_jobs=-1)]: Done  16 tasks      | elapsed:    0.1s\n",
      "[Parallel(n_jobs=-1)]: Done 1936 tasks      | elapsed:    9.6s\n",
      "[Parallel(n_jobs=-1)]: Done 2750 out of 2750 | elapsed:   13.8s finished\n",
      "[Parallel(n_jobs=-1)]: Using backend LokyBackend with 8 concurrent workers.\n"
     ]
    },
    {
     "name": "stdout",
     "output_type": "stream",
     "text": [
      "alpha: {'learning_rate': 0.2, 'loss': 'huber', 'max_depth': 2, 'n_estimators': 8}\n",
      "13 Los Angeles Rams: 2014-11-01 00:00:00\n",
      "Fitting 5 folds for each of 550 candidates, totalling 2750 fits\n"
     ]
    },
    {
     "name": "stderr",
     "output_type": "stream",
     "text": [
      "[Parallel(n_jobs=-1)]: Done  16 tasks      | elapsed:    0.2s\n",
      "[Parallel(n_jobs=-1)]: Done 2128 tasks      | elapsed:   10.5s\n",
      "[Parallel(n_jobs=-1)]: Done 2750 out of 2750 | elapsed:   13.9s finished\n",
      "[Parallel(n_jobs=-1)]: Using backend LokyBackend with 8 concurrent workers.\n"
     ]
    },
    {
     "name": "stdout",
     "output_type": "stream",
     "text": [
      "alpha: {'learning_rate': 0.15, 'loss': 'huber', 'max_depth': 2, 'n_estimators': 10}\n",
      "13 Los Angeles Rams: 2014-12-01 00:00:00\n",
      "Fitting 5 folds for each of 550 candidates, totalling 2750 fits\n"
     ]
    },
    {
     "name": "stderr",
     "output_type": "stream",
     "text": [
      "[Parallel(n_jobs=-1)]: Done  16 tasks      | elapsed:    0.1s\n",
      "[Parallel(n_jobs=-1)]: Done 1556 tasks      | elapsed:    8.0s\n",
      "[Parallel(n_jobs=-1)]: Done 2750 out of 2750 | elapsed:   14.3s finished\n",
      "[Parallel(n_jobs=-1)]: Using backend LokyBackend with 8 concurrent workers.\n"
     ]
    },
    {
     "name": "stdout",
     "output_type": "stream",
     "text": [
      "alpha: {'learning_rate': 0.5, 'loss': 'huber', 'max_depth': 2, 'n_estimators': 10}\n",
      "13 Los Angeles Rams: 2015-09-01 00:00:00\n",
      "Fitting 5 folds for each of 550 candidates, totalling 2750 fits\n"
     ]
    },
    {
     "name": "stderr",
     "output_type": "stream",
     "text": [
      "[Parallel(n_jobs=-1)]: Done  16 tasks      | elapsed:    0.2s\n",
      "[Parallel(n_jobs=-1)]: Done 1648 tasks      | elapsed:    8.3s\n",
      "[Parallel(n_jobs=-1)]: Done 2750 out of 2750 | elapsed:   14.6s finished\n",
      "[Parallel(n_jobs=-1)]: Using backend LokyBackend with 8 concurrent workers.\n"
     ]
    },
    {
     "name": "stdout",
     "output_type": "stream",
     "text": [
      "alpha: {'learning_rate': 0.5, 'loss': 'huber', 'max_depth': 2, 'n_estimators': 8}\n",
      "13 Los Angeles Rams: 2015-10-01 00:00:00\n",
      "Fitting 5 folds for each of 550 candidates, totalling 2750 fits\n"
     ]
    },
    {
     "name": "stderr",
     "output_type": "stream",
     "text": [
      "[Parallel(n_jobs=-1)]: Done  16 tasks      | elapsed:    0.2s\n",
      "[Parallel(n_jobs=-1)]: Done 1648 tasks      | elapsed:    8.1s\n",
      "[Parallel(n_jobs=-1)]: Done 2750 out of 2750 | elapsed:   14.1s finished\n",
      "[Parallel(n_jobs=-1)]: Using backend LokyBackend with 8 concurrent workers.\n"
     ]
    },
    {
     "name": "stdout",
     "output_type": "stream",
     "text": [
      "alpha: {'learning_rate': 0.4, 'loss': 'huber', 'max_depth': 2, 'n_estimators': 6}\n",
      "13 Los Angeles Rams: 2015-11-01 00:00:00\n",
      "Fitting 5 folds for each of 550 candidates, totalling 2750 fits\n"
     ]
    },
    {
     "name": "stderr",
     "output_type": "stream",
     "text": [
      "[Parallel(n_jobs=-1)]: Done  16 tasks      | elapsed:    0.1s\n",
      "[Parallel(n_jobs=-1)]: Done 1578 tasks      | elapsed:    7.8s\n",
      "[Parallel(n_jobs=-1)]: Done 2750 out of 2750 | elapsed:   14.3s finished\n",
      "[Parallel(n_jobs=-1)]: Using backend LokyBackend with 8 concurrent workers.\n"
     ]
    },
    {
     "name": "stdout",
     "output_type": "stream",
     "text": [
      "alpha: {'learning_rate': 0.5, 'loss': 'huber', 'max_depth': 2, 'n_estimators': 4}\n",
      "13 Los Angeles Rams: 2015-12-01 00:00:00\n",
      "Fitting 5 folds for each of 550 candidates, totalling 2750 fits\n"
     ]
    },
    {
     "name": "stderr",
     "output_type": "stream",
     "text": [
      "[Parallel(n_jobs=-1)]: Done  16 tasks      | elapsed:    0.2s\n",
      "[Parallel(n_jobs=-1)]: Done 1660 tasks      | elapsed:    8.5s\n",
      "[Parallel(n_jobs=-1)]: Done 2750 out of 2750 | elapsed:   14.8s finished\n",
      "[Parallel(n_jobs=-1)]: Using backend LokyBackend with 8 concurrent workers.\n"
     ]
    },
    {
     "name": "stdout",
     "output_type": "stream",
     "text": [
      "alpha: {'learning_rate': 0.5, 'loss': 'huber', 'max_depth': 2, 'n_estimators': 4}\n",
      "13 Los Angeles Rams: 2016-09-01 00:00:00\n",
      "Fitting 5 folds for each of 550 candidates, totalling 2750 fits\n"
     ]
    },
    {
     "name": "stderr",
     "output_type": "stream",
     "text": [
      "[Parallel(n_jobs=-1)]: Done  16 tasks      | elapsed:    0.1s\n",
      "[Parallel(n_jobs=-1)]: Done 1936 tasks      | elapsed:   10.2s\n",
      "[Parallel(n_jobs=-1)]: Done 2750 out of 2750 | elapsed:   14.6s finished\n",
      "[Parallel(n_jobs=-1)]: Using backend LokyBackend with 8 concurrent workers.\n"
     ]
    },
    {
     "name": "stdout",
     "output_type": "stream",
     "text": [
      "alpha: {'learning_rate': 0.3, 'loss': 'ls', 'max_depth': 2, 'n_estimators': 8}\n",
      "13 Los Angeles Rams: 2016-10-01 00:00:00\n",
      "Fitting 5 folds for each of 550 candidates, totalling 2750 fits\n"
     ]
    },
    {
     "name": "stderr",
     "output_type": "stream",
     "text": [
      "[Parallel(n_jobs=-1)]: Done  16 tasks      | elapsed:    0.1s\n",
      "[Parallel(n_jobs=-1)]: Done 1360 tasks      | elapsed:    7.2s\n",
      "[Parallel(n_jobs=-1)]: Done 2750 out of 2750 | elapsed:   14.7s finished\n",
      "[Parallel(n_jobs=-1)]: Using backend LokyBackend with 8 concurrent workers.\n"
     ]
    },
    {
     "name": "stdout",
     "output_type": "stream",
     "text": [
      "alpha: {'learning_rate': 0.3, 'loss': 'huber', 'max_depth': 2, 'n_estimators': 8}\n",
      "13 Los Angeles Rams: 2016-11-01 00:00:00\n",
      "Fitting 5 folds for each of 550 candidates, totalling 2750 fits\n"
     ]
    },
    {
     "name": "stderr",
     "output_type": "stream",
     "text": [
      "[Parallel(n_jobs=-1)]: Done  16 tasks      | elapsed:    0.2s\n",
      "[Parallel(n_jobs=-1)]: Done 1567 tasks      | elapsed:    8.0s\n",
      "[Parallel(n_jobs=-1)]: Done 2750 out of 2750 | elapsed:   14.6s finished\n",
      "[Parallel(n_jobs=-1)]: Using backend LokyBackend with 8 concurrent workers.\n"
     ]
    },
    {
     "name": "stdout",
     "output_type": "stream",
     "text": [
      "alpha: {'learning_rate': 0.5, 'loss': 'huber', 'max_depth': 2, 'n_estimators': 6}\n",
      "13 Los Angeles Rams: 2016-12-01 00:00:00\n",
      "Fitting 5 folds for each of 550 candidates, totalling 2750 fits\n"
     ]
    },
    {
     "name": "stderr",
     "output_type": "stream",
     "text": [
      "[Parallel(n_jobs=-1)]: Done  16 tasks      | elapsed:    0.1s\n",
      "[Parallel(n_jobs=-1)]: Done 1168 tasks      | elapsed:    6.3s\n",
      "[Parallel(n_jobs=-1)]: Done 2750 out of 2750 | elapsed:   15.4s finished\n",
      "[Parallel(n_jobs=-1)]: Using backend LokyBackend with 8 concurrent workers.\n"
     ]
    },
    {
     "name": "stdout",
     "output_type": "stream",
     "text": [
      "alpha: {'learning_rate': 0.5, 'loss': 'huber', 'max_depth': 2, 'n_estimators': 6}\n",
      "13 Los Angeles Rams: 2017-09-01 00:00:00\n",
      "Fitting 5 folds for each of 550 candidates, totalling 2750 fits\n"
     ]
    },
    {
     "name": "stderr",
     "output_type": "stream",
     "text": [
      "[Parallel(n_jobs=-1)]: Done  16 tasks      | elapsed:    0.2s\n",
      "[Parallel(n_jobs=-1)]: Done 1552 tasks      | elapsed:    8.8s\n",
      "[Parallel(n_jobs=-1)]: Done 2750 out of 2750 | elapsed:   15.9s finished\n",
      "[Parallel(n_jobs=-1)]: Using backend LokyBackend with 8 concurrent workers.\n"
     ]
    },
    {
     "name": "stdout",
     "output_type": "stream",
     "text": [
      "alpha: {'learning_rate': 0.4, 'loss': 'huber', 'max_depth': 2, 'n_estimators': 8}\n",
      "13 Los Angeles Rams: 2017-10-01 00:00:00\n",
      "Fitting 5 folds for each of 550 candidates, totalling 2750 fits\n"
     ]
    },
    {
     "name": "stderr",
     "output_type": "stream",
     "text": [
      "[Parallel(n_jobs=-1)]: Done  16 tasks      | elapsed:    0.1s\n",
      "[Parallel(n_jobs=-1)]: Done 1545 tasks      | elapsed:    8.2s\n",
      "[Parallel(n_jobs=-1)]: Done 2750 out of 2750 | elapsed:   15.0s finished\n",
      "[Parallel(n_jobs=-1)]: Using backend LokyBackend with 8 concurrent workers.\n"
     ]
    },
    {
     "name": "stdout",
     "output_type": "stream",
     "text": [
      "alpha: {'learning_rate': 0.4, 'loss': 'huber', 'max_depth': 2, 'n_estimators': 8}\n",
      "13 Los Angeles Rams: 2017-11-01 00:00:00\n",
      "Fitting 5 folds for each of 550 candidates, totalling 2750 fits\n"
     ]
    },
    {
     "name": "stderr",
     "output_type": "stream",
     "text": [
      "[Parallel(n_jobs=-1)]: Done  16 tasks      | elapsed:    0.2s\n",
      "[Parallel(n_jobs=-1)]: Done 1744 tasks      | elapsed:    9.3s\n",
      "[Parallel(n_jobs=-1)]: Done 2750 out of 2750 | elapsed:   14.8s finished\n",
      "[Parallel(n_jobs=-1)]: Using backend LokyBackend with 8 concurrent workers.\n"
     ]
    },
    {
     "name": "stdout",
     "output_type": "stream",
     "text": [
      "alpha: {'learning_rate': 0.3, 'loss': 'ls', 'max_depth': 2, 'n_estimators': 6}\n",
      "13 Los Angeles Rams: 2017-12-01 00:00:00\n",
      "Fitting 5 folds for each of 550 candidates, totalling 2750 fits\n"
     ]
    },
    {
     "name": "stderr",
     "output_type": "stream",
     "text": [
      "[Parallel(n_jobs=-1)]: Done  16 tasks      | elapsed:    0.1s\n",
      "[Parallel(n_jobs=-1)]: Done 1648 tasks      | elapsed:    8.1s\n",
      "[Parallel(n_jobs=-1)]: Done 2750 out of 2750 | elapsed:   14.2s finished\n",
      "[Parallel(n_jobs=-1)]: Using backend LokyBackend with 8 concurrent workers.\n"
     ]
    },
    {
     "name": "stdout",
     "output_type": "stream",
     "text": [
      "alpha: {'learning_rate': 0.3, 'loss': 'huber', 'max_depth': 2, 'n_estimators': 6}\n",
      "13 Los Angeles Rams: 2018-09-01 00:00:00\n",
      "Fitting 5 folds for each of 550 candidates, totalling 2750 fits\n"
     ]
    },
    {
     "name": "stderr",
     "output_type": "stream",
     "text": [
      "[Parallel(n_jobs=-1)]: Done  16 tasks      | elapsed:    0.2s\n",
      "[Parallel(n_jobs=-1)]: Done 1744 tasks      | elapsed:    8.5s\n",
      "[Parallel(n_jobs=-1)]: Done 2750 out of 2750 | elapsed:   13.8s finished\n",
      "[Parallel(n_jobs=-1)]: Using backend LokyBackend with 8 concurrent workers.\n"
     ]
    },
    {
     "name": "stdout",
     "output_type": "stream",
     "text": [
      "alpha: {'learning_rate': 0.2, 'loss': 'ls', 'max_depth': 4, 'n_estimators': 10}\n",
      "13 Los Angeles Rams: 2018-10-01 00:00:00\n",
      "Fitting 5 folds for each of 550 candidates, totalling 2750 fits\n"
     ]
    },
    {
     "name": "stderr",
     "output_type": "stream",
     "text": [
      "[Parallel(n_jobs=-1)]: Done  16 tasks      | elapsed:    0.1s\n",
      "[Parallel(n_jobs=-1)]: Done 1232 tasks      | elapsed:    6.9s\n",
      "[Parallel(n_jobs=-1)]: Done 2750 out of 2750 | elapsed:   14.8s finished\n",
      "[Parallel(n_jobs=-1)]: Using backend LokyBackend with 8 concurrent workers.\n"
     ]
    },
    {
     "name": "stdout",
     "output_type": "stream",
     "text": [
      "alpha: {'learning_rate': 0.6, 'loss': 'huber', 'max_depth': 4, 'n_estimators': 6}\n",
      "13 Los Angeles Rams: 2018-11-01 00:00:00\n",
      "Fitting 5 folds for each of 550 candidates, totalling 2750 fits\n"
     ]
    },
    {
     "name": "stderr",
     "output_type": "stream",
     "text": [
      "[Parallel(n_jobs=-1)]: Done  16 tasks      | elapsed:    0.2s\n",
      "[Parallel(n_jobs=-1)]: Done 1567 tasks      | elapsed:    7.9s\n",
      "[Parallel(n_jobs=-1)]: Done 2750 out of 2750 | elapsed:   14.3s finished\n",
      "[Parallel(n_jobs=-1)]: Using backend LokyBackend with 8 concurrent workers.\n"
     ]
    },
    {
     "name": "stdout",
     "output_type": "stream",
     "text": [
      "alpha: {'learning_rate': 0.4, 'loss': 'huber', 'max_depth': 2, 'n_estimators': 6}\n",
      "13 Los Angeles Rams: 2018-12-01 00:00:00\n",
      "Fitting 5 folds for each of 550 candidates, totalling 2750 fits\n"
     ]
    },
    {
     "name": "stderr",
     "output_type": "stream",
     "text": [
      "[Parallel(n_jobs=-1)]: Done  16 tasks      | elapsed:    0.2s\n",
      "[Parallel(n_jobs=-1)]: Done 1930 tasks      | elapsed:    9.6s\n",
      "[Parallel(n_jobs=-1)]: Done 2750 out of 2750 | elapsed:   13.9s finished\n",
      "[Parallel(n_jobs=-1)]: Using backend LokyBackend with 8 concurrent workers.\n"
     ]
    },
    {
     "name": "stdout",
     "output_type": "stream",
     "text": [
      "alpha: {'learning_rate': 0.6, 'loss': 'ls', 'max_depth': 2, 'n_estimators': 8}\n",
      "13 Los Angeles Rams: 2019-09-01 00:00:00\n",
      "Fitting 5 folds for each of 550 candidates, totalling 2750 fits\n"
     ]
    },
    {
     "name": "stderr",
     "output_type": "stream",
     "text": [
      "[Parallel(n_jobs=-1)]: Done  16 tasks      | elapsed:    0.2s\n",
      "[Parallel(n_jobs=-1)]: Done 1648 tasks      | elapsed:    8.3s\n",
      "[Parallel(n_jobs=-1)]: Done 2750 out of 2750 | elapsed:   14.6s finished\n",
      "[Parallel(n_jobs=-1)]: Using backend LokyBackend with 8 concurrent workers.\n"
     ]
    },
    {
     "name": "stdout",
     "output_type": "stream",
     "text": [
      "alpha: {'learning_rate': 0.4, 'loss': 'huber', 'max_depth': 2, 'n_estimators': 10}\n",
      "13 Los Angeles Rams: 2019-10-01 00:00:00\n",
      "Fitting 5 folds for each of 550 candidates, totalling 2750 fits\n"
     ]
    },
    {
     "name": "stderr",
     "output_type": "stream",
     "text": [
      "[Parallel(n_jobs=-1)]: Done  16 tasks      | elapsed:    0.1s\n",
      "[Parallel(n_jobs=-1)]: Done 1523 tasks      | elapsed:    8.3s\n",
      "[Parallel(n_jobs=-1)]: Done 2750 out of 2750 | elapsed:   15.0s finished\n",
      "[Parallel(n_jobs=-1)]: Using backend LokyBackend with 8 concurrent workers.\n"
     ]
    },
    {
     "name": "stdout",
     "output_type": "stream",
     "text": [
      "alpha: {'learning_rate': 0.6, 'loss': 'ls', 'max_depth': 2, 'n_estimators': 4}\n",
      "13 Los Angeles Rams: 2019-11-01 00:00:00\n",
      "Fitting 5 folds for each of 550 candidates, totalling 2750 fits\n"
     ]
    },
    {
     "name": "stderr",
     "output_type": "stream",
     "text": [
      "[Parallel(n_jobs=-1)]: Done  16 tasks      | elapsed:    0.1s\n",
      "[Parallel(n_jobs=-1)]: Done 1930 tasks      | elapsed:    9.7s\n",
      "[Parallel(n_jobs=-1)]: Done 2750 out of 2750 | elapsed:   14.0s finished\n",
      "[Parallel(n_jobs=-1)]: Using backend LokyBackend with 8 concurrent workers.\n"
     ]
    },
    {
     "name": "stdout",
     "output_type": "stream",
     "text": [
      "alpha: {'learning_rate': 0.4, 'loss': 'ls', 'max_depth': 2, 'n_estimators': 8}\n",
      "13 Los Angeles Rams: 2019-12-01 00:00:00\n",
      "Fitting 5 folds for each of 550 candidates, totalling 2750 fits\n"
     ]
    },
    {
     "name": "stderr",
     "output_type": "stream",
     "text": [
      "[Parallel(n_jobs=-1)]: Done  16 tasks      | elapsed:    0.2s\n",
      "[Parallel(n_jobs=-1)]: Done 1567 tasks      | elapsed:    8.0s\n",
      "[Parallel(n_jobs=-1)]: Done 2750 out of 2750 | elapsed:   14.5s finished\n",
      "[Parallel(n_jobs=-1)]: Using backend LokyBackend with 8 concurrent workers.\n"
     ]
    },
    {
     "name": "stdout",
     "output_type": "stream",
     "text": [
      "alpha: {'learning_rate': 0.6, 'loss': 'ls', 'max_depth': 2, 'n_estimators': 4}\n",
      "14 Buffalo Bills: 2012-09-01 00:00:00\n",
      "Fitting 5 folds for each of 550 candidates, totalling 2750 fits\n"
     ]
    },
    {
     "name": "stderr",
     "output_type": "stream",
     "text": [
      "[Parallel(n_jobs=-1)]: Done  16 tasks      | elapsed:    0.2s\n",
      "[Parallel(n_jobs=-1)]: Done 1936 tasks      | elapsed:    9.8s\n",
      "[Parallel(n_jobs=-1)]: Done 2750 out of 2750 | elapsed:   14.3s finished\n",
      "[Parallel(n_jobs=-1)]: Using backend LokyBackend with 8 concurrent workers.\n"
     ]
    },
    {
     "name": "stdout",
     "output_type": "stream",
     "text": [
      "alpha: {'learning_rate': 0.2, 'loss': 'huber', 'max_depth': 2, 'n_estimators': 8}\n",
      "14 Buffalo Bills: 2012-10-01 00:00:00\n",
      "Fitting 5 folds for each of 550 candidates, totalling 2750 fits\n"
     ]
    },
    {
     "name": "stderr",
     "output_type": "stream",
     "text": [
      "[Parallel(n_jobs=-1)]: Done  16 tasks      | elapsed:    0.2s\n",
      "[Parallel(n_jobs=-1)]: Done 1648 tasks      | elapsed:    8.9s\n",
      "[Parallel(n_jobs=-1)]: Done 2750 out of 2750 | elapsed:   15.2s finished\n",
      "[Parallel(n_jobs=-1)]: Using backend LokyBackend with 8 concurrent workers.\n"
     ]
    },
    {
     "name": "stdout",
     "output_type": "stream",
     "text": [
      "alpha: {'learning_rate': 0.5, 'loss': 'huber', 'max_depth': 6, 'n_estimators': 10}\n",
      "14 Buffalo Bills: 2012-11-01 00:00:00\n",
      "Fitting 5 folds for each of 550 candidates, totalling 2750 fits\n"
     ]
    },
    {
     "name": "stderr",
     "output_type": "stream",
     "text": [
      "[Parallel(n_jobs=-1)]: Done  16 tasks      | elapsed:    0.1s\n",
      "[Parallel(n_jobs=-1)]: Done 1545 tasks      | elapsed:    8.3s\n",
      "[Parallel(n_jobs=-1)]: Done 2750 out of 2750 | elapsed:   15.1s finished\n",
      "[Parallel(n_jobs=-1)]: Using backend LokyBackend with 8 concurrent workers.\n"
     ]
    },
    {
     "name": "stdout",
     "output_type": "stream",
     "text": [
      "alpha: {'learning_rate': 0.4, 'loss': 'ls', 'max_depth': 2, 'n_estimators': 8}\n",
      "14 Buffalo Bills: 2012-12-01 00:00:00\n",
      "Fitting 5 folds for each of 550 candidates, totalling 2750 fits\n"
     ]
    },
    {
     "name": "stderr",
     "output_type": "stream",
     "text": [
      "[Parallel(n_jobs=-1)]: Done  16 tasks      | elapsed:    0.2s\n",
      "[Parallel(n_jobs=-1)]: Done 1660 tasks      | elapsed:    8.6s\n",
      "[Parallel(n_jobs=-1)]: Done 2750 out of 2750 | elapsed:   15.0s finished\n",
      "[Parallel(n_jobs=-1)]: Using backend LokyBackend with 8 concurrent workers.\n"
     ]
    },
    {
     "name": "stdout",
     "output_type": "stream",
     "text": [
      "alpha: {'learning_rate': 0.4, 'loss': 'ls', 'max_depth': 2, 'n_estimators': 6}\n",
      "14 Buffalo Bills: 2013-09-01 00:00:00\n",
      "Fitting 5 folds for each of 550 candidates, totalling 2750 fits\n"
     ]
    },
    {
     "name": "stderr",
     "output_type": "stream",
     "text": [
      "[Parallel(n_jobs=-1)]: Done  16 tasks      | elapsed:    0.1s\n",
      "[Parallel(n_jobs=-1)]: Done 1446 tasks      | elapsed:    7.7s\n",
      "[Parallel(n_jobs=-1)]: Done 2750 out of 2750 | elapsed:   14.5s finished\n",
      "[Parallel(n_jobs=-1)]: Using backend LokyBackend with 8 concurrent workers.\n"
     ]
    },
    {
     "name": "stdout",
     "output_type": "stream",
     "text": [
      "alpha: {'learning_rate': 0.3, 'loss': 'ls', 'max_depth': 2, 'n_estimators': 6}\n",
      "14 Buffalo Bills: 2013-10-01 00:00:00\n",
      "Fitting 5 folds for each of 550 candidates, totalling 2750 fits\n"
     ]
    },
    {
     "name": "stderr",
     "output_type": "stream",
     "text": [
      "[Parallel(n_jobs=-1)]: Done  16 tasks      | elapsed:    0.2s\n",
      "[Parallel(n_jobs=-1)]: Done 1545 tasks      | elapsed:    8.2s\n",
      "[Parallel(n_jobs=-1)]: Done 2750 out of 2750 | elapsed:   14.7s finished\n",
      "[Parallel(n_jobs=-1)]: Using backend LokyBackend with 8 concurrent workers.\n"
     ]
    },
    {
     "name": "stdout",
     "output_type": "stream",
     "text": [
      "alpha: {'learning_rate': 0.15, 'loss': 'ls', 'max_depth': 2, 'n_estimators': 8}\n",
      "14 Buffalo Bills: 2013-11-01 00:00:00\n",
      "Fitting 5 folds for each of 550 candidates, totalling 2750 fits\n"
     ]
    },
    {
     "name": "stderr",
     "output_type": "stream",
     "text": [
      "[Parallel(n_jobs=-1)]: Done  16 tasks      | elapsed:    0.1s\n",
      "[Parallel(n_jobs=-1)]: Done 1567 tasks      | elapsed:    8.0s\n",
      "[Parallel(n_jobs=-1)]: Done 2750 out of 2750 | elapsed:   14.4s finished\n",
      "[Parallel(n_jobs=-1)]: Using backend LokyBackend with 8 concurrent workers.\n"
     ]
    },
    {
     "name": "stdout",
     "output_type": "stream",
     "text": [
      "alpha: {'learning_rate': 0.5, 'loss': 'ls', 'max_depth': 2, 'n_estimators': 4}\n",
      "14 Buffalo Bills: 2013-12-01 00:00:00\n",
      "Fitting 5 folds for each of 550 candidates, totalling 2750 fits\n"
     ]
    },
    {
     "name": "stderr",
     "output_type": "stream",
     "text": [
      "[Parallel(n_jobs=-1)]: Done  16 tasks      | elapsed:    0.2s\n",
      "[Parallel(n_jobs=-1)]: Done 1660 tasks      | elapsed:    8.5s\n",
      "[Parallel(n_jobs=-1)]: Done 2750 out of 2750 | elapsed:   14.9s finished\n",
      "[Parallel(n_jobs=-1)]: Using backend LokyBackend with 8 concurrent workers.\n"
     ]
    },
    {
     "name": "stdout",
     "output_type": "stream",
     "text": [
      "alpha: {'learning_rate': 0.2, 'loss': 'huber', 'max_depth': 2, 'n_estimators': 10}\n",
      "14 Buffalo Bills: 2014-09-01 00:00:00\n",
      "Fitting 5 folds for each of 550 candidates, totalling 2750 fits\n"
     ]
    },
    {
     "name": "stderr",
     "output_type": "stream",
     "text": [
      "[Parallel(n_jobs=-1)]: Done  16 tasks      | elapsed:    0.2s\n",
      "[Parallel(n_jobs=-1)]: Done 1648 tasks      | elapsed:    8.5s\n",
      "[Parallel(n_jobs=-1)]: Done 2750 out of 2750 | elapsed:   14.8s finished\n",
      "[Parallel(n_jobs=-1)]: Using backend LokyBackend with 8 concurrent workers.\n"
     ]
    },
    {
     "name": "stdout",
     "output_type": "stream",
     "text": [
      "alpha: {'learning_rate': 0.6, 'loss': 'ls', 'max_depth': 2, 'n_estimators': 2}\n",
      "14 Buffalo Bills: 2014-10-01 00:00:00\n",
      "Fitting 5 folds for each of 550 candidates, totalling 2750 fits\n"
     ]
    },
    {
     "name": "stderr",
     "output_type": "stream",
     "text": [
      "[Parallel(n_jobs=-1)]: Done  16 tasks      | elapsed:    0.2s\n",
      "[Parallel(n_jobs=-1)]: Done 1648 tasks      | elapsed:    8.8s\n",
      "[Parallel(n_jobs=-1)]: Done 2750 out of 2750 | elapsed:   14.9s finished\n",
      "[Parallel(n_jobs=-1)]: Using backend LokyBackend with 8 concurrent workers.\n"
     ]
    },
    {
     "name": "stdout",
     "output_type": "stream",
     "text": [
      "alpha: {'learning_rate': 0.15, 'loss': 'huber', 'max_depth': 2, 'n_estimators': 10}\n",
      "14 Buffalo Bills: 2014-11-01 00:00:00\n",
      "Fitting 5 folds for each of 550 candidates, totalling 2750 fits\n"
     ]
    },
    {
     "name": "stderr",
     "output_type": "stream",
     "text": [
      "[Parallel(n_jobs=-1)]: Done  16 tasks      | elapsed:    0.2s\n",
      "[Parallel(n_jobs=-1)]: Done 1648 tasks      | elapsed:    8.2s\n",
      "[Parallel(n_jobs=-1)]: Done 2750 out of 2750 | elapsed:   14.2s finished\n",
      "[Parallel(n_jobs=-1)]: Using backend LokyBackend with 8 concurrent workers.\n"
     ]
    },
    {
     "name": "stdout",
     "output_type": "stream",
     "text": [
      "alpha: {'learning_rate': 0.5, 'loss': 'ls', 'max_depth': 4, 'n_estimators': 4}\n",
      "14 Buffalo Bills: 2014-12-01 00:00:00\n",
      "Fitting 5 folds for each of 550 candidates, totalling 2750 fits\n"
     ]
    },
    {
     "name": "stderr",
     "output_type": "stream",
     "text": [
      "[Parallel(n_jobs=-1)]: Done  16 tasks      | elapsed:    0.1s\n",
      "[Parallel(n_jobs=-1)]: Done 1578 tasks      | elapsed:    7.8s\n",
      "[Parallel(n_jobs=-1)]: Done 2750 out of 2750 | elapsed:   14.1s finished\n",
      "[Parallel(n_jobs=-1)]: Using backend LokyBackend with 8 concurrent workers.\n"
     ]
    },
    {
     "name": "stdout",
     "output_type": "stream",
     "text": [
      "alpha: {'learning_rate': 0.6, 'loss': 'huber', 'max_depth': 4, 'n_estimators': 8}\n",
      "14 Buffalo Bills: 2015-09-01 00:00:00\n",
      "Fitting 5 folds for each of 550 candidates, totalling 2750 fits\n"
     ]
    },
    {
     "name": "stderr",
     "output_type": "stream",
     "text": [
      "[Parallel(n_jobs=-1)]: Done  16 tasks      | elapsed:    0.2s\n",
      "[Parallel(n_jobs=-1)]: Done 1758 tasks      | elapsed:    9.7s\n",
      "[Parallel(n_jobs=-1)]: Done 2750 out of 2750 | elapsed:   14.8s finished\n",
      "[Parallel(n_jobs=-1)]: Using backend LokyBackend with 8 concurrent workers.\n"
     ]
    },
    {
     "name": "stdout",
     "output_type": "stream",
     "text": [
      "alpha: {'learning_rate': 0.3, 'loss': 'ls', 'max_depth': 4, 'n_estimators': 10}\n",
      "14 Buffalo Bills: 2015-10-01 00:00:00\n",
      "Fitting 5 folds for each of 550 candidates, totalling 2750 fits\n"
     ]
    },
    {
     "name": "stderr",
     "output_type": "stream",
     "text": [
      "[Parallel(n_jobs=-1)]: Done  16 tasks      | elapsed:    0.2s\n",
      "[Parallel(n_jobs=-1)]: Done 1648 tasks      | elapsed:    8.6s\n",
      "[Parallel(n_jobs=-1)]: Done 2750 out of 2750 | elapsed:   14.7s finished\n",
      "[Parallel(n_jobs=-1)]: Using backend LokyBackend with 8 concurrent workers.\n"
     ]
    },
    {
     "name": "stdout",
     "output_type": "stream",
     "text": [
      "alpha: {'learning_rate': 0.3, 'loss': 'huber', 'max_depth': 4, 'n_estimators': 10}\n",
      "14 Buffalo Bills: 2015-11-01 00:00:00\n",
      "Fitting 5 folds for each of 550 candidates, totalling 2750 fits\n"
     ]
    },
    {
     "name": "stderr",
     "output_type": "stream",
     "text": [
      "[Parallel(n_jobs=-1)]: Done  16 tasks      | elapsed:    0.1s\n",
      "[Parallel(n_jobs=-1)]: Done 1660 tasks      | elapsed:    8.3s\n",
      "[Parallel(n_jobs=-1)]: Done 2750 out of 2750 | elapsed:   14.5s finished\n",
      "[Parallel(n_jobs=-1)]: Using backend LokyBackend with 8 concurrent workers.\n"
     ]
    },
    {
     "name": "stdout",
     "output_type": "stream",
     "text": [
      "alpha: {'learning_rate': 0.5, 'loss': 'huber', 'max_depth': 4, 'n_estimators': 8}\n",
      "14 Buffalo Bills: 2015-12-01 00:00:00\n",
      "Fitting 5 folds for each of 550 candidates, totalling 2750 fits\n"
     ]
    },
    {
     "name": "stderr",
     "output_type": "stream",
     "text": [
      "[Parallel(n_jobs=-1)]: Done  16 tasks      | elapsed:    0.1s\n",
      "[Parallel(n_jobs=-1)]: Done 1578 tasks      | elapsed:    7.9s\n",
      "[Parallel(n_jobs=-1)]: Done 2750 out of 2750 | elapsed:   14.2s finished\n",
      "[Parallel(n_jobs=-1)]: Using backend LokyBackend with 8 concurrent workers.\n"
     ]
    },
    {
     "name": "stdout",
     "output_type": "stream",
     "text": [
      "alpha: {'learning_rate': 0.2, 'loss': 'ls', 'max_depth': 2, 'n_estimators': 10}\n",
      "14 Buffalo Bills: 2016-09-01 00:00:00\n",
      "Fitting 5 folds for each of 550 candidates, totalling 2750 fits\n"
     ]
    },
    {
     "name": "stderr",
     "output_type": "stream",
     "text": [
      "[Parallel(n_jobs=-1)]: Done  16 tasks      | elapsed:    0.2s\n",
      "[Parallel(n_jobs=-1)]: Done 1578 tasks      | elapsed:    7.8s\n",
      "[Parallel(n_jobs=-1)]: Done 2750 out of 2750 | elapsed:   14.0s finished\n",
      "[Parallel(n_jobs=-1)]: Using backend LokyBackend with 8 concurrent workers.\n"
     ]
    },
    {
     "name": "stdout",
     "output_type": "stream",
     "text": [
      "alpha: {'learning_rate': 0.3, 'loss': 'ls', 'max_depth': 2, 'n_estimators': 10}\n",
      "14 Buffalo Bills: 2016-10-01 00:00:00\n",
      "Fitting 5 folds for each of 550 candidates, totalling 2750 fits\n"
     ]
    },
    {
     "name": "stderr",
     "output_type": "stream",
     "text": [
      "[Parallel(n_jobs=-1)]: Done  16 tasks      | elapsed:    0.1s\n",
      "[Parallel(n_jobs=-1)]: Done 1686 tasks      | elapsed:    9.6s\n",
      "[Parallel(n_jobs=-1)]: Done 2750 out of 2750 | elapsed:   15.5s finished\n",
      "[Parallel(n_jobs=-1)]: Using backend LokyBackend with 8 concurrent workers.\n"
     ]
    },
    {
     "name": "stdout",
     "output_type": "stream",
     "text": [
      "alpha: {'learning_rate': 0.15, 'loss': 'ls', 'max_depth': 2, 'n_estimators': 10}\n",
      "14 Buffalo Bills: 2016-11-01 00:00:00\n",
      "Fitting 5 folds for each of 550 candidates, totalling 2750 fits\n"
     ]
    },
    {
     "name": "stderr",
     "output_type": "stream",
     "text": [
      "[Parallel(n_jobs=-1)]: Done  16 tasks      | elapsed:    0.3s\n",
      "[Parallel(n_jobs=-1)]: Done 1612 tasks      | elapsed:    8.4s\n",
      "[Parallel(n_jobs=-1)]: Done 2750 out of 2750 | elapsed:   14.9s finished\n",
      "[Parallel(n_jobs=-1)]: Using backend LokyBackend with 8 concurrent workers.\n"
     ]
    },
    {
     "name": "stdout",
     "output_type": "stream",
     "text": [
      "alpha: {'learning_rate': 0.5, 'loss': 'ls', 'max_depth': 2, 'n_estimators': 10}\n",
      "14 Buffalo Bills: 2016-12-01 00:00:00\n",
      "Fitting 5 folds for each of 550 candidates, totalling 2750 fits\n"
     ]
    },
    {
     "name": "stderr",
     "output_type": "stream",
     "text": [
      "[Parallel(n_jobs=-1)]: Done  16 tasks      | elapsed:    0.2s\n",
      "[Parallel(n_jobs=-1)]: Done 1864 tasks      | elapsed:   10.0s\n",
      "[Parallel(n_jobs=-1)]: Done 2750 out of 2750 | elapsed:   15.4s finished\n",
      "[Parallel(n_jobs=-1)]: Using backend LokyBackend with 8 concurrent workers.\n"
     ]
    },
    {
     "name": "stdout",
     "output_type": "stream",
     "text": [
      "alpha: {'learning_rate': 0.2, 'loss': 'huber', 'max_depth': 2, 'n_estimators': 10}\n",
      "14 Buffalo Bills: 2017-09-01 00:00:00\n",
      "Fitting 5 folds for each of 550 candidates, totalling 2750 fits\n"
     ]
    },
    {
     "name": "stderr",
     "output_type": "stream",
     "text": [
      "[Parallel(n_jobs=-1)]: Done  16 tasks      | elapsed:    0.2s\n",
      "[Parallel(n_jobs=-1)]: Done 1552 tasks      | elapsed:    7.9s\n",
      "[Parallel(n_jobs=-1)]: Done 2750 out of 2750 | elapsed:   14.7s finished\n",
      "[Parallel(n_jobs=-1)]: Using backend LokyBackend with 8 concurrent workers.\n"
     ]
    },
    {
     "name": "stdout",
     "output_type": "stream",
     "text": [
      "alpha: {'learning_rate': 0.2, 'loss': 'huber', 'max_depth': 2, 'n_estimators': 10}\n",
      "14 Buffalo Bills: 2017-10-01 00:00:00\n",
      "Fitting 5 folds for each of 550 candidates, totalling 2750 fits\n"
     ]
    },
    {
     "name": "stderr",
     "output_type": "stream",
     "text": [
      "[Parallel(n_jobs=-1)]: Done  16 tasks      | elapsed:    0.2s\n",
      "[Parallel(n_jobs=-1)]: Done 1660 tasks      | elapsed:    8.6s\n",
      "[Parallel(n_jobs=-1)]: Done 2750 out of 2750 | elapsed:   14.8s finished\n",
      "[Parallel(n_jobs=-1)]: Using backend LokyBackend with 8 concurrent workers.\n"
     ]
    },
    {
     "name": "stdout",
     "output_type": "stream",
     "text": [
      "alpha: {'learning_rate': 0.3, 'loss': 'ls', 'max_depth': 2, 'n_estimators': 10}\n",
      "14 Buffalo Bills: 2017-11-01 00:00:00\n",
      "Fitting 5 folds for each of 550 candidates, totalling 2750 fits\n"
     ]
    },
    {
     "name": "stderr",
     "output_type": "stream",
     "text": [
      "[Parallel(n_jobs=-1)]: Done  16 tasks      | elapsed:    0.2s\n",
      "[Parallel(n_jobs=-1)]: Done 1758 tasks      | elapsed:    9.0s\n",
      "[Parallel(n_jobs=-1)]: Done 2750 out of 2750 | elapsed:   14.6s finished\n",
      "[Parallel(n_jobs=-1)]: Using backend LokyBackend with 8 concurrent workers.\n",
      "[Parallel(n_jobs=-1)]: Done  16 tasks      | elapsed:    0.0s\n"
     ]
    },
    {
     "name": "stdout",
     "output_type": "stream",
     "text": [
      "alpha: {'learning_rate': 0.15, 'loss': 'ls', 'max_depth': 2, 'n_estimators': 10}\n",
      "14 Buffalo Bills: 2017-12-01 00:00:00\n",
      "Fitting 5 folds for each of 550 candidates, totalling 2750 fits\n"
     ]
    },
    {
     "name": "stderr",
     "output_type": "stream",
     "text": [
      "[Parallel(n_jobs=-1)]: Done 1648 tasks      | elapsed:    8.2s\n",
      "[Parallel(n_jobs=-1)]: Done 2750 out of 2750 | elapsed:   14.6s finished\n",
      "[Parallel(n_jobs=-1)]: Using backend LokyBackend with 8 concurrent workers.\n"
     ]
    },
    {
     "name": "stdout",
     "output_type": "stream",
     "text": [
      "alpha: {'learning_rate': 0.2, 'loss': 'ls', 'max_depth': 2, 'n_estimators': 4}\n",
      "14 Buffalo Bills: 2018-09-01 00:00:00\n",
      "Fitting 5 folds for each of 550 candidates, totalling 2750 fits\n"
     ]
    },
    {
     "name": "stderr",
     "output_type": "stream",
     "text": [
      "[Parallel(n_jobs=-1)]: Done  16 tasks      | elapsed:    0.1s\n",
      "[Parallel(n_jobs=-1)]: Done 1578 tasks      | elapsed:    7.9s\n",
      "[Parallel(n_jobs=-1)]: Done 2750 out of 2750 | elapsed:   14.3s finished\n",
      "[Parallel(n_jobs=-1)]: Using backend LokyBackend with 8 concurrent workers.\n"
     ]
    },
    {
     "name": "stdout",
     "output_type": "stream",
     "text": [
      "alpha: {'learning_rate': 0.3, 'loss': 'ls', 'max_depth': 2, 'n_estimators': 8}\n",
      "14 Buffalo Bills: 2018-10-01 00:00:00\n",
      "Fitting 5 folds for each of 550 candidates, totalling 2750 fits\n"
     ]
    },
    {
     "name": "stderr",
     "output_type": "stream",
     "text": [
      "[Parallel(n_jobs=-1)]: Done  16 tasks      | elapsed:    0.1s\n",
      "[Parallel(n_jobs=-1)]: Done 1552 tasks      | elapsed:    8.2s\n",
      "[Parallel(n_jobs=-1)]: Done 2750 out of 2750 | elapsed:   15.4s finished\n",
      "[Parallel(n_jobs=-1)]: Using backend LokyBackend with 8 concurrent workers.\n"
     ]
    },
    {
     "name": "stdout",
     "output_type": "stream",
     "text": [
      "alpha: {'learning_rate': 0.4, 'loss': 'huber', 'max_depth': 4, 'n_estimators': 10}\n",
      "14 Buffalo Bills: 2018-11-01 00:00:00\n",
      "Fitting 5 folds for each of 550 candidates, totalling 2750 fits\n"
     ]
    },
    {
     "name": "stderr",
     "output_type": "stream",
     "text": [
      "[Parallel(n_jobs=-1)]: Done  16 tasks      | elapsed:    0.2s\n",
      "[Parallel(n_jobs=-1)]: Done 1745 tasks      | elapsed:    9.2s\n",
      "[Parallel(n_jobs=-1)]: Done 2750 out of 2750 | elapsed:   14.9s finished\n",
      "[Parallel(n_jobs=-1)]: Using backend LokyBackend with 8 concurrent workers.\n"
     ]
    },
    {
     "name": "stdout",
     "output_type": "stream",
     "text": [
      "alpha: {'learning_rate': 0.4, 'loss': 'huber', 'max_depth': 2, 'n_estimators': 8}\n",
      "14 Buffalo Bills: 2018-12-01 00:00:00\n",
      "Fitting 5 folds for each of 550 candidates, totalling 2750 fits\n"
     ]
    },
    {
     "name": "stderr",
     "output_type": "stream",
     "text": [
      "[Parallel(n_jobs=-1)]: Done  16 tasks      | elapsed:    0.1s\n",
      "[Parallel(n_jobs=-1)]: Done 1567 tasks      | elapsed:    8.3s\n",
      "[Parallel(n_jobs=-1)]: Done 2750 out of 2750 | elapsed:   15.2s finished\n",
      "[Parallel(n_jobs=-1)]: Using backend LokyBackend with 8 concurrent workers.\n"
     ]
    },
    {
     "name": "stdout",
     "output_type": "stream",
     "text": [
      "alpha: {'learning_rate': 0.3, 'loss': 'huber', 'max_depth': 2, 'n_estimators': 10}\n",
      "14 Buffalo Bills: 2019-09-01 00:00:00\n",
      "Fitting 5 folds for each of 550 candidates, totalling 2750 fits\n"
     ]
    },
    {
     "name": "stderr",
     "output_type": "stream",
     "text": [
      "[Parallel(n_jobs=-1)]: Done  16 tasks      | elapsed:    0.1s\n",
      "[Parallel(n_jobs=-1)]: Done 1360 tasks      | elapsed:    6.9s\n",
      "[Parallel(n_jobs=-1)]: Done 2750 out of 2750 | elapsed:   14.4s finished\n",
      "[Parallel(n_jobs=-1)]: Using backend LokyBackend with 8 concurrent workers.\n"
     ]
    },
    {
     "name": "stdout",
     "output_type": "stream",
     "text": [
      "alpha: {'learning_rate': 0.3, 'loss': 'huber', 'max_depth': 4, 'n_estimators': 8}\n",
      "14 Buffalo Bills: 2019-10-01 00:00:00\n",
      "Fitting 5 folds for each of 550 candidates, totalling 2750 fits\n"
     ]
    },
    {
     "name": "stderr",
     "output_type": "stream",
     "text": [
      "[Parallel(n_jobs=-1)]: Done  16 tasks      | elapsed:    0.1s\n",
      "[Parallel(n_jobs=-1)]: Done 1552 tasks      | elapsed:    8.0s\n",
      "[Parallel(n_jobs=-1)]: Done 2750 out of 2750 | elapsed:   14.7s finished\n",
      "[Parallel(n_jobs=-1)]: Using backend LokyBackend with 8 concurrent workers.\n"
     ]
    },
    {
     "name": "stdout",
     "output_type": "stream",
     "text": [
      "alpha: {'learning_rate': 0.4, 'loss': 'huber', 'max_depth': 2, 'n_estimators': 10}\n",
      "14 Buffalo Bills: 2019-11-01 00:00:00\n",
      "Fitting 5 folds for each of 550 candidates, totalling 2750 fits\n"
     ]
    },
    {
     "name": "stderr",
     "output_type": "stream",
     "text": [
      "[Parallel(n_jobs=-1)]: Done  16 tasks      | elapsed:    0.1s\n",
      "[Parallel(n_jobs=-1)]: Done 1660 tasks      | elapsed:    8.7s\n",
      "[Parallel(n_jobs=-1)]: Done 2750 out of 2750 | elapsed:   15.5s finished\n",
      "[Parallel(n_jobs=-1)]: Using backend LokyBackend with 8 concurrent workers.\n"
     ]
    },
    {
     "name": "stdout",
     "output_type": "stream",
     "text": [
      "alpha: {'learning_rate': 0.3, 'loss': 'huber', 'max_depth': 4, 'n_estimators': 10}\n",
      "14 Buffalo Bills: 2019-12-01 00:00:00\n",
      "Fitting 5 folds for each of 550 candidates, totalling 2750 fits\n"
     ]
    },
    {
     "name": "stderr",
     "output_type": "stream",
     "text": [
      "[Parallel(n_jobs=-1)]: Done  16 tasks      | elapsed:    0.2s\n",
      "[Parallel(n_jobs=-1)]: Done 1578 tasks      | elapsed:    8.0s\n",
      "[Parallel(n_jobs=-1)]: Done 2750 out of 2750 | elapsed:   14.6s finished\n",
      "[Parallel(n_jobs=-1)]: Using backend LokyBackend with 8 concurrent workers.\n"
     ]
    },
    {
     "name": "stdout",
     "output_type": "stream",
     "text": [
      "alpha: {'learning_rate': 0.3, 'loss': 'huber', 'max_depth': 2, 'n_estimators': 6}\n",
      "15 New England Patriots: 2012-09-01 00:00:00\n",
      "Fitting 5 folds for each of 550 candidates, totalling 2750 fits\n"
     ]
    },
    {
     "name": "stderr",
     "output_type": "stream",
     "text": [
      "[Parallel(n_jobs=-1)]: Done  16 tasks      | elapsed:    0.1s\n",
      "[Parallel(n_jobs=-1)]: Done 1660 tasks      | elapsed:    8.4s\n",
      "[Parallel(n_jobs=-1)]: Done 2750 out of 2750 | elapsed:   14.5s finished\n",
      "[Parallel(n_jobs=-1)]: Using backend LokyBackend with 8 concurrent workers.\n"
     ]
    },
    {
     "name": "stdout",
     "output_type": "stream",
     "text": [
      "alpha: {'learning_rate': 0.4, 'loss': 'ls', 'max_depth': 2, 'n_estimators': 8}\n",
      "15 New England Patriots: 2012-10-01 00:00:00\n",
      "Fitting 5 folds for each of 550 candidates, totalling 2750 fits\n"
     ]
    },
    {
     "name": "stderr",
     "output_type": "stream",
     "text": [
      "[Parallel(n_jobs=-1)]: Done  16 tasks      | elapsed:    0.2s\n",
      "[Parallel(n_jobs=-1)]: Done 1745 tasks      | elapsed:   10.0s\n",
      "[Parallel(n_jobs=-1)]: Done 2750 out of 2750 | elapsed:   15.8s finished\n",
      "[Parallel(n_jobs=-1)]: Using backend LokyBackend with 8 concurrent workers.\n"
     ]
    },
    {
     "name": "stdout",
     "output_type": "stream",
     "text": [
      "alpha: {'learning_rate': 0.5, 'loss': 'huber', 'max_depth': 10, 'n_estimators': 6}\n",
      "15 New England Patriots: 2012-11-01 00:00:00\n",
      "Fitting 5 folds for each of 550 candidates, totalling 2750 fits\n"
     ]
    },
    {
     "name": "stderr",
     "output_type": "stream",
     "text": [
      "[Parallel(n_jobs=-1)]: Done  16 tasks      | elapsed:    0.2s\n",
      "[Parallel(n_jobs=-1)]: Done 1648 tasks      | elapsed:    8.5s\n",
      "[Parallel(n_jobs=-1)]: Done 2750 out of 2750 | elapsed:   14.7s finished\n",
      "[Parallel(n_jobs=-1)]: Using backend LokyBackend with 8 concurrent workers.\n"
     ]
    },
    {
     "name": "stdout",
     "output_type": "stream",
     "text": [
      "alpha: {'learning_rate': 0.2, 'loss': 'huber', 'max_depth': 4, 'n_estimators': 10}\n",
      "15 New England Patriots: 2012-12-01 00:00:00\n",
      "Fitting 5 folds for each of 550 candidates, totalling 2750 fits\n"
     ]
    },
    {
     "name": "stderr",
     "output_type": "stream",
     "text": [
      "[Parallel(n_jobs=-1)]: Done  16 tasks      | elapsed:    0.2s\n",
      "[Parallel(n_jobs=-1)]: Done 1684 tasks      | elapsed:    8.5s\n",
      "[Parallel(n_jobs=-1)]: Done 2750 out of 2750 | elapsed:   14.4s finished\n",
      "[Parallel(n_jobs=-1)]: Using backend LokyBackend with 8 concurrent workers.\n"
     ]
    },
    {
     "name": "stdout",
     "output_type": "stream",
     "text": [
      "alpha: {'learning_rate': 0.3, 'loss': 'ls', 'max_depth': 4, 'n_estimators': 8}\n",
      "15 New England Patriots: 2013-09-01 00:00:00\n",
      "Fitting 5 folds for each of 550 candidates, totalling 2750 fits\n"
     ]
    },
    {
     "name": "stderr",
     "output_type": "stream",
     "text": [
      "[Parallel(n_jobs=-1)]: Done  16 tasks      | elapsed:    0.1s\n",
      "[Parallel(n_jobs=-1)]: Done 1578 tasks      | elapsed:    8.0s\n",
      "[Parallel(n_jobs=-1)]: Done 2750 out of 2750 | elapsed:   14.4s finished\n",
      "[Parallel(n_jobs=-1)]: Using backend LokyBackend with 8 concurrent workers.\n"
     ]
    },
    {
     "name": "stdout",
     "output_type": "stream",
     "text": [
      "alpha: {'learning_rate': 0.5, 'loss': 'ls', 'max_depth': 4, 'n_estimators': 6}\n",
      "15 New England Patriots: 2013-10-01 00:00:00\n",
      "Fitting 5 folds for each of 550 candidates, totalling 2750 fits\n"
     ]
    },
    {
     "name": "stderr",
     "output_type": "stream",
     "text": [
      "[Parallel(n_jobs=-1)]: Done  16 tasks      | elapsed:    0.1s\n",
      "[Parallel(n_jobs=-1)]: Done 1552 tasks      | elapsed:    8.3s\n",
      "[Parallel(n_jobs=-1)]: Done 2750 out of 2750 | elapsed:   15.0s finished\n",
      "[Parallel(n_jobs=-1)]: Using backend LokyBackend with 8 concurrent workers.\n"
     ]
    },
    {
     "name": "stdout",
     "output_type": "stream",
     "text": [
      "alpha: {'learning_rate': 0.3, 'loss': 'ls', 'max_depth': 2, 'n_estimators': 10}\n",
      "15 New England Patriots: 2013-11-01 00:00:00\n",
      "Fitting 5 folds for each of 550 candidates, totalling 2750 fits\n"
     ]
    },
    {
     "name": "stderr",
     "output_type": "stream",
     "text": [
      "[Parallel(n_jobs=-1)]: Done  16 tasks      | elapsed:    0.2s\n",
      "[Parallel(n_jobs=-1)]: Done 1578 tasks      | elapsed:    8.1s\n",
      "[Parallel(n_jobs=-1)]: Done 2750 out of 2750 | elapsed:   14.4s finished\n",
      "[Parallel(n_jobs=-1)]: Using backend LokyBackend with 8 concurrent workers.\n"
     ]
    },
    {
     "name": "stdout",
     "output_type": "stream",
     "text": [
      "alpha: {'learning_rate': 0.4, 'loss': 'huber', 'max_depth': 6, 'n_estimators': 6}\n",
      "15 New England Patriots: 2013-12-01 00:00:00\n",
      "Fitting 5 folds for each of 550 candidates, totalling 2750 fits\n"
     ]
    },
    {
     "name": "stderr",
     "output_type": "stream",
     "text": [
      "[Parallel(n_jobs=-1)]: Done  16 tasks      | elapsed:    0.1s\n",
      "[Parallel(n_jobs=-1)]: Done 1360 tasks      | elapsed:    6.9s\n",
      "[Parallel(n_jobs=-1)]: Done 2750 out of 2750 | elapsed:   14.6s finished\n",
      "[Parallel(n_jobs=-1)]: Using backend LokyBackend with 8 concurrent workers.\n"
     ]
    },
    {
     "name": "stdout",
     "output_type": "stream",
     "text": [
      "alpha: {'learning_rate': 0.4, 'loss': 'huber', 'max_depth': 2, 'n_estimators': 10}\n",
      "15 New England Patriots: 2014-09-01 00:00:00\n",
      "Fitting 5 folds for each of 550 candidates, totalling 2750 fits\n"
     ]
    },
    {
     "name": "stderr",
     "output_type": "stream",
     "text": [
      "[Parallel(n_jobs=-1)]: Done  16 tasks      | elapsed:    0.2s\n",
      "[Parallel(n_jobs=-1)]: Done 1771 tasks      | elapsed:    9.2s\n",
      "[Parallel(n_jobs=-1)]: Done 2750 out of 2750 | elapsed:   14.5s finished\n",
      "[Parallel(n_jobs=-1)]: Using backend LokyBackend with 8 concurrent workers.\n"
     ]
    },
    {
     "name": "stdout",
     "output_type": "stream",
     "text": [
      "alpha: {'learning_rate': 0.3, 'loss': 'huber', 'max_depth': 2, 'n_estimators': 10}\n",
      "15 New England Patriots: 2014-10-01 00:00:00\n",
      "Fitting 5 folds for each of 550 candidates, totalling 2750 fits\n"
     ]
    },
    {
     "name": "stderr",
     "output_type": "stream",
     "text": [
      "[Parallel(n_jobs=-1)]: Done  16 tasks      | elapsed:    0.1s\n",
      "[Parallel(n_jobs=-1)]: Done 1809 tasks      | elapsed:    9.3s\n",
      "[Parallel(n_jobs=-1)]: Done 2750 out of 2750 | elapsed:   14.6s finished\n",
      "[Parallel(n_jobs=-1)]: Using backend LokyBackend with 8 concurrent workers.\n"
     ]
    },
    {
     "name": "stdout",
     "output_type": "stream",
     "text": [
      "alpha: {'learning_rate': 0.3, 'loss': 'huber', 'max_depth': 2, 'n_estimators': 10}\n",
      "15 New England Patriots: 2014-11-01 00:00:00\n",
      "Fitting 5 folds for each of 550 candidates, totalling 2750 fits\n"
     ]
    },
    {
     "name": "stderr",
     "output_type": "stream",
     "text": [
      "[Parallel(n_jobs=-1)]: Done  16 tasks      | elapsed:    0.1s\n",
      "[Parallel(n_jobs=-1)]: Done 1936 tasks      | elapsed:   10.0s\n",
      "[Parallel(n_jobs=-1)]: Done 2750 out of 2750 | elapsed:   14.2s finished\n",
      "[Parallel(n_jobs=-1)]: Using backend LokyBackend with 8 concurrent workers.\n"
     ]
    },
    {
     "name": "stdout",
     "output_type": "stream",
     "text": [
      "alpha: {'learning_rate': 0.3, 'loss': 'huber', 'max_depth': 4, 'n_estimators': 8}\n",
      "15 New England Patriots: 2014-12-01 00:00:00\n",
      "Fitting 5 folds for each of 550 candidates, totalling 2750 fits\n"
     ]
    },
    {
     "name": "stderr",
     "output_type": "stream",
     "text": [
      "[Parallel(n_jobs=-1)]: Done  16 tasks      | elapsed:    0.2s\n",
      "[Parallel(n_jobs=-1)]: Done 1816 tasks      | elapsed:    9.4s\n",
      "[Parallel(n_jobs=-1)]: Done 2750 out of 2750 | elapsed:   14.5s finished\n",
      "[Parallel(n_jobs=-1)]: Using backend LokyBackend with 8 concurrent workers.\n"
     ]
    },
    {
     "name": "stdout",
     "output_type": "stream",
     "text": [
      "alpha: {'learning_rate': 0.6, 'loss': 'huber', 'max_depth': 2, 'n_estimators': 10}\n",
      "15 New England Patriots: 2015-09-01 00:00:00\n",
      "Fitting 5 folds for each of 550 candidates, totalling 2750 fits\n"
     ]
    },
    {
     "name": "stderr",
     "output_type": "stream",
     "text": [
      "[Parallel(n_jobs=-1)]: Done  16 tasks      | elapsed:    0.1s\n",
      "[Parallel(n_jobs=-1)]: Done 1168 tasks      | elapsed:    5.7s\n",
      "[Parallel(n_jobs=-1)]: Done 2750 out of 2750 | elapsed:   13.8s finished\n",
      "[Parallel(n_jobs=-1)]: Using backend LokyBackend with 8 concurrent workers.\n"
     ]
    },
    {
     "name": "stdout",
     "output_type": "stream",
     "text": [
      "alpha: {'learning_rate': 0.4, 'loss': 'ls', 'max_depth': 2, 'n_estimators': 6}\n",
      "15 New England Patriots: 2015-10-01 00:00:00\n",
      "Fitting 5 folds for each of 550 candidates, totalling 2750 fits\n"
     ]
    },
    {
     "name": "stderr",
     "output_type": "stream",
     "text": [
      "[Parallel(n_jobs=-1)]: Done  16 tasks      | elapsed:    0.2s\n",
      "[Parallel(n_jobs=-1)]: Done 1660 tasks      | elapsed:    8.3s\n",
      "[Parallel(n_jobs=-1)]: Done 2750 out of 2750 | elapsed:   14.4s finished\n",
      "[Parallel(n_jobs=-1)]: Using backend LokyBackend with 8 concurrent workers.\n"
     ]
    },
    {
     "name": "stdout",
     "output_type": "stream",
     "text": [
      "alpha: {'learning_rate': 0.2, 'loss': 'ls', 'max_depth': 2, 'n_estimators': 8}\n",
      "15 New England Patriots: 2015-11-01 00:00:00\n",
      "Fitting 5 folds for each of 550 candidates, totalling 2750 fits\n"
     ]
    },
    {
     "name": "stderr",
     "output_type": "stream",
     "text": [
      "[Parallel(n_jobs=-1)]: Done  16 tasks      | elapsed:    0.1s\n",
      "[Parallel(n_jobs=-1)]: Done 1936 tasks      | elapsed:   10.1s\n",
      "[Parallel(n_jobs=-1)]: Done 2750 out of 2750 | elapsed:   14.5s finished\n",
      "[Parallel(n_jobs=-1)]: Using backend LokyBackend with 8 concurrent workers.\n"
     ]
    },
    {
     "name": "stdout",
     "output_type": "stream",
     "text": [
      "alpha: {'learning_rate': 0.3, 'loss': 'ls', 'max_depth': 2, 'n_estimators': 10}\n",
      "15 New England Patriots: 2015-12-01 00:00:00\n",
      "Fitting 5 folds for each of 550 candidates, totalling 2750 fits\n"
     ]
    },
    {
     "name": "stderr",
     "output_type": "stream",
     "text": [
      "[Parallel(n_jobs=-1)]: Done  16 tasks      | elapsed:    0.2s\n",
      "[Parallel(n_jobs=-1)]: Done 1648 tasks      | elapsed:    8.6s\n",
      "[Parallel(n_jobs=-1)]: Done 2750 out of 2750 | elapsed:   15.1s finished\n",
      "[Parallel(n_jobs=-1)]: Using backend LokyBackend with 8 concurrent workers.\n"
     ]
    },
    {
     "name": "stdout",
     "output_type": "stream",
     "text": [
      "alpha: {'learning_rate': 0.3, 'loss': 'ls', 'max_depth': 2, 'n_estimators': 10}\n",
      "15 New England Patriots: 2016-09-01 00:00:00\n",
      "Fitting 5 folds for each of 550 candidates, totalling 2750 fits\n"
     ]
    },
    {
     "name": "stderr",
     "output_type": "stream",
     "text": [
      "[Parallel(n_jobs=-1)]: Done  16 tasks      | elapsed:    0.2s\n",
      "[Parallel(n_jobs=-1)]: Done 1576 tasks      | elapsed:    8.6s\n",
      "[Parallel(n_jobs=-1)]: Done 2750 out of 2750 | elapsed:   16.1s finished\n",
      "[Parallel(n_jobs=-1)]: Using backend LokyBackend with 8 concurrent workers.\n"
     ]
    },
    {
     "name": "stdout",
     "output_type": "stream",
     "text": [
      "alpha: {'learning_rate': 0.3, 'loss': 'ls', 'max_depth': 2, 'n_estimators': 10}\n",
      "15 New England Patriots: 2016-10-01 00:00:00\n",
      "Fitting 5 folds for each of 550 candidates, totalling 2750 fits\n"
     ]
    },
    {
     "name": "stderr",
     "output_type": "stream",
     "text": [
      "[Parallel(n_jobs=-1)]: Done  16 tasks      | elapsed:    0.2s\n",
      "[Parallel(n_jobs=-1)]: Done 1708 tasks      | elapsed:   10.0s\n",
      "[Parallel(n_jobs=-1)]: Done 2750 out of 2750 | elapsed:   16.0s finished\n",
      "[Parallel(n_jobs=-1)]: Using backend LokyBackend with 8 concurrent workers.\n"
     ]
    },
    {
     "name": "stdout",
     "output_type": "stream",
     "text": [
      "alpha: {'learning_rate': 0.3, 'loss': 'ls', 'max_depth': 2, 'n_estimators': 4}\n",
      "15 New England Patriots: 2016-11-01 00:00:00\n",
      "Fitting 5 folds for each of 550 candidates, totalling 2750 fits\n"
     ]
    },
    {
     "name": "stderr",
     "output_type": "stream",
     "text": [
      "[Parallel(n_jobs=-1)]: Done  16 tasks      | elapsed:    0.2s\n",
      "[Parallel(n_jobs=-1)]: Done 1809 tasks      | elapsed:    9.1s\n",
      "[Parallel(n_jobs=-1)]: Done 2750 out of 2750 | elapsed:   14.4s finished\n",
      "[Parallel(n_jobs=-1)]: Using backend LokyBackend with 8 concurrent workers.\n"
     ]
    },
    {
     "name": "stdout",
     "output_type": "stream",
     "text": [
      "alpha: {'learning_rate': 0.15, 'loss': 'ls', 'max_depth': 6, 'n_estimators': 8}\n",
      "15 New England Patriots: 2016-12-01 00:00:00\n",
      "Fitting 5 folds for each of 550 candidates, totalling 2750 fits\n"
     ]
    },
    {
     "name": "stderr",
     "output_type": "stream",
     "text": [
      "[Parallel(n_jobs=-1)]: Done  16 tasks      | elapsed:    0.2s\n",
      "[Parallel(n_jobs=-1)]: Done 1624 tasks      | elapsed:    8.9s\n",
      "[Parallel(n_jobs=-1)]: Done 2750 out of 2750 | elapsed:   15.2s finished\n",
      "[Parallel(n_jobs=-1)]: Using backend LokyBackend with 8 concurrent workers.\n"
     ]
    },
    {
     "name": "stdout",
     "output_type": "stream",
     "text": [
      "alpha: {'learning_rate': 0.6, 'loss': 'ls', 'max_depth': 2, 'n_estimators': 2}\n",
      "15 New England Patriots: 2017-09-01 00:00:00\n",
      "Fitting 5 folds for each of 550 candidates, totalling 2750 fits\n"
     ]
    },
    {
     "name": "stderr",
     "output_type": "stream",
     "text": [
      "[Parallel(n_jobs=-1)]: Done  16 tasks      | elapsed:    0.2s\n",
      "[Parallel(n_jobs=-1)]: Done 1466 tasks      | elapsed:    8.0s\n",
      "[Parallel(n_jobs=-1)]: Done 2750 out of 2750 | elapsed:   15.3s finished\n",
      "[Parallel(n_jobs=-1)]: Using backend LokyBackend with 8 concurrent workers.\n"
     ]
    },
    {
     "name": "stdout",
     "output_type": "stream",
     "text": [
      "alpha: {'learning_rate': 0.4, 'loss': 'ls', 'max_depth': 2, 'n_estimators': 4}\n",
      "15 New England Patriots: 2017-10-01 00:00:00\n",
      "Fitting 5 folds for each of 550 candidates, totalling 2750 fits\n"
     ]
    },
    {
     "name": "stderr",
     "output_type": "stream",
     "text": [
      "[Parallel(n_jobs=-1)]: Done  16 tasks      | elapsed:    0.2s\n",
      "[Parallel(n_jobs=-1)]: Done 1545 tasks      | elapsed:    8.6s\n",
      "[Parallel(n_jobs=-1)]: Done 2750 out of 2750 | elapsed:   15.5s finished\n",
      "[Parallel(n_jobs=-1)]: Using backend LokyBackend with 8 concurrent workers.\n"
     ]
    },
    {
     "name": "stdout",
     "output_type": "stream",
     "text": [
      "alpha: {'learning_rate': 0.4, 'loss': 'ls', 'max_depth': 2, 'n_estimators': 8}\n",
      "15 New England Patriots: 2017-11-01 00:00:00\n",
      "Fitting 5 folds for each of 550 candidates, totalling 2750 fits\n"
     ]
    },
    {
     "name": "stderr",
     "output_type": "stream",
     "text": [
      "[Parallel(n_jobs=-1)]: Done  16 tasks      | elapsed:    0.2s\n",
      "[Parallel(n_jobs=-1)]: Done 1684 tasks      | elapsed:    8.6s\n",
      "[Parallel(n_jobs=-1)]: Done 2750 out of 2750 | elapsed:   14.3s finished\n",
      "[Parallel(n_jobs=-1)]: Using backend LokyBackend with 8 concurrent workers.\n"
     ]
    },
    {
     "name": "stdout",
     "output_type": "stream",
     "text": [
      "alpha: {'learning_rate': 0.3, 'loss': 'ls', 'max_depth': 4, 'n_estimators': 10}\n",
      "15 New England Patriots: 2017-12-01 00:00:00\n",
      "Fitting 5 folds for each of 550 candidates, totalling 2750 fits\n"
     ]
    },
    {
     "name": "stderr",
     "output_type": "stream",
     "text": [
      "[Parallel(n_jobs=-1)]: Done  16 tasks      | elapsed:    0.2s\n",
      "[Parallel(n_jobs=-1)]: Done 1744 tasks      | elapsed:    9.1s\n",
      "[Parallel(n_jobs=-1)]: Done 2750 out of 2750 | elapsed:   14.7s finished\n",
      "[Parallel(n_jobs=-1)]: Using backend LokyBackend with 8 concurrent workers.\n"
     ]
    },
    {
     "name": "stdout",
     "output_type": "stream",
     "text": [
      "alpha: {'learning_rate': 0.5, 'loss': 'ls', 'max_depth': 2, 'n_estimators': 4}\n",
      "15 New England Patriots: 2018-09-01 00:00:00\n",
      "Fitting 5 folds for each of 550 candidates, totalling 2750 fits\n"
     ]
    },
    {
     "name": "stderr",
     "output_type": "stream",
     "text": [
      "[Parallel(n_jobs=-1)]: Done  16 tasks      | elapsed:    0.2s\n",
      "[Parallel(n_jobs=-1)]: Done 1636 tasks      | elapsed:    8.4s\n",
      "[Parallel(n_jobs=-1)]: Done 2750 out of 2750 | elapsed:   14.6s finished\n",
      "[Parallel(n_jobs=-1)]: Using backend LokyBackend with 8 concurrent workers.\n"
     ]
    },
    {
     "name": "stdout",
     "output_type": "stream",
     "text": [
      "alpha: {'learning_rate': 0.3, 'loss': 'huber', 'max_depth': 4, 'n_estimators': 8}\n",
      "15 New England Patriots: 2018-10-01 00:00:00\n",
      "Fitting 5 folds for each of 550 candidates, totalling 2750 fits\n"
     ]
    },
    {
     "name": "stderr",
     "output_type": "stream",
     "text": [
      "[Parallel(n_jobs=-1)]: Done  16 tasks      | elapsed:    0.2s\n",
      "[Parallel(n_jobs=-1)]: Done 1567 tasks      | elapsed:    8.3s\n",
      "[Parallel(n_jobs=-1)]: Done 2750 out of 2750 | elapsed:   15.2s finished\n",
      "[Parallel(n_jobs=-1)]: Using backend LokyBackend with 8 concurrent workers.\n"
     ]
    },
    {
     "name": "stdout",
     "output_type": "stream",
     "text": [
      "alpha: {'learning_rate': 0.6, 'loss': 'ls', 'max_depth': 2, 'n_estimators': 10}\n",
      "15 New England Patriots: 2018-11-01 00:00:00\n",
      "Fitting 5 folds for each of 550 candidates, totalling 2750 fits\n"
     ]
    },
    {
     "name": "stderr",
     "output_type": "stream",
     "text": [
      "[Parallel(n_jobs=-1)]: Done  16 tasks      | elapsed:    0.1s\n",
      "[Parallel(n_jobs=-1)]: Done 1578 tasks      | elapsed:    8.1s\n",
      "[Parallel(n_jobs=-1)]: Done 2750 out of 2750 | elapsed:   14.7s finished\n",
      "[Parallel(n_jobs=-1)]: Using backend LokyBackend with 8 concurrent workers.\n"
     ]
    },
    {
     "name": "stdout",
     "output_type": "stream",
     "text": [
      "alpha: {'learning_rate': 0.5, 'loss': 'ls', 'max_depth': 2, 'n_estimators': 6}\n",
      "15 New England Patriots: 2018-12-01 00:00:00\n",
      "Fitting 5 folds for each of 550 candidates, totalling 2750 fits\n"
     ]
    },
    {
     "name": "stderr",
     "output_type": "stream",
     "text": [
      "[Parallel(n_jobs=-1)]: Done  16 tasks      | elapsed:    0.2s\n",
      "[Parallel(n_jobs=-1)]: Done 1648 tasks      | elapsed:    8.6s\n",
      "[Parallel(n_jobs=-1)]: Done 2750 out of 2750 | elapsed:   15.3s finished\n",
      "[Parallel(n_jobs=-1)]: Using backend LokyBackend with 8 concurrent workers.\n"
     ]
    },
    {
     "name": "stdout",
     "output_type": "stream",
     "text": [
      "alpha: {'learning_rate': 0.3, 'loss': 'ls', 'max_depth': 2, 'n_estimators': 10}\n",
      "15 New England Patriots: 2019-09-01 00:00:00\n",
      "Fitting 5 folds for each of 550 candidates, totalling 2750 fits\n"
     ]
    },
    {
     "name": "stderr",
     "output_type": "stream",
     "text": [
      "[Parallel(n_jobs=-1)]: Done  16 tasks      | elapsed:    0.1s\n",
      "[Parallel(n_jobs=-1)]: Done 1545 tasks      | elapsed:    8.4s\n",
      "[Parallel(n_jobs=-1)]: Done 2750 out of 2750 | elapsed:   15.3s finished\n",
      "[Parallel(n_jobs=-1)]: Using backend LokyBackend with 8 concurrent workers.\n"
     ]
    },
    {
     "name": "stdout",
     "output_type": "stream",
     "text": [
      "alpha: {'learning_rate': 0.4, 'loss': 'huber', 'max_depth': 2, 'n_estimators': 4}\n",
      "15 New England Patriots: 2019-10-01 00:00:00\n",
      "Fitting 5 folds for each of 550 candidates, totalling 2750 fits\n"
     ]
    },
    {
     "name": "stderr",
     "output_type": "stream",
     "text": [
      "[Parallel(n_jobs=-1)]: Done  16 tasks      | elapsed:    0.2s\n",
      "[Parallel(n_jobs=-1)]: Done 1648 tasks      | elapsed:    8.6s\n",
      "[Parallel(n_jobs=-1)]: Done 2750 out of 2750 | elapsed:   14.8s finished\n",
      "[Parallel(n_jobs=-1)]: Using backend LokyBackend with 8 concurrent workers.\n"
     ]
    },
    {
     "name": "stdout",
     "output_type": "stream",
     "text": [
      "alpha: {'learning_rate': 0.3, 'loss': 'ls', 'max_depth': 4, 'n_estimators': 8}\n",
      "15 New England Patriots: 2019-11-01 00:00:00\n",
      "Fitting 5 folds for each of 550 candidates, totalling 2750 fits\n"
     ]
    },
    {
     "name": "stderr",
     "output_type": "stream",
     "text": [
      "[Parallel(n_jobs=-1)]: Done  16 tasks      | elapsed:    0.2s\n",
      "[Parallel(n_jobs=-1)]: Done 1758 tasks      | elapsed:    9.0s\n",
      "[Parallel(n_jobs=-1)]: Done 2750 out of 2750 | elapsed:   14.3s finished\n",
      "[Parallel(n_jobs=-1)]: Using backend LokyBackend with 8 concurrent workers.\n"
     ]
    },
    {
     "name": "stdout",
     "output_type": "stream",
     "text": [
      "alpha: {'learning_rate': 0.3, 'loss': 'huber', 'max_depth': 2, 'n_estimators': 8}\n",
      "15 New England Patriots: 2019-12-01 00:00:00\n",
      "Fitting 5 folds for each of 550 candidates, totalling 2750 fits\n"
     ]
    },
    {
     "name": "stderr",
     "output_type": "stream",
     "text": [
      "[Parallel(n_jobs=-1)]: Done  16 tasks      | elapsed:    0.2s\n",
      "[Parallel(n_jobs=-1)]: Done 1648 tasks      | elapsed:    8.2s\n",
      "[Parallel(n_jobs=-1)]: Done 2750 out of 2750 | elapsed:   14.3s finished\n",
      "[Parallel(n_jobs=-1)]: Using backend LokyBackend with 8 concurrent workers.\n"
     ]
    },
    {
     "name": "stdout",
     "output_type": "stream",
     "text": [
      "alpha: {'learning_rate': 0.4, 'loss': 'ls', 'max_depth': 2, 'n_estimators': 4}\n",
      "16 Baltimore Ravens: 2012-09-01 00:00:00\n",
      "Fitting 5 folds for each of 550 candidates, totalling 2750 fits\n"
     ]
    },
    {
     "name": "stderr",
     "output_type": "stream",
     "text": [
      "[Parallel(n_jobs=-1)]: Done  16 tasks      | elapsed:    0.2s\n",
      "[Parallel(n_jobs=-1)]: Done 1578 tasks      | elapsed:    7.9s\n",
      "[Parallel(n_jobs=-1)]: Done 2750 out of 2750 | elapsed:   14.3s finished\n",
      "[Parallel(n_jobs=-1)]: Using backend LokyBackend with 8 concurrent workers.\n"
     ]
    },
    {
     "name": "stdout",
     "output_type": "stream",
     "text": [
      "alpha: {'learning_rate': 0.15, 'loss': 'huber', 'max_depth': 2, 'n_estimators': 10}\n",
      "16 Baltimore Ravens: 2012-10-01 00:00:00\n",
      "Fitting 5 folds for each of 550 candidates, totalling 2750 fits\n"
     ]
    },
    {
     "name": "stderr",
     "output_type": "stream",
     "text": [
      "[Parallel(n_jobs=-1)]: Done  16 tasks      | elapsed:    0.2s\n",
      "[Parallel(n_jobs=-1)]: Done 1567 tasks      | elapsed:    8.1s\n",
      "[Parallel(n_jobs=-1)]: Done 2750 out of 2750 | elapsed:   15.3s finished\n",
      "[Parallel(n_jobs=-1)]: Using backend LokyBackend with 8 concurrent workers.\n"
     ]
    },
    {
     "name": "stdout",
     "output_type": "stream",
     "text": [
      "alpha: {'learning_rate': 0.15, 'loss': 'ls', 'max_depth': 2, 'n_estimators': 10}\n",
      "16 Baltimore Ravens: 2012-11-01 00:00:00\n",
      "Fitting 5 folds for each of 550 candidates, totalling 2750 fits\n"
     ]
    },
    {
     "name": "stderr",
     "output_type": "stream",
     "text": [
      "[Parallel(n_jobs=-1)]: Done  16 tasks      | elapsed:    0.1s\n",
      "[Parallel(n_jobs=-1)]: Done 1936 tasks      | elapsed:   10.3s\n",
      "[Parallel(n_jobs=-1)]: Done 2750 out of 2750 | elapsed:   14.5s finished\n",
      "[Parallel(n_jobs=-1)]: Using backend LokyBackend with 8 concurrent workers.\n"
     ]
    },
    {
     "name": "stdout",
     "output_type": "stream",
     "text": [
      "alpha: {'learning_rate': 0.5, 'loss': 'ls', 'max_depth': 2, 'n_estimators': 4}\n",
      "16 Baltimore Ravens: 2012-12-01 00:00:00\n",
      "Fitting 5 folds for each of 550 candidates, totalling 2750 fits\n"
     ]
    },
    {
     "name": "stderr",
     "output_type": "stream",
     "text": [
      "[Parallel(n_jobs=-1)]: Done  16 tasks      | elapsed:    0.1s\n",
      "[Parallel(n_jobs=-1)]: Done 1567 tasks      | elapsed:    7.8s\n",
      "[Parallel(n_jobs=-1)]: Done 2750 out of 2750 | elapsed:   14.2s finished\n",
      "[Parallel(n_jobs=-1)]: Using backend LokyBackend with 8 concurrent workers.\n"
     ]
    },
    {
     "name": "stdout",
     "output_type": "stream",
     "text": [
      "alpha: {'learning_rate': 0.3, 'loss': 'ls', 'max_depth': 2, 'n_estimators': 6}\n",
      "16 Baltimore Ravens: 2013-09-01 00:00:00\n",
      "Fitting 5 folds for each of 550 candidates, totalling 2750 fits\n"
     ]
    },
    {
     "name": "stderr",
     "output_type": "stream",
     "text": [
      "[Parallel(n_jobs=-1)]: Done  16 tasks      | elapsed:    0.2s\n",
      "[Parallel(n_jobs=-1)]: Done 1648 tasks      | elapsed:    8.2s\n",
      "[Parallel(n_jobs=-1)]: Done 2750 out of 2750 | elapsed:   14.2s finished\n",
      "[Parallel(n_jobs=-1)]: Using backend LokyBackend with 8 concurrent workers.\n"
     ]
    },
    {
     "name": "stdout",
     "output_type": "stream",
     "text": [
      "alpha: {'learning_rate': 0.5, 'loss': 'ls', 'max_depth': 2, 'n_estimators': 6}\n",
      "16 Baltimore Ravens: 2013-10-01 00:00:00\n",
      "Fitting 5 folds for each of 550 candidates, totalling 2750 fits\n"
     ]
    },
    {
     "name": "stderr",
     "output_type": "stream",
     "text": [
      "[Parallel(n_jobs=-1)]: Done  16 tasks      | elapsed:    0.2s\n",
      "[Parallel(n_jobs=-1)]: Done 1578 tasks      | elapsed:    8.0s\n",
      "[Parallel(n_jobs=-1)]: Done 2750 out of 2750 | elapsed:   14.5s finished\n",
      "[Parallel(n_jobs=-1)]: Using backend LokyBackend with 8 concurrent workers.\n"
     ]
    },
    {
     "name": "stdout",
     "output_type": "stream",
     "text": [
      "alpha: {'learning_rate': 0.3, 'loss': 'ls', 'max_depth': 2, 'n_estimators': 10}\n",
      "16 Baltimore Ravens: 2013-11-01 00:00:00\n",
      "Fitting 5 folds for each of 550 candidates, totalling 2750 fits\n"
     ]
    },
    {
     "name": "stderr",
     "output_type": "stream",
     "text": [
      "[Parallel(n_jobs=-1)]: Done  16 tasks      | elapsed:    0.1s\n",
      "[Parallel(n_jobs=-1)]: Done 1936 tasks      | elapsed:    9.7s\n",
      "[Parallel(n_jobs=-1)]: Done 2750 out of 2750 | elapsed:   14.0s finished\n",
      "[Parallel(n_jobs=-1)]: Using backend LokyBackend with 8 concurrent workers.\n"
     ]
    },
    {
     "name": "stdout",
     "output_type": "stream",
     "text": [
      "alpha: {'learning_rate': 0.4, 'loss': 'ls', 'max_depth': 2, 'n_estimators': 6}\n",
      "16 Baltimore Ravens: 2013-12-01 00:00:00\n",
      "Fitting 5 folds for each of 550 candidates, totalling 2750 fits\n"
     ]
    },
    {
     "name": "stderr",
     "output_type": "stream",
     "text": [
      "[Parallel(n_jobs=-1)]: Done  16 tasks      | elapsed:    0.1s\n",
      "[Parallel(n_jobs=-1)]: Done 1744 tasks      | elapsed:    8.8s\n",
      "[Parallel(n_jobs=-1)]: Done 2750 out of 2750 | elapsed:   14.2s finished\n",
      "[Parallel(n_jobs=-1)]: Using backend LokyBackend with 8 concurrent workers.\n"
     ]
    },
    {
     "name": "stdout",
     "output_type": "stream",
     "text": [
      "alpha: {'learning_rate': 0.6, 'loss': 'huber', 'max_depth': 2, 'n_estimators': 2}\n",
      "16 Baltimore Ravens: 2014-09-01 00:00:00\n",
      "Fitting 5 folds for each of 550 candidates, totalling 2750 fits\n"
     ]
    },
    {
     "name": "stderr",
     "output_type": "stream",
     "text": [
      "[Parallel(n_jobs=-1)]: Done  16 tasks      | elapsed:    0.1s\n",
      "[Parallel(n_jobs=-1)]: Done 1684 tasks      | elapsed:    8.4s\n",
      "[Parallel(n_jobs=-1)]: Done 2750 out of 2750 | elapsed:   14.2s finished\n",
      "[Parallel(n_jobs=-1)]: Using backend LokyBackend with 8 concurrent workers.\n"
     ]
    },
    {
     "name": "stdout",
     "output_type": "stream",
     "text": [
      "alpha: {'learning_rate': 0.6, 'loss': 'huber', 'max_depth': 2, 'n_estimators': 2}\n",
      "16 Baltimore Ravens: 2014-10-01 00:00:00\n",
      "Fitting 5 folds for each of 550 candidates, totalling 2750 fits\n"
     ]
    },
    {
     "name": "stderr",
     "output_type": "stream",
     "text": [
      "[Parallel(n_jobs=-1)]: Done  16 tasks      | elapsed:    0.1s\n",
      "[Parallel(n_jobs=-1)]: Done 1567 tasks      | elapsed:    8.0s\n",
      "[Parallel(n_jobs=-1)]: Done 2750 out of 2750 | elapsed:   15.2s finished\n",
      "[Parallel(n_jobs=-1)]: Using backend LokyBackend with 8 concurrent workers.\n"
     ]
    },
    {
     "name": "stdout",
     "output_type": "stream",
     "text": [
      "alpha: {'learning_rate': 0.6, 'loss': 'huber', 'max_depth': 2, 'n_estimators': 4}\n",
      "16 Baltimore Ravens: 2014-11-01 00:00:00\n",
      "Fitting 5 folds for each of 550 candidates, totalling 2750 fits\n"
     ]
    },
    {
     "name": "stderr",
     "output_type": "stream",
     "text": [
      "[Parallel(n_jobs=-1)]: Done  16 tasks      | elapsed:    0.2s\n",
      "[Parallel(n_jobs=-1)]: Done 1552 tasks      | elapsed:    8.0s\n",
      "[Parallel(n_jobs=-1)]: Done 2750 out of 2750 | elapsed:   15.0s finished\n",
      "[Parallel(n_jobs=-1)]: Using backend LokyBackend with 8 concurrent workers.\n"
     ]
    },
    {
     "name": "stdout",
     "output_type": "stream",
     "text": [
      "alpha: {'learning_rate': 0.5, 'loss': 'huber', 'max_depth': 2, 'n_estimators': 4}\n",
      "16 Baltimore Ravens: 2014-12-01 00:00:00\n",
      "Fitting 5 folds for each of 550 candidates, totalling 2750 fits\n"
     ]
    },
    {
     "name": "stderr",
     "output_type": "stream",
     "text": [
      "[Parallel(n_jobs=-1)]: Done  16 tasks      | elapsed:    0.2s\n",
      "[Parallel(n_jobs=-1)]: Done 1864 tasks      | elapsed:    9.4s\n",
      "[Parallel(n_jobs=-1)]: Done 2750 out of 2750 | elapsed:   14.4s finished\n",
      "[Parallel(n_jobs=-1)]: Using backend LokyBackend with 8 concurrent workers.\n"
     ]
    },
    {
     "name": "stdout",
     "output_type": "stream",
     "text": [
      "alpha: {'learning_rate': 0.2, 'loss': 'huber', 'max_depth': 4, 'n_estimators': 8}\n",
      "16 Baltimore Ravens: 2015-09-01 00:00:00\n",
      "Fitting 5 folds for each of 550 candidates, totalling 2750 fits\n"
     ]
    },
    {
     "name": "stderr",
     "output_type": "stream",
     "text": [
      "[Parallel(n_jobs=-1)]: Done  16 tasks      | elapsed:    0.2s\n",
      "[Parallel(n_jobs=-1)]: Done 1578 tasks      | elapsed:    8.3s\n",
      "[Parallel(n_jobs=-1)]: Done 2750 out of 2750 | elapsed:   14.9s finished\n",
      "[Parallel(n_jobs=-1)]: Using backend LokyBackend with 8 concurrent workers.\n"
     ]
    },
    {
     "name": "stdout",
     "output_type": "stream",
     "text": [
      "alpha: {'learning_rate': 0.2, 'loss': 'huber', 'max_depth': 2, 'n_estimators': 10}\n",
      "16 Baltimore Ravens: 2015-10-01 00:00:00\n",
      "Fitting 5 folds for each of 550 candidates, totalling 2750 fits\n"
     ]
    },
    {
     "name": "stderr",
     "output_type": "stream",
     "text": [
      "[Parallel(n_jobs=-1)]: Done  16 tasks      | elapsed:    0.2s\n",
      "[Parallel(n_jobs=-1)]: Done 1589 tasks      | elapsed:    8.1s\n",
      "[Parallel(n_jobs=-1)]: Done 2750 out of 2750 | elapsed:   14.9s finished\n",
      "[Parallel(n_jobs=-1)]: Using backend LokyBackend with 8 concurrent workers.\n"
     ]
    },
    {
     "name": "stdout",
     "output_type": "stream",
     "text": [
      "alpha: {'learning_rate': 0.3, 'loss': 'ls', 'max_depth': 2, 'n_estimators': 8}\n",
      "16 Baltimore Ravens: 2015-11-01 00:00:00\n",
      "Fitting 5 folds for each of 550 candidates, totalling 2750 fits\n"
     ]
    },
    {
     "name": "stderr",
     "output_type": "stream",
     "text": [
      "[Parallel(n_jobs=-1)]: Done  16 tasks      | elapsed:    0.2s\n",
      "[Parallel(n_jobs=-1)]: Done 1567 tasks      | elapsed:    8.2s\n",
      "[Parallel(n_jobs=-1)]: Done 2750 out of 2750 | elapsed:   15.8s finished\n",
      "[Parallel(n_jobs=-1)]: Using backend LokyBackend with 8 concurrent workers.\n"
     ]
    },
    {
     "name": "stdout",
     "output_type": "stream",
     "text": [
      "alpha: {'learning_rate': 0.6, 'loss': 'ls', 'max_depth': 2, 'n_estimators': 6}\n",
      "16 Baltimore Ravens: 2015-12-01 00:00:00\n",
      "Fitting 5 folds for each of 550 candidates, totalling 2750 fits\n"
     ]
    },
    {
     "name": "stderr",
     "output_type": "stream",
     "text": [
      "[Parallel(n_jobs=-1)]: Done  16 tasks      | elapsed:    0.2s\n",
      "[Parallel(n_jobs=-1)]: Done 1672 tasks      | elapsed:    9.3s\n",
      "[Parallel(n_jobs=-1)]: Done 2750 out of 2750 | elapsed:   15.9s finished\n",
      "[Parallel(n_jobs=-1)]: Using backend LokyBackend with 8 concurrent workers.\n"
     ]
    },
    {
     "name": "stdout",
     "output_type": "stream",
     "text": [
      "alpha: {'learning_rate': 0.3, 'loss': 'huber', 'max_depth': 2, 'n_estimators': 10}\n",
      "16 Baltimore Ravens: 2016-09-01 00:00:00\n",
      "Fitting 5 folds for each of 550 candidates, totalling 2750 fits\n"
     ]
    },
    {
     "name": "stderr",
     "output_type": "stream",
     "text": [
      "[Parallel(n_jobs=-1)]: Done  16 tasks      | elapsed:    0.2s\n",
      "[Parallel(n_jobs=-1)]: Done 1451 tasks      | elapsed:    8.1s\n",
      "[Parallel(n_jobs=-1)]: Done 2571 tasks      | elapsed:   14.0s\n",
      "[Parallel(n_jobs=-1)]: Done 2750 out of 2750 | elapsed:   15.3s finished\n",
      "[Parallel(n_jobs=-1)]: Using backend LokyBackend with 8 concurrent workers.\n"
     ]
    },
    {
     "name": "stdout",
     "output_type": "stream",
     "text": [
      "alpha: {'learning_rate': 0.3, 'loss': 'ls', 'max_depth': 2, 'n_estimators': 10}\n",
      "16 Baltimore Ravens: 2016-10-01 00:00:00\n",
      "Fitting 5 folds for each of 550 candidates, totalling 2750 fits\n"
     ]
    },
    {
     "name": "stderr",
     "output_type": "stream",
     "text": [
      "[Parallel(n_jobs=-1)]: Done  16 tasks      | elapsed:    0.1s\n",
      "[Parallel(n_jobs=-1)]: Done 1578 tasks      | elapsed:    8.0s\n",
      "[Parallel(n_jobs=-1)]: Done 2750 out of 2750 | elapsed:   14.8s finished\n",
      "[Parallel(n_jobs=-1)]: Using backend LokyBackend with 8 concurrent workers.\n"
     ]
    },
    {
     "name": "stdout",
     "output_type": "stream",
     "text": [
      "alpha: {'learning_rate': 0.2, 'loss': 'ls', 'max_depth': 2, 'n_estimators': 10}\n",
      "16 Baltimore Ravens: 2016-11-01 00:00:00\n",
      "Fitting 5 folds for each of 550 candidates, totalling 2750 fits\n"
     ]
    },
    {
     "name": "stderr",
     "output_type": "stream",
     "text": [
      "[Parallel(n_jobs=-1)]: Done  16 tasks      | elapsed:    0.2s\n",
      "[Parallel(n_jobs=-1)]: Done 1930 tasks      | elapsed:    9.6s\n",
      "[Parallel(n_jobs=-1)]: Done 2750 out of 2750 | elapsed:   14.0s finished\n",
      "[Parallel(n_jobs=-1)]: Using backend LokyBackend with 8 concurrent workers.\n"
     ]
    },
    {
     "name": "stdout",
     "output_type": "stream",
     "text": [
      "alpha: {'learning_rate': 0.6, 'loss': 'ls', 'max_depth': 2, 'n_estimators': 2}\n",
      "16 Baltimore Ravens: 2016-12-01 00:00:00\n",
      "Fitting 5 folds for each of 550 candidates, totalling 2750 fits\n"
     ]
    },
    {
     "name": "stderr",
     "output_type": "stream",
     "text": [
      "[Parallel(n_jobs=-1)]: Done  16 tasks      | elapsed:    0.2s\n",
      "[Parallel(n_jobs=-1)]: Done 2128 tasks      | elapsed:   10.4s\n",
      "[Parallel(n_jobs=-1)]: Done 2750 out of 2750 | elapsed:   13.6s finished\n",
      "[Parallel(n_jobs=-1)]: Using backend LokyBackend with 8 concurrent workers.\n"
     ]
    },
    {
     "name": "stdout",
     "output_type": "stream",
     "text": [
      "alpha: {'learning_rate': 0.3, 'loss': 'huber', 'max_depth': 2, 'n_estimators': 6}\n",
      "16 Baltimore Ravens: 2017-09-01 00:00:00\n",
      "Fitting 5 folds for each of 550 candidates, totalling 2750 fits\n"
     ]
    },
    {
     "name": "stderr",
     "output_type": "stream",
     "text": [
      "[Parallel(n_jobs=-1)]: Done  16 tasks      | elapsed:    0.2s\n",
      "[Parallel(n_jobs=-1)]: Done 2128 tasks      | elapsed:   10.6s\n",
      "[Parallel(n_jobs=-1)]: Done 2750 out of 2750 | elapsed:   13.8s finished\n",
      "[Parallel(n_jobs=-1)]: Using backend LokyBackend with 8 concurrent workers.\n"
     ]
    },
    {
     "name": "stdout",
     "output_type": "stream",
     "text": [
      "alpha: {'learning_rate': 0.3, 'loss': 'ls', 'max_depth': 2, 'n_estimators': 10}\n",
      "16 Baltimore Ravens: 2017-10-01 00:00:00\n",
      "Fitting 5 folds for each of 550 candidates, totalling 2750 fits\n"
     ]
    },
    {
     "name": "stderr",
     "output_type": "stream",
     "text": [
      "[Parallel(n_jobs=-1)]: Done  16 tasks      | elapsed:    0.2s\n",
      "[Parallel(n_jobs=-1)]: Done 1809 tasks      | elapsed:    9.1s\n",
      "[Parallel(n_jobs=-1)]: Done 2750 out of 2750 | elapsed:   14.5s finished\n",
      "[Parallel(n_jobs=-1)]: Using backend LokyBackend with 8 concurrent workers.\n"
     ]
    },
    {
     "name": "stdout",
     "output_type": "stream",
     "text": [
      "alpha: {'learning_rate': 0.3, 'loss': 'huber', 'max_depth': 2, 'n_estimators': 8}\n",
      "16 Baltimore Ravens: 2017-11-01 00:00:00\n",
      "Fitting 5 folds for each of 550 candidates, totalling 2750 fits\n"
     ]
    },
    {
     "name": "stderr",
     "output_type": "stream",
     "text": [
      "[Parallel(n_jobs=-1)]: Done  16 tasks      | elapsed:    0.2s\n",
      "[Parallel(n_jobs=-1)]: Done 2128 tasks      | elapsed:    9.9s\n",
      "[Parallel(n_jobs=-1)]: Done 2750 out of 2750 | elapsed:   13.2s finished\n",
      "[Parallel(n_jobs=-1)]: Using backend LokyBackend with 8 concurrent workers.\n"
     ]
    },
    {
     "name": "stdout",
     "output_type": "stream",
     "text": [
      "alpha: {'learning_rate': 0.6, 'loss': 'huber', 'max_depth': 2, 'n_estimators': 2}\n",
      "16 Baltimore Ravens: 2017-12-01 00:00:00\n",
      "Fitting 5 folds for each of 550 candidates, totalling 2750 fits\n"
     ]
    },
    {
     "name": "stderr",
     "output_type": "stream",
     "text": [
      "[Parallel(n_jobs=-1)]: Done  16 tasks      | elapsed:    0.2s\n",
      "[Parallel(n_jobs=-1)]: Done 1784 tasks      | elapsed:    8.2s\n",
      "[Parallel(n_jobs=-1)]: Done 2750 out of 2750 | elapsed:   13.3s finished\n",
      "[Parallel(n_jobs=-1)]: Using backend LokyBackend with 8 concurrent workers.\n"
     ]
    },
    {
     "name": "stdout",
     "output_type": "stream",
     "text": [
      "alpha: {'learning_rate': 0.15, 'loss': 'ls', 'max_depth': 4, 'n_estimators': 10}\n",
      "16 Baltimore Ravens: 2018-09-01 00:00:00\n",
      "Fitting 5 folds for each of 550 candidates, totalling 2750 fits\n"
     ]
    },
    {
     "name": "stderr",
     "output_type": "stream",
     "text": [
      "[Parallel(n_jobs=-1)]: Done  16 tasks      | elapsed:    0.1s\n",
      "[Parallel(n_jobs=-1)]: Done 1936 tasks      | elapsed:    9.3s\n",
      "[Parallel(n_jobs=-1)]: Done 2750 out of 2750 | elapsed:   13.6s finished\n",
      "[Parallel(n_jobs=-1)]: Using backend LokyBackend with 8 concurrent workers.\n"
     ]
    },
    {
     "name": "stdout",
     "output_type": "stream",
     "text": [
      "alpha: {'learning_rate': 0.4, 'loss': 'ls', 'max_depth': 2, 'n_estimators': 4}\n",
      "16 Baltimore Ravens: 2018-10-01 00:00:00\n",
      "Fitting 5 folds for each of 550 candidates, totalling 2750 fits\n"
     ]
    },
    {
     "name": "stderr",
     "output_type": "stream",
     "text": [
      "[Parallel(n_jobs=-1)]: Done  16 tasks      | elapsed:    0.1s\n",
      "[Parallel(n_jobs=-1)]: Done 1930 tasks      | elapsed:    9.2s\n",
      "[Parallel(n_jobs=-1)]: Done 2750 out of 2750 | elapsed:   13.6s finished\n",
      "[Parallel(n_jobs=-1)]: Using backend LokyBackend with 8 concurrent workers.\n"
     ]
    },
    {
     "name": "stdout",
     "output_type": "stream",
     "text": [
      "alpha: {'learning_rate': 0.4, 'loss': 'ls', 'max_depth': 4, 'n_estimators': 4}\n",
      "16 Baltimore Ravens: 2018-11-01 00:00:00\n",
      "Fitting 5 folds for each of 550 candidates, totalling 2750 fits\n"
     ]
    },
    {
     "name": "stderr",
     "output_type": "stream",
     "text": [
      "[Parallel(n_jobs=-1)]: Done  16 tasks      | elapsed:    0.1s\n",
      "[Parallel(n_jobs=-1)]: Done 1456 tasks      | elapsed:    8.4s\n",
      "[Parallel(n_jobs=-1)]: Done 2750 out of 2750 | elapsed:   15.5s finished\n",
      "[Parallel(n_jobs=-1)]: Using backend LokyBackend with 8 concurrent workers.\n"
     ]
    },
    {
     "name": "stdout",
     "output_type": "stream",
     "text": [
      "alpha: {'learning_rate': 0.6, 'loss': 'ls', 'max_depth': 2, 'n_estimators': 2}\n",
      "16 Baltimore Ravens: 2018-12-01 00:00:00\n",
      "Fitting 5 folds for each of 550 candidates, totalling 2750 fits\n"
     ]
    },
    {
     "name": "stderr",
     "output_type": "stream",
     "text": [
      "[Parallel(n_jobs=-1)]: Done  16 tasks      | elapsed:    0.1s\n",
      "[Parallel(n_jobs=-1)]: Done 1168 tasks      | elapsed:    5.7s\n",
      "[Parallel(n_jobs=-1)]: Done 2750 out of 2750 | elapsed:   14.2s finished\n",
      "[Parallel(n_jobs=-1)]: Using backend LokyBackend with 8 concurrent workers.\n"
     ]
    },
    {
     "name": "stdout",
     "output_type": "stream",
     "text": [
      "alpha: {'learning_rate': 0.4, 'loss': 'ls', 'max_depth': 2, 'n_estimators': 4}\n",
      "16 Baltimore Ravens: 2019-09-01 00:00:00\n",
      "Fitting 5 folds for each of 550 candidates, totalling 2750 fits\n"
     ]
    },
    {
     "name": "stderr",
     "output_type": "stream",
     "text": [
      "[Parallel(n_jobs=-1)]: Done  16 tasks      | elapsed:    0.2s\n",
      "[Parallel(n_jobs=-1)]: Done 1780 tasks      | elapsed:    8.9s\n",
      "[Parallel(n_jobs=-1)]: Done 2750 out of 2750 | elapsed:   14.2s finished\n",
      "[Parallel(n_jobs=-1)]: Using backend LokyBackend with 8 concurrent workers.\n"
     ]
    },
    {
     "name": "stdout",
     "output_type": "stream",
     "text": [
      "alpha: {'learning_rate': 0.5, 'loss': 'ls', 'max_depth': 2, 'n_estimators': 10}\n",
      "16 Baltimore Ravens: 2019-10-01 00:00:00\n",
      "Fitting 5 folds for each of 550 candidates, totalling 2750 fits\n"
     ]
    },
    {
     "name": "stderr",
     "output_type": "stream",
     "text": [
      "[Parallel(n_jobs=-1)]: Done  16 tasks      | elapsed:    0.1s\n",
      "[Parallel(n_jobs=-1)]: Done 1684 tasks      | elapsed:    8.5s\n",
      "[Parallel(n_jobs=-1)]: Done 2750 out of 2750 | elapsed:   14.2s finished\n",
      "[Parallel(n_jobs=-1)]: Using backend LokyBackend with 8 concurrent workers.\n"
     ]
    },
    {
     "name": "stdout",
     "output_type": "stream",
     "text": [
      "alpha: {'learning_rate': 0.5, 'loss': 'ls', 'max_depth': 2, 'n_estimators': 6}\n",
      "16 Baltimore Ravens: 2019-11-01 00:00:00\n",
      "Fitting 5 folds for each of 550 candidates, totalling 2750 fits\n"
     ]
    },
    {
     "name": "stderr",
     "output_type": "stream",
     "text": [
      "[Parallel(n_jobs=-1)]: Done  16 tasks      | elapsed:    0.2s\n",
      "[Parallel(n_jobs=-1)]: Done 1648 tasks      | elapsed:    8.9s\n",
      "[Parallel(n_jobs=-1)]: Done 2750 out of 2750 | elapsed:   15.1s finished\n",
      "[Parallel(n_jobs=-1)]: Using backend LokyBackend with 8 concurrent workers.\n"
     ]
    },
    {
     "name": "stdout",
     "output_type": "stream",
     "text": [
      "alpha: {'learning_rate': 0.2, 'loss': 'ls', 'max_depth': 2, 'n_estimators': 10}\n",
      "16 Baltimore Ravens: 2019-12-01 00:00:00\n",
      "Fitting 5 folds for each of 550 candidates, totalling 2750 fits\n"
     ]
    },
    {
     "name": "stderr",
     "output_type": "stream",
     "text": [
      "[Parallel(n_jobs=-1)]: Done  16 tasks      | elapsed:    0.1s\n",
      "[Parallel(n_jobs=-1)]: Done 1567 tasks      | elapsed:    8.1s\n",
      "[Parallel(n_jobs=-1)]: Done 2750 out of 2750 | elapsed:   14.9s finished\n",
      "[Parallel(n_jobs=-1)]: Using backend LokyBackend with 8 concurrent workers.\n"
     ]
    },
    {
     "name": "stdout",
     "output_type": "stream",
     "text": [
      "alpha: {'learning_rate': 0.15, 'loss': 'ls', 'max_depth': 2, 'n_estimators': 8}\n",
      "17 Tampa Bay Buccaneers: 2012-09-01 00:00:00\n",
      "Fitting 5 folds for each of 550 candidates, totalling 2750 fits\n"
     ]
    },
    {
     "name": "stderr",
     "output_type": "stream",
     "text": [
      "[Parallel(n_jobs=-1)]: Done  16 tasks      | elapsed:    0.2s\n",
      "[Parallel(n_jobs=-1)]: Done 1556 tasks      | elapsed:    7.8s\n",
      "[Parallel(n_jobs=-1)]: Done 2750 out of 2750 | elapsed:   14.5s finished\n",
      "[Parallel(n_jobs=-1)]: Using backend LokyBackend with 8 concurrent workers.\n"
     ]
    },
    {
     "name": "stdout",
     "output_type": "stream",
     "text": [
      "alpha: {'learning_rate': 0.4, 'loss': 'huber', 'max_depth': 6, 'n_estimators': 8}\n",
      "17 Tampa Bay Buccaneers: 2012-10-01 00:00:00\n",
      "Fitting 5 folds for each of 550 candidates, totalling 2750 fits\n"
     ]
    },
    {
     "name": "stderr",
     "output_type": "stream",
     "text": [
      "[Parallel(n_jobs=-1)]: Done  16 tasks      | elapsed:    0.2s\n",
      "[Parallel(n_jobs=-1)]: Done 1567 tasks      | elapsed:    7.7s\n",
      "[Parallel(n_jobs=-1)]: Done 2750 out of 2750 | elapsed:   13.9s finished\n",
      "[Parallel(n_jobs=-1)]: Using backend LokyBackend with 8 concurrent workers.\n"
     ]
    },
    {
     "name": "stdout",
     "output_type": "stream",
     "text": [
      "alpha: {'learning_rate': 0.2, 'loss': 'huber', 'max_depth': 2, 'n_estimators': 10}\n",
      "17 Tampa Bay Buccaneers: 2012-11-01 00:00:00\n",
      "Fitting 5 folds for each of 550 candidates, totalling 2750 fits\n"
     ]
    },
    {
     "name": "stderr",
     "output_type": "stream",
     "text": [
      "[Parallel(n_jobs=-1)]: Done  16 tasks      | elapsed:    0.2s\n",
      "[Parallel(n_jobs=-1)]: Done 1798 tasks      | elapsed:    9.5s\n",
      "[Parallel(n_jobs=-1)]: Done 2750 out of 2750 | elapsed:   14.6s finished\n",
      "[Parallel(n_jobs=-1)]: Using backend LokyBackend with 8 concurrent workers.\n"
     ]
    },
    {
     "name": "stdout",
     "output_type": "stream",
     "text": [
      "alpha: {'learning_rate': 0.2, 'loss': 'huber', 'max_depth': 2, 'n_estimators': 8}\n",
      "17 Tampa Bay Buccaneers: 2012-12-01 00:00:00\n",
      "Fitting 5 folds for each of 550 candidates, totalling 2750 fits\n"
     ]
    },
    {
     "name": "stderr",
     "output_type": "stream",
     "text": [
      "[Parallel(n_jobs=-1)]: Done  16 tasks      | elapsed:    0.1s\n",
      "[Parallel(n_jobs=-1)]: Done 1168 tasks      | elapsed:    5.8s\n",
      "[Parallel(n_jobs=-1)]: Done 2750 out of 2750 | elapsed:   14.4s finished\n",
      "[Parallel(n_jobs=-1)]: Using backend LokyBackend with 8 concurrent workers.\n"
     ]
    },
    {
     "name": "stdout",
     "output_type": "stream",
     "text": [
      "alpha: {'learning_rate': 0.2, 'loss': 'huber', 'max_depth': 2, 'n_estimators': 10}\n",
      "17 Tampa Bay Buccaneers: 2013-09-01 00:00:00\n",
      "Fitting 5 folds for each of 550 candidates, totalling 2750 fits\n"
     ]
    },
    {
     "name": "stderr",
     "output_type": "stream",
     "text": [
      "[Parallel(n_jobs=-1)]: Done  16 tasks      | elapsed:    0.2s\n",
      "[Parallel(n_jobs=-1)]: Done 1864 tasks      | elapsed:   10.1s\n",
      "[Parallel(n_jobs=-1)]: Done 2750 out of 2750 | elapsed:   15.4s finished\n",
      "[Parallel(n_jobs=-1)]: Using backend LokyBackend with 8 concurrent workers.\n"
     ]
    },
    {
     "name": "stdout",
     "output_type": "stream",
     "text": [
      "alpha: {'learning_rate': 0.5, 'loss': 'huber', 'max_depth': 2, 'n_estimators': 8}\n",
      "17 Tampa Bay Buccaneers: 2013-10-01 00:00:00\n",
      "Fitting 5 folds for each of 550 candidates, totalling 2750 fits\n"
     ]
    },
    {
     "name": "stderr",
     "output_type": "stream",
     "text": [
      "[Parallel(n_jobs=-1)]: Done  16 tasks      | elapsed:    0.1s\n",
      "[Parallel(n_jobs=-1)]: Done 1744 tasks      | elapsed:    9.0s\n",
      "[Parallel(n_jobs=-1)]: Done 2750 out of 2750 | elapsed:   14.6s finished\n",
      "[Parallel(n_jobs=-1)]: Using backend LokyBackend with 8 concurrent workers.\n"
     ]
    },
    {
     "name": "stdout",
     "output_type": "stream",
     "text": [
      "alpha: {'learning_rate': 0.2, 'loss': 'huber', 'max_depth': 2, 'n_estimators': 10}\n",
      "17 Tampa Bay Buccaneers: 2013-11-01 00:00:00\n",
      "Fitting 5 folds for each of 550 candidates, totalling 2750 fits\n"
     ]
    },
    {
     "name": "stderr",
     "output_type": "stream",
     "text": [
      "[Parallel(n_jobs=-1)]: Done  16 tasks      | elapsed:    0.1s\n",
      "[Parallel(n_jobs=-1)]: Done 1624 tasks      | elapsed:    8.7s\n",
      "[Parallel(n_jobs=-1)]: Done 2750 out of 2750 | elapsed:   15.3s finished\n",
      "[Parallel(n_jobs=-1)]: Using backend LokyBackend with 8 concurrent workers.\n"
     ]
    },
    {
     "name": "stdout",
     "output_type": "stream",
     "text": [
      "alpha: {'learning_rate': 0.2, 'loss': 'huber', 'max_depth': 2, 'n_estimators': 10}\n",
      "17 Tampa Bay Buccaneers: 2013-12-01 00:00:00\n",
      "Fitting 5 folds for each of 550 candidates, totalling 2750 fits\n"
     ]
    },
    {
     "name": "stderr",
     "output_type": "stream",
     "text": [
      "[Parallel(n_jobs=-1)]: Done  16 tasks      | elapsed:    0.1s\n",
      "[Parallel(n_jobs=-1)]: Done 1660 tasks      | elapsed:    8.4s\n",
      "[Parallel(n_jobs=-1)]: Done 2750 out of 2750 | elapsed:   14.5s finished\n",
      "[Parallel(n_jobs=-1)]: Using backend LokyBackend with 8 concurrent workers.\n"
     ]
    },
    {
     "name": "stdout",
     "output_type": "stream",
     "text": [
      "alpha: {'learning_rate': 0.4, 'loss': 'ls', 'max_depth': 2, 'n_estimators': 4}\n",
      "17 Tampa Bay Buccaneers: 2014-09-01 00:00:00\n",
      "Fitting 5 folds for each of 550 candidates, totalling 2750 fits\n"
     ]
    },
    {
     "name": "stderr",
     "output_type": "stream",
     "text": [
      "[Parallel(n_jobs=-1)]: Done  16 tasks      | elapsed:    0.1s\n",
      "[Parallel(n_jobs=-1)]: Done 1672 tasks      | elapsed:    8.8s\n",
      "[Parallel(n_jobs=-1)]: Done 2750 out of 2750 | elapsed:   14.7s finished\n",
      "[Parallel(n_jobs=-1)]: Using backend LokyBackend with 8 concurrent workers.\n"
     ]
    },
    {
     "name": "stdout",
     "output_type": "stream",
     "text": [
      "alpha: {'learning_rate': 0.3, 'loss': 'huber', 'max_depth': 4, 'n_estimators': 8}\n",
      "17 Tampa Bay Buccaneers: 2014-10-01 00:00:00\n",
      "Fitting 5 folds for each of 550 candidates, totalling 2750 fits\n"
     ]
    },
    {
     "name": "stderr",
     "output_type": "stream",
     "text": [
      "[Parallel(n_jobs=-1)]: Done  16 tasks      | elapsed:    0.2s\n",
      "[Parallel(n_jobs=-1)]: Done 1567 tasks      | elapsed:    7.9s\n",
      "[Parallel(n_jobs=-1)]: Done 2750 out of 2750 | elapsed:   14.6s finished\n",
      "[Parallel(n_jobs=-1)]: Using backend LokyBackend with 8 concurrent workers.\n"
     ]
    },
    {
     "name": "stdout",
     "output_type": "stream",
     "text": [
      "alpha: {'learning_rate': 0.5, 'loss': 'huber', 'max_depth': 2, 'n_estimators': 8}\n",
      "17 Tampa Bay Buccaneers: 2014-11-01 00:00:00\n",
      "Fitting 5 folds for each of 550 candidates, totalling 2750 fits\n"
     ]
    },
    {
     "name": "stderr",
     "output_type": "stream",
     "text": [
      "[Parallel(n_jobs=-1)]: Done  16 tasks      | elapsed:    0.2s\n",
      "[Parallel(n_jobs=-1)]: Done 1672 tasks      | elapsed:    9.2s\n",
      "[Parallel(n_jobs=-1)]: Done 2750 out of 2750 | elapsed:   15.4s finished\n",
      "[Parallel(n_jobs=-1)]: Using backend LokyBackend with 8 concurrent workers.\n"
     ]
    },
    {
     "name": "stdout",
     "output_type": "stream",
     "text": [
      "alpha: {'learning_rate': 0.3, 'loss': 'ls', 'max_depth': 2, 'n_estimators': 6}\n",
      "17 Tampa Bay Buccaneers: 2014-12-01 00:00:00\n",
      "Fitting 5 folds for each of 550 candidates, totalling 2750 fits\n"
     ]
    },
    {
     "name": "stderr",
     "output_type": "stream",
     "text": [
      "[Parallel(n_jobs=-1)]: Done  16 tasks      | elapsed:    0.1s\n",
      "[Parallel(n_jobs=-1)]: Done 1936 tasks      | elapsed:   10.1s\n",
      "[Parallel(n_jobs=-1)]: Done 2750 out of 2750 | elapsed:   14.5s finished\n",
      "[Parallel(n_jobs=-1)]: Using backend LokyBackend with 8 concurrent workers.\n"
     ]
    },
    {
     "name": "stdout",
     "output_type": "stream",
     "text": [
      "alpha: {'learning_rate': 0.6, 'loss': 'ls', 'max_depth': 4, 'n_estimators': 2}\n",
      "17 Tampa Bay Buccaneers: 2015-09-01 00:00:00\n",
      "Fitting 5 folds for each of 550 candidates, totalling 2750 fits\n"
     ]
    },
    {
     "name": "stderr",
     "output_type": "stream",
     "text": [
      "[Parallel(n_jobs=-1)]: Done  16 tasks      | elapsed:    0.1s\n",
      "[Parallel(n_jobs=-1)]: Done 1624 tasks      | elapsed:    8.6s\n",
      "[Parallel(n_jobs=-1)]: Done 2750 out of 2750 | elapsed:   15.6s finished\n",
      "[Parallel(n_jobs=-1)]: Using backend LokyBackend with 8 concurrent workers.\n"
     ]
    },
    {
     "name": "stdout",
     "output_type": "stream",
     "text": [
      "alpha: {'learning_rate': 0.2, 'loss': 'ls', 'max_depth': 2, 'n_estimators': 10}\n",
      "17 Tampa Bay Buccaneers: 2015-10-01 00:00:00\n",
      "Fitting 5 folds for each of 550 candidates, totalling 2750 fits\n"
     ]
    },
    {
     "name": "stderr",
     "output_type": "stream",
     "text": [
      "[Parallel(n_jobs=-1)]: Done  16 tasks      | elapsed:    0.1s\n",
      "[Parallel(n_jobs=-1)]: Done 720 tasks      | elapsed:    4.2s\n",
      "[Parallel(n_jobs=-1)]: Done 2000 tasks      | elapsed:   11.7s\n",
      "[Parallel(n_jobs=-1)]: Done 2750 out of 2750 | elapsed:   16.3s finished\n",
      "[Parallel(n_jobs=-1)]: Using backend LokyBackend with 8 concurrent workers.\n"
     ]
    },
    {
     "name": "stdout",
     "output_type": "stream",
     "text": [
      "alpha: {'learning_rate': 0.2, 'loss': 'ls', 'max_depth': 4, 'n_estimators': 10}\n",
      "17 Tampa Bay Buccaneers: 2015-11-01 00:00:00\n",
      "Fitting 5 folds for each of 550 candidates, totalling 2750 fits\n"
     ]
    },
    {
     "name": "stderr",
     "output_type": "stream",
     "text": [
      "[Parallel(n_jobs=-1)]: Done  16 tasks      | elapsed:    0.2s\n",
      "[Parallel(n_jobs=-1)]: Done 1576 tasks      | elapsed:    8.8s\n",
      "[Parallel(n_jobs=-1)]: Done 2750 out of 2750 | elapsed:   15.6s finished\n",
      "[Parallel(n_jobs=-1)]: Using backend LokyBackend with 8 concurrent workers.\n"
     ]
    },
    {
     "name": "stdout",
     "output_type": "stream",
     "text": [
      "alpha: {'learning_rate': 0.3, 'loss': 'huber', 'max_depth': 2, 'n_estimators': 10}\n",
      "17 Tampa Bay Buccaneers: 2015-12-01 00:00:00\n",
      "Fitting 5 folds for each of 550 candidates, totalling 2750 fits\n"
     ]
    },
    {
     "name": "stderr",
     "output_type": "stream",
     "text": [
      "[Parallel(n_jobs=-1)]: Done  16 tasks      | elapsed:    0.2s\n",
      "[Parallel(n_jobs=-1)]: Done 1809 tasks      | elapsed:    9.0s\n",
      "[Parallel(n_jobs=-1)]: Done 2750 out of 2750 | elapsed:   14.1s finished\n",
      "[Parallel(n_jobs=-1)]: Using backend LokyBackend with 8 concurrent workers.\n"
     ]
    },
    {
     "name": "stdout",
     "output_type": "stream",
     "text": [
      "alpha: {'learning_rate': 0.3, 'loss': 'huber', 'max_depth': 2, 'n_estimators': 10}\n",
      "17 Tampa Bay Buccaneers: 2016-09-01 00:00:00\n",
      "Fitting 5 folds for each of 550 candidates, totalling 2750 fits\n"
     ]
    },
    {
     "name": "stderr",
     "output_type": "stream",
     "text": [
      "[Parallel(n_jobs=-1)]: Done  16 tasks      | elapsed:    0.2s\n",
      "[Parallel(n_jobs=-1)]: Done 1804 tasks      | elapsed:    8.9s\n",
      "[Parallel(n_jobs=-1)]: Done 2750 out of 2750 | elapsed:   14.1s finished\n",
      "[Parallel(n_jobs=-1)]: Using backend LokyBackend with 8 concurrent workers.\n"
     ]
    },
    {
     "name": "stdout",
     "output_type": "stream",
     "text": [
      "alpha: {'learning_rate': 0.2, 'loss': 'huber', 'max_depth': 2, 'n_estimators': 8}\n",
      "17 Tampa Bay Buccaneers: 2016-10-01 00:00:00\n",
      "Fitting 5 folds for each of 550 candidates, totalling 2750 fits\n"
     ]
    },
    {
     "name": "stderr",
     "output_type": "stream",
     "text": [
      "[Parallel(n_jobs=-1)]: Done  16 tasks      | elapsed:    0.1s\n",
      "[Parallel(n_jobs=-1)]: Done 1552 tasks      | elapsed:    7.5s\n",
      "[Parallel(n_jobs=-1)]: Done 2750 out of 2750 | elapsed:   13.9s finished\n",
      "[Parallel(n_jobs=-1)]: Using backend LokyBackend with 8 concurrent workers.\n"
     ]
    },
    {
     "name": "stdout",
     "output_type": "stream",
     "text": [
      "alpha: {'learning_rate': 0.3, 'loss': 'ls', 'max_depth': 2, 'n_estimators': 8}\n",
      "17 Tampa Bay Buccaneers: 2016-11-01 00:00:00\n",
      "Fitting 5 folds for each of 550 candidates, totalling 2750 fits\n"
     ]
    },
    {
     "name": "stderr",
     "output_type": "stream",
     "text": [
      "[Parallel(n_jobs=-1)]: Done  16 tasks      | elapsed:    0.1s\n",
      "[Parallel(n_jobs=-1)]: Done 1648 tasks      | elapsed:    8.7s\n",
      "[Parallel(n_jobs=-1)]: Done 2750 out of 2750 | elapsed:   14.7s finished\n",
      "[Parallel(n_jobs=-1)]: Using backend LokyBackend with 8 concurrent workers.\n"
     ]
    },
    {
     "name": "stdout",
     "output_type": "stream",
     "text": [
      "alpha: {'learning_rate': 0.3, 'loss': 'huber', 'max_depth': 2, 'n_estimators': 6}\n",
      "17 Tampa Bay Buccaneers: 2016-12-01 00:00:00\n",
      "Fitting 5 folds for each of 550 candidates, totalling 2750 fits\n"
     ]
    },
    {
     "name": "stderr",
     "output_type": "stream",
     "text": [
      "[Parallel(n_jobs=-1)]: Done  16 tasks      | elapsed:    0.2s\n",
      "[Parallel(n_jobs=-1)]: Done 1684 tasks      | elapsed:    8.3s\n",
      "[Parallel(n_jobs=-1)]: Done 2750 out of 2750 | elapsed:   14.0s finished\n",
      "[Parallel(n_jobs=-1)]: Using backend LokyBackend with 8 concurrent workers.\n"
     ]
    },
    {
     "name": "stdout",
     "output_type": "stream",
     "text": [
      "alpha: {'learning_rate': 0.3, 'loss': 'huber', 'max_depth': 2, 'n_estimators': 8}\n",
      "17 Tampa Bay Buccaneers: 2017-09-01 00:00:00\n",
      "Fitting 5 folds for each of 550 candidates, totalling 2750 fits\n"
     ]
    },
    {
     "name": "stderr",
     "output_type": "stream",
     "text": [
      "[Parallel(n_jobs=-1)]: Done  16 tasks      | elapsed:    0.2s\n",
      "[Parallel(n_jobs=-1)]: Done 1936 tasks      | elapsed:   10.0s\n",
      "[Parallel(n_jobs=-1)]: Done 2750 out of 2750 | elapsed:   14.4s finished\n",
      "[Parallel(n_jobs=-1)]: Using backend LokyBackend with 8 concurrent workers.\n"
     ]
    },
    {
     "name": "stdout",
     "output_type": "stream",
     "text": [
      "alpha: {'learning_rate': 0.15, 'loss': 'ls', 'max_depth': 2, 'n_estimators': 10}\n",
      "17 Tampa Bay Buccaneers: 2017-10-01 00:00:00\n",
      "Fitting 5 folds for each of 550 candidates, totalling 2750 fits\n"
     ]
    },
    {
     "name": "stderr",
     "output_type": "stream",
     "text": [
      "[Parallel(n_jobs=-1)]: Done  16 tasks      | elapsed:    0.2s\n",
      "[Parallel(n_jobs=-1)]: Done 1556 tasks      | elapsed:    7.6s\n",
      "[Parallel(n_jobs=-1)]: Done 2750 out of 2750 | elapsed:   13.9s finished\n",
      "[Parallel(n_jobs=-1)]: Using backend LokyBackend with 8 concurrent workers.\n"
     ]
    },
    {
     "name": "stdout",
     "output_type": "stream",
     "text": [
      "alpha: {'learning_rate': 0.5, 'loss': 'ls', 'max_depth': 2, 'n_estimators': 4}\n",
      "17 Tampa Bay Buccaneers: 2017-11-01 00:00:00\n",
      "Fitting 5 folds for each of 550 candidates, totalling 2750 fits\n"
     ]
    },
    {
     "name": "stderr",
     "output_type": "stream",
     "text": [
      "[Parallel(n_jobs=-1)]: Done  16 tasks      | elapsed:    0.1s\n",
      "[Parallel(n_jobs=-1)]: Done 1168 tasks      | elapsed:    5.7s\n",
      "[Parallel(n_jobs=-1)]: Done 2750 out of 2750 | elapsed:   14.1s finished\n",
      "[Parallel(n_jobs=-1)]: Using backend LokyBackend with 8 concurrent workers.\n"
     ]
    },
    {
     "name": "stdout",
     "output_type": "stream",
     "text": [
      "alpha: {'learning_rate': 0.3, 'loss': 'ls', 'max_depth': 2, 'n_estimators': 6}\n",
      "17 Tampa Bay Buccaneers: 2017-12-01 00:00:00\n",
      "Fitting 5 folds for each of 550 candidates, totalling 2750 fits\n"
     ]
    },
    {
     "name": "stderr",
     "output_type": "stream",
     "text": [
      "[Parallel(n_jobs=-1)]: Done  16 tasks      | elapsed:    0.1s\n",
      "[Parallel(n_jobs=-1)]: Done 1567 tasks      | elapsed:    7.7s\n",
      "[Parallel(n_jobs=-1)]: Done 2750 out of 2750 | elapsed:   14.1s finished\n",
      "[Parallel(n_jobs=-1)]: Using backend LokyBackend with 8 concurrent workers.\n"
     ]
    },
    {
     "name": "stdout",
     "output_type": "stream",
     "text": [
      "alpha: {'learning_rate': 0.15, 'loss': 'ls', 'max_depth': 2, 'n_estimators': 10}\n",
      "17 Tampa Bay Buccaneers: 2018-09-01 00:00:00\n",
      "Fitting 5 folds for each of 550 candidates, totalling 2750 fits\n"
     ]
    },
    {
     "name": "stderr",
     "output_type": "stream",
     "text": [
      "[Parallel(n_jobs=-1)]: Done  16 tasks      | elapsed:    0.2s\n",
      "[Parallel(n_jobs=-1)]: Done 1660 tasks      | elapsed:    8.4s\n",
      "[Parallel(n_jobs=-1)]: Done 2750 out of 2750 | elapsed:   14.5s finished\n",
      "[Parallel(n_jobs=-1)]: Using backend LokyBackend with 8 concurrent workers.\n"
     ]
    },
    {
     "name": "stdout",
     "output_type": "stream",
     "text": [
      "alpha: {'learning_rate': 0.15, 'loss': 'ls', 'max_depth': 2, 'n_estimators': 10}\n",
      "17 Tampa Bay Buccaneers: 2018-10-01 00:00:00\n",
      "Fitting 5 folds for each of 550 candidates, totalling 2750 fits\n"
     ]
    },
    {
     "name": "stderr",
     "output_type": "stream",
     "text": [
      "[Parallel(n_jobs=-1)]: Done  16 tasks      | elapsed:    0.1s\n",
      "[Parallel(n_jobs=-1)]: Done 1360 tasks      | elapsed:    6.9s\n",
      "[Parallel(n_jobs=-1)]: Done 2750 out of 2750 | elapsed:   14.5s finished\n",
      "[Parallel(n_jobs=-1)]: Using backend LokyBackend with 8 concurrent workers.\n"
     ]
    },
    {
     "name": "stdout",
     "output_type": "stream",
     "text": [
      "alpha: {'learning_rate': 0.15, 'loss': 'ls', 'max_depth': 2, 'n_estimators': 10}\n",
      "17 Tampa Bay Buccaneers: 2018-11-01 00:00:00\n",
      "Fitting 5 folds for each of 550 candidates, totalling 2750 fits\n"
     ]
    },
    {
     "name": "stderr",
     "output_type": "stream",
     "text": [
      "[Parallel(n_jobs=-1)]: Done  16 tasks      | elapsed:    0.2s\n",
      "[Parallel(n_jobs=-1)]: Done 1684 tasks      | elapsed:    8.9s\n",
      "[Parallel(n_jobs=-1)]: Done 2750 out of 2750 | elapsed:   15.2s finished\n",
      "[Parallel(n_jobs=-1)]: Using backend LokyBackend with 8 concurrent workers.\n"
     ]
    },
    {
     "name": "stdout",
     "output_type": "stream",
     "text": [
      "alpha: {'learning_rate': 0.4, 'loss': 'huber', 'max_depth': 2, 'n_estimators': 4}\n",
      "17 Tampa Bay Buccaneers: 2018-12-01 00:00:00\n",
      "Fitting 5 folds for each of 550 candidates, totalling 2750 fits\n"
     ]
    },
    {
     "name": "stderr",
     "output_type": "stream",
     "text": [
      "[Parallel(n_jobs=-1)]: Done  16 tasks      | elapsed:    0.1s\n",
      "[Parallel(n_jobs=-1)]: Done 1567 tasks      | elapsed:    7.7s\n",
      "[Parallel(n_jobs=-1)]: Done 2750 out of 2750 | elapsed:   14.1s finished\n",
      "[Parallel(n_jobs=-1)]: Using backend LokyBackend with 8 concurrent workers.\n"
     ]
    },
    {
     "name": "stdout",
     "output_type": "stream",
     "text": [
      "alpha: {'learning_rate': 0.4, 'loss': 'huber', 'max_depth': 2, 'n_estimators': 4}\n",
      "17 Tampa Bay Buccaneers: 2019-09-01 00:00:00\n",
      "Fitting 5 folds for each of 550 candidates, totalling 2750 fits\n"
     ]
    },
    {
     "name": "stderr",
     "output_type": "stream",
     "text": [
      "[Parallel(n_jobs=-1)]: Done  16 tasks      | elapsed:    0.2s\n",
      "[Parallel(n_jobs=-1)]: Done 1936 tasks      | elapsed:    9.9s\n",
      "[Parallel(n_jobs=-1)]: Done 2750 out of 2750 | elapsed:   14.3s finished\n",
      "[Parallel(n_jobs=-1)]: Using backend LokyBackend with 8 concurrent workers.\n"
     ]
    },
    {
     "name": "stdout",
     "output_type": "stream",
     "text": [
      "alpha: {'learning_rate': 0.15, 'loss': 'ls', 'max_depth': 2, 'n_estimators': 10}\n",
      "17 Tampa Bay Buccaneers: 2019-10-01 00:00:00\n",
      "Fitting 5 folds for each of 550 candidates, totalling 2750 fits\n"
     ]
    },
    {
     "name": "stderr",
     "output_type": "stream",
     "text": [
      "[Parallel(n_jobs=-1)]: Done  16 tasks      | elapsed:    0.2s\n",
      "[Parallel(n_jobs=-1)]: Done 1672 tasks      | elapsed:    8.6s\n",
      "[Parallel(n_jobs=-1)]: Done 2750 out of 2750 | elapsed:   14.5s finished\n",
      "[Parallel(n_jobs=-1)]: Using backend LokyBackend with 8 concurrent workers.\n"
     ]
    },
    {
     "name": "stdout",
     "output_type": "stream",
     "text": [
      "alpha: {'learning_rate': 0.2, 'loss': 'huber', 'max_depth': 2, 'n_estimators': 10}\n",
      "17 Tampa Bay Buccaneers: 2019-11-01 00:00:00\n",
      "Fitting 5 folds for each of 550 candidates, totalling 2750 fits\n"
     ]
    },
    {
     "name": "stderr",
     "output_type": "stream",
     "text": [
      "[Parallel(n_jobs=-1)]: Done  16 tasks      | elapsed:    0.2s\n",
      "[Parallel(n_jobs=-1)]: Done 1684 tasks      | elapsed:    8.8s\n",
      "[Parallel(n_jobs=-1)]: Done 2750 out of 2750 | elapsed:   15.1s finished\n",
      "[Parallel(n_jobs=-1)]: Using backend LokyBackend with 8 concurrent workers.\n"
     ]
    },
    {
     "name": "stdout",
     "output_type": "stream",
     "text": [
      "alpha: {'learning_rate': 0.3, 'loss': 'huber', 'max_depth': 2, 'n_estimators': 6}\n",
      "17 Tampa Bay Buccaneers: 2019-12-01 00:00:00\n",
      "Fitting 5 folds for each of 550 candidates, totalling 2750 fits\n"
     ]
    },
    {
     "name": "stderr",
     "output_type": "stream",
     "text": [
      "[Parallel(n_jobs=-1)]: Done  16 tasks      | elapsed:    0.2s\n",
      "[Parallel(n_jobs=-1)]: Done 1624 tasks      | elapsed:    8.7s\n",
      "[Parallel(n_jobs=-1)]: Done 2750 out of 2750 | elapsed:   15.4s finished\n",
      "[Parallel(n_jobs=-1)]: Using backend LokyBackend with 8 concurrent workers.\n"
     ]
    },
    {
     "name": "stdout",
     "output_type": "stream",
     "text": [
      "alpha: {'learning_rate': 0.1, 'loss': 'ls', 'max_depth': 2, 'n_estimators': 8}\n",
      "18 New York Jets: 2012-09-01 00:00:00\n",
      "Fitting 5 folds for each of 550 candidates, totalling 2750 fits\n"
     ]
    },
    {
     "name": "stderr",
     "output_type": "stream",
     "text": [
      "[Parallel(n_jobs=-1)]: Done  16 tasks      | elapsed:    0.1s\n",
      "[Parallel(n_jobs=-1)]: Done 1168 tasks      | elapsed:    6.2s\n",
      "[Parallel(n_jobs=-1)]: Done 2750 out of 2750 | elapsed:   14.7s finished\n",
      "[Parallel(n_jobs=-1)]: Using backend LokyBackend with 8 concurrent workers.\n"
     ]
    },
    {
     "name": "stdout",
     "output_type": "stream",
     "text": [
      "alpha: {'learning_rate': 0.4, 'loss': 'huber', 'max_depth': 2, 'n_estimators': 8}\n",
      "18 New York Jets: 2012-10-01 00:00:00\n",
      "Fitting 5 folds for each of 550 candidates, totalling 2750 fits\n"
     ]
    },
    {
     "name": "stderr",
     "output_type": "stream",
     "text": [
      "[Parallel(n_jobs=-1)]: Done  16 tasks      | elapsed:    0.2s\n",
      "[Parallel(n_jobs=-1)]: Done 1836 tasks      | elapsed:    9.8s\n",
      "[Parallel(n_jobs=-1)]: Done 2750 out of 2750 | elapsed:   15.0s finished\n",
      "[Parallel(n_jobs=-1)]: Using backend LokyBackend with 8 concurrent workers.\n"
     ]
    },
    {
     "name": "stdout",
     "output_type": "stream",
     "text": [
      "alpha: {'learning_rate': 0.2, 'loss': 'huber', 'max_depth': 2, 'n_estimators': 10}\n",
      "18 New York Jets: 2012-11-01 00:00:00\n",
      "Fitting 5 folds for each of 550 candidates, totalling 2750 fits\n"
     ]
    },
    {
     "name": "stderr",
     "output_type": "stream",
     "text": [
      "[Parallel(n_jobs=-1)]: Done  16 tasks      | elapsed:    0.2s\n",
      "[Parallel(n_jobs=-1)]: Done 1684 tasks      | elapsed:    8.8s\n",
      "[Parallel(n_jobs=-1)]: Done 2750 out of 2750 | elapsed:   15.3s finished\n",
      "[Parallel(n_jobs=-1)]: Using backend LokyBackend with 8 concurrent workers.\n"
     ]
    },
    {
     "name": "stdout",
     "output_type": "stream",
     "text": [
      "alpha: {'learning_rate': 0.3, 'loss': 'huber', 'max_depth': 2, 'n_estimators': 10}\n",
      "18 New York Jets: 2012-12-01 00:00:00\n",
      "Fitting 5 folds for each of 550 candidates, totalling 2750 fits\n"
     ]
    },
    {
     "name": "stderr",
     "output_type": "stream",
     "text": [
      "[Parallel(n_jobs=-1)]: Done  16 tasks      | elapsed:    0.2s\n",
      "[Parallel(n_jobs=-1)]: Done 1578 tasks      | elapsed:    8.1s\n",
      "[Parallel(n_jobs=-1)]: Done 2750 out of 2750 | elapsed:   14.8s finished\n",
      "[Parallel(n_jobs=-1)]: Using backend LokyBackend with 8 concurrent workers.\n"
     ]
    },
    {
     "name": "stdout",
     "output_type": "stream",
     "text": [
      "alpha: {'learning_rate': 0.2, 'loss': 'huber', 'max_depth': 2, 'n_estimators': 10}\n",
      "18 New York Jets: 2013-09-01 00:00:00\n",
      "Fitting 5 folds for each of 550 candidates, totalling 2750 fits\n"
     ]
    },
    {
     "name": "stderr",
     "output_type": "stream",
     "text": [
      "[Parallel(n_jobs=-1)]: Done  16 tasks      | elapsed:    0.2s\n",
      "[Parallel(n_jobs=-1)]: Done 1578 tasks      | elapsed:    8.3s\n",
      "[Parallel(n_jobs=-1)]: Done 2750 out of 2750 | elapsed:   14.8s finished\n",
      "[Parallel(n_jobs=-1)]: Using backend LokyBackend with 8 concurrent workers.\n"
     ]
    },
    {
     "name": "stdout",
     "output_type": "stream",
     "text": [
      "alpha: {'learning_rate': 0.3, 'loss': 'huber', 'max_depth': 2, 'n_estimators': 10}\n",
      "18 New York Jets: 2013-10-01 00:00:00\n",
      "Fitting 5 folds for each of 550 candidates, totalling 2750 fits\n"
     ]
    },
    {
     "name": "stderr",
     "output_type": "stream",
     "text": [
      "[Parallel(n_jobs=-1)]: Done  16 tasks      | elapsed:    0.2s\n",
      "[Parallel(n_jobs=-1)]: Done 1567 tasks      | elapsed:    8.0s\n",
      "[Parallel(n_jobs=-1)]: Done 2750 out of 2750 | elapsed:   14.5s finished\n",
      "[Parallel(n_jobs=-1)]: Using backend LokyBackend with 8 concurrent workers.\n"
     ]
    },
    {
     "name": "stdout",
     "output_type": "stream",
     "text": [
      "alpha: {'learning_rate': 0.2, 'loss': 'ls', 'max_depth': 2, 'n_estimators': 10}\n",
      "18 New York Jets: 2013-11-01 00:00:00\n",
      "Fitting 5 folds for each of 550 candidates, totalling 2750 fits\n"
     ]
    },
    {
     "name": "stderr",
     "output_type": "stream",
     "text": [
      "[Parallel(n_jobs=-1)]: Done  16 tasks      | elapsed:    0.2s\n",
      "[Parallel(n_jobs=-1)]: Done 1660 tasks      | elapsed:    8.6s\n",
      "[Parallel(n_jobs=-1)]: Done 2750 out of 2750 | elapsed:   14.9s finished\n",
      "[Parallel(n_jobs=-1)]: Using backend LokyBackend with 8 concurrent workers.\n"
     ]
    },
    {
     "name": "stdout",
     "output_type": "stream",
     "text": [
      "alpha: {'learning_rate': 0.6, 'loss': 'ls', 'max_depth': 2, 'n_estimators': 6}\n",
      "18 New York Jets: 2013-12-01 00:00:00\n",
      "Fitting 5 folds for each of 550 candidates, totalling 2750 fits\n"
     ]
    },
    {
     "name": "stderr",
     "output_type": "stream",
     "text": [
      "[Parallel(n_jobs=-1)]: Done  16 tasks      | elapsed:    0.1s\n",
      "[Parallel(n_jobs=-1)]: Done 1744 tasks      | elapsed:    8.9s\n",
      "[Parallel(n_jobs=-1)]: Done 2750 out of 2750 | elapsed:   14.4s finished\n",
      "[Parallel(n_jobs=-1)]: Using backend LokyBackend with 8 concurrent workers.\n"
     ]
    },
    {
     "name": "stdout",
     "output_type": "stream",
     "text": [
      "alpha: {'learning_rate': 0.2, 'loss': 'ls', 'max_depth': 4, 'n_estimators': 6}\n",
      "18 New York Jets: 2014-09-01 00:00:00\n",
      "Fitting 5 folds for each of 550 candidates, totalling 2750 fits\n"
     ]
    },
    {
     "name": "stderr",
     "output_type": "stream",
     "text": [
      "[Parallel(n_jobs=-1)]: Done  16 tasks      | elapsed:    0.2s\n",
      "[Parallel(n_jobs=-1)]: Done 1677 tasks      | elapsed:    8.4s\n",
      "[Parallel(n_jobs=-1)]: Done 2750 out of 2750 | elapsed:   14.3s finished\n",
      "[Parallel(n_jobs=-1)]: Using backend LokyBackend with 8 concurrent workers.\n"
     ]
    },
    {
     "name": "stdout",
     "output_type": "stream",
     "text": [
      "alpha: {'learning_rate': 0.5, 'loss': 'huber', 'max_depth': 2, 'n_estimators': 6}\n",
      "18 New York Jets: 2014-10-01 00:00:00\n",
      "Fitting 5 folds for each of 550 candidates, totalling 2750 fits\n"
     ]
    },
    {
     "name": "stderr",
     "output_type": "stream",
     "text": [
      "[Parallel(n_jobs=-1)]: Done  16 tasks      | elapsed:    0.2s\n",
      "[Parallel(n_jobs=-1)]: Done 1648 tasks      | elapsed:    8.6s\n",
      "[Parallel(n_jobs=-1)]: Done 2750 out of 2750 | elapsed:   14.9s finished\n",
      "[Parallel(n_jobs=-1)]: Using backend LokyBackend with 8 concurrent workers.\n"
     ]
    },
    {
     "name": "stdout",
     "output_type": "stream",
     "text": [
      "alpha: {'learning_rate': 0.4, 'loss': 'huber', 'max_depth': 2, 'n_estimators': 6}\n",
      "18 New York Jets: 2014-11-01 00:00:00\n",
      "Fitting 5 folds for each of 550 candidates, totalling 2750 fits\n"
     ]
    },
    {
     "name": "stderr",
     "output_type": "stream",
     "text": [
      "[Parallel(n_jobs=-1)]: Done  16 tasks      | elapsed:    0.2s\n",
      "[Parallel(n_jobs=-1)]: Done 1648 tasks      | elapsed:    8.7s\n",
      "[Parallel(n_jobs=-1)]: Done 2750 out of 2750 | elapsed:   16.6s finished\n",
      "[Parallel(n_jobs=-1)]: Using backend LokyBackend with 8 concurrent workers.\n"
     ]
    },
    {
     "name": "stdout",
     "output_type": "stream",
     "text": [
      "alpha: {'learning_rate': 0.4, 'loss': 'ls', 'max_depth': 2, 'n_estimators': 6}\n",
      "18 New York Jets: 2014-12-01 00:00:00\n",
      "Fitting 5 folds for each of 550 candidates, totalling 2750 fits\n"
     ]
    },
    {
     "name": "stderr",
     "output_type": "stream",
     "text": [
      "[Parallel(n_jobs=-1)]: Done  16 tasks      | elapsed:    0.2s\n",
      "[Parallel(n_jobs=-1)]: Done 1578 tasks      | elapsed:    8.2s\n",
      "[Parallel(n_jobs=-1)]: Done 2750 out of 2750 | elapsed:   15.1s finished\n",
      "[Parallel(n_jobs=-1)]: Using backend LokyBackend with 8 concurrent workers.\n"
     ]
    },
    {
     "name": "stdout",
     "output_type": "stream",
     "text": [
      "alpha: {'learning_rate': 0.2, 'loss': 'ls', 'max_depth': 2, 'n_estimators': 10}\n",
      "18 New York Jets: 2015-09-01 00:00:00\n",
      "Fitting 5 folds for each of 550 candidates, totalling 2750 fits\n"
     ]
    },
    {
     "name": "stderr",
     "output_type": "stream",
     "text": [
      "[Parallel(n_jobs=-1)]: Done  16 tasks      | elapsed:    0.2s\n",
      "[Parallel(n_jobs=-1)]: Done 1672 tasks      | elapsed:    8.7s\n",
      "[Parallel(n_jobs=-1)]: Done 2750 out of 2750 | elapsed:   14.8s finished\n",
      "[Parallel(n_jobs=-1)]: Using backend LokyBackend with 8 concurrent workers.\n"
     ]
    },
    {
     "name": "stdout",
     "output_type": "stream",
     "text": [
      "alpha: {'learning_rate': 0.2, 'loss': 'ls', 'max_depth': 2, 'n_estimators': 8}\n",
      "18 New York Jets: 2015-10-01 00:00:00\n",
      "Fitting 5 folds for each of 550 candidates, totalling 2750 fits\n"
     ]
    },
    {
     "name": "stderr",
     "output_type": "stream",
     "text": [
      "[Parallel(n_jobs=-1)]: Done  16 tasks      | elapsed:    0.2s\n",
      "[Parallel(n_jobs=-1)]: Done 1567 tasks      | elapsed:    8.3s\n",
      "[Parallel(n_jobs=-1)]: Done 2750 out of 2750 | elapsed:   15.0s finished\n",
      "[Parallel(n_jobs=-1)]: Using backend LokyBackend with 8 concurrent workers.\n"
     ]
    },
    {
     "name": "stdout",
     "output_type": "stream",
     "text": [
      "alpha: {'learning_rate': 0.4, 'loss': 'ls', 'max_depth': 2, 'n_estimators': 4}\n",
      "18 New York Jets: 2015-11-01 00:00:00\n",
      "Fitting 5 folds for each of 550 candidates, totalling 2750 fits\n"
     ]
    },
    {
     "name": "stderr",
     "output_type": "stream",
     "text": [
      "[Parallel(n_jobs=-1)]: Done  16 tasks      | elapsed:    0.1s\n",
      "[Parallel(n_jobs=-1)]: Done 1624 tasks      | elapsed:    8.8s\n",
      "[Parallel(n_jobs=-1)]: Done 2750 out of 2750 | elapsed:   15.3s finished\n",
      "[Parallel(n_jobs=-1)]: Using backend LokyBackend with 8 concurrent workers.\n"
     ]
    },
    {
     "name": "stdout",
     "output_type": "stream",
     "text": [
      "alpha: {'learning_rate': 0.4, 'loss': 'huber', 'max_depth': 2, 'n_estimators': 4}\n",
      "18 New York Jets: 2015-12-01 00:00:00\n",
      "Fitting 5 folds for each of 550 candidates, totalling 2750 fits\n"
     ]
    },
    {
     "name": "stderr",
     "output_type": "stream",
     "text": [
      "[Parallel(n_jobs=-1)]: Done  16 tasks      | elapsed:    0.1s\n",
      "[Parallel(n_jobs=-1)]: Done 1578 tasks      | elapsed:    8.0s\n",
      "[Parallel(n_jobs=-1)]: Done 2750 out of 2750 | elapsed:   14.4s finished\n",
      "[Parallel(n_jobs=-1)]: Using backend LokyBackend with 8 concurrent workers.\n"
     ]
    },
    {
     "name": "stdout",
     "output_type": "stream",
     "text": [
      "alpha: {'learning_rate': 0.5, 'loss': 'huber', 'max_depth': 2, 'n_estimators': 2}\n",
      "18 New York Jets: 2016-09-01 00:00:00\n",
      "Fitting 5 folds for each of 550 candidates, totalling 2750 fits\n"
     ]
    },
    {
     "name": "stderr",
     "output_type": "stream",
     "text": [
      "[Parallel(n_jobs=-1)]: Done  16 tasks      | elapsed:    0.1s\n",
      "[Parallel(n_jobs=-1)]: Done 1816 tasks      | elapsed:    9.7s\n",
      "[Parallel(n_jobs=-1)]: Done 2750 out of 2750 | elapsed:   14.9s finished\n",
      "[Parallel(n_jobs=-1)]: Using backend LokyBackend with 8 concurrent workers.\n"
     ]
    },
    {
     "name": "stdout",
     "output_type": "stream",
     "text": [
      "alpha: {'learning_rate': 0.4, 'loss': 'ls', 'max_depth': 2, 'n_estimators': 6}\n",
      "18 New York Jets: 2016-10-01 00:00:00\n",
      "Fitting 5 folds for each of 550 candidates, totalling 2750 fits\n"
     ]
    },
    {
     "name": "stderr",
     "output_type": "stream",
     "text": [
      "[Parallel(n_jobs=-1)]: Done  16 tasks      | elapsed:    0.2s\n",
      "[Parallel(n_jobs=-1)]: Done 1684 tasks      | elapsed:    8.5s\n",
      "[Parallel(n_jobs=-1)]: Done 2750 out of 2750 | elapsed:   14.2s finished\n",
      "[Parallel(n_jobs=-1)]: Using backend LokyBackend with 8 concurrent workers.\n"
     ]
    },
    {
     "name": "stdout",
     "output_type": "stream",
     "text": [
      "alpha: {'learning_rate': 0.2, 'loss': 'huber', 'max_depth': 4, 'n_estimators': 6}\n",
      "18 New York Jets: 2016-11-01 00:00:00\n",
      "Fitting 5 folds for each of 550 candidates, totalling 2750 fits\n"
     ]
    },
    {
     "name": "stderr",
     "output_type": "stream",
     "text": [
      "[Parallel(n_jobs=-1)]: Done  16 tasks      | elapsed:    0.2s\n",
      "[Parallel(n_jobs=-1)]: Done 1684 tasks      | elapsed:    8.8s\n",
      "[Parallel(n_jobs=-1)]: Done 2750 out of 2750 | elapsed:   15.0s finished\n",
      "[Parallel(n_jobs=-1)]: Using backend LokyBackend with 8 concurrent workers.\n"
     ]
    },
    {
     "name": "stdout",
     "output_type": "stream",
     "text": [
      "alpha: {'learning_rate': 0.15, 'loss': 'huber', 'max_depth': 4, 'n_estimators': 10}\n",
      "18 New York Jets: 2016-12-01 00:00:00\n",
      "Fitting 5 folds for each of 550 candidates, totalling 2750 fits\n"
     ]
    },
    {
     "name": "stderr",
     "output_type": "stream",
     "text": [
      "[Parallel(n_jobs=-1)]: Done  16 tasks      | elapsed:    0.1s\n",
      "[Parallel(n_jobs=-1)]: Done 1332 tasks      | elapsed:    6.7s\n",
      "[Parallel(n_jobs=-1)]: Done 2750 out of 2750 | elapsed:   14.5s finished\n",
      "[Parallel(n_jobs=-1)]: Using backend LokyBackend with 8 concurrent workers.\n"
     ]
    },
    {
     "name": "stdout",
     "output_type": "stream",
     "text": [
      "alpha: {'learning_rate': 0.5, 'loss': 'ls', 'max_depth': 6, 'n_estimators': 2}\n",
      "18 New York Jets: 2017-09-01 00:00:00\n",
      "Fitting 5 folds for each of 550 candidates, totalling 2750 fits\n"
     ]
    },
    {
     "name": "stderr",
     "output_type": "stream",
     "text": [
      "[Parallel(n_jobs=-1)]: Done  16 tasks      | elapsed:    0.1s\n",
      "[Parallel(n_jobs=-1)]: Done 1936 tasks      | elapsed:   10.0s\n",
      "[Parallel(n_jobs=-1)]: Done 2750 out of 2750 | elapsed:   14.4s finished\n",
      "[Parallel(n_jobs=-1)]: Using backend LokyBackend with 8 concurrent workers.\n"
     ]
    },
    {
     "name": "stdout",
     "output_type": "stream",
     "text": [
      "alpha: {'learning_rate': 0.5, 'loss': 'huber', 'max_depth': 2, 'n_estimators': 10}\n",
      "18 New York Jets: 2017-10-01 00:00:00\n",
      "Fitting 5 folds for each of 550 candidates, totalling 2750 fits\n"
     ]
    },
    {
     "name": "stderr",
     "output_type": "stream",
     "text": [
      "[Parallel(n_jobs=-1)]: Done  16 tasks      | elapsed:    0.2s\n",
      "[Parallel(n_jobs=-1)]: Done 1809 tasks      | elapsed:    9.0s\n",
      "[Parallel(n_jobs=-1)]: Done 2750 out of 2750 | elapsed:   13.9s finished\n",
      "[Parallel(n_jobs=-1)]: Using backend LokyBackend with 8 concurrent workers.\n"
     ]
    },
    {
     "name": "stdout",
     "output_type": "stream",
     "text": [
      "alpha: {'learning_rate': 0.5, 'loss': 'ls', 'max_depth': 2, 'n_estimators': 6}\n",
      "18 New York Jets: 2017-11-01 00:00:00\n",
      "Fitting 5 folds for each of 550 candidates, totalling 2750 fits\n"
     ]
    },
    {
     "name": "stderr",
     "output_type": "stream",
     "text": [
      "[Parallel(n_jobs=-1)]: Done  16 tasks      | elapsed:    0.2s\n",
      "[Parallel(n_jobs=-1)]: Done 1930 tasks      | elapsed:    9.6s\n",
      "[Parallel(n_jobs=-1)]: Done 2750 out of 2750 | elapsed:   14.1s finished\n",
      "[Parallel(n_jobs=-1)]: Using backend LokyBackend with 8 concurrent workers.\n"
     ]
    },
    {
     "name": "stdout",
     "output_type": "stream",
     "text": [
      "alpha: {'learning_rate': 0.4, 'loss': 'ls', 'max_depth': 2, 'n_estimators': 10}\n",
      "18 New York Jets: 2017-12-01 00:00:00\n",
      "Fitting 5 folds for each of 550 candidates, totalling 2750 fits\n"
     ]
    },
    {
     "name": "stderr",
     "output_type": "stream",
     "text": [
      "[Parallel(n_jobs=-1)]: Done  16 tasks      | elapsed:    0.2s\n",
      "[Parallel(n_jobs=-1)]: Done 1936 tasks      | elapsed:   10.0s\n",
      "[Parallel(n_jobs=-1)]: Done 2750 out of 2750 | elapsed:   14.5s finished\n",
      "[Parallel(n_jobs=-1)]: Using backend LokyBackend with 8 concurrent workers.\n"
     ]
    },
    {
     "name": "stdout",
     "output_type": "stream",
     "text": [
      "alpha: {'learning_rate': 0.6, 'loss': 'huber', 'max_depth': 2, 'n_estimators': 10}\n",
      "18 New York Jets: 2018-09-01 00:00:00\n",
      "Fitting 5 folds for each of 550 candidates, totalling 2750 fits\n"
     ]
    },
    {
     "name": "stderr",
     "output_type": "stream",
     "text": [
      "[Parallel(n_jobs=-1)]: Done  16 tasks      | elapsed:    0.1s\n",
      "[Parallel(n_jobs=-1)]: Done 1648 tasks      | elapsed:    7.9s\n",
      "[Parallel(n_jobs=-1)]: Done 2750 out of 2750 | elapsed:   13.8s finished\n",
      "[Parallel(n_jobs=-1)]: Using backend LokyBackend with 8 concurrent workers.\n"
     ]
    },
    {
     "name": "stdout",
     "output_type": "stream",
     "text": [
      "alpha: {'learning_rate': 0.4, 'loss': 'huber', 'max_depth': 2, 'n_estimators': 10}\n",
      "18 New York Jets: 2018-10-01 00:00:00\n",
      "Fitting 5 folds for each of 550 candidates, totalling 2750 fits\n"
     ]
    },
    {
     "name": "stderr",
     "output_type": "stream",
     "text": [
      "[Parallel(n_jobs=-1)]: Done  16 tasks      | elapsed:    0.2s\n",
      "[Parallel(n_jobs=-1)]: Done 1919 tasks      | elapsed:    9.6s\n",
      "[Parallel(n_jobs=-1)]: Done 2750 out of 2750 | elapsed:   13.8s finished\n",
      "[Parallel(n_jobs=-1)]: Using backend LokyBackend with 8 concurrent workers.\n"
     ]
    },
    {
     "name": "stdout",
     "output_type": "stream",
     "text": [
      "alpha: {'learning_rate': 0.4, 'loss': 'huber', 'max_depth': 2, 'n_estimators': 4}\n",
      "18 New York Jets: 2018-11-01 00:00:00\n",
      "Fitting 5 folds for each of 550 candidates, totalling 2750 fits\n"
     ]
    },
    {
     "name": "stderr",
     "output_type": "stream",
     "text": [
      "[Parallel(n_jobs=-1)]: Done  16 tasks      | elapsed:    0.2s\n",
      "[Parallel(n_jobs=-1)]: Done 1804 tasks      | elapsed:    8.7s\n",
      "[Parallel(n_jobs=-1)]: Done 2750 out of 2750 | elapsed:   13.7s finished\n",
      "[Parallel(n_jobs=-1)]: Using backend LokyBackend with 8 concurrent workers.\n"
     ]
    },
    {
     "name": "stdout",
     "output_type": "stream",
     "text": [
      "alpha: {'learning_rate': 0.2, 'loss': 'ls', 'max_depth': 2, 'n_estimators': 10}\n",
      "18 New York Jets: 2018-12-01 00:00:00\n",
      "Fitting 5 folds for each of 550 candidates, totalling 2750 fits\n"
     ]
    },
    {
     "name": "stderr",
     "output_type": "stream",
     "text": [
      "[Parallel(n_jobs=-1)]: Done  16 tasks      | elapsed:    0.2s\n",
      "[Parallel(n_jobs=-1)]: Done 1564 tasks      | elapsed:    8.5s\n",
      "[Parallel(n_jobs=-1)]: Done 2750 out of 2750 | elapsed:   14.7s finished\n",
      "[Parallel(n_jobs=-1)]: Using backend LokyBackend with 8 concurrent workers.\n"
     ]
    },
    {
     "name": "stdout",
     "output_type": "stream",
     "text": [
      "alpha: {'learning_rate': 0.2, 'loss': 'ls', 'max_depth': 2, 'n_estimators': 8}\n",
      "18 New York Jets: 2019-09-01 00:00:00\n",
      "Fitting 5 folds for each of 550 candidates, totalling 2750 fits\n"
     ]
    },
    {
     "name": "stderr",
     "output_type": "stream",
     "text": [
      "[Parallel(n_jobs=-1)]: Done  16 tasks      | elapsed:    0.1s\n",
      "[Parallel(n_jobs=-1)]: Done 1936 tasks      | elapsed:   10.0s\n",
      "[Parallel(n_jobs=-1)]: Done 2750 out of 2750 | elapsed:   14.6s finished\n",
      "[Parallel(n_jobs=-1)]: Using backend LokyBackend with 8 concurrent workers.\n"
     ]
    },
    {
     "name": "stdout",
     "output_type": "stream",
     "text": [
      "alpha: {'learning_rate': 0.5, 'loss': 'huber', 'max_depth': 2, 'n_estimators': 8}\n",
      "18 New York Jets: 2019-10-01 00:00:00\n",
      "Fitting 5 folds for each of 550 candidates, totalling 2750 fits\n"
     ]
    },
    {
     "name": "stderr",
     "output_type": "stream",
     "text": [
      "[Parallel(n_jobs=-1)]: Done  16 tasks      | elapsed:    0.2s\n",
      "[Parallel(n_jobs=-1)]: Done 1648 tasks      | elapsed:    8.3s\n",
      "[Parallel(n_jobs=-1)]: Done 2750 out of 2750 | elapsed:   14.3s finished\n",
      "[Parallel(n_jobs=-1)]: Using backend LokyBackend with 8 concurrent workers.\n"
     ]
    },
    {
     "name": "stdout",
     "output_type": "stream",
     "text": [
      "alpha: {'learning_rate': 0.4, 'loss': 'ls', 'max_depth': 2, 'n_estimators': 8}\n",
      "18 New York Jets: 2019-11-01 00:00:00\n",
      "Fitting 5 folds for each of 550 candidates, totalling 2750 fits\n"
     ]
    },
    {
     "name": "stderr",
     "output_type": "stream",
     "text": [
      "[Parallel(n_jobs=-1)]: Done  16 tasks      | elapsed:    0.1s\n",
      "[Parallel(n_jobs=-1)]: Done 1780 tasks      | elapsed:    8.8s\n",
      "[Parallel(n_jobs=-1)]: Done 2750 out of 2750 | elapsed:   13.8s finished\n",
      "[Parallel(n_jobs=-1)]: Using backend LokyBackend with 8 concurrent workers.\n"
     ]
    },
    {
     "name": "stdout",
     "output_type": "stream",
     "text": [
      "alpha: {'learning_rate': 0.3, 'loss': 'huber', 'max_depth': 2, 'n_estimators': 10}\n",
      "18 New York Jets: 2019-12-01 00:00:00\n",
      "Fitting 5 folds for each of 550 candidates, totalling 2750 fits\n"
     ]
    },
    {
     "name": "stderr",
     "output_type": "stream",
     "text": [
      "[Parallel(n_jobs=-1)]: Done  16 tasks      | elapsed:    0.2s\n",
      "[Parallel(n_jobs=-1)]: Done 1360 tasks      | elapsed:    7.0s\n",
      "[Parallel(n_jobs=-1)]: Done 2750 out of 2750 | elapsed:   14.3s finished\n",
      "[Parallel(n_jobs=-1)]: Using backend LokyBackend with 8 concurrent workers.\n"
     ]
    },
    {
     "name": "stdout",
     "output_type": "stream",
     "text": [
      "alpha: {'learning_rate': 0.3, 'loss': 'ls', 'max_depth': 2, 'n_estimators': 8}\n",
      "19 Tennessee Titans: 2012-09-01 00:00:00\n",
      "Fitting 5 folds for each of 550 candidates, totalling 2750 fits\n"
     ]
    },
    {
     "name": "stderr",
     "output_type": "stream",
     "text": [
      "[Parallel(n_jobs=-1)]: Done  16 tasks      | elapsed:    0.2s\n",
      "[Parallel(n_jobs=-1)]: Done 1684 tasks      | elapsed:    8.4s\n",
      "[Parallel(n_jobs=-1)]: Done 2750 out of 2750 | elapsed:   14.3s finished\n",
      "[Parallel(n_jobs=-1)]: Using backend LokyBackend with 8 concurrent workers.\n"
     ]
    },
    {
     "name": "stdout",
     "output_type": "stream",
     "text": [
      "alpha: {'learning_rate': 0.4, 'loss': 'ls', 'max_depth': 2, 'n_estimators': 10}\n",
      "19 Tennessee Titans: 2012-10-01 00:00:00\n",
      "Fitting 5 folds for each of 550 candidates, totalling 2750 fits\n"
     ]
    },
    {
     "name": "stderr",
     "output_type": "stream",
     "text": [
      "[Parallel(n_jobs=-1)]: Done  16 tasks      | elapsed:    0.1s\n",
      "[Parallel(n_jobs=-1)]: Done 1660 tasks      | elapsed:    8.1s\n",
      "[Parallel(n_jobs=-1)]: Done 2750 out of 2750 | elapsed:   14.3s finished\n",
      "[Parallel(n_jobs=-1)]: Using backend LokyBackend with 8 concurrent workers.\n"
     ]
    },
    {
     "name": "stdout",
     "output_type": "stream",
     "text": [
      "alpha: {'learning_rate': 0.5, 'loss': 'ls', 'max_depth': 2, 'n_estimators': 6}\n",
      "19 Tennessee Titans: 2012-11-01 00:00:00\n",
      "Fitting 5 folds for each of 550 candidates, totalling 2750 fits\n"
     ]
    },
    {
     "name": "stderr",
     "output_type": "stream",
     "text": [
      "[Parallel(n_jobs=-1)]: Done  16 tasks      | elapsed:    0.2s\n",
      "[Parallel(n_jobs=-1)]: Done 1684 tasks      | elapsed:    8.6s\n",
      "[Parallel(n_jobs=-1)]: Done 2750 out of 2750 | elapsed:   14.4s finished\n",
      "[Parallel(n_jobs=-1)]: Using backend LokyBackend with 8 concurrent workers.\n"
     ]
    },
    {
     "name": "stdout",
     "output_type": "stream",
     "text": [
      "alpha: {'learning_rate': 0.2, 'loss': 'huber', 'max_depth': 4, 'n_estimators': 8}\n",
      "19 Tennessee Titans: 2012-12-01 00:00:00\n",
      "Fitting 5 folds for each of 550 candidates, totalling 2750 fits\n"
     ]
    },
    {
     "name": "stderr",
     "output_type": "stream",
     "text": [
      "[Parallel(n_jobs=-1)]: Done  16 tasks      | elapsed:    0.2s\n",
      "[Parallel(n_jobs=-1)]: Done 1648 tasks      | elapsed:    8.6s\n",
      "[Parallel(n_jobs=-1)]: Done 2750 out of 2750 | elapsed:   14.7s finished\n",
      "[Parallel(n_jobs=-1)]: Using backend LokyBackend with 8 concurrent workers.\n"
     ]
    },
    {
     "name": "stdout",
     "output_type": "stream",
     "text": [
      "alpha: {'learning_rate': 0.2, 'loss': 'huber', 'max_depth': 2, 'n_estimators': 6}\n",
      "19 Tennessee Titans: 2013-09-01 00:00:00\n",
      "Fitting 5 folds for each of 550 candidates, totalling 2750 fits\n"
     ]
    },
    {
     "name": "stderr",
     "output_type": "stream",
     "text": [
      "[Parallel(n_jobs=-1)]: Done  16 tasks      | elapsed:    0.1s\n",
      "[Parallel(n_jobs=-1)]: Done 1936 tasks      | elapsed:    9.8s\n",
      "[Parallel(n_jobs=-1)]: Done 2750 out of 2750 | elapsed:   14.4s finished\n",
      "[Parallel(n_jobs=-1)]: Using backend LokyBackend with 8 concurrent workers.\n"
     ]
    },
    {
     "name": "stdout",
     "output_type": "stream",
     "text": [
      "alpha: {'learning_rate': 0.2, 'loss': 'ls', 'max_depth': 2, 'n_estimators': 8}\n",
      "19 Tennessee Titans: 2013-10-01 00:00:00\n",
      "Fitting 5 folds for each of 550 candidates, totalling 2750 fits\n"
     ]
    },
    {
     "name": "stderr",
     "output_type": "stream",
     "text": [
      "[Parallel(n_jobs=-1)]: Done  16 tasks      | elapsed:    0.2s\n",
      "[Parallel(n_jobs=-1)]: Done 1552 tasks      | elapsed:    8.0s\n",
      "[Parallel(n_jobs=-1)]: Done 2750 out of 2750 | elapsed:   14.5s finished\n",
      "[Parallel(n_jobs=-1)]: Using backend LokyBackend with 8 concurrent workers.\n"
     ]
    },
    {
     "name": "stdout",
     "output_type": "stream",
     "text": [
      "alpha: {'learning_rate': 0.2, 'loss': 'ls', 'max_depth': 2, 'n_estimators': 10}\n",
      "19 Tennessee Titans: 2013-11-01 00:00:00\n",
      "Fitting 5 folds for each of 550 candidates, totalling 2750 fits\n"
     ]
    },
    {
     "name": "stderr",
     "output_type": "stream",
     "text": [
      "[Parallel(n_jobs=-1)]: Done  16 tasks      | elapsed:    0.1s\n",
      "[Parallel(n_jobs=-1)]: Done 1648 tasks      | elapsed:    8.1s\n",
      "[Parallel(n_jobs=-1)]: Done 2750 out of 2750 | elapsed:   14.1s finished\n",
      "[Parallel(n_jobs=-1)]: Using backend LokyBackend with 8 concurrent workers.\n"
     ]
    },
    {
     "name": "stdout",
     "output_type": "stream",
     "text": [
      "alpha: {'learning_rate': 0.4, 'loss': 'ls', 'max_depth': 2, 'n_estimators': 6}\n",
      "19 Tennessee Titans: 2013-12-01 00:00:00\n",
      "Fitting 5 folds for each of 550 candidates, totalling 2750 fits\n"
     ]
    },
    {
     "name": "stderr",
     "output_type": "stream",
     "text": [
      "[Parallel(n_jobs=-1)]: Done  16 tasks      | elapsed:    0.2s\n",
      "[Parallel(n_jobs=-1)]: Done 1696 tasks      | elapsed:    8.9s\n",
      "[Parallel(n_jobs=-1)]: Done 2750 out of 2750 | elapsed:   14.5s finished\n",
      "[Parallel(n_jobs=-1)]: Using backend LokyBackend with 8 concurrent workers.\n"
     ]
    },
    {
     "name": "stdout",
     "output_type": "stream",
     "text": [
      "alpha: {'learning_rate': 0.15, 'loss': 'huber', 'max_depth': 2, 'n_estimators': 10}\n",
      "19 Tennessee Titans: 2014-09-01 00:00:00\n",
      "Fitting 5 folds for each of 550 candidates, totalling 2750 fits\n"
     ]
    },
    {
     "name": "stderr",
     "output_type": "stream",
     "text": [
      "[Parallel(n_jobs=-1)]: Done  16 tasks      | elapsed:    0.1s\n",
      "[Parallel(n_jobs=-1)]: Done 1578 tasks      | elapsed:    7.8s\n",
      "[Parallel(n_jobs=-1)]: Done 2750 out of 2750 | elapsed:   14.1s finished\n",
      "[Parallel(n_jobs=-1)]: Using backend LokyBackend with 8 concurrent workers.\n"
     ]
    },
    {
     "name": "stdout",
     "output_type": "stream",
     "text": [
      "alpha: {'learning_rate': 0.2, 'loss': 'huber', 'max_depth': 6, 'n_estimators': 8}\n",
      "19 Tennessee Titans: 2014-10-01 00:00:00\n",
      "Fitting 5 folds for each of 550 candidates, totalling 2750 fits\n"
     ]
    },
    {
     "name": "stderr",
     "output_type": "stream",
     "text": [
      "[Parallel(n_jobs=-1)]: Done  16 tasks      | elapsed:    0.1s\n",
      "[Parallel(n_jobs=-1)]: Done 1744 tasks      | elapsed:    9.2s\n",
      "[Parallel(n_jobs=-1)]: Done 2750 out of 2750 | elapsed:   15.2s finished\n",
      "[Parallel(n_jobs=-1)]: Using backend LokyBackend with 8 concurrent workers.\n"
     ]
    },
    {
     "name": "stdout",
     "output_type": "stream",
     "text": [
      "alpha: {'learning_rate': 0.2, 'loss': 'ls', 'max_depth': 4, 'n_estimators': 10}\n",
      "19 Tennessee Titans: 2014-11-01 00:00:00\n",
      "Fitting 5 folds for each of 550 candidates, totalling 2750 fits\n"
     ]
    },
    {
     "name": "stderr",
     "output_type": "stream",
     "text": [
      "[Parallel(n_jobs=-1)]: Done  16 tasks      | elapsed:    0.2s\n",
      "[Parallel(n_jobs=-1)]: Done 1744 tasks      | elapsed:    9.3s\n",
      "[Parallel(n_jobs=-1)]: Done 2750 out of 2750 | elapsed:   15.3s finished\n",
      "[Parallel(n_jobs=-1)]: Using backend LokyBackend with 8 concurrent workers.\n"
     ]
    },
    {
     "name": "stdout",
     "output_type": "stream",
     "text": [
      "alpha: {'learning_rate': 0.15, 'loss': 'huber', 'max_depth': 2, 'n_estimators': 8}\n",
      "19 Tennessee Titans: 2014-12-01 00:00:00\n",
      "Fitting 5 folds for each of 550 candidates, totalling 2750 fits\n"
     ]
    },
    {
     "name": "stderr",
     "output_type": "stream",
     "text": [
      "[Parallel(n_jobs=-1)]: Done  16 tasks      | elapsed:    0.2s\n",
      "[Parallel(n_jobs=-1)]: Done 1168 tasks      | elapsed:    6.2s\n",
      "[Parallel(n_jobs=-1)]: Done 2750 out of 2750 | elapsed:   15.1s finished\n",
      "[Parallel(n_jobs=-1)]: Using backend LokyBackend with 8 concurrent workers.\n"
     ]
    },
    {
     "name": "stdout",
     "output_type": "stream",
     "text": [
      "alpha: {'learning_rate': 0.5, 'loss': 'huber', 'max_depth': 2, 'n_estimators': 4}\n",
      "19 Tennessee Titans: 2015-09-01 00:00:00\n",
      "Fitting 5 folds for each of 550 candidates, totalling 2750 fits\n"
     ]
    },
    {
     "name": "stderr",
     "output_type": "stream",
     "text": [
      "[Parallel(n_jobs=-1)]: Done  16 tasks      | elapsed:    0.1s\n",
      "[Parallel(n_jobs=-1)]: Done 1168 tasks      | elapsed:    5.9s\n",
      "[Parallel(n_jobs=-1)]: Done 2750 out of 2750 | elapsed:   14.1s finished\n",
      "[Parallel(n_jobs=-1)]: Using backend LokyBackend with 8 concurrent workers.\n"
     ]
    },
    {
     "name": "stdout",
     "output_type": "stream",
     "text": [
      "alpha: {'learning_rate': 0.6, 'loss': 'huber', 'max_depth': 6, 'n_estimators': 8}\n",
      "19 Tennessee Titans: 2015-10-01 00:00:00\n",
      "Fitting 5 folds for each of 550 candidates, totalling 2750 fits\n"
     ]
    },
    {
     "name": "stderr",
     "output_type": "stream",
     "text": [
      "[Parallel(n_jobs=-1)]: Done  16 tasks      | elapsed:    0.2s\n",
      "[Parallel(n_jobs=-1)]: Done 1912 tasks      | elapsed:    9.5s\n",
      "[Parallel(n_jobs=-1)]: Done 2750 out of 2750 | elapsed:   14.3s finished\n",
      "[Parallel(n_jobs=-1)]: Using backend LokyBackend with 8 concurrent workers.\n"
     ]
    },
    {
     "name": "stdout",
     "output_type": "stream",
     "text": [
      "alpha: {'learning_rate': 0.2, 'loss': 'huber', 'max_depth': 2, 'n_estimators': 8}\n",
      "19 Tennessee Titans: 2015-11-01 00:00:00\n",
      "Fitting 5 folds for each of 550 candidates, totalling 2750 fits\n"
     ]
    },
    {
     "name": "stderr",
     "output_type": "stream",
     "text": [
      "[Parallel(n_jobs=-1)]: Done  16 tasks      | elapsed:    0.2s\n",
      "[Parallel(n_jobs=-1)]: Done 1648 tasks      | elapsed:    8.1s\n",
      "[Parallel(n_jobs=-1)]: Done 2750 out of 2750 | elapsed:   14.0s finished\n",
      "[Parallel(n_jobs=-1)]: Using backend LokyBackend with 8 concurrent workers.\n"
     ]
    },
    {
     "name": "stdout",
     "output_type": "stream",
     "text": [
      "alpha: {'learning_rate': 0.3, 'loss': 'huber', 'max_depth': 2, 'n_estimators': 6}\n",
      "19 Tennessee Titans: 2015-12-01 00:00:00\n",
      "Fitting 5 folds for each of 550 candidates, totalling 2750 fits\n"
     ]
    },
    {
     "name": "stderr",
     "output_type": "stream",
     "text": [
      "[Parallel(n_jobs=-1)]: Done  16 tasks      | elapsed:    0.1s\n",
      "[Parallel(n_jobs=-1)]: Done 1672 tasks      | elapsed:    8.4s\n",
      "[Parallel(n_jobs=-1)]: Done 2750 out of 2750 | elapsed:   13.8s finished\n",
      "[Parallel(n_jobs=-1)]: Using backend LokyBackend with 8 concurrent workers.\n"
     ]
    },
    {
     "name": "stdout",
     "output_type": "stream",
     "text": [
      "alpha: {'learning_rate': 0.5, 'loss': 'huber', 'max_depth': 4, 'n_estimators': 6}\n",
      "19 Tennessee Titans: 2016-09-01 00:00:00\n",
      "Fitting 5 folds for each of 550 candidates, totalling 2750 fits\n"
     ]
    },
    {
     "name": "stderr",
     "output_type": "stream",
     "text": [
      "[Parallel(n_jobs=-1)]: Done  16 tasks      | elapsed:    0.1s\n",
      "[Parallel(n_jobs=-1)]: Done 1567 tasks      | elapsed:    7.6s\n",
      "[Parallel(n_jobs=-1)]: Done 2750 out of 2750 | elapsed:   13.6s finished\n",
      "[Parallel(n_jobs=-1)]: Using backend LokyBackend with 8 concurrent workers.\n"
     ]
    },
    {
     "name": "stdout",
     "output_type": "stream",
     "text": [
      "alpha: {'learning_rate': 0.3, 'loss': 'ls', 'max_depth': 4, 'n_estimators': 4}\n",
      "19 Tennessee Titans: 2016-10-01 00:00:00\n",
      "Fitting 5 folds for each of 550 candidates, totalling 2750 fits\n"
     ]
    },
    {
     "name": "stderr",
     "output_type": "stream",
     "text": [
      "[Parallel(n_jobs=-1)]: Done  16 tasks      | elapsed:    0.1s\n",
      "[Parallel(n_jobs=-1)]: Done 1168 tasks      | elapsed:    5.7s\n",
      "[Parallel(n_jobs=-1)]: Done 2750 out of 2750 | elapsed:   13.7s finished\n",
      "[Parallel(n_jobs=-1)]: Using backend LokyBackend with 8 concurrent workers.\n"
     ]
    },
    {
     "name": "stdout",
     "output_type": "stream",
     "text": [
      "alpha: {'learning_rate': 0.5, 'loss': 'huber', 'max_depth': 2, 'n_estimators': 4}\n",
      "19 Tennessee Titans: 2016-11-01 00:00:00\n",
      "Fitting 5 folds for each of 550 candidates, totalling 2750 fits\n"
     ]
    },
    {
     "name": "stderr",
     "output_type": "stream",
     "text": [
      "[Parallel(n_jobs=-1)]: Done  16 tasks      | elapsed:    0.2s\n",
      "[Parallel(n_jobs=-1)]: Done 1780 tasks      | elapsed:    9.1s\n",
      "[Parallel(n_jobs=-1)]: Done 2750 out of 2750 | elapsed:   14.3s finished\n",
      "[Parallel(n_jobs=-1)]: Using backend LokyBackend with 8 concurrent workers.\n"
     ]
    },
    {
     "name": "stdout",
     "output_type": "stream",
     "text": [
      "alpha: {'learning_rate': 0.6, 'loss': 'huber', 'max_depth': 2, 'n_estimators': 2}\n",
      "19 Tennessee Titans: 2016-12-01 00:00:00\n",
      "Fitting 5 folds for each of 550 candidates, totalling 2750 fits\n"
     ]
    },
    {
     "name": "stderr",
     "output_type": "stream",
     "text": [
      "[Parallel(n_jobs=-1)]: Done  16 tasks      | elapsed:    0.1s\n",
      "[Parallel(n_jobs=-1)]: Done 1936 tasks      | elapsed:    9.8s\n",
      "[Parallel(n_jobs=-1)]: Done 2750 out of 2750 | elapsed:   14.5s finished\n",
      "[Parallel(n_jobs=-1)]: Using backend LokyBackend with 8 concurrent workers.\n"
     ]
    },
    {
     "name": "stdout",
     "output_type": "stream",
     "text": [
      "alpha: {'learning_rate': 0.4, 'loss': 'huber', 'max_depth': 2, 'n_estimators': 6}\n",
      "19 Tennessee Titans: 2017-09-01 00:00:00\n",
      "Fitting 5 folds for each of 550 candidates, totalling 2750 fits\n"
     ]
    },
    {
     "name": "stderr",
     "output_type": "stream",
     "text": [
      "[Parallel(n_jobs=-1)]: Done  16 tasks      | elapsed:    0.1s\n",
      "[Parallel(n_jobs=-1)]: Done 1168 tasks      | elapsed:    6.0s\n",
      "[Parallel(n_jobs=-1)]: Done 2750 out of 2750 | elapsed:   14.9s finished\n",
      "[Parallel(n_jobs=-1)]: Using backend LokyBackend with 8 concurrent workers.\n"
     ]
    },
    {
     "name": "stdout",
     "output_type": "stream",
     "text": [
      "alpha: {'learning_rate': 0.4, 'loss': 'ls', 'max_depth': 2, 'n_estimators': 10}\n",
      "19 Tennessee Titans: 2017-10-01 00:00:00\n",
      "Fitting 5 folds for each of 550 candidates, totalling 2750 fits\n"
     ]
    },
    {
     "name": "stderr",
     "output_type": "stream",
     "text": [
      "[Parallel(n_jobs=-1)]: Done  16 tasks      | elapsed:    0.1s\n",
      "[Parallel(n_jobs=-1)]: Done 1936 tasks      | elapsed:    9.9s\n",
      "[Parallel(n_jobs=-1)]: Done 2750 out of 2750 | elapsed:   14.7s finished\n",
      "[Parallel(n_jobs=-1)]: Using backend LokyBackend with 8 concurrent workers.\n"
     ]
    },
    {
     "name": "stdout",
     "output_type": "stream",
     "text": [
      "alpha: {'learning_rate': 0.5, 'loss': 'huber', 'max_depth': 4, 'n_estimators': 8}\n",
      "19 Tennessee Titans: 2017-11-01 00:00:00\n",
      "Fitting 5 folds for each of 550 candidates, totalling 2750 fits\n"
     ]
    },
    {
     "name": "stderr",
     "output_type": "stream",
     "text": [
      "[Parallel(n_jobs=-1)]: Done  16 tasks      | elapsed:    0.2s\n",
      "[Parallel(n_jobs=-1)]: Done 1552 tasks      | elapsed:    8.5s\n",
      "[Parallel(n_jobs=-1)]: Done 2750 out of 2750 | elapsed:   15.3s finished\n",
      "[Parallel(n_jobs=-1)]: Using backend LokyBackend with 8 concurrent workers.\n"
     ]
    },
    {
     "name": "stdout",
     "output_type": "stream",
     "text": [
      "alpha: {'learning_rate': 0.2, 'loss': 'ls', 'max_depth': 2, 'n_estimators': 8}\n",
      "19 Tennessee Titans: 2017-12-01 00:00:00\n",
      "Fitting 5 folds for each of 550 candidates, totalling 2750 fits\n"
     ]
    },
    {
     "name": "stderr",
     "output_type": "stream",
     "text": [
      "[Parallel(n_jobs=-1)]: Done  16 tasks      | elapsed:    0.2s\n",
      "[Parallel(n_jobs=-1)]: Done 1771 tasks      | elapsed:    9.0s\n",
      "[Parallel(n_jobs=-1)]: Done 2750 out of 2750 | elapsed:   14.4s finished\n",
      "[Parallel(n_jobs=-1)]: Using backend LokyBackend with 8 concurrent workers.\n"
     ]
    },
    {
     "name": "stdout",
     "output_type": "stream",
     "text": [
      "alpha: {'learning_rate': 0.4, 'loss': 'ls', 'max_depth': 2, 'n_estimators': 6}\n",
      "19 Tennessee Titans: 2018-09-01 00:00:00\n",
      "Fitting 5 folds for each of 550 candidates, totalling 2750 fits\n"
     ]
    },
    {
     "name": "stderr",
     "output_type": "stream",
     "text": [
      "[Parallel(n_jobs=-1)]: Done  16 tasks      | elapsed:    0.2s\n",
      "[Parallel(n_jobs=-1)]: Done 1648 tasks      | elapsed:    8.4s\n",
      "[Parallel(n_jobs=-1)]: Done 2750 out of 2750 | elapsed:   14.7s finished\n",
      "[Parallel(n_jobs=-1)]: Using backend LokyBackend with 8 concurrent workers.\n"
     ]
    },
    {
     "name": "stdout",
     "output_type": "stream",
     "text": [
      "alpha: {'learning_rate': 0.3, 'loss': 'huber', 'max_depth': 2, 'n_estimators': 6}\n",
      "19 Tennessee Titans: 2018-10-01 00:00:00\n",
      "Fitting 5 folds for each of 550 candidates, totalling 2750 fits\n"
     ]
    },
    {
     "name": "stderr",
     "output_type": "stream",
     "text": [
      "[Parallel(n_jobs=-1)]: Done  16 tasks      | elapsed:    0.2s\n",
      "[Parallel(n_jobs=-1)]: Done 1660 tasks      | elapsed:    8.4s\n",
      "[Parallel(n_jobs=-1)]: Done 2750 out of 2750 | elapsed:   14.6s finished\n",
      "[Parallel(n_jobs=-1)]: Using backend LokyBackend with 8 concurrent workers.\n"
     ]
    },
    {
     "name": "stdout",
     "output_type": "stream",
     "text": [
      "alpha: {'learning_rate': 0.2, 'loss': 'ls', 'max_depth': 2, 'n_estimators': 6}\n",
      "19 Tennessee Titans: 2018-11-01 00:00:00\n",
      "Fitting 5 folds for each of 550 candidates, totalling 2750 fits\n"
     ]
    },
    {
     "name": "stderr",
     "output_type": "stream",
     "text": [
      "[Parallel(n_jobs=-1)]: Done  16 tasks      | elapsed:    0.1s\n",
      "[Parallel(n_jobs=-1)]: Done 1576 tasks      | elapsed:    8.3s\n",
      "[Parallel(n_jobs=-1)]: Done 2750 out of 2750 | elapsed:   14.9s finished\n",
      "[Parallel(n_jobs=-1)]: Using backend LokyBackend with 8 concurrent workers.\n"
     ]
    },
    {
     "name": "stdout",
     "output_type": "stream",
     "text": [
      "alpha: {'learning_rate': 0.15, 'loss': 'huber', 'max_depth': 2, 'n_estimators': 10}\n",
      "19 Tennessee Titans: 2018-12-01 00:00:00\n",
      "Fitting 5 folds for each of 550 candidates, totalling 2750 fits\n"
     ]
    },
    {
     "name": "stderr",
     "output_type": "stream",
     "text": [
      "[Parallel(n_jobs=-1)]: Done  16 tasks      | elapsed:    0.2s\n",
      "[Parallel(n_jobs=-1)]: Done 1567 tasks      | elapsed:    7.9s\n",
      "[Parallel(n_jobs=-1)]: Done 2750 out of 2750 | elapsed:   15.0s finished\n",
      "[Parallel(n_jobs=-1)]: Using backend LokyBackend with 8 concurrent workers.\n"
     ]
    },
    {
     "name": "stdout",
     "output_type": "stream",
     "text": [
      "alpha: {'learning_rate': 0.4, 'loss': 'ls', 'max_depth': 2, 'n_estimators': 4}\n",
      "19 Tennessee Titans: 2019-09-01 00:00:00\n",
      "Fitting 5 folds for each of 550 candidates, totalling 2750 fits\n"
     ]
    },
    {
     "name": "stderr",
     "output_type": "stream",
     "text": [
      "[Parallel(n_jobs=-1)]: Done  16 tasks      | elapsed:    0.2s\n",
      "[Parallel(n_jobs=-1)]: Done 1660 tasks      | elapsed:    8.3s\n",
      "[Parallel(n_jobs=-1)]: Done 2750 out of 2750 | elapsed:   14.5s finished\n"
     ]
    },
    {
     "name": "stdout",
     "output_type": "stream",
     "text": [
      "alpha: {'learning_rate': 0.5, 'loss': 'huber', 'max_depth': 8, 'n_estimators': 10}\n",
      "19 Tennessee Titans: 2019-10-01 00:00:00\n",
      "Fitting 5 folds for each of 550 candidates, totalling 2750 fits\n"
     ]
    },
    {
     "name": "stderr",
     "output_type": "stream",
     "text": [
      "[Parallel(n_jobs=-1)]: Using backend LokyBackend with 8 concurrent workers.\n",
      "[Parallel(n_jobs=-1)]: Done  16 tasks      | elapsed:    0.1s\n",
      "[Parallel(n_jobs=-1)]: Done 1360 tasks      | elapsed:    6.8s\n",
      "[Parallel(n_jobs=-1)]: Done 2750 out of 2750 | elapsed:   14.4s finished\n",
      "[Parallel(n_jobs=-1)]: Using backend LokyBackend with 8 concurrent workers.\n"
     ]
    },
    {
     "name": "stdout",
     "output_type": "stream",
     "text": [
      "alpha: {'learning_rate': 0.2, 'loss': 'huber', 'max_depth': 2, 'n_estimators': 8}\n",
      "19 Tennessee Titans: 2019-11-01 00:00:00\n",
      "Fitting 5 folds for each of 550 candidates, totalling 2750 fits\n"
     ]
    },
    {
     "name": "stderr",
     "output_type": "stream",
     "text": [
      "[Parallel(n_jobs=-1)]: Done  16 tasks      | elapsed:    0.1s\n",
      "[Parallel(n_jobs=-1)]: Done 1552 tasks      | elapsed:    8.1s\n",
      "[Parallel(n_jobs=-1)]: Done 2750 out of 2750 | elapsed:   15.2s finished\n",
      "[Parallel(n_jobs=-1)]: Using backend LokyBackend with 8 concurrent workers.\n"
     ]
    },
    {
     "name": "stdout",
     "output_type": "stream",
     "text": [
      "alpha: {'learning_rate': 0.2, 'loss': 'huber', 'max_depth': 2, 'n_estimators': 8}\n",
      "19 Tennessee Titans: 2019-12-01 00:00:00\n",
      "Fitting 5 folds for each of 550 candidates, totalling 2750 fits\n"
     ]
    },
    {
     "name": "stderr",
     "output_type": "stream",
     "text": [
      "[Parallel(n_jobs=-1)]: Done  16 tasks      | elapsed:    0.2s\n",
      "[Parallel(n_jobs=-1)]: Done 1466 tasks      | elapsed:    8.2s\n",
      "[Parallel(n_jobs=-1)]: Done 2750 out of 2750 | elapsed:   15.5s finished\n",
      "[Parallel(n_jobs=-1)]: Using backend LokyBackend with 8 concurrent workers.\n"
     ]
    },
    {
     "name": "stdout",
     "output_type": "stream",
     "text": [
      "alpha: {'learning_rate': 0.3, 'loss': 'ls', 'max_depth': 2, 'n_estimators': 6}\n",
      "20 San Francisco 49Ers: 2012-09-01 00:00:00\n",
      "Fitting 5 folds for each of 550 candidates, totalling 2750 fits\n"
     ]
    },
    {
     "name": "stderr",
     "output_type": "stream",
     "text": [
      "[Parallel(n_jobs=-1)]: Done  16 tasks      | elapsed:    0.2s\n",
      "[Parallel(n_jobs=-1)]: Done 1684 tasks      | elapsed:    8.8s\n",
      "[Parallel(n_jobs=-1)]: Done 2750 out of 2750 | elapsed:   14.5s finished\n",
      "[Parallel(n_jobs=-1)]: Using backend LokyBackend with 8 concurrent workers.\n"
     ]
    },
    {
     "name": "stdout",
     "output_type": "stream",
     "text": [
      "alpha: {'learning_rate': 0.3, 'loss': 'huber', 'max_depth': 2, 'n_estimators': 6}\n",
      "20 San Francisco 49Ers: 2012-10-01 00:00:00\n",
      "Fitting 5 folds for each of 550 candidates, totalling 2750 fits\n"
     ]
    },
    {
     "name": "stderr",
     "output_type": "stream",
     "text": [
      "[Parallel(n_jobs=-1)]: Done  16 tasks      | elapsed:    0.2s\n",
      "[Parallel(n_jobs=-1)]: Done 1684 tasks      | elapsed:    8.5s\n",
      "[Parallel(n_jobs=-1)]: Done 2750 out of 2750 | elapsed:   14.1s finished\n",
      "[Parallel(n_jobs=-1)]: Using backend LokyBackend with 8 concurrent workers.\n"
     ]
    },
    {
     "name": "stdout",
     "output_type": "stream",
     "text": [
      "alpha: {'learning_rate': 0.3, 'loss': 'huber', 'max_depth': 2, 'n_estimators': 4}\n",
      "20 San Francisco 49Ers: 2012-11-01 00:00:00\n",
      "Fitting 5 folds for each of 550 candidates, totalling 2750 fits\n"
     ]
    },
    {
     "name": "stderr",
     "output_type": "stream",
     "text": [
      "[Parallel(n_jobs=-1)]: Done  16 tasks      | elapsed:    0.2s\n",
      "[Parallel(n_jobs=-1)]: Done 1672 tasks      | elapsed:    8.3s\n",
      "[Parallel(n_jobs=-1)]: Done 2750 out of 2750 | elapsed:   13.8s finished\n",
      "[Parallel(n_jobs=-1)]: Using backend LokyBackend with 8 concurrent workers.\n"
     ]
    },
    {
     "name": "stdout",
     "output_type": "stream",
     "text": [
      "alpha: {'learning_rate': 0.4, 'loss': 'huber', 'max_depth': 2, 'n_estimators': 2}\n",
      "20 San Francisco 49Ers: 2012-12-01 00:00:00\n",
      "Fitting 5 folds for each of 550 candidates, totalling 2750 fits\n"
     ]
    },
    {
     "name": "stderr",
     "output_type": "stream",
     "text": [
      "[Parallel(n_jobs=-1)]: Done  16 tasks      | elapsed:    0.2s\n",
      "[Parallel(n_jobs=-1)]: Done 1828 tasks      | elapsed:    9.0s\n",
      "[Parallel(n_jobs=-1)]: Done 2750 out of 2750 | elapsed:   14.2s finished\n",
      "[Parallel(n_jobs=-1)]: Using backend LokyBackend with 8 concurrent workers.\n"
     ]
    },
    {
     "name": "stdout",
     "output_type": "stream",
     "text": [
      "alpha: {'learning_rate': 0.15, 'loss': 'huber', 'max_depth': 2, 'n_estimators': 10}\n",
      "20 San Francisco 49Ers: 2013-09-01 00:00:00\n",
      "Fitting 5 folds for each of 550 candidates, totalling 2750 fits\n"
     ]
    },
    {
     "name": "stderr",
     "output_type": "stream",
     "text": [
      "[Parallel(n_jobs=-1)]: Done  16 tasks      | elapsed:    0.2s\n",
      "[Parallel(n_jobs=-1)]: Done 1576 tasks      | elapsed:    8.3s\n",
      "[Parallel(n_jobs=-1)]: Done 2750 out of 2750 | elapsed:   14.7s finished\n",
      "[Parallel(n_jobs=-1)]: Using backend LokyBackend with 8 concurrent workers.\n"
     ]
    },
    {
     "name": "stdout",
     "output_type": "stream",
     "text": [
      "alpha: {'learning_rate': 0.6, 'loss': 'ls', 'max_depth': 2, 'n_estimators': 4}\n",
      "20 San Francisco 49Ers: 2013-10-01 00:00:00\n",
      "Fitting 5 folds for each of 550 candidates, totalling 2750 fits\n"
     ]
    },
    {
     "name": "stderr",
     "output_type": "stream",
     "text": [
      "[Parallel(n_jobs=-1)]: Done  16 tasks      | elapsed:    0.2s\n",
      "[Parallel(n_jobs=-1)]: Done 1780 tasks      | elapsed:    8.9s\n",
      "[Parallel(n_jobs=-1)]: Done 2750 out of 2750 | elapsed:   14.0s finished\n",
      "[Parallel(n_jobs=-1)]: Using backend LokyBackend with 8 concurrent workers.\n"
     ]
    },
    {
     "name": "stdout",
     "output_type": "stream",
     "text": [
      "alpha: {'learning_rate': 0.4, 'loss': 'huber', 'max_depth': 2, 'n_estimators': 6}\n",
      "20 San Francisco 49Ers: 2013-11-01 00:00:00\n",
      "Fitting 5 folds for each of 550 candidates, totalling 2750 fits\n"
     ]
    },
    {
     "name": "stderr",
     "output_type": "stream",
     "text": [
      "[Parallel(n_jobs=-1)]: Done  16 tasks      | elapsed:    0.2s\n",
      "[Parallel(n_jobs=-1)]: Done 1648 tasks      | elapsed:    8.2s\n",
      "[Parallel(n_jobs=-1)]: Done 2750 out of 2750 | elapsed:   14.4s finished\n",
      "[Parallel(n_jobs=-1)]: Using backend LokyBackend with 8 concurrent workers.\n"
     ]
    },
    {
     "name": "stdout",
     "output_type": "stream",
     "text": [
      "alpha: {'learning_rate': 0.3, 'loss': 'ls', 'max_depth': 2, 'n_estimators': 8}\n",
      "20 San Francisco 49Ers: 2013-12-01 00:00:00\n",
      "Fitting 5 folds for each of 550 candidates, totalling 2750 fits\n"
     ]
    },
    {
     "name": "stderr",
     "output_type": "stream",
     "text": [
      "[Parallel(n_jobs=-1)]: Done  16 tasks      | elapsed:    0.2s\n",
      "[Parallel(n_jobs=-1)]: Done 1892 tasks      | elapsed:    9.7s\n",
      "[Parallel(n_jobs=-1)]: Done 2750 out of 2750 | elapsed:   14.9s finished\n",
      "[Parallel(n_jobs=-1)]: Using backend LokyBackend with 8 concurrent workers.\n"
     ]
    },
    {
     "name": "stdout",
     "output_type": "stream",
     "text": [
      "alpha: {'learning_rate': 0.5, 'loss': 'ls', 'max_depth': 2, 'n_estimators': 2}\n",
      "20 San Francisco 49Ers: 2014-09-01 00:00:00\n",
      "Fitting 5 folds for each of 550 candidates, totalling 2750 fits\n"
     ]
    },
    {
     "name": "stderr",
     "output_type": "stream",
     "text": [
      "[Parallel(n_jobs=-1)]: Done  16 tasks      | elapsed:    0.2s\n",
      "[Parallel(n_jobs=-1)]: Done 1816 tasks      | elapsed:    9.2s\n",
      "[Parallel(n_jobs=-1)]: Done 2750 out of 2750 | elapsed:   14.6s finished\n",
      "[Parallel(n_jobs=-1)]: Using backend LokyBackend with 8 concurrent workers.\n"
     ]
    },
    {
     "name": "stdout",
     "output_type": "stream",
     "text": [
      "alpha: {'learning_rate': 0.5, 'loss': 'ls', 'max_depth': 6, 'n_estimators': 6}\n",
      "20 San Francisco 49Ers: 2014-10-01 00:00:00\n",
      "Fitting 5 folds for each of 550 candidates, totalling 2750 fits\n"
     ]
    },
    {
     "name": "stderr",
     "output_type": "stream",
     "text": [
      "[Parallel(n_jobs=-1)]: Done  16 tasks      | elapsed:    0.2s\n",
      "[Parallel(n_jobs=-1)]: Done 1648 tasks      | elapsed:    8.2s\n",
      "[Parallel(n_jobs=-1)]: Done 2750 out of 2750 | elapsed:   15.0s finished\n",
      "[Parallel(n_jobs=-1)]: Using backend LokyBackend with 8 concurrent workers.\n"
     ]
    },
    {
     "name": "stdout",
     "output_type": "stream",
     "text": [
      "alpha: {'learning_rate': 0.3, 'loss': 'ls', 'max_depth': 2, 'n_estimators': 6}\n",
      "20 San Francisco 49Ers: 2014-11-01 00:00:00\n",
      "Fitting 5 folds for each of 550 candidates, totalling 2750 fits\n"
     ]
    },
    {
     "name": "stderr",
     "output_type": "stream",
     "text": [
      "[Parallel(n_jobs=-1)]: Done  16 tasks      | elapsed:    0.1s\n",
      "[Parallel(n_jobs=-1)]: Done 1936 tasks      | elapsed:    9.5s\n",
      "[Parallel(n_jobs=-1)]: Done 2750 out of 2750 | elapsed:   13.9s finished\n",
      "[Parallel(n_jobs=-1)]: Using backend LokyBackend with 8 concurrent workers.\n"
     ]
    },
    {
     "name": "stdout",
     "output_type": "stream",
     "text": [
      "alpha: {'learning_rate': 0.2, 'loss': 'ls', 'max_depth': 2, 'n_estimators': 10}\n",
      "20 San Francisco 49Ers: 2014-12-01 00:00:00\n",
      "Fitting 5 folds for each of 550 candidates, totalling 2750 fits\n"
     ]
    },
    {
     "name": "stderr",
     "output_type": "stream",
     "text": [
      "[Parallel(n_jobs=-1)]: Done  16 tasks      | elapsed:    0.2s\n",
      "[Parallel(n_jobs=-1)]: Done 1828 tasks      | elapsed:    8.8s\n",
      "[Parallel(n_jobs=-1)]: Done 2750 out of 2750 | elapsed:   13.9s finished\n",
      "[Parallel(n_jobs=-1)]: Using backend LokyBackend with 8 concurrent workers.\n"
     ]
    },
    {
     "name": "stdout",
     "output_type": "stream",
     "text": [
      "alpha: {'learning_rate': 0.2, 'loss': 'ls', 'max_depth': 2, 'n_estimators': 8}\n",
      "20 San Francisco 49Ers: 2015-09-01 00:00:00\n",
      "Fitting 5 folds for each of 550 candidates, totalling 2750 fits\n"
     ]
    },
    {
     "name": "stderr",
     "output_type": "stream",
     "text": [
      "[Parallel(n_jobs=-1)]: Done  16 tasks      | elapsed:    0.2s\n",
      "[Parallel(n_jobs=-1)]: Done 1648 tasks      | elapsed:    8.7s\n",
      "[Parallel(n_jobs=-1)]: Done 2750 out of 2750 | elapsed:   14.8s finished\n",
      "[Parallel(n_jobs=-1)]: Using backend LokyBackend with 8 concurrent workers.\n"
     ]
    },
    {
     "name": "stdout",
     "output_type": "stream",
     "text": [
      "alpha: {'learning_rate': 0.4, 'loss': 'ls', 'max_depth': 4, 'n_estimators': 4}\n",
      "20 San Francisco 49Ers: 2015-10-01 00:00:00\n",
      "Fitting 5 folds for each of 550 candidates, totalling 2750 fits\n"
     ]
    },
    {
     "name": "stderr",
     "output_type": "stream",
     "text": [
      "[Parallel(n_jobs=-1)]: Done  16 tasks      | elapsed:    0.1s\n",
      "[Parallel(n_jobs=-1)]: Done 1567 tasks      | elapsed:    7.9s\n",
      "[Parallel(n_jobs=-1)]: Done 2750 out of 2750 | elapsed:   14.4s finished\n",
      "[Parallel(n_jobs=-1)]: Using backend LokyBackend with 8 concurrent workers.\n"
     ]
    },
    {
     "name": "stdout",
     "output_type": "stream",
     "text": [
      "alpha: {'learning_rate': 0.5, 'loss': 'ls', 'max_depth': 2, 'n_estimators': 2}\n",
      "20 San Francisco 49Ers: 2015-11-01 00:00:00\n",
      "Fitting 5 folds for each of 550 candidates, totalling 2750 fits\n"
     ]
    },
    {
     "name": "stderr",
     "output_type": "stream",
     "text": [
      "[Parallel(n_jobs=-1)]: Done  16 tasks      | elapsed:    0.2s\n",
      "[Parallel(n_jobs=-1)]: Done 1831 tasks      | elapsed:    9.0s\n",
      "[Parallel(n_jobs=-1)]: Done 2750 out of 2750 | elapsed:   14.1s finished\n",
      "[Parallel(n_jobs=-1)]: Using backend LokyBackend with 8 concurrent workers.\n"
     ]
    },
    {
     "name": "stdout",
     "output_type": "stream",
     "text": [
      "alpha: {'learning_rate': 0.2, 'loss': 'ls', 'max_depth': 2, 'n_estimators': 10}\n",
      "20 San Francisco 49Ers: 2015-12-01 00:00:00\n",
      "Fitting 5 folds for each of 550 candidates, totalling 2750 fits\n"
     ]
    },
    {
     "name": "stderr",
     "output_type": "stream",
     "text": [
      "[Parallel(n_jobs=-1)]: Done  16 tasks      | elapsed:    0.2s\n",
      "[Parallel(n_jobs=-1)]: Done 1648 tasks      | elapsed:    8.2s\n",
      "[Parallel(n_jobs=-1)]: Done 2750 out of 2750 | elapsed:   14.6s finished\n",
      "[Parallel(n_jobs=-1)]: Using backend LokyBackend with 8 concurrent workers.\n"
     ]
    },
    {
     "name": "stdout",
     "output_type": "stream",
     "text": [
      "alpha: {'learning_rate': 0.5, 'loss': 'ls', 'max_depth': 2, 'n_estimators': 4}\n",
      "20 San Francisco 49Ers: 2016-09-01 00:00:00\n",
      "Fitting 5 folds for each of 550 candidates, totalling 2750 fits\n"
     ]
    },
    {
     "name": "stderr",
     "output_type": "stream",
     "text": [
      "[Parallel(n_jobs=-1)]: Done  16 tasks      | elapsed:    0.2s\n",
      "[Parallel(n_jobs=-1)]: Done 1624 tasks      | elapsed:    8.4s\n",
      "[Parallel(n_jobs=-1)]: Done 2750 out of 2750 | elapsed:   15.1s finished\n",
      "[Parallel(n_jobs=-1)]: Using backend LokyBackend with 8 concurrent workers.\n"
     ]
    },
    {
     "name": "stdout",
     "output_type": "stream",
     "text": [
      "alpha: {'learning_rate': 0.5, 'loss': 'huber', 'max_depth': 4, 'n_estimators': 10}\n",
      "20 San Francisco 49Ers: 2016-10-01 00:00:00\n",
      "Fitting 5 folds for each of 550 candidates, totalling 2750 fits\n"
     ]
    },
    {
     "name": "stderr",
     "output_type": "stream",
     "text": [
      "[Parallel(n_jobs=-1)]: Done  16 tasks      | elapsed:    0.1s\n",
      "[Parallel(n_jobs=-1)]: Done 1936 tasks      | elapsed:    9.9s\n",
      "[Parallel(n_jobs=-1)]: Done 2750 out of 2750 | elapsed:   14.2s finished\n",
      "[Parallel(n_jobs=-1)]: Using backend LokyBackend with 8 concurrent workers.\n"
     ]
    },
    {
     "name": "stdout",
     "output_type": "stream",
     "text": [
      "alpha: {'learning_rate': 0.2, 'loss': 'ls', 'max_depth': 4, 'n_estimators': 8}\n",
      "20 San Francisco 49Ers: 2016-11-01 00:00:00\n",
      "Fitting 5 folds for each of 550 candidates, totalling 2750 fits\n"
     ]
    },
    {
     "name": "stderr",
     "output_type": "stream",
     "text": [
      "[Parallel(n_jobs=-1)]: Done  16 tasks      | elapsed:    0.2s\n",
      "[Parallel(n_jobs=-1)]: Done 1578 tasks      | elapsed:    7.9s\n",
      "[Parallel(n_jobs=-1)]: Done 2750 out of 2750 | elapsed:   14.5s finished\n",
      "[Parallel(n_jobs=-1)]: Using backend LokyBackend with 8 concurrent workers.\n"
     ]
    },
    {
     "name": "stdout",
     "output_type": "stream",
     "text": [
      "alpha: {'learning_rate': 0.4, 'loss': 'huber', 'max_depth': 2, 'n_estimators': 4}\n",
      "20 San Francisco 49Ers: 2016-12-01 00:00:00\n",
      "Fitting 5 folds for each of 550 candidates, totalling 2750 fits\n"
     ]
    },
    {
     "name": "stderr",
     "output_type": "stream",
     "text": [
      "[Parallel(n_jobs=-1)]: Done  16 tasks      | elapsed:    0.2s\n",
      "[Parallel(n_jobs=-1)]: Done 1567 tasks      | elapsed:    7.8s\n",
      "[Parallel(n_jobs=-1)]: Done 2750 out of 2750 | elapsed:   14.4s finished\n",
      "[Parallel(n_jobs=-1)]: Using backend LokyBackend with 8 concurrent workers.\n"
     ]
    },
    {
     "name": "stdout",
     "output_type": "stream",
     "text": [
      "alpha: {'learning_rate': 0.3, 'loss': 'huber', 'max_depth': 2, 'n_estimators': 8}\n",
      "20 San Francisco 49Ers: 2017-09-01 00:00:00\n",
      "Fitting 5 folds for each of 550 candidates, totalling 2750 fits\n"
     ]
    },
    {
     "name": "stderr",
     "output_type": "stream",
     "text": [
      "[Parallel(n_jobs=-1)]: Done  16 tasks      | elapsed:    0.1s\n",
      "[Parallel(n_jobs=-1)]: Done 1648 tasks      | elapsed:    9.2s\n",
      "[Parallel(n_jobs=-1)]: Done 2750 out of 2750 | elapsed:   15.5s finished\n",
      "[Parallel(n_jobs=-1)]: Using backend LokyBackend with 8 concurrent workers.\n"
     ]
    },
    {
     "name": "stdout",
     "output_type": "stream",
     "text": [
      "alpha: {'learning_rate': 0.4, 'loss': 'ls', 'max_depth': 2, 'n_estimators': 4}\n",
      "20 San Francisco 49Ers: 2017-10-01 00:00:00\n",
      "Fitting 5 folds for each of 550 candidates, totalling 2750 fits\n"
     ]
    },
    {
     "name": "stderr",
     "output_type": "stream",
     "text": [
      "[Parallel(n_jobs=-1)]: Done  16 tasks      | elapsed:    0.1s\n",
      "[Parallel(n_jobs=-1)]: Done 1545 tasks      | elapsed:    8.1s\n",
      "[Parallel(n_jobs=-1)]: Done 2750 out of 2750 | elapsed:   14.7s finished\n",
      "[Parallel(n_jobs=-1)]: Using backend LokyBackend with 8 concurrent workers.\n"
     ]
    },
    {
     "name": "stdout",
     "output_type": "stream",
     "text": [
      "alpha: {'learning_rate': 0.3, 'loss': 'ls', 'max_depth': 2, 'n_estimators': 4}\n",
      "20 San Francisco 49Ers: 2017-11-01 00:00:00\n",
      "Fitting 5 folds for each of 550 candidates, totalling 2750 fits\n"
     ]
    },
    {
     "name": "stderr",
     "output_type": "stream",
     "text": [
      "[Parallel(n_jobs=-1)]: Done  16 tasks      | elapsed:    0.2s\n",
      "[Parallel(n_jobs=-1)]: Done 1589 tasks      | elapsed:    8.4s\n",
      "[Parallel(n_jobs=-1)]: Done 2750 out of 2750 | elapsed:   15.2s finished\n",
      "[Parallel(n_jobs=-1)]: Using backend LokyBackend with 8 concurrent workers.\n"
     ]
    },
    {
     "name": "stdout",
     "output_type": "stream",
     "text": [
      "alpha: {'learning_rate': 0.3, 'loss': 'ls', 'max_depth': 2, 'n_estimators': 6}\n",
      "20 San Francisco 49Ers: 2017-12-01 00:00:00\n",
      "Fitting 5 folds for each of 550 candidates, totalling 2750 fits\n"
     ]
    },
    {
     "name": "stderr",
     "output_type": "stream",
     "text": [
      "[Parallel(n_jobs=-1)]: Done  16 tasks      | elapsed:    0.1s\n",
      "[Parallel(n_jobs=-1)]: Done 1168 tasks      | elapsed:    6.1s\n",
      "[Parallel(n_jobs=-1)]: Done 2750 out of 2750 | elapsed:   14.8s finished\n",
      "[Parallel(n_jobs=-1)]: Using backend LokyBackend with 8 concurrent workers.\n"
     ]
    },
    {
     "name": "stdout",
     "output_type": "stream",
     "text": [
      "alpha: {'learning_rate': 0.3, 'loss': 'ls', 'max_depth': 2, 'n_estimators': 6}\n",
      "20 San Francisco 49Ers: 2018-09-01 00:00:00\n",
      "Fitting 5 folds for each of 550 candidates, totalling 2750 fits\n"
     ]
    },
    {
     "name": "stderr",
     "output_type": "stream",
     "text": [
      "[Parallel(n_jobs=-1)]: Done  16 tasks      | elapsed:    0.1s\n",
      "[Parallel(n_jobs=-1)]: Done 1545 tasks      | elapsed:    8.8s\n",
      "[Parallel(n_jobs=-1)]: Done 2750 out of 2750 | elapsed:   15.4s finished\n",
      "[Parallel(n_jobs=-1)]: Using backend LokyBackend with 8 concurrent workers.\n"
     ]
    },
    {
     "name": "stdout",
     "output_type": "stream",
     "text": [
      "alpha: {'learning_rate': 0.3, 'loss': 'ls', 'max_depth': 2, 'n_estimators': 10}\n",
      "20 San Francisco 49Ers: 2018-10-01 00:00:00\n",
      "Fitting 5 folds for each of 550 candidates, totalling 2750 fits\n"
     ]
    },
    {
     "name": "stderr",
     "output_type": "stream",
     "text": [
      "[Parallel(n_jobs=-1)]: Done  16 tasks      | elapsed:    0.2s\n",
      "[Parallel(n_jobs=-1)]: Done 1648 tasks      | elapsed:    8.5s\n",
      "[Parallel(n_jobs=-1)]: Done 2750 out of 2750 | elapsed:   14.9s finished\n",
      "[Parallel(n_jobs=-1)]: Using backend LokyBackend with 8 concurrent workers.\n"
     ]
    },
    {
     "name": "stdout",
     "output_type": "stream",
     "text": [
      "alpha: {'learning_rate': 0.3, 'loss': 'ls', 'max_depth': 2, 'n_estimators': 8}\n",
      "20 San Francisco 49Ers: 2018-11-01 00:00:00\n",
      "Fitting 5 folds for each of 550 candidates, totalling 2750 fits\n"
     ]
    },
    {
     "name": "stderr",
     "output_type": "stream",
     "text": [
      "[Parallel(n_jobs=-1)]: Done  16 tasks      | elapsed:    0.2s\n",
      "[Parallel(n_jobs=-1)]: Done 1684 tasks      | elapsed:    8.7s\n",
      "[Parallel(n_jobs=-1)]: Done 2750 out of 2750 | elapsed:   14.7s finished\n",
      "[Parallel(n_jobs=-1)]: Using backend LokyBackend with 8 concurrent workers.\n"
     ]
    },
    {
     "name": "stdout",
     "output_type": "stream",
     "text": [
      "alpha: {'learning_rate': 0.2, 'loss': 'ls', 'max_depth': 2, 'n_estimators': 8}\n",
      "20 San Francisco 49Ers: 2018-12-01 00:00:00\n",
      "Fitting 5 folds for each of 550 candidates, totalling 2750 fits\n"
     ]
    },
    {
     "name": "stderr",
     "output_type": "stream",
     "text": [
      "[Parallel(n_jobs=-1)]: Done  16 tasks      | elapsed:    0.1s\n",
      "[Parallel(n_jobs=-1)]: Done 1648 tasks      | elapsed:    8.4s\n",
      "[Parallel(n_jobs=-1)]: Done 2750 out of 2750 | elapsed:   14.8s finished\n",
      "[Parallel(n_jobs=-1)]: Using backend LokyBackend with 8 concurrent workers.\n"
     ]
    },
    {
     "name": "stdout",
     "output_type": "stream",
     "text": [
      "alpha: {'learning_rate': 0.3, 'loss': 'huber', 'max_depth': 2, 'n_estimators': 8}\n",
      "20 San Francisco 49Ers: 2019-09-01 00:00:00\n",
      "Fitting 5 folds for each of 550 candidates, totalling 2750 fits\n"
     ]
    },
    {
     "name": "stderr",
     "output_type": "stream",
     "text": [
      "[Parallel(n_jobs=-1)]: Done  16 tasks      | elapsed:    0.2s\n",
      "[Parallel(n_jobs=-1)]: Done 1576 tasks      | elapsed:    8.8s\n",
      "[Parallel(n_jobs=-1)]: Done 2750 out of 2750 | elapsed:   15.5s finished\n",
      "[Parallel(n_jobs=-1)]: Using backend LokyBackend with 8 concurrent workers.\n"
     ]
    },
    {
     "name": "stdout",
     "output_type": "stream",
     "text": [
      "alpha: {'learning_rate': 0.15, 'loss': 'ls', 'max_depth': 2, 'n_estimators': 6}\n",
      "20 San Francisco 49Ers: 2019-10-01 00:00:00\n",
      "Fitting 5 folds for each of 550 candidates, totalling 2750 fits\n"
     ]
    },
    {
     "name": "stderr",
     "output_type": "stream",
     "text": [
      "[Parallel(n_jobs=-1)]: Done  16 tasks      | elapsed:    0.2s\n",
      "[Parallel(n_jobs=-1)]: Done 1648 tasks      | elapsed:    8.4s\n",
      "[Parallel(n_jobs=-1)]: Done 2750 out of 2750 | elapsed:   14.9s finished\n",
      "[Parallel(n_jobs=-1)]: Using backend LokyBackend with 8 concurrent workers.\n"
     ]
    },
    {
     "name": "stdout",
     "output_type": "stream",
     "text": [
      "alpha: {'learning_rate': 0.6, 'loss': 'ls', 'max_depth': 2, 'n_estimators': 10}\n",
      "20 San Francisco 49Ers: 2019-11-01 00:00:00\n",
      "Fitting 5 folds for each of 550 candidates, totalling 2750 fits\n"
     ]
    },
    {
     "name": "stderr",
     "output_type": "stream",
     "text": [
      "[Parallel(n_jobs=-1)]: Done  16 tasks      | elapsed:    0.1s\n",
      "[Parallel(n_jobs=-1)]: Done 1168 tasks      | elapsed:    5.9s\n",
      "[Parallel(n_jobs=-1)]: Done 2750 out of 2750 | elapsed:   14.9s finished\n",
      "[Parallel(n_jobs=-1)]: Using backend LokyBackend with 8 concurrent workers.\n"
     ]
    },
    {
     "name": "stdout",
     "output_type": "stream",
     "text": [
      "alpha: {'learning_rate': 0.3, 'loss': 'huber', 'max_depth': 2, 'n_estimators': 6}\n",
      "20 San Francisco 49Ers: 2019-12-01 00:00:00\n",
      "Fitting 5 folds for each of 550 candidates, totalling 2750 fits\n"
     ]
    },
    {
     "name": "stderr",
     "output_type": "stream",
     "text": [
      "[Parallel(n_jobs=-1)]: Done  16 tasks      | elapsed:    0.2s\n",
      "[Parallel(n_jobs=-1)]: Done 1578 tasks      | elapsed:    7.9s\n",
      "[Parallel(n_jobs=-1)]: Done 2750 out of 2750 | elapsed:   14.3s finished\n",
      "[Parallel(n_jobs=-1)]: Using backend LokyBackend with 8 concurrent workers.\n"
     ]
    },
    {
     "name": "stdout",
     "output_type": "stream",
     "text": [
      "alpha: {'learning_rate': 0.4, 'loss': 'huber', 'max_depth': 2, 'n_estimators': 4}\n",
      "21 Arizona Cardinals: 2012-09-01 00:00:00\n",
      "Fitting 5 folds for each of 550 candidates, totalling 2750 fits\n"
     ]
    },
    {
     "name": "stderr",
     "output_type": "stream",
     "text": [
      "[Parallel(n_jobs=-1)]: Done  16 tasks      | elapsed:    0.2s\n",
      "[Parallel(n_jobs=-1)]: Done 1612 tasks      | elapsed:    8.4s\n",
      "[Parallel(n_jobs=-1)]: Done 2750 out of 2750 | elapsed:   14.8s finished\n",
      "[Parallel(n_jobs=-1)]: Using backend LokyBackend with 8 concurrent workers.\n"
     ]
    },
    {
     "name": "stdout",
     "output_type": "stream",
     "text": [
      "alpha: {'learning_rate': 0.6, 'loss': 'ls', 'max_depth': 4, 'n_estimators': 4}\n",
      "21 Arizona Cardinals: 2012-10-01 00:00:00\n",
      "Fitting 5 folds for each of 550 candidates, totalling 2750 fits\n"
     ]
    },
    {
     "name": "stderr",
     "output_type": "stream",
     "text": [
      "[Parallel(n_jobs=-1)]: Done  16 tasks      | elapsed:    0.2s\n",
      "[Parallel(n_jobs=-1)]: Done 1930 tasks      | elapsed:    9.6s\n",
      "[Parallel(n_jobs=-1)]: Done 2750 out of 2750 | elapsed:   14.0s finished\n",
      "[Parallel(n_jobs=-1)]: Using backend LokyBackend with 8 concurrent workers.\n"
     ]
    },
    {
     "name": "stdout",
     "output_type": "stream",
     "text": [
      "alpha: {'learning_rate': 0.15, 'loss': 'ls', 'max_depth': 2, 'n_estimators': 10}\n",
      "21 Arizona Cardinals: 2012-11-01 00:00:00\n",
      "Fitting 5 folds for each of 550 candidates, totalling 2750 fits\n"
     ]
    },
    {
     "name": "stderr",
     "output_type": "stream",
     "text": [
      "[Parallel(n_jobs=-1)]: Done  16 tasks      | elapsed:    0.1s\n",
      "[Parallel(n_jobs=-1)]: Done 1936 tasks      | elapsed:   10.3s\n",
      "[Parallel(n_jobs=-1)]: Done 2750 out of 2750 | elapsed:   14.6s finished\n",
      "[Parallel(n_jobs=-1)]: Using backend LokyBackend with 8 concurrent workers.\n"
     ]
    },
    {
     "name": "stdout",
     "output_type": "stream",
     "text": [
      "alpha: {'learning_rate': 0.4, 'loss': 'huber', 'max_depth': 2, 'n_estimators': 10}\n",
      "21 Arizona Cardinals: 2012-12-01 00:00:00\n",
      "Fitting 5 folds for each of 550 candidates, totalling 2750 fits\n"
     ]
    },
    {
     "name": "stderr",
     "output_type": "stream",
     "text": [
      "[Parallel(n_jobs=-1)]: Done  16 tasks      | elapsed:    0.1s\n",
      "[Parallel(n_jobs=-1)]: Done 1660 tasks      | elapsed:    8.1s\n",
      "[Parallel(n_jobs=-1)]: Done 2750 out of 2750 | elapsed:   14.2s finished\n",
      "[Parallel(n_jobs=-1)]: Using backend LokyBackend with 8 concurrent workers.\n"
     ]
    },
    {
     "name": "stdout",
     "output_type": "stream",
     "text": [
      "alpha: {'learning_rate': 0.3, 'loss': 'huber', 'max_depth': 2, 'n_estimators': 10}\n",
      "21 Arizona Cardinals: 2013-09-01 00:00:00\n",
      "Fitting 5 folds for each of 550 candidates, totalling 2750 fits\n"
     ]
    },
    {
     "name": "stderr",
     "output_type": "stream",
     "text": [
      "[Parallel(n_jobs=-1)]: Done  16 tasks      | elapsed:    0.1s\n",
      "[Parallel(n_jobs=-1)]: Done 1684 tasks      | elapsed:    9.3s\n",
      "[Parallel(n_jobs=-1)]: Done 2750 out of 2750 | elapsed:   15.1s finished\n",
      "[Parallel(n_jobs=-1)]: Using backend LokyBackend with 8 concurrent workers.\n"
     ]
    },
    {
     "name": "stdout",
     "output_type": "stream",
     "text": [
      "alpha: {'learning_rate': 0.5, 'loss': 'huber', 'max_depth': 2, 'n_estimators': 6}\n",
      "21 Arizona Cardinals: 2013-10-01 00:00:00\n",
      "Fitting 5 folds for each of 550 candidates, totalling 2750 fits\n"
     ]
    },
    {
     "name": "stderr",
     "output_type": "stream",
     "text": [
      "[Parallel(n_jobs=-1)]: Done  16 tasks      | elapsed:    0.2s\n",
      "[Parallel(n_jobs=-1)]: Done 1648 tasks      | elapsed:    8.2s\n",
      "[Parallel(n_jobs=-1)]: Done 2750 out of 2750 | elapsed:   14.3s finished\n",
      "[Parallel(n_jobs=-1)]: Using backend LokyBackend with 8 concurrent workers.\n"
     ]
    },
    {
     "name": "stdout",
     "output_type": "stream",
     "text": [
      "alpha: {'learning_rate': 0.3, 'loss': 'ls', 'max_depth': 2, 'n_estimators': 10}\n",
      "21 Arizona Cardinals: 2013-11-01 00:00:00\n",
      "Fitting 5 folds for each of 550 candidates, totalling 2750 fits\n"
     ]
    },
    {
     "name": "stderr",
     "output_type": "stream",
     "text": [
      "[Parallel(n_jobs=-1)]: Done  16 tasks      | elapsed:    0.2s\n",
      "[Parallel(n_jobs=-1)]: Done 1636 tasks      | elapsed:    9.0s\n",
      "[Parallel(n_jobs=-1)]: Done 2750 out of 2750 | elapsed:   16.2s finished\n",
      "[Parallel(n_jobs=-1)]: Using backend LokyBackend with 8 concurrent workers.\n"
     ]
    },
    {
     "name": "stdout",
     "output_type": "stream",
     "text": [
      "alpha: {'learning_rate': 0.5, 'loss': 'huber', 'max_depth': 2, 'n_estimators': 6}\n",
      "21 Arizona Cardinals: 2013-12-01 00:00:00\n",
      "Fitting 5 folds for each of 550 candidates, totalling 2750 fits\n"
     ]
    },
    {
     "name": "stderr",
     "output_type": "stream",
     "text": [
      "[Parallel(n_jobs=-1)]: Done  16 tasks      | elapsed:    0.1s\n",
      "[Parallel(n_jobs=-1)]: Done 976 tasks      | elapsed:    5.7s\n",
      "[Parallel(n_jobs=-1)]: Done 2576 tasks      | elapsed:   14.7s\n",
      "[Parallel(n_jobs=-1)]: Done 2750 out of 2750 | elapsed:   16.0s finished\n",
      "[Parallel(n_jobs=-1)]: Using backend LokyBackend with 8 concurrent workers.\n"
     ]
    },
    {
     "name": "stdout",
     "output_type": "stream",
     "text": [
      "alpha: {'learning_rate': 0.3, 'loss': 'ls', 'max_depth': 4, 'n_estimators': 2}\n",
      "21 Arizona Cardinals: 2014-09-01 00:00:00\n",
      "Fitting 5 folds for each of 550 candidates, totalling 2750 fits\n"
     ]
    },
    {
     "name": "stderr",
     "output_type": "stream",
     "text": [
      "[Parallel(n_jobs=-1)]: Done  16 tasks      | elapsed:    0.1s\n",
      "[Parallel(n_jobs=-1)]: Done 1567 tasks      | elapsed:    7.9s\n",
      "[Parallel(n_jobs=-1)]: Done 2750 out of 2750 | elapsed:   14.3s finished\n",
      "[Parallel(n_jobs=-1)]: Using backend LokyBackend with 8 concurrent workers.\n"
     ]
    },
    {
     "name": "stdout",
     "output_type": "stream",
     "text": [
      "alpha: {'learning_rate': 0.5, 'loss': 'ls', 'max_depth': 2, 'n_estimators': 10}\n",
      "21 Arizona Cardinals: 2014-10-01 00:00:00\n",
      "Fitting 5 folds for each of 550 candidates, totalling 2750 fits\n"
     ]
    },
    {
     "name": "stderr",
     "output_type": "stream",
     "text": [
      "[Parallel(n_jobs=-1)]: Done  16 tasks      | elapsed:    0.2s\n",
      "[Parallel(n_jobs=-1)]: Done 1648 tasks      | elapsed:    8.4s\n",
      "[Parallel(n_jobs=-1)]: Done 2750 out of 2750 | elapsed:   14.7s finished\n",
      "[Parallel(n_jobs=-1)]: Using backend LokyBackend with 8 concurrent workers.\n"
     ]
    },
    {
     "name": "stdout",
     "output_type": "stream",
     "text": [
      "alpha: {'learning_rate': 0.5, 'loss': 'ls', 'max_depth': 2, 'n_estimators': 10}\n",
      "21 Arizona Cardinals: 2014-11-01 00:00:00\n",
      "Fitting 5 folds for each of 550 candidates, totalling 2750 fits\n"
     ]
    },
    {
     "name": "stderr",
     "output_type": "stream",
     "text": [
      "[Parallel(n_jobs=-1)]: Done  16 tasks      | elapsed:    0.2s\n",
      "[Parallel(n_jobs=-1)]: Done 1684 tasks      | elapsed:    8.9s\n",
      "[Parallel(n_jobs=-1)]: Done 2750 out of 2750 | elapsed:   14.9s finished\n",
      "[Parallel(n_jobs=-1)]: Using backend LokyBackend with 8 concurrent workers.\n"
     ]
    },
    {
     "name": "stdout",
     "output_type": "stream",
     "text": [
      "alpha: {'learning_rate': 0.2, 'loss': 'ls', 'max_depth': 2, 'n_estimators': 10}\n",
      "21 Arizona Cardinals: 2014-12-01 00:00:00\n",
      "Fitting 5 folds for each of 550 candidates, totalling 2750 fits\n"
     ]
    },
    {
     "name": "stderr",
     "output_type": "stream",
     "text": [
      "[Parallel(n_jobs=-1)]: Done  16 tasks      | elapsed:    0.2s\n",
      "[Parallel(n_jobs=-1)]: Done 1672 tasks      | elapsed:    8.7s\n",
      "[Parallel(n_jobs=-1)]: Done 2750 out of 2750 | elapsed:   14.7s finished\n",
      "[Parallel(n_jobs=-1)]: Using backend LokyBackend with 8 concurrent workers.\n"
     ]
    },
    {
     "name": "stdout",
     "output_type": "stream",
     "text": [
      "alpha: {'learning_rate': 0.3, 'loss': 'huber', 'max_depth': 2, 'n_estimators': 8}\n",
      "21 Arizona Cardinals: 2015-09-01 00:00:00\n",
      "Fitting 5 folds for each of 550 candidates, totalling 2750 fits\n"
     ]
    },
    {
     "name": "stderr",
     "output_type": "stream",
     "text": [
      "[Parallel(n_jobs=-1)]: Done  16 tasks      | elapsed:    0.2s\n",
      "[Parallel(n_jobs=-1)]: Done 1745 tasks      | elapsed:    9.6s\n",
      "[Parallel(n_jobs=-1)]: Done 2750 out of 2750 | elapsed:   15.1s finished\n",
      "[Parallel(n_jobs=-1)]: Using backend LokyBackend with 8 concurrent workers.\n"
     ]
    },
    {
     "name": "stdout",
     "output_type": "stream",
     "text": [
      "alpha: {'learning_rate': 0.2, 'loss': 'ls', 'max_depth': 2, 'n_estimators': 8}\n",
      "21 Arizona Cardinals: 2015-10-01 00:00:00\n",
      "Fitting 5 folds for each of 550 candidates, totalling 2750 fits\n"
     ]
    },
    {
     "name": "stderr",
     "output_type": "stream",
     "text": [
      "[Parallel(n_jobs=-1)]: Done  16 tasks      | elapsed:    0.1s\n",
      "[Parallel(n_jobs=-1)]: Done 1648 tasks      | elapsed:    8.2s\n",
      "[Parallel(n_jobs=-1)]: Done 2750 out of 2750 | elapsed:   14.4s finished\n",
      "[Parallel(n_jobs=-1)]: Using backend LokyBackend with 8 concurrent workers.\n"
     ]
    },
    {
     "name": "stdout",
     "output_type": "stream",
     "text": [
      "alpha: {'learning_rate': 0.3, 'loss': 'ls', 'max_depth': 2, 'n_estimators': 4}\n",
      "21 Arizona Cardinals: 2015-11-01 00:00:00\n",
      "Fitting 5 folds for each of 550 candidates, totalling 2750 fits\n"
     ]
    },
    {
     "name": "stderr",
     "output_type": "stream",
     "text": [
      "[Parallel(n_jobs=-1)]: Done  16 tasks      | elapsed:    0.1s\n",
      "[Parallel(n_jobs=-1)]: Done 1578 tasks      | elapsed:    8.0s\n",
      "[Parallel(n_jobs=-1)]: Done 2750 out of 2750 | elapsed:   14.3s finished\n",
      "[Parallel(n_jobs=-1)]: Using backend LokyBackend with 8 concurrent workers.\n"
     ]
    },
    {
     "name": "stdout",
     "output_type": "stream",
     "text": [
      "alpha: {'learning_rate': 0.3, 'loss': 'ls', 'max_depth': 2, 'n_estimators': 4}\n",
      "21 Arizona Cardinals: 2015-12-01 00:00:00\n",
      "Fitting 5 folds for each of 550 candidates, totalling 2750 fits\n"
     ]
    },
    {
     "name": "stderr",
     "output_type": "stream",
     "text": [
      "[Parallel(n_jobs=-1)]: Done  16 tasks      | elapsed:    0.1s\n",
      "[Parallel(n_jobs=-1)]: Done 1446 tasks      | elapsed:    7.7s\n",
      "[Parallel(n_jobs=-1)]: Done 2750 out of 2750 | elapsed:   14.8s finished\n",
      "[Parallel(n_jobs=-1)]: Using backend LokyBackend with 8 concurrent workers.\n"
     ]
    },
    {
     "name": "stdout",
     "output_type": "stream",
     "text": [
      "alpha: {'learning_rate': 0.2, 'loss': 'huber', 'max_depth': 6, 'n_estimators': 6}\n",
      "21 Arizona Cardinals: 2016-09-01 00:00:00\n",
      "Fitting 5 folds for each of 550 candidates, totalling 2750 fits\n"
     ]
    },
    {
     "name": "stderr",
     "output_type": "stream",
     "text": [
      "[Parallel(n_jobs=-1)]: Done  16 tasks      | elapsed:    0.1s\n",
      "[Parallel(n_jobs=-1)]: Done 1545 tasks      | elapsed:    8.1s\n",
      "[Parallel(n_jobs=-1)]: Done 2750 out of 2750 | elapsed:   14.6s finished\n",
      "[Parallel(n_jobs=-1)]: Using backend LokyBackend with 8 concurrent workers.\n"
     ]
    },
    {
     "name": "stdout",
     "output_type": "stream",
     "text": [
      "alpha: {'learning_rate': 0.4, 'loss': 'ls', 'max_depth': 6, 'n_estimators': 4}\n",
      "21 Arizona Cardinals: 2016-10-01 00:00:00\n",
      "Fitting 5 folds for each of 550 candidates, totalling 2750 fits\n"
     ]
    },
    {
     "name": "stderr",
     "output_type": "stream",
     "text": [
      "[Parallel(n_jobs=-1)]: Done  16 tasks      | elapsed:    0.1s\n",
      "[Parallel(n_jobs=-1)]: Done 1552 tasks      | elapsed:    7.6s\n",
      "[Parallel(n_jobs=-1)]: Done 2750 out of 2750 | elapsed:   14.0s finished\n",
      "[Parallel(n_jobs=-1)]: Using backend LokyBackend with 8 concurrent workers.\n"
     ]
    },
    {
     "name": "stdout",
     "output_type": "stream",
     "text": [
      "alpha: {'learning_rate': 0.4, 'loss': 'ls', 'max_depth': 2, 'n_estimators': 10}\n",
      "21 Arizona Cardinals: 2016-11-01 00:00:00\n",
      "Fitting 5 folds for each of 550 candidates, totalling 2750 fits\n"
     ]
    },
    {
     "name": "stderr",
     "output_type": "stream",
     "text": [
      "[Parallel(n_jobs=-1)]: Done  16 tasks      | elapsed:    0.1s\n",
      "[Parallel(n_jobs=-1)]: Done 1648 tasks      | elapsed:    8.6s\n",
      "[Parallel(n_jobs=-1)]: Done 2750 out of 2750 | elapsed:   14.8s finished\n",
      "[Parallel(n_jobs=-1)]: Using backend LokyBackend with 8 concurrent workers.\n"
     ]
    },
    {
     "name": "stdout",
     "output_type": "stream",
     "text": [
      "alpha: {'learning_rate': 0.3, 'loss': 'ls', 'max_depth': 2, 'n_estimators': 10}\n",
      "21 Arizona Cardinals: 2016-12-01 00:00:00\n",
      "Fitting 5 folds for each of 550 candidates, totalling 2750 fits\n"
     ]
    },
    {
     "name": "stderr",
     "output_type": "stream",
     "text": [
      "[Parallel(n_jobs=-1)]: Done  16 tasks      | elapsed:    0.1s\n",
      "[Parallel(n_jobs=-1)]: Done 1684 tasks      | elapsed:    8.8s\n",
      "[Parallel(n_jobs=-1)]: Done 2750 out of 2750 | elapsed:   14.8s finished\n",
      "[Parallel(n_jobs=-1)]: Using backend LokyBackend with 8 concurrent workers.\n"
     ]
    },
    {
     "name": "stdout",
     "output_type": "stream",
     "text": [
      "alpha: {'learning_rate': 0.6, 'loss': 'huber', 'max_depth': 4, 'n_estimators': 4}\n",
      "21 Arizona Cardinals: 2017-09-01 00:00:00\n",
      "Fitting 5 folds for each of 550 candidates, totalling 2750 fits\n"
     ]
    },
    {
     "name": "stderr",
     "output_type": "stream",
     "text": [
      "[Parallel(n_jobs=-1)]: Done  16 tasks      | elapsed:    0.2s\n",
      "[Parallel(n_jobs=-1)]: Done 1864 tasks      | elapsed:   10.3s\n",
      "[Parallel(n_jobs=-1)]: Done 2750 out of 2750 | elapsed:   15.4s finished\n",
      "[Parallel(n_jobs=-1)]: Using backend LokyBackend with 8 concurrent workers.\n"
     ]
    },
    {
     "name": "stdout",
     "output_type": "stream",
     "text": [
      "alpha: {'learning_rate': 0.3, 'loss': 'huber', 'max_depth': 2, 'n_estimators': 6}\n",
      "21 Arizona Cardinals: 2017-10-01 00:00:00\n",
      "Fitting 5 folds for each of 550 candidates, totalling 2750 fits\n"
     ]
    },
    {
     "name": "stderr",
     "output_type": "stream",
     "text": [
      "[Parallel(n_jobs=-1)]: Done  16 tasks      | elapsed:    0.2s\n",
      "[Parallel(n_jobs=-1)]: Done 1684 tasks      | elapsed:    8.9s\n",
      "[Parallel(n_jobs=-1)]: Done 2750 out of 2750 | elapsed:   14.8s finished\n",
      "[Parallel(n_jobs=-1)]: Using backend LokyBackend with 8 concurrent workers.\n"
     ]
    },
    {
     "name": "stdout",
     "output_type": "stream",
     "text": [
      "alpha: {'learning_rate': 0.15, 'loss': 'huber', 'max_depth': 2, 'n_estimators': 10}\n",
      "21 Arizona Cardinals: 2017-11-01 00:00:00\n",
      "Fitting 5 folds for each of 550 candidates, totalling 2750 fits\n"
     ]
    },
    {
     "name": "stderr",
     "output_type": "stream",
     "text": [
      "[Parallel(n_jobs=-1)]: Done  16 tasks      | elapsed:    0.1s\n",
      "[Parallel(n_jobs=-1)]: Done 1567 tasks      | elapsed:    8.1s\n",
      "[Parallel(n_jobs=-1)]: Done 2750 out of 2750 | elapsed:   14.8s finished\n",
      "[Parallel(n_jobs=-1)]: Using backend LokyBackend with 8 concurrent workers.\n"
     ]
    },
    {
     "name": "stdout",
     "output_type": "stream",
     "text": [
      "alpha: {'learning_rate': 0.6, 'loss': 'huber', 'max_depth': 2, 'n_estimators': 2}\n",
      "21 Arizona Cardinals: 2017-12-01 00:00:00\n",
      "Fitting 5 folds for each of 550 candidates, totalling 2750 fits\n"
     ]
    },
    {
     "name": "stderr",
     "output_type": "stream",
     "text": [
      "[Parallel(n_jobs=-1)]: Done  16 tasks      | elapsed:    0.2s\n",
      "[Parallel(n_jobs=-1)]: Done 1578 tasks      | elapsed:    8.1s\n",
      "[Parallel(n_jobs=-1)]: Done 2750 out of 2750 | elapsed:   14.6s finished\n",
      "[Parallel(n_jobs=-1)]: Using backend LokyBackend with 8 concurrent workers.\n"
     ]
    },
    {
     "name": "stdout",
     "output_type": "stream",
     "text": [
      "alpha: {'learning_rate': 0.4, 'loss': 'ls', 'max_depth': 2, 'n_estimators': 4}\n",
      "21 Arizona Cardinals: 2018-09-01 00:00:00\n",
      "Fitting 5 folds for each of 550 candidates, totalling 2750 fits\n"
     ]
    },
    {
     "name": "stderr",
     "output_type": "stream",
     "text": [
      "[Parallel(n_jobs=-1)]: Done  16 tasks      | elapsed:    0.2s\n",
      "[Parallel(n_jobs=-1)]: Done 1648 tasks      | elapsed:    8.9s\n",
      "[Parallel(n_jobs=-1)]: Done 2750 out of 2750 | elapsed:   15.4s finished\n",
      "[Parallel(n_jobs=-1)]: Using backend LokyBackend with 8 concurrent workers.\n"
     ]
    },
    {
     "name": "stdout",
     "output_type": "stream",
     "text": [
      "alpha: {'learning_rate': 0.3, 'loss': 'huber', 'max_depth': 2, 'n_estimators': 6}\n",
      "21 Arizona Cardinals: 2018-10-01 00:00:00\n",
      "Fitting 5 folds for each of 550 candidates, totalling 2750 fits\n"
     ]
    },
    {
     "name": "stderr",
     "output_type": "stream",
     "text": [
      "[Parallel(n_jobs=-1)]: Done  16 tasks      | elapsed:    0.2s\n",
      "[Parallel(n_jobs=-1)]: Done 1545 tasks      | elapsed:    8.1s\n",
      "[Parallel(n_jobs=-1)]: Done 2750 out of 2750 | elapsed:   15.1s finished\n",
      "[Parallel(n_jobs=-1)]: Using backend LokyBackend with 8 concurrent workers.\n"
     ]
    },
    {
     "name": "stdout",
     "output_type": "stream",
     "text": [
      "alpha: {'learning_rate': 0.2, 'loss': 'ls', 'max_depth': 2, 'n_estimators': 6}\n",
      "21 Arizona Cardinals: 2018-11-01 00:00:00\n",
      "Fitting 5 folds for each of 550 candidates, totalling 2750 fits\n"
     ]
    },
    {
     "name": "stderr",
     "output_type": "stream",
     "text": [
      "[Parallel(n_jobs=-1)]: Done  16 tasks      | elapsed:    0.1s\n",
      "[Parallel(n_jobs=-1)]: Done 1567 tasks      | elapsed:    8.3s\n",
      "[Parallel(n_jobs=-1)]: Done 2750 out of 2750 | elapsed:   15.3s finished\n",
      "[Parallel(n_jobs=-1)]: Using backend LokyBackend with 8 concurrent workers.\n"
     ]
    },
    {
     "name": "stdout",
     "output_type": "stream",
     "text": [
      "alpha: {'learning_rate': 0.3, 'loss': 'huber', 'max_depth': 2, 'n_estimators': 4}\n",
      "21 Arizona Cardinals: 2018-12-01 00:00:00\n",
      "Fitting 5 folds for each of 550 candidates, totalling 2750 fits\n"
     ]
    },
    {
     "name": "stderr",
     "output_type": "stream",
     "text": [
      "[Parallel(n_jobs=-1)]: Done  16 tasks      | elapsed:    0.2s\n",
      "[Parallel(n_jobs=-1)]: Done 1624 tasks      | elapsed:    8.8s\n",
      "[Parallel(n_jobs=-1)]: Done 2750 out of 2750 | elapsed:   15.5s finished\n",
      "[Parallel(n_jobs=-1)]: Using backend LokyBackend with 8 concurrent workers.\n"
     ]
    },
    {
     "name": "stdout",
     "output_type": "stream",
     "text": [
      "alpha: {'learning_rate': 0.15, 'loss': 'ls', 'max_depth': 4, 'n_estimators': 10}\n",
      "21 Arizona Cardinals: 2019-09-01 00:00:00\n",
      "Fitting 5 folds for each of 550 candidates, totalling 2750 fits\n"
     ]
    },
    {
     "name": "stderr",
     "output_type": "stream",
     "text": [
      "[Parallel(n_jobs=-1)]: Done  16 tasks      | elapsed:    0.1s\n",
      "[Parallel(n_jobs=-1)]: Done 1523 tasks      | elapsed:    8.8s\n",
      "[Parallel(n_jobs=-1)]: Done 2750 out of 2750 | elapsed:   15.8s finished\n",
      "[Parallel(n_jobs=-1)]: Using backend LokyBackend with 8 concurrent workers.\n"
     ]
    },
    {
     "name": "stdout",
     "output_type": "stream",
     "text": [
      "alpha: {'learning_rate': 0.3, 'loss': 'huber', 'max_depth': 2, 'n_estimators': 4}\n",
      "21 Arizona Cardinals: 2019-10-01 00:00:00\n",
      "Fitting 5 folds for each of 550 candidates, totalling 2750 fits\n"
     ]
    },
    {
     "name": "stderr",
     "output_type": "stream",
     "text": [
      "[Parallel(n_jobs=-1)]: Done  16 tasks      | elapsed:    0.1s\n",
      "[Parallel(n_jobs=-1)]: Done 1556 tasks      | elapsed:    8.6s\n",
      "[Parallel(n_jobs=-1)]: Done 2750 out of 2750 | elapsed:   15.5s finished\n",
      "[Parallel(n_jobs=-1)]: Using backend LokyBackend with 8 concurrent workers.\n"
     ]
    },
    {
     "name": "stdout",
     "output_type": "stream",
     "text": [
      "alpha: {'learning_rate': 0.4, 'loss': 'huber', 'max_depth': 2, 'n_estimators': 4}\n",
      "21 Arizona Cardinals: 2019-11-01 00:00:00\n",
      "Fitting 5 folds for each of 550 candidates, totalling 2750 fits\n"
     ]
    },
    {
     "name": "stderr",
     "output_type": "stream",
     "text": [
      "[Parallel(n_jobs=-1)]: Done  16 tasks      | elapsed:    0.1s\n",
      "[Parallel(n_jobs=-1)]: Done 1466 tasks      | elapsed:    8.1s\n",
      "[Parallel(n_jobs=-1)]: Done 2750 out of 2750 | elapsed:   15.4s finished\n",
      "[Parallel(n_jobs=-1)]: Using backend LokyBackend with 8 concurrent workers.\n"
     ]
    },
    {
     "name": "stdout",
     "output_type": "stream",
     "text": [
      "alpha: {'learning_rate': 0.6, 'loss': 'huber', 'max_depth': 2, 'n_estimators': 2}\n",
      "21 Arizona Cardinals: 2019-12-01 00:00:00\n",
      "Fitting 5 folds for each of 550 candidates, totalling 2750 fits\n"
     ]
    },
    {
     "name": "stderr",
     "output_type": "stream",
     "text": [
      "[Parallel(n_jobs=-1)]: Done  16 tasks      | elapsed:    0.2s\n",
      "[Parallel(n_jobs=-1)]: Done 1578 tasks      | elapsed:    8.2s\n",
      "[Parallel(n_jobs=-1)]: Done 2750 out of 2750 | elapsed:   15.1s finished\n",
      "[Parallel(n_jobs=-1)]: Using backend LokyBackend with 8 concurrent workers.\n"
     ]
    },
    {
     "name": "stdout",
     "output_type": "stream",
     "text": [
      "alpha: {'learning_rate': 0.3, 'loss': 'ls', 'max_depth': 4, 'n_estimators': 6}\n",
      "22 Chicago Bears: 2012-09-01 00:00:00\n",
      "Fitting 5 folds for each of 550 candidates, totalling 2750 fits\n"
     ]
    },
    {
     "name": "stderr",
     "output_type": "stream",
     "text": [
      "[Parallel(n_jobs=-1)]: Done  16 tasks      | elapsed:    0.2s\n",
      "[Parallel(n_jobs=-1)]: Done 1600 tasks      | elapsed:    8.6s\n",
      "[Parallel(n_jobs=-1)]: Done 2750 out of 2750 | elapsed:   15.4s finished\n",
      "[Parallel(n_jobs=-1)]: Using backend LokyBackend with 8 concurrent workers.\n"
     ]
    },
    {
     "name": "stdout",
     "output_type": "stream",
     "text": [
      "alpha: {'learning_rate': 0.2, 'loss': 'huber', 'max_depth': 4, 'n_estimators': 10}\n",
      "22 Chicago Bears: 2012-10-01 00:00:00\n",
      "Fitting 5 folds for each of 550 candidates, totalling 2750 fits\n"
     ]
    },
    {
     "name": "stderr",
     "output_type": "stream",
     "text": [
      "[Parallel(n_jobs=-1)]: Done  16 tasks      | elapsed:    0.1s\n",
      "[Parallel(n_jobs=-1)]: Done 1672 tasks      | elapsed:    8.8s\n",
      "[Parallel(n_jobs=-1)]: Done 2750 out of 2750 | elapsed:   14.9s finished\n",
      "[Parallel(n_jobs=-1)]: Using backend LokyBackend with 8 concurrent workers.\n"
     ]
    },
    {
     "name": "stdout",
     "output_type": "stream",
     "text": [
      "alpha: {'learning_rate': 0.3, 'loss': 'ls', 'max_depth': 2, 'n_estimators': 4}\n",
      "22 Chicago Bears: 2012-11-01 00:00:00\n",
      "Fitting 5 folds for each of 550 candidates, totalling 2750 fits\n"
     ]
    },
    {
     "name": "stderr",
     "output_type": "stream",
     "text": [
      "[Parallel(n_jobs=-1)]: Done  16 tasks      | elapsed:    0.1s\n",
      "[Parallel(n_jobs=-1)]: Done 1660 tasks      | elapsed:    8.4s\n",
      "[Parallel(n_jobs=-1)]: Done 2750 out of 2750 | elapsed:   14.7s finished\n",
      "[Parallel(n_jobs=-1)]: Using backend LokyBackend with 8 concurrent workers.\n"
     ]
    },
    {
     "name": "stdout",
     "output_type": "stream",
     "text": [
      "alpha: {'learning_rate': 0.3, 'loss': 'ls', 'max_depth': 2, 'n_estimators': 4}\n",
      "22 Chicago Bears: 2012-12-01 00:00:00\n",
      "Fitting 5 folds for each of 550 candidates, totalling 2750 fits\n"
     ]
    },
    {
     "name": "stderr",
     "output_type": "stream",
     "text": [
      "[Parallel(n_jobs=-1)]: Done  16 tasks      | elapsed:    0.2s\n",
      "[Parallel(n_jobs=-1)]: Done 1672 tasks      | elapsed:    8.9s\n",
      "[Parallel(n_jobs=-1)]: Done 2750 out of 2750 | elapsed:   15.2s finished\n",
      "[Parallel(n_jobs=-1)]: Using backend LokyBackend with 8 concurrent workers.\n"
     ]
    },
    {
     "name": "stdout",
     "output_type": "stream",
     "text": [
      "alpha: {'learning_rate': 0.5, 'loss': 'huber', 'max_depth': 2, 'n_estimators': 2}\n",
      "22 Chicago Bears: 2013-09-01 00:00:00\n",
      "Fitting 5 folds for each of 550 candidates, totalling 2750 fits\n"
     ]
    },
    {
     "name": "stderr",
     "output_type": "stream",
     "text": [
      "[Parallel(n_jobs=-1)]: Done  16 tasks      | elapsed:    0.2s\n",
      "[Parallel(n_jobs=-1)]: Done 1321 tasks      | elapsed:    7.5s\n",
      "[Parallel(n_jobs=-1)]: Done 2750 out of 2750 | elapsed:   15.7s finished\n",
      "[Parallel(n_jobs=-1)]: Using backend LokyBackend with 8 concurrent workers.\n"
     ]
    },
    {
     "name": "stdout",
     "output_type": "stream",
     "text": [
      "alpha: {'learning_rate': 0.5, 'loss': 'huber', 'max_depth': 2, 'n_estimators': 2}\n",
      "22 Chicago Bears: 2013-10-01 00:00:00\n",
      "Fitting 5 folds for each of 550 candidates, totalling 2750 fits\n"
     ]
    },
    {
     "name": "stderr",
     "output_type": "stream",
     "text": [
      "[Parallel(n_jobs=-1)]: Done  16 tasks      | elapsed:    0.2s\n",
      "[Parallel(n_jobs=-1)]: Done 1926 tasks      | elapsed:   10.3s\n",
      "[Parallel(n_jobs=-1)]: Done 2750 out of 2750 | elapsed:   15.6s finished\n",
      "[Parallel(n_jobs=-1)]: Using backend LokyBackend with 8 concurrent workers.\n"
     ]
    },
    {
     "name": "stdout",
     "output_type": "stream",
     "text": [
      "alpha: {'learning_rate': 0.5, 'loss': 'huber', 'max_depth': 4, 'n_estimators': 10}\n",
      "22 Chicago Bears: 2013-11-01 00:00:00\n",
      "Fitting 5 folds for each of 550 candidates, totalling 2750 fits\n"
     ]
    },
    {
     "name": "stderr",
     "output_type": "stream",
     "text": [
      "[Parallel(n_jobs=-1)]: Done  16 tasks      | elapsed:    0.2s\n",
      "[Parallel(n_jobs=-1)]: Done 1456 tasks      | elapsed:    8.2s\n",
      "[Parallel(n_jobs=-1)]: Done 2750 out of 2750 | elapsed:   15.3s finished\n",
      "[Parallel(n_jobs=-1)]: Using backend LokyBackend with 8 concurrent workers.\n"
     ]
    },
    {
     "name": "stdout",
     "output_type": "stream",
     "text": [
      "alpha: {'learning_rate': 0.5, 'loss': 'huber', 'max_depth': 2, 'n_estimators': 2}\n",
      "22 Chicago Bears: 2013-12-01 00:00:00\n",
      "Fitting 5 folds for each of 550 candidates, totalling 2750 fits\n"
     ]
    },
    {
     "name": "stderr",
     "output_type": "stream",
     "text": [
      "[Parallel(n_jobs=-1)]: Done  16 tasks      | elapsed:    0.2s\n",
      "[Parallel(n_jobs=-1)]: Done 1636 tasks      | elapsed:    8.9s\n",
      "[Parallel(n_jobs=-1)]: Done 2750 out of 2750 | elapsed:   15.7s finished\n",
      "[Parallel(n_jobs=-1)]: Using backend LokyBackend with 8 concurrent workers.\n"
     ]
    },
    {
     "name": "stdout",
     "output_type": "stream",
     "text": [
      "alpha: {'learning_rate': 0.2, 'loss': 'huber', 'max_depth': 2, 'n_estimators': 10}\n",
      "22 Chicago Bears: 2014-09-01 00:00:00\n",
      "Fitting 5 folds for each of 550 candidates, totalling 2750 fits\n"
     ]
    },
    {
     "name": "stderr",
     "output_type": "stream",
     "text": [
      "[Parallel(n_jobs=-1)]: Done  16 tasks      | elapsed:    0.1s\n",
      "[Parallel(n_jobs=-1)]: Done 1545 tasks      | elapsed:    8.2s\n",
      "[Parallel(n_jobs=-1)]: Done 2750 out of 2750 | elapsed:   14.9s finished\n",
      "[Parallel(n_jobs=-1)]: Using backend LokyBackend with 8 concurrent workers.\n"
     ]
    },
    {
     "name": "stdout",
     "output_type": "stream",
     "text": [
      "alpha: {'learning_rate': 0.4, 'loss': 'ls', 'max_depth': 2, 'n_estimators': 4}\n",
      "22 Chicago Bears: 2014-10-01 00:00:00\n",
      "Fitting 5 folds for each of 550 candidates, totalling 2750 fits\n"
     ]
    },
    {
     "name": "stderr",
     "output_type": "stream",
     "text": [
      "[Parallel(n_jobs=-1)]: Done  16 tasks      | elapsed:    0.1s\n",
      "[Parallel(n_jobs=-1)]: Done 1168 tasks      | elapsed:    5.9s\n",
      "[Parallel(n_jobs=-1)]: Done 2750 out of 2750 | elapsed:   14.6s finished\n",
      "[Parallel(n_jobs=-1)]: Using backend LokyBackend with 8 concurrent workers.\n"
     ]
    },
    {
     "name": "stdout",
     "output_type": "stream",
     "text": [
      "alpha: {'learning_rate': 0.3, 'loss': 'huber', 'max_depth': 2, 'n_estimators': 8}\n",
      "22 Chicago Bears: 2014-11-01 00:00:00\n",
      "Fitting 5 folds for each of 550 candidates, totalling 2750 fits\n"
     ]
    },
    {
     "name": "stderr",
     "output_type": "stream",
     "text": [
      "[Parallel(n_jobs=-1)]: Done  16 tasks      | elapsed:    0.1s\n",
      "[Parallel(n_jobs=-1)]: Done 1567 tasks      | elapsed:    8.2s\n",
      "[Parallel(n_jobs=-1)]: Done 2750 out of 2750 | elapsed:   15.0s finished\n",
      "[Parallel(n_jobs=-1)]: Using backend LokyBackend with 8 concurrent workers.\n"
     ]
    },
    {
     "name": "stdout",
     "output_type": "stream",
     "text": [
      "alpha: {'learning_rate': 0.3, 'loss': 'ls', 'max_depth': 4, 'n_estimators': 8}\n",
      "22 Chicago Bears: 2014-12-01 00:00:00\n",
      "Fitting 5 folds for each of 550 candidates, totalling 2750 fits\n"
     ]
    },
    {
     "name": "stderr",
     "output_type": "stream",
     "text": [
      "[Parallel(n_jobs=-1)]: Done  16 tasks      | elapsed:    0.2s\n",
      "[Parallel(n_jobs=-1)]: Done 1456 tasks      | elapsed:    7.9s\n",
      "[Parallel(n_jobs=-1)]: Done 2750 out of 2750 | elapsed:   15.8s finished\n",
      "[Parallel(n_jobs=-1)]: Using backend LokyBackend with 8 concurrent workers.\n"
     ]
    },
    {
     "name": "stdout",
     "output_type": "stream",
     "text": [
      "alpha: {'learning_rate': 0.2, 'loss': 'ls', 'max_depth': 2, 'n_estimators': 10}\n",
      "22 Chicago Bears: 2015-09-01 00:00:00\n",
      "Fitting 5 folds for each of 550 candidates, totalling 2750 fits\n"
     ]
    },
    {
     "name": "stderr",
     "output_type": "stream",
     "text": [
      "[Parallel(n_jobs=-1)]: Done  16 tasks      | elapsed:    0.1s\n",
      "[Parallel(n_jobs=-1)]: Done 1545 tasks      | elapsed:    8.1s\n",
      "[Parallel(n_jobs=-1)]: Done 2750 out of 2750 | elapsed:   14.8s finished\n",
      "[Parallel(n_jobs=-1)]: Using backend LokyBackend with 8 concurrent workers.\n"
     ]
    },
    {
     "name": "stdout",
     "output_type": "stream",
     "text": [
      "alpha: {'learning_rate': 0.3, 'loss': 'ls', 'max_depth': 2, 'n_estimators': 10}\n",
      "22 Chicago Bears: 2015-10-01 00:00:00\n",
      "Fitting 5 folds for each of 550 candidates, totalling 2750 fits\n"
     ]
    },
    {
     "name": "stderr",
     "output_type": "stream",
     "text": [
      "[Parallel(n_jobs=-1)]: Done  16 tasks      | elapsed:    0.2s\n",
      "[Parallel(n_jobs=-1)]: Done 1567 tasks      | elapsed:    8.2s\n",
      "[Parallel(n_jobs=-1)]: Done 2750 out of 2750 | elapsed:   15.0s finished\n",
      "[Parallel(n_jobs=-1)]: Using backend LokyBackend with 8 concurrent workers.\n"
     ]
    },
    {
     "name": "stdout",
     "output_type": "stream",
     "text": [
      "alpha: {'learning_rate': 0.5, 'loss': 'ls', 'max_depth': 4, 'n_estimators': 4}\n",
      "22 Chicago Bears: 2015-11-01 00:00:00\n",
      "Fitting 5 folds for each of 550 candidates, totalling 2750 fits\n"
     ]
    },
    {
     "name": "stderr",
     "output_type": "stream",
     "text": [
      "[Parallel(n_jobs=-1)]: Done  16 tasks      | elapsed:    0.2s\n",
      "[Parallel(n_jobs=-1)]: Done 1624 tasks      | elapsed:    8.5s\n",
      "[Parallel(n_jobs=-1)]: Done 2750 out of 2750 | elapsed:   15.0s finished\n",
      "[Parallel(n_jobs=-1)]: Using backend LokyBackend with 8 concurrent workers.\n"
     ]
    },
    {
     "name": "stdout",
     "output_type": "stream",
     "text": [
      "alpha: {'learning_rate': 0.3, 'loss': 'huber', 'max_depth': 6, 'n_estimators': 8}\n",
      "22 Chicago Bears: 2015-12-01 00:00:00\n",
      "Fitting 5 folds for each of 550 candidates, totalling 2750 fits\n"
     ]
    },
    {
     "name": "stderr",
     "output_type": "stream",
     "text": [
      "[Parallel(n_jobs=-1)]: Done  16 tasks      | elapsed:    0.2s\n",
      "[Parallel(n_jobs=-1)]: Done 1636 tasks      | elapsed:    8.8s\n",
      "[Parallel(n_jobs=-1)]: Done 2750 out of 2750 | elapsed:   15.4s finished\n",
      "[Parallel(n_jobs=-1)]: Using backend LokyBackend with 8 concurrent workers.\n"
     ]
    },
    {
     "name": "stdout",
     "output_type": "stream",
     "text": [
      "alpha: {'learning_rate': 0.3, 'loss': 'ls', 'max_depth': 2, 'n_estimators': 6}\n",
      "22 Chicago Bears: 2016-09-01 00:00:00\n",
      "Fitting 5 folds for each of 550 candidates, totalling 2750 fits\n"
     ]
    },
    {
     "name": "stderr",
     "output_type": "stream",
     "text": [
      "[Parallel(n_jobs=-1)]: Done  16 tasks      | elapsed:    0.2s\n",
      "[Parallel(n_jobs=-1)]: Done 1624 tasks      | elapsed:    8.8s\n",
      "[Parallel(n_jobs=-1)]: Done 2750 out of 2750 | elapsed:   15.6s finished\n",
      "[Parallel(n_jobs=-1)]: Using backend LokyBackend with 8 concurrent workers.\n"
     ]
    },
    {
     "name": "stdout",
     "output_type": "stream",
     "text": [
      "alpha: {'learning_rate': 0.3, 'loss': 'ls', 'max_depth': 2, 'n_estimators': 10}\n",
      "22 Chicago Bears: 2016-10-01 00:00:00\n",
      "Fitting 5 folds for each of 550 candidates, totalling 2750 fits\n"
     ]
    },
    {
     "name": "stderr",
     "output_type": "stream",
     "text": [
      "[Parallel(n_jobs=-1)]: Done  16 tasks      | elapsed:    0.2s\n",
      "[Parallel(n_jobs=-1)]: Done 1816 tasks      | elapsed:    9.7s\n",
      "[Parallel(n_jobs=-1)]: Done 2750 out of 2750 | elapsed:   15.0s finished\n",
      "[Parallel(n_jobs=-1)]: Using backend LokyBackend with 8 concurrent workers.\n"
     ]
    },
    {
     "name": "stdout",
     "output_type": "stream",
     "text": [
      "alpha: {'learning_rate': 0.5, 'loss': 'huber', 'max_depth': 2, 'n_estimators': 6}\n",
      "22 Chicago Bears: 2016-11-01 00:00:00\n",
      "Fitting 5 folds for each of 550 candidates, totalling 2750 fits\n"
     ]
    },
    {
     "name": "stderr",
     "output_type": "stream",
     "text": [
      "[Parallel(n_jobs=-1)]: Done  16 tasks      | elapsed:    0.2s\n",
      "[Parallel(n_jobs=-1)]: Done 1719 tasks      | elapsed:    9.4s\n",
      "[Parallel(n_jobs=-1)]: Done 2750 out of 2750 | elapsed:   15.1s finished\n",
      "[Parallel(n_jobs=-1)]: Using backend LokyBackend with 8 concurrent workers.\n"
     ]
    },
    {
     "name": "stdout",
     "output_type": "stream",
     "text": [
      "alpha: {'learning_rate': 0.4, 'loss': 'huber', 'max_depth': 2, 'n_estimators': 8}\n",
      "22 Chicago Bears: 2016-12-01 00:00:00\n",
      "Fitting 5 folds for each of 550 candidates, totalling 2750 fits\n"
     ]
    },
    {
     "name": "stderr",
     "output_type": "stream",
     "text": [
      "[Parallel(n_jobs=-1)]: Done  16 tasks      | elapsed:    0.2s\n",
      "[Parallel(n_jobs=-1)]: Done 1660 tasks      | elapsed:    8.7s\n",
      "[Parallel(n_jobs=-1)]: Done 2750 out of 2750 | elapsed:   16.0s finished\n",
      "[Parallel(n_jobs=-1)]: Using backend LokyBackend with 8 concurrent workers.\n"
     ]
    },
    {
     "name": "stdout",
     "output_type": "stream",
     "text": [
      "alpha: {'learning_rate': 0.5, 'loss': 'huber', 'max_depth': 2, 'n_estimators': 8}\n",
      "22 Chicago Bears: 2017-09-01 00:00:00\n",
      "Fitting 5 folds for each of 550 candidates, totalling 2750 fits\n"
     ]
    },
    {
     "name": "stderr",
     "output_type": "stream",
     "text": [
      "[Parallel(n_jobs=-1)]: Done  16 tasks      | elapsed:    0.1s\n",
      "[Parallel(n_jobs=-1)]: Done 1684 tasks      | elapsed:    8.3s\n",
      "[Parallel(n_jobs=-1)]: Done 2750 out of 2750 | elapsed:   14.3s finished\n",
      "[Parallel(n_jobs=-1)]: Using backend LokyBackend with 8 concurrent workers.\n"
     ]
    },
    {
     "name": "stdout",
     "output_type": "stream",
     "text": [
      "alpha: {'learning_rate': 0.4, 'loss': 'huber', 'max_depth': 2, 'n_estimators': 6}\n",
      "22 Chicago Bears: 2017-10-01 00:00:00\n",
      "Fitting 5 folds for each of 550 candidates, totalling 2750 fits\n"
     ]
    },
    {
     "name": "stderr",
     "output_type": "stream",
     "text": [
      "[Parallel(n_jobs=-1)]: Done  16 tasks      | elapsed:    0.2s\n",
      "[Parallel(n_jobs=-1)]: Done 1660 tasks      | elapsed:    8.3s\n",
      "[Parallel(n_jobs=-1)]: Done 2750 out of 2750 | elapsed:   14.5s finished\n",
      "[Parallel(n_jobs=-1)]: Using backend LokyBackend with 8 concurrent workers.\n"
     ]
    },
    {
     "name": "stdout",
     "output_type": "stream",
     "text": [
      "alpha: {'learning_rate': 0.2, 'loss': 'huber', 'max_depth': 2, 'n_estimators': 8}\n",
      "22 Chicago Bears: 2017-11-01 00:00:00\n",
      "Fitting 5 folds for each of 550 candidates, totalling 2750 fits\n"
     ]
    },
    {
     "name": "stderr",
     "output_type": "stream",
     "text": [
      "[Parallel(n_jobs=-1)]: Done  16 tasks      | elapsed:    0.2s\n",
      "[Parallel(n_jobs=-1)]: Done 1578 tasks      | elapsed:    8.2s\n",
      "[Parallel(n_jobs=-1)]: Done 2750 out of 2750 | elapsed:   15.0s finished\n",
      "[Parallel(n_jobs=-1)]: Using backend LokyBackend with 8 concurrent workers.\n"
     ]
    },
    {
     "name": "stdout",
     "output_type": "stream",
     "text": [
      "alpha: {'learning_rate': 0.2, 'loss': 'ls', 'max_depth': 2, 'n_estimators': 8}\n",
      "22 Chicago Bears: 2017-12-01 00:00:00\n",
      "Fitting 5 folds for each of 550 candidates, totalling 2750 fits\n"
     ]
    },
    {
     "name": "stderr",
     "output_type": "stream",
     "text": [
      "[Parallel(n_jobs=-1)]: Done  16 tasks      | elapsed:    0.2s\n",
      "[Parallel(n_jobs=-1)]: Done 1578 tasks      | elapsed:    8.8s\n",
      "[Parallel(n_jobs=-1)]: Done 2750 out of 2750 | elapsed:   15.3s finished\n",
      "[Parallel(n_jobs=-1)]: Using backend LokyBackend with 8 concurrent workers.\n"
     ]
    },
    {
     "name": "stdout",
     "output_type": "stream",
     "text": [
      "alpha: {'learning_rate': 0.3, 'loss': 'ls', 'max_depth': 2, 'n_estimators': 8}\n",
      "22 Chicago Bears: 2018-09-01 00:00:00\n",
      "Fitting 5 folds for each of 550 candidates, totalling 2750 fits\n"
     ]
    },
    {
     "name": "stderr",
     "output_type": "stream",
     "text": [
      "[Parallel(n_jobs=-1)]: Done  16 tasks      | elapsed:    0.2s\n",
      "[Parallel(n_jobs=-1)]: Done 1578 tasks      | elapsed:    7.9s\n",
      "[Parallel(n_jobs=-1)]: Done 2750 out of 2750 | elapsed:   14.4s finished\n",
      "[Parallel(n_jobs=-1)]: Using backend LokyBackend with 8 concurrent workers.\n"
     ]
    },
    {
     "name": "stdout",
     "output_type": "stream",
     "text": [
      "alpha: {'learning_rate': 0.4, 'loss': 'ls', 'max_depth': 2, 'n_estimators': 10}\n",
      "22 Chicago Bears: 2018-10-01 00:00:00\n",
      "Fitting 5 folds for each of 550 candidates, totalling 2750 fits\n"
     ]
    },
    {
     "name": "stderr",
     "output_type": "stream",
     "text": [
      "[Parallel(n_jobs=-1)]: Done  16 tasks      | elapsed:    0.1s\n",
      "[Parallel(n_jobs=-1)]: Done 1552 tasks      | elapsed:    8.0s\n",
      "[Parallel(n_jobs=-1)]: Done 2750 out of 2750 | elapsed:   14.6s finished\n",
      "[Parallel(n_jobs=-1)]: Using backend LokyBackend with 8 concurrent workers.\n"
     ]
    },
    {
     "name": "stdout",
     "output_type": "stream",
     "text": [
      "alpha: {'learning_rate': 0.1, 'loss': 'huber', 'max_depth': 2, 'n_estimators': 10}\n",
      "22 Chicago Bears: 2018-11-01 00:00:00\n",
      "Fitting 5 folds for each of 550 candidates, totalling 2750 fits\n"
     ]
    },
    {
     "name": "stderr",
     "output_type": "stream",
     "text": [
      "[Parallel(n_jobs=-1)]: Done  16 tasks      | elapsed:    0.1s\n",
      "[Parallel(n_jobs=-1)]: Done 1552 tasks      | elapsed:    7.7s\n",
      "[Parallel(n_jobs=-1)]: Done 2750 out of 2750 | elapsed:   14.3s finished\n",
      "[Parallel(n_jobs=-1)]: Using backend LokyBackend with 8 concurrent workers.\n"
     ]
    },
    {
     "name": "stdout",
     "output_type": "stream",
     "text": [
      "alpha: {'learning_rate': 0.3, 'loss': 'ls', 'max_depth': 4, 'n_estimators': 4}\n",
      "22 Chicago Bears: 2018-12-01 00:00:00\n",
      "Fitting 5 folds for each of 550 candidates, totalling 2750 fits\n"
     ]
    },
    {
     "name": "stderr",
     "output_type": "stream",
     "text": [
      "[Parallel(n_jobs=-1)]: Done  16 tasks      | elapsed:    0.2s\n",
      "[Parallel(n_jobs=-1)]: Done 1936 tasks      | elapsed:   10.0s\n",
      "[Parallel(n_jobs=-1)]: Done 2750 out of 2750 | elapsed:   14.7s finished\n",
      "[Parallel(n_jobs=-1)]: Using backend LokyBackend with 8 concurrent workers.\n"
     ]
    },
    {
     "name": "stdout",
     "output_type": "stream",
     "text": [
      "alpha: {'learning_rate': 0.4, 'loss': 'huber', 'max_depth': 2, 'n_estimators': 2}\n",
      "22 Chicago Bears: 2019-09-01 00:00:00\n",
      "Fitting 5 folds for each of 550 candidates, totalling 2750 fits\n"
     ]
    },
    {
     "name": "stderr",
     "output_type": "stream",
     "text": [
      "[Parallel(n_jobs=-1)]: Done  16 tasks      | elapsed:    0.2s\n",
      "[Parallel(n_jobs=-1)]: Done 1936 tasks      | elapsed:   10.1s\n",
      "[Parallel(n_jobs=-1)]: Done 2750 out of 2750 | elapsed:   14.2s finished\n",
      "[Parallel(n_jobs=-1)]: Using backend LokyBackend with 8 concurrent workers.\n"
     ]
    },
    {
     "name": "stdout",
     "output_type": "stream",
     "text": [
      "alpha: {'learning_rate': 0.3, 'loss': 'huber', 'max_depth': 2, 'n_estimators': 10}\n",
      "22 Chicago Bears: 2019-10-01 00:00:00\n",
      "Fitting 5 folds for each of 550 candidates, totalling 2750 fits\n"
     ]
    },
    {
     "name": "stderr",
     "output_type": "stream",
     "text": [
      "[Parallel(n_jobs=-1)]: Done  16 tasks      | elapsed:    0.1s\n",
      "[Parallel(n_jobs=-1)]: Done 1168 tasks      | elapsed:    5.9s\n",
      "[Parallel(n_jobs=-1)]: Done 2750 out of 2750 | elapsed:   14.4s finished\n",
      "[Parallel(n_jobs=-1)]: Using backend LokyBackend with 8 concurrent workers.\n"
     ]
    },
    {
     "name": "stdout",
     "output_type": "stream",
     "text": [
      "alpha: {'learning_rate': 0.4, 'loss': 'huber', 'max_depth': 4, 'n_estimators': 4}\n",
      "22 Chicago Bears: 2019-11-01 00:00:00\n",
      "Fitting 5 folds for each of 550 candidates, totalling 2750 fits\n"
     ]
    },
    {
     "name": "stderr",
     "output_type": "stream",
     "text": [
      "[Parallel(n_jobs=-1)]: Done  16 tasks      | elapsed:    0.2s\n",
      "[Parallel(n_jobs=-1)]: Done 1684 tasks      | elapsed:    8.3s\n",
      "[Parallel(n_jobs=-1)]: Done 2750 out of 2750 | elapsed:   14.1s finished\n",
      "[Parallel(n_jobs=-1)]: Using backend LokyBackend with 8 concurrent workers.\n"
     ]
    },
    {
     "name": "stdout",
     "output_type": "stream",
     "text": [
      "alpha: {'learning_rate': 0.4, 'loss': 'huber', 'max_depth': 2, 'n_estimators': 8}\n",
      "22 Chicago Bears: 2019-12-01 00:00:00\n",
      "Fitting 5 folds for each of 550 candidates, totalling 2750 fits\n"
     ]
    },
    {
     "name": "stderr",
     "output_type": "stream",
     "text": [
      "[Parallel(n_jobs=-1)]: Done  16 tasks      | elapsed:    0.1s\n",
      "[Parallel(n_jobs=-1)]: Done 1578 tasks      | elapsed:    7.9s\n",
      "[Parallel(n_jobs=-1)]: Done 2750 out of 2750 | elapsed:   14.7s finished\n",
      "[Parallel(n_jobs=-1)]: Using backend LokyBackend with 8 concurrent workers.\n"
     ]
    },
    {
     "name": "stdout",
     "output_type": "stream",
     "text": [
      "alpha: {'learning_rate': 0.3, 'loss': 'ls', 'max_depth': 2, 'n_estimators': 4}\n",
      "23 Green Bay Packers: 2012-09-01 00:00:00\n",
      "Fitting 5 folds for each of 550 candidates, totalling 2750 fits\n"
     ]
    },
    {
     "name": "stderr",
     "output_type": "stream",
     "text": [
      "[Parallel(n_jobs=-1)]: Done  16 tasks      | elapsed:    0.2s\n",
      "[Parallel(n_jobs=-1)]: Done 1936 tasks      | elapsed:   10.0s\n",
      "[Parallel(n_jobs=-1)]: Done 2750 out of 2750 | elapsed:   14.3s finished\n",
      "[Parallel(n_jobs=-1)]: Using backend LokyBackend with 8 concurrent workers.\n"
     ]
    },
    {
     "name": "stdout",
     "output_type": "stream",
     "text": [
      "alpha: {'learning_rate': 0.5, 'loss': 'huber', 'max_depth': 2, 'n_estimators': 8}\n",
      "23 Green Bay Packers: 2012-10-01 00:00:00\n",
      "Fitting 5 folds for each of 550 candidates, totalling 2750 fits\n"
     ]
    },
    {
     "name": "stderr",
     "output_type": "stream",
     "text": [
      "[Parallel(n_jobs=-1)]: Done  16 tasks      | elapsed:    0.2s\n",
      "[Parallel(n_jobs=-1)]: Done 1578 tasks      | elapsed:    8.1s\n",
      "[Parallel(n_jobs=-1)]: Done 2750 out of 2750 | elapsed:   15.0s finished\n",
      "[Parallel(n_jobs=-1)]: Using backend LokyBackend with 8 concurrent workers.\n"
     ]
    },
    {
     "name": "stdout",
     "output_type": "stream",
     "text": [
      "alpha: {'learning_rate': 0.1, 'loss': 'huber', 'max_depth': 4, 'n_estimators': 10}\n",
      "23 Green Bay Packers: 2012-11-01 00:00:00\n",
      "Fitting 5 folds for each of 550 candidates, totalling 2750 fits\n"
     ]
    },
    {
     "name": "stderr",
     "output_type": "stream",
     "text": [
      "[Parallel(n_jobs=-1)]: Done  16 tasks      | elapsed:    0.1s\n",
      "[Parallel(n_jobs=-1)]: Done 976 tasks      | elapsed:    5.5s\n",
      "[Parallel(n_jobs=-1)]: Done 2576 tasks      | elapsed:   14.3s\n",
      "[Parallel(n_jobs=-1)]: Done 2750 out of 2750 | elapsed:   15.7s finished\n",
      "[Parallel(n_jobs=-1)]: Using backend LokyBackend with 8 concurrent workers.\n"
     ]
    },
    {
     "name": "stdout",
     "output_type": "stream",
     "text": [
      "alpha: {'learning_rate': 0.1, 'loss': 'huber', 'max_depth': 10, 'n_estimators': 4}\n",
      "23 Green Bay Packers: 2012-12-01 00:00:00\n",
      "Fitting 5 folds for each of 550 candidates, totalling 2750 fits\n"
     ]
    },
    {
     "name": "stderr",
     "output_type": "stream",
     "text": [
      "[Parallel(n_jobs=-1)]: Done  16 tasks      | elapsed:    0.2s\n",
      "[Parallel(n_jobs=-1)]: Done 1744 tasks      | elapsed:    9.8s\n",
      "[Parallel(n_jobs=-1)]: Done 2750 out of 2750 | elapsed:   16.1s finished\n",
      "[Parallel(n_jobs=-1)]: Using backend LokyBackend with 8 concurrent workers.\n"
     ]
    },
    {
     "name": "stdout",
     "output_type": "stream",
     "text": [
      "alpha: {'learning_rate': 0.15, 'loss': 'huber', 'max_depth': 10, 'n_estimators': 2}\n",
      "23 Green Bay Packers: 2013-09-01 00:00:00\n",
      "Fitting 5 folds for each of 550 candidates, totalling 2750 fits\n"
     ]
    },
    {
     "name": "stderr",
     "output_type": "stream",
     "text": [
      "[Parallel(n_jobs=-1)]: Done  16 tasks      | elapsed:    0.1s\n",
      "[Parallel(n_jobs=-1)]: Done 1168 tasks      | elapsed:    6.1s\n",
      "[Parallel(n_jobs=-1)]: Done 2750 out of 2750 | elapsed:   15.0s finished\n",
      "[Parallel(n_jobs=-1)]: Using backend LokyBackend with 8 concurrent workers.\n"
     ]
    },
    {
     "name": "stdout",
     "output_type": "stream",
     "text": [
      "alpha: {'learning_rate': 0.05, 'loss': 'huber', 'max_depth': 8, 'n_estimators': 2}\n",
      "23 Green Bay Packers: 2013-10-01 00:00:00\n",
      "Fitting 5 folds for each of 550 candidates, totalling 2750 fits\n"
     ]
    },
    {
     "name": "stderr",
     "output_type": "stream",
     "text": [
      "[Parallel(n_jobs=-1)]: Done  16 tasks      | elapsed:    0.2s\n",
      "[Parallel(n_jobs=-1)]: Done 1612 tasks      | elapsed:    8.4s\n",
      "[Parallel(n_jobs=-1)]: Done 2750 out of 2750 | elapsed:   15.1s finished\n",
      "[Parallel(n_jobs=-1)]: Using backend LokyBackend with 8 concurrent workers.\n"
     ]
    },
    {
     "name": "stdout",
     "output_type": "stream",
     "text": [
      "alpha: {'learning_rate': 0.1, 'loss': 'ls', 'max_depth': 8, 'n_estimators': 2}\n",
      "23 Green Bay Packers: 2013-11-01 00:00:00\n",
      "Fitting 5 folds for each of 550 candidates, totalling 2750 fits\n"
     ]
    },
    {
     "name": "stderr",
     "output_type": "stream",
     "text": [
      "[Parallel(n_jobs=-1)]: Done  16 tasks      | elapsed:    0.2s\n",
      "[Parallel(n_jobs=-1)]: Done 1648 tasks      | elapsed:    8.6s\n",
      "[Parallel(n_jobs=-1)]: Done 2750 out of 2750 | elapsed:   15.1s finished\n",
      "[Parallel(n_jobs=-1)]: Using backend LokyBackend with 8 concurrent workers.\n"
     ]
    },
    {
     "name": "stdout",
     "output_type": "stream",
     "text": [
      "alpha: {'learning_rate': 0.4, 'loss': 'huber', 'max_depth': 2, 'n_estimators': 4}\n",
      "23 Green Bay Packers: 2013-12-01 00:00:00\n",
      "Fitting 5 folds for each of 550 candidates, totalling 2750 fits\n"
     ]
    },
    {
     "name": "stderr",
     "output_type": "stream",
     "text": [
      "[Parallel(n_jobs=-1)]: Done  16 tasks      | elapsed:    0.1s\n",
      "[Parallel(n_jobs=-1)]: Done 1578 tasks      | elapsed:    8.2s\n",
      "[Parallel(n_jobs=-1)]: Done 2750 out of 2750 | elapsed:   14.8s finished\n",
      "[Parallel(n_jobs=-1)]: Using backend LokyBackend with 8 concurrent workers.\n"
     ]
    },
    {
     "name": "stdout",
     "output_type": "stream",
     "text": [
      "alpha: {'learning_rate': 0.4, 'loss': 'ls', 'max_depth': 4, 'n_estimators': 8}\n",
      "23 Green Bay Packers: 2014-09-01 00:00:00\n",
      "Fitting 5 folds for each of 550 candidates, totalling 2750 fits\n"
     ]
    },
    {
     "name": "stderr",
     "output_type": "stream",
     "text": [
      "[Parallel(n_jobs=-1)]: Done  16 tasks      | elapsed:    0.1s\n",
      "[Parallel(n_jobs=-1)]: Done 1744 tasks      | elapsed:    9.2s\n",
      "[Parallel(n_jobs=-1)]: Done 2750 out of 2750 | elapsed:   14.9s finished\n",
      "[Parallel(n_jobs=-1)]: Using backend LokyBackend with 8 concurrent workers.\n"
     ]
    },
    {
     "name": "stdout",
     "output_type": "stream",
     "text": [
      "alpha: {'learning_rate': 0.4, 'loss': 'ls', 'max_depth': 2, 'n_estimators': 10}\n",
      "23 Green Bay Packers: 2014-10-01 00:00:00\n",
      "Fitting 5 folds for each of 550 candidates, totalling 2750 fits\n"
     ]
    },
    {
     "name": "stderr",
     "output_type": "stream",
     "text": [
      "[Parallel(n_jobs=-1)]: Done  16 tasks      | elapsed:    0.2s\n",
      "[Parallel(n_jobs=-1)]: Done 1545 tasks      | elapsed:    8.2s\n",
      "[Parallel(n_jobs=-1)]: Done 2750 out of 2750 | elapsed:   15.6s finished\n",
      "[Parallel(n_jobs=-1)]: Using backend LokyBackend with 8 concurrent workers.\n"
     ]
    },
    {
     "name": "stdout",
     "output_type": "stream",
     "text": [
      "alpha: {'learning_rate': 0.3, 'loss': 'huber', 'max_depth': 2, 'n_estimators': 10}\n",
      "23 Green Bay Packers: 2014-11-01 00:00:00\n",
      "Fitting 5 folds for each of 550 candidates, totalling 2750 fits\n"
     ]
    },
    {
     "name": "stderr",
     "output_type": "stream",
     "text": [
      "[Parallel(n_jobs=-1)]: Done  16 tasks      | elapsed:    0.1s\n",
      "[Parallel(n_jobs=-1)]: Done 1567 tasks      | elapsed:    8.3s\n",
      "[Parallel(n_jobs=-1)]: Done 2750 out of 2750 | elapsed:   15.0s finished\n",
      "[Parallel(n_jobs=-1)]: Using backend LokyBackend with 8 concurrent workers.\n"
     ]
    },
    {
     "name": "stdout",
     "output_type": "stream",
     "text": [
      "alpha: {'learning_rate': 0.2, 'loss': 'ls', 'max_depth': 2, 'n_estimators': 6}\n",
      "23 Green Bay Packers: 2014-12-01 00:00:00\n",
      "Fitting 5 folds for each of 550 candidates, totalling 2750 fits\n"
     ]
    },
    {
     "name": "stderr",
     "output_type": "stream",
     "text": [
      "[Parallel(n_jobs=-1)]: Done  16 tasks      | elapsed:    0.2s\n",
      "[Parallel(n_jobs=-1)]: Done 1624 tasks      | elapsed:    9.2s\n",
      "[Parallel(n_jobs=-1)]: Done 2750 out of 2750 | elapsed:   16.6s finished\n",
      "[Parallel(n_jobs=-1)]: Using backend LokyBackend with 8 concurrent workers.\n"
     ]
    },
    {
     "name": "stdout",
     "output_type": "stream",
     "text": [
      "alpha: {'learning_rate': 0.15, 'loss': 'ls', 'max_depth': 2, 'n_estimators': 10}\n",
      "23 Green Bay Packers: 2015-09-01 00:00:00\n",
      "Fitting 5 folds for each of 550 candidates, totalling 2750 fits\n"
     ]
    },
    {
     "name": "stderr",
     "output_type": "stream",
     "text": [
      "[Parallel(n_jobs=-1)]: Done  16 tasks      | elapsed:    0.2s\n",
      "[Parallel(n_jobs=-1)]: Done 1567 tasks      | elapsed:    8.0s\n",
      "[Parallel(n_jobs=-1)]: Done 2750 out of 2750 | elapsed:   14.7s finished\n",
      "[Parallel(n_jobs=-1)]: Using backend LokyBackend with 8 concurrent workers.\n"
     ]
    },
    {
     "name": "stdout",
     "output_type": "stream",
     "text": [
      "alpha: {'learning_rate': 0.2, 'loss': 'ls', 'max_depth': 2, 'n_estimators': 4}\n",
      "23 Green Bay Packers: 2015-10-01 00:00:00\n",
      "Fitting 5 folds for each of 550 candidates, totalling 2750 fits\n"
     ]
    },
    {
     "name": "stderr",
     "output_type": "stream",
     "text": [
      "[Parallel(n_jobs=-1)]: Done  16 tasks      | elapsed:    0.2s\n",
      "[Parallel(n_jobs=-1)]: Done 1567 tasks      | elapsed:    8.4s\n",
      "[Parallel(n_jobs=-1)]: Done 2750 out of 2750 | elapsed:   14.9s finished\n",
      "[Parallel(n_jobs=-1)]: Using backend LokyBackend with 8 concurrent workers.\n"
     ]
    },
    {
     "name": "stdout",
     "output_type": "stream",
     "text": [
      "alpha: {'learning_rate': 0.4, 'loss': 'ls', 'max_depth': 2, 'n_estimators': 4}\n",
      "23 Green Bay Packers: 2015-11-01 00:00:00\n",
      "Fitting 5 folds for each of 550 candidates, totalling 2750 fits\n"
     ]
    },
    {
     "name": "stderr",
     "output_type": "stream",
     "text": [
      "[Parallel(n_jobs=-1)]: Done  16 tasks      | elapsed:    0.2s\n",
      "[Parallel(n_jobs=-1)]: Done 1744 tasks      | elapsed:    9.2s\n",
      "[Parallel(n_jobs=-1)]: Done 2750 out of 2750 | elapsed:   14.9s finished\n",
      "[Parallel(n_jobs=-1)]: Using backend LokyBackend with 8 concurrent workers.\n"
     ]
    },
    {
     "name": "stdout",
     "output_type": "stream",
     "text": [
      "alpha: {'learning_rate': 0.3, 'loss': 'huber', 'max_depth': 4, 'n_estimators': 4}\n",
      "23 Green Bay Packers: 2015-12-01 00:00:00\n",
      "Fitting 5 folds for each of 550 candidates, totalling 2750 fits\n"
     ]
    },
    {
     "name": "stderr",
     "output_type": "stream",
     "text": [
      "[Parallel(n_jobs=-1)]: Done  16 tasks      | elapsed:    0.2s\n",
      "[Parallel(n_jobs=-1)]: Done 1567 tasks      | elapsed:    8.4s\n",
      "[Parallel(n_jobs=-1)]: Done 2750 out of 2750 | elapsed:   15.3s finished\n",
      "[Parallel(n_jobs=-1)]: Using backend LokyBackend with 8 concurrent workers.\n"
     ]
    },
    {
     "name": "stdout",
     "output_type": "stream",
     "text": [
      "alpha: {'learning_rate': 0.5, 'loss': 'ls', 'max_depth': 2, 'n_estimators': 4}\n",
      "23 Green Bay Packers: 2016-09-01 00:00:00\n",
      "Fitting 5 folds for each of 550 candidates, totalling 2750 fits\n"
     ]
    },
    {
     "name": "stderr",
     "output_type": "stream",
     "text": [
      "[Parallel(n_jobs=-1)]: Done  16 tasks      | elapsed:    0.2s\n",
      "[Parallel(n_jobs=-1)]: Done 1612 tasks      | elapsed:    8.3s\n",
      "[Parallel(n_jobs=-1)]: Done 2750 out of 2750 | elapsed:   14.9s finished\n",
      "[Parallel(n_jobs=-1)]: Using backend LokyBackend with 8 concurrent workers.\n"
     ]
    },
    {
     "name": "stdout",
     "output_type": "stream",
     "text": [
      "alpha: {'learning_rate': 0.4, 'loss': 'ls', 'max_depth': 2, 'n_estimators': 4}\n",
      "23 Green Bay Packers: 2016-10-01 00:00:00\n",
      "Fitting 5 folds for each of 550 candidates, totalling 2750 fits\n"
     ]
    },
    {
     "name": "stderr",
     "output_type": "stream",
     "text": [
      "[Parallel(n_jobs=-1)]: Done  16 tasks      | elapsed:    0.2s\n",
      "[Parallel(n_jobs=-1)]: Done 1672 tasks      | elapsed:    8.8s\n",
      "[Parallel(n_jobs=-1)]: Done 2750 out of 2750 | elapsed:   15.0s finished\n",
      "[Parallel(n_jobs=-1)]: Using backend LokyBackend with 8 concurrent workers.\n"
     ]
    },
    {
     "name": "stdout",
     "output_type": "stream",
     "text": [
      "alpha: {'learning_rate': 0.6, 'loss': 'huber', 'max_depth': 2, 'n_estimators': 2}\n",
      "23 Green Bay Packers: 2016-11-01 00:00:00\n",
      "Fitting 5 folds for each of 550 candidates, totalling 2750 fits\n"
     ]
    },
    {
     "name": "stderr",
     "output_type": "stream",
     "text": [
      "[Parallel(n_jobs=-1)]: Done  16 tasks      | elapsed:    0.2s\n",
      "[Parallel(n_jobs=-1)]: Done 1684 tasks      | elapsed:    8.9s\n",
      "[Parallel(n_jobs=-1)]: Done 2750 out of 2750 | elapsed:   15.0s finished\n",
      "[Parallel(n_jobs=-1)]: Using backend LokyBackend with 8 concurrent workers.\n"
     ]
    },
    {
     "name": "stdout",
     "output_type": "stream",
     "text": [
      "alpha: {'learning_rate': 0.3, 'loss': 'ls', 'max_depth': 2, 'n_estimators': 4}\n",
      "23 Green Bay Packers: 2016-12-01 00:00:00\n",
      "Fitting 5 folds for each of 550 candidates, totalling 2750 fits\n"
     ]
    },
    {
     "name": "stderr",
     "output_type": "stream",
     "text": [
      "[Parallel(n_jobs=-1)]: Done  16 tasks      | elapsed:    0.2s\n",
      "[Parallel(n_jobs=-1)]: Done 1745 tasks      | elapsed:   10.0s\n",
      "[Parallel(n_jobs=-1)]: Done 2750 out of 2750 | elapsed:   15.6s finished\n",
      "[Parallel(n_jobs=-1)]: Using backend LokyBackend with 8 concurrent workers.\n"
     ]
    },
    {
     "name": "stdout",
     "output_type": "stream",
     "text": [
      "alpha: {'learning_rate': 0.3, 'loss': 'huber', 'max_depth': 2, 'n_estimators': 8}\n",
      "23 Green Bay Packers: 2017-09-01 00:00:00\n",
      "Fitting 5 folds for each of 550 candidates, totalling 2750 fits\n"
     ]
    },
    {
     "name": "stderr",
     "output_type": "stream",
     "text": [
      "[Parallel(n_jobs=-1)]: Done  16 tasks      | elapsed:    0.1s\n",
      "[Parallel(n_jobs=-1)]: Done 1660 tasks      | elapsed:    8.3s\n",
      "[Parallel(n_jobs=-1)]: Done 2750 out of 2750 | elapsed:   14.4s finished\n",
      "[Parallel(n_jobs=-1)]: Using backend LokyBackend with 8 concurrent workers.\n"
     ]
    },
    {
     "name": "stdout",
     "output_type": "stream",
     "text": [
      "alpha: {'learning_rate': 0.3, 'loss': 'ls', 'max_depth': 2, 'n_estimators': 8}\n",
      "23 Green Bay Packers: 2017-10-01 00:00:00\n",
      "Fitting 5 folds for each of 550 candidates, totalling 2750 fits\n"
     ]
    },
    {
     "name": "stderr",
     "output_type": "stream",
     "text": [
      "[Parallel(n_jobs=-1)]: Done  16 tasks      | elapsed:    0.1s\n",
      "[Parallel(n_jobs=-1)]: Done 1684 tasks      | elapsed:    8.6s\n",
      "[Parallel(n_jobs=-1)]: Done 2750 out of 2750 | elapsed:   14.6s finished\n",
      "[Parallel(n_jobs=-1)]: Using backend LokyBackend with 8 concurrent workers.\n"
     ]
    },
    {
     "name": "stdout",
     "output_type": "stream",
     "text": [
      "alpha: {'learning_rate': 0.4, 'loss': 'huber', 'max_depth': 2, 'n_estimators': 10}\n",
      "23 Green Bay Packers: 2017-11-01 00:00:00\n",
      "Fitting 5 folds for each of 550 candidates, totalling 2750 fits\n"
     ]
    },
    {
     "name": "stderr",
     "output_type": "stream",
     "text": [
      "[Parallel(n_jobs=-1)]: Done  16 tasks      | elapsed:    0.2s\n",
      "[Parallel(n_jobs=-1)]: Done 1660 tasks      | elapsed:    8.3s\n",
      "[Parallel(n_jobs=-1)]: Done 2750 out of 2750 | elapsed:   14.5s finished\n",
      "[Parallel(n_jobs=-1)]: Using backend LokyBackend with 8 concurrent workers.\n"
     ]
    },
    {
     "name": "stdout",
     "output_type": "stream",
     "text": [
      "alpha: {'learning_rate': 0.4, 'loss': 'huber', 'max_depth': 2, 'n_estimators': 6}\n",
      "23 Green Bay Packers: 2017-12-01 00:00:00\n",
      "Fitting 5 folds for each of 550 candidates, totalling 2750 fits\n"
     ]
    },
    {
     "name": "stderr",
     "output_type": "stream",
     "text": [
      "[Parallel(n_jobs=-1)]: Done  16 tasks      | elapsed:    0.2s\n",
      "[Parallel(n_jobs=-1)]: Done 1745 tasks      | elapsed:    9.3s\n",
      "[Parallel(n_jobs=-1)]: Done 2750 out of 2750 | elapsed:   15.0s finished\n",
      "[Parallel(n_jobs=-1)]: Using backend LokyBackend with 8 concurrent workers.\n"
     ]
    },
    {
     "name": "stdout",
     "output_type": "stream",
     "text": [
      "alpha: {'learning_rate': 0.4, 'loss': 'huber', 'max_depth': 2, 'n_estimators': 6}\n",
      "23 Green Bay Packers: 2018-09-01 00:00:00\n",
      "Fitting 5 folds for each of 550 candidates, totalling 2750 fits\n"
     ]
    },
    {
     "name": "stderr",
     "output_type": "stream",
     "text": [
      "[Parallel(n_jobs=-1)]: Done  16 tasks      | elapsed:    0.1s\n",
      "[Parallel(n_jobs=-1)]: Done 1648 tasks      | elapsed:    8.4s\n",
      "[Parallel(n_jobs=-1)]: Done 2750 out of 2750 | elapsed:   14.8s finished\n",
      "[Parallel(n_jobs=-1)]: Using backend LokyBackend with 8 concurrent workers.\n"
     ]
    },
    {
     "name": "stdout",
     "output_type": "stream",
     "text": [
      "alpha: {'learning_rate': 0.5, 'loss': 'huber', 'max_depth': 2, 'n_estimators': 2}\n",
      "23 Green Bay Packers: 2018-10-01 00:00:00\n",
      "Fitting 5 folds for each of 550 candidates, totalling 2750 fits\n"
     ]
    },
    {
     "name": "stderr",
     "output_type": "stream",
     "text": [
      "[Parallel(n_jobs=-1)]: Done  16 tasks      | elapsed:    0.2s\n",
      "[Parallel(n_jobs=-1)]: Done 1745 tasks      | elapsed:    9.3s\n",
      "[Parallel(n_jobs=-1)]: Done 2750 out of 2750 | elapsed:   14.9s finished\n",
      "[Parallel(n_jobs=-1)]: Using backend LokyBackend with 8 concurrent workers.\n"
     ]
    },
    {
     "name": "stdout",
     "output_type": "stream",
     "text": [
      "alpha: {'learning_rate': 0.15, 'loss': 'ls', 'max_depth': 2, 'n_estimators': 8}\n",
      "23 Green Bay Packers: 2018-11-01 00:00:00\n",
      "Fitting 5 folds for each of 550 candidates, totalling 2750 fits\n"
     ]
    },
    {
     "name": "stderr",
     "output_type": "stream",
     "text": [
      "[Parallel(n_jobs=-1)]: Done  16 tasks      | elapsed:    0.2s\n",
      "[Parallel(n_jobs=-1)]: Done 1745 tasks      | elapsed:    9.4s\n",
      "[Parallel(n_jobs=-1)]: Done 2750 out of 2750 | elapsed:   14.8s finished\n",
      "[Parallel(n_jobs=-1)]: Using backend LokyBackend with 8 concurrent workers.\n"
     ]
    },
    {
     "name": "stdout",
     "output_type": "stream",
     "text": [
      "alpha: {'learning_rate': 0.2, 'loss': 'huber', 'max_depth': 2, 'n_estimators': 10}\n",
      "23 Green Bay Packers: 2018-12-01 00:00:00\n",
      "Fitting 5 folds for each of 550 candidates, totalling 2750 fits\n"
     ]
    },
    {
     "name": "stderr",
     "output_type": "stream",
     "text": [
      "[Parallel(n_jobs=-1)]: Done  16 tasks      | elapsed:    0.1s\n",
      "[Parallel(n_jobs=-1)]: Done 1545 tasks      | elapsed:    8.7s\n",
      "[Parallel(n_jobs=-1)]: Done 2750 out of 2750 | elapsed:   15.6s finished\n",
      "[Parallel(n_jobs=-1)]: Using backend LokyBackend with 8 concurrent workers.\n"
     ]
    },
    {
     "name": "stdout",
     "output_type": "stream",
     "text": [
      "alpha: {'learning_rate': 0.5, 'loss': 'ls', 'max_depth': 4, 'n_estimators': 6}\n",
      "23 Green Bay Packers: 2019-09-01 00:00:00\n",
      "Fitting 5 folds for each of 550 candidates, totalling 2750 fits\n"
     ]
    },
    {
     "name": "stderr",
     "output_type": "stream",
     "text": [
      "[Parallel(n_jobs=-1)]: Done  16 tasks      | elapsed:    0.1s\n",
      "[Parallel(n_jobs=-1)]: Done 1660 tasks      | elapsed:    8.2s\n",
      "[Parallel(n_jobs=-1)]: Done 2750 out of 2750 | elapsed:   14.3s finished\n",
      "[Parallel(n_jobs=-1)]: Using backend LokyBackend with 8 concurrent workers.\n"
     ]
    },
    {
     "name": "stdout",
     "output_type": "stream",
     "text": [
      "alpha: {'learning_rate': 0.5, 'loss': 'huber', 'max_depth': 4, 'n_estimators': 2}\n",
      "23 Green Bay Packers: 2019-10-01 00:00:00\n",
      "Fitting 5 folds for each of 550 candidates, totalling 2750 fits\n"
     ]
    },
    {
     "name": "stderr",
     "output_type": "stream",
     "text": [
      "[Parallel(n_jobs=-1)]: Done  16 tasks      | elapsed:    0.2s\n",
      "[Parallel(n_jobs=-1)]: Done 1672 tasks      | elapsed:    8.3s\n",
      "[Parallel(n_jobs=-1)]: Done 2750 out of 2750 | elapsed:   14.0s finished\n",
      "[Parallel(n_jobs=-1)]: Using backend LokyBackend with 8 concurrent workers.\n"
     ]
    },
    {
     "name": "stdout",
     "output_type": "stream",
     "text": [
      "alpha: {'learning_rate': 0.5, 'loss': 'ls', 'max_depth': 2, 'n_estimators': 8}\n",
      "23 Green Bay Packers: 2019-11-01 00:00:00\n",
      "Fitting 5 folds for each of 550 candidates, totalling 2750 fits\n"
     ]
    },
    {
     "name": "stderr",
     "output_type": "stream",
     "text": [
      "[Parallel(n_jobs=-1)]: Done  16 tasks      | elapsed:    0.2s\n",
      "[Parallel(n_jobs=-1)]: Done 1578 tasks      | elapsed:    7.7s\n",
      "[Parallel(n_jobs=-1)]: Done 2750 out of 2750 | elapsed:   14.0s finished\n",
      "[Parallel(n_jobs=-1)]: Using backend LokyBackend with 8 concurrent workers.\n"
     ]
    },
    {
     "name": "stdout",
     "output_type": "stream",
     "text": [
      "alpha: {'learning_rate': 0.6, 'loss': 'huber', 'max_depth': 2, 'n_estimators': 6}\n",
      "23 Green Bay Packers: 2019-12-01 00:00:00\n",
      "Fitting 5 folds for each of 550 candidates, totalling 2750 fits\n"
     ]
    },
    {
     "name": "stderr",
     "output_type": "stream",
     "text": [
      "[Parallel(n_jobs=-1)]: Done  16 tasks      | elapsed:    0.1s\n",
      "[Parallel(n_jobs=-1)]: Done 1576 tasks      | elapsed:    9.0s\n",
      "[Parallel(n_jobs=-1)]: Done 2750 out of 2750 | elapsed:   17.1s finished\n",
      "[Parallel(n_jobs=-1)]: Using backend LokyBackend with 8 concurrent workers.\n"
     ]
    },
    {
     "name": "stdout",
     "output_type": "stream",
     "text": [
      "alpha: {'learning_rate': 0.5, 'loss': 'huber', 'max_depth': 2, 'n_estimators': 6}\n",
      "24 Dallas Cowboys: 2012-09-01 00:00:00\n",
      "Fitting 5 folds for each of 550 candidates, totalling 2750 fits\n"
     ]
    },
    {
     "name": "stderr",
     "output_type": "stream",
     "text": [
      "[Parallel(n_jobs=-1)]: Done  16 tasks      | elapsed:    0.2s\n",
      "[Parallel(n_jobs=-1)]: Done 1816 tasks      | elapsed:    9.8s\n",
      "[Parallel(n_jobs=-1)]: Done 2750 out of 2750 | elapsed:   15.0s finished\n",
      "[Parallel(n_jobs=-1)]: Using backend LokyBackend with 8 concurrent workers.\n"
     ]
    },
    {
     "name": "stdout",
     "output_type": "stream",
     "text": [
      "alpha: {'learning_rate': 0.5, 'loss': 'huber', 'max_depth': 2, 'n_estimators': 8}\n",
      "24 Dallas Cowboys: 2012-10-01 00:00:00\n",
      "Fitting 5 folds for each of 550 candidates, totalling 2750 fits\n"
     ]
    },
    {
     "name": "stderr",
     "output_type": "stream",
     "text": [
      "[Parallel(n_jobs=-1)]: Done  16 tasks      | elapsed:    0.2s\n",
      "[Parallel(n_jobs=-1)]: Done 1456 tasks      | elapsed:    8.1s\n",
      "[Parallel(n_jobs=-1)]: Done 2750 out of 2750 | elapsed:   15.4s finished\n",
      "[Parallel(n_jobs=-1)]: Using backend LokyBackend with 8 concurrent workers.\n"
     ]
    },
    {
     "name": "stdout",
     "output_type": "stream",
     "text": [
      "alpha: {'learning_rate': 0.4, 'loss': 'ls', 'max_depth': 2, 'n_estimators': 10}\n",
      "24 Dallas Cowboys: 2012-11-01 00:00:00\n",
      "Fitting 5 folds for each of 550 candidates, totalling 2750 fits\n"
     ]
    },
    {
     "name": "stderr",
     "output_type": "stream",
     "text": [
      "[Parallel(n_jobs=-1)]: Done  16 tasks      | elapsed:    0.2s\n",
      "[Parallel(n_jobs=-1)]: Done 1545 tasks      | elapsed:    8.0s\n",
      "[Parallel(n_jobs=-1)]: Done 2750 out of 2750 | elapsed:   14.5s finished\n",
      "[Parallel(n_jobs=-1)]: Using backend LokyBackend with 8 concurrent workers.\n"
     ]
    },
    {
     "name": "stdout",
     "output_type": "stream",
     "text": [
      "alpha: {'learning_rate': 0.2, 'loss': 'huber', 'max_depth': 2, 'n_estimators': 6}\n",
      "24 Dallas Cowboys: 2012-12-01 00:00:00\n",
      "Fitting 5 folds for each of 550 candidates, totalling 2750 fits\n"
     ]
    },
    {
     "name": "stderr",
     "output_type": "stream",
     "text": [
      "[Parallel(n_jobs=-1)]: Done  16 tasks      | elapsed:    0.1s\n",
      "[Parallel(n_jobs=-1)]: Done 1708 tasks      | elapsed:    9.4s\n",
      "[Parallel(n_jobs=-1)]: Done 2750 out of 2750 | elapsed:   15.1s finished\n",
      "[Parallel(n_jobs=-1)]: Using backend LokyBackend with 8 concurrent workers.\n"
     ]
    },
    {
     "name": "stdout",
     "output_type": "stream",
     "text": [
      "alpha: {'learning_rate': 0.6, 'loss': 'huber', 'max_depth': 2, 'n_estimators': 6}\n",
      "24 Dallas Cowboys: 2013-09-01 00:00:00\n",
      "Fitting 5 folds for each of 550 candidates, totalling 2750 fits\n"
     ]
    },
    {
     "name": "stderr",
     "output_type": "stream",
     "text": [
      "[Parallel(n_jobs=-1)]: Done  16 tasks      | elapsed:    0.2s\n",
      "[Parallel(n_jobs=-1)]: Done 1684 tasks      | elapsed:    8.4s\n",
      "[Parallel(n_jobs=-1)]: Done 2750 out of 2750 | elapsed:   14.3s finished\n",
      "[Parallel(n_jobs=-1)]: Using backend LokyBackend with 8 concurrent workers.\n"
     ]
    },
    {
     "name": "stdout",
     "output_type": "stream",
     "text": [
      "alpha: {'learning_rate': 0.3, 'loss': 'huber', 'max_depth': 2, 'n_estimators': 4}\n",
      "24 Dallas Cowboys: 2013-10-01 00:00:00\n",
      "Fitting 5 folds for each of 550 candidates, totalling 2750 fits\n"
     ]
    },
    {
     "name": "stderr",
     "output_type": "stream",
     "text": [
      "[Parallel(n_jobs=-1)]: Done  16 tasks      | elapsed:    0.1s\n",
      "[Parallel(n_jobs=-1)]: Done 1809 tasks      | elapsed:    9.1s\n",
      "[Parallel(n_jobs=-1)]: Done 2750 out of 2750 | elapsed:   14.2s finished\n",
      "[Parallel(n_jobs=-1)]: Using backend LokyBackend with 8 concurrent workers.\n"
     ]
    },
    {
     "name": "stdout",
     "output_type": "stream",
     "text": [
      "alpha: {'learning_rate': 0.5, 'loss': 'ls', 'max_depth': 2, 'n_estimators': 4}\n",
      "24 Dallas Cowboys: 2013-11-01 00:00:00\n",
      "Fitting 5 folds for each of 550 candidates, totalling 2750 fits\n"
     ]
    },
    {
     "name": "stderr",
     "output_type": "stream",
     "text": [
      "[Parallel(n_jobs=-1)]: Done  16 tasks      | elapsed:    0.2s\n",
      "[Parallel(n_jobs=-1)]: Done 1672 tasks      | elapsed:    8.4s\n",
      "[Parallel(n_jobs=-1)]: Done 2750 out of 2750 | elapsed:   14.4s finished\n",
      "[Parallel(n_jobs=-1)]: Using backend LokyBackend with 8 concurrent workers.\n"
     ]
    },
    {
     "name": "stdout",
     "output_type": "stream",
     "text": [
      "alpha: {'learning_rate': 0.5, 'loss': 'huber', 'max_depth': 2, 'n_estimators': 4}\n",
      "24 Dallas Cowboys: 2013-12-01 00:00:00\n",
      "Fitting 5 folds for each of 550 candidates, totalling 2750 fits\n"
     ]
    },
    {
     "name": "stderr",
     "output_type": "stream",
     "text": [
      "[Parallel(n_jobs=-1)]: Done  16 tasks      | elapsed:    0.1s\n",
      "[Parallel(n_jobs=-1)]: Done 1744 tasks      | elapsed:    9.0s\n",
      "[Parallel(n_jobs=-1)]: Done 2750 out of 2750 | elapsed:   14.4s finished\n",
      "[Parallel(n_jobs=-1)]: Using backend LokyBackend with 8 concurrent workers.\n"
     ]
    },
    {
     "name": "stdout",
     "output_type": "stream",
     "text": [
      "alpha: {'learning_rate': 0.1, 'loss': 'huber', 'max_depth': 2, 'n_estimators': 6}\n",
      "24 Dallas Cowboys: 2014-09-01 00:00:00\n",
      "Fitting 5 folds for each of 550 candidates, totalling 2750 fits\n"
     ]
    },
    {
     "name": "stderr",
     "output_type": "stream",
     "text": [
      "[Parallel(n_jobs=-1)]: Done  16 tasks      | elapsed:    0.2s\n",
      "[Parallel(n_jobs=-1)]: Done 1578 tasks      | elapsed:    7.9s\n",
      "[Parallel(n_jobs=-1)]: Done 2750 out of 2750 | elapsed:   14.6s finished\n",
      "[Parallel(n_jobs=-1)]: Using backend LokyBackend with 8 concurrent workers.\n"
     ]
    },
    {
     "name": "stdout",
     "output_type": "stream",
     "text": [
      "alpha: {'learning_rate': 0.15, 'loss': 'ls', 'max_depth': 2, 'n_estimators': 4}\n",
      "24 Dallas Cowboys: 2014-10-01 00:00:00\n",
      "Fitting 5 folds for each of 550 candidates, totalling 2750 fits\n"
     ]
    },
    {
     "name": "stderr",
     "output_type": "stream",
     "text": [
      "[Parallel(n_jobs=-1)]: Done  16 tasks      | elapsed:    0.1s\n",
      "[Parallel(n_jobs=-1)]: Done 1576 tasks      | elapsed:    8.2s\n",
      "[Parallel(n_jobs=-1)]: Done 2750 out of 2750 | elapsed:   14.7s finished\n",
      "[Parallel(n_jobs=-1)]: Using backend LokyBackend with 8 concurrent workers.\n"
     ]
    },
    {
     "name": "stdout",
     "output_type": "stream",
     "text": [
      "alpha: {'learning_rate': 0.1, 'loss': 'huber', 'max_depth': 4, 'n_estimators': 2}\n",
      "24 Dallas Cowboys: 2014-11-01 00:00:00\n",
      "Fitting 5 folds for each of 550 candidates, totalling 2750 fits\n"
     ]
    },
    {
     "name": "stderr",
     "output_type": "stream",
     "text": [
      "[Parallel(n_jobs=-1)]: Done  16 tasks      | elapsed:    0.2s\n",
      "[Parallel(n_jobs=-1)]: Done 2128 tasks      | elapsed:   10.5s\n",
      "[Parallel(n_jobs=-1)]: Done 2750 out of 2750 | elapsed:   13.7s finished\n",
      "[Parallel(n_jobs=-1)]: Using backend LokyBackend with 8 concurrent workers.\n"
     ]
    },
    {
     "name": "stdout",
     "output_type": "stream",
     "text": [
      "alpha: {'learning_rate': 0.4, 'loss': 'huber', 'max_depth': 2, 'n_estimators': 4}\n",
      "24 Dallas Cowboys: 2014-12-01 00:00:00\n",
      "Fitting 5 folds for each of 550 candidates, totalling 2750 fits\n"
     ]
    },
    {
     "name": "stderr",
     "output_type": "stream",
     "text": [
      "[Parallel(n_jobs=-1)]: Done  16 tasks      | elapsed:    0.2s\n",
      "[Parallel(n_jobs=-1)]: Done 1648 tasks      | elapsed:    8.4s\n",
      "[Parallel(n_jobs=-1)]: Done 2750 out of 2750 | elapsed:   15.0s finished\n",
      "[Parallel(n_jobs=-1)]: Using backend LokyBackend with 8 concurrent workers.\n"
     ]
    },
    {
     "name": "stdout",
     "output_type": "stream",
     "text": [
      "alpha: {'learning_rate': 0.1, 'loss': 'ls', 'max_depth': 2, 'n_estimators': 6}\n",
      "24 Dallas Cowboys: 2015-09-01 00:00:00\n",
      "Fitting 5 folds for each of 550 candidates, totalling 2750 fits\n"
     ]
    },
    {
     "name": "stderr",
     "output_type": "stream",
     "text": [
      "[Parallel(n_jobs=-1)]: Done  16 tasks      | elapsed:    0.2s\n",
      "[Parallel(n_jobs=-1)]: Done 1936 tasks      | elapsed:   10.1s\n",
      "[Parallel(n_jobs=-1)]: Done 2750 out of 2750 | elapsed:   14.5s finished\n",
      "[Parallel(n_jobs=-1)]: Using backend LokyBackend with 8 concurrent workers.\n"
     ]
    },
    {
     "name": "stdout",
     "output_type": "stream",
     "text": [
      "alpha: {'learning_rate': 0.5, 'loss': 'huber', 'max_depth': 4, 'n_estimators': 6}\n",
      "24 Dallas Cowboys: 2015-10-01 00:00:00\n",
      "Fitting 5 folds for each of 550 candidates, totalling 2750 fits\n"
     ]
    },
    {
     "name": "stderr",
     "output_type": "stream",
     "text": [
      "[Parallel(n_jobs=-1)]: Done  16 tasks      | elapsed:    0.1s\n",
      "[Parallel(n_jobs=-1)]: Done 1168 tasks      | elapsed:    5.9s\n",
      "[Parallel(n_jobs=-1)]: Done 2750 out of 2750 | elapsed:   14.7s finished\n",
      "[Parallel(n_jobs=-1)]: Using backend LokyBackend with 8 concurrent workers.\n"
     ]
    },
    {
     "name": "stdout",
     "output_type": "stream",
     "text": [
      "alpha: {'learning_rate': 0.15, 'loss': 'ls', 'max_depth': 2, 'n_estimators': 10}\n",
      "24 Dallas Cowboys: 2015-11-01 00:00:00\n",
      "Fitting 5 folds for each of 550 candidates, totalling 2750 fits\n"
     ]
    },
    {
     "name": "stderr",
     "output_type": "stream",
     "text": [
      "[Parallel(n_jobs=-1)]: Done  16 tasks      | elapsed:    0.2s\n",
      "[Parallel(n_jobs=-1)]: Done 1578 tasks      | elapsed:    7.8s\n",
      "[Parallel(n_jobs=-1)]: Done 2750 out of 2750 | elapsed:   14.3s finished\n",
      "[Parallel(n_jobs=-1)]: Using backend LokyBackend with 8 concurrent workers.\n"
     ]
    },
    {
     "name": "stdout",
     "output_type": "stream",
     "text": [
      "alpha: {'learning_rate': 0.3, 'loss': 'ls', 'max_depth': 2, 'n_estimators': 6}\n",
      "24 Dallas Cowboys: 2015-12-01 00:00:00\n",
      "Fitting 5 folds for each of 550 candidates, totalling 2750 fits\n"
     ]
    },
    {
     "name": "stderr",
     "output_type": "stream",
     "text": [
      "[Parallel(n_jobs=-1)]: Done  16 tasks      | elapsed:    0.1s\n",
      "[Parallel(n_jobs=-1)]: Done 1660 tasks      | elapsed:    8.6s\n",
      "[Parallel(n_jobs=-1)]: Done 2750 out of 2750 | elapsed:   15.4s finished\n",
      "[Parallel(n_jobs=-1)]: Using backend LokyBackend with 8 concurrent workers.\n"
     ]
    },
    {
     "name": "stdout",
     "output_type": "stream",
     "text": [
      "alpha: {'learning_rate': 0.3, 'loss': 'huber', 'max_depth': 4, 'n_estimators': 4}\n",
      "24 Dallas Cowboys: 2016-09-01 00:00:00\n",
      "Fitting 5 folds for each of 550 candidates, totalling 2750 fits\n"
     ]
    },
    {
     "name": "stderr",
     "output_type": "stream",
     "text": [
      "[Parallel(n_jobs=-1)]: Done  16 tasks      | elapsed:    0.1s\n",
      "[Parallel(n_jobs=-1)]: Done 1809 tasks      | elapsed:    9.0s\n",
      "[Parallel(n_jobs=-1)]: Done 2750 out of 2750 | elapsed:   14.3s finished\n",
      "[Parallel(n_jobs=-1)]: Using backend LokyBackend with 8 concurrent workers.\n"
     ]
    },
    {
     "name": "stdout",
     "output_type": "stream",
     "text": [
      "alpha: {'learning_rate': 0.3, 'loss': 'huber', 'max_depth': 2, 'n_estimators': 6}\n",
      "24 Dallas Cowboys: 2016-10-01 00:00:00\n",
      "Fitting 5 folds for each of 550 candidates, totalling 2750 fits\n"
     ]
    },
    {
     "name": "stderr",
     "output_type": "stream",
     "text": [
      "[Parallel(n_jobs=-1)]: Done  16 tasks      | elapsed:    0.2s\n",
      "[Parallel(n_jobs=-1)]: Done 1684 tasks      | elapsed:    8.7s\n",
      "[Parallel(n_jobs=-1)]: Done 2750 out of 2750 | elapsed:   14.6s finished\n",
      "[Parallel(n_jobs=-1)]: Using backend LokyBackend with 8 concurrent workers.\n"
     ]
    },
    {
     "name": "stdout",
     "output_type": "stream",
     "text": [
      "alpha: {'learning_rate': 0.5, 'loss': 'huber', 'max_depth': 2, 'n_estimators': 4}\n",
      "24 Dallas Cowboys: 2016-11-01 00:00:00\n",
      "Fitting 5 folds for each of 550 candidates, totalling 2750 fits\n"
     ]
    },
    {
     "name": "stderr",
     "output_type": "stream",
     "text": [
      "[Parallel(n_jobs=-1)]: Done  16 tasks      | elapsed:    0.2s\n",
      "[Parallel(n_jobs=-1)]: Done 1936 tasks      | elapsed:   10.0s\n",
      "[Parallel(n_jobs=-1)]: Done 2750 out of 2750 | elapsed:   14.2s finished\n",
      "[Parallel(n_jobs=-1)]: Using backend LokyBackend with 8 concurrent workers.\n"
     ]
    },
    {
     "name": "stdout",
     "output_type": "stream",
     "text": [
      "alpha: {'learning_rate': 0.3, 'loss': 'ls', 'max_depth': 2, 'n_estimators': 8}\n",
      "24 Dallas Cowboys: 2016-12-01 00:00:00\n",
      "Fitting 5 folds for each of 550 candidates, totalling 2750 fits\n"
     ]
    },
    {
     "name": "stderr",
     "output_type": "stream",
     "text": [
      "[Parallel(n_jobs=-1)]: Done  16 tasks      | elapsed:    0.1s\n",
      "[Parallel(n_jobs=-1)]: Done 1936 tasks      | elapsed:   10.5s\n",
      "[Parallel(n_jobs=-1)]: Done 2750 out of 2750 | elapsed:   15.1s finished\n",
      "[Parallel(n_jobs=-1)]: Using backend LokyBackend with 8 concurrent workers.\n"
     ]
    },
    {
     "name": "stdout",
     "output_type": "stream",
     "text": [
      "alpha: {'learning_rate': 0.3, 'loss': 'ls', 'max_depth': 2, 'n_estimators': 8}\n",
      "24 Dallas Cowboys: 2017-09-01 00:00:00\n",
      "Fitting 5 folds for each of 550 candidates, totalling 2750 fits\n"
     ]
    },
    {
     "name": "stderr",
     "output_type": "stream",
     "text": [
      "[Parallel(n_jobs=-1)]: Done  16 tasks      | elapsed:    0.2s\n",
      "[Parallel(n_jobs=-1)]: Done 1745 tasks      | elapsed:    9.0s\n",
      "[Parallel(n_jobs=-1)]: Done 2750 out of 2750 | elapsed:   14.3s finished\n",
      "[Parallel(n_jobs=-1)]: Using backend LokyBackend with 8 concurrent workers.\n"
     ]
    },
    {
     "name": "stdout",
     "output_type": "stream",
     "text": [
      "alpha: {'learning_rate': 0.4, 'loss': 'ls', 'max_depth': 6, 'n_estimators': 10}\n",
      "24 Dallas Cowboys: 2017-10-01 00:00:00\n",
      "Fitting 5 folds for each of 550 candidates, totalling 2750 fits\n"
     ]
    },
    {
     "name": "stderr",
     "output_type": "stream",
     "text": [
      "[Parallel(n_jobs=-1)]: Done  16 tasks      | elapsed:    0.1s\n",
      "[Parallel(n_jobs=-1)]: Done 1578 tasks      | elapsed:    8.1s\n",
      "[Parallel(n_jobs=-1)]: Done 2750 out of 2750 | elapsed:   15.1s finished\n",
      "[Parallel(n_jobs=-1)]: Using backend LokyBackend with 8 concurrent workers.\n"
     ]
    },
    {
     "name": "stdout",
     "output_type": "stream",
     "text": [
      "alpha: {'learning_rate': 0.2, 'loss': 'huber', 'max_depth': 2, 'n_estimators': 8}\n",
      "24 Dallas Cowboys: 2017-11-01 00:00:00\n",
      "Fitting 5 folds for each of 550 candidates, totalling 2750 fits\n"
     ]
    },
    {
     "name": "stderr",
     "output_type": "stream",
     "text": [
      "[Parallel(n_jobs=-1)]: Done  16 tasks      | elapsed:    0.1s\n",
      "[Parallel(n_jobs=-1)]: Done 1446 tasks      | elapsed:    8.0s\n",
      "[Parallel(n_jobs=-1)]: Done 2750 out of 2750 | elapsed:   14.9s finished\n",
      "[Parallel(n_jobs=-1)]: Using backend LokyBackend with 8 concurrent workers.\n"
     ]
    },
    {
     "name": "stdout",
     "output_type": "stream",
     "text": [
      "alpha: {'learning_rate': 0.6, 'loss': 'huber', 'max_depth': 2, 'n_estimators': 8}\n",
      "24 Dallas Cowboys: 2017-12-01 00:00:00\n",
      "Fitting 5 folds for each of 550 candidates, totalling 2750 fits\n"
     ]
    },
    {
     "name": "stderr",
     "output_type": "stream",
     "text": [
      "[Parallel(n_jobs=-1)]: Done  16 tasks      | elapsed:    0.2s\n",
      "[Parallel(n_jobs=-1)]: Done 1660 tasks      | elapsed:    8.6s\n",
      "[Parallel(n_jobs=-1)]: Done 2750 out of 2750 | elapsed:   14.9s finished\n",
      "[Parallel(n_jobs=-1)]: Using backend LokyBackend with 8 concurrent workers.\n"
     ]
    },
    {
     "name": "stdout",
     "output_type": "stream",
     "text": [
      "alpha: {'learning_rate': 0.6, 'loss': 'huber', 'max_depth': 4, 'n_estimators': 6}\n",
      "24 Dallas Cowboys: 2018-09-01 00:00:00\n",
      "Fitting 5 folds for each of 550 candidates, totalling 2750 fits\n"
     ]
    },
    {
     "name": "stderr",
     "output_type": "stream",
     "text": [
      "[Parallel(n_jobs=-1)]: Done  16 tasks      | elapsed:    0.2s\n",
      "[Parallel(n_jobs=-1)]: Done 1636 tasks      | elapsed:    8.6s\n",
      "[Parallel(n_jobs=-1)]: Done 2750 out of 2750 | elapsed:   14.7s finished\n",
      "[Parallel(n_jobs=-1)]: Using backend LokyBackend with 8 concurrent workers.\n"
     ]
    },
    {
     "name": "stdout",
     "output_type": "stream",
     "text": [
      "alpha: {'learning_rate': 0.6, 'loss': 'huber', 'max_depth': 6, 'n_estimators': 4}\n",
      "24 Dallas Cowboys: 2018-10-01 00:00:00\n",
      "Fitting 5 folds for each of 550 candidates, totalling 2750 fits\n"
     ]
    },
    {
     "name": "stderr",
     "output_type": "stream",
     "text": [
      "[Parallel(n_jobs=-1)]: Done  16 tasks      | elapsed:    0.2s\n",
      "[Parallel(n_jobs=-1)]: Done 1567 tasks      | elapsed:    7.9s\n",
      "[Parallel(n_jobs=-1)]: Done 2750 out of 2750 | elapsed:   14.3s finished\n",
      "[Parallel(n_jobs=-1)]: Using backend LokyBackend with 8 concurrent workers.\n"
     ]
    },
    {
     "name": "stdout",
     "output_type": "stream",
     "text": [
      "alpha: {'learning_rate': 0.2, 'loss': 'huber', 'max_depth': 2, 'n_estimators': 10}\n",
      "24 Dallas Cowboys: 2018-11-01 00:00:00\n",
      "Fitting 5 folds for each of 550 candidates, totalling 2750 fits\n"
     ]
    },
    {
     "name": "stderr",
     "output_type": "stream",
     "text": [
      "[Parallel(n_jobs=-1)]: Done  16 tasks      | elapsed:    0.2s\n",
      "[Parallel(n_jobs=-1)]: Done 1578 tasks      | elapsed:    8.1s\n",
      "[Parallel(n_jobs=-1)]: Done 2750 out of 2750 | elapsed:   14.7s finished\n",
      "[Parallel(n_jobs=-1)]: Using backend LokyBackend with 8 concurrent workers.\n"
     ]
    },
    {
     "name": "stdout",
     "output_type": "stream",
     "text": [
      "alpha: {'learning_rate': 0.3, 'loss': 'huber', 'max_depth': 2, 'n_estimators': 8}\n",
      "24 Dallas Cowboys: 2018-12-01 00:00:00\n",
      "Fitting 5 folds for each of 550 candidates, totalling 2750 fits\n"
     ]
    },
    {
     "name": "stderr",
     "output_type": "stream",
     "text": [
      "[Parallel(n_jobs=-1)]: Done  16 tasks      | elapsed:    0.2s\n",
      "[Parallel(n_jobs=-1)]: Done 1816 tasks      | elapsed:    9.8s\n",
      "[Parallel(n_jobs=-1)]: Done 2750 out of 2750 | elapsed:   15.8s finished\n",
      "[Parallel(n_jobs=-1)]: Using backend LokyBackend with 8 concurrent workers.\n"
     ]
    },
    {
     "name": "stdout",
     "output_type": "stream",
     "text": [
      "alpha: {'learning_rate': 0.4, 'loss': 'huber', 'max_depth': 2, 'n_estimators': 6}\n",
      "24 Dallas Cowboys: 2019-09-01 00:00:00\n",
      "Fitting 5 folds for each of 550 candidates, totalling 2750 fits\n"
     ]
    },
    {
     "name": "stderr",
     "output_type": "stream",
     "text": [
      "[Parallel(n_jobs=-1)]: Done  16 tasks      | elapsed:    0.2s\n",
      "[Parallel(n_jobs=-1)]: Done 1567 tasks      | elapsed:    8.4s\n",
      "[Parallel(n_jobs=-1)]: Done 2750 out of 2750 | elapsed:   15.1s finished\n",
      "[Parallel(n_jobs=-1)]: Using backend LokyBackend with 8 concurrent workers.\n"
     ]
    },
    {
     "name": "stdout",
     "output_type": "stream",
     "text": [
      "alpha: {'learning_rate': 0.3, 'loss': 'ls', 'max_depth': 2, 'n_estimators': 4}\n",
      "24 Dallas Cowboys: 2019-10-01 00:00:00\n",
      "Fitting 5 folds for each of 550 candidates, totalling 2750 fits\n"
     ]
    },
    {
     "name": "stderr",
     "output_type": "stream",
     "text": [
      "[Parallel(n_jobs=-1)]: Done  16 tasks      | elapsed:    0.2s\n",
      "[Parallel(n_jobs=-1)]: Done 1576 tasks      | elapsed:    8.5s\n",
      "[Parallel(n_jobs=-1)]: Done 2750 out of 2750 | elapsed:   15.5s finished\n",
      "[Parallel(n_jobs=-1)]: Using backend LokyBackend with 8 concurrent workers.\n"
     ]
    },
    {
     "name": "stdout",
     "output_type": "stream",
     "text": [
      "alpha: {'learning_rate': 0.5, 'loss': 'huber', 'max_depth': 2, 'n_estimators': 6}\n",
      "24 Dallas Cowboys: 2019-11-01 00:00:00\n",
      "Fitting 5 folds for each of 550 candidates, totalling 2750 fits\n"
     ]
    },
    {
     "name": "stderr",
     "output_type": "stream",
     "text": [
      "[Parallel(n_jobs=-1)]: Done  16 tasks      | elapsed:    0.2s\n",
      "[Parallel(n_jobs=-1)]: Done 1624 tasks      | elapsed:    8.8s\n",
      "[Parallel(n_jobs=-1)]: Done 2750 out of 2750 | elapsed:   16.1s finished\n",
      "[Parallel(n_jobs=-1)]: Using backend LokyBackend with 8 concurrent workers.\n"
     ]
    },
    {
     "name": "stdout",
     "output_type": "stream",
     "text": [
      "alpha: {'learning_rate': 0.6, 'loss': 'huber', 'max_depth': 8, 'n_estimators': 2}\n",
      "24 Dallas Cowboys: 2019-12-01 00:00:00\n",
      "Fitting 5 folds for each of 550 candidates, totalling 2750 fits\n"
     ]
    },
    {
     "name": "stderr",
     "output_type": "stream",
     "text": [
      "[Parallel(n_jobs=-1)]: Done  16 tasks      | elapsed:    0.1s\n",
      "[Parallel(n_jobs=-1)]: Done 976 tasks      | elapsed:    5.9s\n",
      "[Parallel(n_jobs=-1)]: Done 2576 tasks      | elapsed:   14.4s\n",
      "[Parallel(n_jobs=-1)]: Done 2750 out of 2750 | elapsed:   15.7s finished\n",
      "[Parallel(n_jobs=-1)]: Using backend LokyBackend with 8 concurrent workers.\n"
     ]
    },
    {
     "name": "stdout",
     "output_type": "stream",
     "text": [
      "alpha: {'learning_rate': 0.3, 'loss': 'ls', 'max_depth': 2, 'n_estimators': 4}\n",
      "25 Jacksonville Jaguars: 2012-09-01 00:00:00\n",
      "Fitting 5 folds for each of 550 candidates, totalling 2750 fits\n"
     ]
    },
    {
     "name": "stderr",
     "output_type": "stream",
     "text": [
      "[Parallel(n_jobs=-1)]: Done  16 tasks      | elapsed:    0.1s\n",
      "[Parallel(n_jobs=-1)]: Done 1780 tasks      | elapsed:    8.8s\n",
      "[Parallel(n_jobs=-1)]: Done 2750 out of 2750 | elapsed:   14.1s finished\n",
      "[Parallel(n_jobs=-1)]: Using backend LokyBackend with 8 concurrent workers.\n"
     ]
    },
    {
     "name": "stdout",
     "output_type": "stream",
     "text": [
      "alpha: {'learning_rate': 0.4, 'loss': 'huber', 'max_depth': 2, 'n_estimators': 10}\n",
      "25 Jacksonville Jaguars: 2012-10-01 00:00:00\n",
      "Fitting 5 folds for each of 550 candidates, totalling 2750 fits\n"
     ]
    },
    {
     "name": "stderr",
     "output_type": "stream",
     "text": [
      "[Parallel(n_jobs=-1)]: Done  16 tasks      | elapsed:    0.1s\n",
      "[Parallel(n_jobs=-1)]: Done 1567 tasks      | elapsed:    7.8s\n",
      "[Parallel(n_jobs=-1)]: Done 2750 out of 2750 | elapsed:   14.2s finished\n",
      "[Parallel(n_jobs=-1)]: Using backend LokyBackend with 8 concurrent workers.\n"
     ]
    },
    {
     "name": "stdout",
     "output_type": "stream",
     "text": [
      "alpha: {'learning_rate': 0.3, 'loss': 'ls', 'max_depth': 2, 'n_estimators': 10}\n",
      "25 Jacksonville Jaguars: 2012-11-01 00:00:00\n",
      "Fitting 5 folds for each of 550 candidates, totalling 2750 fits\n"
     ]
    },
    {
     "name": "stderr",
     "output_type": "stream",
     "text": [
      "[Parallel(n_jobs=-1)]: Done  16 tasks      | elapsed:    0.1s\n",
      "[Parallel(n_jobs=-1)]: Done 1936 tasks      | elapsed:    9.9s\n",
      "[Parallel(n_jobs=-1)]: Done 2750 out of 2750 | elapsed:   14.1s finished\n",
      "[Parallel(n_jobs=-1)]: Using backend LokyBackend with 8 concurrent workers.\n"
     ]
    },
    {
     "name": "stdout",
     "output_type": "stream",
     "text": [
      "alpha: {'learning_rate': 0.3, 'loss': 'ls', 'max_depth': 2, 'n_estimators': 10}\n",
      "25 Jacksonville Jaguars: 2012-12-01 00:00:00\n",
      "Fitting 5 folds for each of 550 candidates, totalling 2750 fits\n"
     ]
    },
    {
     "name": "stderr",
     "output_type": "stream",
     "text": [
      "[Parallel(n_jobs=-1)]: Done  16 tasks      | elapsed:    0.2s\n",
      "[Parallel(n_jobs=-1)]: Done 1648 tasks      | elapsed:    8.4s\n",
      "[Parallel(n_jobs=-1)]: Done 2750 out of 2750 | elapsed:   15.1s finished\n",
      "[Parallel(n_jobs=-1)]: Using backend LokyBackend with 8 concurrent workers.\n"
     ]
    },
    {
     "name": "stdout",
     "output_type": "stream",
     "text": [
      "alpha: {'learning_rate': 0.5, 'loss': 'huber', 'max_depth': 2, 'n_estimators': 8}\n",
      "25 Jacksonville Jaguars: 2013-09-01 00:00:00\n",
      "Fitting 5 folds for each of 550 candidates, totalling 2750 fits\n"
     ]
    },
    {
     "name": "stderr",
     "output_type": "stream",
     "text": [
      "[Parallel(n_jobs=-1)]: Done  16 tasks      | elapsed:    0.2s\n",
      "[Parallel(n_jobs=-1)]: Done 1809 tasks      | elapsed:    9.0s\n",
      "[Parallel(n_jobs=-1)]: Done 2750 out of 2750 | elapsed:   14.0s finished\n",
      "[Parallel(n_jobs=-1)]: Using backend LokyBackend with 8 concurrent workers.\n"
     ]
    },
    {
     "name": "stdout",
     "output_type": "stream",
     "text": [
      "alpha: {'learning_rate': 0.3, 'loss': 'huber', 'max_depth': 2, 'n_estimators': 8}\n",
      "25 Jacksonville Jaguars: 2013-10-01 00:00:00\n",
      "Fitting 5 folds for each of 550 candidates, totalling 2750 fits\n"
     ]
    },
    {
     "name": "stderr",
     "output_type": "stream",
     "text": [
      "[Parallel(n_jobs=-1)]: Done  16 tasks      | elapsed:    0.1s\n",
      "[Parallel(n_jobs=-1)]: Done 1684 tasks      | elapsed:    8.4s\n",
      "[Parallel(n_jobs=-1)]: Done 2750 out of 2750 | elapsed:   13.9s finished\n",
      "[Parallel(n_jobs=-1)]: Using backend LokyBackend with 8 concurrent workers.\n"
     ]
    },
    {
     "name": "stdout",
     "output_type": "stream",
     "text": [
      "alpha: {'learning_rate': 0.2, 'loss': 'ls', 'max_depth': 2, 'n_estimators': 10}\n",
      "25 Jacksonville Jaguars: 2013-11-01 00:00:00\n",
      "Fitting 5 folds for each of 550 candidates, totalling 2750 fits\n"
     ]
    },
    {
     "name": "stderr",
     "output_type": "stream",
     "text": [
      "[Parallel(n_jobs=-1)]: Done  16 tasks      | elapsed:    0.1s\n",
      "[Parallel(n_jobs=-1)]: Done 1930 tasks      | elapsed:    9.1s\n",
      "[Parallel(n_jobs=-1)]: Done 2750 out of 2750 | elapsed:   13.3s finished\n",
      "[Parallel(n_jobs=-1)]: Using backend LokyBackend with 8 concurrent workers.\n"
     ]
    },
    {
     "name": "stdout",
     "output_type": "stream",
     "text": [
      "alpha: {'learning_rate': 0.4, 'loss': 'ls', 'max_depth': 2, 'n_estimators': 6}\n",
      "25 Jacksonville Jaguars: 2013-12-01 00:00:00\n",
      "Fitting 5 folds for each of 550 candidates, totalling 2750 fits\n"
     ]
    },
    {
     "name": "stderr",
     "output_type": "stream",
     "text": [
      "[Parallel(n_jobs=-1)]: Done  16 tasks      | elapsed:    0.2s\n",
      "[Parallel(n_jobs=-1)]: Done 1660 tasks      | elapsed:    7.7s\n",
      "[Parallel(n_jobs=-1)]: Done 2750 out of 2750 | elapsed:   13.8s finished\n",
      "[Parallel(n_jobs=-1)]: Using backend LokyBackend with 8 concurrent workers.\n"
     ]
    },
    {
     "name": "stdout",
     "output_type": "stream",
     "text": [
      "alpha: {'learning_rate': 0.6, 'loss': 'ls', 'max_depth': 2, 'n_estimators': 6}\n",
      "25 Jacksonville Jaguars: 2014-09-01 00:00:00\n",
      "Fitting 5 folds for each of 550 candidates, totalling 2750 fits\n"
     ]
    },
    {
     "name": "stderr",
     "output_type": "stream",
     "text": [
      "[Parallel(n_jobs=-1)]: Done  16 tasks      | elapsed:    0.1s\n",
      "[Parallel(n_jobs=-1)]: Done 1552 tasks      | elapsed:    7.3s\n",
      "[Parallel(n_jobs=-1)]: Done 2750 out of 2750 | elapsed:   13.5s finished\n",
      "[Parallel(n_jobs=-1)]: Using backend LokyBackend with 8 concurrent workers.\n"
     ]
    },
    {
     "name": "stdout",
     "output_type": "stream",
     "text": [
      "alpha: {'learning_rate': 0.5, 'loss': 'ls', 'max_depth': 2, 'n_estimators': 8}\n",
      "25 Jacksonville Jaguars: 2014-10-01 00:00:00\n",
      "Fitting 5 folds for each of 550 candidates, totalling 2750 fits\n"
     ]
    },
    {
     "name": "stderr",
     "output_type": "stream",
     "text": [
      "[Parallel(n_jobs=-1)]: Done  16 tasks      | elapsed:    0.2s\n",
      "[Parallel(n_jobs=-1)]: Done 1792 tasks      | elapsed:    8.5s\n",
      "[Parallel(n_jobs=-1)]: Done 2750 out of 2750 | elapsed:   14.2s finished\n",
      "[Parallel(n_jobs=-1)]: Using backend LokyBackend with 8 concurrent workers.\n"
     ]
    },
    {
     "name": "stdout",
     "output_type": "stream",
     "text": [
      "alpha: {'learning_rate': 0.3, 'loss': 'ls', 'max_depth': 4, 'n_estimators': 10}\n",
      "25 Jacksonville Jaguars: 2014-11-01 00:00:00\n",
      "Fitting 5 folds for each of 550 candidates, totalling 2750 fits\n"
     ]
    },
    {
     "name": "stderr",
     "output_type": "stream",
     "text": [
      "[Parallel(n_jobs=-1)]: Done  16 tasks      | elapsed:    0.2s\n",
      "[Parallel(n_jobs=-1)]: Done 1456 tasks      | elapsed:    8.9s\n",
      "[Parallel(n_jobs=-1)]: Done 2750 out of 2750 | elapsed:   15.8s finished\n",
      "[Parallel(n_jobs=-1)]: Using backend LokyBackend with 8 concurrent workers.\n"
     ]
    },
    {
     "name": "stdout",
     "output_type": "stream",
     "text": [
      "alpha: {'learning_rate': 0.5, 'loss': 'huber', 'max_depth': 2, 'n_estimators': 10}\n",
      "25 Jacksonville Jaguars: 2014-12-01 00:00:00\n",
      "Fitting 5 folds for each of 550 candidates, totalling 2750 fits\n"
     ]
    },
    {
     "name": "stderr",
     "output_type": "stream",
     "text": [
      "[Parallel(n_jobs=-1)]: Done  16 tasks      | elapsed:    0.1s\n",
      "[Parallel(n_jobs=-1)]: Done 1936 tasks      | elapsed:   10.2s\n",
      "[Parallel(n_jobs=-1)]: Done 2750 out of 2750 | elapsed:   15.3s finished\n",
      "[Parallel(n_jobs=-1)]: Using backend LokyBackend with 8 concurrent workers.\n"
     ]
    },
    {
     "name": "stdout",
     "output_type": "stream",
     "text": [
      "alpha: {'learning_rate': 0.3, 'loss': 'huber', 'max_depth': 2, 'n_estimators': 6}\n",
      "25 Jacksonville Jaguars: 2015-09-01 00:00:00\n",
      "Fitting 5 folds for each of 550 candidates, totalling 2750 fits\n"
     ]
    },
    {
     "name": "stderr",
     "output_type": "stream",
     "text": [
      "[Parallel(n_jobs=-1)]: Done  16 tasks      | elapsed:    0.2s\n",
      "[Parallel(n_jobs=-1)]: Done 1360 tasks      | elapsed:    6.8s\n",
      "[Parallel(n_jobs=-1)]: Done 2750 out of 2750 | elapsed:   14.2s finished\n",
      "[Parallel(n_jobs=-1)]: Using backend LokyBackend with 8 concurrent workers.\n"
     ]
    },
    {
     "name": "stdout",
     "output_type": "stream",
     "text": [
      "alpha: {'learning_rate': 0.4, 'loss': 'ls', 'max_depth': 2, 'n_estimators': 4}\n",
      "25 Jacksonville Jaguars: 2015-10-01 00:00:00\n",
      "Fitting 5 folds for each of 550 candidates, totalling 2750 fits\n"
     ]
    },
    {
     "name": "stderr",
     "output_type": "stream",
     "text": [
      "[Parallel(n_jobs=-1)]: Done  16 tasks      | elapsed:    0.2s\n",
      "[Parallel(n_jobs=-1)]: Done 1780 tasks      | elapsed:    9.0s\n",
      "[Parallel(n_jobs=-1)]: Done 2750 out of 2750 | elapsed:   14.1s finished\n",
      "[Parallel(n_jobs=-1)]: Using backend LokyBackend with 8 concurrent workers.\n"
     ]
    },
    {
     "name": "stdout",
     "output_type": "stream",
     "text": [
      "alpha: {'learning_rate': 0.6, 'loss': 'huber', 'max_depth': 2, 'n_estimators': 4}\n",
      "25 Jacksonville Jaguars: 2015-11-01 00:00:00\n",
      "Fitting 5 folds for each of 550 candidates, totalling 2750 fits\n"
     ]
    },
    {
     "name": "stderr",
     "output_type": "stream",
     "text": [
      "[Parallel(n_jobs=-1)]: Done  16 tasks      | elapsed:    0.2s\n",
      "[Parallel(n_jobs=-1)]: Done 1784 tasks      | elapsed:    8.9s\n",
      "[Parallel(n_jobs=-1)]: Done 2750 out of 2750 | elapsed:   14.1s finished\n",
      "[Parallel(n_jobs=-1)]: Using backend LokyBackend with 8 concurrent workers.\n"
     ]
    },
    {
     "name": "stdout",
     "output_type": "stream",
     "text": [
      "alpha: {'learning_rate': 0.5, 'loss': 'ls', 'max_depth': 2, 'n_estimators': 4}\n",
      "25 Jacksonville Jaguars: 2015-12-01 00:00:00\n",
      "Fitting 5 folds for each of 550 candidates, totalling 2750 fits\n"
     ]
    },
    {
     "name": "stderr",
     "output_type": "stream",
     "text": [
      "[Parallel(n_jobs=-1)]: Done  16 tasks      | elapsed:    0.2s\n",
      "[Parallel(n_jobs=-1)]: Done 1660 tasks      | elapsed:    8.1s\n",
      "[Parallel(n_jobs=-1)]: Done 2750 out of 2750 | elapsed:   14.3s finished\n",
      "[Parallel(n_jobs=-1)]: Using backend LokyBackend with 8 concurrent workers.\n"
     ]
    },
    {
     "name": "stdout",
     "output_type": "stream",
     "text": [
      "alpha: {'learning_rate': 0.4, 'loss': 'ls', 'max_depth': 2, 'n_estimators': 2}\n",
      "25 Jacksonville Jaguars: 2016-09-01 00:00:00\n",
      "Fitting 5 folds for each of 550 candidates, totalling 2750 fits\n"
     ]
    },
    {
     "name": "stderr",
     "output_type": "stream",
     "text": [
      "[Parallel(n_jobs=-1)]: Done  16 tasks      | elapsed:    0.2s\n",
      "[Parallel(n_jobs=-1)]: Done 1672 tasks      | elapsed:    8.7s\n",
      "[Parallel(n_jobs=-1)]: Done 2750 out of 2750 | elapsed:   14.6s finished\n",
      "[Parallel(n_jobs=-1)]: Using backend LokyBackend with 8 concurrent workers.\n"
     ]
    },
    {
     "name": "stdout",
     "output_type": "stream",
     "text": [
      "alpha: {'learning_rate': 0.6, 'loss': 'ls', 'max_depth': 2, 'n_estimators': 2}\n",
      "25 Jacksonville Jaguars: 2016-10-01 00:00:00\n",
      "Fitting 5 folds for each of 550 candidates, totalling 2750 fits\n"
     ]
    },
    {
     "name": "stderr",
     "output_type": "stream",
     "text": [
      "[Parallel(n_jobs=-1)]: Done  16 tasks      | elapsed:    0.2s\n",
      "[Parallel(n_jobs=-1)]: Done 1660 tasks      | elapsed:    8.6s\n",
      "[Parallel(n_jobs=-1)]: Done 2750 out of 2750 | elapsed:   14.7s finished\n",
      "[Parallel(n_jobs=-1)]: Using backend LokyBackend with 8 concurrent workers.\n"
     ]
    },
    {
     "name": "stdout",
     "output_type": "stream",
     "text": [
      "alpha: {'learning_rate': 0.6, 'loss': 'ls', 'max_depth': 2, 'n_estimators': 2}\n",
      "25 Jacksonville Jaguars: 2016-11-01 00:00:00\n",
      "Fitting 5 folds for each of 550 candidates, totalling 2750 fits\n"
     ]
    },
    {
     "name": "stderr",
     "output_type": "stream",
     "text": [
      "[Parallel(n_jobs=-1)]: Done  16 tasks      | elapsed:    0.1s\n",
      "[Parallel(n_jobs=-1)]: Done 1828 tasks      | elapsed:    9.0s\n",
      "[Parallel(n_jobs=-1)]: Done 2750 out of 2750 | elapsed:   14.3s finished\n",
      "[Parallel(n_jobs=-1)]: Using backend LokyBackend with 8 concurrent workers.\n"
     ]
    },
    {
     "name": "stdout",
     "output_type": "stream",
     "text": [
      "alpha: {'learning_rate': 0.3, 'loss': 'huber', 'max_depth': 2, 'n_estimators': 8}\n",
      "25 Jacksonville Jaguars: 2016-12-01 00:00:00\n",
      "Fitting 5 folds for each of 550 candidates, totalling 2750 fits\n"
     ]
    },
    {
     "name": "stderr",
     "output_type": "stream",
     "text": [
      "[Parallel(n_jobs=-1)]: Done  16 tasks      | elapsed:    0.2s\n",
      "[Parallel(n_jobs=-1)]: Done 1578 tasks      | elapsed:    7.7s\n",
      "[Parallel(n_jobs=-1)]: Done 2750 out of 2750 | elapsed:   14.3s finished\n",
      "[Parallel(n_jobs=-1)]: Using backend LokyBackend with 8 concurrent workers.\n"
     ]
    },
    {
     "name": "stdout",
     "output_type": "stream",
     "text": [
      "alpha: {'learning_rate': 0.6, 'loss': 'huber', 'max_depth': 2, 'n_estimators': 6}\n",
      "25 Jacksonville Jaguars: 2017-09-01 00:00:00\n",
      "Fitting 5 folds for each of 550 candidates, totalling 2750 fits\n"
     ]
    },
    {
     "name": "stderr",
     "output_type": "stream",
     "text": [
      "[Parallel(n_jobs=-1)]: Done  16 tasks      | elapsed:    0.1s\n",
      "[Parallel(n_jobs=-1)]: Done 1744 tasks      | elapsed:    9.5s\n",
      "[Parallel(n_jobs=-1)]: Done 2750 out of 2750 | elapsed:   15.1s finished\n",
      "[Parallel(n_jobs=-1)]: Using backend LokyBackend with 8 concurrent workers.\n"
     ]
    },
    {
     "name": "stdout",
     "output_type": "stream",
     "text": [
      "alpha: {'learning_rate': 0.3, 'loss': 'ls', 'max_depth': 2, 'n_estimators': 8}\n",
      "25 Jacksonville Jaguars: 2017-10-01 00:00:00\n",
      "Fitting 5 folds for each of 550 candidates, totalling 2750 fits\n"
     ]
    },
    {
     "name": "stderr",
     "output_type": "stream",
     "text": [
      "[Parallel(n_jobs=-1)]: Done  16 tasks      | elapsed:    0.3s\n",
      "[Parallel(n_jobs=-1)]: Done 1816 tasks      | elapsed:    8.9s\n",
      "[Parallel(n_jobs=-1)]: Done 2750 out of 2750 | elapsed:   14.0s finished\n",
      "[Parallel(n_jobs=-1)]: Using backend LokyBackend with 8 concurrent workers.\n"
     ]
    },
    {
     "name": "stdout",
     "output_type": "stream",
     "text": [
      "alpha: {'learning_rate': 0.4, 'loss': 'huber', 'max_depth': 2, 'n_estimators': 10}\n",
      "25 Jacksonville Jaguars: 2017-11-01 00:00:00\n",
      "Fitting 5 folds for each of 550 candidates, totalling 2750 fits\n"
     ]
    },
    {
     "name": "stderr",
     "output_type": "stream",
     "text": [
      "[Parallel(n_jobs=-1)]: Done  16 tasks      | elapsed:    0.1s\n",
      "[Parallel(n_jobs=-1)]: Done 1684 tasks      | elapsed:    8.6s\n",
      "[Parallel(n_jobs=-1)]: Done 2750 out of 2750 | elapsed:   14.5s finished\n",
      "[Parallel(n_jobs=-1)]: Using backend LokyBackend with 8 concurrent workers.\n"
     ]
    },
    {
     "name": "stdout",
     "output_type": "stream",
     "text": [
      "alpha: {'learning_rate': 0.4, 'loss': 'huber', 'max_depth': 2, 'n_estimators': 4}\n",
      "25 Jacksonville Jaguars: 2017-12-01 00:00:00\n",
      "Fitting 5 folds for each of 550 candidates, totalling 2750 fits\n"
     ]
    },
    {
     "name": "stderr",
     "output_type": "stream",
     "text": [
      "[Parallel(n_jobs=-1)]: Done  16 tasks      | elapsed:    0.2s\n",
      "[Parallel(n_jobs=-1)]: Done 2128 tasks      | elapsed:   10.5s\n",
      "[Parallel(n_jobs=-1)]: Done 2750 out of 2750 | elapsed:   13.7s finished\n",
      "[Parallel(n_jobs=-1)]: Using backend LokyBackend with 8 concurrent workers.\n"
     ]
    },
    {
     "name": "stdout",
     "output_type": "stream",
     "text": [
      "alpha: {'learning_rate': 0.3, 'loss': 'huber', 'max_depth': 2, 'n_estimators': 10}\n",
      "25 Jacksonville Jaguars: 2018-09-01 00:00:00\n",
      "Fitting 5 folds for each of 550 candidates, totalling 2750 fits\n"
     ]
    },
    {
     "name": "stderr",
     "output_type": "stream",
     "text": [
      "[Parallel(n_jobs=-1)]: Done  16 tasks      | elapsed:    0.2s\n",
      "[Parallel(n_jobs=-1)]: Done 1648 tasks      | elapsed:    8.4s\n",
      "[Parallel(n_jobs=-1)]: Done 2750 out of 2750 | elapsed:   14.6s finished\n",
      "[Parallel(n_jobs=-1)]: Using backend LokyBackend with 8 concurrent workers.\n"
     ]
    },
    {
     "name": "stdout",
     "output_type": "stream",
     "text": [
      "alpha: {'learning_rate': 0.5, 'loss': 'ls', 'max_depth': 2, 'n_estimators': 10}\n",
      "25 Jacksonville Jaguars: 2018-10-01 00:00:00\n",
      "Fitting 5 folds for each of 550 candidates, totalling 2750 fits\n"
     ]
    },
    {
     "name": "stderr",
     "output_type": "stream",
     "text": [
      "[Parallel(n_jobs=-1)]: Done  16 tasks      | elapsed:    0.2s\n",
      "[Parallel(n_jobs=-1)]: Done 1648 tasks      | elapsed:    8.2s\n",
      "[Parallel(n_jobs=-1)]: Done 2750 out of 2750 | elapsed:   14.4s finished\n",
      "[Parallel(n_jobs=-1)]: Using backend LokyBackend with 8 concurrent workers.\n"
     ]
    },
    {
     "name": "stdout",
     "output_type": "stream",
     "text": [
      "alpha: {'learning_rate': 0.2, 'loss': 'ls', 'max_depth': 2, 'n_estimators': 10}\n",
      "25 Jacksonville Jaguars: 2018-11-01 00:00:00\n",
      "Fitting 5 folds for each of 550 candidates, totalling 2750 fits\n"
     ]
    },
    {
     "name": "stderr",
     "output_type": "stream",
     "text": [
      "[Parallel(n_jobs=-1)]: Done  16 tasks      | elapsed:    0.1s\n",
      "[Parallel(n_jobs=-1)]: Done 1660 tasks      | elapsed:    8.3s\n",
      "[Parallel(n_jobs=-1)]: Done 2750 out of 2750 | elapsed:   14.7s finished\n",
      "[Parallel(n_jobs=-1)]: Using backend LokyBackend with 8 concurrent workers.\n"
     ]
    },
    {
     "name": "stdout",
     "output_type": "stream",
     "text": [
      "alpha: {'learning_rate': 0.4, 'loss': 'huber', 'max_depth': 2, 'n_estimators': 10}\n",
      "25 Jacksonville Jaguars: 2018-12-01 00:00:00\n",
      "Fitting 5 folds for each of 550 candidates, totalling 2750 fits\n"
     ]
    },
    {
     "name": "stderr",
     "output_type": "stream",
     "text": [
      "[Parallel(n_jobs=-1)]: Done  16 tasks      | elapsed:    0.2s\n",
      "[Parallel(n_jobs=-1)]: Done 1672 tasks      | elapsed:    8.9s\n",
      "[Parallel(n_jobs=-1)]: Done 2750 out of 2750 | elapsed:   14.8s finished\n",
      "[Parallel(n_jobs=-1)]: Using backend LokyBackend with 8 concurrent workers.\n"
     ]
    },
    {
     "name": "stdout",
     "output_type": "stream",
     "text": [
      "alpha: {'learning_rate': 0.3, 'loss': 'huber', 'max_depth': 2, 'n_estimators': 10}\n",
      "25 Jacksonville Jaguars: 2019-09-01 00:00:00\n",
      "Fitting 5 folds for each of 550 candidates, totalling 2750 fits\n"
     ]
    },
    {
     "name": "stderr",
     "output_type": "stream",
     "text": [
      "[Parallel(n_jobs=-1)]: Done  16 tasks      | elapsed:    0.1s\n",
      "[Parallel(n_jobs=-1)]: Done 1636 tasks      | elapsed:    8.7s\n",
      "[Parallel(n_jobs=-1)]: Done 2750 out of 2750 | elapsed:   15.0s finished\n",
      "[Parallel(n_jobs=-1)]: Using backend LokyBackend with 8 concurrent workers.\n"
     ]
    },
    {
     "name": "stdout",
     "output_type": "stream",
     "text": [
      "alpha: {'learning_rate': 0.6, 'loss': 'huber', 'max_depth': 2, 'n_estimators': 2}\n",
      "25 Jacksonville Jaguars: 2019-10-01 00:00:00\n",
      "Fitting 5 folds for each of 550 candidates, totalling 2750 fits\n"
     ]
    },
    {
     "name": "stderr",
     "output_type": "stream",
     "text": [
      "[Parallel(n_jobs=-1)]: Done  16 tasks      | elapsed:    0.2s\n",
      "[Parallel(n_jobs=-1)]: Done 1780 tasks      | elapsed:    8.8s\n",
      "[Parallel(n_jobs=-1)]: Done 2750 out of 2750 | elapsed:   14.0s finished\n",
      "[Parallel(n_jobs=-1)]: Using backend LokyBackend with 8 concurrent workers.\n"
     ]
    },
    {
     "name": "stdout",
     "output_type": "stream",
     "text": [
      "alpha: {'learning_rate': 0.3, 'loss': 'huber', 'max_depth': 2, 'n_estimators': 10}\n",
      "25 Jacksonville Jaguars: 2019-11-01 00:00:00\n",
      "Fitting 5 folds for each of 550 candidates, totalling 2750 fits\n"
     ]
    },
    {
     "name": "stderr",
     "output_type": "stream",
     "text": [
      "[Parallel(n_jobs=-1)]: Done  16 tasks      | elapsed:    0.1s\n",
      "[Parallel(n_jobs=-1)]: Done 1600 tasks      | elapsed:    8.1s\n",
      "[Parallel(n_jobs=-1)]: Done 2750 out of 2750 | elapsed:   14.9s finished\n",
      "[Parallel(n_jobs=-1)]: Using backend LokyBackend with 8 concurrent workers.\n"
     ]
    },
    {
     "name": "stdout",
     "output_type": "stream",
     "text": [
      "alpha: {'learning_rate': 0.3, 'loss': 'ls', 'max_depth': 2, 'n_estimators': 10}\n",
      "25 Jacksonville Jaguars: 2019-12-01 00:00:00\n",
      "Fitting 5 folds for each of 550 candidates, totalling 2750 fits\n"
     ]
    },
    {
     "name": "stderr",
     "output_type": "stream",
     "text": [
      "[Parallel(n_jobs=-1)]: Done  16 tasks      | elapsed:    0.1s\n",
      "[Parallel(n_jobs=-1)]: Done 1168 tasks      | elapsed:    6.0s\n",
      "[Parallel(n_jobs=-1)]: Done 2750 out of 2750 | elapsed:   14.5s finished\n",
      "[Parallel(n_jobs=-1)]: Using backend LokyBackend with 8 concurrent workers.\n"
     ]
    },
    {
     "name": "stdout",
     "output_type": "stream",
     "text": [
      "alpha: {'learning_rate': 0.5, 'loss': 'ls', 'max_depth': 4, 'n_estimators': 10}\n",
      "26 Indianapolis Colts: 2012-09-01 00:00:00\n",
      "Fitting 5 folds for each of 550 candidates, totalling 2750 fits\n"
     ]
    },
    {
     "name": "stderr",
     "output_type": "stream",
     "text": [
      "[Parallel(n_jobs=-1)]: Done  16 tasks      | elapsed:    0.1s\n",
      "[Parallel(n_jobs=-1)]: Done 1648 tasks      | elapsed:    8.6s\n",
      "[Parallel(n_jobs=-1)]: Done 2750 out of 2750 | elapsed:   14.9s finished\n",
      "[Parallel(n_jobs=-1)]: Using backend LokyBackend with 8 concurrent workers.\n"
     ]
    },
    {
     "name": "stdout",
     "output_type": "stream",
     "text": [
      "alpha: {'learning_rate': 0.15, 'loss': 'huber', 'max_depth': 2, 'n_estimators': 8}\n",
      "26 Indianapolis Colts: 2012-10-01 00:00:00\n",
      "Fitting 5 folds for each of 550 candidates, totalling 2750 fits\n"
     ]
    },
    {
     "name": "stderr",
     "output_type": "stream",
     "text": [
      "[Parallel(n_jobs=-1)]: Done  16 tasks      | elapsed:    0.1s\n",
      "[Parallel(n_jobs=-1)]: Done 1636 tasks      | elapsed:    8.4s\n",
      "[Parallel(n_jobs=-1)]: Done 2750 out of 2750 | elapsed:   14.8s finished\n",
      "[Parallel(n_jobs=-1)]: Using backend LokyBackend with 8 concurrent workers.\n"
     ]
    },
    {
     "name": "stdout",
     "output_type": "stream",
     "text": [
      "alpha: {'learning_rate': 0.2, 'loss': 'ls', 'max_depth': 2, 'n_estimators': 8}\n",
      "26 Indianapolis Colts: 2012-11-01 00:00:00\n",
      "Fitting 5 folds for each of 550 candidates, totalling 2750 fits\n"
     ]
    },
    {
     "name": "stderr",
     "output_type": "stream",
     "text": [
      "[Parallel(n_jobs=-1)]: Done  16 tasks      | elapsed:    0.2s\n",
      "[Parallel(n_jobs=-1)]: Done 1660 tasks      | elapsed:    8.4s\n",
      "[Parallel(n_jobs=-1)]: Done 2750 out of 2750 | elapsed:   14.5s finished\n",
      "[Parallel(n_jobs=-1)]: Using backend LokyBackend with 8 concurrent workers.\n"
     ]
    },
    {
     "name": "stdout",
     "output_type": "stream",
     "text": [
      "alpha: {'learning_rate': 0.2, 'loss': 'huber', 'max_depth': 2, 'n_estimators': 6}\n",
      "26 Indianapolis Colts: 2012-12-01 00:00:00\n",
      "Fitting 5 folds for each of 550 candidates, totalling 2750 fits\n"
     ]
    },
    {
     "name": "stderr",
     "output_type": "stream",
     "text": [
      "[Parallel(n_jobs=-1)]: Done  16 tasks      | elapsed:    0.1s\n",
      "[Parallel(n_jobs=-1)]: Done 1578 tasks      | elapsed:    7.8s\n",
      "[Parallel(n_jobs=-1)]: Done 2750 out of 2750 | elapsed:   14.1s finished\n",
      "[Parallel(n_jobs=-1)]: Using backend LokyBackend with 8 concurrent workers.\n"
     ]
    },
    {
     "name": "stdout",
     "output_type": "stream",
     "text": [
      "alpha: {'learning_rate': 0.3, 'loss': 'ls', 'max_depth': 2, 'n_estimators': 8}\n",
      "26 Indianapolis Colts: 2013-09-01 00:00:00\n",
      "Fitting 5 folds for each of 550 candidates, totalling 2750 fits\n"
     ]
    },
    {
     "name": "stderr",
     "output_type": "stream",
     "text": [
      "[Parallel(n_jobs=-1)]: Done  16 tasks      | elapsed:    0.1s\n",
      "[Parallel(n_jobs=-1)]: Done 1456 tasks      | elapsed:    8.0s\n",
      "[Parallel(n_jobs=-1)]: Done 2750 out of 2750 | elapsed:   15.3s finished\n",
      "[Parallel(n_jobs=-1)]: Using backend LokyBackend with 8 concurrent workers.\n"
     ]
    },
    {
     "name": "stdout",
     "output_type": "stream",
     "text": [
      "alpha: {'learning_rate': 0.3, 'loss': 'ls', 'max_depth': 4, 'n_estimators': 6}\n",
      "26 Indianapolis Colts: 2013-10-01 00:00:00\n",
      "Fitting 5 folds for each of 550 candidates, totalling 2750 fits\n"
     ]
    },
    {
     "name": "stderr",
     "output_type": "stream",
     "text": [
      "[Parallel(n_jobs=-1)]: Done  16 tasks      | elapsed:    0.2s\n",
      "[Parallel(n_jobs=-1)]: Done 1648 tasks      | elapsed:    8.2s\n",
      "[Parallel(n_jobs=-1)]: Done 2750 out of 2750 | elapsed:   14.5s finished\n",
      "[Parallel(n_jobs=-1)]: Using backend LokyBackend with 8 concurrent workers.\n"
     ]
    },
    {
     "name": "stdout",
     "output_type": "stream",
     "text": [
      "alpha: {'learning_rate': 0.4, 'loss': 'ls', 'max_depth': 2, 'n_estimators': 2}\n",
      "26 Indianapolis Colts: 2013-11-01 00:00:00\n",
      "Fitting 5 folds for each of 550 candidates, totalling 2750 fits\n"
     ]
    },
    {
     "name": "stderr",
     "output_type": "stream",
     "text": [
      "[Parallel(n_jobs=-1)]: Done  16 tasks      | elapsed:    0.1s\n",
      "[Parallel(n_jobs=-1)]: Done 1936 tasks      | elapsed:   10.4s\n",
      "[Parallel(n_jobs=-1)]: Done 2750 out of 2750 | elapsed:   14.7s finished\n",
      "[Parallel(n_jobs=-1)]: Using backend LokyBackend with 8 concurrent workers.\n"
     ]
    },
    {
     "name": "stdout",
     "output_type": "stream",
     "text": [
      "alpha: {'learning_rate': 0.3, 'loss': 'huber', 'max_depth': 2, 'n_estimators': 6}\n",
      "26 Indianapolis Colts: 2013-12-01 00:00:00\n",
      "Fitting 5 folds for each of 550 candidates, totalling 2750 fits\n"
     ]
    },
    {
     "name": "stderr",
     "output_type": "stream",
     "text": [
      "[Parallel(n_jobs=-1)]: Done  16 tasks      | elapsed:    0.2s\n",
      "[Parallel(n_jobs=-1)]: Done 1809 tasks      | elapsed:    9.1s\n",
      "[Parallel(n_jobs=-1)]: Done 2750 out of 2750 | elapsed:   14.0s finished\n",
      "[Parallel(n_jobs=-1)]: Using backend LokyBackend with 8 concurrent workers.\n"
     ]
    },
    {
     "name": "stdout",
     "output_type": "stream",
     "text": [
      "alpha: {'learning_rate': 0.4, 'loss': 'huber', 'max_depth': 10, 'n_estimators': 4}\n",
      "26 Indianapolis Colts: 2014-09-01 00:00:00\n",
      "Fitting 5 folds for each of 550 candidates, totalling 2750 fits\n"
     ]
    },
    {
     "name": "stderr",
     "output_type": "stream",
     "text": [
      "[Parallel(n_jobs=-1)]: Done  16 tasks      | elapsed:    0.2s\n",
      "[Parallel(n_jobs=-1)]: Done 1578 tasks      | elapsed:    8.1s\n",
      "[Parallel(n_jobs=-1)]: Done 2750 out of 2750 | elapsed:   14.6s finished\n",
      "[Parallel(n_jobs=-1)]: Using backend LokyBackend with 8 concurrent workers.\n"
     ]
    },
    {
     "name": "stdout",
     "output_type": "stream",
     "text": [
      "alpha: {'learning_rate': 0.2, 'loss': 'ls', 'max_depth': 2, 'n_estimators': 6}\n",
      "26 Indianapolis Colts: 2014-10-01 00:00:00\n",
      "Fitting 5 folds for each of 550 candidates, totalling 2750 fits\n"
     ]
    },
    {
     "name": "stderr",
     "output_type": "stream",
     "text": [
      "[Parallel(n_jobs=-1)]: Done  16 tasks      | elapsed:    0.2s\n",
      "[Parallel(n_jobs=-1)]: Done 1936 tasks      | elapsed:    9.7s\n",
      "[Parallel(n_jobs=-1)]: Done 2750 out of 2750 | elapsed:   13.9s finished\n",
      "[Parallel(n_jobs=-1)]: Using backend LokyBackend with 8 concurrent workers.\n"
     ]
    },
    {
     "name": "stdout",
     "output_type": "stream",
     "text": [
      "alpha: {'learning_rate': 0.3, 'loss': 'huber', 'max_depth': 2, 'n_estimators': 6}\n",
      "26 Indianapolis Colts: 2014-11-01 00:00:00\n",
      "Fitting 5 folds for each of 550 candidates, totalling 2750 fits\n"
     ]
    },
    {
     "name": "stderr",
     "output_type": "stream",
     "text": [
      "[Parallel(n_jobs=-1)]: Done  16 tasks      | elapsed:    0.1s\n",
      "[Parallel(n_jobs=-1)]: Done 1648 tasks      | elapsed:    8.0s\n",
      "[Parallel(n_jobs=-1)]: Done 2750 out of 2750 | elapsed:   14.0s finished\n",
      "[Parallel(n_jobs=-1)]: Using backend LokyBackend with 8 concurrent workers.\n"
     ]
    },
    {
     "name": "stdout",
     "output_type": "stream",
     "text": [
      "alpha: {'learning_rate': 0.5, 'loss': 'ls', 'max_depth': 2, 'n_estimators': 10}\n",
      "26 Indianapolis Colts: 2014-12-01 00:00:00\n",
      "Fitting 5 folds for each of 550 candidates, totalling 2750 fits\n"
     ]
    },
    {
     "name": "stderr",
     "output_type": "stream",
     "text": [
      "[Parallel(n_jobs=-1)]: Done  16 tasks      | elapsed:    0.2s\n",
      "[Parallel(n_jobs=-1)]: Done 1624 tasks      | elapsed:    8.4s\n",
      "[Parallel(n_jobs=-1)]: Done 2750 out of 2750 | elapsed:   14.8s finished\n",
      "[Parallel(n_jobs=-1)]: Using backend LokyBackend with 8 concurrent workers.\n"
     ]
    },
    {
     "name": "stdout",
     "output_type": "stream",
     "text": [
      "alpha: {'learning_rate': 0.2, 'loss': 'huber', 'max_depth': 2, 'n_estimators': 10}\n",
      "26 Indianapolis Colts: 2015-09-01 00:00:00\n",
      "Fitting 5 folds for each of 550 candidates, totalling 2750 fits\n"
     ]
    },
    {
     "name": "stderr",
     "output_type": "stream",
     "text": [
      "[Parallel(n_jobs=-1)]: Done  16 tasks      | elapsed:    0.2s\n",
      "[Parallel(n_jobs=-1)]: Done 1648 tasks      | elapsed:    8.3s\n",
      "[Parallel(n_jobs=-1)]: Done 2750 out of 2750 | elapsed:   15.6s finished\n",
      "[Parallel(n_jobs=-1)]: Using backend LokyBackend with 8 concurrent workers.\n"
     ]
    },
    {
     "name": "stdout",
     "output_type": "stream",
     "text": [
      "alpha: {'learning_rate': 0.3, 'loss': 'ls', 'max_depth': 2, 'n_estimators': 4}\n",
      "26 Indianapolis Colts: 2015-10-01 00:00:00\n",
      "Fitting 5 folds for each of 550 candidates, totalling 2750 fits\n"
     ]
    },
    {
     "name": "stderr",
     "output_type": "stream",
     "text": [
      "[Parallel(n_jobs=-1)]: Done  16 tasks      | elapsed:    0.2s\n",
      "[Parallel(n_jobs=-1)]: Done 1745 tasks      | elapsed:    9.1s\n",
      "[Parallel(n_jobs=-1)]: Done 2750 out of 2750 | elapsed:   14.6s finished\n",
      "[Parallel(n_jobs=-1)]: Using backend LokyBackend with 8 concurrent workers.\n"
     ]
    },
    {
     "name": "stdout",
     "output_type": "stream",
     "text": [
      "alpha: {'learning_rate': 0.6, 'loss': 'huber', 'max_depth': 4, 'n_estimators': 10}\n",
      "26 Indianapolis Colts: 2015-11-01 00:00:00\n",
      "Fitting 5 folds for each of 550 candidates, totalling 2750 fits\n"
     ]
    },
    {
     "name": "stderr",
     "output_type": "stream",
     "text": [
      "[Parallel(n_jobs=-1)]: Done  16 tasks      | elapsed:    0.2s\n",
      "[Parallel(n_jobs=-1)]: Done 1684 tasks      | elapsed:    8.6s\n",
      "[Parallel(n_jobs=-1)]: Done 2750 out of 2750 | elapsed:   14.4s finished\n",
      "[Parallel(n_jobs=-1)]: Using backend LokyBackend with 8 concurrent workers.\n"
     ]
    },
    {
     "name": "stdout",
     "output_type": "stream",
     "text": [
      "alpha: {'learning_rate': 0.3, 'loss': 'ls', 'max_depth': 4, 'n_estimators': 10}\n",
      "26 Indianapolis Colts: 2015-12-01 00:00:00\n",
      "Fitting 5 folds for each of 550 candidates, totalling 2750 fits\n"
     ]
    },
    {
     "name": "stderr",
     "output_type": "stream",
     "text": [
      "[Parallel(n_jobs=-1)]: Done  16 tasks      | elapsed:    0.2s\n",
      "[Parallel(n_jobs=-1)]: Done 1648 tasks      | elapsed:    8.3s\n",
      "[Parallel(n_jobs=-1)]: Done 2750 out of 2750 | elapsed:   14.5s finished\n",
      "[Parallel(n_jobs=-1)]: Using backend LokyBackend with 8 concurrent workers.\n"
     ]
    },
    {
     "name": "stdout",
     "output_type": "stream",
     "text": [
      "alpha: {'learning_rate': 0.6, 'loss': 'huber', 'max_depth': 2, 'n_estimators': 4}\n",
      "26 Indianapolis Colts: 2016-09-01 00:00:00\n",
      "Fitting 5 folds for each of 550 candidates, totalling 2750 fits\n"
     ]
    },
    {
     "name": "stderr",
     "output_type": "stream",
     "text": [
      "[Parallel(n_jobs=-1)]: Done  16 tasks      | elapsed:    0.2s\n",
      "[Parallel(n_jobs=-1)]: Done 1919 tasks      | elapsed:    9.9s\n",
      "[Parallel(n_jobs=-1)]: Done 2750 out of 2750 | elapsed:   14.5s finished\n",
      "[Parallel(n_jobs=-1)]: Using backend LokyBackend with 8 concurrent workers.\n"
     ]
    },
    {
     "name": "stdout",
     "output_type": "stream",
     "text": [
      "alpha: {'learning_rate': 0.15, 'loss': 'huber', 'max_depth': 8, 'n_estimators': 6}\n",
      "26 Indianapolis Colts: 2016-10-01 00:00:00\n",
      "Fitting 5 folds for each of 550 candidates, totalling 2750 fits\n"
     ]
    },
    {
     "name": "stderr",
     "output_type": "stream",
     "text": [
      "[Parallel(n_jobs=-1)]: Done  16 tasks      | elapsed:    0.1s\n",
      "[Parallel(n_jobs=-1)]: Done 1567 tasks      | elapsed:    8.0s\n",
      "[Parallel(n_jobs=-1)]: Done 2750 out of 2750 | elapsed:   14.5s finished\n",
      "[Parallel(n_jobs=-1)]: Using backend LokyBackend with 8 concurrent workers.\n"
     ]
    },
    {
     "name": "stdout",
     "output_type": "stream",
     "text": [
      "alpha: {'learning_rate': 0.2, 'loss': 'ls', 'max_depth': 2, 'n_estimators': 6}\n",
      "26 Indianapolis Colts: 2016-11-01 00:00:00\n",
      "Fitting 5 folds for each of 550 candidates, totalling 2750 fits\n"
     ]
    },
    {
     "name": "stderr",
     "output_type": "stream",
     "text": [
      "[Parallel(n_jobs=-1)]: Done  16 tasks      | elapsed:    0.2s\n",
      "[Parallel(n_jobs=-1)]: Done 1578 tasks      | elapsed:    8.3s\n",
      "[Parallel(n_jobs=-1)]: Done 2750 out of 2750 | elapsed:   15.1s finished\n",
      "[Parallel(n_jobs=-1)]: Using backend LokyBackend with 8 concurrent workers.\n"
     ]
    },
    {
     "name": "stdout",
     "output_type": "stream",
     "text": [
      "alpha: {'learning_rate': 0.6, 'loss': 'huber', 'max_depth': 2, 'n_estimators': 8}\n",
      "26 Indianapolis Colts: 2016-12-01 00:00:00\n",
      "Fitting 5 folds for each of 550 candidates, totalling 2750 fits\n"
     ]
    },
    {
     "name": "stderr",
     "output_type": "stream",
     "text": [
      "[Parallel(n_jobs=-1)]: Done  16 tasks      | elapsed:    0.2s\n",
      "[Parallel(n_jobs=-1)]: Done 1684 tasks      | elapsed:    8.4s\n",
      "[Parallel(n_jobs=-1)]: Done 2750 out of 2750 | elapsed:   14.3s finished\n",
      "[Parallel(n_jobs=-1)]: Using backend LokyBackend with 8 concurrent workers.\n"
     ]
    },
    {
     "name": "stdout",
     "output_type": "stream",
     "text": [
      "alpha: {'learning_rate': 0.15, 'loss': 'huber', 'max_depth': 2, 'n_estimators': 10}\n",
      "26 Indianapolis Colts: 2017-09-01 00:00:00\n",
      "Fitting 5 folds for each of 550 candidates, totalling 2750 fits\n"
     ]
    },
    {
     "name": "stderr",
     "output_type": "stream",
     "text": [
      "[Parallel(n_jobs=-1)]: Done  16 tasks      | elapsed:    0.1s\n",
      "[Parallel(n_jobs=-1)]: Done 1360 tasks      | elapsed:    6.8s\n",
      "[Parallel(n_jobs=-1)]: Done 2750 out of 2750 | elapsed:   15.3s finished\n",
      "[Parallel(n_jobs=-1)]: Using backend LokyBackend with 8 concurrent workers.\n"
     ]
    },
    {
     "name": "stdout",
     "output_type": "stream",
     "text": [
      "alpha: {'learning_rate': 0.3, 'loss': 'huber', 'max_depth': 2, 'n_estimators': 8}\n",
      "26 Indianapolis Colts: 2017-10-01 00:00:00\n",
      "Fitting 5 folds for each of 550 candidates, totalling 2750 fits\n"
     ]
    },
    {
     "name": "stderr",
     "output_type": "stream",
     "text": [
      "[Parallel(n_jobs=-1)]: Done  16 tasks      | elapsed:    0.1s\n",
      "[Parallel(n_jobs=-1)]: Done 1578 tasks      | elapsed:    8.1s\n",
      "[Parallel(n_jobs=-1)]: Done 2750 out of 2750 | elapsed:   14.9s finished\n",
      "[Parallel(n_jobs=-1)]: Using backend LokyBackend with 8 concurrent workers.\n"
     ]
    },
    {
     "name": "stdout",
     "output_type": "stream",
     "text": [
      "alpha: {'learning_rate': 0.2, 'loss': 'ls', 'max_depth': 2, 'n_estimators': 8}\n",
      "26 Indianapolis Colts: 2017-11-01 00:00:00\n",
      "Fitting 5 folds for each of 550 candidates, totalling 2750 fits\n"
     ]
    },
    {
     "name": "stderr",
     "output_type": "stream",
     "text": [
      "[Parallel(n_jobs=-1)]: Done  16 tasks      | elapsed:    0.2s\n",
      "[Parallel(n_jobs=-1)]: Done 1744 tasks      | elapsed:    8.9s\n",
      "[Parallel(n_jobs=-1)]: Done 2750 out of 2750 | elapsed:   14.6s finished\n",
      "[Parallel(n_jobs=-1)]: Using backend LokyBackend with 8 concurrent workers.\n"
     ]
    },
    {
     "name": "stdout",
     "output_type": "stream",
     "text": [
      "alpha: {'learning_rate': 0.3, 'loss': 'huber', 'max_depth': 2, 'n_estimators': 10}\n",
      "26 Indianapolis Colts: 2017-12-01 00:00:00\n",
      "Fitting 5 folds for each of 550 candidates, totalling 2750 fits\n"
     ]
    },
    {
     "name": "stderr",
     "output_type": "stream",
     "text": [
      "[Parallel(n_jobs=-1)]: Done  16 tasks      | elapsed:    0.1s\n",
      "[Parallel(n_jobs=-1)]: Done 1578 tasks      | elapsed:    8.0s\n",
      "[Parallel(n_jobs=-1)]: Done 2750 out of 2750 | elapsed:   14.4s finished\n",
      "[Parallel(n_jobs=-1)]: Using backend LokyBackend with 8 concurrent workers.\n"
     ]
    },
    {
     "name": "stdout",
     "output_type": "stream",
     "text": [
      "alpha: {'learning_rate': 0.3, 'loss': 'huber', 'max_depth': 4, 'n_estimators': 10}\n",
      "26 Indianapolis Colts: 2018-09-01 00:00:00\n",
      "Fitting 5 folds for each of 550 candidates, totalling 2750 fits\n"
     ]
    },
    {
     "name": "stderr",
     "output_type": "stream",
     "text": [
      "[Parallel(n_jobs=-1)]: Done  16 tasks      | elapsed:    0.2s\n",
      "[Parallel(n_jobs=-1)]: Done 1672 tasks      | elapsed:    9.1s\n",
      "[Parallel(n_jobs=-1)]: Done 2750 out of 2750 | elapsed:   15.1s finished\n",
      "[Parallel(n_jobs=-1)]: Using backend LokyBackend with 8 concurrent workers.\n"
     ]
    },
    {
     "name": "stdout",
     "output_type": "stream",
     "text": [
      "alpha: {'learning_rate': 0.6, 'loss': 'huber', 'max_depth': 2, 'n_estimators': 10}\n",
      "26 Indianapolis Colts: 2018-10-01 00:00:00\n",
      "Fitting 5 folds for each of 550 candidates, totalling 2750 fits\n"
     ]
    },
    {
     "name": "stderr",
     "output_type": "stream",
     "text": [
      "[Parallel(n_jobs=-1)]: Done  16 tasks      | elapsed:    0.2s\n",
      "[Parallel(n_jobs=-1)]: Done 1745 tasks      | elapsed:    9.3s\n",
      "[Parallel(n_jobs=-1)]: Done 2750 out of 2750 | elapsed:   14.8s finished\n",
      "[Parallel(n_jobs=-1)]: Using backend LokyBackend with 8 concurrent workers.\n"
     ]
    },
    {
     "name": "stdout",
     "output_type": "stream",
     "text": [
      "alpha: {'learning_rate': 0.3, 'loss': 'ls', 'max_depth': 2, 'n_estimators': 10}\n",
      "26 Indianapolis Colts: 2018-11-01 00:00:00\n",
      "Fitting 5 folds for each of 550 candidates, totalling 2750 fits\n"
     ]
    },
    {
     "name": "stderr",
     "output_type": "stream",
     "text": [
      "[Parallel(n_jobs=-1)]: Done  16 tasks      | elapsed:    0.1s\n",
      "[Parallel(n_jobs=-1)]: Done 1168 tasks      | elapsed:    6.2s\n",
      "[Parallel(n_jobs=-1)]: Done 2750 out of 2750 | elapsed:   15.8s finished\n",
      "[Parallel(n_jobs=-1)]: Using backend LokyBackend with 8 concurrent workers.\n"
     ]
    },
    {
     "name": "stdout",
     "output_type": "stream",
     "text": [
      "alpha: {'learning_rate': 0.4, 'loss': 'ls', 'max_depth': 2, 'n_estimators': 10}\n",
      "26 Indianapolis Colts: 2018-12-01 00:00:00\n",
      "Fitting 5 folds for each of 550 candidates, totalling 2750 fits\n"
     ]
    },
    {
     "name": "stderr",
     "output_type": "stream",
     "text": [
      "[Parallel(n_jobs=-1)]: Done  16 tasks      | elapsed:    0.2s\n",
      "[Parallel(n_jobs=-1)]: Done 1339 tasks      | elapsed:    7.5s\n",
      "[Parallel(n_jobs=-1)]: Done 2750 out of 2750 | elapsed:   15.9s finished\n",
      "[Parallel(n_jobs=-1)]: Using backend LokyBackend with 8 concurrent workers.\n"
     ]
    },
    {
     "name": "stdout",
     "output_type": "stream",
     "text": [
      "alpha: {'learning_rate': 0.4, 'loss': 'huber', 'max_depth': 2, 'n_estimators': 10}\n",
      "26 Indianapolis Colts: 2019-09-01 00:00:00\n",
      "Fitting 5 folds for each of 550 candidates, totalling 2750 fits\n"
     ]
    },
    {
     "name": "stderr",
     "output_type": "stream",
     "text": [
      "[Parallel(n_jobs=-1)]: Done  16 tasks      | elapsed:    0.1s\n",
      "[Parallel(n_jobs=-1)]: Done 1582 tasks      | elapsed:    9.1s\n",
      "[Parallel(n_jobs=-1)]: Done 2750 out of 2750 | elapsed:   16.3s finished\n",
      "[Parallel(n_jobs=-1)]: Using backend LokyBackend with 8 concurrent workers.\n"
     ]
    },
    {
     "name": "stdout",
     "output_type": "stream",
     "text": [
      "alpha: {'learning_rate': 0.6, 'loss': 'huber', 'max_depth': 2, 'n_estimators': 6}\n",
      "26 Indianapolis Colts: 2019-10-01 00:00:00\n",
      "Fitting 5 folds for each of 550 candidates, totalling 2750 fits\n"
     ]
    },
    {
     "name": "stderr",
     "output_type": "stream",
     "text": [
      "[Parallel(n_jobs=-1)]: Done  16 tasks      | elapsed:    0.2s\n",
      "[Parallel(n_jobs=-1)]: Done 1648 tasks      | elapsed:    8.4s\n",
      "[Parallel(n_jobs=-1)]: Done 2750 out of 2750 | elapsed:   14.8s finished\n",
      "[Parallel(n_jobs=-1)]: Using backend LokyBackend with 8 concurrent workers.\n"
     ]
    },
    {
     "name": "stdout",
     "output_type": "stream",
     "text": [
      "alpha: {'learning_rate': 0.3, 'loss': 'ls', 'max_depth': 2, 'n_estimators': 10}\n",
      "26 Indianapolis Colts: 2019-11-01 00:00:00\n",
      "Fitting 5 folds for each of 550 candidates, totalling 2750 fits\n"
     ]
    },
    {
     "name": "stderr",
     "output_type": "stream",
     "text": [
      "[Parallel(n_jobs=-1)]: Done  16 tasks      | elapsed:    0.2s\n",
      "[Parallel(n_jobs=-1)]: Done 1636 tasks      | elapsed:    8.6s\n",
      "[Parallel(n_jobs=-1)]: Done 2750 out of 2750 | elapsed:   15.1s finished\n",
      "[Parallel(n_jobs=-1)]: Using backend LokyBackend with 8 concurrent workers.\n"
     ]
    },
    {
     "name": "stdout",
     "output_type": "stream",
     "text": [
      "alpha: {'learning_rate': 0.3, 'loss': 'huber', 'max_depth': 2, 'n_estimators': 10}\n",
      "26 Indianapolis Colts: 2019-12-01 00:00:00\n",
      "Fitting 5 folds for each of 550 candidates, totalling 2750 fits\n"
     ]
    },
    {
     "name": "stderr",
     "output_type": "stream",
     "text": [
      "[Parallel(n_jobs=-1)]: Done  16 tasks      | elapsed:    0.1s\n",
      "[Parallel(n_jobs=-1)]: Done 1744 tasks      | elapsed:    9.1s\n",
      "[Parallel(n_jobs=-1)]: Done 2750 out of 2750 | elapsed:   14.8s finished\n",
      "[Parallel(n_jobs=-1)]: Using backend LokyBackend with 8 concurrent workers.\n"
     ]
    },
    {
     "name": "stdout",
     "output_type": "stream",
     "text": [
      "alpha: {'learning_rate': 0.2, 'loss': 'ls', 'max_depth': 4, 'n_estimators': 8}\n",
      "27 New York Giants: 2012-09-01 00:00:00\n",
      "Fitting 5 folds for each of 550 candidates, totalling 2750 fits\n"
     ]
    },
    {
     "name": "stderr",
     "output_type": "stream",
     "text": [
      "[Parallel(n_jobs=-1)]: Done  16 tasks      | elapsed:    0.2s\n",
      "[Parallel(n_jobs=-1)]: Done 1864 tasks      | elapsed:    9.7s\n",
      "[Parallel(n_jobs=-1)]: Done 2750 out of 2750 | elapsed:   14.8s finished\n",
      "[Parallel(n_jobs=-1)]: Using backend LokyBackend with 8 concurrent workers.\n"
     ]
    },
    {
     "name": "stdout",
     "output_type": "stream",
     "text": [
      "alpha: {'learning_rate': 0.4, 'loss': 'ls', 'max_depth': 2, 'n_estimators': 6}\n",
      "27 New York Giants: 2012-10-01 00:00:00\n",
      "Fitting 5 folds for each of 550 candidates, totalling 2750 fits\n"
     ]
    },
    {
     "name": "stderr",
     "output_type": "stream",
     "text": [
      "[Parallel(n_jobs=-1)]: Done  16 tasks      | elapsed:    0.2s\n",
      "[Parallel(n_jobs=-1)]: Done 1578 tasks      | elapsed:    7.9s\n",
      "[Parallel(n_jobs=-1)]: Done 2750 out of 2750 | elapsed:   14.3s finished\n",
      "[Parallel(n_jobs=-1)]: Using backend LokyBackend with 8 concurrent workers.\n"
     ]
    },
    {
     "name": "stdout",
     "output_type": "stream",
     "text": [
      "alpha: {'learning_rate': 0.3, 'loss': 'huber', 'max_depth': 2, 'n_estimators': 10}\n",
      "27 New York Giants: 2012-11-01 00:00:00\n",
      "Fitting 5 folds for each of 550 candidates, totalling 2750 fits\n"
     ]
    },
    {
     "name": "stderr",
     "output_type": "stream",
     "text": [
      "[Parallel(n_jobs=-1)]: Done  16 tasks      | elapsed:    0.2s\n",
      "[Parallel(n_jobs=-1)]: Done 1684 tasks      | elapsed:    8.6s\n",
      "[Parallel(n_jobs=-1)]: Done 2750 out of 2750 | elapsed:   14.5s finished\n",
      "[Parallel(n_jobs=-1)]: Using backend LokyBackend with 8 concurrent workers.\n"
     ]
    },
    {
     "name": "stdout",
     "output_type": "stream",
     "text": [
      "alpha: {'learning_rate': 0.3, 'loss': 'ls', 'max_depth': 2, 'n_estimators': 8}\n",
      "27 New York Giants: 2012-12-01 00:00:00\n",
      "Fitting 5 folds for each of 550 candidates, totalling 2750 fits\n"
     ]
    },
    {
     "name": "stderr",
     "output_type": "stream",
     "text": [
      "[Parallel(n_jobs=-1)]: Done  16 tasks      | elapsed:    0.1s\n",
      "[Parallel(n_jobs=-1)]: Done 1168 tasks      | elapsed:    6.0s\n",
      "[Parallel(n_jobs=-1)]: Done 2750 out of 2750 | elapsed:   14.6s finished\n",
      "[Parallel(n_jobs=-1)]: Using backend LokyBackend with 8 concurrent workers.\n"
     ]
    },
    {
     "name": "stdout",
     "output_type": "stream",
     "text": [
      "alpha: {'learning_rate': 0.3, 'loss': 'ls', 'max_depth': 2, 'n_estimators': 6}\n",
      "27 New York Giants: 2013-09-01 00:00:00\n",
      "Fitting 5 folds for each of 550 candidates, totalling 2750 fits\n"
     ]
    },
    {
     "name": "stderr",
     "output_type": "stream",
     "text": [
      "[Parallel(n_jobs=-1)]: Done  16 tasks      | elapsed:    0.3s\n",
      "[Parallel(n_jobs=-1)]: Done 1578 tasks      | elapsed:    8.2s\n",
      "[Parallel(n_jobs=-1)]: Done 2750 out of 2750 | elapsed:   15.4s finished\n",
      "[Parallel(n_jobs=-1)]: Using backend LokyBackend with 8 concurrent workers.\n"
     ]
    },
    {
     "name": "stdout",
     "output_type": "stream",
     "text": [
      "alpha: {'learning_rate': 0.5, 'loss': 'ls', 'max_depth': 2, 'n_estimators': 6}\n",
      "27 New York Giants: 2013-10-01 00:00:00\n",
      "Fitting 5 folds for each of 550 candidates, totalling 2750 fits\n"
     ]
    },
    {
     "name": "stderr",
     "output_type": "stream",
     "text": [
      "[Parallel(n_jobs=-1)]: Done  16 tasks      | elapsed:    0.2s\n",
      "[Parallel(n_jobs=-1)]: Done 1798 tasks      | elapsed:    9.4s\n",
      "[Parallel(n_jobs=-1)]: Done 2750 out of 2750 | elapsed:   14.8s finished\n",
      "[Parallel(n_jobs=-1)]: Using backend LokyBackend with 8 concurrent workers.\n"
     ]
    },
    {
     "name": "stdout",
     "output_type": "stream",
     "text": [
      "alpha: {'learning_rate': 0.2, 'loss': 'ls', 'max_depth': 4, 'n_estimators': 6}\n",
      "27 New York Giants: 2013-11-01 00:00:00\n",
      "Fitting 5 folds for each of 550 candidates, totalling 2750 fits\n"
     ]
    },
    {
     "name": "stderr",
     "output_type": "stream",
     "text": [
      "[Parallel(n_jobs=-1)]: Done  16 tasks      | elapsed:    0.1s\n",
      "[Parallel(n_jobs=-1)]: Done 1576 tasks      | elapsed:    8.7s\n",
      "[Parallel(n_jobs=-1)]: Done 2750 out of 2750 | elapsed:   16.3s finished\n",
      "[Parallel(n_jobs=-1)]: Using backend LokyBackend with 8 concurrent workers.\n"
     ]
    },
    {
     "name": "stdout",
     "output_type": "stream",
     "text": [
      "alpha: {'learning_rate': 0.3, 'loss': 'ls', 'max_depth': 2, 'n_estimators': 10}\n",
      "27 New York Giants: 2013-12-01 00:00:00\n",
      "Fitting 5 folds for each of 550 candidates, totalling 2750 fits\n"
     ]
    },
    {
     "name": "stderr",
     "output_type": "stream",
     "text": [
      "[Parallel(n_jobs=-1)]: Done  16 tasks      | elapsed:    0.1s\n",
      "[Parallel(n_jobs=-1)]: Done 1567 tasks      | elapsed:    8.0s\n",
      "[Parallel(n_jobs=-1)]: Done 2750 out of 2750 | elapsed:   14.4s finished\n",
      "[Parallel(n_jobs=-1)]: Using backend LokyBackend with 8 concurrent workers.\n"
     ]
    },
    {
     "name": "stdout",
     "output_type": "stream",
     "text": [
      "alpha: {'learning_rate': 0.4, 'loss': 'huber', 'max_depth': 2, 'n_estimators': 4}\n",
      "27 New York Giants: 2014-09-01 00:00:00\n",
      "Fitting 5 folds for each of 550 candidates, totalling 2750 fits\n"
     ]
    },
    {
     "name": "stderr",
     "output_type": "stream",
     "text": [
      "[Parallel(n_jobs=-1)]: Done  16 tasks      | elapsed:    0.1s\n",
      "[Parallel(n_jobs=-1)]: Done 1744 tasks      | elapsed:    9.5s\n",
      "[Parallel(n_jobs=-1)]: Done 2750 out of 2750 | elapsed:   15.0s finished\n",
      "[Parallel(n_jobs=-1)]: Using backend LokyBackend with 8 concurrent workers.\n"
     ]
    },
    {
     "name": "stdout",
     "output_type": "stream",
     "text": [
      "alpha: {'learning_rate': 0.15, 'loss': 'ls', 'max_depth': 2, 'n_estimators': 10}\n",
      "27 New York Giants: 2014-10-01 00:00:00\n",
      "Fitting 5 folds for each of 550 candidates, totalling 2750 fits\n"
     ]
    },
    {
     "name": "stderr",
     "output_type": "stream",
     "text": [
      "[Parallel(n_jobs=-1)]: Done  16 tasks      | elapsed:    0.2s\n",
      "[Parallel(n_jobs=-1)]: Done 1684 tasks      | elapsed:    8.8s\n",
      "[Parallel(n_jobs=-1)]: Done 2750 out of 2750 | elapsed:   14.7s finished\n",
      "[Parallel(n_jobs=-1)]: Using backend LokyBackend with 8 concurrent workers.\n"
     ]
    },
    {
     "name": "stdout",
     "output_type": "stream",
     "text": [
      "alpha: {'learning_rate': 0.3, 'loss': 'ls', 'max_depth': 2, 'n_estimators': 10}\n",
      "27 New York Giants: 2014-11-01 00:00:00\n",
      "Fitting 5 folds for each of 550 candidates, totalling 2750 fits\n"
     ]
    },
    {
     "name": "stderr",
     "output_type": "stream",
     "text": [
      "[Parallel(n_jobs=-1)]: Done  16 tasks      | elapsed:    0.1s\n",
      "[Parallel(n_jobs=-1)]: Done 1936 tasks      | elapsed:   10.0s\n",
      "[Parallel(n_jobs=-1)]: Done 2750 out of 2750 | elapsed:   14.4s finished\n",
      "[Parallel(n_jobs=-1)]: Using backend LokyBackend with 8 concurrent workers.\n"
     ]
    },
    {
     "name": "stdout",
     "output_type": "stream",
     "text": [
      "alpha: {'learning_rate': 0.3, 'loss': 'ls', 'max_depth': 2, 'n_estimators': 10}\n",
      "27 New York Giants: 2014-12-01 00:00:00\n",
      "Fitting 5 folds for each of 550 candidates, totalling 2750 fits\n"
     ]
    },
    {
     "name": "stderr",
     "output_type": "stream",
     "text": [
      "[Parallel(n_jobs=-1)]: Done  16 tasks      | elapsed:    0.1s\n",
      "[Parallel(n_jobs=-1)]: Done 1168 tasks      | elapsed:    5.9s\n",
      "[Parallel(n_jobs=-1)]: Done 2750 out of 2750 | elapsed:   14.4s finished\n",
      "[Parallel(n_jobs=-1)]: Using backend LokyBackend with 8 concurrent workers.\n"
     ]
    },
    {
     "name": "stdout",
     "output_type": "stream",
     "text": [
      "alpha: {'learning_rate': 0.5, 'loss': 'huber', 'max_depth': 2, 'n_estimators': 6}\n",
      "27 New York Giants: 2015-09-01 00:00:00\n",
      "Fitting 5 folds for each of 550 candidates, totalling 2750 fits\n"
     ]
    },
    {
     "name": "stderr",
     "output_type": "stream",
     "text": [
      "[Parallel(n_jobs=-1)]: Done  16 tasks      | elapsed:    0.2s\n",
      "[Parallel(n_jobs=-1)]: Done 1545 tasks      | elapsed:    8.7s\n",
      "[Parallel(n_jobs=-1)]: Done 2750 out of 2750 | elapsed:   15.8s finished\n",
      "[Parallel(n_jobs=-1)]: Using backend LokyBackend with 8 concurrent workers.\n"
     ]
    },
    {
     "name": "stdout",
     "output_type": "stream",
     "text": [
      "alpha: {'learning_rate': 0.3, 'loss': 'ls', 'max_depth': 2, 'n_estimators': 10}\n",
      "27 New York Giants: 2015-10-01 00:00:00\n",
      "Fitting 5 folds for each of 550 candidates, totalling 2750 fits\n"
     ]
    },
    {
     "name": "stderr",
     "output_type": "stream",
     "text": [
      "[Parallel(n_jobs=-1)]: Done  16 tasks      | elapsed:    0.1s\n",
      "[Parallel(n_jobs=-1)]: Done 1168 tasks      | elapsed:    6.0s\n",
      "[Parallel(n_jobs=-1)]: Done 2750 out of 2750 | elapsed:   14.5s finished\n",
      "[Parallel(n_jobs=-1)]: Using backend LokyBackend with 8 concurrent workers.\n"
     ]
    },
    {
     "name": "stdout",
     "output_type": "stream",
     "text": [
      "alpha: {'learning_rate': 0.5, 'loss': 'huber', 'max_depth': 4, 'n_estimators': 6}\n",
      "27 New York Giants: 2015-11-01 00:00:00\n",
      "Fitting 5 folds for each of 550 candidates, totalling 2750 fits\n"
     ]
    },
    {
     "name": "stderr",
     "output_type": "stream",
     "text": [
      "[Parallel(n_jobs=-1)]: Done  16 tasks      | elapsed:    0.1s\n",
      "[Parallel(n_jobs=-1)]: Done 1936 tasks      | elapsed:   10.0s\n",
      "[Parallel(n_jobs=-1)]: Done 2750 out of 2750 | elapsed:   14.6s finished\n",
      "[Parallel(n_jobs=-1)]: Using backend LokyBackend with 8 concurrent workers.\n"
     ]
    },
    {
     "name": "stdout",
     "output_type": "stream",
     "text": [
      "alpha: {'learning_rate': 0.4, 'loss': 'ls', 'max_depth': 4, 'n_estimators': 10}\n",
      "27 New York Giants: 2015-12-01 00:00:00\n",
      "Fitting 5 folds for each of 550 candidates, totalling 2750 fits\n"
     ]
    },
    {
     "name": "stderr",
     "output_type": "stream",
     "text": [
      "[Parallel(n_jobs=-1)]: Done  16 tasks      | elapsed:    0.1s\n",
      "[Parallel(n_jobs=-1)]: Done 1168 tasks      | elapsed:    6.3s\n",
      "[Parallel(n_jobs=-1)]: Done 2750 out of 2750 | elapsed:   14.8s finished\n",
      "[Parallel(n_jobs=-1)]: Using backend LokyBackend with 8 concurrent workers.\n"
     ]
    },
    {
     "name": "stdout",
     "output_type": "stream",
     "text": [
      "alpha: {'learning_rate': 0.4, 'loss': 'ls', 'max_depth': 2, 'n_estimators': 10}\n",
      "27 New York Giants: 2016-09-01 00:00:00\n",
      "Fitting 5 folds for each of 550 candidates, totalling 2750 fits\n"
     ]
    },
    {
     "name": "stderr",
     "output_type": "stream",
     "text": [
      "[Parallel(n_jobs=-1)]: Done  16 tasks      | elapsed:    0.1s\n",
      "[Parallel(n_jobs=-1)]: Done 1648 tasks      | elapsed:    8.4s\n",
      "[Parallel(n_jobs=-1)]: Done 2750 out of 2750 | elapsed:   14.5s finished\n",
      "[Parallel(n_jobs=-1)]: Using backend LokyBackend with 8 concurrent workers.\n"
     ]
    },
    {
     "name": "stdout",
     "output_type": "stream",
     "text": [
      "alpha: {'learning_rate': 0.3, 'loss': 'huber', 'max_depth': 2, 'n_estimators': 10}\n",
      "27 New York Giants: 2016-10-01 00:00:00\n",
      "Fitting 5 folds for each of 550 candidates, totalling 2750 fits\n"
     ]
    },
    {
     "name": "stderr",
     "output_type": "stream",
     "text": [
      "[Parallel(n_jobs=-1)]: Done  16 tasks      | elapsed:    0.2s\n",
      "[Parallel(n_jobs=-1)]: Done 1648 tasks      | elapsed:    8.3s\n",
      "[Parallel(n_jobs=-1)]: Done 2750 out of 2750 | elapsed:   14.6s finished\n",
      "[Parallel(n_jobs=-1)]: Using backend LokyBackend with 8 concurrent workers.\n"
     ]
    },
    {
     "name": "stdout",
     "output_type": "stream",
     "text": [
      "alpha: {'learning_rate': 0.3, 'loss': 'huber', 'max_depth': 2, 'n_estimators': 8}\n",
      "27 New York Giants: 2016-11-01 00:00:00\n",
      "Fitting 5 folds for each of 550 candidates, totalling 2750 fits\n"
     ]
    },
    {
     "name": "stderr",
     "output_type": "stream",
     "text": [
      "[Parallel(n_jobs=-1)]: Done  16 tasks      | elapsed:    0.2s\n",
      "[Parallel(n_jobs=-1)]: Done 1648 tasks      | elapsed:    8.3s\n",
      "[Parallel(n_jobs=-1)]: Done 2750 out of 2750 | elapsed:   14.6s finished\n",
      "[Parallel(n_jobs=-1)]: Using backend LokyBackend with 8 concurrent workers.\n"
     ]
    },
    {
     "name": "stdout",
     "output_type": "stream",
     "text": [
      "alpha: {'learning_rate': 0.3, 'loss': 'ls', 'max_depth': 4, 'n_estimators': 10}\n",
      "27 New York Giants: 2016-12-01 00:00:00\n",
      "Fitting 5 folds for each of 550 candidates, totalling 2750 fits\n"
     ]
    },
    {
     "name": "stderr",
     "output_type": "stream",
     "text": [
      "[Parallel(n_jobs=-1)]: Done  16 tasks      | elapsed:    0.2s\n",
      "[Parallel(n_jobs=-1)]: Done 1456 tasks      | elapsed:    8.0s\n",
      "[Parallel(n_jobs=-1)]: Done 2750 out of 2750 | elapsed:   14.9s finished\n",
      "[Parallel(n_jobs=-1)]: Using backend LokyBackend with 8 concurrent workers.\n"
     ]
    },
    {
     "name": "stdout",
     "output_type": "stream",
     "text": [
      "alpha: {'learning_rate': 0.2, 'loss': 'huber', 'max_depth': 2, 'n_estimators': 10}\n",
      "27 New York Giants: 2017-09-01 00:00:00\n",
      "Fitting 5 folds for each of 550 candidates, totalling 2750 fits\n"
     ]
    },
    {
     "name": "stderr",
     "output_type": "stream",
     "text": [
      "[Parallel(n_jobs=-1)]: Done  16 tasks      | elapsed:    0.2s\n",
      "[Parallel(n_jobs=-1)]: Done 1684 tasks      | elapsed:    8.8s\n",
      "[Parallel(n_jobs=-1)]: Done 2750 out of 2750 | elapsed:   14.9s finished\n",
      "[Parallel(n_jobs=-1)]: Using backend LokyBackend with 8 concurrent workers.\n"
     ]
    },
    {
     "name": "stdout",
     "output_type": "stream",
     "text": [
      "alpha: {'learning_rate': 0.4, 'loss': 'ls', 'max_depth': 2, 'n_estimators': 4}\n",
      "27 New York Giants: 2017-10-01 00:00:00\n",
      "Fitting 5 folds for each of 550 candidates, totalling 2750 fits\n"
     ]
    },
    {
     "name": "stderr",
     "output_type": "stream",
     "text": [
      "[Parallel(n_jobs=-1)]: Done  16 tasks      | elapsed:    0.2s\n",
      "[Parallel(n_jobs=-1)]: Done 1684 tasks      | elapsed:    8.3s\n",
      "[Parallel(n_jobs=-1)]: Done 2750 out of 2750 | elapsed:   14.2s finished\n",
      "[Parallel(n_jobs=-1)]: Using backend LokyBackend with 8 concurrent workers.\n"
     ]
    },
    {
     "name": "stdout",
     "output_type": "stream",
     "text": [
      "alpha: {'learning_rate': 0.6, 'loss': 'ls', 'max_depth': 2, 'n_estimators': 4}\n",
      "27 New York Giants: 2017-11-01 00:00:00\n",
      "Fitting 5 folds for each of 550 candidates, totalling 2750 fits\n"
     ]
    },
    {
     "name": "stderr",
     "output_type": "stream",
     "text": [
      "[Parallel(n_jobs=-1)]: Done  16 tasks      | elapsed:    0.1s\n",
      "[Parallel(n_jobs=-1)]: Done 1648 tasks      | elapsed:    8.2s\n",
      "[Parallel(n_jobs=-1)]: Done 2750 out of 2750 | elapsed:   14.4s finished\n",
      "[Parallel(n_jobs=-1)]: Using backend LokyBackend with 8 concurrent workers.\n"
     ]
    },
    {
     "name": "stdout",
     "output_type": "stream",
     "text": [
      "alpha: {'learning_rate': 0.3, 'loss': 'ls', 'max_depth': 2, 'n_estimators': 4}\n",
      "27 New York Giants: 2017-12-01 00:00:00\n",
      "Fitting 5 folds for each of 550 candidates, totalling 2750 fits\n"
     ]
    },
    {
     "name": "stderr",
     "output_type": "stream",
     "text": [
      "[Parallel(n_jobs=-1)]: Done  16 tasks      | elapsed:    0.2s\n",
      "[Parallel(n_jobs=-1)]: Done 1948 tasks      | elapsed:    9.5s\n",
      "[Parallel(n_jobs=-1)]: Done 2750 out of 2750 | elapsed:   13.8s finished\n",
      "[Parallel(n_jobs=-1)]: Using backend LokyBackend with 8 concurrent workers.\n"
     ]
    },
    {
     "name": "stdout",
     "output_type": "stream",
     "text": [
      "alpha: {'learning_rate': 0.2, 'loss': 'huber', 'max_depth': 2, 'n_estimators': 10}\n",
      "27 New York Giants: 2018-09-01 00:00:00\n",
      "Fitting 5 folds for each of 550 candidates, totalling 2750 fits\n"
     ]
    },
    {
     "name": "stderr",
     "output_type": "stream",
     "text": [
      "[Parallel(n_jobs=-1)]: Done  16 tasks      | elapsed:    0.1s\n",
      "[Parallel(n_jobs=-1)]: Done 1684 tasks      | elapsed:    8.7s\n",
      "[Parallel(n_jobs=-1)]: Done 2750 out of 2750 | elapsed:   14.5s finished\n",
      "[Parallel(n_jobs=-1)]: Using backend LokyBackend with 8 concurrent workers.\n"
     ]
    },
    {
     "name": "stdout",
     "output_type": "stream",
     "text": [
      "alpha: {'learning_rate': 0.15, 'loss': 'huber', 'max_depth': 2, 'n_estimators': 10}\n",
      "27 New York Giants: 2018-10-01 00:00:00\n",
      "Fitting 5 folds for each of 550 candidates, totalling 2750 fits\n"
     ]
    },
    {
     "name": "stderr",
     "output_type": "stream",
     "text": [
      "[Parallel(n_jobs=-1)]: Done  16 tasks      | elapsed:    0.1s\n",
      "[Parallel(n_jobs=-1)]: Done 1648 tasks      | elapsed:    8.4s\n",
      "[Parallel(n_jobs=-1)]: Done 2750 out of 2750 | elapsed:   14.7s finished\n",
      "[Parallel(n_jobs=-1)]: Using backend LokyBackend with 8 concurrent workers.\n"
     ]
    },
    {
     "name": "stdout",
     "output_type": "stream",
     "text": [
      "alpha: {'learning_rate': 0.3, 'loss': 'huber', 'max_depth': 4, 'n_estimators': 6}\n",
      "27 New York Giants: 2018-11-01 00:00:00\n",
      "Fitting 5 folds for each of 550 candidates, totalling 2750 fits\n"
     ]
    },
    {
     "name": "stderr",
     "output_type": "stream",
     "text": [
      "[Parallel(n_jobs=-1)]: Done  16 tasks      | elapsed:    0.1s\n",
      "[Parallel(n_jobs=-1)]: Done 1708 tasks      | elapsed:    9.5s\n",
      "[Parallel(n_jobs=-1)]: Done 2750 out of 2750 | elapsed:   15.5s finished\n",
      "[Parallel(n_jobs=-1)]: Using backend LokyBackend with 8 concurrent workers.\n"
     ]
    },
    {
     "name": "stdout",
     "output_type": "stream",
     "text": [
      "alpha: {'learning_rate': 0.4, 'loss': 'huber', 'max_depth': 2, 'n_estimators': 4}\n",
      "27 New York Giants: 2018-12-01 00:00:00\n",
      "Fitting 5 folds for each of 550 candidates, totalling 2750 fits\n"
     ]
    },
    {
     "name": "stderr",
     "output_type": "stream",
     "text": [
      "[Parallel(n_jobs=-1)]: Done  16 tasks      | elapsed:    0.2s\n",
      "[Parallel(n_jobs=-1)]: Done 1648 tasks      | elapsed:    8.8s\n",
      "[Parallel(n_jobs=-1)]: Done 2750 out of 2750 | elapsed:   15.2s finished\n",
      "[Parallel(n_jobs=-1)]: Using backend LokyBackend with 8 concurrent workers.\n"
     ]
    },
    {
     "name": "stdout",
     "output_type": "stream",
     "text": [
      "alpha: {'learning_rate': 0.3, 'loss': 'huber', 'max_depth': 2, 'n_estimators': 4}\n",
      "27 New York Giants: 2019-09-01 00:00:00\n",
      "Fitting 5 folds for each of 550 candidates, totalling 2750 fits\n"
     ]
    },
    {
     "name": "stderr",
     "output_type": "stream",
     "text": [
      "[Parallel(n_jobs=-1)]: Done  16 tasks      | elapsed:    0.2s\n",
      "[Parallel(n_jobs=-1)]: Done 1744 tasks      | elapsed:   10.5s\n",
      "[Parallel(n_jobs=-1)]: Done 2750 out of 2750 | elapsed:   16.3s finished\n",
      "[Parallel(n_jobs=-1)]: Using backend LokyBackend with 8 concurrent workers.\n"
     ]
    },
    {
     "name": "stdout",
     "output_type": "stream",
     "text": [
      "alpha: {'learning_rate': 0.5, 'loss': 'huber', 'max_depth': 4, 'n_estimators': 2}\n",
      "27 New York Giants: 2019-10-01 00:00:00\n",
      "Fitting 5 folds for each of 550 candidates, totalling 2750 fits\n"
     ]
    },
    {
     "name": "stderr",
     "output_type": "stream",
     "text": [
      "[Parallel(n_jobs=-1)]: Done  16 tasks      | elapsed:    0.1s\n",
      "[Parallel(n_jobs=-1)]: Done 1360 tasks      | elapsed:    6.7s\n",
      "[Parallel(n_jobs=-1)]: Done 2750 out of 2750 | elapsed:   14.7s finished\n",
      "[Parallel(n_jobs=-1)]: Using backend LokyBackend with 8 concurrent workers.\n"
     ]
    },
    {
     "name": "stdout",
     "output_type": "stream",
     "text": [
      "alpha: {'learning_rate': 0.2, 'loss': 'huber', 'max_depth': 2, 'n_estimators': 6}\n",
      "27 New York Giants: 2019-11-01 00:00:00\n",
      "Fitting 5 folds for each of 550 candidates, totalling 2750 fits\n"
     ]
    },
    {
     "name": "stderr",
     "output_type": "stream",
     "text": [
      "[Parallel(n_jobs=-1)]: Done  16 tasks      | elapsed:    0.1s\n",
      "[Parallel(n_jobs=-1)]: Done 1567 tasks      | elapsed:    8.3s\n",
      "[Parallel(n_jobs=-1)]: Done 2750 out of 2750 | elapsed:   15.2s finished\n",
      "[Parallel(n_jobs=-1)]: Using backend LokyBackend with 8 concurrent workers.\n"
     ]
    },
    {
     "name": "stdout",
     "output_type": "stream",
     "text": [
      "alpha: {'learning_rate': 0.3, 'loss': 'ls', 'max_depth': 2, 'n_estimators': 8}\n",
      "27 New York Giants: 2019-12-01 00:00:00\n",
      "Fitting 5 folds for each of 550 candidates, totalling 2750 fits\n"
     ]
    },
    {
     "name": "stderr",
     "output_type": "stream",
     "text": [
      "[Parallel(n_jobs=-1)]: Done  16 tasks      | elapsed:    0.2s\n",
      "[Parallel(n_jobs=-1)]: Done 1576 tasks      | elapsed:    8.4s\n",
      "[Parallel(n_jobs=-1)]: Done 2750 out of 2750 | elapsed:   15.0s finished\n",
      "[Parallel(n_jobs=-1)]: Using backend LokyBackend with 8 concurrent workers.\n"
     ]
    },
    {
     "name": "stdout",
     "output_type": "stream",
     "text": [
      "alpha: {'learning_rate': 0.3, 'loss': 'ls', 'max_depth': 2, 'n_estimators': 8}\n",
      "28 Los Angeles Chargers: 2012-09-01 00:00:00\n",
      "Fitting 5 folds for each of 550 candidates, totalling 2750 fits\n"
     ]
    },
    {
     "name": "stderr",
     "output_type": "stream",
     "text": [
      "[Parallel(n_jobs=-1)]: Done  16 tasks      | elapsed:    0.1s\n",
      "[Parallel(n_jobs=-1)]: Done 1567 tasks      | elapsed:    8.1s\n",
      "[Parallel(n_jobs=-1)]: Done 2750 out of 2750 | elapsed:   14.8s finished\n",
      "[Parallel(n_jobs=-1)]: Using backend LokyBackend with 8 concurrent workers.\n"
     ]
    },
    {
     "name": "stdout",
     "output_type": "stream",
     "text": [
      "alpha: {'learning_rate': 0.3, 'loss': 'huber', 'max_depth': 2, 'n_estimators': 10}\n",
      "28 Los Angeles Chargers: 2012-10-01 00:00:00\n",
      "Fitting 5 folds for each of 550 candidates, totalling 2750 fits\n"
     ]
    },
    {
     "name": "stderr",
     "output_type": "stream",
     "text": [
      "[Parallel(n_jobs=-1)]: Done  16 tasks      | elapsed:    0.1s\n",
      "[Parallel(n_jobs=-1)]: Done 1578 tasks      | elapsed:    7.9s\n",
      "[Parallel(n_jobs=-1)]: Done 2750 out of 2750 | elapsed:   14.4s finished\n",
      "[Parallel(n_jobs=-1)]: Using backend LokyBackend with 8 concurrent workers.\n"
     ]
    },
    {
     "name": "stdout",
     "output_type": "stream",
     "text": [
      "alpha: {'learning_rate': 0.2, 'loss': 'huber', 'max_depth': 6, 'n_estimators': 10}\n",
      "28 Los Angeles Chargers: 2012-11-01 00:00:00\n",
      "Fitting 5 folds for each of 550 candidates, totalling 2750 fits\n"
     ]
    },
    {
     "name": "stderr",
     "output_type": "stream",
     "text": [
      "[Parallel(n_jobs=-1)]: Done  16 tasks      | elapsed:    0.2s\n",
      "[Parallel(n_jobs=-1)]: Done 1578 tasks      | elapsed:    8.2s\n",
      "[Parallel(n_jobs=-1)]: Done 2750 out of 2750 | elapsed:   15.1s finished\n",
      "[Parallel(n_jobs=-1)]: Using backend LokyBackend with 8 concurrent workers.\n"
     ]
    },
    {
     "name": "stdout",
     "output_type": "stream",
     "text": [
      "alpha: {'learning_rate': 0.4, 'loss': 'ls', 'max_depth': 2, 'n_estimators': 8}\n",
      "28 Los Angeles Chargers: 2012-12-01 00:00:00\n",
      "Fitting 5 folds for each of 550 candidates, totalling 2750 fits\n"
     ]
    },
    {
     "name": "stderr",
     "output_type": "stream",
     "text": [
      "[Parallel(n_jobs=-1)]: Done  16 tasks      | elapsed:    0.2s\n",
      "[Parallel(n_jobs=-1)]: Done 1545 tasks      | elapsed:    8.2s\n",
      "[Parallel(n_jobs=-1)]: Done 2750 out of 2750 | elapsed:   14.8s finished\n",
      "[Parallel(n_jobs=-1)]: Using backend LokyBackend with 8 concurrent workers.\n"
     ]
    },
    {
     "name": "stdout",
     "output_type": "stream",
     "text": [
      "alpha: {'learning_rate': 0.2, 'loss': 'ls', 'max_depth': 2, 'n_estimators': 10}\n",
      "28 Los Angeles Chargers: 2013-09-01 00:00:00\n",
      "Fitting 5 folds for each of 550 candidates, totalling 2750 fits\n"
     ]
    },
    {
     "name": "stderr",
     "output_type": "stream",
     "text": [
      "[Parallel(n_jobs=-1)]: Done  16 tasks      | elapsed:    0.2s\n",
      "[Parallel(n_jobs=-1)]: Done 1648 tasks      | elapsed:    8.9s\n",
      "[Parallel(n_jobs=-1)]: Done 2750 out of 2750 | elapsed:   15.4s finished\n",
      "[Parallel(n_jobs=-1)]: Using backend LokyBackend with 8 concurrent workers.\n"
     ]
    },
    {
     "name": "stdout",
     "output_type": "stream",
     "text": [
      "alpha: {'learning_rate': 0.4, 'loss': 'ls', 'max_depth': 2, 'n_estimators': 6}\n",
      "28 Los Angeles Chargers: 2013-10-01 00:00:00\n",
      "Fitting 5 folds for each of 550 candidates, totalling 2750 fits\n"
     ]
    },
    {
     "name": "stderr",
     "output_type": "stream",
     "text": [
      "[Parallel(n_jobs=-1)]: Done  16 tasks      | elapsed:    0.1s\n",
      "[Parallel(n_jobs=-1)]: Done 1567 tasks      | elapsed:    7.9s\n",
      "[Parallel(n_jobs=-1)]: Done 2750 out of 2750 | elapsed:   14.4s finished\n",
      "[Parallel(n_jobs=-1)]: Using backend LokyBackend with 8 concurrent workers.\n"
     ]
    },
    {
     "name": "stdout",
     "output_type": "stream",
     "text": [
      "alpha: {'learning_rate': 0.15, 'loss': 'ls', 'max_depth': 2, 'n_estimators': 10}\n",
      "28 Los Angeles Chargers: 2013-11-01 00:00:00\n",
      "Fitting 5 folds for each of 550 candidates, totalling 2750 fits\n"
     ]
    },
    {
     "name": "stderr",
     "output_type": "stream",
     "text": [
      "[Parallel(n_jobs=-1)]: Done  16 tasks      | elapsed:    0.2s\n",
      "[Parallel(n_jobs=-1)]: Done 1567 tasks      | elapsed:    8.3s\n",
      "[Parallel(n_jobs=-1)]: Done 2750 out of 2750 | elapsed:   14.9s finished\n",
      "[Parallel(n_jobs=-1)]: Using backend LokyBackend with 8 concurrent workers.\n"
     ]
    },
    {
     "name": "stdout",
     "output_type": "stream",
     "text": [
      "alpha: {'learning_rate': 0.4, 'loss': 'ls', 'max_depth': 2, 'n_estimators': 4}\n",
      "28 Los Angeles Chargers: 2013-12-01 00:00:00\n",
      "Fitting 5 folds for each of 550 candidates, totalling 2750 fits\n"
     ]
    },
    {
     "name": "stderr",
     "output_type": "stream",
     "text": [
      "[Parallel(n_jobs=-1)]: Done  16 tasks      | elapsed:    0.2s\n",
      "[Parallel(n_jobs=-1)]: Done 1567 tasks      | elapsed:    8.2s\n",
      "[Parallel(n_jobs=-1)]: Done 2750 out of 2750 | elapsed:   15.1s finished\n",
      "[Parallel(n_jobs=-1)]: Using backend LokyBackend with 8 concurrent workers.\n"
     ]
    },
    {
     "name": "stdout",
     "output_type": "stream",
     "text": [
      "alpha: {'learning_rate': 0.4, 'loss': 'ls', 'max_depth': 2, 'n_estimators': 8}\n",
      "28 Los Angeles Chargers: 2014-09-01 00:00:00\n",
      "Fitting 5 folds for each of 550 candidates, totalling 2750 fits\n"
     ]
    },
    {
     "name": "stderr",
     "output_type": "stream",
     "text": [
      "[Parallel(n_jobs=-1)]: Done  16 tasks      | elapsed:    0.1s\n",
      "[Parallel(n_jobs=-1)]: Done 1168 tasks      | elapsed:    6.5s\n",
      "[Parallel(n_jobs=-1)]: Done 2750 out of 2750 | elapsed:   15.6s finished\n",
      "[Parallel(n_jobs=-1)]: Using backend LokyBackend with 8 concurrent workers.\n"
     ]
    },
    {
     "name": "stdout",
     "output_type": "stream",
     "text": [
      "alpha: {'learning_rate': 0.3, 'loss': 'ls', 'max_depth': 2, 'n_estimators': 8}\n",
      "28 Los Angeles Chargers: 2014-10-01 00:00:00\n",
      "Fitting 5 folds for each of 550 candidates, totalling 2750 fits\n"
     ]
    },
    {
     "name": "stderr",
     "output_type": "stream",
     "text": [
      "[Parallel(n_jobs=-1)]: Done  16 tasks      | elapsed:    0.2s\n",
      "[Parallel(n_jobs=-1)]: Done 1648 tasks      | elapsed:    8.2s\n",
      "[Parallel(n_jobs=-1)]: Done 2750 out of 2750 | elapsed:   14.4s finished\n",
      "[Parallel(n_jobs=-1)]: Using backend LokyBackend with 8 concurrent workers.\n"
     ]
    },
    {
     "name": "stdout",
     "output_type": "stream",
     "text": [
      "alpha: {'learning_rate': 0.6, 'loss': 'huber', 'max_depth': 2, 'n_estimators': 8}\n",
      "28 Los Angeles Chargers: 2014-11-01 00:00:00\n",
      "Fitting 5 folds for each of 550 candidates, totalling 2750 fits\n"
     ]
    },
    {
     "name": "stderr",
     "output_type": "stream",
     "text": [
      "[Parallel(n_jobs=-1)]: Done  16 tasks      | elapsed:    0.2s\n",
      "[Parallel(n_jobs=-1)]: Done 1660 tasks      | elapsed:    8.1s\n",
      "[Parallel(n_jobs=-1)]: Done 2750 out of 2750 | elapsed:   14.2s finished\n",
      "[Parallel(n_jobs=-1)]: Using backend LokyBackend with 8 concurrent workers.\n"
     ]
    },
    {
     "name": "stdout",
     "output_type": "stream",
     "text": [
      "alpha: {'learning_rate': 0.2, 'loss': 'huber', 'max_depth': 2, 'n_estimators': 10}\n",
      "28 Los Angeles Chargers: 2014-12-01 00:00:00\n",
      "Fitting 5 folds for each of 550 candidates, totalling 2750 fits\n"
     ]
    },
    {
     "name": "stderr",
     "output_type": "stream",
     "text": [
      "[Parallel(n_jobs=-1)]: Done  16 tasks      | elapsed:    0.1s\n",
      "[Parallel(n_jobs=-1)]: Done 1672 tasks      | elapsed:    8.6s\n",
      "[Parallel(n_jobs=-1)]: Done 2750 out of 2750 | elapsed:   14.5s finished\n",
      "[Parallel(n_jobs=-1)]: Using backend LokyBackend with 8 concurrent workers.\n"
     ]
    },
    {
     "name": "stdout",
     "output_type": "stream",
     "text": [
      "alpha: {'learning_rate': 0.5, 'loss': 'huber', 'max_depth': 2, 'n_estimators': 6}\n",
      "28 Los Angeles Chargers: 2015-09-01 00:00:00\n",
      "Fitting 5 folds for each of 550 candidates, totalling 2750 fits\n"
     ]
    },
    {
     "name": "stderr",
     "output_type": "stream",
     "text": [
      "[Parallel(n_jobs=-1)]: Done  16 tasks      | elapsed:    0.1s\n",
      "[Parallel(n_jobs=-1)]: Done 1589 tasks      | elapsed:    8.5s\n",
      "[Parallel(n_jobs=-1)]: Done 2750 out of 2750 | elapsed:   15.4s finished\n",
      "[Parallel(n_jobs=-1)]: Using backend LokyBackend with 8 concurrent workers.\n"
     ]
    },
    {
     "name": "stdout",
     "output_type": "stream",
     "text": [
      "alpha: {'learning_rate': 0.6, 'loss': 'ls', 'max_depth': 2, 'n_estimators': 6}\n",
      "28 Los Angeles Chargers: 2015-10-01 00:00:00\n",
      "Fitting 5 folds for each of 550 candidates, totalling 2750 fits\n"
     ]
    },
    {
     "name": "stderr",
     "output_type": "stream",
     "text": [
      "[Parallel(n_jobs=-1)]: Done  16 tasks      | elapsed:    0.2s\n",
      "[Parallel(n_jobs=-1)]: Done 1567 tasks      | elapsed:    8.0s\n",
      "[Parallel(n_jobs=-1)]: Done 2750 out of 2750 | elapsed:   14.3s finished\n",
      "[Parallel(n_jobs=-1)]: Using backend LokyBackend with 8 concurrent workers.\n"
     ]
    },
    {
     "name": "stdout",
     "output_type": "stream",
     "text": [
      "alpha: {'learning_rate': 0.4, 'loss': 'huber', 'max_depth': 2, 'n_estimators': 8}\n",
      "28 Los Angeles Chargers: 2015-11-01 00:00:00\n",
      "Fitting 5 folds for each of 550 candidates, totalling 2750 fits\n"
     ]
    },
    {
     "name": "stderr",
     "output_type": "stream",
     "text": [
      "[Parallel(n_jobs=-1)]: Done  16 tasks      | elapsed:    0.2s\n",
      "[Parallel(n_jobs=-1)]: Done 1545 tasks      | elapsed:    8.1s\n",
      "[Parallel(n_jobs=-1)]: Done 2750 out of 2750 | elapsed:   14.7s finished\n",
      "[Parallel(n_jobs=-1)]: Using backend LokyBackend with 8 concurrent workers.\n"
     ]
    },
    {
     "name": "stdout",
     "output_type": "stream",
     "text": [
      "alpha: {'learning_rate': 0.6, 'loss': 'ls', 'max_depth': 2, 'n_estimators': 8}\n",
      "28 Los Angeles Chargers: 2015-12-01 00:00:00\n",
      "Fitting 5 folds for each of 550 candidates, totalling 2750 fits\n"
     ]
    },
    {
     "name": "stderr",
     "output_type": "stream",
     "text": [
      "[Parallel(n_jobs=-1)]: Done  16 tasks      | elapsed:    0.2s\n",
      "[Parallel(n_jobs=-1)]: Done 1745 tasks      | elapsed:    9.2s\n",
      "[Parallel(n_jobs=-1)]: Done 2750 out of 2750 | elapsed:   14.7s finished\n",
      "[Parallel(n_jobs=-1)]: Using backend LokyBackend with 8 concurrent workers.\n"
     ]
    },
    {
     "name": "stdout",
     "output_type": "stream",
     "text": [
      "alpha: {'learning_rate': 0.3, 'loss': 'ls', 'max_depth': 2, 'n_estimators': 10}\n",
      "28 Los Angeles Chargers: 2016-09-01 00:00:00\n",
      "Fitting 5 folds for each of 550 candidates, totalling 2750 fits\n"
     ]
    },
    {
     "name": "stderr",
     "output_type": "stream",
     "text": [
      "[Parallel(n_jobs=-1)]: Done  16 tasks      | elapsed:    0.1s\n",
      "[Parallel(n_jobs=-1)]: Done 1744 tasks      | elapsed:    9.1s\n",
      "[Parallel(n_jobs=-1)]: Done 2750 out of 2750 | elapsed:   14.5s finished\n",
      "[Parallel(n_jobs=-1)]: Using backend LokyBackend with 8 concurrent workers.\n"
     ]
    },
    {
     "name": "stdout",
     "output_type": "stream",
     "text": [
      "alpha: {'learning_rate': 0.4, 'loss': 'huber', 'max_depth': 2, 'n_estimators': 10}\n",
      "28 Los Angeles Chargers: 2016-10-01 00:00:00\n",
      "Fitting 5 folds for each of 550 candidates, totalling 2750 fits\n"
     ]
    },
    {
     "name": "stderr",
     "output_type": "stream",
     "text": [
      "[Parallel(n_jobs=-1)]: Done  16 tasks      | elapsed:    0.1s\n",
      "[Parallel(n_jobs=-1)]: Done 1648 tasks      | elapsed:    8.3s\n",
      "[Parallel(n_jobs=-1)]: Done 2750 out of 2750 | elapsed:   14.3s finished\n",
      "[Parallel(n_jobs=-1)]: Using backend LokyBackend with 8 concurrent workers.\n"
     ]
    },
    {
     "name": "stdout",
     "output_type": "stream",
     "text": [
      "alpha: {'learning_rate': 0.3, 'loss': 'ls', 'max_depth': 2, 'n_estimators': 10}\n",
      "28 Los Angeles Chargers: 2016-11-01 00:00:00\n",
      "Fitting 5 folds for each of 550 candidates, totalling 2750 fits\n"
     ]
    },
    {
     "name": "stderr",
     "output_type": "stream",
     "text": [
      "[Parallel(n_jobs=-1)]: Done  16 tasks      | elapsed:    0.1s\n",
      "[Parallel(n_jobs=-1)]: Done 1660 tasks      | elapsed:    8.2s\n",
      "[Parallel(n_jobs=-1)]: Done 2750 out of 2750 | elapsed:   14.3s finished\n",
      "[Parallel(n_jobs=-1)]: Using backend LokyBackend with 8 concurrent workers.\n"
     ]
    },
    {
     "name": "stdout",
     "output_type": "stream",
     "text": [
      "alpha: {'learning_rate': 0.3, 'loss': 'ls', 'max_depth': 2, 'n_estimators': 10}\n",
      "28 Los Angeles Chargers: 2016-12-01 00:00:00\n",
      "Fitting 5 folds for each of 550 candidates, totalling 2750 fits\n"
     ]
    },
    {
     "name": "stderr",
     "output_type": "stream",
     "text": [
      "[Parallel(n_jobs=-1)]: Done  16 tasks      | elapsed:    0.2s\n",
      "[Parallel(n_jobs=-1)]: Done 1648 tasks      | elapsed:    8.4s\n",
      "[Parallel(n_jobs=-1)]: Done 2750 out of 2750 | elapsed:   14.6s finished\n",
      "[Parallel(n_jobs=-1)]: Using backend LokyBackend with 8 concurrent workers.\n"
     ]
    },
    {
     "name": "stdout",
     "output_type": "stream",
     "text": [
      "alpha: {'learning_rate': 0.3, 'loss': 'huber', 'max_depth': 2, 'n_estimators': 10}\n",
      "28 Los Angeles Chargers: 2017-09-01 00:00:00\n",
      "Fitting 5 folds for each of 550 candidates, totalling 2750 fits\n"
     ]
    },
    {
     "name": "stderr",
     "output_type": "stream",
     "text": [
      "[Parallel(n_jobs=-1)]: Done  16 tasks      | elapsed:    0.2s\n",
      "[Parallel(n_jobs=-1)]: Done 1578 tasks      | elapsed:    8.0s\n",
      "[Parallel(n_jobs=-1)]: Done 2750 out of 2750 | elapsed:   15.0s finished\n",
      "[Parallel(n_jobs=-1)]: Using backend LokyBackend with 8 concurrent workers.\n"
     ]
    },
    {
     "name": "stdout",
     "output_type": "stream",
     "text": [
      "alpha: {'learning_rate': 0.4, 'loss': 'huber', 'max_depth': 2, 'n_estimators': 10}\n",
      "28 Los Angeles Chargers: 2017-10-01 00:00:00\n",
      "Fitting 5 folds for each of 550 candidates, totalling 2750 fits\n"
     ]
    },
    {
     "name": "stderr",
     "output_type": "stream",
     "text": [
      "[Parallel(n_jobs=-1)]: Done  16 tasks      | elapsed:    0.2s\n",
      "[Parallel(n_jobs=-1)]: Done 1567 tasks      | elapsed:    8.0s\n",
      "[Parallel(n_jobs=-1)]: Done 2750 out of 2750 | elapsed:   14.6s finished\n",
      "[Parallel(n_jobs=-1)]: Using backend LokyBackend with 8 concurrent workers.\n"
     ]
    },
    {
     "name": "stdout",
     "output_type": "stream",
     "text": [
      "alpha: {'learning_rate': 0.4, 'loss': 'ls', 'max_depth': 2, 'n_estimators': 10}\n",
      "28 Los Angeles Chargers: 2017-11-01 00:00:00\n",
      "Fitting 5 folds for each of 550 candidates, totalling 2750 fits\n"
     ]
    },
    {
     "name": "stderr",
     "output_type": "stream",
     "text": [
      "[Parallel(n_jobs=-1)]: Done  16 tasks      | elapsed:    0.1s\n",
      "[Parallel(n_jobs=-1)]: Done 1578 tasks      | elapsed:    8.6s\n",
      "[Parallel(n_jobs=-1)]: Done 2750 out of 2750 | elapsed:   15.7s finished\n",
      "[Parallel(n_jobs=-1)]: Using backend LokyBackend with 8 concurrent workers.\n"
     ]
    },
    {
     "name": "stdout",
     "output_type": "stream",
     "text": [
      "alpha: {'learning_rate': 0.5, 'loss': 'huber', 'max_depth': 2, 'n_estimators': 10}\n",
      "28 Los Angeles Chargers: 2017-12-01 00:00:00\n",
      "Fitting 5 folds for each of 550 candidates, totalling 2750 fits\n"
     ]
    },
    {
     "name": "stderr",
     "output_type": "stream",
     "text": [
      "[Parallel(n_jobs=-1)]: Done  16 tasks      | elapsed:    0.2s\n",
      "[Parallel(n_jobs=-1)]: Done 1744 tasks      | elapsed:    9.7s\n",
      "[Parallel(n_jobs=-1)]: Done 2750 out of 2750 | elapsed:   15.7s finished\n",
      "[Parallel(n_jobs=-1)]: Using backend LokyBackend with 8 concurrent workers.\n"
     ]
    },
    {
     "name": "stdout",
     "output_type": "stream",
     "text": [
      "alpha: {'learning_rate': 0.3, 'loss': 'ls', 'max_depth': 2, 'n_estimators': 10}\n",
      "28 Los Angeles Chargers: 2018-09-01 00:00:00\n",
      "Fitting 5 folds for each of 550 candidates, totalling 2750 fits\n"
     ]
    },
    {
     "name": "stderr",
     "output_type": "stream",
     "text": [
      "[Parallel(n_jobs=-1)]: Done  16 tasks      | elapsed:    0.2s\n",
      "[Parallel(n_jobs=-1)]: Done 1578 tasks      | elapsed:    8.7s\n",
      "[Parallel(n_jobs=-1)]: Done 2750 out of 2750 | elapsed:   15.0s finished\n",
      "[Parallel(n_jobs=-1)]: Using backend LokyBackend with 8 concurrent workers.\n"
     ]
    },
    {
     "name": "stdout",
     "output_type": "stream",
     "text": [
      "alpha: {'learning_rate': 0.5, 'loss': 'ls', 'max_depth': 2, 'n_estimators': 6}\n",
      "28 Los Angeles Chargers: 2018-10-01 00:00:00\n",
      "Fitting 5 folds for each of 550 candidates, totalling 2750 fits\n"
     ]
    },
    {
     "name": "stderr",
     "output_type": "stream",
     "text": [
      "[Parallel(n_jobs=-1)]: Done  16 tasks      | elapsed:    0.1s\n",
      "[Parallel(n_jobs=-1)]: Done 1684 tasks      | elapsed:    8.3s\n",
      "[Parallel(n_jobs=-1)]: Done 2750 out of 2750 | elapsed:   14.0s finished\n",
      "[Parallel(n_jobs=-1)]: Using backend LokyBackend with 8 concurrent workers.\n"
     ]
    },
    {
     "name": "stdout",
     "output_type": "stream",
     "text": [
      "alpha: {'learning_rate': 0.3, 'loss': 'huber', 'max_depth': 2, 'n_estimators': 8}\n",
      "28 Los Angeles Chargers: 2018-11-01 00:00:00\n",
      "Fitting 5 folds for each of 550 candidates, totalling 2750 fits\n"
     ]
    },
    {
     "name": "stderr",
     "output_type": "stream",
     "text": [
      "[Parallel(n_jobs=-1)]: Done  16 tasks      | elapsed:    0.2s\n",
      "[Parallel(n_jobs=-1)]: Done 1660 tasks      | elapsed:    8.3s\n",
      "[Parallel(n_jobs=-1)]: Done 2750 out of 2750 | elapsed:   14.4s finished\n",
      "[Parallel(n_jobs=-1)]: Using backend LokyBackend with 8 concurrent workers.\n"
     ]
    },
    {
     "name": "stdout",
     "output_type": "stream",
     "text": [
      "alpha: {'learning_rate': 0.6, 'loss': 'huber', 'max_depth': 2, 'n_estimators': 2}\n",
      "28 Los Angeles Chargers: 2018-12-01 00:00:00\n",
      "Fitting 5 folds for each of 550 candidates, totalling 2750 fits\n"
     ]
    },
    {
     "name": "stderr",
     "output_type": "stream",
     "text": [
      "[Parallel(n_jobs=-1)]: Done  16 tasks      | elapsed:    0.1s\n",
      "[Parallel(n_jobs=-1)]: Done 1648 tasks      | elapsed:    8.3s\n",
      "[Parallel(n_jobs=-1)]: Done 2750 out of 2750 | elapsed:   14.5s finished\n",
      "[Parallel(n_jobs=-1)]: Using backend LokyBackend with 8 concurrent workers.\n"
     ]
    },
    {
     "name": "stdout",
     "output_type": "stream",
     "text": [
      "alpha: {'learning_rate': 0.2, 'loss': 'huber', 'max_depth': 2, 'n_estimators': 6}\n",
      "28 Los Angeles Chargers: 2019-09-01 00:00:00\n",
      "Fitting 5 folds for each of 550 candidates, totalling 2750 fits\n"
     ]
    },
    {
     "name": "stderr",
     "output_type": "stream",
     "text": [
      "[Parallel(n_jobs=-1)]: Done  16 tasks      | elapsed:    0.2s\n",
      "[Parallel(n_jobs=-1)]: Done 1809 tasks      | elapsed:    9.6s\n",
      "[Parallel(n_jobs=-1)]: Done 2750 out of 2750 | elapsed:   15.3s finished\n",
      "[Parallel(n_jobs=-1)]: Using backend LokyBackend with 8 concurrent workers.\n"
     ]
    },
    {
     "name": "stdout",
     "output_type": "stream",
     "text": [
      "alpha: {'learning_rate': 0.3, 'loss': 'ls', 'max_depth': 10, 'n_estimators': 2}\n",
      "28 Los Angeles Chargers: 2019-10-01 00:00:00\n",
      "Fitting 5 folds for each of 550 candidates, totalling 2750 fits\n"
     ]
    },
    {
     "name": "stderr",
     "output_type": "stream",
     "text": [
      "[Parallel(n_jobs=-1)]: Done  16 tasks      | elapsed:    0.2s\n",
      "[Parallel(n_jobs=-1)]: Done 1684 tasks      | elapsed:    8.3s\n",
      "[Parallel(n_jobs=-1)]: Done 2750 out of 2750 | elapsed:   13.9s finished\n",
      "[Parallel(n_jobs=-1)]: Using backend LokyBackend with 8 concurrent workers.\n"
     ]
    },
    {
     "name": "stdout",
     "output_type": "stream",
     "text": [
      "alpha: {'learning_rate': 0.4, 'loss': 'huber', 'max_depth': 2, 'n_estimators': 2}\n",
      "28 Los Angeles Chargers: 2019-11-01 00:00:00\n",
      "Fitting 5 folds for each of 550 candidates, totalling 2750 fits\n"
     ]
    },
    {
     "name": "stderr",
     "output_type": "stream",
     "text": [
      "[Parallel(n_jobs=-1)]: Done  16 tasks      | elapsed:    0.1s\n",
      "[Parallel(n_jobs=-1)]: Done 1684 tasks      | elapsed:    8.7s\n",
      "[Parallel(n_jobs=-1)]: Done 2750 out of 2750 | elapsed:   14.7s finished\n",
      "[Parallel(n_jobs=-1)]: Using backend LokyBackend with 8 concurrent workers.\n"
     ]
    },
    {
     "name": "stdout",
     "output_type": "stream",
     "text": [
      "alpha: {'learning_rate': 0.2, 'loss': 'ls', 'max_depth': 2, 'n_estimators': 8}\n",
      "28 Los Angeles Chargers: 2019-12-01 00:00:00\n",
      "Fitting 5 folds for each of 550 candidates, totalling 2750 fits\n"
     ]
    },
    {
     "name": "stderr",
     "output_type": "stream",
     "text": [
      "[Parallel(n_jobs=-1)]: Done  16 tasks      | elapsed:    0.2s\n",
      "[Parallel(n_jobs=-1)]: Done 1936 tasks      | elapsed:    9.8s\n",
      "[Parallel(n_jobs=-1)]: Done 2750 out of 2750 | elapsed:   14.3s finished\n",
      "[Parallel(n_jobs=-1)]: Using backend LokyBackend with 8 concurrent workers.\n"
     ]
    },
    {
     "name": "stdout",
     "output_type": "stream",
     "text": [
      "alpha: {'learning_rate': 0.2, 'loss': 'ls', 'max_depth': 2, 'n_estimators': 10}\n",
      "29 Oakland Raiders: 2012-09-01 00:00:00\n",
      "Fitting 5 folds for each of 550 candidates, totalling 2750 fits\n"
     ]
    },
    {
     "name": "stderr",
     "output_type": "stream",
     "text": [
      "[Parallel(n_jobs=-1)]: Done  16 tasks      | elapsed:    0.2s\n",
      "[Parallel(n_jobs=-1)]: Done 1567 tasks      | elapsed:    8.4s\n",
      "[Parallel(n_jobs=-1)]: Done 2750 out of 2750 | elapsed:   14.8s finished\n",
      "[Parallel(n_jobs=-1)]: Using backend LokyBackend with 8 concurrent workers.\n"
     ]
    },
    {
     "name": "stdout",
     "output_type": "stream",
     "text": [
      "alpha: {'learning_rate': 0.6, 'loss': 'huber', 'max_depth': 4, 'n_estimators': 4}\n",
      "29 Oakland Raiders: 2012-10-01 00:00:00\n",
      "Fitting 5 folds for each of 550 candidates, totalling 2750 fits\n"
     ]
    },
    {
     "name": "stderr",
     "output_type": "stream",
     "text": [
      "[Parallel(n_jobs=-1)]: Done  16 tasks      | elapsed:    0.2s\n",
      "[Parallel(n_jobs=-1)]: Done 1567 tasks      | elapsed:    7.9s\n",
      "[Parallel(n_jobs=-1)]: Done 2750 out of 2750 | elapsed:   14.3s finished\n",
      "[Parallel(n_jobs=-1)]: Using backend LokyBackend with 8 concurrent workers.\n"
     ]
    },
    {
     "name": "stdout",
     "output_type": "stream",
     "text": [
      "alpha: {'learning_rate': 0.2, 'loss': 'huber', 'max_depth': 2, 'n_estimators': 10}\n",
      "29 Oakland Raiders: 2012-11-01 00:00:00\n",
      "Fitting 5 folds for each of 550 candidates, totalling 2750 fits\n"
     ]
    },
    {
     "name": "stderr",
     "output_type": "stream",
     "text": [
      "[Parallel(n_jobs=-1)]: Done  16 tasks      | elapsed:    0.2s\n",
      "[Parallel(n_jobs=-1)]: Done 1660 tasks      | elapsed:    8.6s\n",
      "[Parallel(n_jobs=-1)]: Done 2750 out of 2750 | elapsed:   14.6s finished\n",
      "[Parallel(n_jobs=-1)]: Using backend LokyBackend with 8 concurrent workers.\n"
     ]
    },
    {
     "name": "stdout",
     "output_type": "stream",
     "text": [
      "alpha: {'learning_rate': 0.2, 'loss': 'huber', 'max_depth': 2, 'n_estimators': 10}\n",
      "29 Oakland Raiders: 2012-12-01 00:00:00\n",
      "Fitting 5 folds for each of 550 candidates, totalling 2750 fits\n"
     ]
    },
    {
     "name": "stderr",
     "output_type": "stream",
     "text": [
      "[Parallel(n_jobs=-1)]: Done  16 tasks      | elapsed:    0.1s\n",
      "[Parallel(n_jobs=-1)]: Done 1936 tasks      | elapsed:   10.4s\n",
      "[Parallel(n_jobs=-1)]: Done 2750 out of 2750 | elapsed:   14.9s finished\n",
      "[Parallel(n_jobs=-1)]: Using backend LokyBackend with 8 concurrent workers.\n"
     ]
    },
    {
     "name": "stdout",
     "output_type": "stream",
     "text": [
      "alpha: {'learning_rate': 0.5, 'loss': 'huber', 'max_depth': 2, 'n_estimators': 4}\n",
      "29 Oakland Raiders: 2013-09-01 00:00:00\n",
      "Fitting 5 folds for each of 550 candidates, totalling 2750 fits\n"
     ]
    },
    {
     "name": "stderr",
     "output_type": "stream",
     "text": [
      "[Parallel(n_jobs=-1)]: Done  16 tasks      | elapsed:    0.1s\n",
      "[Parallel(n_jobs=-1)]: Done 1672 tasks      | elapsed:    9.0s\n",
      "[Parallel(n_jobs=-1)]: Done 2750 out of 2750 | elapsed:   15.6s finished\n",
      "[Parallel(n_jobs=-1)]: Using backend LokyBackend with 8 concurrent workers.\n"
     ]
    },
    {
     "name": "stdout",
     "output_type": "stream",
     "text": [
      "alpha: {'learning_rate': 0.4, 'loss': 'huber', 'max_depth': 4, 'n_estimators': 6}\n",
      "29 Oakland Raiders: 2013-10-01 00:00:00\n",
      "Fitting 5 folds for each of 550 candidates, totalling 2750 fits\n"
     ]
    },
    {
     "name": "stderr",
     "output_type": "stream",
     "text": [
      "[Parallel(n_jobs=-1)]: Done  16 tasks      | elapsed:    0.1s\n",
      "[Parallel(n_jobs=-1)]: Done 1545 tasks      | elapsed:    8.0s\n",
      "[Parallel(n_jobs=-1)]: Done 2750 out of 2750 | elapsed:   14.7s finished\n",
      "[Parallel(n_jobs=-1)]: Using backend LokyBackend with 8 concurrent workers.\n"
     ]
    },
    {
     "name": "stdout",
     "output_type": "stream",
     "text": [
      "alpha: {'learning_rate': 0.4, 'loss': 'huber', 'max_depth': 2, 'n_estimators': 6}\n",
      "29 Oakland Raiders: 2013-11-01 00:00:00\n",
      "Fitting 5 folds for each of 550 candidates, totalling 2750 fits\n"
     ]
    },
    {
     "name": "stderr",
     "output_type": "stream",
     "text": [
      "[Parallel(n_jobs=-1)]: Done  16 tasks      | elapsed:    0.2s\n",
      "[Parallel(n_jobs=-1)]: Done 1576 tasks      | elapsed:    8.4s\n",
      "[Parallel(n_jobs=-1)]: Done 2750 out of 2750 | elapsed:   14.8s finished\n",
      "[Parallel(n_jobs=-1)]: Using backend LokyBackend with 8 concurrent workers.\n"
     ]
    },
    {
     "name": "stdout",
     "output_type": "stream",
     "text": [
      "alpha: {'learning_rate': 0.5, 'loss': 'huber', 'max_depth': 4, 'n_estimators': 4}\n",
      "29 Oakland Raiders: 2013-12-01 00:00:00\n",
      "Fitting 5 folds for each of 550 candidates, totalling 2750 fits\n"
     ]
    },
    {
     "name": "stderr",
     "output_type": "stream",
     "text": [
      "[Parallel(n_jobs=-1)]: Done  16 tasks      | elapsed:    0.2s\n",
      "[Parallel(n_jobs=-1)]: Done 1936 tasks      | elapsed:    9.8s\n",
      "[Parallel(n_jobs=-1)]: Done 2750 out of 2750 | elapsed:   14.2s finished\n",
      "[Parallel(n_jobs=-1)]: Using backend LokyBackend with 8 concurrent workers.\n"
     ]
    },
    {
     "name": "stdout",
     "output_type": "stream",
     "text": [
      "alpha: {'learning_rate': 0.2, 'loss': 'huber', 'max_depth': 2, 'n_estimators': 10}\n",
      "29 Oakland Raiders: 2014-09-01 00:00:00\n",
      "Fitting 5 folds for each of 550 candidates, totalling 2750 fits\n"
     ]
    },
    {
     "name": "stderr",
     "output_type": "stream",
     "text": [
      "[Parallel(n_jobs=-1)]: Done  16 tasks      | elapsed:    0.1s\n",
      "[Parallel(n_jobs=-1)]: Done 1648 tasks      | elapsed:    8.6s\n",
      "[Parallel(n_jobs=-1)]: Done 2750 out of 2750 | elapsed:   14.9s finished\n",
      "[Parallel(n_jobs=-1)]: Using backend LokyBackend with 8 concurrent workers.\n"
     ]
    },
    {
     "name": "stdout",
     "output_type": "stream",
     "text": [
      "alpha: {'learning_rate': 0.4, 'loss': 'huber', 'max_depth': 2, 'n_estimators': 6}\n",
      "29 Oakland Raiders: 2014-10-01 00:00:00\n",
      "Fitting 5 folds for each of 550 candidates, totalling 2750 fits\n"
     ]
    },
    {
     "name": "stderr",
     "output_type": "stream",
     "text": [
      "[Parallel(n_jobs=-1)]: Done  16 tasks      | elapsed:    0.2s\n",
      "[Parallel(n_jobs=-1)]: Done 1578 tasks      | elapsed:    8.1s\n",
      "[Parallel(n_jobs=-1)]: Done 2750 out of 2750 | elapsed:   14.7s finished\n",
      "[Parallel(n_jobs=-1)]: Using backend LokyBackend with 8 concurrent workers.\n"
     ]
    },
    {
     "name": "stdout",
     "output_type": "stream",
     "text": [
      "alpha: {'learning_rate': 0.3, 'loss': 'huber', 'max_depth': 2, 'n_estimators': 10}\n",
      "29 Oakland Raiders: 2014-11-01 00:00:00\n",
      "Fitting 5 folds for each of 550 candidates, totalling 2750 fits\n"
     ]
    },
    {
     "name": "stderr",
     "output_type": "stream",
     "text": [
      "[Parallel(n_jobs=-1)]: Done  16 tasks      | elapsed:    0.1s\n",
      "[Parallel(n_jobs=-1)]: Done 1456 tasks      | elapsed:    7.8s\n",
      "[Parallel(n_jobs=-1)]: Done 2750 out of 2750 | elapsed:   15.2s finished\n",
      "[Parallel(n_jobs=-1)]: Using backend LokyBackend with 8 concurrent workers.\n"
     ]
    },
    {
     "name": "stdout",
     "output_type": "stream",
     "text": [
      "alpha: {'learning_rate': 0.4, 'loss': 'huber', 'max_depth': 2, 'n_estimators': 8}\n",
      "29 Oakland Raiders: 2014-12-01 00:00:00\n",
      "Fitting 5 folds for each of 550 candidates, totalling 2750 fits\n"
     ]
    },
    {
     "name": "stderr",
     "output_type": "stream",
     "text": [
      "[Parallel(n_jobs=-1)]: Done  16 tasks      | elapsed:    0.2s\n",
      "[Parallel(n_jobs=-1)]: Done 1556 tasks      | elapsed:    8.6s\n",
      "[Parallel(n_jobs=-1)]: Done 2750 out of 2750 | elapsed:   15.2s finished\n",
      "[Parallel(n_jobs=-1)]: Using backend LokyBackend with 8 concurrent workers.\n"
     ]
    },
    {
     "name": "stdout",
     "output_type": "stream",
     "text": [
      "alpha: {'learning_rate': 0.6, 'loss': 'huber', 'max_depth': 8, 'n_estimators': 4}\n",
      "29 Oakland Raiders: 2015-09-01 00:00:00\n",
      "Fitting 5 folds for each of 550 candidates, totalling 2750 fits\n"
     ]
    },
    {
     "name": "stderr",
     "output_type": "stream",
     "text": [
      "[Parallel(n_jobs=-1)]: Done  16 tasks      | elapsed:    0.1s\n",
      "[Parallel(n_jobs=-1)]: Done 1578 tasks      | elapsed:    8.6s\n",
      "[Parallel(n_jobs=-1)]: Done 2750 out of 2750 | elapsed:   16.0s finished\n",
      "[Parallel(n_jobs=-1)]: Using backend LokyBackend with 8 concurrent workers.\n"
     ]
    },
    {
     "name": "stdout",
     "output_type": "stream",
     "text": [
      "alpha: {'learning_rate': 0.5, 'loss': 'huber', 'max_depth': 2, 'n_estimators': 2}\n",
      "29 Oakland Raiders: 2015-10-01 00:00:00\n",
      "Fitting 5 folds for each of 550 candidates, totalling 2750 fits\n"
     ]
    },
    {
     "name": "stderr",
     "output_type": "stream",
     "text": [
      "[Parallel(n_jobs=-1)]: Done  16 tasks      | elapsed:    0.2s\n",
      "[Parallel(n_jobs=-1)]: Done 1672 tasks      | elapsed:    8.8s\n",
      "[Parallel(n_jobs=-1)]: Done 2750 out of 2750 | elapsed:   14.8s finished\n",
      "[Parallel(n_jobs=-1)]: Using backend LokyBackend with 8 concurrent workers.\n"
     ]
    },
    {
     "name": "stdout",
     "output_type": "stream",
     "text": [
      "alpha: {'learning_rate': 0.2, 'loss': 'huber', 'max_depth': 2, 'n_estimators': 10}\n",
      "29 Oakland Raiders: 2015-11-01 00:00:00\n",
      "Fitting 5 folds for each of 550 candidates, totalling 2750 fits\n"
     ]
    },
    {
     "name": "stderr",
     "output_type": "stream",
     "text": [
      "[Parallel(n_jobs=-1)]: Done  16 tasks      | elapsed:    0.1s\n",
      "[Parallel(n_jobs=-1)]: Done 1672 tasks      | elapsed:    8.8s\n",
      "[Parallel(n_jobs=-1)]: Done 2750 out of 2750 | elapsed:   14.6s finished\n",
      "[Parallel(n_jobs=-1)]: Using backend LokyBackend with 8 concurrent workers.\n"
     ]
    },
    {
     "name": "stdout",
     "output_type": "stream",
     "text": [
      "alpha: {'learning_rate': 0.4, 'loss': 'huber', 'max_depth': 2, 'n_estimators': 4}\n",
      "29 Oakland Raiders: 2015-12-01 00:00:00\n",
      "Fitting 5 folds for each of 550 candidates, totalling 2750 fits\n"
     ]
    },
    {
     "name": "stderr",
     "output_type": "stream",
     "text": [
      "[Parallel(n_jobs=-1)]: Done  16 tasks      | elapsed:    0.2s\n",
      "[Parallel(n_jobs=-1)]: Done 1745 tasks      | elapsed:    9.1s\n",
      "[Parallel(n_jobs=-1)]: Done 2750 out of 2750 | elapsed:   14.4s finished\n",
      "[Parallel(n_jobs=-1)]: Using backend LokyBackend with 8 concurrent workers.\n"
     ]
    },
    {
     "name": "stdout",
     "output_type": "stream",
     "text": [
      "alpha: {'learning_rate': 0.3, 'loss': 'huber', 'max_depth': 2, 'n_estimators': 10}\n",
      "29 Oakland Raiders: 2016-09-01 00:00:00\n",
      "Fitting 5 folds for each of 550 candidates, totalling 2750 fits\n"
     ]
    },
    {
     "name": "stderr",
     "output_type": "stream",
     "text": [
      "[Parallel(n_jobs=-1)]: Done  16 tasks      | elapsed:    0.2s\n",
      "[Parallel(n_jobs=-1)]: Done 1684 tasks      | elapsed:    8.8s\n",
      "[Parallel(n_jobs=-1)]: Done 2750 out of 2750 | elapsed:   14.6s finished\n",
      "[Parallel(n_jobs=-1)]: Using backend LokyBackend with 8 concurrent workers.\n"
     ]
    },
    {
     "name": "stdout",
     "output_type": "stream",
     "text": [
      "alpha: {'learning_rate': 0.2, 'loss': 'huber', 'max_depth': 2, 'n_estimators': 4}\n",
      "29 Oakland Raiders: 2016-10-01 00:00:00\n",
      "Fitting 5 folds for each of 550 candidates, totalling 2750 fits\n"
     ]
    },
    {
     "name": "stderr",
     "output_type": "stream",
     "text": [
      "[Parallel(n_jobs=-1)]: Done  16 tasks      | elapsed:    0.2s\n",
      "[Parallel(n_jobs=-1)]: Done 1648 tasks      | elapsed:    7.9s\n",
      "[Parallel(n_jobs=-1)]: Done 2750 out of 2750 | elapsed:   13.7s finished\n",
      "[Parallel(n_jobs=-1)]: Using backend LokyBackend with 8 concurrent workers.\n"
     ]
    },
    {
     "name": "stdout",
     "output_type": "stream",
     "text": [
      "alpha: {'learning_rate': 0.3, 'loss': 'ls', 'max_depth': 2, 'n_estimators': 10}\n",
      "29 Oakland Raiders: 2016-11-01 00:00:00\n",
      "Fitting 5 folds for each of 550 candidates, totalling 2750 fits\n"
     ]
    },
    {
     "name": "stderr",
     "output_type": "stream",
     "text": [
      "[Parallel(n_jobs=-1)]: Done  16 tasks      | elapsed:    0.2s\n",
      "[Parallel(n_jobs=-1)]: Done 1930 tasks      | elapsed:    9.4s\n",
      "[Parallel(n_jobs=-1)]: Done 2750 out of 2750 | elapsed:   13.5s finished\n",
      "[Parallel(n_jobs=-1)]: Using backend LokyBackend with 8 concurrent workers.\n"
     ]
    },
    {
     "name": "stdout",
     "output_type": "stream",
     "text": [
      "alpha: {'learning_rate': 0.2, 'loss': 'huber', 'max_depth': 2, 'n_estimators': 10}\n",
      "29 Oakland Raiders: 2016-12-01 00:00:00\n",
      "Fitting 5 folds for each of 550 candidates, totalling 2750 fits\n"
     ]
    },
    {
     "name": "stderr",
     "output_type": "stream",
     "text": [
      "[Parallel(n_jobs=-1)]: Done  16 tasks      | elapsed:    0.1s\n",
      "[Parallel(n_jobs=-1)]: Done 1936 tasks      | elapsed:    9.4s\n",
      "[Parallel(n_jobs=-1)]: Done 2750 out of 2750 | elapsed:   13.6s finished\n",
      "[Parallel(n_jobs=-1)]: Using backend LokyBackend with 8 concurrent workers.\n"
     ]
    },
    {
     "name": "stdout",
     "output_type": "stream",
     "text": [
      "alpha: {'learning_rate': 0.4, 'loss': 'huber', 'max_depth': 2, 'n_estimators': 10}\n",
      "29 Oakland Raiders: 2017-09-01 00:00:00\n",
      "Fitting 5 folds for each of 550 candidates, totalling 2750 fits\n"
     ]
    },
    {
     "name": "stderr",
     "output_type": "stream",
     "text": [
      "[Parallel(n_jobs=-1)]: Done  16 tasks      | elapsed:    0.2s\n",
      "[Parallel(n_jobs=-1)]: Done 1828 tasks      | elapsed:    8.9s\n",
      "[Parallel(n_jobs=-1)]: Done 2750 out of 2750 | elapsed:   14.3s finished\n",
      "[Parallel(n_jobs=-1)]: Using backend LokyBackend with 8 concurrent workers.\n"
     ]
    },
    {
     "name": "stdout",
     "output_type": "stream",
     "text": [
      "alpha: {'learning_rate': 0.4, 'loss': 'ls', 'max_depth': 2, 'n_estimators': 6}\n",
      "29 Oakland Raiders: 2017-10-01 00:00:00\n",
      "Fitting 5 folds for each of 550 candidates, totalling 2750 fits\n"
     ]
    },
    {
     "name": "stderr",
     "output_type": "stream",
     "text": [
      "[Parallel(n_jobs=-1)]: Done  16 tasks      | elapsed:    0.2s\n",
      "[Parallel(n_jobs=-1)]: Done 1648 tasks      | elapsed:    8.2s\n",
      "[Parallel(n_jobs=-1)]: Done 2750 out of 2750 | elapsed:   14.0s finished\n",
      "[Parallel(n_jobs=-1)]: Using backend LokyBackend with 8 concurrent workers.\n"
     ]
    },
    {
     "name": "stdout",
     "output_type": "stream",
     "text": [
      "alpha: {'learning_rate': 0.2, 'loss': 'ls', 'max_depth': 8, 'n_estimators': 4}\n",
      "29 Oakland Raiders: 2017-11-01 00:00:00\n",
      "Fitting 5 folds for each of 550 candidates, totalling 2750 fits\n"
     ]
    },
    {
     "name": "stderr",
     "output_type": "stream",
     "text": [
      "[Parallel(n_jobs=-1)]: Done  16 tasks      | elapsed:    0.1s\n",
      "[Parallel(n_jobs=-1)]: Done 1919 tasks      | elapsed:    9.5s\n",
      "[Parallel(n_jobs=-1)]: Done 2750 out of 2750 | elapsed:   14.3s finished\n",
      "[Parallel(n_jobs=-1)]: Using backend LokyBackend with 8 concurrent workers.\n"
     ]
    },
    {
     "name": "stdout",
     "output_type": "stream",
     "text": [
      "alpha: {'learning_rate': 0.3, 'loss': 'huber', 'max_depth': 2, 'n_estimators': 8}\n",
      "29 Oakland Raiders: 2017-12-01 00:00:00\n",
      "Fitting 5 folds for each of 550 candidates, totalling 2750 fits\n"
     ]
    },
    {
     "name": "stderr",
     "output_type": "stream",
     "text": [
      "[Parallel(n_jobs=-1)]: Done  16 tasks      | elapsed:    0.2s\n",
      "[Parallel(n_jobs=-1)]: Done 1744 tasks      | elapsed:    9.7s\n",
      "[Parallel(n_jobs=-1)]: Done 2750 out of 2750 | elapsed:   15.1s finished\n",
      "[Parallel(n_jobs=-1)]: Using backend LokyBackend with 8 concurrent workers.\n"
     ]
    },
    {
     "name": "stdout",
     "output_type": "stream",
     "text": [
      "alpha: {'learning_rate': 0.3, 'loss': 'huber', 'max_depth': 2, 'n_estimators': 8}\n",
      "29 Oakland Raiders: 2018-09-01 00:00:00\n",
      "Fitting 5 folds for each of 550 candidates, totalling 2750 fits\n"
     ]
    },
    {
     "name": "stderr",
     "output_type": "stream",
     "text": [
      "[Parallel(n_jobs=-1)]: Done  16 tasks      | elapsed:    0.2s\n",
      "[Parallel(n_jobs=-1)]: Done 1545 tasks      | elapsed:    8.1s\n",
      "[Parallel(n_jobs=-1)]: Done 2750 out of 2750 | elapsed:   14.8s finished\n",
      "[Parallel(n_jobs=-1)]: Using backend LokyBackend with 8 concurrent workers.\n"
     ]
    },
    {
     "name": "stdout",
     "output_type": "stream",
     "text": [
      "alpha: {'learning_rate': 0.4, 'loss': 'ls', 'max_depth': 2, 'n_estimators': 8}\n",
      "29 Oakland Raiders: 2018-10-01 00:00:00\n",
      "Fitting 5 folds for each of 550 candidates, totalling 2750 fits\n"
     ]
    },
    {
     "name": "stderr",
     "output_type": "stream",
     "text": [
      "[Parallel(n_jobs=-1)]: Done  16 tasks      | elapsed:    0.2s\n",
      "[Parallel(n_jobs=-1)]: Done 1804 tasks      | elapsed:    8.6s\n",
      "[Parallel(n_jobs=-1)]: Done 2750 out of 2750 | elapsed:   13.5s finished\n",
      "[Parallel(n_jobs=-1)]: Using backend LokyBackend with 8 concurrent workers.\n"
     ]
    },
    {
     "name": "stdout",
     "output_type": "stream",
     "text": [
      "alpha: {'learning_rate': 0.5, 'loss': 'ls', 'max_depth': 2, 'n_estimators': 4}\n",
      "29 Oakland Raiders: 2018-11-01 00:00:00\n",
      "Fitting 5 folds for each of 550 candidates, totalling 2750 fits\n"
     ]
    },
    {
     "name": "stderr",
     "output_type": "stream",
     "text": [
      "[Parallel(n_jobs=-1)]: Done  16 tasks      | elapsed:    0.2s\n",
      "[Parallel(n_jobs=-1)]: Done 1556 tasks      | elapsed:    7.6s\n",
      "[Parallel(n_jobs=-1)]: Done 2750 out of 2750 | elapsed:   13.9s finished\n",
      "[Parallel(n_jobs=-1)]: Using backend LokyBackend with 8 concurrent workers.\n"
     ]
    },
    {
     "name": "stdout",
     "output_type": "stream",
     "text": [
      "alpha: {'learning_rate': 0.4, 'loss': 'ls', 'max_depth': 2, 'n_estimators': 10}\n",
      "29 Oakland Raiders: 2018-12-01 00:00:00\n",
      "Fitting 5 folds for each of 550 candidates, totalling 2750 fits\n"
     ]
    },
    {
     "name": "stderr",
     "output_type": "stream",
     "text": [
      "[Parallel(n_jobs=-1)]: Done  16 tasks      | elapsed:    0.2s\n",
      "[Parallel(n_jobs=-1)]: Done 1930 tasks      | elapsed:    9.5s\n",
      "[Parallel(n_jobs=-1)]: Done 2750 out of 2750 | elapsed:   14.1s finished\n",
      "[Parallel(n_jobs=-1)]: Using backend LokyBackend with 8 concurrent workers.\n"
     ]
    },
    {
     "name": "stdout",
     "output_type": "stream",
     "text": [
      "alpha: {'learning_rate': 0.4, 'loss': 'huber', 'max_depth': 4, 'n_estimators': 4}\n",
      "29 Oakland Raiders: 2019-09-01 00:00:00\n",
      "Fitting 5 folds for each of 550 candidates, totalling 2750 fits\n"
     ]
    },
    {
     "name": "stderr",
     "output_type": "stream",
     "text": [
      "[Parallel(n_jobs=-1)]: Done  16 tasks      | elapsed:    0.1s\n",
      "[Parallel(n_jobs=-1)]: Done 1578 tasks      | elapsed:    7.8s\n",
      "[Parallel(n_jobs=-1)]: Done 2750 out of 2750 | elapsed:   14.3s finished\n",
      "[Parallel(n_jobs=-1)]: Using backend LokyBackend with 8 concurrent workers.\n"
     ]
    },
    {
     "name": "stdout",
     "output_type": "stream",
     "text": [
      "alpha: {'learning_rate': 0.4, 'loss': 'huber', 'max_depth': 2, 'n_estimators': 10}\n",
      "29 Oakland Raiders: 2019-10-01 00:00:00\n",
      "Fitting 5 folds for each of 550 candidates, totalling 2750 fits\n"
     ]
    },
    {
     "name": "stderr",
     "output_type": "stream",
     "text": [
      "[Parallel(n_jobs=-1)]: Done  16 tasks      | elapsed:    0.2s\n",
      "[Parallel(n_jobs=-1)]: Done 1588 tasks      | elapsed:    8.9s\n",
      "[Parallel(n_jobs=-1)]: Done 2750 out of 2750 | elapsed:   15.2s finished\n",
      "[Parallel(n_jobs=-1)]: Using backend LokyBackend with 8 concurrent workers.\n"
     ]
    },
    {
     "name": "stdout",
     "output_type": "stream",
     "text": [
      "alpha: {'learning_rate': 0.15, 'loss': 'ls', 'max_depth': 4, 'n_estimators': 10}\n",
      "29 Oakland Raiders: 2019-11-01 00:00:00\n",
      "Fitting 5 folds for each of 550 candidates, totalling 2750 fits\n"
     ]
    },
    {
     "name": "stderr",
     "output_type": "stream",
     "text": [
      "[Parallel(n_jobs=-1)]: Done  16 tasks      | elapsed:    0.1s\n",
      "[Parallel(n_jobs=-1)]: Done 1648 tasks      | elapsed:    8.3s\n",
      "[Parallel(n_jobs=-1)]: Done 2750 out of 2750 | elapsed:   14.4s finished\n",
      "[Parallel(n_jobs=-1)]: Using backend LokyBackend with 8 concurrent workers.\n"
     ]
    },
    {
     "name": "stdout",
     "output_type": "stream",
     "text": [
      "alpha: {'learning_rate': 0.2, 'loss': 'ls', 'max_depth': 2, 'n_estimators': 10}\n",
      "29 Oakland Raiders: 2019-12-01 00:00:00\n",
      "Fitting 5 folds for each of 550 candidates, totalling 2750 fits\n"
     ]
    },
    {
     "name": "stderr",
     "output_type": "stream",
     "text": [
      "[Parallel(n_jobs=-1)]: Done  16 tasks      | elapsed:    0.2s\n",
      "[Parallel(n_jobs=-1)]: Done 1878 tasks      | elapsed:    9.3s\n",
      "[Parallel(n_jobs=-1)]: Done 2750 out of 2750 | elapsed:   14.1s finished\n",
      "[Parallel(n_jobs=-1)]: Using backend LokyBackend with 8 concurrent workers.\n"
     ]
    },
    {
     "name": "stdout",
     "output_type": "stream",
     "text": [
      "alpha: {'learning_rate': 0.3, 'loss': 'ls', 'max_depth': 2, 'n_estimators': 10}\n",
      "30 Minnesota Vikings: 2012-09-01 00:00:00\n",
      "Fitting 5 folds for each of 550 candidates, totalling 2750 fits\n"
     ]
    },
    {
     "name": "stderr",
     "output_type": "stream",
     "text": [
      "[Parallel(n_jobs=-1)]: Done  16 tasks      | elapsed:    0.1s\n",
      "[Parallel(n_jobs=-1)]: Done 1744 tasks      | elapsed:    9.0s\n",
      "[Parallel(n_jobs=-1)]: Done 2750 out of 2750 | elapsed:   14.6s finished\n",
      "[Parallel(n_jobs=-1)]: Using backend LokyBackend with 8 concurrent workers.\n"
     ]
    },
    {
     "name": "stdout",
     "output_type": "stream",
     "text": [
      "alpha: {'learning_rate': 0.4, 'loss': 'ls', 'max_depth': 2, 'n_estimators': 8}\n",
      "30 Minnesota Vikings: 2012-10-01 00:00:00\n",
      "Fitting 5 folds for each of 550 candidates, totalling 2750 fits\n"
     ]
    },
    {
     "name": "stderr",
     "output_type": "stream",
     "text": [
      "[Parallel(n_jobs=-1)]: Done  16 tasks      | elapsed:    0.1s\n",
      "[Parallel(n_jobs=-1)]: Done 1576 tasks      | elapsed:    8.6s\n",
      "[Parallel(n_jobs=-1)]: Done 2750 out of 2750 | elapsed:   15.2s finished\n",
      "[Parallel(n_jobs=-1)]: Using backend LokyBackend with 8 concurrent workers.\n"
     ]
    },
    {
     "name": "stdout",
     "output_type": "stream",
     "text": [
      "alpha: {'learning_rate': 0.6, 'loss': 'ls', 'max_depth': 2, 'n_estimators': 4}\n",
      "30 Minnesota Vikings: 2012-11-01 00:00:00\n",
      "Fitting 5 folds for each of 550 candidates, totalling 2750 fits\n"
     ]
    },
    {
     "name": "stderr",
     "output_type": "stream",
     "text": [
      "[Parallel(n_jobs=-1)]: Done  16 tasks      | elapsed:    0.1s\n",
      "[Parallel(n_jobs=-1)]: Done 1168 tasks      | elapsed:    6.2s\n",
      "[Parallel(n_jobs=-1)]: Done 2750 out of 2750 | elapsed:   15.1s finished\n",
      "[Parallel(n_jobs=-1)]: Using backend LokyBackend with 8 concurrent workers.\n"
     ]
    },
    {
     "name": "stdout",
     "output_type": "stream",
     "text": [
      "alpha: {'learning_rate': 0.3, 'loss': 'ls', 'max_depth': 2, 'n_estimators': 10}\n",
      "30 Minnesota Vikings: 2012-12-01 00:00:00\n",
      "Fitting 5 folds for each of 550 candidates, totalling 2750 fits\n"
     ]
    },
    {
     "name": "stderr",
     "output_type": "stream",
     "text": [
      "[Parallel(n_jobs=-1)]: Done  16 tasks      | elapsed:    0.1s\n",
      "[Parallel(n_jobs=-1)]: Done 1567 tasks      | elapsed:    7.9s\n",
      "[Parallel(n_jobs=-1)]: Done 2750 out of 2750 | elapsed:   14.4s finished\n",
      "[Parallel(n_jobs=-1)]: Using backend LokyBackend with 8 concurrent workers.\n"
     ]
    },
    {
     "name": "stdout",
     "output_type": "stream",
     "text": [
      "alpha: {'learning_rate': 0.4, 'loss': 'huber', 'max_depth': 2, 'n_estimators': 8}\n",
      "30 Minnesota Vikings: 2013-09-01 00:00:00\n",
      "Fitting 5 folds for each of 550 candidates, totalling 2750 fits\n"
     ]
    },
    {
     "name": "stderr",
     "output_type": "stream",
     "text": [
      "[Parallel(n_jobs=-1)]: Done  16 tasks      | elapsed:    0.2s\n",
      "[Parallel(n_jobs=-1)]: Done 1648 tasks      | elapsed:    8.4s\n",
      "[Parallel(n_jobs=-1)]: Done 2750 out of 2750 | elapsed:   14.5s finished\n",
      "[Parallel(n_jobs=-1)]: Using backend LokyBackend with 8 concurrent workers.\n"
     ]
    },
    {
     "name": "stdout",
     "output_type": "stream",
     "text": [
      "alpha: {'learning_rate': 0.4, 'loss': 'huber', 'max_depth': 2, 'n_estimators': 8}\n",
      "30 Minnesota Vikings: 2013-10-01 00:00:00\n",
      "Fitting 5 folds for each of 550 candidates, totalling 2750 fits\n"
     ]
    },
    {
     "name": "stderr",
     "output_type": "stream",
     "text": [
      "[Parallel(n_jobs=-1)]: Done  16 tasks      | elapsed:    0.2s\n",
      "[Parallel(n_jobs=-1)]: Done 1612 tasks      | elapsed:    9.6s\n",
      "[Parallel(n_jobs=-1)]: Done 2750 out of 2750 | elapsed:   16.1s finished\n",
      "[Parallel(n_jobs=-1)]: Using backend LokyBackend with 8 concurrent workers.\n"
     ]
    },
    {
     "name": "stdout",
     "output_type": "stream",
     "text": [
      "alpha: {'learning_rate': 0.6, 'loss': 'huber', 'max_depth': 2, 'n_estimators': 10}\n",
      "30 Minnesota Vikings: 2013-11-01 00:00:00\n",
      "Fitting 5 folds for each of 550 candidates, totalling 2750 fits\n"
     ]
    },
    {
     "name": "stderr",
     "output_type": "stream",
     "text": [
      "[Parallel(n_jobs=-1)]: Done  16 tasks      | elapsed:    0.2s\n",
      "[Parallel(n_jobs=-1)]: Done 1648 tasks      | elapsed:    8.4s\n",
      "[Parallel(n_jobs=-1)]: Done 2750 out of 2750 | elapsed:   14.5s finished\n",
      "[Parallel(n_jobs=-1)]: Using backend LokyBackend with 8 concurrent workers.\n"
     ]
    },
    {
     "name": "stdout",
     "output_type": "stream",
     "text": [
      "alpha: {'learning_rate': 0.3, 'loss': 'ls', 'max_depth': 2, 'n_estimators': 10}\n",
      "30 Minnesota Vikings: 2013-12-01 00:00:00\n",
      "Fitting 5 folds for each of 550 candidates, totalling 2750 fits\n"
     ]
    },
    {
     "name": "stderr",
     "output_type": "stream",
     "text": [
      "[Parallel(n_jobs=-1)]: Done  16 tasks      | elapsed:    0.2s\n",
      "[Parallel(n_jobs=-1)]: Done 1660 tasks      | elapsed:    8.2s\n",
      "[Parallel(n_jobs=-1)]: Done 2750 out of 2750 | elapsed:   14.2s finished\n",
      "[Parallel(n_jobs=-1)]: Using backend LokyBackend with 8 concurrent workers.\n"
     ]
    },
    {
     "name": "stdout",
     "output_type": "stream",
     "text": [
      "alpha: {'learning_rate': 0.2, 'loss': 'ls', 'max_depth': 2, 'n_estimators': 10}\n",
      "30 Minnesota Vikings: 2014-09-01 00:00:00\n",
      "Fitting 5 folds for each of 550 candidates, totalling 2750 fits\n"
     ]
    },
    {
     "name": "stderr",
     "output_type": "stream",
     "text": [
      "[Parallel(n_jobs=-1)]: Done  16 tasks      | elapsed:    0.2s\n",
      "[Parallel(n_jobs=-1)]: Done 1648 tasks      | elapsed:    8.3s\n",
      "[Parallel(n_jobs=-1)]: Done 2750 out of 2750 | elapsed:   14.6s finished\n",
      "[Parallel(n_jobs=-1)]: Using backend LokyBackend with 8 concurrent workers.\n"
     ]
    },
    {
     "name": "stdout",
     "output_type": "stream",
     "text": [
      "alpha: {'learning_rate': 0.3, 'loss': 'huber', 'max_depth': 2, 'n_estimators': 8}\n",
      "30 Minnesota Vikings: 2014-10-01 00:00:00\n",
      "Fitting 5 folds for each of 550 candidates, totalling 2750 fits\n"
     ]
    },
    {
     "name": "stderr",
     "output_type": "stream",
     "text": [
      "[Parallel(n_jobs=-1)]: Done  16 tasks      | elapsed:    0.2s\n",
      "[Parallel(n_jobs=-1)]: Done 1479 tasks      | elapsed:    8.3s\n",
      "[Parallel(n_jobs=-1)]: Done 2750 out of 2750 | elapsed:   15.0s finished\n",
      "[Parallel(n_jobs=-1)]: Using backend LokyBackend with 8 concurrent workers.\n"
     ]
    },
    {
     "name": "stdout",
     "output_type": "stream",
     "text": [
      "alpha: {'learning_rate': 0.4, 'loss': 'huber', 'max_depth': 2, 'n_estimators': 10}\n",
      "30 Minnesota Vikings: 2014-11-01 00:00:00\n",
      "Fitting 5 folds for each of 550 candidates, totalling 2750 fits\n"
     ]
    },
    {
     "name": "stderr",
     "output_type": "stream",
     "text": [
      "[Parallel(n_jobs=-1)]: Done  16 tasks      | elapsed:    0.2s\n",
      "[Parallel(n_jobs=-1)]: Done 1684 tasks      | elapsed:    8.7s\n",
      "[Parallel(n_jobs=-1)]: Done 2750 out of 2750 | elapsed:   14.8s finished\n",
      "[Parallel(n_jobs=-1)]: Using backend LokyBackend with 8 concurrent workers.\n"
     ]
    },
    {
     "name": "stdout",
     "output_type": "stream",
     "text": [
      "alpha: {'learning_rate': 0.15, 'loss': 'huber', 'max_depth': 2, 'n_estimators': 8}\n",
      "30 Minnesota Vikings: 2014-12-01 00:00:00\n",
      "Fitting 5 folds for each of 550 candidates, totalling 2750 fits\n"
     ]
    },
    {
     "name": "stderr",
     "output_type": "stream",
     "text": [
      "[Parallel(n_jobs=-1)]: Done  16 tasks      | elapsed:    0.2s\n",
      "[Parallel(n_jobs=-1)]: Done 1648 tasks      | elapsed:    8.7s\n",
      "[Parallel(n_jobs=-1)]: Done 2750 out of 2750 | elapsed:   16.3s finished\n",
      "[Parallel(n_jobs=-1)]: Using backend LokyBackend with 8 concurrent workers.\n"
     ]
    },
    {
     "name": "stdout",
     "output_type": "stream",
     "text": [
      "alpha: {'learning_rate': 0.4, 'loss': 'huber', 'max_depth': 2, 'n_estimators': 2}\n",
      "30 Minnesota Vikings: 2015-09-01 00:00:00\n",
      "Fitting 5 folds for each of 550 candidates, totalling 2750 fits\n"
     ]
    },
    {
     "name": "stderr",
     "output_type": "stream",
     "text": [
      "[Parallel(n_jobs=-1)]: Done  16 tasks      | elapsed:    0.2s\n",
      "[Parallel(n_jobs=-1)]: Done 1745 tasks      | elapsed:    8.9s\n",
      "[Parallel(n_jobs=-1)]: Done 2750 out of 2750 | elapsed:   14.2s finished\n",
      "[Parallel(n_jobs=-1)]: Using backend LokyBackend with 8 concurrent workers.\n"
     ]
    },
    {
     "name": "stdout",
     "output_type": "stream",
     "text": [
      "alpha: {'learning_rate': 0.3, 'loss': 'huber', 'max_depth': 2, 'n_estimators': 4}\n",
      "30 Minnesota Vikings: 2015-10-01 00:00:00\n",
      "Fitting 5 folds for each of 550 candidates, totalling 2750 fits\n"
     ]
    },
    {
     "name": "stderr",
     "output_type": "stream",
     "text": [
      "[Parallel(n_jobs=-1)]: Done  16 tasks      | elapsed:    0.2s\n",
      "[Parallel(n_jobs=-1)]: Done 1556 tasks      | elapsed:    8.8s\n",
      "[Parallel(n_jobs=-1)]: Done 2750 out of 2750 | elapsed:   15.4s finished\n",
      "[Parallel(n_jobs=-1)]: Using backend LokyBackend with 8 concurrent workers.\n"
     ]
    },
    {
     "name": "stdout",
     "output_type": "stream",
     "text": [
      "alpha: {'learning_rate': 0.15, 'loss': 'ls', 'max_depth': 2, 'n_estimators': 6}\n",
      "30 Minnesota Vikings: 2015-11-01 00:00:00\n",
      "Fitting 5 folds for each of 550 candidates, totalling 2750 fits\n"
     ]
    },
    {
     "name": "stderr",
     "output_type": "stream",
     "text": [
      "[Parallel(n_jobs=-1)]: Done  16 tasks      | elapsed:    0.2s\n",
      "[Parallel(n_jobs=-1)]: Done 1578 tasks      | elapsed:    8.0s\n",
      "[Parallel(n_jobs=-1)]: Done 2750 out of 2750 | elapsed:   14.6s finished\n",
      "[Parallel(n_jobs=-1)]: Using backend LokyBackend with 8 concurrent workers.\n"
     ]
    },
    {
     "name": "stdout",
     "output_type": "stream",
     "text": [
      "alpha: {'learning_rate': 0.15, 'loss': 'ls', 'max_depth': 2, 'n_estimators': 8}\n",
      "30 Minnesota Vikings: 2015-12-01 00:00:00\n",
      "Fitting 5 folds for each of 550 candidates, totalling 2750 fits\n"
     ]
    },
    {
     "name": "stderr",
     "output_type": "stream",
     "text": [
      "[Parallel(n_jobs=-1)]: Done  16 tasks      | elapsed:    0.2s\n",
      "[Parallel(n_jobs=-1)]: Done 1936 tasks      | elapsed:   10.3s\n",
      "[Parallel(n_jobs=-1)]: Done 2750 out of 2750 | elapsed:   14.9s finished\n",
      "[Parallel(n_jobs=-1)]: Using backend LokyBackend with 8 concurrent workers.\n"
     ]
    },
    {
     "name": "stdout",
     "output_type": "stream",
     "text": [
      "alpha: {'learning_rate': 0.2, 'loss': 'huber', 'max_depth': 2, 'n_estimators': 6}\n",
      "30 Minnesota Vikings: 2016-09-01 00:00:00\n",
      "Fitting 5 folds for each of 550 candidates, totalling 2750 fits\n"
     ]
    },
    {
     "name": "stderr",
     "output_type": "stream",
     "text": [
      "[Parallel(n_jobs=-1)]: Done  16 tasks      | elapsed:    0.1s\n",
      "[Parallel(n_jobs=-1)]: Done 1567 tasks      | elapsed:    8.1s\n",
      "[Parallel(n_jobs=-1)]: Done 2750 out of 2750 | elapsed:   14.8s finished\n",
      "[Parallel(n_jobs=-1)]: Using backend LokyBackend with 8 concurrent workers.\n"
     ]
    },
    {
     "name": "stdout",
     "output_type": "stream",
     "text": [
      "alpha: {'learning_rate': 0.5, 'loss': 'huber', 'max_depth': 4, 'n_estimators': 2}\n",
      "30 Minnesota Vikings: 2016-10-01 00:00:00\n",
      "Fitting 5 folds for each of 550 candidates, totalling 2750 fits\n"
     ]
    },
    {
     "name": "stderr",
     "output_type": "stream",
     "text": [
      "[Parallel(n_jobs=-1)]: Done  16 tasks      | elapsed:    0.3s\n",
      "[Parallel(n_jobs=-1)]: Done 1648 tasks      | elapsed:    8.4s\n",
      "[Parallel(n_jobs=-1)]: Done 2750 out of 2750 | elapsed:   14.4s finished\n",
      "[Parallel(n_jobs=-1)]: Using backend LokyBackend with 8 concurrent workers.\n"
     ]
    },
    {
     "name": "stdout",
     "output_type": "stream",
     "text": [
      "alpha: {'learning_rate': 0.4, 'loss': 'huber', 'max_depth': 2, 'n_estimators': 2}\n",
      "30 Minnesota Vikings: 2016-11-01 00:00:00\n",
      "Fitting 5 folds for each of 550 candidates, totalling 2750 fits\n"
     ]
    },
    {
     "name": "stderr",
     "output_type": "stream",
     "text": [
      "[Parallel(n_jobs=-1)]: Done  16 tasks      | elapsed:    0.1s\n",
      "[Parallel(n_jobs=-1)]: Done 1672 tasks      | elapsed:    8.8s\n",
      "[Parallel(n_jobs=-1)]: Done 2750 out of 2750 | elapsed:   14.7s finished\n",
      "[Parallel(n_jobs=-1)]: Using backend LokyBackend with 8 concurrent workers.\n"
     ]
    },
    {
     "name": "stdout",
     "output_type": "stream",
     "text": [
      "alpha: {'learning_rate': 0.2, 'loss': 'huber', 'max_depth': 2, 'n_estimators': 10}\n",
      "30 Minnesota Vikings: 2016-12-01 00:00:00\n",
      "Fitting 5 folds for each of 550 candidates, totalling 2750 fits\n"
     ]
    },
    {
     "name": "stderr",
     "output_type": "stream",
     "text": [
      "[Parallel(n_jobs=-1)]: Done  16 tasks      | elapsed:    0.2s\n",
      "[Parallel(n_jobs=-1)]: Done 1545 tasks      | elapsed:    8.3s\n",
      "[Parallel(n_jobs=-1)]: Done 2750 out of 2750 | elapsed:   15.3s finished\n",
      "[Parallel(n_jobs=-1)]: Using backend LokyBackend with 8 concurrent workers.\n"
     ]
    },
    {
     "name": "stdout",
     "output_type": "stream",
     "text": [
      "alpha: {'learning_rate': 0.15, 'loss': 'ls', 'max_depth': 2, 'n_estimators': 10}\n",
      "30 Minnesota Vikings: 2017-09-01 00:00:00\n",
      "Fitting 5 folds for each of 550 candidates, totalling 2750 fits\n"
     ]
    },
    {
     "name": "stderr",
     "output_type": "stream",
     "text": [
      "[Parallel(n_jobs=-1)]: Done  16 tasks      | elapsed:    0.2s\n",
      "[Parallel(n_jobs=-1)]: Done 1552 tasks      | elapsed:    8.3s\n",
      "[Parallel(n_jobs=-1)]: Done 2750 out of 2750 | elapsed:   15.4s finished\n",
      "[Parallel(n_jobs=-1)]: Using backend LokyBackend with 8 concurrent workers.\n"
     ]
    },
    {
     "name": "stdout",
     "output_type": "stream",
     "text": [
      "alpha: {'learning_rate': 0.4, 'loss': 'huber', 'max_depth': 2, 'n_estimators': 4}\n",
      "30 Minnesota Vikings: 2017-10-01 00:00:00\n",
      "Fitting 5 folds for each of 550 candidates, totalling 2750 fits\n"
     ]
    },
    {
     "name": "stderr",
     "output_type": "stream",
     "text": [
      "[Parallel(n_jobs=-1)]: Done  16 tasks      | elapsed:    0.2s\n",
      "[Parallel(n_jobs=-1)]: Done 1545 tasks      | elapsed:    9.3s\n",
      "[Parallel(n_jobs=-1)]: Done 2750 out of 2750 | elapsed:   16.0s finished\n",
      "[Parallel(n_jobs=-1)]: Using backend LokyBackend with 8 concurrent workers.\n"
     ]
    },
    {
     "name": "stdout",
     "output_type": "stream",
     "text": [
      "alpha: {'learning_rate': 0.3, 'loss': 'huber', 'max_depth': 2, 'n_estimators': 8}\n",
      "30 Minnesota Vikings: 2017-11-01 00:00:00\n",
      "Fitting 5 folds for each of 550 candidates, totalling 2750 fits\n"
     ]
    },
    {
     "name": "stderr",
     "output_type": "stream",
     "text": [
      "[Parallel(n_jobs=-1)]: Done  16 tasks      | elapsed:    0.2s\n",
      "[Parallel(n_jobs=-1)]: Done 1567 tasks      | elapsed:    8.0s\n",
      "[Parallel(n_jobs=-1)]: Done 2750 out of 2750 | elapsed:   14.3s finished\n",
      "[Parallel(n_jobs=-1)]: Using backend LokyBackend with 8 concurrent workers.\n"
     ]
    },
    {
     "name": "stdout",
     "output_type": "stream",
     "text": [
      "alpha: {'learning_rate': 0.5, 'loss': 'ls', 'max_depth': 2, 'n_estimators': 4}\n",
      "30 Minnesota Vikings: 2017-12-01 00:00:00\n",
      "Fitting 5 folds for each of 550 candidates, totalling 2750 fits\n"
     ]
    },
    {
     "name": "stderr",
     "output_type": "stream",
     "text": [
      "[Parallel(n_jobs=-1)]: Done  16 tasks      | elapsed:    0.1s\n",
      "[Parallel(n_jobs=-1)]: Done 1168 tasks      | elapsed:    5.9s\n",
      "[Parallel(n_jobs=-1)]: Done 2750 out of 2750 | elapsed:   14.2s finished\n",
      "[Parallel(n_jobs=-1)]: Using backend LokyBackend with 8 concurrent workers.\n"
     ]
    },
    {
     "name": "stdout",
     "output_type": "stream",
     "text": [
      "alpha: {'learning_rate': 0.6, 'loss': 'ls', 'max_depth': 2, 'n_estimators': 2}\n",
      "30 Minnesota Vikings: 2018-09-01 00:00:00\n",
      "Fitting 5 folds for each of 550 candidates, totalling 2750 fits\n"
     ]
    },
    {
     "name": "stderr",
     "output_type": "stream",
     "text": [
      "[Parallel(n_jobs=-1)]: Done  16 tasks      | elapsed:    0.1s\n",
      "[Parallel(n_jobs=-1)]: Done 1545 tasks      | elapsed:    8.0s\n",
      "[Parallel(n_jobs=-1)]: Done 2750 out of 2750 | elapsed:   14.4s finished\n",
      "[Parallel(n_jobs=-1)]: Using backend LokyBackend with 8 concurrent workers.\n"
     ]
    },
    {
     "name": "stdout",
     "output_type": "stream",
     "text": [
      "alpha: {'learning_rate': 0.3, 'loss': 'huber', 'max_depth': 4, 'n_estimators': 4}\n",
      "30 Minnesota Vikings: 2018-10-01 00:00:00\n",
      "Fitting 5 folds for each of 550 candidates, totalling 2750 fits\n"
     ]
    },
    {
     "name": "stderr",
     "output_type": "stream",
     "text": [
      "[Parallel(n_jobs=-1)]: Done  16 tasks      | elapsed:    0.2s\n",
      "[Parallel(n_jobs=-1)]: Done 1636 tasks      | elapsed:    8.6s\n",
      "[Parallel(n_jobs=-1)]: Done 2750 out of 2750 | elapsed:   14.8s finished\n",
      "[Parallel(n_jobs=-1)]: Using backend LokyBackend with 8 concurrent workers.\n"
     ]
    },
    {
     "name": "stdout",
     "output_type": "stream",
     "text": [
      "alpha: {'learning_rate': 0.3, 'loss': 'huber', 'max_depth': 2, 'n_estimators': 10}\n",
      "30 Minnesota Vikings: 2018-11-01 00:00:00\n",
      "Fitting 5 folds for each of 550 candidates, totalling 2750 fits\n"
     ]
    },
    {
     "name": "stderr",
     "output_type": "stream",
     "text": [
      "[Parallel(n_jobs=-1)]: Done  16 tasks      | elapsed:    0.2s\n",
      "[Parallel(n_jobs=-1)]: Done 1672 tasks      | elapsed:    8.7s\n",
      "[Parallel(n_jobs=-1)]: Done 2750 out of 2750 | elapsed:   14.6s finished\n",
      "[Parallel(n_jobs=-1)]: Using backend LokyBackend with 8 concurrent workers.\n"
     ]
    },
    {
     "name": "stdout",
     "output_type": "stream",
     "text": [
      "alpha: {'learning_rate': 0.3, 'loss': 'ls', 'max_depth': 2, 'n_estimators': 4}\n",
      "30 Minnesota Vikings: 2018-12-01 00:00:00\n",
      "Fitting 5 folds for each of 550 candidates, totalling 2750 fits\n"
     ]
    },
    {
     "name": "stderr",
     "output_type": "stream",
     "text": [
      "[Parallel(n_jobs=-1)]: Done  16 tasks      | elapsed:    0.1s\n",
      "[Parallel(n_jobs=-1)]: Done 1567 tasks      | elapsed:    8.3s\n",
      "[Parallel(n_jobs=-1)]: Done 2750 out of 2750 | elapsed:   14.9s finished\n",
      "[Parallel(n_jobs=-1)]: Using backend LokyBackend with 8 concurrent workers.\n"
     ]
    },
    {
     "name": "stdout",
     "output_type": "stream",
     "text": [
      "alpha: {'learning_rate': 0.4, 'loss': 'huber', 'max_depth': 2, 'n_estimators': 4}\n",
      "30 Minnesota Vikings: 2019-09-01 00:00:00\n",
      "Fitting 5 folds for each of 550 candidates, totalling 2750 fits\n"
     ]
    },
    {
     "name": "stderr",
     "output_type": "stream",
     "text": [
      "[Parallel(n_jobs=-1)]: Done  16 tasks      | elapsed:    0.1s\n",
      "[Parallel(n_jobs=-1)]: Done 1648 tasks      | elapsed:    8.5s\n",
      "[Parallel(n_jobs=-1)]: Done 2750 out of 2750 | elapsed:   14.8s finished\n",
      "[Parallel(n_jobs=-1)]: Using backend LokyBackend with 8 concurrent workers.\n"
     ]
    },
    {
     "name": "stdout",
     "output_type": "stream",
     "text": [
      "alpha: {'learning_rate': 0.5, 'loss': 'ls', 'max_depth': 2, 'n_estimators': 10}\n",
      "30 Minnesota Vikings: 2019-10-01 00:00:00\n",
      "Fitting 5 folds for each of 550 candidates, totalling 2750 fits\n"
     ]
    },
    {
     "name": "stderr",
     "output_type": "stream",
     "text": [
      "[Parallel(n_jobs=-1)]: Done  16 tasks      | elapsed:    0.1s\n",
      "[Parallel(n_jobs=-1)]: Done 1479 tasks      | elapsed:    9.1s\n",
      "[Parallel(n_jobs=-1)]: Done 2750 out of 2750 | elapsed:   16.3s finished\n",
      "[Parallel(n_jobs=-1)]: Using backend LokyBackend with 8 concurrent workers.\n"
     ]
    },
    {
     "name": "stdout",
     "output_type": "stream",
     "text": [
      "alpha: {'learning_rate': 0.2, 'loss': 'huber', 'max_depth': 2, 'n_estimators': 10}\n",
      "30 Minnesota Vikings: 2019-11-01 00:00:00\n",
      "Fitting 5 folds for each of 550 candidates, totalling 2750 fits\n"
     ]
    },
    {
     "name": "stderr",
     "output_type": "stream",
     "text": [
      "[Parallel(n_jobs=-1)]: Done  16 tasks      | elapsed:    0.1s\n",
      "[Parallel(n_jobs=-1)]: Done 1545 tasks      | elapsed:    8.0s\n",
      "[Parallel(n_jobs=-1)]: Done 2750 out of 2750 | elapsed:   14.7s finished\n",
      "[Parallel(n_jobs=-1)]: Using backend LokyBackend with 8 concurrent workers.\n"
     ]
    },
    {
     "name": "stdout",
     "output_type": "stream",
     "text": [
      "alpha: {'learning_rate': 0.5, 'loss': 'huber', 'max_depth': 4, 'n_estimators': 4}\n",
      "30 Minnesota Vikings: 2019-12-01 00:00:00\n",
      "Fitting 5 folds for each of 550 candidates, totalling 2750 fits\n"
     ]
    },
    {
     "name": "stderr",
     "output_type": "stream",
     "text": [
      "[Parallel(n_jobs=-1)]: Done  16 tasks      | elapsed:    0.1s\n",
      "[Parallel(n_jobs=-1)]: Done 1168 tasks      | elapsed:    6.1s\n",
      "[Parallel(n_jobs=-1)]: Done 2750 out of 2750 | elapsed:   14.8s finished\n",
      "[Parallel(n_jobs=-1)]: Using backend LokyBackend with 8 concurrent workers.\n"
     ]
    },
    {
     "name": "stdout",
     "output_type": "stream",
     "text": [
      "alpha: {'learning_rate': 0.2, 'loss': 'ls', 'max_depth': 2, 'n_estimators': 10}\n",
      "31 Washington Redskins: 2012-09-01 00:00:00\n",
      "Fitting 5 folds for each of 550 candidates, totalling 2750 fits\n"
     ]
    },
    {
     "name": "stderr",
     "output_type": "stream",
     "text": [
      "[Parallel(n_jobs=-1)]: Done  16 tasks      | elapsed:    0.2s\n",
      "[Parallel(n_jobs=-1)]: Done 1936 tasks      | elapsed:    9.4s\n",
      "[Parallel(n_jobs=-1)]: Done 2750 out of 2750 | elapsed:   13.6s finished\n",
      "[Parallel(n_jobs=-1)]: Using backend LokyBackend with 8 concurrent workers.\n"
     ]
    },
    {
     "name": "stdout",
     "output_type": "stream",
     "text": [
      "alpha: {'learning_rate': 0.2, 'loss': 'ls', 'max_depth': 4, 'n_estimators': 8}\n",
      "31 Washington Redskins: 2012-10-01 00:00:00\n",
      "Fitting 5 folds for each of 550 candidates, totalling 2750 fits\n"
     ]
    },
    {
     "name": "stderr",
     "output_type": "stream",
     "text": [
      "[Parallel(n_jobs=-1)]: Done  16 tasks      | elapsed:    0.1s\n",
      "[Parallel(n_jobs=-1)]: Done 1567 tasks      | elapsed:    8.0s\n",
      "[Parallel(n_jobs=-1)]: Done 2750 out of 2750 | elapsed:   14.4s finished\n",
      "[Parallel(n_jobs=-1)]: Using backend LokyBackend with 8 concurrent workers.\n"
     ]
    },
    {
     "name": "stdout",
     "output_type": "stream",
     "text": [
      "alpha: {'learning_rate': 0.3, 'loss': 'huber', 'max_depth': 2, 'n_estimators': 6}\n",
      "31 Washington Redskins: 2012-11-01 00:00:00\n",
      "Fitting 5 folds for each of 550 candidates, totalling 2750 fits\n"
     ]
    },
    {
     "name": "stderr",
     "output_type": "stream",
     "text": [
      "[Parallel(n_jobs=-1)]: Done  16 tasks      | elapsed:    0.1s\n",
      "[Parallel(n_jobs=-1)]: Done 1567 tasks      | elapsed:    7.9s\n",
      "[Parallel(n_jobs=-1)]: Done 2750 out of 2750 | elapsed:   14.2s finished\n",
      "[Parallel(n_jobs=-1)]: Using backend LokyBackend with 8 concurrent workers.\n"
     ]
    },
    {
     "name": "stdout",
     "output_type": "stream",
     "text": [
      "alpha: {'learning_rate': 0.2, 'loss': 'ls', 'max_depth': 2, 'n_estimators': 8}\n",
      "31 Washington Redskins: 2012-12-01 00:00:00\n",
      "Fitting 5 folds for each of 550 candidates, totalling 2750 fits\n"
     ]
    },
    {
     "name": "stderr",
     "output_type": "stream",
     "text": [
      "[Parallel(n_jobs=-1)]: Done  16 tasks      | elapsed:    0.2s\n",
      "[Parallel(n_jobs=-1)]: Done 1744 tasks      | elapsed:    9.3s\n",
      "[Parallel(n_jobs=-1)]: Done 2750 out of 2750 | elapsed:   14.7s finished\n",
      "[Parallel(n_jobs=-1)]: Using backend LokyBackend with 8 concurrent workers.\n"
     ]
    },
    {
     "name": "stdout",
     "output_type": "stream",
     "text": [
      "alpha: {'learning_rate': 0.5, 'loss': 'ls', 'max_depth': 2, 'n_estimators': 2}\n",
      "31 Washington Redskins: 2013-09-01 00:00:00\n",
      "Fitting 5 folds for each of 550 candidates, totalling 2750 fits\n"
     ]
    },
    {
     "name": "stderr",
     "output_type": "stream",
     "text": [
      "[Parallel(n_jobs=-1)]: Done  16 tasks      | elapsed:    0.1s\n",
      "[Parallel(n_jobs=-1)]: Done 1660 tasks      | elapsed:    8.2s\n",
      "[Parallel(n_jobs=-1)]: Done 2750 out of 2750 | elapsed:   14.3s finished\n",
      "[Parallel(n_jobs=-1)]: Using backend LokyBackend with 8 concurrent workers.\n"
     ]
    },
    {
     "name": "stdout",
     "output_type": "stream",
     "text": [
      "alpha: {'learning_rate': 0.6, 'loss': 'ls', 'max_depth': 2, 'n_estimators': 8}\n",
      "31 Washington Redskins: 2013-10-01 00:00:00\n",
      "Fitting 5 folds for each of 550 candidates, totalling 2750 fits\n"
     ]
    },
    {
     "name": "stderr",
     "output_type": "stream",
     "text": [
      "[Parallel(n_jobs=-1)]: Done  16 tasks      | elapsed:    0.2s\n",
      "[Parallel(n_jobs=-1)]: Done 1660 tasks      | elapsed:    8.8s\n",
      "[Parallel(n_jobs=-1)]: Done 2750 out of 2750 | elapsed:   15.1s finished\n",
      "[Parallel(n_jobs=-1)]: Using backend LokyBackend with 8 concurrent workers.\n"
     ]
    },
    {
     "name": "stdout",
     "output_type": "stream",
     "text": [
      "alpha: {'learning_rate': 0.15, 'loss': 'ls', 'max_depth': 2, 'n_estimators': 10}\n",
      "31 Washington Redskins: 2013-11-01 00:00:00\n",
      "Fitting 5 folds for each of 550 candidates, totalling 2750 fits\n"
     ]
    },
    {
     "name": "stderr",
     "output_type": "stream",
     "text": [
      "[Parallel(n_jobs=-1)]: Done  16 tasks      | elapsed:    0.2s\n",
      "[Parallel(n_jobs=-1)]: Done 1556 tasks      | elapsed:    7.7s\n",
      "[Parallel(n_jobs=-1)]: Done 2750 out of 2750 | elapsed:   14.1s finished\n",
      "[Parallel(n_jobs=-1)]: Using backend LokyBackend with 8 concurrent workers.\n"
     ]
    },
    {
     "name": "stdout",
     "output_type": "stream",
     "text": [
      "alpha: {'learning_rate': 0.2, 'loss': 'ls', 'max_depth': 2, 'n_estimators': 10}\n",
      "31 Washington Redskins: 2013-12-01 00:00:00\n",
      "Fitting 5 folds for each of 550 candidates, totalling 2750 fits\n"
     ]
    },
    {
     "name": "stderr",
     "output_type": "stream",
     "text": [
      "[Parallel(n_jobs=-1)]: Done  16 tasks      | elapsed:    0.1s\n",
      "[Parallel(n_jobs=-1)]: Done 1672 tasks      | elapsed:    8.6s\n",
      "[Parallel(n_jobs=-1)]: Done 2750 out of 2750 | elapsed:   14.7s finished\n",
      "[Parallel(n_jobs=-1)]: Using backend LokyBackend with 8 concurrent workers.\n"
     ]
    },
    {
     "name": "stdout",
     "output_type": "stream",
     "text": [
      "alpha: {'learning_rate': 0.4, 'loss': 'ls', 'max_depth': 2, 'n_estimators': 4}\n",
      "31 Washington Redskins: 2014-09-01 00:00:00\n",
      "Fitting 5 folds for each of 550 candidates, totalling 2750 fits\n"
     ]
    },
    {
     "name": "stderr",
     "output_type": "stream",
     "text": [
      "[Parallel(n_jobs=-1)]: Done  16 tasks      | elapsed:    0.2s\n",
      "[Parallel(n_jobs=-1)]: Done 1684 tasks      | elapsed:    9.0s\n",
      "[Parallel(n_jobs=-1)]: Done 2750 out of 2750 | elapsed:   15.0s finished\n",
      "[Parallel(n_jobs=-1)]: Using backend LokyBackend with 8 concurrent workers.\n"
     ]
    },
    {
     "name": "stdout",
     "output_type": "stream",
     "text": [
      "alpha: {'learning_rate': 0.15, 'loss': 'ls', 'max_depth': 2, 'n_estimators': 10}\n",
      "31 Washington Redskins: 2014-10-01 00:00:00\n",
      "Fitting 5 folds for each of 550 candidates, totalling 2750 fits\n"
     ]
    },
    {
     "name": "stderr",
     "output_type": "stream",
     "text": [
      "[Parallel(n_jobs=-1)]: Done  16 tasks      | elapsed:    0.1s\n",
      "[Parallel(n_jobs=-1)]: Done 1446 tasks      | elapsed:    7.8s\n",
      "[Parallel(n_jobs=-1)]: Done 2750 out of 2750 | elapsed:   14.7s finished\n",
      "[Parallel(n_jobs=-1)]: Using backend LokyBackend with 8 concurrent workers.\n"
     ]
    },
    {
     "name": "stdout",
     "output_type": "stream",
     "text": [
      "alpha: {'learning_rate': 0.15, 'loss': 'ls', 'max_depth': 2, 'n_estimators': 10}\n",
      "31 Washington Redskins: 2014-11-01 00:00:00\n",
      "Fitting 5 folds for each of 550 candidates, totalling 2750 fits\n"
     ]
    },
    {
     "name": "stderr",
     "output_type": "stream",
     "text": [
      "[Parallel(n_jobs=-1)]: Done  16 tasks      | elapsed:    0.2s\n",
      "[Parallel(n_jobs=-1)]: Done 1660 tasks      | elapsed:    8.3s\n",
      "[Parallel(n_jobs=-1)]: Done 2750 out of 2750 | elapsed:   14.5s finished\n",
      "[Parallel(n_jobs=-1)]: Using backend LokyBackend with 8 concurrent workers.\n"
     ]
    },
    {
     "name": "stdout",
     "output_type": "stream",
     "text": [
      "alpha: {'learning_rate': 0.4, 'loss': 'ls', 'max_depth': 4, 'n_estimators': 4}\n",
      "31 Washington Redskins: 2014-12-01 00:00:00\n",
      "Fitting 5 folds for each of 550 candidates, totalling 2750 fits\n"
     ]
    },
    {
     "name": "stderr",
     "output_type": "stream",
     "text": [
      "[Parallel(n_jobs=-1)]: Done  16 tasks      | elapsed:    0.1s\n",
      "[Parallel(n_jobs=-1)]: Done 1567 tasks      | elapsed:    8.1s\n",
      "[Parallel(n_jobs=-1)]: Done 2750 out of 2750 | elapsed:   14.7s finished\n",
      "[Parallel(n_jobs=-1)]: Using backend LokyBackend with 8 concurrent workers.\n"
     ]
    },
    {
     "name": "stdout",
     "output_type": "stream",
     "text": [
      "alpha: {'learning_rate': 0.5, 'loss': 'ls', 'max_depth': 2, 'n_estimators': 6}\n",
      "31 Washington Redskins: 2015-09-01 00:00:00\n",
      "Fitting 5 folds for each of 550 candidates, totalling 2750 fits\n"
     ]
    },
    {
     "name": "stderr",
     "output_type": "stream",
     "text": [
      "[Parallel(n_jobs=-1)]: Done  16 tasks      | elapsed:    0.1s\n",
      "[Parallel(n_jobs=-1)]: Done 1936 tasks      | elapsed:   10.1s\n",
      "[Parallel(n_jobs=-1)]: Done 2750 out of 2750 | elapsed:   14.5s finished\n",
      "[Parallel(n_jobs=-1)]: Using backend LokyBackend with 8 concurrent workers.\n"
     ]
    },
    {
     "name": "stdout",
     "output_type": "stream",
     "text": [
      "alpha: {'learning_rate': 0.2, 'loss': 'huber', 'max_depth': 2, 'n_estimators': 10}\n",
      "31 Washington Redskins: 2015-10-01 00:00:00\n",
      "Fitting 5 folds for each of 550 candidates, totalling 2750 fits\n"
     ]
    },
    {
     "name": "stderr",
     "output_type": "stream",
     "text": [
      "[Parallel(n_jobs=-1)]: Done  16 tasks      | elapsed:    0.2s\n",
      "[Parallel(n_jobs=-1)]: Done 1567 tasks      | elapsed:    8.9s\n",
      "[Parallel(n_jobs=-1)]: Done 2750 out of 2750 | elapsed:   16.3s finished\n",
      "[Parallel(n_jobs=-1)]: Using backend LokyBackend with 8 concurrent workers.\n"
     ]
    },
    {
     "name": "stdout",
     "output_type": "stream",
     "text": [
      "alpha: {'learning_rate': 0.2, 'loss': 'ls', 'max_depth': 2, 'n_estimators': 10}\n",
      "31 Washington Redskins: 2015-11-01 00:00:00\n",
      "Fitting 5 folds for each of 550 candidates, totalling 2750 fits\n"
     ]
    },
    {
     "name": "stderr",
     "output_type": "stream",
     "text": [
      "[Parallel(n_jobs=-1)]: Done  16 tasks      | elapsed:    0.2s\n",
      "[Parallel(n_jobs=-1)]: Done 1636 tasks      | elapsed:    8.6s\n",
      "[Parallel(n_jobs=-1)]: Done 2750 out of 2750 | elapsed:   15.0s finished\n",
      "[Parallel(n_jobs=-1)]: Using backend LokyBackend with 8 concurrent workers.\n"
     ]
    },
    {
     "name": "stdout",
     "output_type": "stream",
     "text": [
      "alpha: {'learning_rate': 0.2, 'loss': 'huber', 'max_depth': 2, 'n_estimators': 6}\n",
      "31 Washington Redskins: 2015-12-01 00:00:00\n",
      "Fitting 5 folds for each of 550 candidates, totalling 2750 fits\n"
     ]
    },
    {
     "name": "stderr",
     "output_type": "stream",
     "text": [
      "[Parallel(n_jobs=-1)]: Done  16 tasks      | elapsed:    0.1s\n",
      "[Parallel(n_jobs=-1)]: Done 1660 tasks      | elapsed:    8.4s\n",
      "[Parallel(n_jobs=-1)]: Done 2750 out of 2750 | elapsed:   14.7s finished\n",
      "[Parallel(n_jobs=-1)]: Using backend LokyBackend with 8 concurrent workers.\n"
     ]
    },
    {
     "name": "stdout",
     "output_type": "stream",
     "text": [
      "alpha: {'learning_rate': 0.3, 'loss': 'huber', 'max_depth': 2, 'n_estimators': 10}\n",
      "31 Washington Redskins: 2016-09-01 00:00:00\n",
      "Fitting 5 folds for each of 550 candidates, totalling 2750 fits\n"
     ]
    },
    {
     "name": "stderr",
     "output_type": "stream",
     "text": [
      "[Parallel(n_jobs=-1)]: Done  16 tasks      | elapsed:    0.1s\n",
      "[Parallel(n_jobs=-1)]: Done 1936 tasks      | elapsed:    9.9s\n",
      "[Parallel(n_jobs=-1)]: Done 2750 out of 2750 | elapsed:   14.4s finished\n",
      "[Parallel(n_jobs=-1)]: Using backend LokyBackend with 8 concurrent workers.\n"
     ]
    },
    {
     "name": "stdout",
     "output_type": "stream",
     "text": [
      "alpha: {'learning_rate': 0.2, 'loss': 'huber', 'max_depth': 2, 'n_estimators': 10}\n",
      "31 Washington Redskins: 2016-10-01 00:00:00\n",
      "Fitting 5 folds for each of 550 candidates, totalling 2750 fits\n"
     ]
    },
    {
     "name": "stderr",
     "output_type": "stream",
     "text": [
      "[Parallel(n_jobs=-1)]: Done  16 tasks      | elapsed:    0.1s\n",
      "[Parallel(n_jobs=-1)]: Done 1556 tasks      | elapsed:    8.0s\n",
      "[Parallel(n_jobs=-1)]: Done 2750 out of 2750 | elapsed:   14.5s finished\n",
      "[Parallel(n_jobs=-1)]: Using backend LokyBackend with 8 concurrent workers.\n"
     ]
    },
    {
     "name": "stdout",
     "output_type": "stream",
     "text": [
      "alpha: {'learning_rate': 0.15, 'loss': 'huber', 'max_depth': 2, 'n_estimators': 8}\n",
      "31 Washington Redskins: 2016-11-01 00:00:00\n",
      "Fitting 5 folds for each of 550 candidates, totalling 2750 fits\n"
     ]
    },
    {
     "name": "stderr",
     "output_type": "stream",
     "text": [
      "[Parallel(n_jobs=-1)]: Done  16 tasks      | elapsed:    0.1s\n",
      "[Parallel(n_jobs=-1)]: Done 1660 tasks      | elapsed:    8.4s\n",
      "[Parallel(n_jobs=-1)]: Done 2750 out of 2750 | elapsed:   14.5s finished\n",
      "[Parallel(n_jobs=-1)]: Using backend LokyBackend with 8 concurrent workers.\n"
     ]
    },
    {
     "name": "stdout",
     "output_type": "stream",
     "text": [
      "alpha: {'learning_rate': 0.15, 'loss': 'huber', 'max_depth': 2, 'n_estimators': 10}\n",
      "31 Washington Redskins: 2016-12-01 00:00:00\n",
      "Fitting 5 folds for each of 550 candidates, totalling 2750 fits\n"
     ]
    },
    {
     "name": "stderr",
     "output_type": "stream",
     "text": [
      "[Parallel(n_jobs=-1)]: Done  16 tasks      | elapsed:    0.2s\n",
      "[Parallel(n_jobs=-1)]: Done 1660 tasks      | elapsed:    8.2s\n",
      "[Parallel(n_jobs=-1)]: Done 2750 out of 2750 | elapsed:   14.4s finished\n",
      "[Parallel(n_jobs=-1)]: Using backend LokyBackend with 8 concurrent workers.\n"
     ]
    },
    {
     "name": "stdout",
     "output_type": "stream",
     "text": [
      "alpha: {'learning_rate': 0.6, 'loss': 'ls', 'max_depth': 2, 'n_estimators': 2}\n",
      "31 Washington Redskins: 2017-09-01 00:00:00\n",
      "Fitting 5 folds for each of 550 candidates, totalling 2750 fits\n"
     ]
    },
    {
     "name": "stderr",
     "output_type": "stream",
     "text": [
      "[Parallel(n_jobs=-1)]: Done  16 tasks      | elapsed:    0.1s\n",
      "[Parallel(n_jobs=-1)]: Done 1567 tasks      | elapsed:    8.2s\n",
      "[Parallel(n_jobs=-1)]: Done 2750 out of 2750 | elapsed:   15.5s finished\n",
      "[Parallel(n_jobs=-1)]: Using backend LokyBackend with 8 concurrent workers.\n"
     ]
    },
    {
     "name": "stdout",
     "output_type": "stream",
     "text": [
      "alpha: {'learning_rate': 0.4, 'loss': 'ls', 'max_depth': 2, 'n_estimators': 6}\n",
      "31 Washington Redskins: 2017-10-01 00:00:00\n",
      "Fitting 5 folds for each of 550 candidates, totalling 2750 fits\n"
     ]
    },
    {
     "name": "stderr",
     "output_type": "stream",
     "text": [
      "[Parallel(n_jobs=-1)]: Done  16 tasks      | elapsed:    0.2s\n",
      "[Parallel(n_jobs=-1)]: Done 1648 tasks      | elapsed:    8.9s\n",
      "[Parallel(n_jobs=-1)]: Done 2750 out of 2750 | elapsed:   15.4s finished\n",
      "[Parallel(n_jobs=-1)]: Using backend LokyBackend with 8 concurrent workers.\n"
     ]
    },
    {
     "name": "stdout",
     "output_type": "stream",
     "text": [
      "alpha: {'learning_rate': 0.4, 'loss': 'ls', 'max_depth': 2, 'n_estimators': 6}\n",
      "31 Washington Redskins: 2017-11-01 00:00:00\n",
      "Fitting 5 folds for each of 550 candidates, totalling 2750 fits\n"
     ]
    },
    {
     "name": "stderr",
     "output_type": "stream",
     "text": [
      "[Parallel(n_jobs=-1)]: Done  16 tasks      | elapsed:    0.1s\n",
      "[Parallel(n_jobs=-1)]: Done 1567 tasks      | elapsed:    8.3s\n",
      "[Parallel(n_jobs=-1)]: Done 2750 out of 2750 | elapsed:   14.9s finished\n",
      "[Parallel(n_jobs=-1)]: Using backend LokyBackend with 8 concurrent workers.\n"
     ]
    },
    {
     "name": "stdout",
     "output_type": "stream",
     "text": [
      "alpha: {'learning_rate': 0.4, 'loss': 'ls', 'max_depth': 2, 'n_estimators': 4}\n",
      "31 Washington Redskins: 2017-12-01 00:00:00\n",
      "Fitting 5 folds for each of 550 candidates, totalling 2750 fits\n"
     ]
    },
    {
     "name": "stderr",
     "output_type": "stream",
     "text": [
      "[Parallel(n_jobs=-1)]: Done  16 tasks      | elapsed:    0.2s\n",
      "[Parallel(n_jobs=-1)]: Done 1456 tasks      | elapsed:    8.7s\n",
      "[Parallel(n_jobs=-1)]: Done 2750 out of 2750 | elapsed:   16.1s finished\n",
      "[Parallel(n_jobs=-1)]: Using backend LokyBackend with 8 concurrent workers.\n"
     ]
    },
    {
     "name": "stdout",
     "output_type": "stream",
     "text": [
      "alpha: {'learning_rate': 0.2, 'loss': 'ls', 'max_depth': 2, 'n_estimators': 10}\n",
      "31 Washington Redskins: 2018-09-01 00:00:00\n",
      "Fitting 5 folds for each of 550 candidates, totalling 2750 fits\n"
     ]
    },
    {
     "name": "stderr",
     "output_type": "stream",
     "text": [
      "[Parallel(n_jobs=-1)]: Done  16 tasks      | elapsed:    0.1s\n",
      "[Parallel(n_jobs=-1)]: Done 1930 tasks      | elapsed:    9.6s\n",
      "[Parallel(n_jobs=-1)]: Done 2750 out of 2750 | elapsed:   13.8s finished\n",
      "[Parallel(n_jobs=-1)]: Using backend LokyBackend with 8 concurrent workers.\n"
     ]
    },
    {
     "name": "stdout",
     "output_type": "stream",
     "text": [
      "alpha: {'learning_rate': 0.4, 'loss': 'huber', 'max_depth': 2, 'n_estimators': 8}\n",
      "31 Washington Redskins: 2018-10-01 00:00:00\n",
      "Fitting 5 folds for each of 550 candidates, totalling 2750 fits\n"
     ]
    },
    {
     "name": "stderr",
     "output_type": "stream",
     "text": [
      "[Parallel(n_jobs=-1)]: Done  16 tasks      | elapsed:    0.2s\n",
      "[Parallel(n_jobs=-1)]: Done 1545 tasks      | elapsed:    8.3s\n",
      "[Parallel(n_jobs=-1)]: Done 2750 out of 2750 | elapsed:   14.8s finished\n",
      "[Parallel(n_jobs=-1)]: Using backend LokyBackend with 8 concurrent workers.\n"
     ]
    },
    {
     "name": "stdout",
     "output_type": "stream",
     "text": [
      "alpha: {'learning_rate': 0.5, 'loss': 'huber', 'max_depth': 4, 'n_estimators': 8}\n",
      "31 Washington Redskins: 2018-11-01 00:00:00\n",
      "Fitting 5 folds for each of 550 candidates, totalling 2750 fits\n"
     ]
    },
    {
     "name": "stderr",
     "output_type": "stream",
     "text": [
      "[Parallel(n_jobs=-1)]: Done  16 tasks      | elapsed:    0.1s\n",
      "[Parallel(n_jobs=-1)]: Done 1684 tasks      | elapsed:    8.5s\n",
      "[Parallel(n_jobs=-1)]: Done 2750 out of 2750 | elapsed:   14.1s finished\n",
      "[Parallel(n_jobs=-1)]: Using backend LokyBackend with 8 concurrent workers.\n"
     ]
    },
    {
     "name": "stdout",
     "output_type": "stream",
     "text": [
      "alpha: {'learning_rate': 0.3, 'loss': 'ls', 'max_depth': 2, 'n_estimators': 10}\n",
      "31 Washington Redskins: 2018-12-01 00:00:00\n",
      "Fitting 5 folds for each of 550 candidates, totalling 2750 fits\n"
     ]
    },
    {
     "name": "stderr",
     "output_type": "stream",
     "text": [
      "[Parallel(n_jobs=-1)]: Done  16 tasks      | elapsed:    0.1s\n",
      "[Parallel(n_jobs=-1)]: Done 1567 tasks      | elapsed:    8.1s\n",
      "[Parallel(n_jobs=-1)]: Done 2750 out of 2750 | elapsed:   14.9s finished\n",
      "[Parallel(n_jobs=-1)]: Using backend LokyBackend with 8 concurrent workers.\n"
     ]
    },
    {
     "name": "stdout",
     "output_type": "stream",
     "text": [
      "alpha: {'learning_rate': 0.2, 'loss': 'ls', 'max_depth': 2, 'n_estimators': 10}\n",
      "31 Washington Redskins: 2019-09-01 00:00:00\n",
      "Fitting 5 folds for each of 550 candidates, totalling 2750 fits\n"
     ]
    },
    {
     "name": "stderr",
     "output_type": "stream",
     "text": [
      "[Parallel(n_jobs=-1)]: Done  16 tasks      | elapsed:    0.1s\n",
      "[Parallel(n_jobs=-1)]: Done 1168 tasks      | elapsed:    6.1s\n",
      "[Parallel(n_jobs=-1)]: Done 2750 out of 2750 | elapsed:   15.1s finished\n",
      "[Parallel(n_jobs=-1)]: Using backend LokyBackend with 8 concurrent workers.\n"
     ]
    },
    {
     "name": "stdout",
     "output_type": "stream",
     "text": [
      "alpha: {'learning_rate': 0.15, 'loss': 'huber', 'max_depth': 2, 'n_estimators': 10}\n",
      "31 Washington Redskins: 2019-10-01 00:00:00\n",
      "Fitting 5 folds for each of 550 candidates, totalling 2750 fits\n"
     ]
    },
    {
     "name": "stderr",
     "output_type": "stream",
     "text": [
      "[Parallel(n_jobs=-1)]: Done  16 tasks      | elapsed:    0.2s\n",
      "[Parallel(n_jobs=-1)]: Done 1545 tasks      | elapsed:    8.8s\n",
      "[Parallel(n_jobs=-1)]: Done 2750 out of 2750 | elapsed:   15.5s finished\n",
      "[Parallel(n_jobs=-1)]: Using backend LokyBackend with 8 concurrent workers.\n"
     ]
    },
    {
     "name": "stdout",
     "output_type": "stream",
     "text": [
      "alpha: {'learning_rate': 0.4, 'loss': 'ls', 'max_depth': 2, 'n_estimators': 10}\n",
      "31 Washington Redskins: 2019-11-01 00:00:00\n",
      "Fitting 5 folds for each of 550 candidates, totalling 2750 fits\n"
     ]
    },
    {
     "name": "stderr",
     "output_type": "stream",
     "text": [
      "[Parallel(n_jobs=-1)]: Done  16 tasks      | elapsed:    0.1s\n",
      "[Parallel(n_jobs=-1)]: Done 1578 tasks      | elapsed:    7.9s\n",
      "[Parallel(n_jobs=-1)]: Done 2750 out of 2750 | elapsed:   14.2s finished\n",
      "[Parallel(n_jobs=-1)]: Using backend LokyBackend with 8 concurrent workers.\n"
     ]
    },
    {
     "name": "stdout",
     "output_type": "stream",
     "text": [
      "alpha: {'learning_rate': 0.3, 'loss': 'huber', 'max_depth': 2, 'n_estimators': 10}\n",
      "31 Washington Redskins: 2019-12-01 00:00:00\n",
      "Fitting 5 folds for each of 550 candidates, totalling 2750 fits\n"
     ]
    },
    {
     "name": "stderr",
     "output_type": "stream",
     "text": [
      "[Parallel(n_jobs=-1)]: Done  16 tasks      | elapsed:    0.1s\n",
      "[Parallel(n_jobs=-1)]: Done 1936 tasks      | elapsed:    9.9s\n"
     ]
    },
    {
     "name": "stdout",
     "output_type": "stream",
     "text": [
      "alpha: {'learning_rate': 0.3, 'loss': 'huber', 'max_depth': 2, 'n_estimators': 6}\n",
      "Wall time: 4h 16min 22s\n"
     ]
    },
    {
     "name": "stderr",
     "output_type": "stream",
     "text": [
      "[Parallel(n_jobs=-1)]: Done 2750 out of 2750 | elapsed:   14.4s finished\n"
     ]
    }
   ],
   "source": [
    "%%time\n",
    "# initialize lists to store predictions\n",
    "test_score_predictions = []\n",
    "holdout_score_predictions = []\n",
    "test_game_ids = []\n",
    "holdout_game_ids = []\n",
    "\n",
    "for i, team in enumerate(teams):\n",
    "    \n",
    "    team_test_score_predictions = []\n",
    "    team_holdout_score_predictions = []\n",
    "    team_test_game_ids = []\n",
    "    team_holdout_game_ids = []\n",
    "    \n",
    "    # start at 2012 season\n",
    "    current_date = datetime(2012,9,1)\n",
    "    stop_date = datetime(2020,1,1)\n",
    "\n",
    "    # df = master_df[master_df['Team']==team]\n",
    "    # loop through month\n",
    "    while current_date < stop_date:\n",
    "        if current_date.month == 1:\n",
    "            current_date = datetime(add_month.year, 9, 1)\n",
    "        else:\n",
    "            current_date = current_date\n",
    "        print(str(i), team+':', current_date)\n",
    "\n",
    "        month_ending = calendar.monthrange(current_date.year,current_date.month)\n",
    "        month_ending_dt = datetime(current_date.year, current_date.month, month_ending[1])\n",
    "\n",
    "        # create train/test and holdout dataframes dataframes\n",
    "        prediction_df = df[(df['Date']<current_date)&(df['Team']==team)].iloc[:,10:].drop(columns=['SPEC','SPEC_opp']).tail(80)\n",
    "        holdout_df = df[(df['Date']<=month_ending_dt)&(df['Date']>=current_date)&(df['Team']==team)].iloc[:,10:].drop(columns=['SPEC','SPEC_opp'])\n",
    "\n",
    "        # split y, X arrays\n",
    "        y = prediction_df.iloc[:,0]\n",
    "        X = prediction_df.iloc[:,1:]\n",
    "\n",
    "        # train/test split\n",
    "        X_train, X_test, y_train, y_test = train_test_split(X, y, test_size=0.2, shuffle=False, random_state=42)\n",
    "\n",
    "        # append game_ids from y_test\n",
    "        team_test_game_ids.append(y_test.index.values)\n",
    "\n",
    "        # train model - add cross validate later\n",
    "        reg = GradientBoostingRegressor().fit(X_train, y_train)\n",
    "\n",
    "        # Now Cross Validate\n",
    "        grid_search = GridSearchCV(reg, gbr_params, cv=5, scoring='neg_mean_squared_error', n_jobs=-1, verbose=3)\n",
    "        grid_search.fit(X_train, y_train)\n",
    "        print(\"alpha:\", grid_search.best_params_)\n",
    "\n",
    "        gbr_reg = GradientBoostingRegressor(\n",
    "            loss=grid_search.best_params_['loss'],\n",
    "            max_depth=grid_search.best_params_['max_depth'],\n",
    "            n_estimators=grid_search.best_params_['n_estimators'],\n",
    "            learning_rate=grid_search.best_params_['learning_rate']\n",
    "        )\n",
    "\n",
    "        # Train cross validated models\n",
    "        gbr_reg.fit(X_train, y_train)\n",
    "\n",
    "        # predict on test set\n",
    "        test_preds = gbr_reg.predict(X_test) # lars_reg for actual testing\n",
    "        # append test_preds\n",
    "        team_test_score_predictions.append(test_preds)\n",
    "\n",
    "        # grab actual scores from the holdout set\n",
    "        actual_scores = holdout_df.iloc[:,0]\n",
    "        # get holdout X dataframe\n",
    "        X_holdout = holdout_df.iloc[:,1:]\n",
    "\n",
    "        # predict on holdout set\n",
    "        holdout_preds = gbr_reg.predict(X_holdout) # lars_reg for actual testing\n",
    "        # append holdout predictions\n",
    "        team_holdout_score_predictions.append(holdout_preds)\n",
    "\n",
    "        # append game_ids from holdout set\n",
    "        team_holdout_game_ids.append(holdout_df.index.values)\n",
    "\n",
    "        days_in_month = calendar.monthrange(current_date.year, current_date.month)[1]\n",
    "        add_month = current_date + timedelta(days = days_in_month)\n",
    "\n",
    "        current_date = datetime(add_month.year, add_month.month, 1)\n",
    "        \n",
    "    team_test_score_predictions_flat = [item for sublist in team_test_score_predictions for item in sublist]\n",
    "    team_holdout_score_predictions_flat = [item for sublist in team_holdout_score_predictions for item in sublist]\n",
    "    test_game_ids_flat = [item for sublist in test_game_ids for item in sublist]\n",
    "    holdout_game_ids_flat = [item for sublist in team_holdout_game_ids for item in sublist]\n",
    "    \n",
    "    \n",
    "    test_score_predictions.append(team_test_score_predictions_flat)\n",
    "    holdout_score_predictions.append(team_holdout_score_predictions_flat)\n",
    "    test_game_ids.append(test_game_ids_flat)\n",
    "    holdout_game_ids.append(holdout_game_ids_flat)"
   ]
  },
  {
   "cell_type": "code",
   "execution_count": 140,
   "metadata": {},
   "outputs": [
    {
     "data": {
      "text/html": [
       "<div>\n",
       "<style scoped>\n",
       "    .dataframe tbody tr th:only-of-type {\n",
       "        vertical-align: middle;\n",
       "    }\n",
       "\n",
       "    .dataframe tbody tr th {\n",
       "        vertical-align: top;\n",
       "    }\n",
       "\n",
       "    .dataframe thead th {\n",
       "        text-align: right;\n",
       "    }\n",
       "</style>\n",
       "<table border=\"1\" class=\"dataframe\">\n",
       "  <thead>\n",
       "    <tr style=\"text-align: right;\">\n",
       "      <th></th>\n",
       "      <th>predicted_score</th>\n",
       "      <th>gamenum</th>\n",
       "      <th>Team</th>\n",
       "      <th>Opposing Team</th>\n",
       "      <th>Season</th>\n",
       "      <th>Week</th>\n",
       "      <th>Date</th>\n",
       "      <th>Time</th>\n",
       "      <th>H/A</th>\n",
       "      <th>W/L</th>\n",
       "      <th>PA</th>\n",
       "      <th>PF</th>\n",
       "      <th>OVR</th>\n",
       "      <th>OFF</th>\n",
       "      <th>PASS</th>\n",
       "      <th>PBLK</th>\n",
       "      <th>RECV</th>\n",
       "      <th>RUN</th>\n",
       "      <th>RBLK</th>\n",
       "      <th>DEF</th>\n",
       "      <th>RDEF</th>\n",
       "      <th>TACK</th>\n",
       "      <th>PRSH</th>\n",
       "      <th>COV</th>\n",
       "      <th>SPEC</th>\n",
       "      <th>OVR_opp</th>\n",
       "      <th>OFF_opp</th>\n",
       "      <th>PASS_opp</th>\n",
       "      <th>PBLK_opp</th>\n",
       "      <th>RECV_opp</th>\n",
       "      <th>RUN_opp</th>\n",
       "      <th>RBLK_opp</th>\n",
       "      <th>DEF_opp</th>\n",
       "      <th>RDEF_opp</th>\n",
       "      <th>TACK_opp</th>\n",
       "      <th>PRSH_opp</th>\n",
       "      <th>COV_opp</th>\n",
       "      <th>SPEC_opp</th>\n",
       "    </tr>\n",
       "  </thead>\n",
       "  <tbody>\n",
       "    <tr>\n",
       "      <td>3080</td>\n",
       "      <td>14.725165</td>\n",
       "      <td>1540</td>\n",
       "      <td>Miami Dolphins</td>\n",
       "      <td>Houston Texans</td>\n",
       "      <td>2012</td>\n",
       "      <td>1</td>\n",
       "      <td>2012-09-09</td>\n",
       "      <td>1:00pm</td>\n",
       "      <td>A</td>\n",
       "      <td>L</td>\n",
       "      <td>30</td>\n",
       "      <td>10</td>\n",
       "      <td>59.5</td>\n",
       "      <td>53.0</td>\n",
       "      <td>50.7</td>\n",
       "      <td>56.3</td>\n",
       "      <td>57.9</td>\n",
       "      <td>37.7</td>\n",
       "      <td>66.7</td>\n",
       "      <td>67.9</td>\n",
       "      <td>70.1</td>\n",
       "      <td>70.2</td>\n",
       "      <td>68.0</td>\n",
       "      <td>59.7</td>\n",
       "      <td>-</td>\n",
       "      <td>81.1</td>\n",
       "      <td>79.1</td>\n",
       "      <td>90.7</td>\n",
       "      <td>58.3</td>\n",
       "      <td>74.5</td>\n",
       "      <td>64.5</td>\n",
       "      <td>65.2</td>\n",
       "      <td>75.8</td>\n",
       "      <td>78.7</td>\n",
       "      <td>73.3</td>\n",
       "      <td>72.6</td>\n",
       "      <td>67.2</td>\n",
       "      <td>-</td>\n",
       "    </tr>\n",
       "    <tr>\n",
       "      <td>3117</td>\n",
       "      <td>22.577273</td>\n",
       "      <td>1558</td>\n",
       "      <td>Miami Dolphins</td>\n",
       "      <td>Oakland Raiders</td>\n",
       "      <td>2012</td>\n",
       "      <td>2</td>\n",
       "      <td>2012-09-16</td>\n",
       "      <td>1:00pm</td>\n",
       "      <td>H</td>\n",
       "      <td>W</td>\n",
       "      <td>13</td>\n",
       "      <td>35</td>\n",
       "      <td>79.9</td>\n",
       "      <td>82.3</td>\n",
       "      <td>76.5</td>\n",
       "      <td>78.4</td>\n",
       "      <td>69.4</td>\n",
       "      <td>84.9</td>\n",
       "      <td>70.1</td>\n",
       "      <td>69.2</td>\n",
       "      <td>90.1</td>\n",
       "      <td>55.6</td>\n",
       "      <td>69.1</td>\n",
       "      <td>55.0</td>\n",
       "      <td>-</td>\n",
       "      <td>60.0</td>\n",
       "      <td>60.4</td>\n",
       "      <td>57.0</td>\n",
       "      <td>48.7</td>\n",
       "      <td>69.7</td>\n",
       "      <td>50.3</td>\n",
       "      <td>51.0</td>\n",
       "      <td>59.5</td>\n",
       "      <td>59.3</td>\n",
       "      <td>65.8</td>\n",
       "      <td>59.6</td>\n",
       "      <td>59.2</td>\n",
       "      <td>-</td>\n",
       "    </tr>\n",
       "  </tbody>\n",
       "</table>\n",
       "</div>"
      ],
      "text/plain": [
       "      predicted_score  gamenum            Team    Opposing Team  Season  Week  \\\n",
       "3080        14.725165     1540  Miami Dolphins   Houston Texans    2012     1   \n",
       "3117        22.577273     1558  Miami Dolphins  Oakland Raiders    2012     2   \n",
       "\n",
       "           Date    Time H/A W/L  PA  PF   OVR   OFF  PASS  PBLK  RECV   RUN  \\\n",
       "3080 2012-09-09  1:00pm   A   L  30  10  59.5  53.0  50.7  56.3  57.9  37.7   \n",
       "3117 2012-09-16  1:00pm   H   W  13  35  79.9  82.3  76.5  78.4  69.4  84.9   \n",
       "\n",
       "      RBLK   DEF  RDEF  TACK  PRSH   COV SPEC  OVR_opp  OFF_opp  PASS_opp  \\\n",
       "3080  66.7  67.9  70.1  70.2  68.0  59.7    -     81.1     79.1      90.7   \n",
       "3117  70.1  69.2  90.1  55.6  69.1  55.0    -     60.0     60.4      57.0   \n",
       "\n",
       "      PBLK_opp  RECV_opp  RUN_opp  RBLK_opp  DEF_opp  RDEF_opp  TACK_opp  \\\n",
       "3080      58.3      74.5     64.5      65.2     75.8      78.7      73.3   \n",
       "3117      48.7      69.7     50.3      51.0     59.5      59.3      65.8   \n",
       "\n",
       "      PRSH_opp  COV_opp SPEC_opp  \n",
       "3080      72.6     67.2        -  \n",
       "3117      59.6     59.2        -  "
      ]
     },
     "execution_count": 140,
     "metadata": {},
     "output_type": "execute_result"
    }
   ],
   "source": [
    "# flatten list of lists\n",
    "flat_holdout_score_predictions = [item for sublist in holdout_score_predictions for item in sublist]\n",
    "flat_holdout_game_ids = [item for sublist in holdout_game_ids for item in sublist]\n",
    "flat_holdout_game_ids\n",
    "results = pd.DataFrame(data=flat_holdout_score_predictions, index=flat_holdout_game_ids, columns=['predicted_score'])\n",
    "results_merge = results.merge(df, left_index=True, right_index=True)\n",
    "results_merge.head(2)"
   ]
  },
  {
   "cell_type": "code",
   "execution_count": 129,
   "metadata": {},
   "outputs": [],
   "source": [
    "# results_merge.sort_values(by='gamenum')"
   ]
  },
  {
   "cell_type": "code",
   "execution_count": 141,
   "metadata": {},
   "outputs": [
    {
     "data": {
      "text/plain": [
       "8.373424374466406"
      ]
     },
     "execution_count": 141,
     "metadata": {},
     "output_type": "execute_result"
    }
   ],
   "source": [
    "from sklearn.metrics import mean_squared_error\n",
    "math.sqrt(mean_squared_error(results_merge['predicted_score'].values, results_merge['PF'].values))"
   ]
  },
  {
   "cell_type": "code",
   "execution_count": 142,
   "metadata": {},
   "outputs": [
    {
     "name": "stdout",
     "output_type": "stream",
     "text": [
      "0.7643849206349206\n"
     ]
    },
    {
     "data": {
      "text/html": [
       "<div>\n",
       "<style scoped>\n",
       "    .dataframe tbody tr th:only-of-type {\n",
       "        vertical-align: middle;\n",
       "    }\n",
       "\n",
       "    .dataframe tbody tr th {\n",
       "        vertical-align: top;\n",
       "    }\n",
       "\n",
       "    .dataframe thead th {\n",
       "        text-align: right;\n",
       "    }\n",
       "</style>\n",
       "<table border=\"1\" class=\"dataframe\">\n",
       "  <thead>\n",
       "    <tr style=\"text-align: right;\">\n",
       "      <th></th>\n",
       "      <th>predicted_score_home</th>\n",
       "      <th>gamenum</th>\n",
       "      <th>Team</th>\n",
       "      <th>Opposing Team_home</th>\n",
       "      <th>Season</th>\n",
       "      <th>Week</th>\n",
       "      <th>Date</th>\n",
       "      <th>Time</th>\n",
       "      <th>H/A</th>\n",
       "      <th>W/L</th>\n",
       "      <th>PA</th>\n",
       "      <th>PF</th>\n",
       "      <th>Opposing Team_away</th>\n",
       "      <th>predicted_score_away</th>\n",
       "      <th>point_diff</th>\n",
       "      <th>predicted_results</th>\n",
       "    </tr>\n",
       "  </thead>\n",
       "  <tbody>\n",
       "    <tr>\n",
       "      <td>2014</td>\n",
       "      <td>23.286070</td>\n",
       "      <td>3544</td>\n",
       "      <td>Washington Redskins</td>\n",
       "      <td>Philadelphia Eagles</td>\n",
       "      <td>2019</td>\n",
       "      <td>15</td>\n",
       "      <td>2019-12-15</td>\n",
       "      <td>1:00pm</td>\n",
       "      <td>H</td>\n",
       "      <td>L</td>\n",
       "      <td>37</td>\n",
       "      <td>27</td>\n",
       "      <td>Washington Redskins</td>\n",
       "      <td>22.884510</td>\n",
       "      <td>0.401559</td>\n",
       "      <td>W</td>\n",
       "    </tr>\n",
       "    <tr>\n",
       "      <td>2015</td>\n",
       "      <td>30.830184</td>\n",
       "      <td>3561</td>\n",
       "      <td>Washington Redskins</td>\n",
       "      <td>New York Giants</td>\n",
       "      <td>2019</td>\n",
       "      <td>16</td>\n",
       "      <td>2019-12-22</td>\n",
       "      <td>1:00pm</td>\n",
       "      <td>H</td>\n",
       "      <td>L</td>\n",
       "      <td>41</td>\n",
       "      <td>35</td>\n",
       "      <td>Washington Redskins</td>\n",
       "      <td>29.823147</td>\n",
       "      <td>1.007037</td>\n",
       "      <td>W</td>\n",
       "    </tr>\n",
       "  </tbody>\n",
       "</table>\n",
       "</div>"
      ],
      "text/plain": [
       "      predicted_score_home  gamenum                 Team   Opposing Team_home  \\\n",
       "2014             23.286070     3544  Washington Redskins  Philadelphia Eagles   \n",
       "2015             30.830184     3561  Washington Redskins      New York Giants   \n",
       "\n",
       "      Season  Week       Date    Time H/A W/L  PA  PF   Opposing Team_away  \\\n",
       "2014    2019    15 2019-12-15  1:00pm   H   L  37  27  Washington Redskins   \n",
       "2015    2019    16 2019-12-22  1:00pm   H   L  41  35  Washington Redskins   \n",
       "\n",
       "      predicted_score_away  point_diff predicted_results  \n",
       "2014             22.884510    0.401559                 W  \n",
       "2015             29.823147    1.007037                 W  "
      ]
     },
     "execution_count": 142,
     "metadata": {},
     "output_type": "execute_result"
    }
   ],
   "source": [
    "def predicted_results(s):\n",
    "    if s < 0:\n",
    "        x = 'L'\n",
    "    elif s > 0:\n",
    "        x = 'W'\n",
    "    return x\n",
    "\n",
    "def predicted_win_loss(s1, s2):\n",
    "    if s1 == s2:\n",
    "        x = 1\n",
    "    elif s1 != s2:\n",
    "        x = 0\n",
    "    return x\n",
    "\n",
    "# merge results and keep home team rows\n",
    "analysis = results_merge[results_merge['H/A']=='H'].iloc[:,0:12].merge(results_merge[['gamenum','Opposing Team','predicted_score']], \n",
    "                                            left_on=['gamenum','Team'], \n",
    "                                            right_on=['gamenum','Opposing Team'], \n",
    "                                            suffixes=['_home','_away']).drop_duplicates(subset='gamenum', keep=\"last\")\n",
    "\n",
    "analysis['point_diff'] = analysis['predicted_score_home'] - analysis['predicted_score_away']\n",
    "analysis['predicted_results'] = analysis['point_diff'].apply(predicted_results)\n",
    "\n",
    "print(analysis.apply(lambda x: predicted_win_loss(x['W/L'], x['predicted_results']), axis=1).sum() / len(analysis))\n",
    "analysis.tail(2)"
   ]
  },
  {
   "cell_type": "code",
   "execution_count": 143,
   "metadata": {},
   "outputs": [
    {
     "data": {
      "text/html": [
       "<div>\n",
       "<style scoped>\n",
       "    .dataframe tbody tr th:only-of-type {\n",
       "        vertical-align: middle;\n",
       "    }\n",
       "\n",
       "    .dataframe tbody tr th {\n",
       "        vertical-align: top;\n",
       "    }\n",
       "\n",
       "    .dataframe thead th {\n",
       "        text-align: right;\n",
       "    }\n",
       "</style>\n",
       "<table border=\"1\" class=\"dataframe\">\n",
       "  <thead>\n",
       "    <tr style=\"text-align: right;\">\n",
       "      <th></th>\n",
       "      <th>predicted_score_home</th>\n",
       "      <th>gamenum</th>\n",
       "      <th>Team</th>\n",
       "      <th>Opposing Team_home</th>\n",
       "      <th>Season</th>\n",
       "      <th>Week</th>\n",
       "      <th>Date</th>\n",
       "      <th>Time</th>\n",
       "      <th>H/A</th>\n",
       "      <th>W/L</th>\n",
       "      <th>PA</th>\n",
       "      <th>PF</th>\n",
       "      <th>Opposing Team_away</th>\n",
       "      <th>predicted_score_away</th>\n",
       "      <th>point_diff</th>\n",
       "      <th>predicted_results</th>\n",
       "    </tr>\n",
       "  </thead>\n",
       "  <tbody>\n",
       "    <tr>\n",
       "      <td>1700</td>\n",
       "      <td>19.542325</td>\n",
       "      <td>1536</td>\n",
       "      <td>New York Giants</td>\n",
       "      <td>Dallas Cowboys</td>\n",
       "      <td>2012</td>\n",
       "      <td>1</td>\n",
       "      <td>2012-09-05</td>\n",
       "      <td>8:30pm</td>\n",
       "      <td>H</td>\n",
       "      <td>L</td>\n",
       "      <td>24</td>\n",
       "      <td>17</td>\n",
       "      <td>New York Giants</td>\n",
       "      <td>32.183475</td>\n",
       "      <td>-12.641150</td>\n",
       "      <td>L</td>\n",
       "    </tr>\n",
       "    <tr>\n",
       "      <td>1385</td>\n",
       "      <td>34.343439</td>\n",
       "      <td>1537</td>\n",
       "      <td>Chicago Bears</td>\n",
       "      <td>Indianapolis Colts</td>\n",
       "      <td>2012</td>\n",
       "      <td>1</td>\n",
       "      <td>2012-09-09</td>\n",
       "      <td>1:00pm</td>\n",
       "      <td>H</td>\n",
       "      <td>W</td>\n",
       "      <td>21</td>\n",
       "      <td>41</td>\n",
       "      <td>Chicago Bears</td>\n",
       "      <td>22.385297</td>\n",
       "      <td>11.958142</td>\n",
       "      <td>W</td>\n",
       "    </tr>\n",
       "    <tr>\n",
       "      <td>314</td>\n",
       "      <td>10.040000</td>\n",
       "      <td>1538</td>\n",
       "      <td>Cleveland Browns</td>\n",
       "      <td>Philadelphia Eagles</td>\n",
       "      <td>2012</td>\n",
       "      <td>1</td>\n",
       "      <td>2012-09-09</td>\n",
       "      <td>1:00pm</td>\n",
       "      <td>H</td>\n",
       "      <td>L</td>\n",
       "      <td>17</td>\n",
       "      <td>16</td>\n",
       "      <td>Cleveland Browns</td>\n",
       "      <td>24.442822</td>\n",
       "      <td>-14.402822</td>\n",
       "      <td>L</td>\n",
       "    </tr>\n",
       "    <tr>\n",
       "      <td>441</td>\n",
       "      <td>20.262236</td>\n",
       "      <td>1539</td>\n",
       "      <td>Detroit Lions</td>\n",
       "      <td>Los Angeles Rams</td>\n",
       "      <td>2012</td>\n",
       "      <td>1</td>\n",
       "      <td>2012-09-09</td>\n",
       "      <td>1:00pm</td>\n",
       "      <td>H</td>\n",
       "      <td>W</td>\n",
       "      <td>23</td>\n",
       "      <td>27</td>\n",
       "      <td>Detroit Lions</td>\n",
       "      <td>26.996438</td>\n",
       "      <td>-6.734202</td>\n",
       "      <td>L</td>\n",
       "    </tr>\n",
       "    <tr>\n",
       "      <td>567</td>\n",
       "      <td>24.832690</td>\n",
       "      <td>1540</td>\n",
       "      <td>Houston Texans</td>\n",
       "      <td>Miami Dolphins</td>\n",
       "      <td>2012</td>\n",
       "      <td>1</td>\n",
       "      <td>2012-09-09</td>\n",
       "      <td>1:00pm</td>\n",
       "      <td>H</td>\n",
       "      <td>W</td>\n",
       "      <td>10</td>\n",
       "      <td>30</td>\n",
       "      <td>Houston Texans</td>\n",
       "      <td>14.725165</td>\n",
       "      <td>10.107525</td>\n",
       "      <td>W</td>\n",
       "    </tr>\n",
       "    <tr>\n",
       "      <td>...</td>\n",
       "      <td>...</td>\n",
       "      <td>...</td>\n",
       "      <td>...</td>\n",
       "      <td>...</td>\n",
       "      <td>...</td>\n",
       "      <td>...</td>\n",
       "      <td>...</td>\n",
       "      <td>...</td>\n",
       "      <td>...</td>\n",
       "      <td>...</td>\n",
       "      <td>...</td>\n",
       "      <td>...</td>\n",
       "      <td>...</td>\n",
       "      <td>...</td>\n",
       "      <td>...</td>\n",
       "      <td>...</td>\n",
       "    </tr>\n",
       "    <tr>\n",
       "      <td>629</td>\n",
       "      <td>25.744500</td>\n",
       "      <td>3579</td>\n",
       "      <td>Houston Texans</td>\n",
       "      <td>Tennessee Titans</td>\n",
       "      <td>2019</td>\n",
       "      <td>17</td>\n",
       "      <td>2019-12-29</td>\n",
       "      <td>4:25pm</td>\n",
       "      <td>H</td>\n",
       "      <td>L</td>\n",
       "      <td>35</td>\n",
       "      <td>14</td>\n",
       "      <td>Houston Texans</td>\n",
       "      <td>34.115879</td>\n",
       "      <td>-8.371379</td>\n",
       "      <td>L</td>\n",
       "    </tr>\n",
       "    <tr>\n",
       "      <td>1637</td>\n",
       "      <td>20.716700</td>\n",
       "      <td>3580</td>\n",
       "      <td>Jacksonville Jaguars</td>\n",
       "      <td>Indianapolis Colts</td>\n",
       "      <td>2019</td>\n",
       "      <td>17</td>\n",
       "      <td>2019-12-29</td>\n",
       "      <td>4:25pm</td>\n",
       "      <td>H</td>\n",
       "      <td>W</td>\n",
       "      <td>20</td>\n",
       "      <td>38</td>\n",
       "      <td>Jacksonville Jaguars</td>\n",
       "      <td>19.177993</td>\n",
       "      <td>1.538707</td>\n",
       "      <td>W</td>\n",
       "    </tr>\n",
       "    <tr>\n",
       "      <td>879</td>\n",
       "      <td>31.720771</td>\n",
       "      <td>3581</td>\n",
       "      <td>Los Angeles Rams</td>\n",
       "      <td>Arizona Cardinals</td>\n",
       "      <td>2019</td>\n",
       "      <td>17</td>\n",
       "      <td>2019-12-29</td>\n",
       "      <td>4:25pm</td>\n",
       "      <td>H</td>\n",
       "      <td>W</td>\n",
       "      <td>24</td>\n",
       "      <td>31</td>\n",
       "      <td>Los Angeles Rams</td>\n",
       "      <td>30.629686</td>\n",
       "      <td>1.091086</td>\n",
       "      <td>W</td>\n",
       "    </tr>\n",
       "    <tr>\n",
       "      <td>1762</td>\n",
       "      <td>15.039931</td>\n",
       "      <td>3582</td>\n",
       "      <td>New York Giants</td>\n",
       "      <td>Philadelphia Eagles</td>\n",
       "      <td>2019</td>\n",
       "      <td>17</td>\n",
       "      <td>2019-12-29</td>\n",
       "      <td>4:25pm</td>\n",
       "      <td>H</td>\n",
       "      <td>L</td>\n",
       "      <td>34</td>\n",
       "      <td>17</td>\n",
       "      <td>New York Giants</td>\n",
       "      <td>30.602887</td>\n",
       "      <td>-15.562956</td>\n",
       "      <td>L</td>\n",
       "    </tr>\n",
       "    <tr>\n",
       "      <td>440</td>\n",
       "      <td>23.101867</td>\n",
       "      <td>3583</td>\n",
       "      <td>Seattle Seahawks</td>\n",
       "      <td>San Francisco 49Ers</td>\n",
       "      <td>2019</td>\n",
       "      <td>17</td>\n",
       "      <td>2019-12-29</td>\n",
       "      <td>8:20pm</td>\n",
       "      <td>H</td>\n",
       "      <td>L</td>\n",
       "      <td>26</td>\n",
       "      <td>21</td>\n",
       "      <td>Seattle Seahawks</td>\n",
       "      <td>27.448933</td>\n",
       "      <td>-4.347065</td>\n",
       "      <td>L</td>\n",
       "    </tr>\n",
       "  </tbody>\n",
       "</table>\n",
       "<p>2016 rows × 16 columns</p>\n",
       "</div>"
      ],
      "text/plain": [
       "      predicted_score_home  gamenum                  Team  \\\n",
       "1700             19.542325     1536       New York Giants   \n",
       "1385             34.343439     1537         Chicago Bears   \n",
       "314              10.040000     1538      Cleveland Browns   \n",
       "441              20.262236     1539         Detroit Lions   \n",
       "567              24.832690     1540        Houston Texans   \n",
       "...                    ...      ...                   ...   \n",
       "629              25.744500     3579        Houston Texans   \n",
       "1637             20.716700     3580  Jacksonville Jaguars   \n",
       "879              31.720771     3581      Los Angeles Rams   \n",
       "1762             15.039931     3582       New York Giants   \n",
       "440              23.101867     3583      Seattle Seahawks   \n",
       "\n",
       "       Opposing Team_home  Season  Week       Date    Time H/A W/L  PA  PF  \\\n",
       "1700       Dallas Cowboys    2012     1 2012-09-05  8:30pm   H   L  24  17   \n",
       "1385   Indianapolis Colts    2012     1 2012-09-09  1:00pm   H   W  21  41   \n",
       "314   Philadelphia Eagles    2012     1 2012-09-09  1:00pm   H   L  17  16   \n",
       "441      Los Angeles Rams    2012     1 2012-09-09  1:00pm   H   W  23  27   \n",
       "567        Miami Dolphins    2012     1 2012-09-09  1:00pm   H   W  10  30   \n",
       "...                   ...     ...   ...        ...     ...  ..  ..  ..  ..   \n",
       "629      Tennessee Titans    2019    17 2019-12-29  4:25pm   H   L  35  14   \n",
       "1637   Indianapolis Colts    2019    17 2019-12-29  4:25pm   H   W  20  38   \n",
       "879     Arizona Cardinals    2019    17 2019-12-29  4:25pm   H   W  24  31   \n",
       "1762  Philadelphia Eagles    2019    17 2019-12-29  4:25pm   H   L  34  17   \n",
       "440   San Francisco 49Ers    2019    17 2019-12-29  8:20pm   H   L  26  21   \n",
       "\n",
       "        Opposing Team_away  predicted_score_away  point_diff predicted_results  \n",
       "1700       New York Giants             32.183475  -12.641150                 L  \n",
       "1385         Chicago Bears             22.385297   11.958142                 W  \n",
       "314       Cleveland Browns             24.442822  -14.402822                 L  \n",
       "441          Detroit Lions             26.996438   -6.734202                 L  \n",
       "567         Houston Texans             14.725165   10.107525                 W  \n",
       "...                    ...                   ...         ...               ...  \n",
       "629         Houston Texans             34.115879   -8.371379                 L  \n",
       "1637  Jacksonville Jaguars             19.177993    1.538707                 W  \n",
       "879       Los Angeles Rams             30.629686    1.091086                 W  \n",
       "1762       New York Giants             30.602887  -15.562956                 L  \n",
       "440       Seattle Seahawks             27.448933   -4.347065                 L  \n",
       "\n",
       "[2016 rows x 16 columns]"
      ]
     },
     "execution_count": 143,
     "metadata": {},
     "output_type": "execute_result"
    }
   ],
   "source": [
    "analysis.sort_values(by=['gamenum','Team'])"
   ]
  }
 ],
 "metadata": {
  "kernelspec": {
   "display_name": "p36workshop",
   "language": "python",
   "name": "p36workshop"
  },
  "language_info": {
   "codemirror_mode": {
    "name": "ipython",
    "version": 3
   },
   "file_extension": ".py",
   "mimetype": "text/x-python",
   "name": "python",
   "nbconvert_exporter": "python",
   "pygments_lexer": "ipython3",
   "version": "3.6.8"
  }
 },
 "nbformat": 4,
 "nbformat_minor": 2
}
