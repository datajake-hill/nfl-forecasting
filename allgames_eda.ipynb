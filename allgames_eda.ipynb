{
 "cells": [
  {
   "cell_type": "code",
   "execution_count": null,
   "metadata": {},
   "outputs": [],
   "source": [
    "import numpy as np\n",
    "import pandas as pd\n",
    "from datetime import datetime\n",
    "from matplotlib import pyplot as plt\n",
    "\n",
    "pd.set_option('display.max_columns', None)\n",
    "\n",
    "import warnings\n",
    "warnings.filterwarnings('ignore')"
   ]
  },
  {
   "cell_type": "code",
   "execution_count": null,
   "metadata": {},
   "outputs": [],
   "source": [
    "all_games_12_29 = pd.read_csv('allgames_12_29.csv', index_col=0)\n",
    "future_12_29 = pd.read_csv('future_12_29.csv', index_col=0)\n",
    "future_1_45 = pd.read_csv('future_1_45.csv', index_col=0)\n",
    "future_1_1112 = pd.read_csv('future_1_1112.csv', index_col=0)"
   ]
  },
  {
   "cell_type": "code",
   "execution_count": null,
   "metadata": {},
   "outputs": [],
   "source": [
    "all_games_12_29 = all_games_12_29[all_games_12_29['W/L']!='-'].sort_values(by=['GameNum','H/A'])\n",
    "all_games_12_29.head(4)"
   ]
  },
  {
   "cell_type": "code",
   "execution_count": null,
   "metadata": {},
   "outputs": [],
   "source": [
    "all_games = all_games_12_29.merge(all_games_12_29, left_on=['GameNum','Team'], right_on=['GameNum','Team'], suffixes=['','_opp'])"
   ]
  },
  {
   "cell_type": "code",
   "execution_count": null,
   "metadata": {},
   "outputs": [],
   "source": [
    "all_games['H/A'] = all_games['H/A'].map(dict(H=1, A=0))"
   ]
  },
  {
   "cell_type": "code",
   "execution_count": null,
   "metadata": {},
   "outputs": [],
   "source": [
    "all_games.columns"
   ]
  },
  {
   "cell_type": "code",
   "execution_count": null,
   "metadata": {},
   "outputs": [],
   "source": [
    "df = all_games[['GameNum', 'Team', 'Opposing Team', 'Date', 'Time', 'W/L', 'PF', 'PA', 'H/A', 'Week', 'Season',\n",
    "            'OVR', 'OFF', 'PASS', 'PBLK', 'RECV', 'RUN', 'RBLK', 'DEF', 'RDEF', 'TACK', 'PRSH',\n",
    "            'COV', 'SPEC', 'OVR_opp', 'OFF_opp', 'PASS_opp', 'PBLK_opp', 'RECV_opp',\n",
    "            'RUN_opp', 'RBLK_opp', 'DEF_opp', 'RDEF_opp', 'TACK_opp', 'PRSH_opp',\n",
    "            'COV_opp', 'SPEC_opp']].drop(columns=['SPEC', 'SPEC_opp'])\n",
    "df.head(2)"
   ]
  },
  {
   "cell_type": "code",
   "execution_count": null,
   "metadata": {},
   "outputs": [],
   "source": [
    "df.iloc[:, 11:]"
   ]
  },
  {
   "cell_type": "code",
   "execution_count": null,
   "metadata": {},
   "outputs": [],
   "source": [
    "X = df.iloc[:, 11:]\n",
    "y = df['PF']"
   ]
  },
  {
   "cell_type": "code",
   "execution_count": null,
   "metadata": {},
   "outputs": [],
   "source": [
    "import statsmodels.api as sm\n",
    "import statsmodels.formula.api as smf\n",
    "\n",
    "results = smf.ols('PF ~ OVR', data=df).fit()\n",
    "results.summary()"
   ]
  }
 ],
 "metadata": {
  "kernelspec": {
   "display_name": "p36workshop",
   "language": "python",
   "name": "p36workshop"
  },
  "language_info": {
   "codemirror_mode": {
    "name": "ipython",
    "version": 3
   },
   "file_extension": ".py",
   "mimetype": "text/x-python",
   "name": "python",
   "nbconvert_exporter": "python",
   "pygments_lexer": "ipython3",
   "version": "3.6.8"
  }
 },
 "nbformat": 4,
 "nbformat_minor": 2
}
