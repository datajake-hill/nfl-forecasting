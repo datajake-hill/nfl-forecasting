{
 "cells": [
  {
   "cell_type": "code",
   "execution_count": 1,
   "metadata": {},
   "outputs": [],
   "source": [
    "import numpy as np\n",
    "import pandas as pd\n",
    "from datetime import datetime\n",
    "from matplotlib import pyplot as plt\n",
    "\n",
    "pd.set_option('display.max_columns', None)\n",
    "\n",
    "import warnings\n",
    "warnings.filterwarnings('ignore')"
   ]
  },
  {
   "cell_type": "code",
   "execution_count": 17,
   "metadata": {},
   "outputs": [
    {
     "data": {
      "text/html": [
       "<div>\n",
       "<style scoped>\n",
       "    .dataframe tbody tr th:only-of-type {\n",
       "        vertical-align: middle;\n",
       "    }\n",
       "\n",
       "    .dataframe tbody tr th {\n",
       "        vertical-align: top;\n",
       "    }\n",
       "\n",
       "    .dataframe thead th {\n",
       "        text-align: right;\n",
       "    }\n",
       "</style>\n",
       "<table border=\"1\" class=\"dataframe\">\n",
       "  <thead>\n",
       "    <tr style=\"text-align: right;\">\n",
       "      <th></th>\n",
       "      <th>Team</th>\n",
       "      <th>Opposing Team</th>\n",
       "      <th>Season</th>\n",
       "      <th>Week</th>\n",
       "      <th>Date</th>\n",
       "      <th>Time</th>\n",
       "      <th>H/A</th>\n",
       "      <th>W/L</th>\n",
       "      <th>PF</th>\n",
       "      <th>PA</th>\n",
       "      <th>OVR</th>\n",
       "      <th>OFF</th>\n",
       "      <th>PASS</th>\n",
       "      <th>PBLK</th>\n",
       "      <th>RECV</th>\n",
       "      <th>RUN</th>\n",
       "      <th>RBLK</th>\n",
       "      <th>DEF</th>\n",
       "      <th>RDEF</th>\n",
       "      <th>TACK</th>\n",
       "      <th>PRSH</th>\n",
       "      <th>COV</th>\n",
       "      <th>SPEC</th>\n",
       "      <th>OVR_opp</th>\n",
       "      <th>OFF_opp</th>\n",
       "      <th>PASS_opp</th>\n",
       "      <th>PBLK_opp</th>\n",
       "      <th>RECV_opp</th>\n",
       "      <th>RUN_opp</th>\n",
       "      <th>RBLK_opp</th>\n",
       "      <th>DEF_opp</th>\n",
       "      <th>RDEF_opp</th>\n",
       "      <th>TACK_opp</th>\n",
       "      <th>PRSH_opp</th>\n",
       "      <th>COV_opp</th>\n",
       "      <th>SPEC_opp</th>\n",
       "    </tr>\n",
       "  </thead>\n",
       "  <tbody>\n",
       "    <tr>\n",
       "      <td>0</td>\n",
       "      <td>Arizona Cardinals</td>\n",
       "      <td>San Francisco 49Ers</td>\n",
       "      <td>2006</td>\n",
       "      <td>1</td>\n",
       "      <td>09/10/2006</td>\n",
       "      <td>4:15pm</td>\n",
       "      <td>H</td>\n",
       "      <td>W</td>\n",
       "      <td>34</td>\n",
       "      <td>27</td>\n",
       "      <td>72.5</td>\n",
       "      <td>72.6</td>\n",
       "      <td>75.5</td>\n",
       "      <td>72.4</td>\n",
       "      <td>76.5</td>\n",
       "      <td>47.4</td>\n",
       "      <td>65.6</td>\n",
       "      <td>67.7</td>\n",
       "      <td>69.8</td>\n",
       "      <td>37.5</td>\n",
       "      <td>56.2</td>\n",
       "      <td>70.7</td>\n",
       "      <td>-</td>\n",
       "      <td>63.8</td>\n",
       "      <td>64.7</td>\n",
       "      <td>54.5</td>\n",
       "      <td>83.6</td>\n",
       "      <td>62.0</td>\n",
       "      <td>67.4</td>\n",
       "      <td>63.6</td>\n",
       "      <td>61.4</td>\n",
       "      <td>63.2</td>\n",
       "      <td>32.0</td>\n",
       "      <td>69.0</td>\n",
       "      <td>53.8</td>\n",
       "      <td>-</td>\n",
       "    </tr>\n",
       "    <tr>\n",
       "      <td>1</td>\n",
       "      <td>Arizona Cardinals</td>\n",
       "      <td>Seattle Seahawks</td>\n",
       "      <td>2006</td>\n",
       "      <td>2</td>\n",
       "      <td>09/17/2006</td>\n",
       "      <td>4:05pm</td>\n",
       "      <td>A</td>\n",
       "      <td>L</td>\n",
       "      <td>10</td>\n",
       "      <td>21</td>\n",
       "      <td>48.0</td>\n",
       "      <td>50.1</td>\n",
       "      <td>27.9</td>\n",
       "      <td>57.1</td>\n",
       "      <td>65.3</td>\n",
       "      <td>59.7</td>\n",
       "      <td>62.1</td>\n",
       "      <td>49.8</td>\n",
       "      <td>38.3</td>\n",
       "      <td>44.7</td>\n",
       "      <td>60.5</td>\n",
       "      <td>62.3</td>\n",
       "      <td>-</td>\n",
       "      <td>80.2</td>\n",
       "      <td>70.2</td>\n",
       "      <td>56.5</td>\n",
       "      <td>68.6</td>\n",
       "      <td>57.6</td>\n",
       "      <td>63.5</td>\n",
       "      <td>85.4</td>\n",
       "      <td>85.5</td>\n",
       "      <td>72.8</td>\n",
       "      <td>61.2</td>\n",
       "      <td>73.4</td>\n",
       "      <td>84.0</td>\n",
       "      <td>-</td>\n",
       "    </tr>\n",
       "  </tbody>\n",
       "</table>\n",
       "</div>"
      ],
      "text/plain": [
       "                Team        Opposing Team  Season Week        Date    Time  \\\n",
       "0  Arizona Cardinals  San Francisco 49Ers    2006    1  09/10/2006  4:15pm   \n",
       "1  Arizona Cardinals     Seattle Seahawks    2006    2  09/17/2006  4:05pm   \n",
       "\n",
       "  H/A W/L  PF  PA   OVR   OFF  PASS  PBLK  RECV   RUN  RBLK   DEF  RDEF  TACK  \\\n",
       "0   H   W  34  27  72.5  72.6  75.5  72.4  76.5  47.4  65.6  67.7  69.8  37.5   \n",
       "1   A   L  10  21  48.0  50.1  27.9  57.1  65.3  59.7  62.1  49.8  38.3  44.7   \n",
       "\n",
       "   PRSH   COV SPEC  OVR_opp  OFF_opp  PASS_opp  PBLK_opp  RECV_opp  RUN_opp  \\\n",
       "0  56.2  70.7    -     63.8     64.7      54.5      83.6      62.0     67.4   \n",
       "1  60.5  62.3    -     80.2     70.2      56.5      68.6      57.6     63.5   \n",
       "\n",
       "   RBLK_opp  DEF_opp  RDEF_opp  TACK_opp  PRSH_opp  COV_opp SPEC_opp  \n",
       "0      63.6     61.4      63.2      32.0      69.0     53.8        -  \n",
       "1      85.4     85.5      72.8      61.2      73.4     84.0        -  "
      ]
     },
     "execution_count": 17,
     "metadata": {},
     "output_type": "execute_result"
    }
   ],
   "source": [
    "pff = pd.read_csv('pff.csv', index_col=0)\n",
    "pff.head(2)"
   ]
  },
  {
   "cell_type": "code",
   "execution_count": 18,
   "metadata": {},
   "outputs": [],
   "source": [
    "import datetime\n",
    "def get_date(s):\n",
    "    r = datetime.datetime.strptime(s, \"%m/%d/%Y\")\n",
    "    return r\n",
    "pff['Date'] = pff['Date'].apply(get_date)"
   ]
  },
  {
   "cell_type": "code",
   "execution_count": 37,
   "metadata": {},
   "outputs": [],
   "source": [
    "team = 'Dallas Cowboys'\n",
    "season = 2019\n",
    "test_stat = 'OFF'\n",
    "opp_test_stat = 'DEF_opp'"
   ]
  },
  {
   "cell_type": "code",
   "execution_count": 38,
   "metadata": {},
   "outputs": [
    {
     "data": {
      "text/plain": [
       "<matplotlib.lines.Line2D at 0x2c2a5536e48>"
      ]
     },
     "execution_count": 38,
     "metadata": {},
     "output_type": "execute_result"
    },
    {
     "data": {
      "image/png": "[encoded data removed]",
      "text/plain": [
       "<Figure size 576x432 with 1 Axes>"
      ]
     },
     "metadata": {},
     "output_type": "display_data"
    }
   ],
   "source": [
    "# https://matplotlib.org/3.1.1/gallery/style_sheets/ggplot.html\n",
    "plt.style.use('ggplot')\n",
    "fig = plt.figure(figsize=(8, 6))\n",
    "\n",
    "data = pff[(pff['Team']==team)&(pff['Season']==season)].set_index('Date').sort_values(by='Date')[test_stat]\n",
    "\n",
    "data.plot(kind='bar')\n",
    "plt.axhline(y=data.mean(), c='grey', linestyle='--')"
   ]
  },
  {
   "cell_type": "code",
   "execution_count": 39,
   "metadata": {},
   "outputs": [
    {
     "data": {
      "text/plain": [
       "<matplotlib.lines.Line2D at 0x2c2a5de5a58>"
      ]
     },
     "execution_count": 39,
     "metadata": {},
     "output_type": "execute_result"
    },
    {
     "data": {
      "image/png": "[encoded data removed]",
      "text/plain": [
       "<Figure size 576x432 with 1 Axes>"
      ]
     },
     "metadata": {},
     "output_type": "display_data"
    }
   ],
   "source": [
    "# https://matplotlib.org/3.1.1/gallery/style_sheets/ggplot.html\n",
    "plt.style.use('ggplot')\n",
    "fig = plt.figure(figsize=(8, 6))\n",
    "\n",
    "data = pff[(pff['Team']==team)&(pff['Season']==season)].set_index('Date').sort_values(by='Date')[opp_test_stat]\n",
    "\n",
    "data.plot(kind='bar')\n",
    "plt.axhline(y=data.mean(), c='grey', linestyle='--')"
   ]
  },
  {
   "cell_type": "code",
   "execution_count": 42,
   "metadata": {},
   "outputs": [],
   "source": [
    "# fig, ax = plt.subplots(figsize=(8,6))\n",
    "# need to learn how to plot multiple bars in one graph"
   ]
  }
 ],
 "metadata": {
  "kernelspec": {
   "display_name": "p36workshop",
   "language": "python",
   "name": "p36workshop"
  },
  "language_info": {
   "codemirror_mode": {
    "name": "ipython",
    "version": 3
   },
   "file_extension": ".py",
   "mimetype": "text/x-python",
   "name": "python",
   "nbconvert_exporter": "python",
   "pygments_lexer": "ipython3",
   "version": "3.6.8"
  }
 },
 "nbformat": 4,
 "nbformat_minor": 2
}
